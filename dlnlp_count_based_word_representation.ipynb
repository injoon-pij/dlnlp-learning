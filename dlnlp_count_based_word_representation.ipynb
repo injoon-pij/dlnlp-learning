{
  "nbformat": 4,
  "nbformat_minor": 0,
  "metadata": {
    "colab": {
      "name": "dlnlp_count_based_word_representation.ipynb",
      "provenance": [],
      "collapsed_sections": [],
      "authorship_tag": "ABX9TyOSpboP1WKgvKQrM02TohBD",
      "include_colab_link": true
    },
    "kernelspec": {
      "name": "python3",
      "display_name": "Python 3"
    },
    "language_info": {
      "name": "python"
    }
  },
  "cells": [
    {
      "cell_type": "markdown",
      "metadata": {
        "id": "view-in-github",
        "colab_type": "text"
      },
      "source": [
        "<a href=\"https://colab.research.google.com/github/injoon-pij/dlnlp-learning/blob/main/dlnlp_count_based_word_representation.ipynb\" target=\"_parent\"><img src=\"https://colab.research.google.com/assets/colab-badge.svg\" alt=\"Open In Colab\"/></a>"
      ]
    },
    {
      "cell_type": "markdown",
      "metadata": {
        "id": "pvJ00vumi7lL"
      },
      "source": [
        "# 1) Word representation"
      ]
    },
    {
      "cell_type": "markdown",
      "metadata": {
        "id": "VXKoZBBRjNyh"
      },
      "source": [
        "[단어의 표현 방법]\n",
        "\n",
        "* 국소 표현(Local Representation) 방법 \n",
        "\n",
        " * 이산 표현(Discrete Representation) 방법\n",
        "\n",
        " * 해당 단어 그 자체만 보고, 특정값을 맵핑하여 단어를 \n",
        "표현하는 방법\n",
        "\n",
        " * (ex) puppy(강아지), cute(귀여운), lovely(사랑스러운)라는 단어가 있을 때 각 단어에 1번, 2번, 3번 등과 같은 숫자를 맵핑(mapping)하여 부여\n",
        "\n",
        " * 단어의 의미, 뉘앙스는 표현할 수 없음\n",
        "\n",
        "* 분산 표현(Distributed Representation) 방법\n",
        "\n",
        " * 연속 표현(Continuous Represnetation) 방법\n",
        "\n",
        " * 그 단어를 표현하고자 주변을 참고하여 단어를 표현하는 방법\n",
        "\n",
        " * (ex) puppy(강아지)라는 단어 근처에는 주로 cute(귀여운), lovely(사랑스러운)이라는 단어가 자주 등장하므로, puppy라는 단어는 cute, lovely한 느낌이다로 단어를 정의\n",
        "\n",
        " * 단어의 의미, 뉘앙스를 표현할 수 있음\n",
        "\n",
        "cf.) LSA나 LDA와 같은 방법들은 단어의 의미를 표현할 수 있다는 점에서 연속 표현(Continuous Represnetation)이지만, 엄밀히 말해서 다른 접근의 방법론을 사용하고 있는 워드투벡터(Word2vec)와 같은 분산 표현(Distributed Representation)은 아닌 것으로 분류하여 연속 표현을 분산 표현을 포괄하고 있는 더 큰 개념으로 설명하기도 함."
      ]
    },
    {
      "cell_type": "markdown",
      "metadata": {
        "id": "8vV1jz8J5gwO"
      },
      "source": [
        "[단어 표현 카테고리]"
      ]
    },
    {
      "cell_type": "markdown",
      "metadata": {
        "id": "FuAuGJR85ds_"
      },
      "source": [
        "![image.png](data:image/png;base64,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)"
      ]
    },
    {
      "cell_type": "markdown",
      "metadata": {
        "id": "wXEe2udHjNmi"
      },
      "source": [
        "# 2) Bag of Words(BoW)"
      ]
    },
    {
      "cell_type": "markdown",
      "metadata": {
        "id": "x5ko2anRjf77"
      },
      "source": [
        "* 단어들의 순서는 전혀 고려하지 않고, 단어들의 출현 빈도에만 집중하는 텍스트 데이터의 수치화 표현 방법 \n",
        "\n",
        "* BoW를 만드는 과정\n",
        " 1. 각 단어에 고유한 정수 인덱스를 부여\n",
        " 2. 각 인덱스의 위치에 단어 토큰의 등장 횟수를 기록한 벡터를 만듬"
      ]
    },
    {
      "cell_type": "code",
      "metadata": {
        "id": "QQ7FGIb7ipdU"
      },
      "source": [
        "pip install konlpy"
      ],
      "execution_count": null,
      "outputs": []
    },
    {
      "cell_type": "code",
      "metadata": {
        "id": "CdpV4v0s9cFe"
      },
      "source": [
        "from konlpy.tag import Okt\n",
        "import re\n",
        "\n",
        "okt = Okt()"
      ],
      "execution_count": null,
      "outputs": []
    },
    {
      "cell_type": "code",
      "metadata": {
        "colab": {
          "base_uri": "https://localhost:8080/"
        },
        "id": "LQG2sTYy9hxu",
        "outputId": "fcffc1c6-967f-4177-b4bc-d69212458489"
      },
      "source": [
        "# 정규 표현식을 통해 온점 제거\n",
        "token = re.sub(\"(\\.)\",\"\",\"정부가 발표하는 물가상승률과 소비자가 느끼는 물가상승률은 다르다.\")\n",
        "# tokenization  \n",
        "token = okt.morphs(token)\n",
        "print(token)\n",
        "\n",
        "word2index = {}  \n",
        "bow = []\n",
        "\n",
        "# Bow 만들기\n",
        "for voca in token:\n",
        "  if voca not in word2index.keys():  \n",
        "    word2index[voca] = len(word2index)\n",
        "    bow.append(1)\n",
        "  else:\n",
        "    index = word2index[voca]\n",
        "    bow[index] = bow[index] + 1\n",
        "\n",
        "print(word2index)\n",
        "print(bow)  "
      ],
      "execution_count": null,
      "outputs": [
        {
          "output_type": "stream",
          "name": "stdout",
          "text": [
            "['정부', '가', '발표', '하는', '물가상승률', '과', '소비자', '가', '느끼는', '물가상승률', '은', '다르다']\n",
            "{'정부': 0, '가': 1, '발표': 2, '하는': 3, '물가상승률': 4, '과': 5, '소비자': 6, '느끼는': 7, '은': 8, '다르다': 9}\n",
            "[1, 2, 1, 1, 2, 1, 1, 1, 1, 1]\n"
          ]
        }
      ]
    },
    {
      "cell_type": "markdown",
      "metadata": {
        "id": "TUz9s72jJBSy"
      },
      "source": [
        "* BoW에 있어서 중요한 것은 단어의 등장 빈도. 단어의 순서, 즉 인덱스의 순서는 전혀 상관없음\n",
        "\n",
        "* BoW는 각 단어가 등장한 횟수를 수치화하는 텍스트 표현 방법이기 때문에, 주로 어떤 단어가 얼마나 등장했는지를 기준으로 문서가 어떤 성격의 문서인지를 판단하는 작업에 쓰임. 즉, 분류 문제나 여러 문서 간의 유사도를 구하는 문제에 주로 쓰임.\n",
        " * 예를 들어 '달리기', '체력', '근력'과 같은 단어가 자주 등장하면 해당 문서를 체육 관련 문서로 , '미분', '방정식', '부등식'과 같은 단어가 자주 등장한다면 수학 관련 문서로 분류할 수 있음"
      ]
    },
    {
      "cell_type": "markdown",
      "metadata": {
        "id": "ZbR41qlzK0pH"
      },
      "source": [
        "## CountVectorizer"
      ]
    },
    {
      "cell_type": "markdown",
      "metadata": {
        "id": "jStJ0YKULwio"
      },
      "source": [
        "단어의 빈도를 카운트하여 벡터로 만드는 사이킷런 클래스"
      ]
    },
    {
      "cell_type": "code",
      "metadata": {
        "colab": {
          "base_uri": "https://localhost:8080/"
        },
        "id": "fzaBCUaWL3nG",
        "outputId": "6e46ba1a-7353-4e81-bc9d-c9f648810dc1"
      },
      "source": [
        "from sklearn.feature_extraction.text import CountVectorizer\n",
        "\n",
        "corpus = ['you know I want your love. because I love you.']\n",
        "vector = CountVectorizer()\n",
        "print(vector.fit_transform(corpus).toarray()) # 코퍼스로부터 각 단어의 빈도 수를 기록\n",
        "print(vector.vocabulary_) # 각 단어의 인덱스가 어떻게 부여되었는지"
      ],
      "execution_count": null,
      "outputs": [
        {
          "output_type": "stream",
          "name": "stdout",
          "text": [
            "[[1 1 2 1 2 1]]\n",
            "{'you': 4, 'know': 1, 'want': 3, 'your': 5, 'love': 2, 'because': 0}\n"
          ]
        }
      ]
    },
    {
      "cell_type": "markdown",
      "metadata": {
        "id": "gKUkotEmMdy_"
      },
      "source": [
        "* 'I'는 BoW를 만드는 과정에서 사라졌는데, 이는 CountVectorizer가 기본적으로 길이가 2 이상인 문자에 대해서만 토큰으로 인식하기 때문\n",
        "\n",
        "* CountVectorizer는 단지 띄어쓰기만을 기준으로 단어를 자르는 낮은 수준의 토큰화를 진행하고 BoW를 만들기 때문에 한국어의 경우엔 CountVectorizer를 적용하면, 조사 등의 이유로 제대로 BoW가 만들어지지 않을 확률이 높음\n",
        " * 예를 들어 띄어쓰기를 기준으로 분리한 뒤에 나온 '물가상승률과'와 '물가상승률은'은 조사를 포함해서 하나의 단어로 판단하기 때문에 서로 다른 단어로 인식하고 두 단어는 각자 다른 인덱스에서 1이라는 빈도의 값을 갖게 됨"
      ]
    },
    {
      "cell_type": "markdown",
      "metadata": {
        "id": "pwbO4XVhPLKs"
      },
      "source": [
        "---\n",
        "\n",
        "[불용어를 제거한 BoW 만들기]\n",
        "* 각 단어에 대한 빈도수를 수치화하는 것은 결국 텍스트 내에서 어떤 단어들이 중요한지를 보고싶다는 의미를 함축함\n",
        "* 따라서 BoW를 만들때 불용어를 제거하는 일은 자연어처리의 정확도를 높이기 위해서 선택할 수 있는 전처리 기법"
      ]
    },
    {
      "cell_type": "code",
      "metadata": {
        "colab": {
          "base_uri": "https://localhost:8080/"
        },
        "id": "VxnEB-L8P0C0",
        "outputId": "163e42fb-3eb4-4353-efa0-e4b94fdf4889"
      },
      "source": [
        "# Customized Stopwords list\n",
        "\n",
        "from sklearn.feature_extraction.text import CountVectorizer\n",
        "\n",
        "text = [\"Family is not an important thing. It's everything.\"]\n",
        "vect = CountVectorizer(stop_words=[\"the\", \"a\", \"an\", \"is\", \"not\"])\n",
        "\n",
        "print(vect.fit_transform(text).toarray()) \n",
        "print(vect.vocabulary_)"
      ],
      "execution_count": null,
      "outputs": [
        {
          "output_type": "stream",
          "name": "stdout",
          "text": [
            "[[1 1 1 1 1]]\n",
            "{'family': 1, 'important': 2, 'thing': 4, 'it': 3, 'everything': 0}\n"
          ]
        }
      ]
    },
    {
      "cell_type": "code",
      "metadata": {
        "colab": {
          "base_uri": "https://localhost:8080/"
        },
        "id": "SRjAF-hHQg-g",
        "outputId": "ddc123ec-0861-4d74-ef51-c8f4f5a82c84"
      },
      "source": [
        "# CountVectorizer Stopwords\n",
        "\n",
        "from sklearn.feature_extraction.text import CountVectorizer\n",
        "\n",
        "text = [\"Family is not an important thing. It's everything.\"]\n",
        "vect = CountVectorizer(stop_words = \"english\")\n",
        "\n",
        "print(vect.fit_transform(text).toarray())\n",
        "print(vect.vocabulary_)"
      ],
      "execution_count": null,
      "outputs": [
        {
          "output_type": "stream",
          "name": "stdout",
          "text": [
            "[[1 1 1]]\n",
            "{'family': 0, 'important': 1, 'thing': 2}\n"
          ]
        }
      ]
    },
    {
      "cell_type": "code",
      "metadata": {
        "colab": {
          "base_uri": "https://localhost:8080/"
        },
        "id": "ODk57VO5QxRE",
        "outputId": "65a09dbf-2d56-4304-ae85-eed72e468547"
      },
      "source": [
        "# NLTK Stopwords\n",
        "\n",
        "from sklearn.feature_extraction.text import CountVectorizer\n",
        "import nltk\n",
        "nltk.download('stopwords')\n",
        "from nltk.corpus import stopwords\n",
        "\n",
        "text = [\"Family is not an important thing. It's everything.\"]\n",
        "sw = stopwords.words(\"english\")\n",
        "vect = CountVectorizer(stop_words = sw)\n",
        "\n",
        "print(vect.fit_transform(text).toarray()) \n",
        "print(vect.vocabulary_)"
      ],
      "execution_count": null,
      "outputs": [
        {
          "output_type": "stream",
          "name": "stdout",
          "text": [
            "[nltk_data] Downloading package stopwords to /root/nltk_data...\n",
            "[nltk_data]   Unzipping corpora/stopwords.zip.\n",
            "[[1 1 1 1]]\n",
            "{'family': 1, 'important': 2, 'thing': 3, 'everything': 0}\n"
          ]
        }
      ]
    },
    {
      "cell_type": "markdown",
      "metadata": {
        "id": "e1y1g9zGjRkK"
      },
      "source": [
        "# 3) Document-Term Matrix(DTM)"
      ]
    },
    {
      "cell_type": "markdown",
      "metadata": {
        "id": "8FWJLl-FjgNh"
      },
      "source": [
        "* BoW 표현을 다수의 문서에 대해서 행렬로 표현한 문서-단어 행렬\n",
        " * 서로 다른 문서들의 BoW들을 결합한 표현 방법\n",
        "\n",
        " * 행과 열을 반대로 선택하면 TDM(Term-Document Matrix)\n",
        "\n",
        " * 각 문서에서 등장한 단어의 빈도를 행렬의 값으로 표기함\n",
        " \n",
        " * 문서-단어 행렬은 문서들을 서로 비교할 수 있도록 수치화할 수 있다는 점에서 의의를 가짐"
      ]
    },
    {
      "cell_type": "markdown",
      "metadata": {
        "id": "MxCMJwkrTI-7"
      },
      "source": [
        "(ex)\n",
        "\n",
        "문서1 : 먹고 싶은 사과\n",
        "\n",
        "문서2 : 먹고 싶은 바나나\n",
        "\n",
        "문서3 : 길고 노란 바나나 바나나\n",
        "\n",
        "문서4 : 저는 과일이 좋아요"
      ]
    },
    {
      "cell_type": "markdown",
      "metadata": {
        "id": "kLwWhdoZUPXq"
      },
      "source": [
        "[Document-Term Matrix]\n",
        "\n",
        "|-     |과일이|길고|노란|먹고|바나나|사과|싶은|저는|좋아요|\n",
        "|:----:|:----:|:--:|:--:|:--:|:----:|:--:|:--:|:--:|:----:|\n",
        "|문서 1|0     |0   |0   |1   |0     |1   |1   |0   |0     |\n",
        "|문서 2|0     |0   |0   |1   |1     |0   |1   |0   |0     |\n",
        "|문서 3|0     |1   |1   |0   |2     |0   |0   |0   |0     |\n",
        "|문서 4|1     |0   |0   |0   |0     |0   |0   |1   |1     |"
      ]
    },
    {
      "cell_type": "markdown",
      "metadata": {
        "id": "96sGAkM1VJTq"
      },
      "source": [
        "[한계]\n",
        "\n",
        "1. 희소 표현(Sparse representation)\n",
        "\n",
        " * DTM에서의 각 문서 벡터의 차원은 전체 단어 집합의 크기와 같기 때문에 전체 코퍼스가 방대한 데이터라면 문서 벡터의 차원은 수백만이 되거나 많은 문서 벡터의 대부분의 값이 0이 될 수 있음. 이러한 대부분의 값이 0인 희소 행렬(sparse matrix)은 많은 양의 저장 공간과 계산을 위한 리소스를 필요로 함.\n",
        "\n",
        " * 따라서 전처리를 통해 단어 집합의 크기를 줄이는 일은 BoW 표현을 사용하는 모델에서 중요\n",
        "\n",
        "    * 구두점, 빈도수가 낮은 단어, 불용어 등 제거\n",
        "     \n",
        "    * 어간이나 표제어 추출을 통해 단어 정규화\n",
        "\n",
        "2. 단순 빈도 수 기반 접근\n",
        "\n",
        " * 여러 문서에서 동일하게 불용어 'the'의 빈도수가 높다고 해서 이 문서들이 유사한 문서라고 판단할 수 없음\n",
        "\n",
        " * 따라서 불용어와 중요한 단어에 대해서 각각 가중치를 주는 방법 필요 -> TF-IDF"
      ]
    },
    {
      "cell_type": "markdown",
      "metadata": {
        "id": "RLxMeiZWjaEK"
      },
      "source": [
        "# 4) TF-IDF"
      ]
    },
    {
      "cell_type": "markdown",
      "metadata": {
        "id": "v6G8M8Kcjerd"
      },
      "source": [
        "Term Frequency-Inverse Document Frequency(TF-IDF) : 단어 빈도-역 문서 빈도\n",
        "\n",
        "* DTM 내의 각 단어들마다 중요한 정도를 가중치로 주는 방법\n",
        "\n",
        "* 문서 유사도를 구하는 작업, 검색 시스템에서 검색 결과의 중요도를 정하는 작업, 문서 내에서 특정 단어의 중요도를 구하는 작업 등에 쓰임\n",
        "\n",
        "* TF(단어빈도)와 IDF(역 문서 빈도)를 곱한 값\n",
        "\n",
        " * tf(d,t) : 특정 문서 d에서의 특정 단어 t의 등장 횟수\n",
        "\n",
        " * df(t) : 특정 단어 t가 등장한 문서의 수\n",
        "\n",
        " * idf(d, t) : df(t)에 반비례하는 수 =  $log(\\frac{n}{1+df(t)})$\n",
        "\n",
        "   * 총 문서의 수 n이 커질 수록, IDF의 값은 기하급수적으로 커지게 되므로 log를 사용하여 역수를 취함\n",
        "\n",
        "   * 불용어 등과 같이 자주 쓰이는 단어들을 자주 쓰이지 않는 희귀 단어들과 비교했을 때 희귀 단어들에 엄청난 가중치가 부여될 수 있는데, 로그를 씌우면 이런 격차를 줄이는 효과가 있음\n",
        "\n",
        "   * log 안의 식에서 분모에 1을 더해주는 이유는 특정 단어가 전체 문서에서 등장하지 않을 경우에 분모가 0이 되는 상황을 방지하기 위한 것\n",
        "\n",
        "* 모든 문서에서 자주 등장하는 단어는 중요도가 낮고, 특정 문서에서만 자주 등장하는 단어는 중요도가 높다고 판단함. 즉, TF-IDF 값이 낮으면 중요도가 낮은 것이며, TF-IDF 값이 크면 중요도가 큰 것임."
      ]
    },
    {
      "cell_type": "markdown",
      "metadata": {
        "id": "dI7KaIqM972a"
      },
      "source": [
        "[연산 예시]\n",
        "\n",
        "* 앞서 3)에서 구했던 Document-Term Matrix가 곧 각 문서에 대한 TF 값임\n",
        "\n",
        " * TF Matrix\n",
        "\n",
        "|-     |과일이|길고|노란|먹고|바나나|사과|싶은|저는|좋아요|\n",
        "|:----:|:----:|:--:|:--:|:--:|:----:|:--:|:--:|:--:|:----:|\n",
        "|문서 1|0     |0   |0   |1   |0     |1   |1   |0   |0     |\n",
        "|문서 2|0     |0   |0   |1   |1     |0   |1   |0   |0     |\n",
        "|문서 3|0     |1   |1   |0   |2     |0   |0   |0   |0     |\n",
        "|문서 4|1     |0   |0   |0   |0     |0   |0   |1   |1     |\n",
        "\n",
        "* IDF를 구하기 위한 로그 연산에서의 로그를 자연 로그로 설정하고, 각 문서의 TF 값에 곱해주면 TF-IDF 행렬을 구할 수 있음\n",
        "\n",
        " * IDF\n",
        "\n",
        "|단어\t |IDF(역 문서 빈도)     |\n",
        "|:----:|:--------------------:|\n",
        "|과일이|ln(4/(1+1)) = 0.693147|\n",
        "|길고  |ln(4/(1+1)) = 0.693147|\n",
        "|노란  |ln(4/(1+1)) = 0.693147|\n",
        "|먹고  |ln(4/(2+1)) = 0.287682|\n",
        "|바나나|ln(4/(2+1)) = 0.287682|\n",
        "|사과  |ln(4/(1+1)) = 0.693147|\n",
        "|싶은  |ln(4/(2+1)) = 0.287682|\n",
        "|저는  |ln(4/(1+1)) = 0.693147|\n",
        "|좋아요|ln(4/(1+1)) = 0.693147|\n",
        "\n",
        " * TF-IDF Matrix\n",
        "\n",
        "|-     |과일이  |길고    |노란    |먹고    |바나나  |사과    |싶은    |저는    |좋아요|\n",
        "|:----:|:------:|:------:|:------:|:------:|:------:|:------:|:------:|:------:|:------:|\n",
        "|문서 1|0       |0       |0       |0.287682|0       |0.693147|0.287682|0       |0       |\n",
        "|문서 2|0       |0       |0       |0.287682|0.287682|0       |0.287682|0       |0       |\n",
        "|문서 3|0       |0.693147|0.693147|0       |0.575364|0       |0       |0       |0       |\n",
        "|문서 4|0.693147|0       |0       |0       |0       |0       |0       |0.693147|0.693147|\n",
        "\n",
        " * 문서2에서의 '바나나'의 TF-IDF 가중치와 문서3에서의 '바나나'의 TF-IDF 가중치가 다름.\n",
        "  * TF-IDF에서의 관점에서 보자면 TF-IDF는 특정 문서에서 자주 등장하는 단어는 그 문서 내에서 중요한 단어로 판단하는데, 문서2에서는 바나나를 한 번 언급했지만, 문서3에서는 바나나를 두 번 언급했으므로 문서3에서의 바나나를 더욱 중요한 단어라고 판단한 것"
      ]
    },
    {
      "cell_type": "markdown",
      "metadata": {
        "id": "VgkhVpQcEM0a"
      },
      "source": [
        "## TF-IDF by python"
      ]
    },
    {
      "cell_type": "code",
      "metadata": {
        "id": "syerE4h3jgka"
      },
      "source": [
        "import pandas as pd\n",
        "from math import log"
      ],
      "execution_count": 1,
      "outputs": []
    },
    {
      "cell_type": "code",
      "metadata": {
        "colab": {
          "base_uri": "https://localhost:8080/"
        },
        "id": "rsPhJdw0G5CE",
        "outputId": "d10d390c-14f9-489a-d7c6-537d02fba669"
      },
      "source": [
        "docs = [\n",
        "  '먹고 싶은 사과',\n",
        "  '먹고 싶은 바나나',\n",
        "  '길고 노란 바나나 바나나',\n",
        "  '저는 과일이 좋아요'\n",
        "] \n",
        "\n",
        "vocab = list(set(w for doc in docs for w in doc.split()))\n",
        "vocab.sort() # 가나다 순 정렬"
      ],
      "execution_count": 4,
      "outputs": [
        {
          "output_type": "stream",
          "name": "stdout",
          "text": [
            "['노란', '먹고', '사과', '바나나', '싶은', '좋아요', '길고', '저는', '과일이']\n",
            "['과일이', '길고', '노란', '먹고', '바나나', '사과', '싶은', '저는', '좋아요']\n"
          ]
        }
      ]
    },
    {
      "cell_type": "code",
      "metadata": {
        "id": "0Gw-t5YTLvWn"
      },
      "source": [
        "N = len(docs) # 총 문서의 수\n",
        "\n",
        "def tf(t, d):\n",
        "  return d.count(t)\n",
        "\n",
        "def idf(t):\n",
        "  df = 0\n",
        "  for doc in docs:\n",
        "    df += t in doc\n",
        "  \n",
        "  return log(N/(df + 1))\n",
        "\n",
        "def tfidf(t, d):\n",
        "  return tf(t,d)* idf(t)"
      ],
      "execution_count": 5,
      "outputs": []
    },
    {
      "cell_type": "code",
      "metadata": {
        "colab": {
          "base_uri": "https://localhost:8080/",
          "height": 173
        },
        "id": "kbBmyWRaLz1x",
        "outputId": "69584c69-c88b-4388-9997-47c2f5a2ad77"
      },
      "source": [
        "# TF matrix\n",
        "result = []\n",
        "\n",
        "for i in range(N):\n",
        "  d = docs[i]\n",
        "  d_tf = [tf(vocab[j], d) for j in range(len(vocab))]\n",
        "  result.append(d_tf)\n",
        "\n",
        "tf_ = pd.DataFrame(result, columns = vocab)\n",
        "tf_"
      ],
      "execution_count": 9,
      "outputs": [
        {
          "output_type": "execute_result",
          "data": {
            "text/html": [
              "<div>\n",
              "<style scoped>\n",
              "    .dataframe tbody tr th:only-of-type {\n",
              "        vertical-align: middle;\n",
              "    }\n",
              "\n",
              "    .dataframe tbody tr th {\n",
              "        vertical-align: top;\n",
              "    }\n",
              "\n",
              "    .dataframe thead th {\n",
              "        text-align: right;\n",
              "    }\n",
              "</style>\n",
              "<table border=\"1\" class=\"dataframe\">\n",
              "  <thead>\n",
              "    <tr style=\"text-align: right;\">\n",
              "      <th></th>\n",
              "      <th>과일이</th>\n",
              "      <th>길고</th>\n",
              "      <th>노란</th>\n",
              "      <th>먹고</th>\n",
              "      <th>바나나</th>\n",
              "      <th>사과</th>\n",
              "      <th>싶은</th>\n",
              "      <th>저는</th>\n",
              "      <th>좋아요</th>\n",
              "    </tr>\n",
              "  </thead>\n",
              "  <tbody>\n",
              "    <tr>\n",
              "      <th>0</th>\n",
              "      <td>0</td>\n",
              "      <td>0</td>\n",
              "      <td>0</td>\n",
              "      <td>1</td>\n",
              "      <td>0</td>\n",
              "      <td>1</td>\n",
              "      <td>1</td>\n",
              "      <td>0</td>\n",
              "      <td>0</td>\n",
              "    </tr>\n",
              "    <tr>\n",
              "      <th>1</th>\n",
              "      <td>0</td>\n",
              "      <td>0</td>\n",
              "      <td>0</td>\n",
              "      <td>1</td>\n",
              "      <td>1</td>\n",
              "      <td>0</td>\n",
              "      <td>1</td>\n",
              "      <td>0</td>\n",
              "      <td>0</td>\n",
              "    </tr>\n",
              "    <tr>\n",
              "      <th>2</th>\n",
              "      <td>0</td>\n",
              "      <td>1</td>\n",
              "      <td>1</td>\n",
              "      <td>0</td>\n",
              "      <td>2</td>\n",
              "      <td>0</td>\n",
              "      <td>0</td>\n",
              "      <td>0</td>\n",
              "      <td>0</td>\n",
              "    </tr>\n",
              "    <tr>\n",
              "      <th>3</th>\n",
              "      <td>1</td>\n",
              "      <td>0</td>\n",
              "      <td>0</td>\n",
              "      <td>0</td>\n",
              "      <td>0</td>\n",
              "      <td>0</td>\n",
              "      <td>0</td>\n",
              "      <td>1</td>\n",
              "      <td>1</td>\n",
              "    </tr>\n",
              "  </tbody>\n",
              "</table>\n",
              "</div>"
            ],
            "text/plain": [
              "   과일이  길고  노란  먹고  바나나  사과  싶은  저는  좋아요\n",
              "0    0   0   0   1    0   1   1   0    0\n",
              "1    0   0   0   1    1   0   1   0    0\n",
              "2    0   1   1   0    2   0   0   0    0\n",
              "3    1   0   0   0    0   0   0   1    1"
            ]
          },
          "metadata": {},
          "execution_count": 9
        }
      ]
    },
    {
      "cell_type": "code",
      "metadata": {
        "colab": {
          "base_uri": "https://localhost:8080/",
          "height": 328
        },
        "id": "lLKp5Bi2N5Ya",
        "outputId": "3e53836e-7162-4236-a865-ce6e75133187"
      },
      "source": [
        "# IDF\n",
        "result = []\n",
        "\n",
        "for j in range(len(vocab)):\n",
        "    t = vocab[j]\n",
        "    result.append(idf(t))\n",
        "\n",
        "idf_ = pd.DataFrame(result, index = vocab, columns = [\"IDF\"])\n",
        "idf_"
      ],
      "execution_count": 7,
      "outputs": [
        {
          "output_type": "execute_result",
          "data": {
            "text/html": [
              "<div>\n",
              "<style scoped>\n",
              "    .dataframe tbody tr th:only-of-type {\n",
              "        vertical-align: middle;\n",
              "    }\n",
              "\n",
              "    .dataframe tbody tr th {\n",
              "        vertical-align: top;\n",
              "    }\n",
              "\n",
              "    .dataframe thead th {\n",
              "        text-align: right;\n",
              "    }\n",
              "</style>\n",
              "<table border=\"1\" class=\"dataframe\">\n",
              "  <thead>\n",
              "    <tr style=\"text-align: right;\">\n",
              "      <th></th>\n",
              "      <th>IDF</th>\n",
              "    </tr>\n",
              "  </thead>\n",
              "  <tbody>\n",
              "    <tr>\n",
              "      <th>과일이</th>\n",
              "      <td>0.693147</td>\n",
              "    </tr>\n",
              "    <tr>\n",
              "      <th>길고</th>\n",
              "      <td>0.693147</td>\n",
              "    </tr>\n",
              "    <tr>\n",
              "      <th>노란</th>\n",
              "      <td>0.693147</td>\n",
              "    </tr>\n",
              "    <tr>\n",
              "      <th>먹고</th>\n",
              "      <td>0.287682</td>\n",
              "    </tr>\n",
              "    <tr>\n",
              "      <th>바나나</th>\n",
              "      <td>0.287682</td>\n",
              "    </tr>\n",
              "    <tr>\n",
              "      <th>사과</th>\n",
              "      <td>0.693147</td>\n",
              "    </tr>\n",
              "    <tr>\n",
              "      <th>싶은</th>\n",
              "      <td>0.287682</td>\n",
              "    </tr>\n",
              "    <tr>\n",
              "      <th>저는</th>\n",
              "      <td>0.693147</td>\n",
              "    </tr>\n",
              "    <tr>\n",
              "      <th>좋아요</th>\n",
              "      <td>0.693147</td>\n",
              "    </tr>\n",
              "  </tbody>\n",
              "</table>\n",
              "</div>"
            ],
            "text/plain": [
              "          IDF\n",
              "과일이  0.693147\n",
              "길고   0.693147\n",
              "노란   0.693147\n",
              "먹고   0.287682\n",
              "바나나  0.287682\n",
              "사과   0.693147\n",
              "싶은   0.287682\n",
              "저는   0.693147\n",
              "좋아요  0.693147"
            ]
          },
          "metadata": {},
          "execution_count": 7
        }
      ]
    },
    {
      "cell_type": "code",
      "metadata": {
        "colab": {
          "base_uri": "https://localhost:8080/",
          "height": 173
        },
        "id": "TdAj6R8MOszG",
        "outputId": "f1ed25dc-a7e4-44fc-f546-fea0a6da7ca7"
      },
      "source": [
        "# TF-IDF(tf_ * idf_)\n",
        "result = []\n",
        "\n",
        "for i in range(N):\n",
        "  d = docs[i]\n",
        "  d_tfidf = [tfidf(vocab[j], d) for j in range(len(vocab))]\n",
        "  result.append(d_tfidf)\n",
        "\n",
        "tfidf_ = pd.DataFrame(result, columns = vocab)\n",
        "tfidf_"
      ],
      "execution_count": 10,
      "outputs": [
        {
          "output_type": "execute_result",
          "data": {
            "text/html": [
              "<div>\n",
              "<style scoped>\n",
              "    .dataframe tbody tr th:only-of-type {\n",
              "        vertical-align: middle;\n",
              "    }\n",
              "\n",
              "    .dataframe tbody tr th {\n",
              "        vertical-align: top;\n",
              "    }\n",
              "\n",
              "    .dataframe thead th {\n",
              "        text-align: right;\n",
              "    }\n",
              "</style>\n",
              "<table border=\"1\" class=\"dataframe\">\n",
              "  <thead>\n",
              "    <tr style=\"text-align: right;\">\n",
              "      <th></th>\n",
              "      <th>과일이</th>\n",
              "      <th>길고</th>\n",
              "      <th>노란</th>\n",
              "      <th>먹고</th>\n",
              "      <th>바나나</th>\n",
              "      <th>사과</th>\n",
              "      <th>싶은</th>\n",
              "      <th>저는</th>\n",
              "      <th>좋아요</th>\n",
              "    </tr>\n",
              "  </thead>\n",
              "  <tbody>\n",
              "    <tr>\n",
              "      <th>0</th>\n",
              "      <td>0.000000</td>\n",
              "      <td>0.000000</td>\n",
              "      <td>0.000000</td>\n",
              "      <td>0.287682</td>\n",
              "      <td>0.000000</td>\n",
              "      <td>0.693147</td>\n",
              "      <td>0.287682</td>\n",
              "      <td>0.000000</td>\n",
              "      <td>0.000000</td>\n",
              "    </tr>\n",
              "    <tr>\n",
              "      <th>1</th>\n",
              "      <td>0.000000</td>\n",
              "      <td>0.000000</td>\n",
              "      <td>0.000000</td>\n",
              "      <td>0.287682</td>\n",
              "      <td>0.287682</td>\n",
              "      <td>0.000000</td>\n",
              "      <td>0.287682</td>\n",
              "      <td>0.000000</td>\n",
              "      <td>0.000000</td>\n",
              "    </tr>\n",
              "    <tr>\n",
              "      <th>2</th>\n",
              "      <td>0.000000</td>\n",
              "      <td>0.693147</td>\n",
              "      <td>0.693147</td>\n",
              "      <td>0.000000</td>\n",
              "      <td>0.575364</td>\n",
              "      <td>0.000000</td>\n",
              "      <td>0.000000</td>\n",
              "      <td>0.000000</td>\n",
              "      <td>0.000000</td>\n",
              "    </tr>\n",
              "    <tr>\n",
              "      <th>3</th>\n",
              "      <td>0.693147</td>\n",
              "      <td>0.000000</td>\n",
              "      <td>0.000000</td>\n",
              "      <td>0.000000</td>\n",
              "      <td>0.000000</td>\n",
              "      <td>0.000000</td>\n",
              "      <td>0.000000</td>\n",
              "      <td>0.693147</td>\n",
              "      <td>0.693147</td>\n",
              "    </tr>\n",
              "  </tbody>\n",
              "</table>\n",
              "</div>"
            ],
            "text/plain": [
              "        과일이        길고        노란  ...        싶은        저는       좋아요\n",
              "0  0.000000  0.000000  0.000000  ...  0.287682  0.000000  0.000000\n",
              "1  0.000000  0.000000  0.000000  ...  0.287682  0.000000  0.000000\n",
              "2  0.000000  0.693147  0.693147  ...  0.000000  0.000000  0.000000\n",
              "3  0.693147  0.000000  0.000000  ...  0.000000  0.693147  0.693147\n",
              "\n",
              "[4 rows x 9 columns]"
            ]
          },
          "metadata": {},
          "execution_count": 10
        }
      ]
    },
    {
      "cell_type": "markdown",
      "metadata": {
        "id": "OHZlT5zDPhkY"
      },
      "source": [
        "TF-IDF 구현을 제공하고 있는 많은 패키지들은 패키지마다 식이 조금씩 다르긴 하지만, 위에서 배운 기본 식에서 조정된 식을 사용함.\n",
        "\n",
        " * 기본적인 식을 바탕으로 한 구현에도 여전히 문제점이 존재하기 때문\n",
        "\n",
        "   * 만약 전체 문서의 수 $n$ 이 4인데 $df(t)$의 값이 3인 경우, log항의 분자와 분모의 값이 같아져 $idf(d, t)$ 의 값이 0이 됨\n",
        "\n",
        "   * IDF의 값이 0이라면 더 이상 가중치의 역할을 수행하지 못함\n",
        "\n",
        " * 실제 구현체의 경우 $idf(d, t) = log(n/(df(t)+1)) + 1$ 과 같이 log항에 1을 더해줘서 log항의 값이 0이 되더라도 IDF가 최소 1이상의 값을 가지도록 함"
      ]
    },
    {
      "cell_type": "markdown",
      "metadata": {
        "id": "KyYV_N_2Etgl"
      },
      "source": [
        "## TF-IDF by sklearn"
      ]
    },
    {
      "cell_type": "code",
      "metadata": {
        "colab": {
          "base_uri": "https://localhost:8080/"
        },
        "id": "VM8k7Gj8EwZd",
        "outputId": "64269e9d-4ea9-4634-9d1f-82da9e24a6cb"
      },
      "source": [
        "# DTM(Document-Term Matrix)\n",
        "from sklearn.feature_extraction.text import CountVectorizer\n",
        "\n",
        "corpus = [\n",
        "    'you know I want your love',\n",
        "    'I like you',\n",
        "    'what should I do ',    \n",
        "]\n",
        "\n",
        "vector = CountVectorizer()\n",
        "print(vector.fit_transform(corpus).toarray()) # 코퍼스로부터 각 단어의 빈도 수를 기록\n",
        "print(vector.vocabulary_) # 각 단어의 인덱스가 어떻게 부여되었는지"
      ],
      "execution_count": 11,
      "outputs": [
        {
          "output_type": "stream",
          "name": "stdout",
          "text": [
            "[[0 1 0 1 0 1 0 1 1]\n",
            " [0 0 1 0 0 0 0 1 0]\n",
            " [1 0 0 0 1 0 1 0 0]]\n",
            "{'you': 7, 'know': 1, 'want': 5, 'your': 8, 'love': 3, 'like': 2, 'what': 6, 'should': 4, 'do': 0}\n"
          ]
        }
      ]
    },
    {
      "cell_type": "code",
      "metadata": {
        "colab": {
          "base_uri": "https://localhost:8080/"
        },
        "id": "uLqjIskyV7FK",
        "outputId": "957ce021-c79f-42d9-a8f3-908999b9d26b"
      },
      "source": [
        "# TF-IDF matrix\n",
        "from sklearn.feature_extraction.text import TfidfVectorizer\n",
        "corpus = [\n",
        "    'you know I want your love',\n",
        "    'I like you',\n",
        "    'what should I do ',    \n",
        "]\n",
        "\n",
        "tfidfv = TfidfVectorizer()\n",
        "print(tfidfv.fit_transform(corpus).toarray()) # 코퍼스로부터 각 단어에 tf-idf 점수 부여\n",
        "print(tfidfv.vocabulary_) # 각 단어의 인덱스가 어떻게 부여되었는지"
      ],
      "execution_count": 13,
      "outputs": [
        {
          "output_type": "stream",
          "name": "stdout",
          "text": [
            "[[0.         0.46735098 0.         0.46735098 0.         0.46735098\n",
            "  0.         0.35543247 0.46735098]\n",
            " [0.         0.         0.79596054 0.         0.         0.\n",
            "  0.         0.60534851 0.        ]\n",
            " [0.57735027 0.         0.         0.         0.57735027 0.\n",
            "  0.57735027 0.         0.        ]]\n",
            "{'you': 7, 'know': 1, 'want': 5, 'your': 8, 'love': 3, 'like': 2, 'what': 6, 'should': 4, 'do': 0}\n"
          ]
        }
      ]
    },
    {
      "cell_type": "markdown",
      "metadata": {
        "id": "nLptptczZMkA"
      },
      "source": [
        "* 사이킷런에서는 보편적인 TF-IDF 식에서 좀 더 조정된 다른 식을 사용함 \n",
        " * __IDF의 로그항의 분자에 1을 더해주며__, __로그항(IDF)에 1을 더해주고__, 마지막으로 __구한 TF-IDF을 L2 정규화로 값을 조정함__\n",
        " * 이때 L2 정규화는 문서별로 수행\n",
        "   * 따라서 위의 사이킷런 실습에서 단어 'you'의 tf-idf 값이 문서 1과 문서 2에서 다른 값을 가진 것임"
      ]
    }
  ]
}