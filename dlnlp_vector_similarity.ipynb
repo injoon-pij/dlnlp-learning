{
  "nbformat": 4,
  "nbformat_minor": 0,
  "metadata": {
    "colab": {
      "name": "dlnlp_vector_similarity.ipynb",
      "provenance": [],
      "collapsed_sections": [],
      "authorship_tag": "ABX9TyO/ZRPtEff9/6p01pVjckCg",
      "include_colab_link": true
    },
    "kernelspec": {
      "name": "python3",
      "display_name": "Python 3"
    },
    "language_info": {
      "name": "python"
    }
  },
  "cells": [
    {
      "cell_type": "markdown",
      "metadata": {
        "id": "view-in-github",
        "colab_type": "text"
      },
      "source": [
        "<a href=\"https://colab.research.google.com/github/injoon-pij/dlnlp-learning/blob/main/dlnlp_vector_similarity.ipynb\" target=\"_parent\"><img src=\"https://colab.research.google.com/assets/colab-badge.svg\" alt=\"Open In Colab\"/></a>"
      ]
    },
    {
      "cell_type": "markdown",
      "metadata": {
        "id": "0Fpu9RdNxXRg"
      },
      "source": [
        "# 1) Cosine Similarity"
      ]
    },
    {
      "cell_type": "markdown",
      "metadata": {
        "id": "FwpHBTJfyCQx"
      },
      "source": [
        "두 벡터 간의 코사인 각도를 이용하여 구할 수 있는 두 벡터의 유사도"
      ]
    },
    {
      "cell_type": "markdown",
      "metadata": {
        "id": "ui1y5LqszfNQ"
      },
      "source": [
        "![image.png](data:image/png;base64,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)"
      ]
    },
    {
      "cell_type": "markdown",
      "metadata": {
        "id": "m-4hcSuJzg9g"
      },
      "source": [
        "* 코사인 유사도는 -1 이상 1 이하의 값을 가지며, 값이 1에 가까울 수록 유사도가 높다고 판단됨. 즉 두 벡터의 방향이 얼마나 유사한가에 대한 정도.\n",
        "\n",
        "* $\\text{cosine similarity} = cos(\\text{Θ})=\\frac{A\\text{⋅}B}{||A||\\ ||B||} = \\frac{\\sum_{i=1}^{n}{A_{i}\\text{×}B_{i}}}{\\sqrt{\\sum_{i=1}^{n}(A_{i})^2}\\text{×}\\sqrt{\\sum_{i=1}^{n}(B_{i})^2}}$\n",
        "\n",
        " * 문서단어행렬(DTM)이나 TF-IDF 행렬을 통해서 문서의 코사인 유사도를 구하는 경우, 각 문서의 행렬벡터가 각각의 특징벡터 A와 B가 됨"
      ]
    },
    {
      "cell_type": "markdown",
      "metadata": {
        "id": "yzFiKbGk0lWB"
      },
      "source": [
        "Numpy를 이용해서 유사도 계산"
      ]
    },
    {
      "cell_type": "code",
      "metadata": {
        "id": "mPCAH2Jo0ckY"
      },
      "source": [
        "from numpy import dot\n",
        "from numpy.linalg import norm\n",
        "import numpy as np\n",
        "\n",
        "def cos_sim(A, B):\n",
        "  return dot(A, B)/(norm(A)*norm(B))"
      ],
      "execution_count": null,
      "outputs": []
    },
    {
      "cell_type": "code",
      "metadata": {
        "id": "AAXN_1jj0hFz"
      },
      "source": [
        "doc1 = np.array([0,1,1,1])\n",
        "doc2 = np.array([1,0,1,1])\n",
        "doc3 = np.array([2,0,2,2])"
      ],
      "execution_count": null,
      "outputs": []
    },
    {
      "cell_type": "code",
      "metadata": {
        "colab": {
          "base_uri": "https://localhost:8080/"
        },
        "id": "k3nxT-nV0qlS",
        "outputId": "72c0ccb1-099c-4d7e-c678-49bd2f5f1852"
      },
      "source": [
        "print(cos_sim(doc1, doc2)) # 문서1과 문서2의 코사인 유사도\n",
        "print(cos_sim(doc1, doc3)) # 문서1과 문서3의 코사인 유사도\n",
        "print(cos_sim(doc2, doc3)) # 문서2과 문서3의 코사인 유사도"
      ],
      "execution_count": null,
      "outputs": [
        {
          "output_type": "stream",
          "name": "stdout",
          "text": [
            "0.6666666666666667\n",
            "0.6666666666666667\n",
            "1.0000000000000002\n"
          ]
        }
      ]
    },
    {
      "cell_type": "markdown",
      "metadata": {
        "id": "lfOQidqd4YWs"
      },
      "source": [
        "* 코사인 유사도는 문서의 길이가 다른 상황에서 비교적 공정한 비교를 할 수 있도록 도와줌\n",
        "\n",
        " * 문서1-문서2의 코사인 유사도와 문서1-문서3의 코사인 유사도가 동일함. 즉 문서의 패턴이 동일하다면 문서의 길이가 더 길다는 이유로 유사도가 높아지는 일이 일어나지 않음.\n",
        "\n",
        " * 코사인 유사도는 벡터의 크기가 아닌 방향을 기준으로 한 비교 방법이기 때문"
      ]
    },
    {
      "cell_type": "markdown",
      "metadata": {
        "id": "4x2rvlab6qaj"
      },
      "source": [
        "## 1.1 Recommendation System by Similarity"
      ]
    },
    {
      "cell_type": "markdown",
      "metadata": {
        "id": "RVi3AeG265_Q"
      },
      "source": [
        "캐글의 영화 데이터셋을 TF-IDF와 코사인 유사도을 사용하여 영화의 줄거리에 기반한 영화 추천 시스템 실습"
      ]
    },
    {
      "cell_type": "markdown",
      "metadata": {
        "id": "bk30kXem655o"
      },
      "source": [
        "[데이터 다운로드 링크](https://www.kaggle.com/rounakbanik/the-movies-dataset)"
      ]
    },
    {
      "cell_type": "code",
      "metadata": {
        "id": "c1Zvr1uJ7Nqb"
      },
      "source": [
        "import pandas as pd\n",
        "from sklearn.feature_extraction.text import TfidfVectorizer\n",
        "from sklearn.metrics.pairwise import linear_kernel"
      ],
      "execution_count": 7,
      "outputs": []
    },
    {
      "cell_type": "code",
      "metadata": {
        "id": "H0ruEpuP62yB",
        "colab": {
          "base_uri": "https://localhost:8080/",
          "height": 318
        },
        "outputId": "c4ae319e-6841-4448-cab4-77d6c2b82cf6"
      },
      "source": [
        "data = pd.read_csv('./movies_metadata.csv', low_memory = False)\n",
        "data.head(2)"
      ],
      "execution_count": 8,
      "outputs": [
        {
          "output_type": "execute_result",
          "data": {
            "text/html": [
              "<div>\n",
              "<style scoped>\n",
              "    .dataframe tbody tr th:only-of-type {\n",
              "        vertical-align: middle;\n",
              "    }\n",
              "\n",
              "    .dataframe tbody tr th {\n",
              "        vertical-align: top;\n",
              "    }\n",
              "\n",
              "    .dataframe thead th {\n",
              "        text-align: right;\n",
              "    }\n",
              "</style>\n",
              "<table border=\"1\" class=\"dataframe\">\n",
              "  <thead>\n",
              "    <tr style=\"text-align: right;\">\n",
              "      <th></th>\n",
              "      <th>adult</th>\n",
              "      <th>belongs_to_collection</th>\n",
              "      <th>budget</th>\n",
              "      <th>genres</th>\n",
              "      <th>homepage</th>\n",
              "      <th>id</th>\n",
              "      <th>imdb_id</th>\n",
              "      <th>original_language</th>\n",
              "      <th>original_title</th>\n",
              "      <th>overview</th>\n",
              "      <th>popularity</th>\n",
              "      <th>poster_path</th>\n",
              "      <th>production_companies</th>\n",
              "      <th>production_countries</th>\n",
              "      <th>release_date</th>\n",
              "      <th>revenue</th>\n",
              "      <th>runtime</th>\n",
              "      <th>spoken_languages</th>\n",
              "      <th>status</th>\n",
              "      <th>tagline</th>\n",
              "      <th>title</th>\n",
              "      <th>video</th>\n",
              "      <th>vote_average</th>\n",
              "      <th>vote_count</th>\n",
              "    </tr>\n",
              "  </thead>\n",
              "  <tbody>\n",
              "    <tr>\n",
              "      <th>0</th>\n",
              "      <td>False</td>\n",
              "      <td>{'id': 10194, 'name': 'Toy Story Collection', ...</td>\n",
              "      <td>30000000</td>\n",
              "      <td>[{'id': 16, 'name': 'Animation'}, {'id': 35, '...</td>\n",
              "      <td>http://toystory.disney.com/toy-story</td>\n",
              "      <td>862</td>\n",
              "      <td>tt0114709</td>\n",
              "      <td>en</td>\n",
              "      <td>Toy Story</td>\n",
              "      <td>Led by Woody, Andy's toys live happily in his ...</td>\n",
              "      <td>21.946943</td>\n",
              "      <td>/rhIRbceoE9lR4veEXuwCC2wARtG.jpg</td>\n",
              "      <td>[{'name': 'Pixar Animation Studios', 'id': 3}]</td>\n",
              "      <td>[{'iso_3166_1': 'US', 'name': 'United States o...</td>\n",
              "      <td>1995-10-30</td>\n",
              "      <td>373554033.0</td>\n",
              "      <td>81.0</td>\n",
              "      <td>[{'iso_639_1': 'en', 'name': 'English'}]</td>\n",
              "      <td>Released</td>\n",
              "      <td>NaN</td>\n",
              "      <td>Toy Story</td>\n",
              "      <td>False</td>\n",
              "      <td>7.7</td>\n",
              "      <td>5415.0</td>\n",
              "    </tr>\n",
              "    <tr>\n",
              "      <th>1</th>\n",
              "      <td>False</td>\n",
              "      <td>NaN</td>\n",
              "      <td>65000000</td>\n",
              "      <td>[{'id': 12, 'name': 'Adventure'}, {'id': 14, '...</td>\n",
              "      <td>NaN</td>\n",
              "      <td>8844</td>\n",
              "      <td>tt0113497</td>\n",
              "      <td>en</td>\n",
              "      <td>Jumanji</td>\n",
              "      <td>When siblings Judy and Peter discover an encha...</td>\n",
              "      <td>17.015539</td>\n",
              "      <td>/vzmL6fP7aPKNKPRTFnZmiUfciyV.jpg</td>\n",
              "      <td>[{'name': 'TriStar Pictures', 'id': 559}, {'na...</td>\n",
              "      <td>[{'iso_3166_1': 'US', 'name': 'United States o...</td>\n",
              "      <td>1995-12-15</td>\n",
              "      <td>262797249.0</td>\n",
              "      <td>104.0</td>\n",
              "      <td>[{'iso_639_1': 'en', 'name': 'English'}, {'iso...</td>\n",
              "      <td>Released</td>\n",
              "      <td>Roll the dice and unleash the excitement!</td>\n",
              "      <td>Jumanji</td>\n",
              "      <td>False</td>\n",
              "      <td>6.9</td>\n",
              "      <td>2413.0</td>\n",
              "    </tr>\n",
              "  </tbody>\n",
              "</table>\n",
              "</div>"
            ],
            "text/plain": [
              "   adult  ... vote_count\n",
              "0  False  ...     5415.0\n",
              "1  False  ...     2413.0\n",
              "\n",
              "[2 rows x 24 columns]"
            ]
          },
          "metadata": {},
          "execution_count": 8
        }
      ]
    },
    {
      "cell_type": "markdown",
      "metadata": {
        "id": "8PXcPVnI_MHt"
      },
      "source": [
        "* 판다스는 데이터의 dtype을 알아내는데에 많은 메모리가 쓰이므로 항상 dtype을 지정하여 불러오는 것을 권장함.\n",
        "* low_memory = False 지정은 dtype을 지정하지 않아 오류가 생겼을 때에 오류를 해결해줌"
      ]
    },
    {
      "cell_type": "code",
      "metadata": {
        "colab": {
          "base_uri": "https://localhost:8080/"
        },
        "id": "ynHdTQld3Rrm",
        "outputId": "5e57a49e-8645-4838-96dd-482202bfecba"
      },
      "source": [
        "# 2000개의 샘플만 데이터 사용\n",
        "data = data.head(20000)\n",
        "\n",
        "# 리뷰 데이터에 null 값이 존재하는지 확인\n",
        "data['overview'].isnull().sum()"
      ],
      "execution_count": 9,
      "outputs": [
        {
          "output_type": "execute_result",
          "data": {
            "text/plain": [
              "135"
            ]
          },
          "metadata": {},
          "execution_count": 9
        }
      ]
    },
    {
      "cell_type": "markdown",
      "metadata": {
        "id": "ZawAkmEY3rRF"
      },
      "source": [
        "* 135개의 샘플에 null 값 존재\n",
        "* tf-idf 연산시 데이터에 null 값이 들어가있으면 에러가 발생함"
      ]
    },
    {
      "cell_type": "code",
      "metadata": {
        "colab": {
          "base_uri": "https://localhost:8080/"
        },
        "id": "5vPo7ZlP3wMO",
        "outputId": "92b41bd7-1da6-4153-95b6-f5285474a8e4"
      },
      "source": [
        "# pandas를 이용하여 null 값을 처리하는 도구인 fillna()를 사용\n",
        "data['overview'] = data['overview'].fillna('') # null값을 빈 값으로 대체\n",
        "\n",
        "# 리뷰 데이터에 null 값이 존재하는지 재확인\n",
        "data['overview'].isnull().sum()"
      ],
      "execution_count": 10,
      "outputs": [
        {
          "output_type": "execute_result",
          "data": {
            "text/plain": [
              "0"
            ]
          },
          "metadata": {},
          "execution_count": 10
        }
      ]
    },
    {
      "cell_type": "code",
      "metadata": {
        "colab": {
          "base_uri": "https://localhost:8080/"
        },
        "id": "bCjrQo3X4ADt",
        "outputId": "f366ee17-0bd2-411b-f0d4-7a901eb41822"
      },
      "source": [
        "tfidf = TfidfVectorizer(stop_words = 'english')\n",
        "\n",
        "# overview에 대해서 tf-idf 수행\n",
        "tfidf_matrix = tfidf.fit_transform(data['overview'])\n",
        "print(tfidf_matrix.shape)"
      ],
      "execution_count": 11,
      "outputs": [
        {
          "output_type": "stream",
          "name": "stdout",
          "text": [
            "(20000, 47487)\n"
          ]
        }
      ]
    },
    {
      "cell_type": "markdown",
      "metadata": {
        "id": "Hbj_Ctrh4y_O"
      },
      "source": [
        "* 20,000개의 영화 리뷰 데이터를 표현하기위해 총 47,487개의 단어가 사용되었음"
      ]
    },
    {
      "cell_type": "code",
      "metadata": {
        "colab": {
          "base_uri": "https://localhost:8080/"
        },
        "id": "4Q6NNj7u5PJT",
        "outputId": "b6606217-19d5-48be-adc8-e12eed56d394"
      },
      "source": [
        "cosine_sim = linear_kernel(tfidf_matrix, tfidf_matrix) # 두 행렬의 내적\n",
        "print(cosine_sim.shape)"
      ],
      "execution_count": 15,
      "outputs": [
        {
          "output_type": "stream",
          "name": "stdout",
          "text": [
            "(20000, 20000)\n"
          ]
        }
      ]
    },
    {
      "cell_type": "code",
      "metadata": {
        "colab": {
          "base_uri": "https://localhost:8080/"
        },
        "id": "Qz7C0VbA5jSn",
        "outputId": "15462b36-b6e9-45ce-fef4-db71a921711d"
      },
      "source": [
        "# 영화의 타이틀과 인덱스를 가진 테이블\n",
        "indices = pd.Series(data.index, index=data['title']).drop_duplicates()\n",
        "print(indices.head())"
      ],
      "execution_count": 16,
      "outputs": [
        {
          "output_type": "stream",
          "name": "stdout",
          "text": [
            "title\n",
            "Toy Story                      0\n",
            "Jumanji                        1\n",
            "Grumpier Old Men               2\n",
            "Waiting to Exhale              3\n",
            "Father of the Bride Part II    4\n",
            "dtype: int64\n"
          ]
        }
      ]
    },
    {
      "cell_type": "markdown",
      "metadata": {
        "id": "55nxakAjB4X8"
      },
      "source": [
        "* ```drop_duplicates()``` : 중복값 제거"
      ]
    },
    {
      "cell_type": "code",
      "metadata": {
        "id": "jX8H7Wsy5rQw"
      },
      "source": [
        "# 코사인 유사도를 이용하여 가장 overview가 유사한 영화 10개를 찾아내는 함수\n",
        "\n",
        "def get_recommendations(title, cosine_sim = cosine_sim):\n",
        "  idx = indices[title]\n",
        "  \n",
        "  # 모든 영화에 대해서 해당 영화와의 유사도를 구합니다.\n",
        "  sim_scores = list(enumerate(cosine_sim[idx]))\n",
        "\n",
        "  # 유사도에 따라 정렬\n",
        "  sim_scores = sorted(sim_scores, key=lambda x: x[1], reverse=True) # 내림차순\n",
        "  sim_scores = sim_scores[1:11]\n",
        "\n",
        "  movie_indices = [i[0] for i in sim_scores]\n",
        "    \n",
        "  return data['title'].iloc[movie_indices]"
      ],
      "execution_count": 17,
      "outputs": []
    },
    {
      "cell_type": "markdown",
      "metadata": {
        "id": "vi9ENKsnDKvU"
      },
      "source": [
        "* ```iloc``` : 데이터프레임의 행이나 컬럼에 인덱스 값으로 접근 (integer indexing)\n",
        " * cf.) ```loc``` : 데이터프레임의 행이나 컬럼에 label이나 boolean array로 접근"
      ]
    },
    {
      "cell_type": "code",
      "metadata": {
        "colab": {
          "base_uri": "https://localhost:8080/"
        },
        "id": "2EBNrGHV6dTb",
        "outputId": "1072d327-6171-4148-b654-62764cde1fbe"
      },
      "source": [
        "get_recommendations('The Dark Knight Rises')"
      ],
      "execution_count": 18,
      "outputs": [
        {
          "output_type": "execute_result",
          "data": {
            "text/plain": [
              "12481                            The Dark Knight\n",
              "150                               Batman Forever\n",
              "1328                              Batman Returns\n",
              "15511                 Batman: Under the Red Hood\n",
              "585                                       Batman\n",
              "9230          Batman Beyond: Return of the Joker\n",
              "18035                           Batman: Year One\n",
              "19792    Batman: The Dark Knight Returns, Part 1\n",
              "3095                Batman: Mask of the Phantasm\n",
              "10122                              Batman Begins\n",
              "Name: title, dtype: object"
            ]
          },
          "metadata": {},
          "execution_count": 18
        }
      ]
    },
    {
      "cell_type": "markdown",
      "metadata": {
        "id": "Z8SGsiGE7Eut"
      },
      "source": [
        "# 2) Other Vector Similarity"
      ]
    },
    {
      "cell_type": "markdown",
      "metadata": {
        "id": "jMZgu6_K7NMU"
      },
      "source": [
        "## 2.1 Euclidean distance"
      ]
    },
    {
      "cell_type": "markdown",
      "metadata": {
        "id": "4_83gZ0y7Su1"
      },
      "source": [
        "![image.png](data:image/png;base64,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)"
      ]
    },
    {
      "cell_type": "markdown",
      "metadata": {
        "id": "OPz2sZW97oEd"
      },
      "source": [
        "* 유클리드 거리를 통해 문서 유사도 계산"
      ]
    },
    {
      "cell_type": "code",
      "metadata": {
        "id": "tM6y40rq7uv9"
      },
      "source": [
        "import numpy as np\n",
        "\n",
        "def dist(x, y):\n",
        "  return np.sqrt(np.sum((x-y) ** 2))"
      ],
      "execution_count": 1,
      "outputs": []
    },
    {
      "cell_type": "code",
      "metadata": {
        "colab": {
          "base_uri": "https://localhost:8080/"
        },
        "id": "3eBpFG4-7xYZ",
        "outputId": "35cde558-b9e8-4599-cba5-d933eee4dc57"
      },
      "source": [
        "doc1 = np.array((2,3,0,1))\n",
        "doc2 = np.array((1,2,3,1))\n",
        "doc3 = np.array((2,1,2,2))\n",
        "docQ = np.array((1,1,0,1))\n",
        "\n",
        "print(dist(doc1,docQ))\n",
        "print(dist(doc2,docQ))\n",
        "print(dist(doc3,docQ))"
      ],
      "execution_count": 2,
      "outputs": [
        {
          "output_type": "stream",
          "name": "stdout",
          "text": [
            "2.23606797749979\n",
            "3.1622776601683795\n",
            "2.449489742783178\n"
          ]
        }
      ]
    },
    {
      "cell_type": "markdown",
      "metadata": {
        "id": "iVEaIZxu7740"
      },
      "source": [
        "* 문서Q는 문서1과 가장 유사하다"
      ]
    },
    {
      "cell_type": "markdown",
      "metadata": {
        "id": "_4f2qNkO7TCU"
      },
      "source": [
        "## 2.2 Jaccard similarity"
      ]
    },
    {
      "cell_type": "markdown",
      "metadata": {
        "id": "M-s6snSq7XYk"
      },
      "source": [
        "A와 B 두개의 집합이 있다고 할 때, 합집합에 대한 교집합의 비율을 구한다면 두 집합 A와 B의 유사도를 구할 수 있다는 것이 자카드 유사도(jaccard similarity)의 아이디어\n",
        "\n",
        "* $J(A,B)=\\frac{|A\\text{∩}B|}{|A\\text{∪}B|}=\\frac{|A\\text{∩}B|}{|A|+|B|-|A\\text{∩}B|}$\n",
        "\n",
        "* 위의 유사도를 문서 유사도에 적용하면 $J(\\text{doc}_{1},\\text{doc}_{2})=\\frac{\\text{doc}_{1}\\text{∩}\\text{doc}_{2}}{\\text{doc}_{1}\\text{∪}\\text{doc}_{2}}$"
      ]
    },
    {
      "cell_type": "code",
      "metadata": {
        "colab": {
          "base_uri": "https://localhost:8080/"
        },
        "id": "HitaS6mY9AGZ",
        "outputId": "2b3bc0d5-fec6-438a-8a61-53cae02b129b"
      },
      "source": [
        "doc1 = \"apple banana everyone like likey watch card holder\"\n",
        "doc2 = \"apple banana coupon passport love you\"\n",
        "\n",
        "tokenized_doc1 = doc1.split()\n",
        "tokenized_doc2 = doc2.split()\n",
        "\n",
        "print(tokenized_doc1)\n",
        "print(tokenized_doc2)"
      ],
      "execution_count": 3,
      "outputs": [
        {
          "output_type": "stream",
          "name": "stdout",
          "text": [
            "['apple', 'banana', 'everyone', 'like', 'likey', 'watch', 'card', 'holder']\n",
            "['apple', 'banana', 'coupon', 'passport', 'love', 'you']\n"
          ]
        }
      ]
    },
    {
      "cell_type": "code",
      "metadata": {
        "colab": {
          "base_uri": "https://localhost:8080/"
        },
        "id": "bHlZmqMJ9Myc",
        "outputId": "4ed2dbed-8fb4-4b3b-e026-ac0e8414a206"
      },
      "source": [
        "# 합집합\n",
        "union = set(tokenized_doc1).union(set(tokenized_doc2))\n",
        "print(union)\n",
        "\n",
        "# 교집합\n",
        "intersection = set(tokenized_doc1).intersection(set(tokenized_doc2))\n",
        "print(intersection)\n",
        "\n",
        "# 자카드 유사도\n",
        "print(len(intersection)/len(union))"
      ],
      "execution_count": 6,
      "outputs": [
        {
          "output_type": "stream",
          "name": "stdout",
          "text": [
            "{'banana', 'passport', 'apple', 'love', 'holder', 'like', 'you', 'coupon', 'everyone', 'likey', 'watch', 'card'}\n",
            "{'apple', 'banana'}\n",
            "0.16666666666666666\n"
          ]
        }
      ]
    },
    {
      "cell_type": "markdown",
      "metadata": {
        "id": "tf8L8vmZ9j-D"
      },
      "source": [
        "* 위의 계산값은 자카드 유사도이자, 두 문서의 총 단어 집합에서 두 문서에서 공통적으로 등장한 단어의 비율이기도 함"
      ]
    }
  ]
}
