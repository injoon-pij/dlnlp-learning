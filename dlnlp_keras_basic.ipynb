{
  "nbformat": 4,
  "nbformat_minor": 0,
  "metadata": {
    "colab": {
      "name": "dlnlp_keras_basic.ipynb",
      "provenance": [],
      "collapsed_sections": [],
      "authorship_tag": "ABX9TyPxJYN8D+FA1pMZF4ndpVWt",
      "include_colab_link": true
    },
    "kernelspec": {
      "name": "python3",
      "display_name": "Python 3"
    },
    "language_info": {
      "name": "python"
    }
  },
  "cells": [
    {
      "cell_type": "markdown",
      "metadata": {
        "id": "view-in-github",
        "colab_type": "text"
      },
      "source": [
        "<a href=\"https://colab.research.google.com/github/injoon-pij/dlnlp-learning/blob/main/dlnlp_keras_basic.ipynb\" target=\"_parent\"><img src=\"https://colab.research.google.com/assets/colab-badge.svg\" alt=\"Open In Colab\"/></a>"
      ]
    },
    {
      "cell_type": "markdown",
      "metadata": {
        "id": "4rbaU01JosnK"
      },
      "source": [
        "__케라스(Keras)__\n",
        "\n",
        "* 딥러닝 구현을 도와주는 파이썬 라이브러리\n",
        "\n",
        "* [케라스 공식 문서](https://keras.io/)"
      ]
    },
    {
      "cell_type": "markdown",
      "metadata": {
        "id": "iLufItZYofIM"
      },
      "source": [
        "# 1) Preprocessing"
      ]
    },
    {
      "cell_type": "markdown",
      "metadata": {
        "id": "lnc1qJgCtVmz"
      },
      "source": [
        "* ```Tokenizer()``` :  토큰화와 정수 인코딩(단어에 대한 인덱싱)을 위해 사용됨\n",
        " * ```Tokenizer.fit_on_text()``` : 입력된 데이터를 각각 토큰화하고, 전체 단어 집합을 생성함. 이때 단어 집합의 인덱스 순서는 단어 빈도수가 높은 순서와 같음\n",
        " * ```Tokenizer.text_to_sequences()``` : 입력된 시퀸스 데이터의 단어들에 대하여 앞서 생성한 단어 집합을 기반으로  정수 인코딩 수행"
      ]
    },
    {
      "cell_type": "code",
      "metadata": {
        "id": "kABm5DlHJJhd"
      },
      "source": [
        "from tensorflow.keras.preprocessing.text import Tokenizer\n",
        "t  = Tokenizer()\n",
        "\n",
        "fit_text = \"The earth is an awesome place live\"\n",
        "t.fit_on_texts([fit_text])"
      ],
      "execution_count": null,
      "outputs": []
    },
    {
      "cell_type": "code",
      "metadata": {
        "colab": {
          "base_uri": "https://localhost:8080/"
        },
        "id": "Bxf727TBtxWh",
        "outputId": "6d9d48e5-ed39-4ece-c90a-2964655ae322"
      },
      "source": [
        "t.word_index # 단어집합"
      ],
      "execution_count": null,
      "outputs": [
        {
          "output_type": "execute_result",
          "data": {
            "text/plain": [
              "{'an': 4, 'awesome': 5, 'earth': 2, 'is': 3, 'live': 7, 'place': 6, 'the': 1}"
            ]
          },
          "metadata": {},
          "execution_count": 10
        }
      ]
    },
    {
      "cell_type": "code",
      "metadata": {
        "colab": {
          "base_uri": "https://localhost:8080/"
        },
        "id": "fc8SSsvUuJ3Y",
        "outputId": "a913f2ab-ef0c-4bde-a96d-b76e992ef1d3"
      },
      "source": [
        "t.word_counts # 단어집합의 각 단어들의 빈도수"
      ],
      "execution_count": null,
      "outputs": [
        {
          "output_type": "execute_result",
          "data": {
            "text/plain": [
              "OrderedDict([('the', 1),\n",
              "             ('earth', 1),\n",
              "             ('is', 1),\n",
              "             ('an', 1),\n",
              "             ('awesome', 1),\n",
              "             ('place', 1),\n",
              "             ('live', 1)])"
            ]
          },
          "metadata": {},
          "execution_count": 11
        }
      ]
    },
    {
      "cell_type": "code",
      "metadata": {
        "colab": {
          "base_uri": "https://localhost:8080/"
        },
        "id": "MInztBSsAJbo",
        "outputId": "df24458c-d4a2-4099-a362-a24c6197bcc7"
      },
      "source": [
        "test_text = \"The earth is an great place live\"\n",
        "sequences = t.texts_to_sequences([test_text])[0]\n",
        "\n",
        "print(\"sequences : \",sequences) # great는 단어 집합(vocabulary)에 없으므로 출력되지 않음\n",
        "print(\"word_index : \",t.word_index)"
      ],
      "execution_count": null,
      "outputs": [
        {
          "output_type": "stream",
          "name": "stdout",
          "text": [
            "sequences :  [1, 2, 3, 4, 6, 7]\n",
            "word_index :  {'the': 1, 'earth': 2, 'is': 3, 'an': 4, 'awesome': 5, 'place': 6, 'live': 7}\n"
          ]
        }
      ]
    },
    {
      "cell_type": "markdown",
      "metadata": {
        "id": "XvW7tAkNBIuQ"
      },
      "source": [
        "* ```pad_sequnce()``` : 훈련 데이터의 모든 샘플의 길이를 동일하게 맞춰줌 (패딩(padding) 작업) \n",
        " * 보통 숫자 0을 넣어서 길이가 다른 샘플들의 길이를 동일하게 맞춰줌 \n",
        " * 정해준 길이보다 길이가 긴 샘플은 값을 일부 자르고, 정해준 길이보다 길이가 짧은 샘플은 값을 0으로 채움\n",
        " * ```maxlen``` : 모든 데이터에 대해서 정규화할 길이\n",
        " * ```padding``` : 'pre'를 선택하면 앞에 0을 채우고 'post'를 선택하면 뒤에 0을 채움"
      ]
    },
    {
      "cell_type": "code",
      "metadata": {
        "colab": {
          "base_uri": "https://localhost:8080/"
        },
        "id": "94KjV_NhBwKo",
        "outputId": "bb50ea80-adef-4d62-cfdf-096387ed7c0f"
      },
      "source": [
        "from tensorflow.keras.preprocessing.sequence import pad_sequences\n",
        "\n",
        "pad_sequences([[1, 2, 3], [3, 4, 5, 6], [7, 8]], maxlen=3, padding='pre')"
      ],
      "execution_count": null,
      "outputs": [
        {
          "output_type": "execute_result",
          "data": {
            "text/plain": [
              "array([[1, 2, 3],\n",
              "       [4, 5, 6],\n",
              "       [0, 7, 8]], dtype=int32)"
            ]
          },
          "metadata": {},
          "execution_count": 13
        }
      ]
    },
    {
      "cell_type": "markdown",
      "metadata": {
        "id": "5EBLtzGYom6T"
      },
      "source": [
        "# 2) Word Embedding"
      ]
    },
    {
      "cell_type": "markdown",
      "metadata": {
        "id": "1z3EcN1zEnnJ"
      },
      "source": [
        "* Embedding() : 인공 신경망에서 단어를 밀집 벡터로 만들어 주는 임베딩층(embedding layer)을 만듬.\n",
        " * 정수 인코딩이 된 단어들을 입력을 받아서 임베딩을 수행함\n",
        " * (ex) ```Embedding(7, 2, input_length=5)```\n",
        "  * 7 : 단어 집합 크기\n",
        "  * 2 : 임베딩 벡터의 크기\n",
        "  * input_length : 입력 시퀀스의 길이"
      ]
    },
    {
      "cell_type": "markdown",
      "metadata": {
        "id": "34nd9dJrpo1a"
      },
      "source": [
        "# 3) Keras API"
      ]
    },
    {
      "cell_type": "markdown",
      "metadata": {
        "id": "_qzpaIXooqPJ"
      },
      "source": [
        "## 3.1 Sequential API"
      ]
    },
    {
      "cell_type": "markdown",
      "metadata": {
        "id": "5hcE1mvcIaaj"
      },
      "source": [
        "* __Sequential()__을 model로 선언한 뒤에 model.add()라는 코드를 통해 층을 단계적으로 추가함"
      ]
    },
    {
      "cell_type": "code",
      "metadata": {
        "id": "UigfrgB4pbdS"
      },
      "source": [
        "from tensorflow.keras.models import Sequential\n",
        "model = Sequential()"
      ],
      "execution_count": null,
      "outputs": []
    },
    {
      "cell_type": "markdown",
      "metadata": {
        "id": "zDa_dNW4I33Z"
      },
      "source": [
        "* __Embedding()__ : 임베딩층(embedding layer)을 추가함\n",
        " * input_dim = vocab size \n",
        " * outupt_dim = embedding vector size"
      ]
    },
    {
      "cell_type": "code",
      "metadata": {
        "id": "i54FptnGI05G"
      },
      "source": [
        "from tensorflow.keras.models import Sequential\n",
        "from tensorflow.keras.layers import Embedding\n",
        "model = Sequential()\n",
        "model.add(Embedding(input_dim = 100, output_dim = 10))"
      ],
      "execution_count": null,
      "outputs": []
    },
    {
      "cell_type": "markdown",
      "metadata": {
        "id": "3F-1GsnXK2bh"
      },
      "source": [
        "* __Dense()__ : 전결합층(fully-conntected layer)을 추가\n",
        " * 첫번째 인자 = 출력 뉴런 수\n",
        " * input_dim = 입력 뉴런 수\n",
        " * activation = 활성화함수\n",
        "   * linear(default) : 별도 활성화 함수 없이 입력 뉴런과 가중치와의 계산 결과 그대로 출력함 (선형회귀)\n",
        "   * sigmoid : 이진 분류 문제에서 출력층에 주로 사용되는 활성화 함수\n",
        "   * softmax : 셋 이상을 분류하는 다중 클래스 분류 문제에서 출력층에 주로 사용되는 활성화 함수\n",
        "   * relu : 은닉층에 주로 사용되는 활성화 함수"
      ]
    },
    {
      "cell_type": "code",
      "metadata": {
        "id": "6tPwWTWJM9PR"
      },
      "source": [
        "from tensorflow.keras.models import Sequential\n",
        "from tensorflow.keras.layers import Dense\n",
        "model = Sequential()\n",
        "model.add(Dense(1, input_dim=3, activation='relu'))"
      ],
      "execution_count": null,
      "outputs": []
    },
    {
      "cell_type": "markdown",
      "metadata": {
        "id": "NaVFqyPxNGVM"
      },
      "source": [
        "![image.png](data:image/png;base64,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)"
      ]
    },
    {
      "cell_type": "code",
      "metadata": {
        "id": "VykcRrn94c4t"
      },
      "source": [
        "from tensorflow.keras.models import Sequential\n",
        "from tensorflow.keras.layers import Dense\n",
        "model = Sequential()\n",
        "model.add(Dense(8, input_dim=4, activation='relu'))\n",
        "model.add(Dense(1, activation='sigmoid')) # 이전층 뉴런의 수를 알기 때문에 input_dim을 지정할 필요없음"
      ],
      "execution_count": null,
      "outputs": []
    },
    {
      "cell_type": "markdown",
      "metadata": {
        "id": "Q5dPDZPs4pjx"
      },
      "source": [
        "![image.png](data:image/png;base64,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)"
      ]
    },
    {
      "cell_type": "markdown",
      "metadata": {
        "id": "xgZldAjG4yVt"
      },
      "source": [
        "* __summary()__ : 모델의 정보를 요약해서 보여줌"
      ]
    },
    {
      "cell_type": "code",
      "metadata": {
        "colab": {
          "base_uri": "https://localhost:8080/"
        },
        "id": "UhVVm8NE4x5b",
        "outputId": "4de45dd1-6da3-4771-95ee-6e8bf1327909"
      },
      "source": [
        "model.summary()"
      ],
      "execution_count": null,
      "outputs": [
        {
          "output_type": "stream",
          "name": "stdout",
          "text": [
            "Model: \"sequential\"\n",
            "_________________________________________________________________\n",
            "Layer (type)                 Output Shape              Param #   \n",
            "=================================================================\n",
            "dense (Dense)                (None, 8)                 40        \n",
            "_________________________________________________________________\n",
            "dense_1 (Dense)              (None, 1)                 9         \n",
            "=================================================================\n",
            "Total params: 49\n",
            "Trainable params: 49\n",
            "Non-trainable params: 0\n",
            "_________________________________________________________________\n"
          ]
        }
      ]
    },
    {
      "cell_type": "markdown",
      "metadata": {
        "id": "gUexBIvn5oRM"
      },
      "source": [
        "* __compile()__ : 모델을 기계가 이해할 수 있도록 컴파일함 \n",
        " * 최적화 방법과 오차 함수, 메트릭 함수(훈련을 모니터링하기 위한 지표)를 선택"
      ]
    },
    {
      "cell_type": "code",
      "metadata": {
        "id": "afkOdpeF53br"
      },
      "source": [
        "from tensorflow.keras.layers import SimpleRNN, Embedding, Dense\n",
        "from tensorflow.keras.models import Sequential\n",
        "max_features = 10000\n",
        "\n",
        "model = Sequential()\n",
        "model.add(Embedding(max_features, 32))\n",
        "model.add(SimpleRNN(32))\n",
        "model.add(Dense(1, activation='sigmoid'))\n",
        "\n",
        "model.compile(optimizer='rmsprop', loss='binary_crossentropy', metrics=['acc'])"
      ],
      "execution_count": null,
      "outputs": []
    },
    {
      "cell_type": "markdown",
      "metadata": {
        "id": "-4pdB8Lx53Dc"
      },
      "source": [
        "* __fit()__ : 모델을 학습함 \n",
        " * 학습/훈련/적합(fitting) : 모델이 오차로부터 매개 변수를 업데이트 시키는 과정\n",
        "   * 첫번째 인자 = 훈련 데이터\n",
        "   * 두번째 인자 = 레이블 데이터\n",
        "   * epochs = 에포크(총 훈련 횟수)\n",
        "   * batch_size(default = 32) = 배치 크기 \n",
        "     * 미니 배치 경사 하강법을 사용하고 싶지 않을 경우에는 batch_size=None\n",
        "   * validation_data(x_val, y_val) = 검증 데이터 사용\n",
        "     * 각 에포크마다 검증 데이터의 정확도도 함께 출력되는데, 이 정확도는 훈련이 잘 되고 있는지를 보여줄 뿐 __실제로 모델이 검증 데이터를 학습하지는 않음__\n",
        "     * 검증 데이터의 loss가 낮아지다가 높아지기 시작하면 이는 과적합(overfitting)의 신호임\n",
        "   * validation_split= ```validation_data =``` 대신 사용할 수 있음\n",
        "     * 검증 데이터를 사용하는 것은 동일하지만, 별도로 존재하는 검증 데이터를 주는 것이 아니라 X_train과 y_train에서 일정 비율을 분리하여 이를 검증 데이터로 사용함\n",
        "     * 마찬가지로 훈련 자체에는 반영되지 않고 훈련 과정을 지켜보기 위한 용도로 사용됨\n",
        "   * verbose = 학습 중 출력되는 문구를 설정함\n",
        "     * 0 : 아무 것도 출력하지 않음\n",
        "     * 1 : 훈련의 진행도를 보여주는 진행 막대를 보여줌\n",
        "     * 2 : 미니 배치마다 손실 정보를 출력"
      ]
    },
    {
      "cell_type": "markdown",
      "metadata": {
        "id": "BvM2AZnp69tW"
      },
      "source": [
        "```python\n",
        "model.fit(X_train, y_train, epochs=10, batch_size=32, verbose=0, validation_data(X_val, y_val))\n",
        "```"
      ]
    },
    {
      "cell_type": "markdown",
      "metadata": {
        "id": "yicGO88l9fO0"
      },
      "source": [
        "```python\n",
        "model.fit(X_train, y_train, epochs=10, batch_size=32, verbose=0, validation_split=0.2))\n",
        "```"
      ]
    },
    {
      "cell_type": "markdown",
      "metadata": {
        "id": "k7uq5KNK-L20"
      },
      "source": [
        "```python\n",
        "# verbose = 1일 경우.\n",
        "Epoch 88/100\n",
        "7/7 [==============================] - 0s 143us/step - loss: 0.1029 - acc: 1.0000\n",
        "```"
      ]
    },
    {
      "cell_type": "markdown",
      "metadata": {
        "id": "H6yqIOrm-VXj"
      },
      "source": [
        "```python\n",
        "# verbose = 2일 경우.\n",
        "Epoch 88/100\n",
        " - 0s - loss: 0.1475 - acc: 1.0000\n",
        "```"
      ]
    },
    {
      "cell_type": "markdown",
      "metadata": {
        "id": "CVVMTxpJ_AmO"
      },
      "source": [
        "* __evaluate()__ : 테스트 데이터를 통해 학습한 모델에 대한 정확도를 평가함\n",
        " * 첫번째 인자 = 테스트 데이터\n",
        " * 두번째 인자 = 레이블 테스트 데이터\n",
        " * batch_size = 배치 크기"
      ]
    },
    {
      "cell_type": "markdown",
      "metadata": {
        "id": "B8uyQlEE_5f0"
      },
      "source": [
        "```python\n",
        "model.evaluate(X_test, y_test, batch_size=32)\n",
        "```"
      ]
    },
    {
      "cell_type": "markdown",
      "metadata": {
        "id": "pdshBbZq_8a8"
      },
      "source": [
        "* __predict()__ : 임의의 입력에 대한 모델의 출력값을 확인\n",
        " * 첫번째 인자 = 예측하고자 하는 데이터.\n",
        " * batch_size = 배치 크기"
      ]
    },
    {
      "cell_type": "markdown",
      "metadata": {
        "id": "oiY84lSHAKJk"
      },
      "source": [
        "```python\n",
        "model.predict(X_input, batch_size=32)\n",
        "```"
      ]
    },
    {
      "cell_type": "markdown",
      "metadata": {
        "id": "s_QGtrZjAfxk"
      },
      "source": [
        "* __save()__ : 인공 신경망 모델을 hdf5 파일에 저장"
      ]
    },
    {
      "cell_type": "markdown",
      "metadata": {
        "id": "K8sotynMArEn"
      },
      "source": [
        " ```python\n",
        " model.save(\"model_name.h5\")\n",
        " ```"
      ]
    },
    {
      "cell_type": "markdown",
      "metadata": {
        "id": "glmIVn_ZAvjs"
      },
      "source": [
        "* __load_model()__ : 저장해둔 모델을 불러옴"
      ]
    },
    {
      "cell_type": "markdown",
      "metadata": {
        "id": "DzQSylmQAzEW"
      },
      "source": [
        "```python\n",
        "from tensorflow.keras.models import load_model\n",
        "model = load_model(\"model_name.h5\")\n",
        "```"
      ]
    },
    {
      "cell_type": "markdown",
      "metadata": {
        "id": "upJq1HfFpb16"
      },
      "source": [
        "## 3.2 Functional API"
      ]
    },
    {
      "cell_type": "markdown",
      "metadata": {
        "id": "IPgCdJ-FA_jP"
      },
      "source": [
        "* Sequential API는 여러 층을 공유하거나 다양한 종류의 입력과 출력을 사용하는 등의 복잡한 모델을 만드는 일에는 한계가 있음\n",
        "* Functional API을 통해 Sequential API로는 만들기 어려운 더욱 복잡한 모델을 생성할 수 있음\n",
        "* Functional API는 __각 층을 일종의 함수(function)로서 정의__하고 각 함수를 조합하기 위한 연산자들을 제공하는데, 이를 이용하여 신경망을 설계함"
      ]
    },
    {
      "cell_type": "markdown",
      "metadata": {
        "id": "YX3onj2uCTJM"
      },
      "source": [
        "Functional API로 FFNN, RNN 등 다양한 모델을 만들면서 기존의 sequential API와의 차이 이해"
      ]
    },
    {
      "cell_type": "markdown",
      "metadata": {
        "id": "NLvFUox-CZhb"
      },
      "source": [
        "__[전결합 피드 포워드 신경망(Fully-connected FFNN)]__"
      ]
    },
    {
      "cell_type": "code",
      "metadata": {
        "id": "uSBeV5Ispvi6"
      },
      "source": [
        "from tensorflow.keras.layers import Input, Dense\n",
        "from tensorflow.keras.models import Model"
      ],
      "execution_count": null,
      "outputs": []
    },
    {
      "cell_type": "code",
      "metadata": {
        "id": "ZbAtQE89CqSH"
      },
      "source": [
        "# Sequential API와는 다르게 Functional API에서는 입력 데이터의 크기(shape)를 인자로 입력층을 정의해주어야 함\n",
        "\n",
        "inputs = Input(shape=(10,)) # Input 함수에 입력 크기 정의\n",
        "hidden1 = Dense(64, activation='relu')(inputs)\n",
        "hidden2 = Dense(64, activation='relu')(hidden1)\n",
        "output = Dense(1, activation='sigmoid')(hidden2)\n",
        "model = Model(inputs=inputs, outputs=output) # Model() 함수에 입력과 출력 정의"
      ],
      "execution_count": null,
      "outputs": []
    },
    {
      "cell_type": "markdown",
      "metadata": {
        "id": "AgklPyjLDJM9"
      },
      "source": [
        "* 이전층을 다음층 함수의 입력으로 사용하고, 이를 변수에 할당함"
      ]
    },
    {
      "cell_type": "markdown",
      "metadata": {
        "id": "rE0Axb2TEr1k"
      },
      "source": [
        "```python\n",
        "model.compile(optimizer='rmsprop', loss='categorical_crossentropy', metrics=['accuracy'])\n",
        "model.fit(data, labels)\n",
        "```"
      ]
    },
    {
      "cell_type": "markdown",
      "metadata": {
        "id": "8YtMkhCREy_u"
      },
      "source": [
        "* Sequential API를 사용할 때와 마찬가지로 저장한 model에 ```model.compile```, ```model.fit``` 등을 사용 가능함"
      ]
    },
    {
      "cell_type": "markdown",
      "metadata": {
        "id": "-YgmpuuQFCvz"
      },
      "source": [
        "__[선형 회귀(Linear Regression)]__"
      ]
    },
    {
      "cell_type": "markdown",
      "metadata": {
        "id": "7KzhhufLFgjt"
      },
      "source": [
        "```python\n",
        "from tensorflow.keras.layers import Input, Dense\n",
        "from tensorflow.keras import optimizers\n",
        "from tensorflow.keras.models import Model\n",
        "\n",
        "X = [1, 2, 3, 4, 5, 6, 7, 8, 9]\n",
        "y = [11, 22, 33, 44, 53, 66, 77, 87, 95]\n",
        "\n",
        "inputs = Input(shape=(1,))\n",
        "output = Dense(1, activation='linear')(inputs)\n",
        "linear_model = Model(inputs, output)\n",
        "\n",
        "sgd = optimizers.SGD(lr=0.01)\n",
        "\n",
        "linear_model.compile(optimizer=sgd ,loss='mse',metrics=['mse'])\n",
        "linear_model.fit(X, y, batch_size=1, epochs=300, shuffle=False)\n",
        "```"
      ]
    },
    {
      "cell_type": "markdown",
      "metadata": {
        "id": "QK0DeaNnFJIf"
      },
      "source": [
        "__[로지스틱 회귀(Logistic Regression)]__"
      ]
    },
    {
      "cell_type": "markdown",
      "metadata": {
        "id": "am0919ycFo-O"
      },
      "source": [
        "```python\n",
        "from tensorflow.keras.layers import Input, Dense\n",
        "from tensorflow.keras.models import Model\n",
        "\n",
        "inputs = Input(shape=(3,))\n",
        "output = Dense(1, activation='sigmoid')(inputs)\n",
        "logistic_model = Model(inputs, output)\n",
        "```"
      ]
    },
    {
      "cell_type": "markdown",
      "metadata": {
        "id": "Y249wqyqFrOW"
      },
      "source": [
        "__[다중 입력을 받는 모델(model that accepts multiple inputs)]__"
      ]
    },
    {
      "cell_type": "markdown",
      "metadata": {
        "id": "cRFxtOJxF7l9"
      },
      "source": [
        "```python\n",
        "from tensorflow.keras.layers import Input, Dense, concatenate\n",
        "from tensorflow.keras.models import Model\n",
        "\n",
        "# 두 개의 입력층을 정의\n",
        "inputA = Input(shape=(64,))\n",
        "inputB = Input(shape=(128,))\n",
        "\n",
        "# 첫번째 입력층으로부터 분기되어 진행되는 인공 신경망을 정의\n",
        "x = Dense(16, activation=\"relu\")(inputA)\n",
        "x = Dense(8, activation=\"relu\")(x)\n",
        "x = Model(inputs=inputA, outputs=x)\n",
        "\n",
        "# 두번째 입력층으로부터 분기되어 진행되는 인공 신경망을 정의\n",
        "y = Dense(64, activation=\"relu\")(inputB)\n",
        "y = Dense(32, activation=\"relu\")(y)\n",
        "y = Dense(8, activation=\"relu\")(y)\n",
        "y = Model(inputs=inputB, outputs=y)\n",
        "\n",
        "# 두개의 인공 신경망의 출력을 연결(concatenate)\n",
        "result = concatenate([x.output, y.output])\n",
        "\n",
        "# 연결된 값을 입력으로 받는 밀집층을 추가(Dense layer)\n",
        "z = Dense(2, activation=\"relu\")(result)\n",
        "# 선형 회귀를 위해 activation=linear를 설정\n",
        "z = Dense(1, activation=\"linear\")(z)\n",
        "\n",
        "# 결과적으로 이 모델은 두 개의 입력층으로부터 분기되어 진행된 후 마지막에는 하나의 출력을 예측하는 모델이 됨.\n",
        "model = Model(inputs=[x.input, y.input], outputs=z)\n",
        "```"
      ]
    },
    {
      "cell_type": "markdown",
      "metadata": {
        "id": "VuI8S-vuHKTL"
      },
      "source": [
        "__[RNN(Recurrence Neural Network)]__"
      ]
    },
    {
      "cell_type": "markdown",
      "metadata": {
        "id": "i544fU8zHMvj"
      },
      "source": [
        "```python\n",
        "from tensorflow.keras.layers import Input, Dense, LSTM\n",
        "from tensorflow.keras.models import Model\n",
        "inputs = Input(shape=(50,1)) # time_step(input_length) = 50, input_dim= 1\n",
        "lstm_layer = LSTM(10)(inputs)\n",
        "x = Dense(10, activation='relu')(lstm_layer)\n",
        "output = Dense(1, activation='sigmoid')(x)\n",
        "model = Model(inputs=inputs, outputs=output)\n",
        "```"
      ]
    },
    {
      "cell_type": "markdown",
      "metadata": {
        "id": "DLFuN9DfIwBr"
      },
      "source": [
        "----\n",
        "```python\n",
        "# 아래의 두 코드는 동일한 의미\n",
        "\n",
        "result = Dense(128)(input)\n",
        "\n",
        "dense = Dense(128)\n",
        "result = dense(input)\n",
        "``` "
      ]
    },
    {
      "cell_type": "markdown",
      "metadata": {
        "id": "ArdilSqBpdyj"
      },
      "source": [
        "## 3.3 Subclassing API"
      ]
    },
    {
      "cell_type": "markdown",
      "metadata": {
        "id": "6nYcO7IxPbDe"
      },
      "source": [
        "* Subclassing API로 Functional API가 구현할 수 없는 모델들을 구현할 수 있는 경우가 있음\n",
        " * Functional API는 기본적으로 딥 러닝 모델을 DAG(directed acyclic graph)로 취급함. 실제로 대부분의 딥러닝 모델이 이에 속하기는 하지만, 재귀 네트워크나 트리 RNN은 이 가정을 따르지 않으며 Functional API에서 구현할 수 없음"
      ]
    },
    {
      "cell_type": "markdown",
      "metadata": {
        "id": "3k9fp7FwP4zS"
      },
      "source": [
        "모델 구현 예시"
      ]
    },
    {
      "cell_type": "markdown",
      "metadata": {
        "id": "K1ozJNzpO51D"
      },
      "source": [
        "__[선형 회귀(Linear Regression)]__"
      ]
    },
    {
      "cell_type": "markdown",
      "metadata": {
        "id": "usGjQyCzO6b7"
      },
      "source": [
        "```python\n",
        "import tensorflow as tf\n",
        "\n",
        "class LinearRegression(tf.keras.Model):\n",
        "  def __init__(self):\n",
        "    super(LinearRegression, self).__init__()\n",
        "    self.linear_layer = tf.keras.layers.Dense(1, input_dim=1, activation='linear')\n",
        "\n",
        "  def call(self, x):\n",
        "    y_pred = self.linear_layer(x)\n",
        "\n",
        "    return y_pred\n",
        "\n",
        "model = LinearRegression()\n",
        "```"
      ]
    },
    {
      "cell_type": "markdown",
      "metadata": {
        "id": "6vp8Ybe1PPlp"
      },
      "source": [
        "* 클래스(class) 형태의 모델은 tf.keras.Model을 상속받음\n",
        "* init() :  모델의 구조와 동적을 정의하는 생성자를 정의\n",
        " * 이는 파이썬에서 객체가 갖는 속성값을 초기화하는 역할로, 객체가 생성될 때 자동으로 호출됨\n",
        " * super() : 여기서 만든 클래스는 tf.keras.Model 클래스의 속성들을 가지고 초기화됨\n",
        "* call() : 모델이 데이터를 입력받아 예측값을 리턴하는 포워드(forward) 연산을 진행시키는 함수"
      ]
    },
    {
      "cell_type": "markdown",
      "metadata": {
        "id": "utlmuWlaPGmE"
      },
      "source": [
        "```python\n",
        "X = [1, 2, 3, 4, 5, 6, 7, 8, 9]\n",
        "y = [11, 22, 33, 44, 53, 66, 77, 87, 95]\n",
        "\n",
        "sgd = tf.keras.optimizers.SGD(lr=0.01)\n",
        "\n",
        "model.compile(optimizer=sgd ,loss='mse',metrics=['mse'])\n",
        "\n",
        "model.fit(X,y, batch_size=1, epochs=300, shuffle=False)\n",
        "```"
      ]
    },
    {
      "cell_type": "markdown",
      "metadata": {
        "id": "SU283kANYvPJ"
      },
      "source": [
        "---\n",
        "\n",
        "__[세 가지 구현 방식 비교]__\n",
        "\n",
        "1. Sequential API\n",
        "* 장점 : 단순하게 층을 쌓는 방식으로 쉽고 사용하기가 간단함\n",
        "* 단점 : 다수의 입력(multi-input), 다수의 출력(multi-output)을 가진 모델 또는 층간의 연결(concatenate)이나 덧셈(Add)과 같은 연산을 하는 모델을 구현하기에는 적합하지 않음\n",
        "\n",
        "2. Functional API\n",
        "* 장점 : Sequential API로는 구현하기 어려운 복잡한 모델들을 구현할 수 있음\n",
        "* 단점 : 입력의 크기(shape)를 명시한 입력층(Input layer)을 모델의 앞단에 정의해주어야 함\n",
        "\n",
        "3. Subclassing API\n",
        "* 장점 : Functional API로도 구현할 수 없는 모델들조차 구현이 가능함\n",
        "* 단점 : 객체 지향 프로그래밍(Object-oriented programming)에 익숙해야 하므로 코드 사용이 가장 까다로움"
      ]
    },
    {
      "cell_type": "markdown",
      "metadata": {
        "id": "gsw4ElpjpyMB"
      },
      "source": [
        "# 4) MLP modeling by Keras (Text classification)"
      ]
    },
    {
      "cell_type": "markdown",
      "metadata": {
        "id": "NqIyHUVt5EgS"
      },
      "source": [
        "## Keras Tokenizer.texts_to_matrix()"
      ]
    },
    {
      "cell_type": "code",
      "metadata": {
        "id": "14-83ZdKqC3y"
      },
      "source": [
        "import numpy as np\n",
        "from tensorflow.keras.preprocessing.text import Tokenizer\n",
        "\n",
        "texts = ['먹고 싶은 사과', '먹고 싶은 바나나', '길고 노란 바나나 바나나', '저는 과일이 좋아요']"
      ],
      "execution_count": 1,
      "outputs": []
    },
    {
      "cell_type": "code",
      "metadata": {
        "colab": {
          "base_uri": "https://localhost:8080/"
        },
        "id": "epvTY9Cy5gwi",
        "outputId": "6e7c7372-be00-48de-9d11-1e1baeca91e7"
      },
      "source": [
        "t = Tokenizer()\n",
        "t.fit_on_texts(texts)\n",
        "print(t.word_index)"
      ],
      "execution_count": 2,
      "outputs": [
        {
          "output_type": "stream",
          "name": "stdout",
          "text": [
            "{'바나나': 1, '먹고': 2, '싶은': 3, '사과': 4, '길고': 5, '노란': 6, '저는': 7, '과일이': 8, '좋아요': 9}\n"
          ]
        }
      ]
    },
    {
      "cell_type": "markdown",
      "metadata": {
        "id": "AQb4Rw6gkZZu"
      },
      "source": [
        "```texts_to_matrix``` : 입력된 텍스트 데이터로부터 행렬을 만듬\n",
        "* mode\n",
        " * count\n",
        "   * 문서단어행렬(DTM) 생성\n",
        "   * 각 단어에 부여되는 인덱스는 Tokenizer를 통해 생성한 word_index 기반\n",
        " * binary\n",
        "   * count 모드와 비슷하게 문서단어행렬을 생성하지만, 단어의 등장횟수는 고려하지 않고 등장 유무만 고려함\n",
        " * tfidf\n",
        "   * tfidf 행렬 생성\n",
        " * freq\n",
        "   * 각 문서에서의 각 단어의 등장 횟수 / 각 문서의 크기(각 문서에 등장한 모든 단어의 빈도 수의 총합)\n",
        "   * 각 단어를 위와 같이 표현한 행렬 생성"
      ]
    },
    {
      "cell_type": "code",
      "metadata": {
        "id": "ew9DJGtB5n_q",
        "colab": {
          "base_uri": "https://localhost:8080/"
        },
        "outputId": "7ad19508-e90f-4a46-e357-4e3aad126561"
      },
      "source": [
        "print(t.texts_to_matrix(texts, mode = 'count'))"
      ],
      "execution_count": 3,
      "outputs": [
        {
          "output_type": "stream",
          "name": "stdout",
          "text": [
            "[[0. 0. 1. 1. 1. 0. 0. 0. 0. 0.]\n",
            " [0. 1. 1. 1. 0. 0. 0. 0. 0. 0.]\n",
            " [0. 2. 0. 0. 0. 1. 1. 0. 0. 0.]\n",
            " [0. 0. 0. 0. 0. 0. 0. 1. 1. 1.]]\n"
          ]
        }
      ]
    },
    {
      "cell_type": "code",
      "metadata": {
        "colab": {
          "base_uri": "https://localhost:8080/"
        },
        "id": "Nxen_g4em7ze",
        "outputId": "fdf7e966-4f32-4aa7-f349-142b58a6e80e"
      },
      "source": [
        "print(t.texts_to_matrix(texts, mode = 'binary'))"
      ],
      "execution_count": 4,
      "outputs": [
        {
          "output_type": "stream",
          "name": "stdout",
          "text": [
            "[[0. 0. 1. 1. 1. 0. 0. 0. 0. 0.]\n",
            " [0. 1. 1. 1. 0. 0. 0. 0. 0. 0.]\n",
            " [0. 1. 0. 0. 0. 1. 1. 0. 0. 0.]\n",
            " [0. 0. 0. 0. 0. 0. 0. 1. 1. 1.]]\n"
          ]
        }
      ]
    },
    {
      "cell_type": "code",
      "metadata": {
        "colab": {
          "base_uri": "https://localhost:8080/"
        },
        "id": "TwF-Tvs9m8T_",
        "outputId": "59b03d82-15e3-4b48-a836-b9319a1faed6"
      },
      "source": [
        "print(t.texts_to_matrix(texts, mode = 'tfidf'))"
      ],
      "execution_count": 5,
      "outputs": [
        {
          "output_type": "stream",
          "name": "stdout",
          "text": [
            "[[0.         0.         0.84729786 0.84729786 1.09861229 0.\n",
            "  0.         0.         0.         0.        ]\n",
            " [0.         0.84729786 0.84729786 0.84729786 0.         0.\n",
            "  0.         0.         0.         0.        ]\n",
            " [0.         1.43459998 0.         0.         0.         1.09861229\n",
            "  1.09861229 0.         0.         0.        ]\n",
            " [0.         0.         0.         0.         0.         0.\n",
            "  0.         1.09861229 1.09861229 1.09861229]]\n"
          ]
        }
      ]
    },
    {
      "cell_type": "code",
      "metadata": {
        "colab": {
          "base_uri": "https://localhost:8080/"
        },
        "id": "aCVlan18m8gp",
        "outputId": "ae339a6a-933c-486a-c485-c071babbef04"
      },
      "source": [
        "print(t.texts_to_matrix(texts, mode = 'freq'))"
      ],
      "execution_count": 6,
      "outputs": [
        {
          "output_type": "stream",
          "name": "stdout",
          "text": [
            "[[0.         0.         0.33333333 0.33333333 0.33333333 0.\n",
            "  0.         0.         0.         0.        ]\n",
            " [0.         0.33333333 0.33333333 0.33333333 0.         0.\n",
            "  0.         0.         0.         0.        ]\n",
            " [0.         0.5        0.         0.         0.         0.25\n",
            "  0.25       0.         0.         0.        ]\n",
            " [0.         0.         0.         0.         0.         0.\n",
            "  0.         0.33333333 0.33333333 0.33333333]]\n"
          ]
        }
      ]
    },
    {
      "cell_type": "markdown",
      "metadata": {
        "id": "2A8zrXrJoISC"
      },
      "source": [
        "## 4.1 Data Info"
      ]
    },
    {
      "cell_type": "markdown",
      "metadata": {
        "id": "soM6w-9645uq"
      },
      "source": [
        "* 사이킷런에서 제공하는 뉴스 그룹 이메일 데이터\n",
        " * 20개의 다른 주제를 가진 18,846개의 뉴스 그룹 이메일 데이터"
      ]
    },
    {
      "cell_type": "code",
      "metadata": {
        "id": "RDnCCo8RoKmV"
      },
      "source": [
        "import pandas as pd\n",
        "from sklearn.datasets import fetch_20newsgroups\n",
        "\n",
        "%matplotlib inline\n",
        "import matplotlib.pyplot as plt\n",
        "\n",
        "from tensorflow.keras.preprocessing.text import Tokenizer\n",
        "from tensorflow.keras.utils import to_categorical"
      ],
      "execution_count": 7,
      "outputs": []
    },
    {
      "cell_type": "code",
      "metadata": {
        "colab": {
          "base_uri": "https://localhost:8080/"
        },
        "id": "3jiSkppl44MZ",
        "outputId": "4fbf24f7-b9b7-4bcc-e5c6-c5c062748966"
      },
      "source": [
        "newsdata = fetch_20newsgroups(subset = 'train')"
      ],
      "execution_count": 8,
      "outputs": [
        {
          "output_type": "stream",
          "name": "stderr",
          "text": [
            "Downloading 20news dataset. This may take a few minutes.\n",
            "Downloading dataset from https://ndownloader.figshare.com/files/5975967 (14 MB)\n"
          ]
        }
      ]
    },
    {
      "cell_type": "markdown",
      "metadata": {
        "id": "BPFCriDV5S_W"
      },
      "source": [
        "* subset = \n",
        " * 'train' : 훈련 데이터 다운로드\n",
        " * 'test' : 테스트 데이터 다운로드\n",
        " * 'all' : 전체 데이터 샘플 다운로드"
      ]
    },
    {
      "cell_type": "code",
      "metadata": {
        "colab": {
          "base_uri": "https://localhost:8080/"
        },
        "id": "IEo5d21j5etb",
        "outputId": "16be3820-3c64-41b9-daaf-de4bdbefbbfa"
      },
      "source": [
        "print(newsdata.keys())\n",
        "print('훈련용 샘플의 개수 : {}'.format(len(newsdata.data)))\n",
        "print('총 주제의 개수 : {}'.format(len(newsdata.target_names)))\n",
        "print(newsdata.target_names)"
      ],
      "execution_count": 11,
      "outputs": [
        {
          "output_type": "stream",
          "name": "stdout",
          "text": [
            "dict_keys(['data', 'filenames', 'target_names', 'target', 'DESCR'])\n",
            "훈련용 샘플의 개수 : 11314\n",
            "총 주제의 개수 : 20\n",
            "['alt.atheism', 'comp.graphics', 'comp.os.ms-windows.misc', 'comp.sys.ibm.pc.hardware', 'comp.sys.mac.hardware', 'comp.windows.x', 'misc.forsale', 'rec.autos', 'rec.motorcycles', 'rec.sport.baseball', 'rec.sport.hockey', 'sci.crypt', 'sci.electronics', 'sci.med', 'sci.space', 'soc.religion.christian', 'talk.politics.guns', 'talk.politics.mideast', 'talk.politics.misc', 'talk.religion.misc']\n"
          ]
        }
      ]
    },
    {
      "cell_type": "code",
      "metadata": {
        "colab": {
          "base_uri": "https://localhost:8080/"
        },
        "id": "KirvZyqp6dNt",
        "outputId": "aaace6a9-8aa0-4d93-ddf7-fc3d653f7e6b"
      },
      "source": [
        "print('첫번째 샘플의 레이블 : {}'.format(newsdata.target[0]))\n",
        "print('7번 레이블이 의미하는 주제 : {}'.format(newsdata.target_names[7]))"
      ],
      "execution_count": 12,
      "outputs": [
        {
          "output_type": "stream",
          "name": "stdout",
          "text": [
            "첫번째 샘플의 레이블 : 7\n",
            "7번 레이블이 의미하는 주제 : rec.autos\n"
          ]
        }
      ]
    },
    {
      "cell_type": "markdown",
      "metadata": {
        "id": "NeEt1KVY6tFM"
      },
      "source": [
        "훈련에 사용될 메일 본문인 data와 레이블인 target을 데이터프레임으로 만들어서 데이터에 대한 통계적인 정보들을 파악"
      ]
    },
    {
      "cell_type": "code",
      "metadata": {
        "colab": {
          "base_uri": "https://localhost:8080/",
          "height": 206
        },
        "id": "jbIwhg5t6xM2",
        "outputId": "62a572ae-6e9c-4d52-e3b4-f83fdc84e383"
      },
      "source": [
        "data = pd.DataFrame(newsdata.data, columns = ['email']) # data로부터 데이터프레임 생성\n",
        "data['target'] = pd.Series(newsdata.target) # target 열 추가\n",
        "data[:5]"
      ],
      "execution_count": 13,
      "outputs": [
        {
          "output_type": "execute_result",
          "data": {
            "text/html": [
              "<div>\n",
              "<style scoped>\n",
              "    .dataframe tbody tr th:only-of-type {\n",
              "        vertical-align: middle;\n",
              "    }\n",
              "\n",
              "    .dataframe tbody tr th {\n",
              "        vertical-align: top;\n",
              "    }\n",
              "\n",
              "    .dataframe thead th {\n",
              "        text-align: right;\n",
              "    }\n",
              "</style>\n",
              "<table border=\"1\" class=\"dataframe\">\n",
              "  <thead>\n",
              "    <tr style=\"text-align: right;\">\n",
              "      <th></th>\n",
              "      <th>email</th>\n",
              "      <th>target</th>\n",
              "    </tr>\n",
              "  </thead>\n",
              "  <tbody>\n",
              "    <tr>\n",
              "      <th>0</th>\n",
              "      <td>From: lerxst@wam.umd.edu (where's my thing)\\nS...</td>\n",
              "      <td>7</td>\n",
              "    </tr>\n",
              "    <tr>\n",
              "      <th>1</th>\n",
              "      <td>From: guykuo@carson.u.washington.edu (Guy Kuo)...</td>\n",
              "      <td>4</td>\n",
              "    </tr>\n",
              "    <tr>\n",
              "      <th>2</th>\n",
              "      <td>From: twillis@ec.ecn.purdue.edu (Thomas E Will...</td>\n",
              "      <td>4</td>\n",
              "    </tr>\n",
              "    <tr>\n",
              "      <th>3</th>\n",
              "      <td>From: jgreen@amber (Joe Green)\\nSubject: Re: W...</td>\n",
              "      <td>1</td>\n",
              "    </tr>\n",
              "    <tr>\n",
              "      <th>4</th>\n",
              "      <td>From: jcm@head-cfa.harvard.edu (Jonathan McDow...</td>\n",
              "      <td>14</td>\n",
              "    </tr>\n",
              "  </tbody>\n",
              "</table>\n",
              "</div>"
            ],
            "text/plain": [
              "                                               email  target\n",
              "0  From: lerxst@wam.umd.edu (where's my thing)\\nS...       7\n",
              "1  From: guykuo@carson.u.washington.edu (Guy Kuo)...       4\n",
              "2  From: twillis@ec.ecn.purdue.edu (Thomas E Will...       4\n",
              "3  From: jgreen@amber (Joe Green)\\nSubject: Re: W...       1\n",
              "4  From: jcm@head-cfa.harvard.edu (Jonathan McDow...      14"
            ]
          },
          "metadata": {},
          "execution_count": 13
        }
      ]
    },
    {
      "cell_type": "code",
      "metadata": {
        "colab": {
          "base_uri": "https://localhost:8080/"
        },
        "id": "Tt7I8g1B662p",
        "outputId": "0efe8635-d37f-4232-c8db-5bba30fc6448"
      },
      "source": [
        "data.info()"
      ],
      "execution_count": 14,
      "outputs": [
        {
          "output_type": "stream",
          "name": "stdout",
          "text": [
            "<class 'pandas.core.frame.DataFrame'>\n",
            "RangeIndex: 11314 entries, 0 to 11313\n",
            "Data columns (total 2 columns):\n",
            " #   Column  Non-Null Count  Dtype \n",
            "---  ------  --------------  ----- \n",
            " 0   email   11314 non-null  object\n",
            " 1   target  11314 non-null  int64 \n",
            "dtypes: int64(1), object(1)\n",
            "memory usage: 176.9+ KB\n"
          ]
        }
      ]
    },
    {
      "cell_type": "code",
      "metadata": {
        "colab": {
          "base_uri": "https://localhost:8080/"
        },
        "id": "B5IRpt9h7AUh",
        "outputId": "e3a49a5e-864c-403e-db9f-1c08c81a85f5"
      },
      "source": [
        "# Null 값 존재 여부 확인\n",
        "data.isnull().values.any()"
      ],
      "execution_count": 15,
      "outputs": [
        {
          "output_type": "execute_result",
          "data": {
            "text/plain": [
              "False"
            ]
          },
          "metadata": {},
          "execution_count": 15
        }
      ]
    },
    {
      "cell_type": "code",
      "metadata": {
        "colab": {
          "base_uri": "https://localhost:8080/"
        },
        "id": "5H790mXW7YUi",
        "outputId": "0ad10860-fa77-4a4d-c8e2-17e6be968f58"
      },
      "source": [
        "# 중복 값 제외한 개수 확인\n",
        "print('중복을 제외한 샘플의 수 : {}'.format(data['email'].nunique()))\n",
        "print('중복을 제외한 주제의 수 : {}'.format(data['target'].nunique()))"
      ],
      "execution_count": 16,
      "outputs": [
        {
          "output_type": "stream",
          "name": "stdout",
          "text": [
            "중복을 제외한 샘플의 수 : 11314\n",
            "중복을 제외한 주제의 수 : 20\n"
          ]
        }
      ]
    },
    {
      "cell_type": "code",
      "metadata": {
        "colab": {
          "base_uri": "https://localhost:8080/",
          "height": 268
        },
        "id": "fjfMGIs07sXO",
        "outputId": "9ce9f12e-f6a3-4814-9cb9-167dbe4510be"
      },
      "source": [
        "# 레이블 값 분포 시각화\n",
        "data['target'].value_counts().plot(kind='bar');"
      ],
      "execution_count": 17,
      "outputs": [
        {
          "output_type": "display_data",
          "data": {
            "image/png": "[encoded data removed]",
            "text/plain": [
              "<Figure size 432x288 with 1 Axes>"
            ]
          },
          "metadata": {
            "needs_background": "light"
          }
        }
      ]
    },
    {
      "cell_type": "code",
      "metadata": {
        "colab": {
          "base_uri": "https://localhost:8080/"
        },
        "id": "Z-cL8xcA8Sa-",
        "outputId": "cc90e223-d542-41a3-f7f4-140a3b6ada14"
      },
      "source": [
        "# 레이블 값 분포 수치화\n",
        "print(data.groupby('target').size().reset_index(name='count'))"
      ],
      "execution_count": 18,
      "outputs": [
        {
          "output_type": "stream",
          "name": "stdout",
          "text": [
            "    target  count\n",
            "0        0    480\n",
            "1        1    584\n",
            "2        2    591\n",
            "3        3    590\n",
            "4        4    578\n",
            "5        5    593\n",
            "6        6    585\n",
            "7        7    594\n",
            "8        8    598\n",
            "9        9    597\n",
            "10      10    600\n",
            "11      11    595\n",
            "12      12    591\n",
            "13      13    594\n",
            "14      14    593\n",
            "15      15    599\n",
            "16      16    546\n",
            "17      17    564\n",
            "18      18    465\n",
            "19      19    377\n"
          ]
        }
      ]
    },
    {
      "cell_type": "markdown",
      "metadata": {
        "id": "ctsgfjNz8oJD"
      },
      "source": [
        "## 4.2 Data Split"
      ]
    },
    {
      "cell_type": "code",
      "metadata": {
        "id": "j54LIHy180z7"
      },
      "source": [
        "newsdata = fetch_20newsgroups(subset = 'train')\n",
        "data = pd.DataFrame(newsdata.data, columns = ['email']) # data로부터 데이터프레임 생성\n",
        "data['target'] = pd.Series(newsdata.target) # target 열 추가\n",
        "\n",
        "newsdata_test = fetch_20newsgroups(subset='test', shuffle=True)\n",
        "\n",
        "train_email = data['email'] # 훈련 데이터의 본문 저장\n",
        "train_label = data['target'] # 훈련 데이터의 레이블 저장\n",
        "\n",
        "test_email = newsdata_test.data # 테스트 데이터의 본문 저장\n",
        "test_label = newsdata_test.target # 테스트 데이터의 레이블 저장"
      ],
      "execution_count": 19,
      "outputs": []
    },
    {
      "cell_type": "markdown",
      "metadata": {
        "id": "UezIHtKC9KHM"
      },
      "source": [
        "## 4.3 Data Preprocessing"
      ]
    },
    {
      "cell_type": "code",
      "metadata": {
        "id": "Pgd_cs6T9M43"
      },
      "source": [
        "max_words = 10000 # 실습에 사용할 단어의 최대 개수\n",
        "num_classes = 20 # 레이블의 수"
      ],
      "execution_count": 20,
      "outputs": []
    },
    {
      "cell_type": "code",
      "metadata": {
        "id": "zQZDYtJZ9Qog"
      },
      "source": [
        "# 전처리 함수 정의\n",
        "def prepare_data(train_data, test_data, mode):\n",
        "    t = Tokenizer(num_words = max_words) # max_words 개수만큼의 단어만 사용한다.\n",
        "    t.fit_on_texts(train_data)\n",
        "    X_train = t.texts_to_matrix(train_data, mode=mode) # 샘플 수 × max_words 크기의 행렬 생성\n",
        "    X_test = t.texts_to_matrix(test_data, mode=mode) # 샘플 수 × max_words 크기의 행렬 생성\n",
        "    return X_train, X_test, t.index_word"
      ],
      "execution_count": 21,
      "outputs": []
    },
    {
      "cell_type": "code",
      "metadata": {
        "id": "e0J654Co9W3P"
      },
      "source": [
        "X_train, X_test, index_to_word = prepare_data(train_email, test_email, 'binary') # binary 모드로 변환\n",
        "y_train = to_categorical(train_label, num_classes) # 원-핫 인코딩\n",
        "y_test = to_categorical(test_label, num_classes) # 원-핫 인코딩"
      ],
      "execution_count": 22,
      "outputs": []
    },
    {
      "cell_type": "code",
      "metadata": {
        "colab": {
          "base_uri": "https://localhost:8080/"
        },
        "id": "bK0IsYI59Yv4",
        "outputId": "9244b4c3-36d8-47b8-9313-3ee7d12c31fb"
      },
      "source": [
        "print('훈련 샘플 본문의 크기 : {}'.format(X_train.shape))\n",
        "print('훈련 샘플 레이블의 크기 : {}'.format(y_train.shape))\n",
        "print('테스트 샘플 본문의 크기 : {}'.format(X_test.shape))\n",
        "print('테스트 샘플 레이블의 크기 : {}'.format(y_test.shape))"
      ],
      "execution_count": 23,
      "outputs": [
        {
          "output_type": "stream",
          "name": "stdout",
          "text": [
            "훈련 샘플 본문의 크기 : (11314, 10000)\n",
            "훈련 샘플 레이블의 크기 : (11314, 20)\n",
            "테스트 샘플 본문의 크기 : (7532, 10000)\n",
            "테스트 샘플 레이블의 크기 : (7532, 20)\n"
          ]
        }
      ]
    },
    {
      "cell_type": "code",
      "metadata": {
        "colab": {
          "base_uri": "https://localhost:8080/"
        },
        "id": "X_uepheY9Z9P",
        "outputId": "9c830463-c62b-4cf0-f509-4bbb0fc7e2e4"
      },
      "source": [
        "print('빈도수 상위 1번 단어 : {}'.format(index_to_word[1]))\n",
        "print('빈도수 상위 9999번 단어 : {}'.format(index_to_word[9999]))"
      ],
      "execution_count": 24,
      "outputs": [
        {
          "output_type": "stream",
          "name": "stdout",
          "text": [
            "빈도수 상위 1번 단어 : the\n",
            "빈도수 상위 9999번 단어 : mic\n"
          ]
        }
      ]
    },
    {
      "cell_type": "markdown",
      "metadata": {
        "id": "VsAFI22R9a2W"
      },
      "source": [
        "## 4.4 Modeling by Keras"
      ]
    },
    {
      "cell_type": "code",
      "metadata": {
        "id": "yJzGdJtYAZwJ"
      },
      "source": [
        "from tensorflow.keras.models import Sequential\n",
        "from tensorflow.keras.layers import Dense, Dropout"
      ],
      "execution_count": 32,
      "outputs": []
    },
    {
      "cell_type": "code",
      "metadata": {
        "id": "zii3UtSZAgdV"
      },
      "source": [
        "def fit_and_evaluate(X_train, y_train, X_test, y_test):\n",
        "    model = Sequential()\n",
        "    model.add(Dense(256, input_shape=(max_words,), activation='relu'))\n",
        "    model.add(Dropout(0.5))\n",
        "    model.add(Dense(128, activation='relu'))\n",
        "    model.add(Dropout(0.5))\n",
        "    model.add(Dense(num_classes, activation='softmax'))\n",
        "\n",
        "    model.compile(loss='categorical_crossentropy', optimizer='adam', metrics=['accuracy'])\n",
        "    model.fit(X_train, y_train, batch_size=128, epochs=5, verbose=1, validation_split=0.1)\n",
        "    score = model.evaluate(X_test, y_test, batch_size=128, verbose=0)\n",
        "    return score[1]"
      ],
      "execution_count": 33,
      "outputs": []
    },
    {
      "cell_type": "markdown",
      "metadata": {
        "id": "WOB8Pd7RAoum"
      },
      "source": [
        "![image.png](data:image/png;base64,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)"
      ]
    },
    {
      "cell_type": "markdown",
      "metadata": {
        "id": "Zcs0-09JBe3Z"
      },
      "source": [
        "* texts_to_matrix()의 4개의 모드에 대해서 각 모델의 결과를 확인"
      ]
    },
    {
      "cell_type": "code",
      "metadata": {
        "colab": {
          "base_uri": "https://localhost:8080/"
        },
        "id": "H1bb4UKFAoPm",
        "outputId": "5ba003bc-40f6-49ab-9875-ea38deb1351b"
      },
      "source": [
        "modes = ['binary', 'count', 'tfidf', 'freq']\n",
        "\n",
        "for mode in modes:\n",
        "    X_train, X_test, _ = prepare_data(train_email, test_email, mode) # 모드에 따라서 데이터를 전처리\n",
        "    score = fit_and_evaluate(X_train, y_train, X_test, y_test) # 모델을 훈련하고 평가.\n",
        "    print(mode+' 모드의 테스트 정확도:', score)"
      ],
      "execution_count": 34,
      "outputs": [
        {
          "output_type": "stream",
          "name": "stdout",
          "text": [
            "Epoch 1/5\n",
            "80/80 [==============================] - 4s 39ms/step - loss: 2.3071 - accuracy: 0.3349 - val_loss: 0.9471 - val_accuracy: 0.8392\n",
            "Epoch 2/5\n",
            "80/80 [==============================] - 3s 37ms/step - loss: 0.8592 - accuracy: 0.7614 - val_loss: 0.4564 - val_accuracy: 0.8843\n",
            "Epoch 3/5\n",
            "80/80 [==============================] - 3s 37ms/step - loss: 0.4159 - accuracy: 0.8886 - val_loss: 0.3458 - val_accuracy: 0.9117\n",
            "Epoch 4/5\n",
            "80/80 [==============================] - 3s 37ms/step - loss: 0.2601 - accuracy: 0.9335 - val_loss: 0.3131 - val_accuracy: 0.9117\n",
            "Epoch 5/5\n",
            "80/80 [==============================] - 3s 37ms/step - loss: 0.1696 - accuracy: 0.9623 - val_loss: 0.2976 - val_accuracy: 0.9152\n",
            "binary 모드의 테스트 정확도: 0.8222251534461975\n",
            "Epoch 1/5\n",
            "80/80 [==============================] - 3s 38ms/step - loss: 2.7030 - accuracy: 0.2413 - val_loss: 1.6411 - val_accuracy: 0.7544\n",
            "Epoch 2/5\n",
            "80/80 [==============================] - 3s 37ms/step - loss: 1.3770 - accuracy: 0.6426 - val_loss: 0.6782 - val_accuracy: 0.8472\n",
            "Epoch 3/5\n",
            "80/80 [==============================] - 3s 37ms/step - loss: 0.8069 - accuracy: 0.8056 - val_loss: 0.5064 - val_accuracy: 0.8781\n",
            "Epoch 4/5\n",
            "80/80 [==============================] - 3s 38ms/step - loss: 0.4978 - accuracy: 0.8758 - val_loss: 0.4258 - val_accuracy: 0.9019\n",
            "Epoch 5/5\n",
            "80/80 [==============================] - 3s 37ms/step - loss: 0.3679 - accuracy: 0.9177 - val_loss: 0.3915 - val_accuracy: 0.9064\n",
            "count 모드의 테스트 정확도: 0.8143919110298157\n",
            "Epoch 1/5\n",
            "80/80 [==============================] - 3s 38ms/step - loss: 2.1957 - accuracy: 0.3663 - val_loss: 0.7390 - val_accuracy: 0.8436\n",
            "Epoch 2/5\n",
            "80/80 [==============================] - 3s 37ms/step - loss: 0.8422 - accuracy: 0.7754 - val_loss: 0.4311 - val_accuracy: 0.8949\n",
            "Epoch 3/5\n",
            "80/80 [==============================] - 3s 37ms/step - loss: 0.4558 - accuracy: 0.8875 - val_loss: 0.3564 - val_accuracy: 0.9108\n",
            "Epoch 4/5\n",
            "80/80 [==============================] - 3s 37ms/step - loss: 0.3030 - accuracy: 0.9280 - val_loss: 0.3234 - val_accuracy: 0.9099\n",
            "Epoch 5/5\n",
            "80/80 [==============================] - 3s 37ms/step - loss: 0.1898 - accuracy: 0.9509 - val_loss: 0.3280 - val_accuracy: 0.9143\n",
            "tfidf 모드의 테스트 정확도: 0.8324482440948486\n",
            "Epoch 1/5\n",
            "80/80 [==============================] - 3s 38ms/step - loss: 2.9764 - accuracy: 0.0945 - val_loss: 2.9178 - val_accuracy: 0.2535\n",
            "Epoch 2/5\n",
            "80/80 [==============================] - 3s 37ms/step - loss: 2.7158 - accuracy: 0.1864 - val_loss: 2.4171 - val_accuracy: 0.2818\n",
            "Epoch 3/5\n",
            "80/80 [==============================] - 3s 36ms/step - loss: 2.2134 - accuracy: 0.3234 - val_loss: 1.9154 - val_accuracy: 0.5618\n",
            "Epoch 4/5\n",
            "80/80 [==============================] - 3s 37ms/step - loss: 1.7679 - accuracy: 0.4632 - val_loss: 1.5027 - val_accuracy: 0.6670\n",
            "Epoch 5/5\n",
            "80/80 [==============================] - 3s 37ms/step - loss: 1.3934 - accuracy: 0.5889 - val_loss: 1.1631 - val_accuracy: 0.7491\n",
            "freq 모드의 테스트 정확도: 0.6929102540016174\n"
          ]
        }
      ]
    },
    {
      "cell_type": "markdown",
      "metadata": {
        "id": "M7MEyzj1GBYh"
      },
      "source": [
        "* binary 모드의 테스트 정확도: 0.8312533\n",
        "* count 모드의 테스트 정확도: 0.8239511\n",
        "* tfidf 모드의 테스트 정확도: 0.8381572\n",
        "* freq 모드의 테스트 정확도: 0.6902549"
      ]
    }
  ]
}