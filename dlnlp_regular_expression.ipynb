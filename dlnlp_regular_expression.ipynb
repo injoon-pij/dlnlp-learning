{
  "nbformat": 4,
  "nbformat_minor": 0,
  "metadata": {
    "colab": {
      "name": "dlnlp_regular_expression.ipynb",
      "provenance": [],
      "collapsed_sections": [],
      "authorship_tag": "ABX9TyNNe88c3mF1YaV1+WDCaaOk",
      "include_colab_link": true
    },
    "kernelspec": {
      "name": "python3",
      "display_name": "Python 3"
    },
    "language_info": {
      "name": "python"
    }
  },
  "cells": [
    {
      "cell_type": "markdown",
      "metadata": {
        "id": "view-in-github",
        "colab_type": "text"
      },
      "source": [
        "<a href=\"https://colab.research.google.com/github/injoon-pij/dlnlp-learning/blob/main/dlnlp_regular_expression.ipynb\" target=\"_parent\"><img src=\"https://colab.research.google.com/assets/colab-badge.svg\" alt=\"Open In Colab\"/></a>"
      ]
    },
    {
      "cell_type": "markdown",
      "metadata": {
        "id": "N-Q0neIrNBWZ"
      },
      "source": [
        "# 1) Regular Expression"
      ]
    },
    {
      "cell_type": "markdown",
      "metadata": {
        "id": "y2crCtMaWdUw"
      },
      "source": [
        "__[정규표현식 문법]__\n",
        "\n",
        "---"
      ]
    },
    {
      "cell_type": "markdown",
      "metadata": {
        "id": "hU1f3l-wQ4eI"
      },
      "source": [
        "|특수문자      |설명                                                        |\n",
        "|:------------:|:----------------------------------------------------------:|\n",
        "|.             |한 개의 임의의 문자를 나타냄 (줄바꿈 문자 \\n는 제외)        |\n",
        "|?             |앞에 오는 문자가 0개 또는 1개                               |\n",
        "|*             |앞에 오는 문자가 0개 이상                                   |\n",
        "|+             |앞에 오는 문자가 1개 이상                                   |\n",
        "|^             |뒤에 오는 문자로 문자열이 시작됨                            |\n",
        "|$             |앞에 오는 문자로 문자열이 끝남                              |\n",
        "|{숫자}        |숫자만큼 반복                                               |\n",
        "|{숫자1, 숫자2}|숫자1 이상 숫자2 이하만큼 반복                              |\n",
        "|{숫자,}       |숫자 이상만큼 반복                                          |\n",
        "|[ ]           |괄호 안 문자들 중 최소 한개와 매치. 범위 지정 가능 : [a - z]|\n",
        "|[^문자]       |해당 문자를 제외한 문자와 매치                              |\n",
        "|\\|            |AlB와 같이 쓰이며 A 또는 B라는 의미                         |"
      ]
    },
    {
      "cell_type": "markdown",
      "metadata": {
        "id": "lh5M8Th4WqW4"
      },
      "source": [
        "__[정규표현식 모듈함수]__\n",
        "\n",
        "---"
      ]
    },
    {
      "cell_type": "markdown",
      "metadata": {
        "id": "dn0rRf4eT24h"
      },
      "source": [
        "|모듈함수     |설명                                                            |\n",
        "|:-----------:|:--------------------------------------------------------------:|\n",
        "|re.compile() |정규표현식을 컴파일하여 파이썬에게 전해줌                       |\n",
        "|re.search()  |문자열 전체에 대해 정규표현식과 매치되는지 검색                 |\n",
        "|re.match()   |문자열의 처음에 대해 정규표현식과 매치되는지 검색               |\n",
        "|re.split()   |정규표현식을 기준으로 문자열을 분리하여 리스트로 반환           |\n",
        "|re.findall() |정규표현식과 매치되는 모든 경우의 문자열을 찾아서 리스트로 반환 |\n",
        "|re.finditer()|정규표현식과 매치되는 모든 경우의 문자열에 대한 iter 객체를 반환|\n",
        "|re.sub()     |문자열에서 정규 표현식과 일치하는 부분에 대해 다른 문자열로 대체|"
      ]
    },
    {
      "cell_type": "markdown",
      "metadata": {
        "id": "ed5yC5SaXtRo"
      },
      "source": [
        "## ."
      ]
    },
    {
      "cell_type": "markdown",
      "metadata": {
        "id": "YvcdZyFUX_74"
      },
      "source": [
        ". 은 한 개의 임의의 문자를 나타냄"
      ]
    },
    {
      "cell_type": "code",
      "metadata": {
        "id": "mPlfyxt_M8-_"
      },
      "source": [
        "import re\n",
        "r = re.compile(\"a.c\")\n",
        "\n",
        "# 입력 문자열에 정규표현식 패턴이 존재하는지 확인\n",
        "r.search(\"kkk\") # no match\n",
        "r.search(\"ac\") # no match : 공백문자는 임의의 문자로 인식되지 않음"
      ],
      "execution_count": null,
      "outputs": []
    },
    {
      "cell_type": "code",
      "metadata": {
        "colab": {
          "base_uri": "https://localhost:8080/"
        },
        "id": "0EdWEj5RYcI7",
        "outputId": "ec631966-ecb2-44db-9117-c03d06daa1c9"
      },
      "source": [
        "r.search(\"abc\")"
      ],
      "execution_count": null,
      "outputs": [
        {
          "output_type": "execute_result",
          "data": {
            "text/plain": [
              "<re.Match object; span=(0, 3), match='abc'>"
            ]
          },
          "metadata": {},
          "execution_count": 2
        }
      ]
    },
    {
      "cell_type": "code",
      "metadata": {
        "colab": {
          "base_uri": "https://localhost:8080/"
        },
        "id": "nErPQMVLY3cT",
        "outputId": "f84c3a5f-9b95-436b-f4d6-0c040cdd022f"
      },
      "source": [
        "r.search(\"a?cd\")"
      ],
      "execution_count": null,
      "outputs": [
        {
          "output_type": "execute_result",
          "data": {
            "text/plain": [
              "<re.Match object; span=(0, 3), match='a?c'>"
            ]
          },
          "metadata": {},
          "execution_count": 5
        }
      ]
    },
    {
      "cell_type": "markdown",
      "metadata": {
        "id": "ZqUeqMBeXyFQ"
      },
      "source": [
        "## ?"
      ]
    },
    {
      "cell_type": "markdown",
      "metadata": {
        "id": "U2ZOIrcYZdMv"
      },
      "source": [
        "? 은 앞에 오는 문자가 0번 또는 1번 등장함을 의미"
      ]
    },
    {
      "cell_type": "code",
      "metadata": {
        "id": "gnEQJd8tXzkC"
      },
      "source": [
        "import re\n",
        "r = re.compile(\"ab?c\")\n",
        "\n",
        "r.search(\"abbc\") # no match : b가 2번 등장"
      ],
      "execution_count": null,
      "outputs": []
    },
    {
      "cell_type": "code",
      "metadata": {
        "colab": {
          "base_uri": "https://localhost:8080/"
        },
        "id": "CJKJV3EKXziP",
        "outputId": "06176d67-7baa-40c0-9008-c9644c5b3d74"
      },
      "source": [
        "r.search(\"abc\") # 1번 등장"
      ],
      "execution_count": null,
      "outputs": [
        {
          "output_type": "execute_result",
          "data": {
            "text/plain": [
              "<re.Match object; span=(0, 3), match='abc'>"
            ]
          },
          "metadata": {},
          "execution_count": 9
        }
      ]
    },
    {
      "cell_type": "code",
      "metadata": {
        "colab": {
          "base_uri": "https://localhost:8080/"
        },
        "id": "xuW6Q15HZ92T",
        "outputId": "d09086a0-68e1-456b-9389-49e84593d987"
      },
      "source": [
        "r.search(\"ac\") # 0번 등장"
      ],
      "execution_count": null,
      "outputs": [
        {
          "output_type": "execute_result",
          "data": {
            "text/plain": [
              "<re.Match object; span=(0, 2), match='ac'>"
            ]
          },
          "metadata": {},
          "execution_count": 10
        }
      ]
    },
    {
      "cell_type": "markdown",
      "metadata": {
        "id": "i2ZUUnxlaFRL"
      },
      "source": [
        "## *"
      ]
    },
    {
      "cell_type": "markdown",
      "metadata": {
        "id": "rWB6_kV_aJ1O"
      },
      "source": [
        "\\* 은 앞에 오는 문자가 0번 이상 등장함을 의미"
      ]
    },
    {
      "cell_type": "code",
      "metadata": {
        "id": "sZWJP4HdaHEf"
      },
      "source": [
        "import re\n",
        "r = re.compile(\"ab*c\")\n",
        "\n",
        "r.search(\"a\") # no match : c가 없음"
      ],
      "execution_count": 1,
      "outputs": []
    },
    {
      "cell_type": "code",
      "metadata": {
        "colab": {
          "base_uri": "https://localhost:8080/"
        },
        "id": "CdhKBfPZrg2l",
        "outputId": "4ef7486b-cc27-4e9a-b55e-98412dd92a6f"
      },
      "source": [
        "r.search(\"ac\")"
      ],
      "execution_count": 2,
      "outputs": [
        {
          "output_type": "execute_result",
          "data": {
            "text/plain": [
              "<re.Match object; span=(0, 2), match='ac'>"
            ]
          },
          "metadata": {},
          "execution_count": 2
        }
      ]
    },
    {
      "cell_type": "code",
      "metadata": {
        "colab": {
          "base_uri": "https://localhost:8080/"
        },
        "id": "Dcge-Ks-rizy",
        "outputId": "8ae98037-e770-4d9b-f1ee-cc44ac262388"
      },
      "source": [
        "r.search(\"abc\") "
      ],
      "execution_count": 3,
      "outputs": [
        {
          "output_type": "execute_result",
          "data": {
            "text/plain": [
              "<re.Match object; span=(0, 3), match='abc'>"
            ]
          },
          "metadata": {},
          "execution_count": 3
        }
      ]
    },
    {
      "cell_type": "code",
      "metadata": {
        "colab": {
          "base_uri": "https://localhost:8080/"
        },
        "id": "EZeO5YGsrkQS",
        "outputId": "e76356f0-f758-4a6c-d4eb-7280ac6d573e"
      },
      "source": [
        "r.search(\"abbbbc\") "
      ],
      "execution_count": 4,
      "outputs": [
        {
          "output_type": "execute_result",
          "data": {
            "text/plain": [
              "<re.Match object; span=(0, 6), match='abbbbc'>"
            ]
          },
          "metadata": {},
          "execution_count": 4
        }
      ]
    },
    {
      "cell_type": "markdown",
      "metadata": {
        "id": "Oj82D2pyrmQN"
      },
      "source": [
        "## +"
      ]
    },
    {
      "cell_type": "markdown",
      "metadata": {
        "id": "qossWvKgrpVq"
      },
      "source": [
        "\\+ 은 앞에 오는 문자가 1번 이상 등장함을 의미"
      ]
    },
    {
      "cell_type": "code",
      "metadata": {
        "id": "XocmSEqerlps"
      },
      "source": [
        "import re\n",
        "r = re.compile(\"ab+c\")\n",
        "\n",
        "r.search(\"ac\") # no match : b번 이상 등장해야함"
      ],
      "execution_count": 5,
      "outputs": []
    },
    {
      "cell_type": "code",
      "metadata": {
        "colab": {
          "base_uri": "https://localhost:8080/"
        },
        "id": "0DhIsUXtr_Ur",
        "outputId": "9c6d8ef4-802e-4e0a-e5ad-d621dc77dedd"
      },
      "source": [
        "r.search(\"abc\")"
      ],
      "execution_count": 6,
      "outputs": [
        {
          "output_type": "execute_result",
          "data": {
            "text/plain": [
              "<re.Match object; span=(0, 3), match='abc'>"
            ]
          },
          "metadata": {},
          "execution_count": 6
        }
      ]
    },
    {
      "cell_type": "code",
      "metadata": {
        "colab": {
          "base_uri": "https://localhost:8080/"
        },
        "id": "awsvbGiEsBbj",
        "outputId": "6039309b-ce1b-450d-f146-afdd107daf3f"
      },
      "source": [
        "r.search(\"abbbbc\")"
      ],
      "execution_count": 7,
      "outputs": [
        {
          "output_type": "execute_result",
          "data": {
            "text/plain": [
              "<re.Match object; span=(0, 6), match='abbbbc'>"
            ]
          },
          "metadata": {},
          "execution_count": 7
        }
      ]
    },
    {
      "cell_type": "markdown",
      "metadata": {
        "id": "F4sw92uisDjL"
      },
      "source": [
        "## ^"
      ]
    },
    {
      "cell_type": "markdown",
      "metadata": {
        "id": "iWYud3NksGuL"
      },
      "source": [
        "^ 는 시작되는 글자를 지정함"
      ]
    },
    {
      "cell_type": "code",
      "metadata": {
        "id": "EgfeE8_DsE4j"
      },
      "source": [
        "import re\n",
        "r = re.compile(\"^a\")\n",
        "\n",
        "r.search(\"bbc\") # no match : 문자열이 a로 시작해야함"
      ],
      "execution_count": 8,
      "outputs": []
    },
    {
      "cell_type": "code",
      "metadata": {
        "colab": {
          "base_uri": "https://localhost:8080/"
        },
        "id": "NG5DcnWusPDc",
        "outputId": "f1551543-2ba7-4ddf-d912-beea8ffa76ae"
      },
      "source": [
        "r.search(\"ab\")"
      ],
      "execution_count": 9,
      "outputs": [
        {
          "output_type": "execute_result",
          "data": {
            "text/plain": [
              "<re.Match object; span=(0, 1), match='a'>"
            ]
          },
          "metadata": {},
          "execution_count": 9
        }
      ]
    },
    {
      "cell_type": "markdown",
      "metadata": {
        "id": "3g15FtsysSEL"
      },
      "source": [
        "## {숫자}"
      ]
    },
    {
      "cell_type": "markdown",
      "metadata": {
        "id": "l31fDI1psZIn"
      },
      "source": [
        "문자 뒤에 {숫자}를 붙이면, 해당 문자를 숫자만큼 반복함"
      ]
    },
    {
      "cell_type": "code",
      "metadata": {
        "id": "uk3VdvbysROW"
      },
      "source": [
        "import re\n",
        "r = re.compile(\"ab{2}c\")\n",
        "\n",
        "r.search(\"ac\") # no match\n",
        "r.search(\"abc\") # no match"
      ],
      "execution_count": 10,
      "outputs": []
    },
    {
      "cell_type": "code",
      "metadata": {
        "colab": {
          "base_uri": "https://localhost:8080/"
        },
        "id": "o2jGuxtVsnGN",
        "outputId": "881d7889-1fc8-4402-f63f-ee930850cdf8"
      },
      "source": [
        "r.search(\"abbc\")"
      ],
      "execution_count": 11,
      "outputs": [
        {
          "output_type": "execute_result",
          "data": {
            "text/plain": [
              "<re.Match object; span=(0, 4), match='abbc'>"
            ]
          },
          "metadata": {},
          "execution_count": 11
        }
      ]
    },
    {
      "cell_type": "code",
      "metadata": {
        "id": "8KTfMzoXsplD"
      },
      "source": [
        "r.search(\"abbbbbc\") # no match"
      ],
      "execution_count": 12,
      "outputs": []
    },
    {
      "cell_type": "markdown",
      "metadata": {
        "id": "zcfE7qd1sxLk"
      },
      "source": [
        "## {숫자1, 숫자2}"
      ]
    },
    {
      "cell_type": "markdown",
      "metadata": {
        "id": "KORBXt8lsz-S"
      },
      "source": [
        "문자 뒤에 {숫자1, 숫자2}를 붙이면, 해당 문자를 숫자1 이상 숫자 2 이하만큼 반복함"
      ]
    },
    {
      "cell_type": "code",
      "metadata": {
        "id": "W7gvw5k_sw0u"
      },
      "source": [
        "import re\n",
        "r = re.compile(\"ab{2,8}c\")\n",
        "\n",
        "r.search(\"ac\") # no match\n",
        "r.search(\"abc\") # no match"
      ],
      "execution_count": 13,
      "outputs": []
    },
    {
      "cell_type": "code",
      "metadata": {
        "colab": {
          "base_uri": "https://localhost:8080/"
        },
        "id": "yXOtJbT2tEkv",
        "outputId": "7923246a-9ea2-4326-aead-7fba43ad72fe"
      },
      "source": [
        "r.search(\"abbc\")"
      ],
      "execution_count": 14,
      "outputs": [
        {
          "output_type": "execute_result",
          "data": {
            "text/plain": [
              "<re.Match object; span=(0, 4), match='abbc'>"
            ]
          },
          "metadata": {},
          "execution_count": 14
        }
      ]
    },
    {
      "cell_type": "code",
      "metadata": {
        "colab": {
          "base_uri": "https://localhost:8080/"
        },
        "id": "V_qBQUantFx6",
        "outputId": "14ae7725-c6b1-4608-a352-3e3b9ccce382"
      },
      "source": [
        "r.search(\"abbbbbbbbc\")"
      ],
      "execution_count": 15,
      "outputs": [
        {
          "output_type": "execute_result",
          "data": {
            "text/plain": [
              "<re.Match object; span=(0, 10), match='abbbbbbbbc'>"
            ]
          },
          "metadata": {},
          "execution_count": 15
        }
      ]
    },
    {
      "cell_type": "code",
      "metadata": {
        "id": "ezvEYhcPtG4C"
      },
      "source": [
        "r.search(\"abbbbbbbbbc\") # no match"
      ],
      "execution_count": 16,
      "outputs": []
    },
    {
      "cell_type": "markdown",
      "metadata": {
        "id": "s0NogUjbtKzf"
      },
      "source": [
        "## {숫자,}"
      ]
    },
    {
      "cell_type": "markdown",
      "metadata": {
        "id": "WbRus7Q8tQJg"
      },
      "source": [
        "문자 뒤에 {숫자,}를 붙이면, 해당 문자를 숫자 이상만큼 반복함"
      ]
    },
    {
      "cell_type": "code",
      "metadata": {
        "id": "iXMcWqWCtKYC"
      },
      "source": [
        "import re\n",
        "r = re.compile(\"a{2,}bc\")\n",
        "\n",
        "r.search(\"bc\") # no match\n",
        "r.search(\"aa\") # no match"
      ],
      "execution_count": 17,
      "outputs": []
    },
    {
      "cell_type": "code",
      "metadata": {
        "colab": {
          "base_uri": "https://localhost:8080/"
        },
        "id": "ofCnR6DMtbeS",
        "outputId": "dcd2a827-a0b8-41a9-bd94-a7d912ea4d3d"
      },
      "source": [
        "r.search(\"aabc\")"
      ],
      "execution_count": 18,
      "outputs": [
        {
          "output_type": "execute_result",
          "data": {
            "text/plain": [
              "<re.Match object; span=(0, 4), match='aabc'>"
            ]
          },
          "metadata": {},
          "execution_count": 18
        }
      ]
    },
    {
      "cell_type": "code",
      "metadata": {
        "colab": {
          "base_uri": "https://localhost:8080/"
        },
        "id": "9QC7vwhVtc3X",
        "outputId": "2f4b55d5-a7cc-49eb-8297-1517ed4b0510"
      },
      "source": [
        "r.search(\"aaaaaaaabc\")"
      ],
      "execution_count": 19,
      "outputs": [
        {
          "output_type": "execute_result",
          "data": {
            "text/plain": [
              "<re.Match object; span=(0, 10), match='aaaaaaaabc'>"
            ]
          },
          "metadata": {},
          "execution_count": 19
        }
      ]
    },
    {
      "cell_type": "markdown",
      "metadata": {
        "id": "Jl7Wn76ithCF"
      },
      "source": [
        "## [ ]"
      ]
    },
    {
      "cell_type": "markdown",
      "metadata": {
        "id": "ISoN4UlXtnb6"
      },
      "source": [
        "괄호 안 문자들 중 최소 한개와 매치됨을 의미. [a-z], [0-9], [a-zA-Z]와 같이 범위를 지정하는 것도 가능함."
      ]
    },
    {
      "cell_type": "code",
      "metadata": {
        "id": "K-PHsHe0tiRK"
      },
      "source": [
        "import re\n",
        "r = re.compile(\"[abc]\") # [a-c]\n",
        "\n",
        "r.search(\"zzz\") # no match"
      ],
      "execution_count": 20,
      "outputs": []
    },
    {
      "cell_type": "code",
      "metadata": {
        "colab": {
          "base_uri": "https://localhost:8080/"
        },
        "id": "3GyZ8m2fuB17",
        "outputId": "61c7fbfe-10df-492b-b8b8-79b214c617bc"
      },
      "source": [
        "r.search(\"a\")"
      ],
      "execution_count": 21,
      "outputs": [
        {
          "output_type": "execute_result",
          "data": {
            "text/plain": [
              "<re.Match object; span=(0, 1), match='a'>"
            ]
          },
          "metadata": {},
          "execution_count": 21
        }
      ]
    },
    {
      "cell_type": "code",
      "metadata": {
        "colab": {
          "base_uri": "https://localhost:8080/"
        },
        "id": "zm56vmvwuDJb",
        "outputId": "f16fb483-4b1b-4194-da39-4a11fc7ad8aa"
      },
      "source": [
        "r.search(\"aaaaaaa\")"
      ],
      "execution_count": 22,
      "outputs": [
        {
          "output_type": "execute_result",
          "data": {
            "text/plain": [
              "<re.Match object; span=(0, 1), match='a'>"
            ]
          },
          "metadata": {},
          "execution_count": 22
        }
      ]
    },
    {
      "cell_type": "code",
      "metadata": {
        "colab": {
          "base_uri": "https://localhost:8080/"
        },
        "id": "QJkQE8druFIt",
        "outputId": "fc8cd20e-d9c0-4ee7-d2fe-1467a4d6ae0b"
      },
      "source": [
        "r.search(\"baac\") # match = 'b'"
      ],
      "execution_count": 23,
      "outputs": [
        {
          "output_type": "execute_result",
          "data": {
            "text/plain": [
              "<re.Match object; span=(0, 1), match='b'>"
            ]
          },
          "metadata": {},
          "execution_count": 23
        }
      ]
    },
    {
      "cell_type": "code",
      "metadata": {
        "id": "2o0c1YftuIVm"
      },
      "source": [
        "r = re.compile(\"[a-z]\")\n",
        "\n",
        "r.search(\"AAA\") # no match"
      ],
      "execution_count": 24,
      "outputs": []
    },
    {
      "cell_type": "code",
      "metadata": {
        "colab": {
          "base_uri": "https://localhost:8080/"
        },
        "id": "PwwAMVN0uXUy",
        "outputId": "d8924a20-e700-484a-d011-0010604fd66d"
      },
      "source": [
        "r.search(\"aBC\")"
      ],
      "execution_count": 25,
      "outputs": [
        {
          "output_type": "execute_result",
          "data": {
            "text/plain": [
              "<re.Match object; span=(0, 1), match='a'>"
            ]
          },
          "metadata": {},
          "execution_count": 25
        }
      ]
    },
    {
      "cell_type": "code",
      "metadata": {
        "colab": {
          "base_uri": "https://localhost:8080/"
        },
        "id": "bVjRKjuuua0v",
        "outputId": "63b9f1c3-fe6d-42aa-9f1f-3b272d9f32bd"
      },
      "source": [
        "r.search(\"Abc\") # match = 'b'"
      ],
      "execution_count": 27,
      "outputs": [
        {
          "output_type": "execute_result",
          "data": {
            "text/plain": [
              "<re.Match object; span=(1, 2), match='b'>"
            ]
          },
          "metadata": {},
          "execution_count": 27
        }
      ]
    },
    {
      "cell_type": "markdown",
      "metadata": {
        "id": "oI_4tF5hu5Ic"
      },
      "source": [
        "## [^문자]"
      ]
    },
    {
      "cell_type": "markdown",
      "metadata": {
        "id": "9S6fZvMMu7qT"
      },
      "source": [
        "^ 뒤에 붙은 문자들을 제외한 모든 문자와 매치함을 의미"
      ]
    },
    {
      "cell_type": "code",
      "metadata": {
        "id": "5jr3EsSru3DN"
      },
      "source": [
        "import re\n",
        "r = re.compile(\"[^abc]\")\n",
        "\n",
        "r.search(\"a\") # no match\n",
        "r.search(\"ab\") # no match\n",
        "r.search(\"b\") # no match"
      ],
      "execution_count": 28,
      "outputs": []
    },
    {
      "cell_type": "code",
      "metadata": {
        "colab": {
          "base_uri": "https://localhost:8080/"
        },
        "id": "rOUJoUkFvc76",
        "outputId": "fcc933bb-9e95-4866-92f2-142c35dd333b"
      },
      "source": [
        "r.search(\"dd\")"
      ],
      "execution_count": 31,
      "outputs": [
        {
          "output_type": "execute_result",
          "data": {
            "text/plain": [
              "<re.Match object; span=(0, 1), match='d'>"
            ]
          },
          "metadata": {},
          "execution_count": 31
        }
      ]
    },
    {
      "cell_type": "code",
      "metadata": {
        "colab": {
          "base_uri": "https://localhost:8080/"
        },
        "id": "QOPhAgVnvfG0",
        "outputId": "d1c1fa02-cf2e-4e28-e713-b6dd373cb145"
      },
      "source": [
        "r.search(\"1\")"
      ],
      "execution_count": 30,
      "outputs": [
        {
          "output_type": "execute_result",
          "data": {
            "text/plain": [
              "<re.Match object; span=(0, 1), match='1'>"
            ]
          },
          "metadata": {},
          "execution_count": 30
        }
      ]
    },
    {
      "cell_type": "markdown",
      "metadata": {
        "id": "dYajpx7xvwja"
      },
      "source": [
        "## re.search & re.match()"
      ]
    },
    {
      "cell_type": "markdown",
      "metadata": {
        "id": "hYnIWfxjwhhN"
      },
      "source": [
        "* search() : 문자열의 첫부분이 정규표현식의 패턴과 일치하지 않더라도 매치되는 문자를 찾을 때까지 문자열을 확인함\n",
        "* match() : 문자열의 첫부분이 정규 표현식과 매치하는지를 확인하고 아닌 경우 더이상 찾지 않음"
      ]
    },
    {
      "cell_type": "code",
      "metadata": {
        "id": "rRlViVu0vytv"
      },
      "source": [
        "import re\n",
        "r = re.compile(\"ab.\")"
      ],
      "execution_count": 32,
      "outputs": []
    },
    {
      "cell_type": "code",
      "metadata": {
        "colab": {
          "base_uri": "https://localhost:8080/"
        },
        "id": "BrA_sGiMxn1b",
        "outputId": "b5428d83-0a1f-48f9-bee5-092e7c50df93"
      },
      "source": [
        "r.search(\"kkkabc\") "
      ],
      "execution_count": 33,
      "outputs": [
        {
          "output_type": "execute_result",
          "data": {
            "text/plain": [
              "<re.Match object; span=(3, 6), match='abc'>"
            ]
          },
          "metadata": {},
          "execution_count": 33
        }
      ]
    },
    {
      "cell_type": "code",
      "metadata": {
        "id": "kGDxg3_2x8KN"
      },
      "source": [
        "r.match(\"kkkabc\") # no match"
      ],
      "execution_count": 34,
      "outputs": []
    },
    {
      "cell_type": "code",
      "metadata": {
        "colab": {
          "base_uri": "https://localhost:8080/"
        },
        "id": "CcOwBjtKyAQg",
        "outputId": "832a6b89-22c1-4367-8c3c-9e5bb11de768"
      },
      "source": [
        "r.match(\"abckkk\")"
      ],
      "execution_count": 35,
      "outputs": [
        {
          "output_type": "execute_result",
          "data": {
            "text/plain": [
              "<re.Match object; span=(0, 3), match='abc'>"
            ]
          },
          "metadata": {},
          "execution_count": 35
        }
      ]
    },
    {
      "cell_type": "code",
      "metadata": {
        "id": "ipHf1F-RyCRz"
      },
      "source": [
        "r.match(\"kabckkk\") # no match"
      ],
      "execution_count": 38,
      "outputs": []
    },
    {
      "cell_type": "markdown",
      "metadata": {
        "id": "0qq1wEnSyIyj"
      },
      "source": [
        "## re.split()"
      ]
    },
    {
      "cell_type": "markdown",
      "metadata": {
        "id": "t65PV11IyKtb"
      },
      "source": [
        "정규표현식을 기준으로 입력 문자열을 분리하여 리스트로 반환함"
      ]
    },
    {
      "cell_type": "code",
      "metadata": {
        "colab": {
          "base_uri": "https://localhost:8080/"
        },
        "id": "Rsy39ROeyJ9E",
        "outputId": "026a16a2-5aac-4676-9ff4-308b0b43a022"
      },
      "source": [
        "import re\n",
        "text = \"사과 딸기 수박 메론 바나나\"\n",
        "\n",
        "re.split(\" \", text)"
      ],
      "execution_count": 39,
      "outputs": [
        {
          "output_type": "execute_result",
          "data": {
            "text/plain": [
              "['사과', '딸기', '수박', '메론', '바나나']"
            ]
          },
          "metadata": {},
          "execution_count": 39
        }
      ]
    },
    {
      "cell_type": "code",
      "metadata": {
        "colab": {
          "base_uri": "https://localhost:8080/"
        },
        "id": "YRFb2ECUytux",
        "outputId": "6c5ca8f5-54c1-4980-ae53-645deb7201e4"
      },
      "source": [
        "text = \"\"\"사과\n",
        "딸기\n",
        "수박\n",
        "메론\n",
        "바나나\"\"\"\n",
        "\n",
        "re.split(\"\\n\", text)"
      ],
      "execution_count": 40,
      "outputs": [
        {
          "output_type": "execute_result",
          "data": {
            "text/plain": [
              "['사과', '딸기', '수박', '메론', '바나나']"
            ]
          },
          "metadata": {},
          "execution_count": 40
        }
      ]
    },
    {
      "cell_type": "code",
      "metadata": {
        "colab": {
          "base_uri": "https://localhost:8080/"
        },
        "id": "iZjZJgEoyy3j",
        "outputId": "54755e3c-94e2-4a15-d95f-84031157735c"
      },
      "source": [
        "text = \"사과+딸기+수박+메론+바나나\"\n",
        "\n",
        "re.split(\"\\+\", text)"
      ],
      "execution_count": 41,
      "outputs": [
        {
          "output_type": "execute_result",
          "data": {
            "text/plain": [
              "['사과', '딸기', '수박', '메론', '바나나']"
            ]
          },
          "metadata": {},
          "execution_count": 41
        }
      ]
    },
    {
      "cell_type": "markdown",
      "metadata": {
        "id": "IvZmxPE8y6hb"
      },
      "source": [
        "## re.findall()"
      ]
    },
    {
      "cell_type": "markdown",
      "metadata": {
        "id": "HvCyziCjy_eJ"
      },
      "source": [
        "정규표현식과 매치되는 모든 문자열을 리스트로 반환함\n",
        "* 단, 매치되는 문자열이 없다면 빈 리스트를 반환함"
      ]
    },
    {
      "cell_type": "code",
      "metadata": {
        "colab": {
          "base_uri": "https://localhost:8080/"
        },
        "id": "X92bBWhkzGXT",
        "outputId": "32d34219-2cbf-468d-e89d-e89c300bcef0"
      },
      "source": [
        "import re\n",
        "text = \"\"\"이름 : 김철수\n",
        "전화번호 : 010 - 1234 - 1234\n",
        "나이 : 30\n",
        "성별 : 남\"\"\"  \n",
        "\n",
        "re.findall(\"\\d+\",text) # \\d : digit number"
      ],
      "execution_count": 42,
      "outputs": [
        {
          "output_type": "execute_result",
          "data": {
            "text/plain": [
              "['010', '1234', '1234', '30']"
            ]
          },
          "metadata": {},
          "execution_count": 42
        }
      ]
    },
    {
      "cell_type": "code",
      "metadata": {
        "colab": {
          "base_uri": "https://localhost:8080/"
        },
        "id": "HChqupQYy9dd",
        "outputId": "15aca00b-dbc7-41bf-d671-4e0067159682"
      },
      "source": [
        "re.findall(\"\\d+\", \"문자열입니다.\") # no match"
      ],
      "execution_count": 43,
      "outputs": [
        {
          "output_type": "execute_result",
          "data": {
            "text/plain": [
              "[]"
            ]
          },
          "metadata": {},
          "execution_count": 43
        }
      ]
    },
    {
      "cell_type": "markdown",
      "metadata": {
        "id": "ahL_TzH_zXn-"
      },
      "source": [
        "## re.sub()"
      ]
    },
    {
      "cell_type": "markdown",
      "metadata": {
        "id": "U8lFydqhzZC9"
      },
      "source": [
        "정규표현식 패턴과 일치하는 문자열을 찾아 다른 문자열로 대체함"
      ]
    },
    {
      "cell_type": "code",
      "metadata": {
        "colab": {
          "base_uri": "https://localhost:8080/",
          "height": 54
        },
        "id": "Wxww1u2izYqC",
        "outputId": "c200968e-8c36-4378-87dd-fce2842899ce"
      },
      "source": [
        "import re\n",
        "text = \"Regular expression : A regular expression, regex or regexp[1] (sometimes called a rational expression)[2][3] is, in theoretical computer science and formal language theory, a sequence of characters that define a search pattern.\"\n",
        "\n",
        "re.sub('[^a-zA-Z]',' ',text)"
      ],
      "execution_count": 45,
      "outputs": [
        {
          "output_type": "execute_result",
          "data": {
            "application/vnd.google.colaboratory.intrinsic+json": {
              "type": "string"
            },
            "text/plain": [
              "'Regular expression   A regular expression  regex or regexp     sometimes called a rational expression        is  in theoretical computer science and formal language theory  a sequence of characters that define a search pattern '"
            ]
          },
          "metadata": {},
          "execution_count": 45
        }
      ]
    },
    {
      "cell_type": "markdown",
      "metadata": {
        "id": "VaqXhu1-10Za"
      },
      "source": [
        "# 2) Text preprocessing by regular expressionn"
      ]
    },
    {
      "cell_type": "code",
      "metadata": {
        "colab": {
          "base_uri": "https://localhost:8080/"
        },
        "id": "KJnUUI1C14Op",
        "outputId": "a637bfa0-389e-4945-c9cb-5bc5d17fd69c"
      },
      "source": [
        "import re  \n",
        "\n",
        "text = \"\"\"100 John    PROF\n",
        "101 James   STUD\n",
        "102 Mac   STUD\"\"\"  \n",
        "\n",
        "# 공백문자 기준으로 문자 구분\n",
        "re.split('\\s+', text) # \\s : 공백 문자"
      ],
      "execution_count": 49,
      "outputs": [
        {
          "output_type": "execute_result",
          "data": {
            "text/plain": [
              "['100', 'John', 'PROF', '101', 'James', 'STUD', '102', 'Mac', 'STUD']"
            ]
          },
          "metadata": {},
          "execution_count": 49
        }
      ]
    },
    {
      "cell_type": "code",
      "metadata": {
        "colab": {
          "base_uri": "https://localhost:8080/"
        },
        "id": "B1ei4JgL2bvB",
        "outputId": "50abe53d-cd44-4fa5-a692-e6c17002c579"
      },
      "source": [
        "# digit number 추출\n",
        "re.findall('\\d+',text)  "
      ],
      "execution_count": 50,
      "outputs": [
        {
          "output_type": "execute_result",
          "data": {
            "text/plain": [
              "['100', '101', '102']"
            ]
          },
          "metadata": {},
          "execution_count": 50
        }
      ]
    },
    {
      "cell_type": "code",
      "metadata": {
        "colab": {
          "base_uri": "https://localhost:8080/"
        },
        "id": "2jQAXdmB2kiN",
        "outputId": "1539c31d-7a7b-49c4-ea94-eaf393c17ee3"
      },
      "source": [
        "# 알파벳 대문자 추출\n",
        "re.findall('[A-Z]',text)"
      ],
      "execution_count": 51,
      "outputs": [
        {
          "output_type": "execute_result",
          "data": {
            "text/plain": [
              "['J', 'P', 'R', 'O', 'F', 'J', 'S', 'T', 'U', 'D', 'M', 'S', 'T', 'U', 'D']"
            ]
          },
          "metadata": {},
          "execution_count": 51
        }
      ]
    },
    {
      "cell_type": "code",
      "metadata": {
        "colab": {
          "base_uri": "https://localhost:8080/"
        },
        "id": "aJ1wkKYm2suJ",
        "outputId": "6626bef5-e7eb-4ca8-dcca-9078d87b6347"
      },
      "source": [
        "# 대문자로만 구성된 단어 추출\n",
        "re.findall('[A-Z]{2,}',text) "
      ],
      "execution_count": 53,
      "outputs": [
        {
          "output_type": "execute_result",
          "data": {
            "text/plain": [
              "['PROF', 'STUD', 'STUD']"
            ]
          },
          "metadata": {},
          "execution_count": 53
        }
      ]
    },
    {
      "cell_type": "code",
      "metadata": {
        "colab": {
          "base_uri": "https://localhost:8080/"
        },
        "id": "9iwSCJWF24Cn",
        "outputId": "4205e11c-8996-4558-8a44-57406f977482"
      },
      "source": [
        "# 대문자로 시작하고, 그 뒤에 소문자들이 등장하는 단어 추출\n",
        "re.findall('[A-Z][a-z]+',text)"
      ],
      "execution_count": 55,
      "outputs": [
        {
          "output_type": "execute_result",
          "data": {
            "text/plain": [
              "['John', 'James', 'Mac']"
            ]
          },
          "metadata": {},
          "execution_count": 55
        }
      ]
    },
    {
      "cell_type": "markdown",
      "metadata": {
        "id": "SP4bgedU3WnY"
      },
      "source": [
        "# 3) Tokenization by regular expressiong"
      ]
    },
    {
      "cell_type": "code",
      "metadata": {
        "id": "zpqWwZyO3ZzX"
      },
      "source": [
        "import nltk\n",
        "from nltk.tokenize import RegexpTokenizer # 원하는 정규표현식 패턴을 입력하여 토큰화 수행하는 함수\n",
        "\n",
        "tokenizer = RegexpTokenizer(\"[\\w]+\") # \\w : 문자 또는 숫자"
      ],
      "execution_count": 56,
      "outputs": []
    },
    {
      "cell_type": "code",
      "metadata": {
        "colab": {
          "base_uri": "https://localhost:8080/"
        },
        "id": "puv1km9W3uks",
        "outputId": "c03401f5-b4ba-4a22-c0c1-30c87e468f70"
      },
      "source": [
        "# 문자 또는 숫자만을 토큰화\n",
        "tokenizer.tokenize(\"Don't be fooled by the dark sounding name, Mr. Jone's Orphanage is as cheery as cheery goes for a pastry shop\")"
      ],
      "execution_count": 58,
      "outputs": [
        {
          "output_type": "execute_result",
          "data": {
            "text/plain": [
              "['Don',\n",
              " 't',\n",
              " 'be',\n",
              " 'fooled',\n",
              " 'by',\n",
              " 'the',\n",
              " 'dark',\n",
              " 'sounding',\n",
              " 'name',\n",
              " 'Mr',\n",
              " 'Jone',\n",
              " 's',\n",
              " 'Orphanage',\n",
              " 'is',\n",
              " 'as',\n",
              " 'cheery',\n",
              " 'as',\n",
              " 'cheery',\n",
              " 'goes',\n",
              " 'for',\n",
              " 'a',\n",
              " 'pastry',\n",
              " 'shop']"
            ]
          },
          "metadata": {},
          "execution_count": 58
        }
      ]
    },
    {
      "cell_type": "code",
      "metadata": {
        "colab": {
          "base_uri": "https://localhost:8080/"
        },
        "id": "P1OD_Ky24AHD",
        "outputId": "4fb0ceba-61cb-40d4-db1a-a63115d0f9c2"
      },
      "source": [
        "tokenizer = RegexpTokenizer(\"[\\s]+\", gaps = True)\n",
        "\n",
        "# 공백문자를 기준으로 토큰화\n",
        "tokenizer.tokenize(\"Don't be fooled by the dark sounding name, Mr. Jone's Orphanage is as cheery as cheery goes for a pastry shop\")"
      ],
      "execution_count": 59,
      "outputs": [
        {
          "output_type": "execute_result",
          "data": {
            "text/plain": [
              "[\"Don't\",\n",
              " 'be',\n",
              " 'fooled',\n",
              " 'by',\n",
              " 'the',\n",
              " 'dark',\n",
              " 'sounding',\n",
              " 'name,',\n",
              " 'Mr.',\n",
              " \"Jone's\",\n",
              " 'Orphanage',\n",
              " 'is',\n",
              " 'as',\n",
              " 'cheery',\n",
              " 'as',\n",
              " 'cheery',\n",
              " 'goes',\n",
              " 'for',\n",
              " 'a',\n",
              " 'pastry',\n",
              " 'shop']"
            ]
          },
          "metadata": {},
          "execution_count": 59
        }
      ]
    },
    {
      "cell_type": "markdown",
      "metadata": {
        "id": "l3WhjIXy4kvE"
      },
      "source": [
        "* ```gaps = true``` : RegexpTokenizer에 입력된 정규표현식을 토큰으로 나누기 위한 기준으로 사용함"
      ]
    }
  ]
}