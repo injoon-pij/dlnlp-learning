{
  "nbformat": 4,
  "nbformat_minor": 0,
  "metadata": {
    "colab": {
      "name": "dlnlp_rnn(1).ipynb",
      "provenance": [],
      "collapsed_sections": [],
      "authorship_tag": "ABX9TyP1cS6+8YcEWgGpm2C0EUmW",
      "include_colab_link": true
    },
    "kernelspec": {
      "name": "python3",
      "display_name": "Python 3"
    },
    "language_info": {
      "name": "python"
    }
  },
  "cells": [
    {
      "cell_type": "markdown",
      "metadata": {
        "id": "view-in-github",
        "colab_type": "text"
      },
      "source": [
        "<a href=\"https://colab.research.google.com/github/injoon-pij/dlnlp-learning/blob/main/dlnlp_rnn(1).ipynb\" target=\"_parent\"><img src=\"https://colab.research.google.com/assets/colab-badge.svg\" alt=\"Open In Colab\"/></a>"
      ]
    },
    {
      "cell_type": "markdown",
      "metadata": {
        "id": "Wmy6icpJI1lt"
      },
      "source": [
        "# 1) RNN (Recurrent Neural Network)"
      ]
    },
    {
      "cell_type": "markdown",
      "metadata": {
        "id": "kA0izosYKEml"
      },
      "source": [
        "## 1.1 Vanilla RNN (SimpleRNN)"
      ]
    },
    {
      "cell_type": "markdown",
      "metadata": {
        "id": "Hg3QpejHKSlk"
      },
      "source": [
        "https://github.com/injoon-pij/pytorch-learning/blob/master/pytorch_rnn.ipynb\n",
        "\n",
        "이론적 내용은 위 링크의 __1.1 Vanilla RNN (SimpleRNN)__ 참고"
      ]
    },
    {
      "cell_type": "markdown",
      "metadata": {
        "id": "0QAg89R2KvoG"
      },
      "source": [
        "### Modeling"
      ]
    },
    {
      "cell_type": "markdown",
      "metadata": {
        "id": "vrC1k_WuK5VU"
      },
      "source": [
        "__Keras__"
      ]
    },
    {
      "cell_type": "markdown",
      "metadata": {
        "id": "e-UfNfQPU_2r"
      },
      "source": [
        "```python\n",
        "# RNN 층을 추가하는 코드\n",
        "model.add(SimpleRNN(hidden_size))\n",
        "\n",
        "# 추가 인자를 사용할 때\n",
        "model.add(SimpleRNN(hidden_size, input_shape=(timesteps, input_dim)))\n",
        "\n",
        "# 다른 표기\n",
        "model.add(SimpleRNN(hidden_size, input_length=M, input_dim=N))\n",
        "```"
      ]
    },
    {
      "cell_type": "markdown",
      "metadata": {
        "id": "VuMOoCFYVeLb"
      },
      "source": [
        "![image.png](data:image/png;base64,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)"
      ]
    },
    {
      "cell_type": "markdown",
      "metadata": {
        "id": "Hw9aa1R4VJ2b"
      },
      "source": [
        "* hidden_size = 은닉 상태의 크기\n",
        " * 메모리 셀이 다음 시점의 메모리 셀과 출력층으로 보내는 값의 크기(output_dim)와 동일\n",
        "* timesteps(input_length) = 입력 시퀀스의 길이 (시점의 수)\n",
        "* input_dim = 입력의 크기"
      ]
    },
    {
      "cell_type": "markdown",
      "metadata": {
        "id": "4mA5WRZhYqIi"
      },
      "source": [
        "![image.png](data:image/png;base64,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)"
      ]
    },
    {
      "cell_type": "markdown",
      "metadata": {
        "id": "60K21W4RXaK6"
      },
      "source": [
        "RNN 층은 사용자의 설정에 따라 두 가지 종류의 출력을 내보냄\n",
        "* __(batch_size, output_dim)__ 크기의 2D 텐서 리턴 __(default)__\n",
        " * 메모리 셀의 최종 시점의 은닉 상태만을 리턴\n",
        " * many-to-one 문제를 푸는 경우\n",
        " \n",
        "* __(batch_size, timesteps, output_dim)__ 크기의 3D 텐서 리턴\n",
        " * 메모리 셀의 각 시점(time step)의 은닉 상태값들을 모아서 전체 시퀀스를 리턴\n",
        " * 이는 RNN 층의 __return_sequences 매개 변수를 True로 설정__하는 것으로 가능함\n",
        " * 다음층에 은닉층이 하나 더 있거나 many-to-many 문제를 푸는 경우\n",
        " \n",
        "* output_dim은 RNN 층을 추가하는 코드에서 정의한 hidden_size의 값으로 설정\n",
        "\n"
      ]
    },
    {
      "cell_type": "code",
      "metadata": {
        "id": "zdbPeEU7ZHlC"
      },
      "source": [
        "from keras.models import Sequential\n",
        "from keras.layers import SimpleRNN"
      ],
      "execution_count": null,
      "outputs": []
    },
    {
      "cell_type": "code",
      "metadata": {
        "colab": {
          "base_uri": "https://localhost:8080/"
        },
        "id": "jYKsXdIOZJf0",
        "outputId": "bf171f3c-3829-42c6-a6fd-2b5af220cccf"
      },
      "source": [
        "model = Sequential()\n",
        "model.add(SimpleRNN(3, input_shape=(2,10)))\n",
        "# model.add(SimpleRNN(3, input_length=2, input_dim=10))와 동일\n",
        "\n",
        "model.summary() # output_shape = (batch_size, output_dim)"
      ],
      "execution_count": null,
      "outputs": [
        {
          "output_type": "stream",
          "name": "stdout",
          "text": [
            "Model: \"sequential_1\"\n",
            "_________________________________________________________________\n",
            "Layer (type)                 Output Shape              Param #   \n",
            "=================================================================\n",
            "simple_rnn_1 (SimpleRNN)     (None, 3)                 42        \n",
            "=================================================================\n",
            "Total params: 42\n",
            "Trainable params: 42\n",
            "Non-trainable params: 0\n",
            "_________________________________________________________________\n"
          ]
        }
      ]
    },
    {
      "cell_type": "code",
      "metadata": {
        "colab": {
          "base_uri": "https://localhost:8080/"
        },
        "id": "ajksaExTmDmZ",
        "outputId": "6c770432-e63b-4769-866e-3bfca56dbd28"
      },
      "source": [
        "# batch_size 설정\n",
        "model = Sequential()\n",
        "model.add(SimpleRNN(3, batch_input_shape=(8,2,10)))\n",
        "\n",
        "model.summary() # output_shape = (batch_size, output_dim)"
      ],
      "execution_count": null,
      "outputs": [
        {
          "output_type": "stream",
          "name": "stdout",
          "text": [
            "Model: \"sequential_2\"\n",
            "_________________________________________________________________\n",
            "Layer (type)                 Output Shape              Param #   \n",
            "=================================================================\n",
            "simple_rnn_2 (SimpleRNN)     (8, 3)                    42        \n",
            "=================================================================\n",
            "Total params: 42\n",
            "Trainable params: 42\n",
            "Non-trainable params: 0\n",
            "_________________________________________________________________\n"
          ]
        }
      ]
    },
    {
      "cell_type": "code",
      "metadata": {
        "colab": {
          "base_uri": "https://localhost:8080/"
        },
        "id": "lwPbqoo3ml3-",
        "outputId": "07deaeb0-f1b3-4de8-bad4-45b9dce26e3a"
      },
      "source": [
        "# return_sequences = True 설정\n",
        "model = Sequential()\n",
        "model.add(SimpleRNN(3, batch_input_shape=(8,2,10), return_sequences=True))\n",
        "\n",
        "model.summary() # output_shape = (batch_size, timesteps, output_dim)"
      ],
      "execution_count": null,
      "outputs": [
        {
          "output_type": "stream",
          "name": "stdout",
          "text": [
            "Model: \"sequential_3\"\n",
            "_________________________________________________________________\n",
            "Layer (type)                 Output Shape              Param #   \n",
            "=================================================================\n",
            "simple_rnn_3 (SimpleRNN)     (8, 2, 3)                 42        \n",
            "=================================================================\n",
            "Total params: 42\n",
            "Trainable params: 42\n",
            "Non-trainable params: 0\n",
            "_________________________________________________________________\n"
          ]
        }
      ]
    },
    {
      "cell_type": "markdown",
      "metadata": {
        "id": "C2OZ0YTrK-E9"
      },
      "source": [
        "__Numpy__"
      ]
    },
    {
      "cell_type": "markdown",
      "metadata": {
        "id": "bjwyyG3SLMU1"
      },
      "source": [
        "https://github.com/injoon-pij/pytorch-learning/blob/master/pytorch_rnn.ipynb\n",
        "\n",
        "위 링크의 __1.1.1 Modeling - Numpy__ 참고"
      ]
    },
    {
      "cell_type": "markdown",
      "metadata": {
        "id": "632d4xoTLaos"
      },
      "source": [
        "## 1.2 Deep Recurrent Neural Network"
      ]
    },
    {
      "cell_type": "markdown",
      "metadata": {
        "id": "zznfyzQINRVk"
      },
      "source": [
        "https://github.com/injoon-pij/pytorch-learning/blob/master/pytorch_rnn.ipynb\n",
        "\n",
        "이론적 내용은 위 링크의 __1.2 Deep Recurrent Neural Network__ 참고"
      ]
    },
    {
      "cell_type": "markdown",
      "metadata": {
        "id": "VgbVNcltL4gj"
      },
      "source": [
        "### Modeling"
      ]
    },
    {
      "cell_type": "markdown",
      "metadata": {
        "id": "Vs96-0GNL_VP"
      },
      "source": [
        "```python\n",
        "model = Sequential()\n",
        "model.add(SimpleRNN(hidden_size, return_sequences = True))\n",
        "model.add(SimpleRNN(hidden_size, return_sequences = True))\n",
        "```"
      ]
    },
    {
      "cell_type": "markdown",
      "metadata": {
        "id": "nUyJOtfsMGyE"
      },
      "source": [
        "## 1.3 Bidirectional Recurrent Neural Network"
      ]
    },
    {
      "cell_type": "markdown",
      "metadata": {
        "id": "HUCcXi8ZMZFc"
      },
      "source": [
        "https://github.com/injoon-pij/pytorch-learning/blob/master/pytorch_rnn.ipynb\n",
        "\n",
        "이론적 내용은 위 링크의 __1.3 Bidirectional Recurrent Neural Network__ 참고"
      ]
    },
    {
      "cell_type": "markdown",
      "metadata": {
        "id": "GCXMCM7nMiwk"
      },
      "source": [
        "### Modeling"
      ]
    },
    {
      "cell_type": "markdown",
      "metadata": {
        "id": "uVOwPTO4Mk0D"
      },
      "source": [
        "```python\n",
        "from tensorflow.keras.models import Sequential\n",
        "from tensorflow.keras.layers import SimpleRNN, Bidirectional\n",
        "\n",
        "model = Sequential()\n",
        "model.add(Bidirectional(SimpleRNN(hidden_size, return_sequences = True), input_shape=(timesteps, input_dim)))\n",
        "```"
      ]
    },
    {
      "cell_type": "markdown",
      "metadata": {
        "id": "9Q0qTDYjMy9X"
      },
      "source": [
        "```python\n",
        "# 깊은(deep) 양방향 순환 신경망\n",
        "model = Sequential()\n",
        "model.add(Bidirectional(SimpleRNN(hidden_size, return_sequences = True), input_shape=(timesteps, input_dim)))\n",
        "model.add(Bidirectional(SimpleRNN(hidden_size, return_sequences = True)))\n",
        "model.add(Bidirectional(SimpleRNN(hidden_size, return_sequences = True)))\n",
        "model.add(Bidirectional(SimpleRNN(hidden_size, return_sequences = True)))\n",
        "```"
      ]
    },
    {
      "cell_type": "markdown",
      "metadata": {
        "id": "qkdrE5Qdq81E"
      },
      "source": [
        "---\n",
        "(ex) 모델 파라미터 개수 계산\n",
        "\n",
        "1. Embedding을 사용하며, 단어 집합(Vocabulary)의 크기가 5,000이고 임베딩 벡터의 차원은 100임\n",
        "2. 은닉층에서는 Simple RNN을 사용하며, 은닉 상태의 크기는 128임\n",
        "3. 훈련에 사용하는 모든 샘플의 길이는 30으로 가정\n",
        "4. 이진 분류를 수행하는 모델로, 출력층의 뉴런은 1개로 시그모이드 함수를 사용\n",
        "5. 은닉층은 1개"
      ]
    },
    {
      "cell_type": "code",
      "metadata": {
        "colab": {
          "base_uri": "https://localhost:8080/"
        },
        "id": "_9CCc0t4qz6n",
        "outputId": "45da1ec8-b7cc-4dc3-ec73-0d752713d0bc"
      },
      "source": [
        "from tensorflow.keras.models import Sequential\n",
        "from tensorflow.keras.layers import SimpleRNN, Embedding, Dense\n",
        "\n",
        "vocab_size = 5000\n",
        "embedding_dim = 100\n",
        "hidden_size = 128\n",
        "\n",
        "model = Sequential()\n",
        "model.add(Embedding(vocab_size, embedding_dim))\n",
        "model.add(SimpleRNN(hidden_size))\n",
        "model.add(Dense(1, activation = 'sigmoid'))\n",
        "model.summary()"
      ],
      "execution_count": null,
      "outputs": [
        {
          "output_type": "stream",
          "name": "stdout",
          "text": [
            "Model: \"sequential_4\"\n",
            "_________________________________________________________________\n",
            "Layer (type)                 Output Shape              Param #   \n",
            "=================================================================\n",
            "embedding (Embedding)        (None, None, 100)         500000    \n",
            "_________________________________________________________________\n",
            "simple_rnn_4 (SimpleRNN)     (None, 128)               29312     \n",
            "_________________________________________________________________\n",
            "dense (Dense)                (None, 1)                 129       \n",
            "=================================================================\n",
            "Total params: 529,441\n",
            "Trainable params: 529,441\n",
            "Non-trainable params: 0\n",
            "_________________________________________________________________\n"
          ]
        }
      ]
    },
    {
      "cell_type": "markdown",
      "metadata": {
        "id": "I-OhoL9XM_Ib"
      },
      "source": [
        "* Embedding layer parameter \n",
        " * 5,000(input) * 100(embedding) = __500,000__\n",
        "* SimpleRNN layer parameter\n",
        " * $W_{x}$ : 100(embedding) * 128(hidden) = __12,800__\n",
        " * $W_{h}$ : 128(hidden) * 128(hidden) = __16,384__\n",
        " * $b$ : __128__\n",
        "* Dense later parameter\n",
        " * $W_{y}$ : __128__\n",
        " * $b$ : __1__\n",
        "\n",
        "__Total params : 529,441__"
      ]
    },
    {
      "cell_type": "markdown",
      "metadata": {
        "id": "G63wW8l7NcxN"
      },
      "source": [
        "# 2) LSTM (Long Short-Term Memory)"
      ]
    },
    {
      "cell_type": "markdown",
      "metadata": {
        "id": "kLax6sZjTWOj"
      },
      "source": [
        "https://github.com/injoon-pij/pytorch-learning/blob/master/pytorch_rnn.ipynb\n",
        "\n",
        "위 링크의 __2) LSTM (Long Short-Term Memory)__ 참고"
      ]
    },
    {
      "cell_type": "markdown",
      "metadata": {
        "id": "g9YxrY1zsbCM"
      },
      "source": [
        "__Modeling__"
      ]
    },
    {
      "cell_type": "markdown",
      "metadata": {
        "id": "zWET8zSksbnt"
      },
      "source": [
        "```python\n",
        "model.add(LSTM(hidden_size, input_shape=(timesteps, input_dim)))\n",
        "```"
      ]
    },
    {
      "cell_type": "markdown",
      "metadata": {
        "id": "pGM9xMKcTfD0"
      },
      "source": [
        "# 3) GRU (Gated Recurrent Unit)"
      ]
    },
    {
      "cell_type": "markdown",
      "metadata": {
        "id": "LItqOvi-ToHT"
      },
      "source": [
        "* GRU는 LSTM의 장기 의존성 문제에 대한 해결책을 유지하면서, 은닉 상태를 업데이트하는 계산을 줄임\n",
        "* LSTM에서는 출력, 입력, 삭제 게이트라는 3개의 게이트가 존재했던 반면, GRU에서는 업데이트 게이트와 리셋 게이트 두 가지 게이트만 존재\n",
        "* GRU는 LSTM보다 학습 속도가 빠르다고 알려져있지만 여러 평가에서 GRU는 LSTM과 비슷한 성능을 보인다고 알려져 있음\n",
        "* 데이터 양이 적을 때는 매개 변수의 양이 적은 GRU가 조금 더 낫고, 데이터 양이 더 많으면 LSTM이 더 낫다고 알려져 있음"
      ]
    },
    {
      "cell_type": "markdown",
      "metadata": {
        "id": "9vfXSuH7TsXX"
      },
      "source": [
        "![image.png](data:image/png;base64,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)"
      ]
    },
    {
      "cell_type": "markdown",
      "metadata": {
        "id": "u_7jgZ4FsQEk"
      },
      "source": [
        "__Modeling__"
      ]
    },
    {
      "cell_type": "markdown",
      "metadata": {
        "id": "6k7mehzssSvt"
      },
      "source": [
        "```python\n",
        "model.add(GRU(hidden_size, input_shape=(timesteps, input_dim)))\n",
        "```"
      ]
    },
    {
      "cell_type": "markdown",
      "metadata": {
        "id": "95WpqcDftO49"
      },
      "source": [
        "# 4) Understanding SimpleRNN, LSTM (Keras)"
      ]
    },
    {
      "cell_type": "markdown",
      "metadata": {
        "id": "YmXnnMeWthWf"
      },
      "source": [
        "## 4.1 SimpleRNN"
      ]
    },
    {
      "cell_type": "code",
      "metadata": {
        "id": "wYjSEqLFtaSE"
      },
      "source": [
        "import numpy as np\n",
        "import tensorflow as tf\n",
        "from tensorflow.keras.layers import SimpleRNN"
      ],
      "execution_count": null,
      "outputs": []
    },
    {
      "cell_type": "code",
      "metadata": {
        "colab": {
          "base_uri": "https://localhost:8080/"
        },
        "id": "6nBxM-x4uBxU",
        "outputId": "195aa2ee-2c06-432f-8d5f-a810914dd2ee"
      },
      "source": [
        "# 임의 입력값 생성\n",
        "train_X = [[[0.1, 4.2, 1.5, 1.1, 2.8], \n",
        "            [1.0, 3.1, 2.5, 0.7, 1.1], \n",
        "            [0.3, 2.1, 1.5, 2.1, 0.1], \n",
        "            [2.2, 1.4, 0.5, 0.9, 1.1]]]\n",
        "\n",
        "train_X = np.array(train_X, dtype=np.float32)\n",
        "print(train_X.shape)"
      ],
      "execution_count": null,
      "outputs": [
        {
          "output_type": "stream",
          "name": "stdout",
          "text": [
            "(1, 4, 5)\n"
          ]
        }
      ]
    },
    {
      "cell_type": "markdown",
      "metadata": {
        "id": "Ds7ixOe3udsk"
      },
      "source": [
        "* (1, 4, 5) = (batch_size, timesteps, input_dim)\n",
        " * 배치 크기 : 1\n",
        " * 문장 길이(시점) : 4\n",
        " * 단어 벡터의 차원 : 5"
      ]
    },
    {
      "cell_type": "markdown",
      "metadata": {
        "id": "mYvtUhexv1MF"
      },
      "source": [
        "생성한 데이터를 SimpleRNN의 입력으로 사용하여, SimpleRNN의 인자를 변경해보며 SimpleRNN의 출력값을 이해"
      ]
    },
    {
      "cell_type": "code",
      "metadata": {
        "colab": {
          "base_uri": "https://localhost:8080/"
        },
        "id": "pujfbXggvNUs",
        "outputId": "d3a9d042-948c-492a-c62a-2505412cfa48"
      },
      "source": [
        "# return_sequences = False (default)\n",
        "# return_state = False (default)\n",
        "\n",
        "rnn = SimpleRNN(3)\n",
        "hidden_state = rnn(train_X)\n",
        "\n",
        "print('hidden state : {}, shape: {}'.format(hidden_state, hidden_state.shape))"
      ],
      "execution_count": null,
      "outputs": [
        {
          "output_type": "stream",
          "name": "stdout",
          "text": [
            "hidden state : [[-0.6231625  -0.99032116  0.34390548]], shape: (1, 3)\n"
          ]
        }
      ]
    },
    {
      "cell_type": "markdown",
      "metadata": {
        "id": "NlWAIsbwwDFl"
      },
      "source": [
        "* hidden_state_shape (1,3)  = (batch_size, hidden_size)\n",
        " * 마지막 시점의 은닉 상태 출력 (return_sequences = False)\n",
        "\n"
      ]
    },
    {
      "cell_type": "code",
      "metadata": {
        "colab": {
          "base_uri": "https://localhost:8080/"
        },
        "id": "H8JHappIwLxR",
        "outputId": "796ff370-afdd-4b08-f3d9-93dccc81324a"
      },
      "source": [
        "# return_sequences = True\n",
        "# return_state = False (default)\n",
        "\n",
        "rnn = SimpleRNN(3, return_sequences=True)\n",
        "hidden_states = rnn(train_X)\n",
        "\n",
        "print('hidden states : {}, shape: {}'.format(hidden_states, hidden_states.shape))"
      ],
      "execution_count": null,
      "outputs": [
        {
          "output_type": "stream",
          "name": "stdout",
          "text": [
            "hidden states : [[[ 0.9999644   0.9416835  -0.90310335]\n",
            "  [ 0.999677    0.9306366  -0.99055517]\n",
            "  [ 0.95744574  0.90245265 -0.99096733]\n",
            "  [ 0.9336872   0.4781613  -0.9879672 ]]], shape: (1, 4, 3)\n"
          ]
        }
      ]
    },
    {
      "cell_type": "markdown",
      "metadata": {
        "id": "BT1xHMexwmXk"
      },
      "source": [
        "* hidden_states_shape (1,4,3) = (batch_size, timesteps, hidden_size)\n",
        " * 모든 시점에 대해서 은닉 상태 출력 (return_sequences = True)"
      ]
    },
    {
      "cell_type": "code",
      "metadata": {
        "colab": {
          "base_uri": "https://localhost:8080/"
        },
        "id": "B7RtLSGNxC71",
        "outputId": "bd5cd494-83ae-4096-de5e-3553bd167a0f"
      },
      "source": [
        "# return_sequences = True\n",
        "# return_state = True\n",
        "\n",
        "rnn = SimpleRNN(3, return_sequences=True, return_state=True)\n",
        "hidden_states, last_state = rnn(train_X)\n",
        "\n",
        "print('hidden states : {}, shape: {}'.format(hidden_states, hidden_states.shape))\n",
        "print('last hidden state : {}, shape: {}'.format(last_state, last_state.shape))"
      ],
      "execution_count": null,
      "outputs": [
        {
          "output_type": "stream",
          "name": "stdout",
          "text": [
            "hidden states : [[[-0.99038196 -0.9233116  -0.9858095 ]\n",
            "  [-0.97785944 -0.8841236  -0.2799367 ]\n",
            "  [-0.11661994  0.65023535 -0.77134675]\n",
            "  [-0.39502034 -0.19131099  0.38752836]]], shape: (1, 4, 3)\n",
            "last hidden state : [[-0.39502034 -0.19131099  0.38752836]], shape: (1, 3)\n"
          ]
        }
      ]
    },
    {
      "cell_type": "markdown",
      "metadata": {
        "id": "nU5B45D_xNPs"
      },
      "source": [
        "* hidden_states_shape (1,4,3) = (batch_size, timesteps, hidden_size)\n",
        "* last hidden state_shape (1,3) =  (batch_size, hidden_size)\n",
        " * hidden_states와 last hidden_state, 즉 모든 시점에서의 은닉 상태와 마지막 시점의 은닉 상태 둘다 출력\n",
        " * ```return_sequences = True``` & ```return_state = True```\n",
        "\n",
        "* hidden_states 출력 텐서의 마지막 벡터값과 last_state의 출력 벡터값이 일치하는 것을 확인할 수 있음\n"
      ]
    },
    {
      "cell_type": "code",
      "metadata": {
        "colab": {
          "base_uri": "https://localhost:8080/"
        },
        "id": "O5fKuNCuxCps",
        "outputId": "38a0a88b-efb8-4280-f5d2-8cb9c949ffe9"
      },
      "source": [
        "# return_sequences = False (default)\n",
        "# return_state = True\n",
        "\n",
        "rnn = SimpleRNN(3, return_sequences=False, return_state=True)\n",
        "hidden_state, last_state = rnn(train_X)\n",
        "\n",
        "print('hidden state : {}, shape: {}'.format(hidden_state, hidden_state.shape))\n",
        "print('last hidden state : {}, shape: {}'.format(last_state, last_state.shape))"
      ],
      "execution_count": null,
      "outputs": [
        {
          "output_type": "stream",
          "name": "stdout",
          "text": [
            "hidden state : [[-0.9939383   0.8460623  -0.01765235]], shape: (1, 3)\n",
            "last hidden state : [[-0.9939383   0.8460623  -0.01765235]], shape: (1, 3)\n"
          ]
        }
      ]
    },
    {
      "cell_type": "markdown",
      "metadata": {
        "id": "nF5pBrfKyH9U"
      },
      "source": [
        "* hidden_state_shape (1,3) = (batch_size, hidden_size)\n",
        "* last hidden state_shape (1,3) =  (batch_size, hidden_size)\n",
        " * hidden_states와 last hidden_state, 두 출력 모두 마지막 시점의 은닉 상태를 출력\n",
        " * ```return_sequences = False``` & ```return_state = True```\n",
        "\n",
        "* 두 출력값이 같은 값임을 확인할 수 있음"
      ]
    },
    {
      "cell_type": "markdown",
      "metadata": {
        "id": "JjCv05UQtkin"
      },
      "source": [
        "## 4.2 LSTM"
      ]
    },
    {
      "cell_type": "code",
      "metadata": {
        "id": "3OjksI_P5IKP"
      },
      "source": [
        "import numpy as np\n",
        "import tensorflow as tf\n",
        "from tensorflow.keras.layers import LSTM"
      ],
      "execution_count": 1,
      "outputs": []
    },
    {
      "cell_type": "code",
      "metadata": {
        "colab": {
          "base_uri": "https://localhost:8080/"
        },
        "id": "r4nsy5ad5QWI",
        "outputId": "ed2d3381-a4c7-4c76-a145-bb596c160162"
      },
      "source": [
        "# 임의 입력값 생성\n",
        "train_X = [[[0.1, 4.2, 1.5, 1.1, 2.8], \n",
        "            [1.0, 3.1, 2.5, 0.7, 1.1], \n",
        "            [0.3, 2.1, 1.5, 2.1, 0.1], \n",
        "            [2.2, 1.4, 0.5, 0.9, 1.1]]]\n",
        "\n",
        "train_X = np.array(train_X, dtype=np.float32)\n",
        "print(train_X.shape)"
      ],
      "execution_count": 3,
      "outputs": [
        {
          "output_type": "stream",
          "name": "stdout",
          "text": [
            "(1, 4, 5)\n"
          ]
        }
      ]
    },
    {
      "cell_type": "code",
      "metadata": {
        "id": "g56qAgvHtmJm",
        "colab": {
          "base_uri": "https://localhost:8080/"
        },
        "outputId": "dcb48154-1c7f-49fa-f656-64faef2824b3"
      },
      "source": [
        "# return_sequences = False\n",
        "# return_state = True\n",
        "\n",
        "lstm = LSTM(3, return_sequences=False, return_state=True)\n",
        "hidden_state, last_state, last_cell_state = lstm(train_X)\n",
        "\n",
        "print('hidden state : {}, shape: {}'.format(hidden_state, hidden_state.shape))\n",
        "print('last hidden state : {}, shape: {}'.format(last_state, last_state.shape))\n",
        "print('last cell state : {}, shape: {}'.format(last_cell_state, last_cell_state.shape))"
      ],
      "execution_count": 4,
      "outputs": [
        {
          "output_type": "stream",
          "name": "stdout",
          "text": [
            "hidden state : [[-0.36307257 -0.00609374  0.56907445]], shape: (1, 3)\n",
            "last hidden state : [[-0.36307257 -0.00609374  0.56907445]], shape: (1, 3)\n",
            "last cell state : [[-1.052025   -0.01719148  1.0775939 ]], shape: (1, 3)\n"
          ]
        }
      ]
    },
    {
      "cell_type": "markdown",
      "metadata": {
        "id": "wlqQN8nv5cKH"
      },
      "source": [
        "* hidden_state_shape (1,3) = (batch_size, hidden_size)\n",
        "* last_hidden_state_shape (1,3) = (batch_size, hidden_size)\n",
        "* last_cell_state_shape (1,3) = (batch_size, hidden_size)\n",
        " * 마지막 시점의 은닉 상태뿐만 아니라 셀 상태까지 반환\n",
        " * ```return_state = True```"
      ]
    },
    {
      "cell_type": "code",
      "metadata": {
        "colab": {
          "base_uri": "https://localhost:8080/"
        },
        "id": "-MB5d-mc5SoY",
        "outputId": "071a713c-3919-4d02-b227-1399c786800e"
      },
      "source": [
        "# return_sequences = True\n",
        "# return_state = True\n",
        "\n",
        "lstm = LSTM(3, return_sequences=True, return_state=True)\n",
        "hidden_states, last_hidden_state, last_cell_state = lstm(train_X)\n",
        "\n",
        "print('hidden states : {}, shape: {}'.format(hidden_states, hidden_states.shape))\n",
        "print('last hidden state : {}, shape: {}'.format(last_hidden_state, last_hidden_state.shape))\n",
        "print('last cell state : {}, shape: {}'.format(last_cell_state, last_cell_state.shape))"
      ],
      "execution_count": 5,
      "outputs": [
        {
          "output_type": "stream",
          "name": "stdout",
          "text": [
            "hidden states : [[[ 0.6097138  -0.01573857  0.00753461]\n",
            "  [ 0.6649874  -0.02187848  0.03097598]\n",
            "  [ 0.5434932   0.00219236  0.07006836]\n",
            "  [ 0.703211    0.039903    0.06404021]]], shape: (1, 4, 3)\n",
            "last hidden state : [[0.703211   0.039903   0.06404021]], shape: (1, 3)\n",
            "last cell state : [[1.3686848  0.08852859 0.5885756 ]], shape: (1, 3)\n"
          ]
        }
      ]
    },
    {
      "cell_type": "markdown",
      "metadata": {
        "id": "v7Xvh1tN5cgb"
      },
      "source": [
        "* hidden_states_shape (1,4,3) = (batch_size, timesteps, hidden_size)\n",
        " * 모든 시점의 은닉 상태 출력\n",
        " * ```return_sequences = True```\n",
        "* last_hidden_state_shape (1,3) = (batch_size, hidden_size)\n",
        "* last_cell_state_shape (1,3) = (batch_size, hidden_size)"
      ]
    },
    {
      "cell_type": "markdown",
      "metadata": {
        "id": "EQrJotxKtmor"
      },
      "source": [
        "## 4.3 Bidirectional LSTM"
      ]
    },
    {
      "cell_type": "code",
      "metadata": {
        "id": "jSve4UAQ8Vh1"
      },
      "source": [
        "import numpy as np\n",
        "import tensorflow as tf\n",
        "from tensorflow.keras.layers import LSTM, Bidirectional"
      ],
      "execution_count": 9,
      "outputs": []
    },
    {
      "cell_type": "code",
      "metadata": {
        "colab": {
          "base_uri": "https://localhost:8080/"
        },
        "id": "j1Y_ux9V8Yuf",
        "outputId": "89e995c3-e828-433d-c23b-d7b432e9feba"
      },
      "source": [
        "# 임의 입력값 생성\n",
        "train_X = [[[0.1, 4.2, 1.5, 1.1, 2.8], \n",
        "            [1.0, 3.1, 2.5, 0.7, 1.1], \n",
        "            [0.3, 2.1, 1.5, 2.1, 0.1], \n",
        "            [2.2, 1.4, 0.5, 0.9, 1.1]]]\n",
        "\n",
        "train_X = np.array(train_X, dtype=np.float32)\n",
        "print(train_X.shape)"
      ],
      "execution_count": 10,
      "outputs": [
        {
          "output_type": "stream",
          "name": "stdout",
          "text": [
            "(1, 4, 5)\n"
          ]
        }
      ]
    },
    {
      "cell_type": "code",
      "metadata": {
        "id": "sTA89yCJtph9"
      },
      "source": [
        "k_init = tf.keras.initializers.Constant(value=0.1) \n",
        "b_init = tf.keras.initializers.Constant(value=0)\n",
        "r_init = tf.keras.initializers.Constant(value=0.1)"
      ],
      "execution_count": 8,
      "outputs": []
    },
    {
      "cell_type": "markdown",
      "metadata": {
        "id": "NkjSvluN8IYu"
      },
      "source": [
        "* return_sequences가 True인 경우와 False인 경우에 대해서 은닉 상태의 값이 어떻게 바뀌는지 직접 비교하기 위해서 출력되는 은닉 상태의 값을 고정"
      ]
    },
    {
      "cell_type": "code",
      "metadata": {
        "colab": {
          "base_uri": "https://localhost:8080/"
        },
        "id": "LISpl1548Sqz",
        "outputId": "632b303b-fd55-4547-9f69-af1fcfc9954d"
      },
      "source": [
        "# return_sequences = False\n",
        "# return_state = True\n",
        "\n",
        "bilstm = Bidirectional(LSTM(3, return_sequences=False, return_state=True, \\\n",
        "                            kernel_initializer=k_init, bias_initializer=b_init, recurrent_initializer=r_init))\n",
        "hidden_state, forward_h, forward_c, backward_h, backward_c = bilstm(train_X)\n",
        "\n",
        "print('hidden state : {}, shape: {}'.format(hidden_states, hidden_states.shape))\n",
        "print('forward state : {}, shape: {}'.format(forward_h, forward_h.shape))\n",
        "print('backward state : {}, shape: {}'.format(backward_h, backward_h.shape))"
      ],
      "execution_count": 13,
      "outputs": [
        {
          "output_type": "stream",
          "name": "stdout",
          "text": [
            "hidden state : [[0.63031393 0.63031393 0.63031393 0.7038734  0.7038734  0.7038734 ]], shape: (1, 6)\n",
            "forward state : [[0.63031393 0.63031393 0.63031393]], shape: (1, 3)\n",
            "backward state : [[0.7038734 0.7038734 0.7038734]], shape: (1, 3)\n"
          ]
        }
      ]
    },
    {
      "cell_type": "markdown",
      "metadata": {
        "id": "J0KiMFJ58uG4"
      },
      "source": [
        "* hidden_state_shape (1,6) = (batch_size, hidden_size * 2)\n",
        " * return_state가 True인 경우, 정방향 LSTM의 은닉 상태와 셀 상태, 역방향 LSTM의 은닉 상태와 셀 상태, 총 4가지를 반환\n",
        " * __정방향 LSTM의 마지막 시점의 은닉 상태__와 __역방향 LSTM의 첫번째 시점의 은닉 상태__가 연결된 채 반환\n",
        "   * ```return_sequences = False```\n",
        "* forward_state_shape (1,3) = (batch_size, hidden_size)\n",
        " * 정방향 LSTM의 마지막 시점의 은닉 상태\n",
        "* backward_state_shape (1,3) = (batch_size, hidden_size)\n",
        " * 역방향 LSTM의 첫번째 시점의 은닉 상태"
      ]
    },
    {
      "cell_type": "markdown",
      "metadata": {
        "id": "cx6oJocb8ucF"
      },
      "source": [
        "![image.png](data:image/png;base64,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)"
      ]
    },
    {
      "cell_type": "code",
      "metadata": {
        "colab": {
          "base_uri": "https://localhost:8080/"
        },
        "id": "PzPepfP48SpT",
        "outputId": "e1cdcd15-5841-40bc-bfe7-ddb426529959"
      },
      "source": [
        "# return_sequences = True\n",
        "# return_state = True\n",
        "\n",
        "bilstm = Bidirectional(LSTM(3, return_sequences=True, return_state=True, \\\n",
        "                            kernel_initializer=k_init, bias_initializer=b_init, recurrent_initializer=r_init))\n",
        "hidden_states, forward_h, forward_c, backward_h, backward_c = bilstm(train_X)\n",
        "\n",
        "print('hidden states : {}, shape: {}'.format(hidden_states, hidden_states.shape))\n",
        "print('forward state : {}, shape: {}'.format(forward_h, forward_h.shape))\n",
        "print('backward state : {}, shape: {}'.format(backward_h, backward_h.shape))"
      ],
      "execution_count": 14,
      "outputs": [
        {
          "output_type": "stream",
          "name": "stdout",
          "text": [
            "hidden states : [[[0.35906473 0.35906473 0.35906473 0.7038734  0.7038734  0.7038734 ]\n",
            "  [0.5511133  0.5511133  0.5511133  0.58863586 0.58863586 0.58863586]\n",
            "  [0.59115744 0.59115744 0.59115744 0.3951699  0.3951699  0.3951699 ]\n",
            "  [0.63031393 0.63031393 0.63031393 0.21942244 0.21942244 0.21942244]]], shape: (1, 4, 6)\n",
            "forward state : [[0.63031393 0.63031393 0.63031393]], shape: (1, 3)\n",
            "backward state : [[0.7038734 0.7038734 0.7038734]], shape: (1, 3)\n"
          ]
        }
      ]
    },
    {
      "cell_type": "markdown",
      "metadata": {
        "id": "Ltw1lCEN9XMa"
      },
      "source": [
        "* hidden_states_shape (1,4,6) = (batch_size, timesteps, hidden_size * 2)\n",
        " * 모든 시점의 은닉 상태 반환\n",
        " * 각 시점의 은닉상태는 __해당 시점에서의 정방향 LSTM의 은닉상태와 역방향 LSTM의 은닉상태가 연결된 값__\n",
        "   * ```return_sequences = True```\n",
        "* forward_state_shape (1,3) = (batch_size, hidden_size)\n",
        " * 정방향 LSTM의 마지막 시점의 은닉 상태\n",
        "* backward_state_shape (1,3) = (batch_size, hidden_size)\n",
        " * 역방향 LSTM의 첫번째 시점의 은닉 상태"
      ]
    },
    {
      "cell_type": "markdown",
      "metadata": {
        "id": "4LQlKIoY9Wtb"
      },
      "source": [
        "![image.png](data:image/png;base64,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)"
      ]
    }
  ]
}