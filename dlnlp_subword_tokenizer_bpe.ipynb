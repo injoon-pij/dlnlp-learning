{
  "nbformat": 4,
  "nbformat_minor": 0,
  "metadata": {
    "colab": {
      "name": "dlnlp_subword_tokenizer_bpe.ipynb",
      "provenance": [],
      "collapsed_sections": [],
      "authorship_tag": "ABX9TyM7saYLKA8Wtik+s3+CEtN5",
      "include_colab_link": true
    },
    "kernelspec": {
      "name": "python3",
      "display_name": "Python 3"
    },
    "language_info": {
      "name": "python"
    }
  },
  "cells": [
    {
      "cell_type": "markdown",
      "metadata": {
        "id": "view-in-github",
        "colab_type": "text"
      },
      "source": [
        "<a href=\"https://colab.research.google.com/github/injoon-pij/dlnlp-learning/blob/main/dlnlp_subword_tokenizer_bpe.ipynb\" target=\"_parent\"><img src=\"https://colab.research.google.com/assets/colab-badge.svg\" alt=\"Open In Colab\"/></a>"
      ]
    },
    {
      "cell_type": "markdown",
      "metadata": {
        "id": "BZaiqxrNrXbU"
      },
      "source": [
        "* Subword segmenation\n",
        " * 하나의 단어는 더 작은 단위의 의미있는 여러 서브워드들(Ex) birthplace = birth + place)의 조합으로 구성된 경우가 많기 때문에, 하나의 단어를 여러 서브워드로 분리해서 단어를 인코딩 및 임베딩하겠다는 의도를 가진 전처리 작업\n",
        " * 이를 통해 OOV나 희귀 단어, 신조어와 같은 문제를 완화시킬 수 있음."
      ]
    },
    {
      "cell_type": "markdown",
      "metadata": {
        "id": "TCTxGdGkqY4k"
      },
      "source": [
        "# 1) Byte Pair Encoding"
      ]
    },
    {
      "cell_type": "markdown",
      "metadata": {
        "id": "22F7thaSsdvr"
      },
      "source": [
        "* 1994년에 제안된 데이터 압축 알고리즘임\n",
        "* 후에 자연어 처리의 서브워드 분리 알고리즘으로 응용됨"
      ]
    },
    {
      "cell_type": "markdown",
      "metadata": {
        "id": "hHBWGxpssBvC"
      },
      "source": [
        "__[알고리즘 작동방법 예시]__\n",
        "\n",
        "아래와 같은 문자열이 주어졌을 때, BPE를 수행하고자 할때, \n",
        "\n",
        "```\n",
        "aaabdaaabac\n",
        "```\n",
        "\n",
        "BPE는 기본적으로 연속적으로 가장 많이 등장한 글자쌍(subwords)을 찾아서 하나의 글자로 병합하는 방식을 수행함"
      ]
    },
    {
      "cell_type": "markdown",
      "metadata": {
        "id": "tIEx_7HLsPaj"
      },
      "source": [
        "위의 문자열에서 가장 자주 등장하고 있는 글자(바이트) 쌍은 'aa'이므로 이 바이트 쌍을 하나의 바이트 'Z'로 치환하면 아래와 같아짐\n",
        "\n",
        "```\n",
        "ZabdZabac\n",
        "Z=aa\n",
        "```"
      ]
    },
    {
      "cell_type": "markdown",
      "metadata": {
        "id": "b6XKRztzsE-q"
      },
      "source": [
        "같은 방식으로 치환된 문자열에서 가장 많이 등장하고 있는 바이트 쌍 'ab'를 'Y'로 치환하면 아래와 같음\n",
        "\n",
        "```\n",
        "ZYdZYac\n",
        "Y=ab\n",
        "Z=aa\n",
        "```"
      ]
    },
    {
      "cell_type": "markdown",
      "metadata": {
        "id": "5thyQ99Atu9j"
      },
      "source": [
        "위 과정을 한번 더 반복하면 아래와 같아지고 더이상 병합할 바이트 쌍이 존재하지 않아 아래의 결과를 최종 결과로 하여 BPE가 종료됨\n",
        "\n",
        "```\n",
        "XdXac\n",
        "X=ZY\n",
        "Y=ab\n",
        "Z=aa\n",
        "```"
      ]
    },
    {
      "cell_type": "markdown",
      "metadata": {
        "id": "xC7D-G5puuy7"
      },
      "source": [
        "## 1.1 BPE in NLP"
      ]
    },
    {
      "cell_type": "markdown",
      "metadata": {
        "id": "qAZnHA6Auzhc"
      },
      "source": [
        "[논문 다운로드](https://arxiv.org/pdf/1508.07909.pdf)"
      ]
    },
    {
      "cell_type": "markdown",
      "metadata": {
        "id": "YZBgvZxVu2zS"
      },
      "source": [
        "* 글자(charcter) 단위에서 점차적으로 단어 집합을 만들어 내는 Bottom up 방식의 접근을 사용\n",
        "* 훈련 데이터에 있는 단어들을 모든 글자(chracters) 또는 유니코드(unicode) 단위로 단어 집합을 만들고, 가장 많이 등장하는 유니그램을 하나의 유니그램으로 통합"
      ]
    },
    {
      "cell_type": "markdown",
      "metadata": {
        "id": "yCb0t71PvWor"
      },
      "source": [
        "__[자연어 처리에서의 BPE 알고리즘 적용 예시]__"
      ]
    },
    {
      "cell_type": "markdown",
      "metadata": {
        "id": "_QiiczoSxJnC"
      },
      "source": [
        "* BPE는 알고리즘의 동작을 몇 회 반복(iteration)할 것인지를 사용자가 정함\n",
        "* 여기서는 총 10회를 수행한다고 가정"
      ]
    },
    {
      "cell_type": "markdown",
      "metadata": {
        "id": "9uM-4PvAwza8"
      },
      "source": [
        "```\n",
        "# dictionary\n",
        "l o w : 5,  l o w e r : 2,  n e w e s t : 6,  w i d e s t : 3\n",
        "```\n",
        "\n",
        "```\n",
        "# vocabulary\n",
        "l, o, w, e, r, n, w, s, t, i, d\n",
        "```"
      ]
    },
    {
      "cell_type": "markdown",
      "metadata": {
        "id": "Ng0vRyfYvi36"
      },
      "source": [
        "__[iter = 1 : 빈도수가 9로 가장 높은 (e, s)의 쌍을 es로 통합]__\n",
        "\n",
        "```\n",
        "# dictionary update!\n",
        "l o w : 5,\n",
        "l o w e r : 2,\n",
        "n e w es t : 6,\n",
        "w i d es t : 3\n",
        "```\n",
        "\n",
        "```\n",
        "# vocabulary update!\n",
        "l, o, w, e, r, n, w, s, t, i, d, es\n",
        "```"
      ]
    },
    {
      "cell_type": "markdown",
      "metadata": {
        "id": "DEhkokrvx5Ti"
      },
      "source": [
        "__[iter = 2 : 빈도수가 9로 가장 높은 (es, t)의 쌍을 est로 통합]__\n",
        "\n",
        "```\n",
        "# dictionary update!\n",
        "l o w : 5,\n",
        "l o w e r : 2,\n",
        "n e w est : 6,\n",
        "w i d est : 3\n",
        "```\n",
        "\n",
        "```\n",
        "# vocabulary update!\n",
        "l, o, w, e, r, n, w, s, t, i, d, es, est\n",
        "```"
      ]
    },
    {
      "cell_type": "markdown",
      "metadata": {
        "id": "bSkSMufeyAJ0"
      },
      "source": [
        "__[iter = 3 : 빈도수가 7로 가장 높은 (l, o)의 쌍을 lo로 통합]__\n",
        "\n",
        "```\n",
        "# dictionary update!\n",
        "lo w : 5,\n",
        "lo w e r : 2,\n",
        "n e w est : 6,\n",
        "w i d est : 3\n",
        "```\n",
        "\n",
        "```\n",
        "# vocabulary update!\n",
        "l, o, w, e, r, n, w, s, t, i, d, es, est, lo\n",
        "```"
      ]
    },
    {
      "cell_type": "markdown",
      "metadata": {
        "id": "Givccm8VyKYC"
      },
      "source": [
        "위와 같은 과정을 반복하여 10회 반복까지 완료하면 dictionary와 vocabulary 결과는 아래와 같음\n",
        "\n",
        "```\n",
        "# dictionary update!\n",
        "low : 5,\n",
        "low e r : 2,\n",
        "newest : 6,\n",
        "widest : 3\n",
        "```\n",
        "\n",
        "```\n",
        "# vocabulary update!\n",
        "l, o, w, e, r, n, w, s, t, i, d, es, est, lo, low, ne, new, newest, wi, wid, widest\n",
        "```"
      ]
    },
    {
      "cell_type": "markdown",
      "metadata": {
        "id": "H_rczmtnzNqS"
      },
      "source": [
        "* 'lowest'라는 새로운 단어가 등장한다면, 기존 자연어처리에서는 OOV에 해당되는 단어가 되었겠지만 BPE 알고리즘을 사용한 위의 단어 집합에서는 더이상 'lowest'는 OOV가 아니게 됨\n",
        "* 기계는 우선 'lowest'를 전부 글자 단위('l, o, w, e, s, t')로 분할하고, 위의 단어 집합을 참고로 하여 'low'와 'est'를 찾아냄\n",
        " * 즉, 'lowest'를 'low'와 'est' 두 단어로 인코딩함\n",
        " * 이 두 단어는 둘 다 단어 집합에 있는 단어이므로 OOV가 아니게 되는 것임"
      ]
    },
    {
      "cell_type": "markdown",
      "metadata": {
        "id": "cG01Jpyjyjmq"
      },
      "source": [
        "__[BPE 알고리즘 동작 과정 시각화]__"
      ]
    },
    {
      "cell_type": "markdown",
      "metadata": {
        "id": "KleL6-neynSS"
      },
      "source": [
        "![image.png](data:image/png;base64,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)"
      ]
    },
    {
      "cell_type": "markdown",
      "metadata": {
        "id": "sLQyi_l1vd0K"
      },
      "source": [
        "## 1.2 Coding 1.1's BPE Algorithm"
      ]
    },
    {
      "cell_type": "code",
      "metadata": {
        "id": "2ow1-dUYxkeU"
      },
      "source": [
        "import re, collections\n",
        "from IPython.display import display, Markdown, Latex"
      ],
      "execution_count": 1,
      "outputs": []
    },
    {
      "cell_type": "code",
      "metadata": {
        "id": "aq8OQ6xY0L7r"
      },
      "source": [
        "# BPE 수행 횟수\n",
        "num_merges = 10"
      ],
      "execution_count": 2,
      "outputs": []
    },
    {
      "cell_type": "code",
      "metadata": {
        "id": "IvZ4rtBa0QAM"
      },
      "source": [
        "dictionary = {'l o w </w>' : 5,\n",
        "              'l o w e r </w>' : 2,\n",
        "              'n e w e s t </w>':6,\n",
        "              'w i d e s t </w>':3\n",
        "              }"
      ],
      "execution_count": 3,
      "outputs": []
    },
    {
      "cell_type": "code",
      "metadata": {
        "id": "7z0EuLtm07qK"
      },
      "source": [
        "# 유니그램의 pair들의 빈도수를 카운트\n",
        "def get_stats(dictionary):\n",
        "    pairs = collections.defaultdict(int)\n",
        "    for word, freq in dictionary.items():\n",
        "        symbols = word.split()\n",
        "        for i in range(len(symbols)-1):\n",
        "            pairs[symbols[i],symbols[i+1]] += freq\n",
        "    print('현재 pair들의 빈도수 :', dict(pairs))\n",
        "    return pairs\n",
        "\n",
        "# 빈도수가 가장 높은 pair를 통합한 형태를 딕셔너리에 업데이트\n",
        "def merge_dictionary(pair, v_in):\n",
        "    v_out = {}\n",
        "    bigram = re.escape(' '.join(pair))\n",
        "    p = re.compile(bigram)\n",
        "    # p = re.compile(r'(?<!\\S)' + bigram + r'(?!\\S)')\n",
        "    for word in v_in:\n",
        "        w_out = p.sub(''.join(pair), word)\n",
        "        v_out[w_out] = v_in[word]\n",
        "    return v_out"
      ],
      "execution_count": 4,
      "outputs": []
    },
    {
      "cell_type": "markdown",
      "metadata": {
        "id": "W55uu9ro2wZy"
      },
      "source": [
        "* ```pairs = collections.defaultdict(int)```\n",
        " * ```collections.defaultdict(default_factory = None ...)```\n",
        "   * defaultdict은 key값이 없을 경우 미리 지정해 놓은 초기(default)값을 반환하는 dictionary임\n",
        "   * default_factory 는 defaultdict의 초기값을 지정하는 인자임\n",
        "   * int로 초기값을 지정한 경우, key값이 없는 경우 모두 0으로 초기값이 설정됨"
      ]
    },
    {
      "cell_type": "markdown",
      "metadata": {
        "id": "RQ0ZfC5PGlFB"
      },
      "source": [
        "* ```bigram = re.escape(' '.join(pair))```\n",
        " * ```re.escape(pattern)```\n",
        "   * Return string with all non-alphanumerics backslashed\n",
        "   * ```re.escape('e s')``` => ```'e\\ s'```"
      ]
    },
    {
      "cell_type": "markdown",
      "metadata": {
        "id": "OSh8eC4daZ1g"
      },
      "source": [
        "* ```p = re.compile(r'(?<!\\S)' + bigram + r'(?!\\S)')```\n",
        " * ```r'(?<!\\S)' + bigram + r'(?!\\S)'```\n",
        "   * ```bigram``` 앞뒤로 ```\\S```(공백문자가 아닌 문자)가 오면 안되는 환경 조건이 추가된 pattern\n",
        "   * 'Negative lookbehind': ```(?<!    )``` which is saying __\"What's before this is not...\"__\n",
        "   * ```r'(?<!\\S)' + bigram``` : What's before ```bigram``` is not ```\\S``` "
      ]
    },
    {
      "cell_type": "markdown",
      "metadata": {
        "id": "L1rC12VLZO0o"
      },
      "source": [
        "* ```p.sub(''.join(pair), word)```\n",
        " * ```re.sub(pattern, replace, string)```\n",
        "   * 주어진 string 전체에서 pattern과 일치하는 모든 것을 replace로 교체하고, 결과를 str 타입으로 반환\n",
        "   * 주어진 string인 ```word```에서 pattern ```p```와 일치하는 부분을 ```''.join(pair)```로 변경함 "
      ]
    },
    {
      "cell_type": "code",
      "metadata": {
        "colab": {
          "base_uri": "https://localhost:8080/",
          "height": 981
        },
        "id": "0d7nm1FB0WRq",
        "outputId": "a36a0eb8-bdaf-4da3-f35d-45da90fed845"
      },
      "source": [
        "bpe_codes = {}\n",
        "bpe_codes_reverse = {}\n",
        "\n",
        "for i in range(num_merges):\n",
        "    display(Markdown(\"### Iteration {}\".format(i + 1)))\n",
        "    pairs = get_stats(dictionary)\n",
        "    best = max(pairs, key=pairs.get)\n",
        "    dictionary = merge_dictionary(best, dictionary)\n",
        "\n",
        "    bpe_codes[best] = i\n",
        "    bpe_codes_reverse[best[0] + best[1]] = best\n",
        "\n",
        "    print(\"new merge: {}\".format(best))\n",
        "    print(\"dictionary: {}\".format(dictionary))"
      ],
      "execution_count": 5,
      "outputs": [
        {
          "output_type": "display_data",
          "data": {
            "text/markdown": "### Iteration 1",
            "text/plain": [
              "<IPython.core.display.Markdown object>"
            ]
          },
          "metadata": {}
        },
        {
          "output_type": "stream",
          "name": "stdout",
          "text": [
            "현재 pair들의 빈도수 : {('l', 'o'): 7, ('o', 'w'): 7, ('w', '</w>'): 5, ('w', 'e'): 8, ('e', 'r'): 2, ('r', '</w>'): 2, ('n', 'e'): 6, ('e', 'w'): 6, ('e', 's'): 9, ('s', 't'): 9, ('t', '</w>'): 9, ('w', 'i'): 3, ('i', 'd'): 3, ('d', 'e'): 3}\n",
            "new merge: ('e', 's')\n",
            "dictionary: {'l o w </w>': 5, 'l o w e r </w>': 2, 'n e w es t </w>': 6, 'w i d es t </w>': 3}\n"
          ]
        },
        {
          "output_type": "display_data",
          "data": {
            "text/markdown": "### Iteration 2",
            "text/plain": [
              "<IPython.core.display.Markdown object>"
            ]
          },
          "metadata": {}
        },
        {
          "output_type": "stream",
          "name": "stdout",
          "text": [
            "현재 pair들의 빈도수 : {('l', 'o'): 7, ('o', 'w'): 7, ('w', '</w>'): 5, ('w', 'e'): 2, ('e', 'r'): 2, ('r', '</w>'): 2, ('n', 'e'): 6, ('e', 'w'): 6, ('w', 'es'): 6, ('es', 't'): 9, ('t', '</w>'): 9, ('w', 'i'): 3, ('i', 'd'): 3, ('d', 'es'): 3}\n",
            "new merge: ('es', 't')\n",
            "dictionary: {'l o w </w>': 5, 'l o w e r </w>': 2, 'n e w est </w>': 6, 'w i d est </w>': 3}\n"
          ]
        },
        {
          "output_type": "display_data",
          "data": {
            "text/markdown": "### Iteration 3",
            "text/plain": [
              "<IPython.core.display.Markdown object>"
            ]
          },
          "metadata": {}
        },
        {
          "output_type": "stream",
          "name": "stdout",
          "text": [
            "현재 pair들의 빈도수 : {('l', 'o'): 7, ('o', 'w'): 7, ('w', '</w>'): 5, ('w', 'e'): 2, ('e', 'r'): 2, ('r', '</w>'): 2, ('n', 'e'): 6, ('e', 'w'): 6, ('w', 'est'): 6, ('est', '</w>'): 9, ('w', 'i'): 3, ('i', 'd'): 3, ('d', 'est'): 3}\n",
            "new merge: ('est', '</w>')\n",
            "dictionary: {'l o w </w>': 5, 'l o w e r </w>': 2, 'n e w est</w>': 6, 'w i d est</w>': 3}\n"
          ]
        },
        {
          "output_type": "display_data",
          "data": {
            "text/markdown": "### Iteration 4",
            "text/plain": [
              "<IPython.core.display.Markdown object>"
            ]
          },
          "metadata": {}
        },
        {
          "output_type": "stream",
          "name": "stdout",
          "text": [
            "현재 pair들의 빈도수 : {('l', 'o'): 7, ('o', 'w'): 7, ('w', '</w>'): 5, ('w', 'e'): 2, ('e', 'r'): 2, ('r', '</w>'): 2, ('n', 'e'): 6, ('e', 'w'): 6, ('w', 'est</w>'): 6, ('w', 'i'): 3, ('i', 'd'): 3, ('d', 'est</w>'): 3}\n",
            "new merge: ('l', 'o')\n",
            "dictionary: {'lo w </w>': 5, 'lo w e r </w>': 2, 'n e w est</w>': 6, 'w i d est</w>': 3}\n"
          ]
        },
        {
          "output_type": "display_data",
          "data": {
            "text/markdown": "### Iteration 5",
            "text/plain": [
              "<IPython.core.display.Markdown object>"
            ]
          },
          "metadata": {}
        },
        {
          "output_type": "stream",
          "name": "stdout",
          "text": [
            "현재 pair들의 빈도수 : {('lo', 'w'): 7, ('w', '</w>'): 5, ('w', 'e'): 2, ('e', 'r'): 2, ('r', '</w>'): 2, ('n', 'e'): 6, ('e', 'w'): 6, ('w', 'est</w>'): 6, ('w', 'i'): 3, ('i', 'd'): 3, ('d', 'est</w>'): 3}\n",
            "new merge: ('lo', 'w')\n",
            "dictionary: {'low </w>': 5, 'low e r </w>': 2, 'n e w est</w>': 6, 'w i d est</w>': 3}\n"
          ]
        },
        {
          "output_type": "display_data",
          "data": {
            "text/markdown": "### Iteration 6",
            "text/plain": [
              "<IPython.core.display.Markdown object>"
            ]
          },
          "metadata": {}
        },
        {
          "output_type": "stream",
          "name": "stdout",
          "text": [
            "현재 pair들의 빈도수 : {('low', '</w>'): 5, ('low', 'e'): 2, ('e', 'r'): 2, ('r', '</w>'): 2, ('n', 'e'): 6, ('e', 'w'): 6, ('w', 'est</w>'): 6, ('w', 'i'): 3, ('i', 'd'): 3, ('d', 'est</w>'): 3}\n",
            "new merge: ('n', 'e')\n",
            "dictionary: {'low </w>': 5, 'low e r </w>': 2, 'ne w est</w>': 6, 'w i d est</w>': 3}\n"
          ]
        },
        {
          "output_type": "display_data",
          "data": {
            "text/markdown": "### Iteration 7",
            "text/plain": [
              "<IPython.core.display.Markdown object>"
            ]
          },
          "metadata": {}
        },
        {
          "output_type": "stream",
          "name": "stdout",
          "text": [
            "현재 pair들의 빈도수 : {('low', '</w>'): 5, ('low', 'e'): 2, ('e', 'r'): 2, ('r', '</w>'): 2, ('ne', 'w'): 6, ('w', 'est</w>'): 6, ('w', 'i'): 3, ('i', 'd'): 3, ('d', 'est</w>'): 3}\n",
            "new merge: ('ne', 'w')\n",
            "dictionary: {'low </w>': 5, 'low e r </w>': 2, 'new est</w>': 6, 'w i d est</w>': 3}\n"
          ]
        },
        {
          "output_type": "display_data",
          "data": {
            "text/markdown": "### Iteration 8",
            "text/plain": [
              "<IPython.core.display.Markdown object>"
            ]
          },
          "metadata": {}
        },
        {
          "output_type": "stream",
          "name": "stdout",
          "text": [
            "현재 pair들의 빈도수 : {('low', '</w>'): 5, ('low', 'e'): 2, ('e', 'r'): 2, ('r', '</w>'): 2, ('new', 'est</w>'): 6, ('w', 'i'): 3, ('i', 'd'): 3, ('d', 'est</w>'): 3}\n",
            "new merge: ('new', 'est</w>')\n",
            "dictionary: {'low </w>': 5, 'low e r </w>': 2, 'newest</w>': 6, 'w i d est</w>': 3}\n"
          ]
        },
        {
          "output_type": "display_data",
          "data": {
            "text/markdown": "### Iteration 9",
            "text/plain": [
              "<IPython.core.display.Markdown object>"
            ]
          },
          "metadata": {}
        },
        {
          "output_type": "stream",
          "name": "stdout",
          "text": [
            "현재 pair들의 빈도수 : {('low', '</w>'): 5, ('low', 'e'): 2, ('e', 'r'): 2, ('r', '</w>'): 2, ('w', 'i'): 3, ('i', 'd'): 3, ('d', 'est</w>'): 3}\n",
            "new merge: ('low', '</w>')\n",
            "dictionary: {'low</w>': 5, 'low e r </w>': 2, 'newest</w>': 6, 'w i d est</w>': 3}\n"
          ]
        },
        {
          "output_type": "display_data",
          "data": {
            "text/markdown": "### Iteration 10",
            "text/plain": [
              "<IPython.core.display.Markdown object>"
            ]
          },
          "metadata": {}
        },
        {
          "output_type": "stream",
          "name": "stdout",
          "text": [
            "현재 pair들의 빈도수 : {('low', 'e'): 2, ('e', 'r'): 2, ('r', '</w>'): 2, ('w', 'i'): 3, ('i', 'd'): 3, ('d', 'est</w>'): 3}\n",
            "new merge: ('w', 'i')\n",
            "dictionary: {'low</w>': 5, 'low e r </w>': 2, 'newest</w>': 6, 'wi d est</w>': 3}\n"
          ]
        }
      ]
    },
    {
      "cell_type": "code",
      "metadata": {
        "colab": {
          "base_uri": "https://localhost:8080/"
        },
        "id": "GxQnZjd-cb5o",
        "outputId": "d1db1cc1-0fdc-4ae5-9cca-d10614c1038c"
      },
      "source": [
        "print(bpe_codes)"
      ],
      "execution_count": 6,
      "outputs": [
        {
          "output_type": "stream",
          "name": "stdout",
          "text": [
            "{('e', 's'): 0, ('es', 't'): 1, ('est', '</w>'): 2, ('l', 'o'): 3, ('lo', 'w'): 4, ('n', 'e'): 5, ('ne', 'w'): 6, ('new', 'est</w>'): 7, ('low', '</w>'): 8, ('w', 'i'): 9}\n"
          ]
        }
      ]
    },
    {
      "cell_type": "code",
      "metadata": {
        "colab": {
          "base_uri": "https://localhost:8080/"
        },
        "id": "pXd46j01c1eg",
        "outputId": "595fc182-77c3-406c-be5a-0851219a864d"
      },
      "source": [
        "print(bpe_codes_reverse)"
      ],
      "execution_count": 7,
      "outputs": [
        {
          "output_type": "stream",
          "name": "stdout",
          "text": [
            "{'es': ('e', 's'), 'est': ('es', 't'), 'est</w>': ('est', '</w>'), 'lo': ('l', 'o'), 'low': ('lo', 'w'), 'ne': ('n', 'e'), 'new': ('ne', 'w'), 'newest</w>': ('new', 'est</w>'), 'low</w>': ('low', '</w>'), 'wi': ('w', 'i')}\n"
          ]
        }
      ]
    },
    {
      "cell_type": "markdown",
      "metadata": {
        "id": "UXjdD69idfdJ"
      },
      "source": [
        "### 1.2.1 Dealing with OOV"
      ]
    },
    {
      "cell_type": "code",
      "metadata": {
        "id": "NrG_TW9HZ9ix"
      },
      "source": [
        "# subword pair (prev_char, char) set 생성\n",
        "def get_pairs(word):\n",
        "    pairs = set()\n",
        "    prev_char = word[0]\n",
        "    for char in word[1:]:\n",
        "        pairs.add((prev_char, char))\n",
        "        prev_char = char\n",
        "    return pairs"
      ],
      "execution_count": 34,
      "outputs": []
    },
    {
      "cell_type": "code",
      "metadata": {
        "id": "Th9larFdd27I"
      },
      "source": [
        "# BPE Algorithm\n",
        "def encode(orig):\n",
        "    word = tuple(orig) + ('</w>',)\n",
        "    # 마크다운 문법에서 <> 안의 내용은 표시되지 않으므로 display 결과에 </w>는 표시되지 않음\n",
        "    # <tt>는 글꼴, __는 bold체\n",
        "    display(Markdown(\"__word split into characters:__ <tt>{}</tt>\".format(word)))\n",
        "\n",
        "    # subword pair set 생성\n",
        "    pairs = get_pairs(word)    \n",
        "\n",
        "    # pair가 빈 set일 경우 입력값 반환\n",
        "    if not pairs:\n",
        "        return orig\n",
        "\n",
        "    # BPE 알고리즘 반복 적용\n",
        "    iteration = 0\n",
        "    while True:\n",
        "        iteration += 1\n",
        "        display(Markdown(\"__Iteration {}:__\".format(iteration)))\n",
        "\n",
        "        print(\"bigrams in the word: {}\".format(pairs))\n",
        "\n",
        "        # 훈련 과정에서 얻은 bpe_code에서 결합 우선순위가 가장 먼저 였던 bigram 선택  \n",
        "        bigram = min(pairs, key = lambda pair: bpe_codes.get(pair, float('inf')))\n",
        "        print(\"candidate for merging: {}\".format(bigram))\n",
        "\n",
        "        # 더이상 bpe_code에 해당되는 bigram이 없을 시 알고리즘 종료\n",
        "        if bigram not in bpe_codes:\n",
        "            display(Markdown(\"__Candidate not in BPE merges, algorithm stops.__\"))\n",
        "            break\n",
        "\n",
        "        first, second = bigram\n",
        "        new_word = []\n",
        "\n",
        "        # 목표 subword pair을 결합한 형태로 새롭게 저장하기 위한 과정\n",
        "        # i는 검색 시작 인덱스 위치\n",
        "        i = 0\n",
        "        while i < len(word): # 검색 시작 인덱스가 단어 범위를 벗어나기 전까지 반복\n",
        "            try:\n",
        "                j = word.index(first, i) # ValueError 발생 가능 부분\n",
        "                new_word.extend(word[i:j]) # i부터 검색한 first subword의 인덱스 전까지의 subword들 저장 \n",
        "                i = j\n",
        "            \n",
        "            # ValueError 발생, 즉 i번째 인덱스부터 검색했는데 더이상 first에 해당되는 subword가 없을 때\n",
        "            # 찾고자 하는 bigram이 더이상 남아있지 않으므로 남은 부분은 결합없이 저장 후 검색 종료 \n",
        "            except:\n",
        "                new_word.extend(word[i:])\n",
        "                break\n",
        "\n",
        "            # 목표 bigram을 찾은 경우\n",
        "            # i번째 인덱스 subword와 i+1번째 인덱스 subword를 결합하여 저장\n",
        "            # 검색 시작 위치 두칸 뒤로 이동\n",
        "            if word[i] == first and i < len(word)-1 and word[i+1] == second:\n",
        "                new_word.append(first+second)\n",
        "                i += 2\n",
        "            \n",
        "            # 검색된 인덱스의 subword가 뒤에 이어지는 subword와 함께 목표하는 bigram을 형성하지 않는 경우\n",
        "            # 단어의 마지막 인덱스라 뒤에 subword가 존재하지 않거나, word[i+1] != second인 경우가 포함됨\n",
        "            # 별도의 결합없이 i번째 인덱스 subword만 저장\n",
        "            # 검색 시작 위치 한칸 뒤로 이동\n",
        "            else:\n",
        "                new_word.append(word[i])\n",
        "                i += 1\n",
        "\n",
        "        new_word = tuple(new_word)\n",
        "        word = new_word # subword 결합 완료된 형태로 word 업데이트\n",
        "        print(\"word after merging: {}\".format(word))\n",
        "        \n",
        "        # word가 입력 단어와 같아졌을 시에 bpe 알고리즘 종료\n",
        "        if len(word) == 1:\n",
        "            break\n",
        "\n",
        "        # 새롭게 만들어진 word(tuple)로 subword pair set 업데이트 후 알고리즘 재실행\n",
        "        else:\n",
        "            pairs = get_pairs(word)\n",
        "\n",
        "    # 특별 토큰인 </w>는 출력 X\n",
        "    if word[-1] == '</w>':\n",
        "        word = word[:-1]\n",
        "    elif word[-1].endswith('</w>'):\n",
        "        word = word[:-1] + (word[-1].replace('</w>',''),)\n",
        "\n",
        "    return word"
      ],
      "execution_count": 35,
      "outputs": []
    },
    {
      "cell_type": "markdown",
      "metadata": {
        "id": "kjJNoj1nUKfb"
      },
      "source": [
        "* ```bigram = min(pairs, key = lambda pair: bpe_codes.get(pair, float('inf')))```\n",
        " * bpe_code 딕셔너리에서 subword pair를 검색하여, value값이 가장 낮은, 즉 훈련과정에서 결합 우선 순위가 가장 먼저였던 bigram을 선택\n",
        " * ```bpe_codes.get(pair, float('inf'))```\n",
        "   * 만약 subword pair가 딕셔너리에 존재하지 않는 경우, value 값은 float('inf'), 무한대로 지정\n",
        "   * ```dictionary.get(keyname, value)```\n",
        "   * ```value``` : Optional. A value to return if the specified key does not exist. (Default value : ```None```)"
      ]
    },
    {
      "cell_type": "markdown",
      "metadata": {
        "id": "H9mht3QRmAx9"
      },
      "source": [
        "* ```j = word.index(first, i)```\n",
        " * word에서 first를 i번째 인덱스부터 검색\n",
        " * ```\n",
        " ('a','b','c','a','b','c').index('b', 0)\n",
        " >>> 1\n",
        "```\n",
        " * ```\n",
        " ('a','b','c','a','b','c').index('b', 1)\n",
        " >>> 1\n",
        "```\n",
        " * ```\n",
        " ('a','b','c','a','b','c').index('b', 2)\n",
        " >>> 4\n",
        "```\n",
        " * ```\n",
        " ('a','b','c','a','b','c').index('b', 5)\n",
        " >>> ValueError: tuple.index(x): x not in tuple\n",
        "```"
      ]
    },
    {
      "cell_type": "code",
      "metadata": {
        "colab": {
          "base_uri": "https://localhost:8080/",
          "height": 557
        },
        "id": "HTnJXBfLds9d",
        "outputId": "334d0b59-2dc0-429a-8400-b52966131306"
      },
      "source": [
        "encode('newest')"
      ],
      "execution_count": 56,
      "outputs": [
        {
          "output_type": "display_data",
          "data": {
            "text/markdown": "__word split into characters:__ <tt>('n', 'e', 'w', 'e', 's', 't', '</w>')</tt>",
            "text/plain": [
              "<IPython.core.display.Markdown object>"
            ]
          },
          "metadata": {}
        },
        {
          "output_type": "display_data",
          "data": {
            "text/markdown": "__Iteration 1:__",
            "text/plain": [
              "<IPython.core.display.Markdown object>"
            ]
          },
          "metadata": {}
        },
        {
          "output_type": "stream",
          "name": "stdout",
          "text": [
            "bigrams in the word: {('t', '</w>'), ('e', 'w'), ('n', 'e'), ('w', 'e'), ('s', 't'), ('e', 's')}\n",
            "candidate for merging: ('e', 's')\n",
            "word after merging: ('n', 'e', 'w', 'es', 't', '</w>')\n"
          ]
        },
        {
          "output_type": "display_data",
          "data": {
            "text/markdown": "__Iteration 2:__",
            "text/plain": [
              "<IPython.core.display.Markdown object>"
            ]
          },
          "metadata": {}
        },
        {
          "output_type": "stream",
          "name": "stdout",
          "text": [
            "bigrams in the word: {('t', '</w>'), ('e', 'w'), ('n', 'e'), ('es', 't'), ('w', 'es')}\n",
            "candidate for merging: ('es', 't')\n",
            "word after merging: ('n', 'e', 'w', 'est', '</w>')\n"
          ]
        },
        {
          "output_type": "display_data",
          "data": {
            "text/markdown": "__Iteration 3:__",
            "text/plain": [
              "<IPython.core.display.Markdown object>"
            ]
          },
          "metadata": {}
        },
        {
          "output_type": "stream",
          "name": "stdout",
          "text": [
            "bigrams in the word: {('w', 'est'), ('est', '</w>'), ('e', 'w'), ('n', 'e')}\n",
            "candidate for merging: ('est', '</w>')\n",
            "word after merging: ('n', 'e', 'w', 'est</w>')\n"
          ]
        },
        {
          "output_type": "display_data",
          "data": {
            "text/markdown": "__Iteration 4:__",
            "text/plain": [
              "<IPython.core.display.Markdown object>"
            ]
          },
          "metadata": {}
        },
        {
          "output_type": "stream",
          "name": "stdout",
          "text": [
            "bigrams in the word: {('e', 'w'), ('n', 'e'), ('w', 'est</w>')}\n",
            "candidate for merging: ('n', 'e')\n",
            "word after merging: ('ne', 'w', 'est</w>')\n"
          ]
        },
        {
          "output_type": "display_data",
          "data": {
            "text/markdown": "__Iteration 5:__",
            "text/plain": [
              "<IPython.core.display.Markdown object>"
            ]
          },
          "metadata": {}
        },
        {
          "output_type": "stream",
          "name": "stdout",
          "text": [
            "bigrams in the word: {('ne', 'w'), ('w', 'est</w>')}\n",
            "candidate for merging: ('ne', 'w')\n",
            "word after merging: ('new', 'est</w>')\n"
          ]
        },
        {
          "output_type": "display_data",
          "data": {
            "text/markdown": "__Iteration 6:__",
            "text/plain": [
              "<IPython.core.display.Markdown object>"
            ]
          },
          "metadata": {}
        },
        {
          "output_type": "stream",
          "name": "stdout",
          "text": [
            "bigrams in the word: {('new', 'est</w>')}\n",
            "candidate for merging: ('new', 'est</w>')\n",
            "word after merging: ('newest</w>',)\n"
          ]
        },
        {
          "output_type": "execute_result",
          "data": {
            "text/plain": [
              "('newest',)"
            ]
          },
          "metadata": {},
          "execution_count": 56
        }
      ]
    },
    {
      "cell_type": "code",
      "metadata": {
        "colab": {
          "base_uri": "https://localhost:8080/",
          "height": 236
        },
        "id": "2-VavLWxaFYw",
        "outputId": "787499e0-5ba3-479f-afa2-da6c5682a044"
      },
      "source": [
        "encode(\"loki\")"
      ],
      "execution_count": 36,
      "outputs": [
        {
          "output_type": "display_data",
          "data": {
            "text/markdown": "__word split into characters:__ <tt>('l', 'o', 'k', 'i', '</w>')</tt>",
            "text/plain": [
              "<IPython.core.display.Markdown object>"
            ]
          },
          "metadata": {}
        },
        {
          "output_type": "display_data",
          "data": {
            "text/markdown": "__Iteration 1:__",
            "text/plain": [
              "<IPython.core.display.Markdown object>"
            ]
          },
          "metadata": {}
        },
        {
          "output_type": "stream",
          "name": "stdout",
          "text": [
            "bigrams in the word: {('o', 'k'), ('i', '</w>'), ('k', 'i'), ('l', 'o')}\n",
            "candidate for merging: ('l', 'o')\n",
            "word after merging: ('lo', 'k', 'i', '</w>')\n"
          ]
        },
        {
          "output_type": "display_data",
          "data": {
            "text/markdown": "__Iteration 2:__",
            "text/plain": [
              "<IPython.core.display.Markdown object>"
            ]
          },
          "metadata": {}
        },
        {
          "output_type": "stream",
          "name": "stdout",
          "text": [
            "bigrams in the word: {('k', 'i'), ('i', '</w>'), ('lo', 'k')}\n",
            "candidate for merging: ('k', 'i')\n"
          ]
        },
        {
          "output_type": "display_data",
          "data": {
            "text/markdown": "__Candidate not in BPE merges, algorithm stops.__",
            "text/plain": [
              "<IPython.core.display.Markdown object>"
            ]
          },
          "metadata": {}
        },
        {
          "output_type": "execute_result",
          "data": {
            "text/plain": [
              "('lo', 'k', 'i')"
            ]
          },
          "metadata": {},
          "execution_count": 36
        }
      ]
    },
    {
      "cell_type": "code",
      "metadata": {
        "colab": {
          "base_uri": "https://localhost:8080/",
          "height": 319
        },
        "id": "KJe4jH_kw-zm",
        "outputId": "20eb3667-0800-4422-9a0b-04e7d46938c3"
      },
      "source": [
        "encode(\"lowing\")"
      ],
      "execution_count": 80,
      "outputs": [
        {
          "output_type": "display_data",
          "data": {
            "text/markdown": "__word split into characters:__ <tt>('l', 'o', 'w', 'i', 'n', 'g', '</w>')</tt>",
            "text/plain": [
              "<IPython.core.display.Markdown object>"
            ]
          },
          "metadata": {}
        },
        {
          "output_type": "display_data",
          "data": {
            "text/markdown": "__Iteration 1:__",
            "text/plain": [
              "<IPython.core.display.Markdown object>"
            ]
          },
          "metadata": {}
        },
        {
          "output_type": "stream",
          "name": "stdout",
          "text": [
            "bigrams in the word: {('n', 'g'), ('o', 'w'), ('i', 'n'), ('w', 'i'), ('l', 'o'), ('g', '</w>')}\n",
            "candidate for merging: ('l', 'o')\n",
            "word after merging: ('lo', 'w', 'i', 'n', 'g', '</w>')\n"
          ]
        },
        {
          "output_type": "display_data",
          "data": {
            "text/markdown": "__Iteration 2:__",
            "text/plain": [
              "<IPython.core.display.Markdown object>"
            ]
          },
          "metadata": {}
        },
        {
          "output_type": "stream",
          "name": "stdout",
          "text": [
            "bigrams in the word: {('n', 'g'), ('i', 'n'), ('w', 'i'), ('g', '</w>'), ('lo', 'w')}\n",
            "candidate for merging: ('lo', 'w')\n",
            "word after merging: ('low', 'i', 'n', 'g', '</w>')\n"
          ]
        },
        {
          "output_type": "display_data",
          "data": {
            "text/markdown": "__Iteration 3:__",
            "text/plain": [
              "<IPython.core.display.Markdown object>"
            ]
          },
          "metadata": {}
        },
        {
          "output_type": "stream",
          "name": "stdout",
          "text": [
            "bigrams in the word: {('n', 'g'), ('i', 'n'), ('g', '</w>'), ('low', 'i')}\n",
            "candidate for merging: ('n', 'g')\n"
          ]
        },
        {
          "output_type": "display_data",
          "data": {
            "text/markdown": "__Candidate not in BPE merges, algorithm stops.__",
            "text/plain": [
              "<IPython.core.display.Markdown object>"
            ]
          },
          "metadata": {}
        },
        {
          "output_type": "execute_result",
          "data": {
            "text/plain": [
              "('low', 'i', 'n', 'g')"
            ]
          },
          "metadata": {},
          "execution_count": 80
        }
      ]
    },
    {
      "cell_type": "code",
      "metadata": {
        "colab": {
          "base_uri": "https://localhost:8080/",
          "height": 153
        },
        "id": "jYW-ADxYw_Rm",
        "outputId": "91a2609c-b8af-486c-f751-893602085167"
      },
      "source": [
        "encode(\"highing\")"
      ],
      "execution_count": 81,
      "outputs": [
        {
          "output_type": "display_data",
          "data": {
            "text/markdown": "__word split into characters:__ <tt>('h', 'i', 'g', 'h', 'i', 'n', 'g', '</w>')</tt>",
            "text/plain": [
              "<IPython.core.display.Markdown object>"
            ]
          },
          "metadata": {}
        },
        {
          "output_type": "display_data",
          "data": {
            "text/markdown": "__Iteration 1:__",
            "text/plain": [
              "<IPython.core.display.Markdown object>"
            ]
          },
          "metadata": {}
        },
        {
          "output_type": "stream",
          "name": "stdout",
          "text": [
            "bigrams in the word: {('i', 'g'), ('n', 'g'), ('i', 'n'), ('g', '</w>'), ('g', 'h'), ('h', 'i')}\n",
            "candidate for merging: ('i', 'g')\n"
          ]
        },
        {
          "output_type": "display_data",
          "data": {
            "text/markdown": "__Candidate not in BPE merges, algorithm stops.__",
            "text/plain": [
              "<IPython.core.display.Markdown object>"
            ]
          },
          "metadata": {}
        },
        {
          "output_type": "execute_result",
          "data": {
            "text/plain": [
              "('h', 'i', 'g', 'h', 'i', 'n', 'g')"
            ]
          },
          "metadata": {},
          "execution_count": 81
        }
      ]
    },
    {
      "cell_type": "markdown",
      "metadata": {
        "id": "6RoKSdF7v4o6"
      },
      "source": [
        "## 1.3 Wordpiece Model (WPM)"
      ]
    },
    {
      "cell_type": "markdown",
      "metadata": {
        "id": "qduiDixtYFTI"
      },
      "source": [
        "[논문](https://static.googleusercontent.com/media/research.google.com/ko//pubs/archive/37842.pdf)\n",
        "\n",
        "[구글이 Wordpiece Model을 변형하여 번역기에 사용했다는 논문](https://arxiv.org/pdf/1609.08144.pdf)"
      ]
    },
    {
      "cell_type": "markdown",
      "metadata": {
        "id": "PKE7pAloYQwY"
      },
      "source": [
        "* BPE의 변형 알고리즘\n",
        " * BPE가 빈도수에 기반하여 가장 많이 등장한 쌍을 병합하는 것과는 달리, 병합되었을 때 코퍼스의 우도(Likelihood)를 가장 높이는 쌍을 병합하는 알고리즘\n",
        "\n",
        "* __WPM을 수행하기 이전의 문장__ : Jet makers feud over seat width with big orders at stake\n",
        "* __WPM을 수행한 결과(wordpieces)__ : _J et _makers _fe ud _over _seat _width _with _big _orders _at _stake\n",
        "\n",
        " * WPM은 모든 단어의 맨 앞에 _를 붙이고, 단어는 서브 워드(subword)로 통계에 기반하여 띄어쓰기로 분리함\n",
        " * 언더바 _는 기존에 있던 띄어쓰기와 구분자 역할의 띄어쓰기를 구분하게 해주는 문장 복원을 위한 장치\n",
        "   * WPM이 수행된 결과로부터 다시 수행 전의 결과로 돌리는 방법은 현재 있는 모든 띄어쓰기를 전부 제거하고, 언더바를 띄어쓰기로 바꾸면 됨\n",
        "\n",
        "* 딥러닝 모델 BERT를 훈련하기 위해서 사용되기도 하였음"
      ]
    },
    {
      "cell_type": "markdown",
      "metadata": {
        "id": "lpf6TYRHv-At"
      },
      "source": [
        "## 1.4 Unigram Language Model Tokenizer"
      ]
    },
    {
      "cell_type": "markdown",
      "metadata": {
        "id": "_YN0KylTYFk_"
      },
      "source": [
        "[논문](https://arxiv.org/pdf/1804.10959.pdf)"
      ]
    },
    {
      "cell_type": "markdown",
      "metadata": {
        "id": "BeVizRIzYTSH"
      },
      "source": [
        "* 각각의 서브워드들에 대해서 손실을 계산하고, 서브워드들을 측정된 손실의 정도로 정렬하여 최악의 영향을 주는 10~20%의 토큰을 제거함\n",
        " * 서브워드들의 손실이이란 해당 서브워드가 단어 집합에서 제거되었을 경우, 코퍼스의 우도(Likelihood)가 감소하는 정도를 말함\n",
        "* 이 과정을 원하는 단어 집합의 크기에 도달할 때까지 반복 "
      ]
    }
  ]
}