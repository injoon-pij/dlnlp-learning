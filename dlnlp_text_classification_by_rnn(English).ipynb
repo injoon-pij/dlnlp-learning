{
  "nbformat": 4,
  "nbformat_minor": 0,
  "metadata": {
    "colab": {
      "name": "dlnlp_text_classification_by_rnn(English).ipynb",
      "provenance": [],
      "collapsed_sections": [],
      "authorship_tag": "ABX9TyMKEWeu0m7U7mIiLCMc3P4X",
      "include_colab_link": true
    },
    "kernelspec": {
      "name": "python3",
      "display_name": "Python 3"
    },
    "language_info": {
      "name": "python"
    }
  },
  "cells": [
    {
      "cell_type": "markdown",
      "metadata": {
        "id": "view-in-github",
        "colab_type": "text"
      },
      "source": [
        "<a href=\"https://colab.research.google.com/github/injoon-pij/dlnlp-learning/blob/main/dlnlp_text_classification_by_rnn(English).ipynb\" target=\"_parent\"><img src=\"https://colab.research.google.com/assets/colab-badge.svg\" alt=\"Open In Colab\"/></a>"
      ]
    },
    {
      "cell_type": "markdown",
      "metadata": {
        "id": "P5YGVXWtBlLi"
      },
      "source": [
        "# 1) Spam Detection"
      ]
    },
    {
      "cell_type": "code",
      "metadata": {
        "id": "BCdLZ3uqDFcR"
      },
      "source": [
        "import numpy as np\n",
        "import pandas as pd\n",
        "%matplotlib inline\n",
        "import matplotlib.pyplot as plt\n",
        "import urllib.request\n",
        "from tensorflow.keras.preprocessing.text import Tokenizer\n",
        "from tensorflow.keras.preprocessing.sequence import pad_sequences"
      ],
      "execution_count": null,
      "outputs": []
    },
    {
      "cell_type": "markdown",
      "metadata": {
        "id": "WuhbyWd7Bnzx"
      },
      "source": [
        "## 1.1 Data Load & preprocessing"
      ]
    },
    {
      "cell_type": "markdown",
      "metadata": {
        "id": "_-pJT59_DJ7p"
      },
      "source": [
        "[다운로드 링크](https://www.kaggle.com/uciml/sms-spam-collection-dataset)"
      ]
    },
    {
      "cell_type": "code",
      "metadata": {
        "id": "vJm9i3rA-qcF"
      },
      "source": [
        "urllib.request.urlretrieve(\"https://raw.githubusercontent.com/mohitgupta-omg/Kaggle-SMS-Spam-Collection-Dataset-/master/spam.csv\", filename=\"spam.csv\")\n",
        "data = pd.read_csv('spam.csv',encoding='latin1')"
      ],
      "execution_count": null,
      "outputs": []
    },
    {
      "cell_type": "code",
      "metadata": {
        "colab": {
          "base_uri": "https://localhost:8080/"
        },
        "id": "cfyPp78HDHkq",
        "outputId": "8c409736-453a-442e-9693-ed190cf13791"
      },
      "source": [
        "print('총 샘플의 수 :',len(data))"
      ],
      "execution_count": null,
      "outputs": [
        {
          "output_type": "stream",
          "name": "stdout",
          "text": [
            "총 샘플의 수 : 5572\n"
          ]
        }
      ]
    },
    {
      "cell_type": "code",
      "metadata": {
        "colab": {
          "base_uri": "https://localhost:8080/",
          "height": 204
        },
        "id": "zEmsFJp8DOEQ",
        "outputId": "da9ff4f4-5eb8-4e8a-f75b-e79be2e67a9b"
      },
      "source": [
        "data[:5]"
      ],
      "execution_count": null,
      "outputs": [
        {
          "output_type": "execute_result",
          "data": {
            "text/html": [
              "<div>\n",
              "<style scoped>\n",
              "    .dataframe tbody tr th:only-of-type {\n",
              "        vertical-align: middle;\n",
              "    }\n",
              "\n",
              "    .dataframe tbody tr th {\n",
              "        vertical-align: top;\n",
              "    }\n",
              "\n",
              "    .dataframe thead th {\n",
              "        text-align: right;\n",
              "    }\n",
              "</style>\n",
              "<table border=\"1\" class=\"dataframe\">\n",
              "  <thead>\n",
              "    <tr style=\"text-align: right;\">\n",
              "      <th></th>\n",
              "      <th>v1</th>\n",
              "      <th>v2</th>\n",
              "      <th>Unnamed: 2</th>\n",
              "      <th>Unnamed: 3</th>\n",
              "      <th>Unnamed: 4</th>\n",
              "    </tr>\n",
              "  </thead>\n",
              "  <tbody>\n",
              "    <tr>\n",
              "      <th>0</th>\n",
              "      <td>ham</td>\n",
              "      <td>Go until jurong point, crazy.. Available only ...</td>\n",
              "      <td>NaN</td>\n",
              "      <td>NaN</td>\n",
              "      <td>NaN</td>\n",
              "    </tr>\n",
              "    <tr>\n",
              "      <th>1</th>\n",
              "      <td>ham</td>\n",
              "      <td>Ok lar... Joking wif u oni...</td>\n",
              "      <td>NaN</td>\n",
              "      <td>NaN</td>\n",
              "      <td>NaN</td>\n",
              "    </tr>\n",
              "    <tr>\n",
              "      <th>2</th>\n",
              "      <td>spam</td>\n",
              "      <td>Free entry in 2 a wkly comp to win FA Cup fina...</td>\n",
              "      <td>NaN</td>\n",
              "      <td>NaN</td>\n",
              "      <td>NaN</td>\n",
              "    </tr>\n",
              "    <tr>\n",
              "      <th>3</th>\n",
              "      <td>ham</td>\n",
              "      <td>U dun say so early hor... U c already then say...</td>\n",
              "      <td>NaN</td>\n",
              "      <td>NaN</td>\n",
              "      <td>NaN</td>\n",
              "    </tr>\n",
              "    <tr>\n",
              "      <th>4</th>\n",
              "      <td>ham</td>\n",
              "      <td>Nah I don't think he goes to usf, he lives aro...</td>\n",
              "      <td>NaN</td>\n",
              "      <td>NaN</td>\n",
              "      <td>NaN</td>\n",
              "    </tr>\n",
              "  </tbody>\n",
              "</table>\n",
              "</div>"
            ],
            "text/plain": [
              "     v1  ... Unnamed: 4\n",
              "0   ham  ...        NaN\n",
              "1   ham  ...        NaN\n",
              "2  spam  ...        NaN\n",
              "3   ham  ...        NaN\n",
              "4   ham  ...        NaN\n",
              "\n",
              "[5 rows x 5 columns]"
            ]
          },
          "metadata": {},
          "execution_count": 4
        }
      ]
    },
    {
      "cell_type": "code",
      "metadata": {
        "id": "WBbxcrNZDOZW"
      },
      "source": [
        "# 불필요한 열 삭제\n",
        "del data['Unnamed: 2']\n",
        "del data['Unnamed: 3']\n",
        "del data['Unnamed: 4']\n",
        "\n",
        "# ham과 spam 레이블을 각각 숫자 0과 1로 변경\n",
        "data['v1'] = data['v1'].replace(['ham','spam'],[0,1])"
      ],
      "execution_count": null,
      "outputs": []
    },
    {
      "cell_type": "code",
      "metadata": {
        "colab": {
          "base_uri": "https://localhost:8080/",
          "height": 204
        },
        "id": "flrmpzjOEyG9",
        "outputId": "2b8521ed-0959-4414-f55d-e4b86c7ceb63"
      },
      "source": [
        "data[:5]"
      ],
      "execution_count": null,
      "outputs": [
        {
          "output_type": "execute_result",
          "data": {
            "text/html": [
              "<div>\n",
              "<style scoped>\n",
              "    .dataframe tbody tr th:only-of-type {\n",
              "        vertical-align: middle;\n",
              "    }\n",
              "\n",
              "    .dataframe tbody tr th {\n",
              "        vertical-align: top;\n",
              "    }\n",
              "\n",
              "    .dataframe thead th {\n",
              "        text-align: right;\n",
              "    }\n",
              "</style>\n",
              "<table border=\"1\" class=\"dataframe\">\n",
              "  <thead>\n",
              "    <tr style=\"text-align: right;\">\n",
              "      <th></th>\n",
              "      <th>v1</th>\n",
              "      <th>v2</th>\n",
              "    </tr>\n",
              "  </thead>\n",
              "  <tbody>\n",
              "    <tr>\n",
              "      <th>0</th>\n",
              "      <td>0</td>\n",
              "      <td>Go until jurong point, crazy.. Available only ...</td>\n",
              "    </tr>\n",
              "    <tr>\n",
              "      <th>1</th>\n",
              "      <td>0</td>\n",
              "      <td>Ok lar... Joking wif u oni...</td>\n",
              "    </tr>\n",
              "    <tr>\n",
              "      <th>2</th>\n",
              "      <td>1</td>\n",
              "      <td>Free entry in 2 a wkly comp to win FA Cup fina...</td>\n",
              "    </tr>\n",
              "    <tr>\n",
              "      <th>3</th>\n",
              "      <td>0</td>\n",
              "      <td>U dun say so early hor... U c already then say...</td>\n",
              "    </tr>\n",
              "    <tr>\n",
              "      <th>4</th>\n",
              "      <td>0</td>\n",
              "      <td>Nah I don't think he goes to usf, he lives aro...</td>\n",
              "    </tr>\n",
              "  </tbody>\n",
              "</table>\n",
              "</div>"
            ],
            "text/plain": [
              "   v1                                                 v2\n",
              "0   0  Go until jurong point, crazy.. Available only ...\n",
              "1   0                      Ok lar... Joking wif u oni...\n",
              "2   1  Free entry in 2 a wkly comp to win FA Cup fina...\n",
              "3   0  U dun say so early hor... U c already then say...\n",
              "4   0  Nah I don't think he goes to usf, he lives aro..."
            ]
          },
          "metadata": {},
          "execution_count": 6
        }
      ]
    },
    {
      "cell_type": "code",
      "metadata": {
        "colab": {
          "base_uri": "https://localhost:8080/"
        },
        "id": "PTL3Tb5oE8LT",
        "outputId": "21c0203e-0498-49cc-c913-c028ec8a3471"
      },
      "source": [
        "data.info()"
      ],
      "execution_count": null,
      "outputs": [
        {
          "output_type": "stream",
          "name": "stdout",
          "text": [
            "<class 'pandas.core.frame.DataFrame'>\n",
            "RangeIndex: 5572 entries, 0 to 5571\n",
            "Data columns (total 2 columns):\n",
            " #   Column  Non-Null Count  Dtype \n",
            "---  ------  --------------  ----- \n",
            " 0   v1      5572 non-null   int64 \n",
            " 1   v2      5572 non-null   object\n",
            "dtypes: int64(1), object(1)\n",
            "memory usage: 87.2+ KB\n"
          ]
        }
      ]
    },
    {
      "cell_type": "code",
      "metadata": {
        "colab": {
          "base_uri": "https://localhost:8080/"
        },
        "id": "ZH0wbtf1FBiA",
        "outputId": "f3a31015-1fb1-4256-c3da-e3510feba650"
      },
      "source": [
        "# Null 값 여부 확인\n",
        "data.isnull().values.any()"
      ],
      "execution_count": null,
      "outputs": [
        {
          "output_type": "execute_result",
          "data": {
            "text/plain": [
              "False"
            ]
          },
          "metadata": {},
          "execution_count": 8
        }
      ]
    },
    {
      "cell_type": "code",
      "metadata": {
        "colab": {
          "base_uri": "https://localhost:8080/"
        },
        "id": "HTZVnjDLFEQh",
        "outputId": "56c3fffb-9bc8-427b-ac13-f04bcd9924eb"
      },
      "source": [
        "# 중복 데이터 여부 확인\n",
        "data['v2'].nunique(), data['v1'].nunique()"
      ],
      "execution_count": null,
      "outputs": [
        {
          "output_type": "execute_result",
          "data": {
            "text/plain": [
              "(5169, 2)"
            ]
          },
          "metadata": {},
          "execution_count": 9
        }
      ]
    },
    {
      "cell_type": "markdown",
      "metadata": {
        "id": "dtq7boByFMnh"
      },
      "source": [
        "* v2열에는 총 5,572개의 샘플이 존재하는데 중복을 제거한 샘플의 개수가 5,169개라는 것은 403개의 중복 샘플이 존재한다는 의미\n",
        "* v1열에는 0 또는 1 값 밖에 없으므로 2가 출력됨"
      ]
    },
    {
      "cell_type": "code",
      "metadata": {
        "id": "cFPU6uzAFfIi"
      },
      "source": [
        "# v2 열에서 중복 데이터 제거\n",
        "data.drop_duplicates(subset=['v2'], inplace=True) # inplace=True : 원본에 바로 적용"
      ],
      "execution_count": null,
      "outputs": []
    },
    {
      "cell_type": "code",
      "metadata": {
        "colab": {
          "base_uri": "https://localhost:8080/"
        },
        "id": "1W85pEyjFq6p",
        "outputId": "236d4bf5-30eb-41b2-d5a6-72bfeaacc44c"
      },
      "source": [
        "print('총 샘플의 수 :',len(data))"
      ],
      "execution_count": null,
      "outputs": [
        {
          "output_type": "stream",
          "name": "stdout",
          "text": [
            "총 샘플의 수 : 5169\n"
          ]
        }
      ]
    },
    {
      "cell_type": "code",
      "metadata": {
        "colab": {
          "base_uri": "https://localhost:8080/",
          "height": 262
        },
        "id": "nMPqr4DqFyFB",
        "outputId": "f0d52bc2-bc64-43c2-cc7a-cce1c73ea82c"
      },
      "source": [
        "# 레이블 데이터 분포 확인 (그래프)\n",
        "data['v1'].value_counts().plot(kind='bar');"
      ],
      "execution_count": null,
      "outputs": [
        {
          "output_type": "display_data",
          "data": {
            "image/png": "[encoded data removed]",
            "text/plain": [
              "<Figure size 432x288 with 1 Axes>"
            ]
          },
          "metadata": {
            "needs_background": "light"
          }
        }
      ]
    },
    {
      "cell_type": "code",
      "metadata": {
        "colab": {
          "base_uri": "https://localhost:8080/"
        },
        "id": "SHk35RFcF7If",
        "outputId": "5d5c281d-fb21-4d01-f1e4-6edd9d536dcf"
      },
      "source": [
        "# 레이블 데이터 분포 확인 (수치)\n",
        "print(data.groupby('v1').size().reset_index(name='count'))"
      ],
      "execution_count": null,
      "outputs": [
        {
          "output_type": "stream",
          "name": "stdout",
          "text": [
            "   v1  count\n",
            "0   0   4516\n",
            "1   1    653\n"
          ]
        }
      ]
    },
    {
      "cell_type": "markdown",
      "metadata": {
        "id": "psBAhyq6GCOq"
      },
      "source": [
        "* 레이블이 대부분 0에 편중되어있음"
      ]
    },
    {
      "cell_type": "code",
      "metadata": {
        "colab": {
          "base_uri": "https://localhost:8080/"
        },
        "id": "FKcwDAAVGDNz",
        "outputId": "56b75956-a01a-47fa-883f-307350cf1e0a"
      },
      "source": [
        "X_data = data['v2']\n",
        "y_data = data['v1']\n",
        "print('메일 본문의 개수: {}'.format(len(X_data)))\n",
        "print('레이블의 개수: {}'.format(len(y_data)))"
      ],
      "execution_count": null,
      "outputs": [
        {
          "output_type": "stream",
          "name": "stdout",
          "text": [
            "메일 본문의 개수: 5169\n",
            "레이블의 개수: 5169\n"
          ]
        }
      ]
    },
    {
      "cell_type": "markdown",
      "metadata": {
        "id": "O6dSXMPiGjYV"
      },
      "source": [
        "## 1.2 Word Tokenization & Integer Encoding"
      ]
    },
    {
      "cell_type": "code",
      "metadata": {
        "id": "D1r1tVLUGuIK"
      },
      "source": [
        "# 단어 토큰화 및 정수 인코딩\n",
        "tokenizer = Tokenizer()\n",
        "tokenizer.fit_on_texts(X_data)\n",
        "sequences = tokenizer.texts_to_sequences(X_data)"
      ],
      "execution_count": null,
      "outputs": []
    },
    {
      "cell_type": "code",
      "metadata": {
        "colab": {
          "base_uri": "https://localhost:8080/"
        },
        "id": "saxM9xvdH8P6",
        "outputId": "6a1d58cc-07e4-4acd-8209-57924bb73a14"
      },
      "source": [
        "# 인코딩된 정수 인덱스는 빈도수가 높을 수록 낮은 정수값을 부여한 결과\n",
        "print(sequences[:5])"
      ],
      "execution_count": null,
      "outputs": [
        {
          "output_type": "stream",
          "name": "stdout",
          "text": [
            "[[47, 433, 4013, 780, 705, 662, 64, 8, 1202, 94, 121, 434, 1203, 142, 2712, 1204, 68, 57, 4014, 137], [49, 306, 1364, 435, 6, 1767], [53, 537, 8, 20, 4, 1016, 934, 2, 220, 2713, 1365, 706, 2714, 2715, 267, 2716, 70, 2713, 2, 2717, 2, 359, 537, 604, 1205, 82, 436, 185, 707, 437, 4015], [6, 226, 152, 23, 347, 2718, 6, 138, 145, 56, 152], [935, 1, 97, 96, 69, 453, 2, 877, 69, 1768, 198, 105, 438]]\n"
          ]
        }
      ]
    },
    {
      "cell_type": "code",
      "metadata": {
        "colab": {
          "base_uri": "https://localhost:8080/"
        },
        "id": "u-AuuVinIjZm",
        "outputId": "9c3382bd-c46d-4de2-be9a-ba81da2fe3cf"
      },
      "source": [
        "vocab_size = len(word_to_index) + 1 # 패딩토큰 (0번 인덱스) 고려하여 +1\n",
        "print('단어 집합의 크기: {}'.format((vocab_size)))"
      ],
      "execution_count": null,
      "outputs": [
        {
          "output_type": "stream",
          "name": "stdout",
          "text": [
            "단어 집합의 크기: 8921\n"
          ]
        }
      ]
    },
    {
      "cell_type": "code",
      "metadata": {
        "id": "WrR7hOmFIUfs"
      },
      "source": [
        "# 단어-인덱스 사전\n",
        "word_to_index = tokenizer.word_index"
      ],
      "execution_count": null,
      "outputs": []
    },
    {
      "cell_type": "code",
      "metadata": {
        "colab": {
          "base_uri": "https://localhost:8080/"
        },
        "id": "WiY5u5X1H9jM",
        "outputId": "1c5251db-c286-4971-95fe-ef840c06a497"
      },
      "source": [
        "# 빈도수가 낮은 단어들이 훈련 데이터에서 얼만큼의 비중을 차지하는지 확인\n",
        "threshold = 2\n",
        "total_cnt = len(word_to_index)\n",
        "rare_cnt = 0 # 빈도수가 threshold보다 작은 단어들의 개수\n",
        "total_freq = 0 # 훈련 데이터의 전체 단어 빈도수의 총합\n",
        "rare_freq = 0 # 빈도수가 threshold보다 작은 단어들의 빈도수의 총합\n",
        "\n",
        "# tokenizer.word_counts : (단어, 빈도수) 형태로 저장되어있음\n",
        "for key, value in tokenizer.word_counts.items():\n",
        "    total_freq = total_freq + value\n",
        "    if(value < threshold):\n",
        "        rare_cnt = rare_cnt + 1\n",
        "        rare_freq = rare_freq + value\n",
        "\n",
        "print('등장 빈도가 %s번 이하인 희귀 단어의 수: %s'%(threshold - 1, rare_cnt))\n",
        "print(\"단어 집합(vocabulary)에서 희귀 단어의 비율:\", (rare_cnt / total_cnt)*100)\n",
        "print(\"전체 등장 빈도에서 희귀 단어 등장 빈도 비율:\", (rare_freq / total_freq)*100)"
      ],
      "execution_count": null,
      "outputs": [
        {
          "output_type": "stream",
          "name": "stdout",
          "text": [
            "등장 빈도가 1번 이하인 희귀 단어의 수: 4908\n",
            "단어 집합(vocabulary)에서 희귀 단어의 비율: 55.02242152466368\n",
            "전체 등장 빈도에서 희귀 단어 등장 빈도 비율: 6.082538108811501\n"
          ]
        }
      ]
    },
    {
      "cell_type": "markdown",
      "metadata": {
        "id": "9HkGj6ofIgOw"
      },
      "source": [
        "* 등장 빈도가 threshold 값인 2회 미만. 즉, 1회 밖에 되지 않는 단어들은 단어 집합에서 무려 절반 이상의 비율\n",
        "* 하지만, 실제로 훈련 데이터에서 등장 빈도로 차지하는 비중은 6%밖에 되지 않음\n",
        "* 만약 이러한 분석을 통해 등장 빈도가 지나치게 낮은 단어들은 자연어 처리에서 제외하고 싶다면 케라스 토크나이저 선언 시에 단어 집합의 크기를 제한하면 됨\n",
        " * ```tokenizer = Tokenizer(num_words = total_cnt - rare_cnt + 1)```\n",
        "* 이번 실습에서는 별도로 단어 집합의 크기를 제한하진 않음"
      ]
    },
    {
      "cell_type": "markdown",
      "metadata": {
        "id": "TY0noZvoJB9B"
      },
      "source": [
        "## 1.3 Data Split"
      ]
    },
    {
      "cell_type": "code",
      "metadata": {
        "colab": {
          "base_uri": "https://localhost:8080/",
          "height": 315
        },
        "id": "f7j71tiML7Qs",
        "outputId": "e0c7fdd1-0202-47b1-9b89-f85a30f67bb9"
      },
      "source": [
        "# 정수 인코딩된 결과 X_data 업데이트\n",
        "X_data = sequences\n",
        "print('메일의 최대 길이 : %d' % max(len(l) for l in X_data))\n",
        "print('메일의 평균 길이 : %f' % (sum(map(len, X_data))/len(X_data)))\n",
        "plt.hist([len(s) for s in X_data], bins=50)\n",
        "plt.xlabel('length of samples')\n",
        "plt.ylabel('number of samples')\n",
        "plt.show()"
      ],
      "execution_count": null,
      "outputs": [
        {
          "output_type": "stream",
          "name": "stdout",
          "text": [
            "메일의 최대 길이 : 189\n",
            "메일의 평균 길이 : 15.610370\n"
          ]
        },
        {
          "output_type": "display_data",
          "data": {
            "image/png": "[encoded data removed]",
            "text/plain": [
              "<Figure size 432x288 with 1 Axes>"
            ]
          },
          "metadata": {
            "needs_background": "light"
          }
        }
      ]
    },
    {
      "cell_type": "code",
      "metadata": {
        "colab": {
          "base_uri": "https://localhost:8080/"
        },
        "id": "eiqJn-r2MTcp",
        "outputId": "15ed7676-5174-48da-acb3-3765c12d02fb"
      },
      "source": [
        "# 전체 데이터셋을 max_len으로 패딩\n",
        "max_len = 189\n",
        "data = pad_sequences(X_data, maxlen = max_len)\n",
        "print(\"훈련 데이터의 크기(shape): \", data.shape)"
      ],
      "execution_count": null,
      "outputs": [
        {
          "output_type": "stream",
          "name": "stdout",
          "text": [
            "훈련 데이터의 크기(shape):  (5169, 189)\n"
          ]
        }
      ]
    },
    {
      "cell_type": "code",
      "metadata": {
        "colab": {
          "base_uri": "https://localhost:8080/"
        },
        "id": "6y253KU9JEIa",
        "outputId": "862baa6b-f72c-4fbb-8000-84e64ca50daa"
      },
      "source": [
        "n_of_train = int(len(sequences) * 0.8)\n",
        "n_of_test = int(len(sequences) - n_of_train)\n",
        "print('훈련 데이터의 개수 :',n_of_train)\n",
        "print('테스트 데이터의 개수:',n_of_test)"
      ],
      "execution_count": null,
      "outputs": [
        {
          "output_type": "stream",
          "name": "stdout",
          "text": [
            "훈련 데이터의 개수 : 4135\n",
            "테스트 데이터의 개수: 1034\n"
          ]
        }
      ]
    },
    {
      "cell_type": "code",
      "metadata": {
        "id": "RS6fRA5zMiNv"
      },
      "source": [
        "X_test = data[n_of_train:]\n",
        "y_test = np.array(y_data[n_of_train:])\n",
        "X_train = data[:n_of_train]\n",
        "y_train = np.array(y_data[:n_of_train])"
      ],
      "execution_count": null,
      "outputs": []
    },
    {
      "cell_type": "markdown",
      "metadata": {
        "id": "9cSvHxVXJEiF"
      },
      "source": [
        "## 1.4 Modeling"
      ]
    },
    {
      "cell_type": "code",
      "metadata": {
        "id": "WpaOxTU4JHqI"
      },
      "source": [
        "from tensorflow.keras.models import Sequential\n",
        "from tensorflow.keras.layers import Embedding, SimpleRNN, Dense"
      ],
      "execution_count": null,
      "outputs": []
    },
    {
      "cell_type": "code",
      "metadata": {
        "id": "utw04SiSMyN6"
      },
      "source": [
        "model = Sequential()\n",
        "model.add(Embedding(vocab_size, 32))\n",
        "model.add(SimpleRNN(32))\n",
        "model.add(Dense(1, activation='sigmoid'))"
      ],
      "execution_count": null,
      "outputs": []
    },
    {
      "cell_type": "code",
      "metadata": {
        "colab": {
          "base_uri": "https://localhost:8080/"
        },
        "id": "lWDlNBiGN1GT",
        "outputId": "a876d3aa-5c21-4415-bb67-07eab69ba41d"
      },
      "source": [
        "model.summary()"
      ],
      "execution_count": null,
      "outputs": [
        {
          "output_type": "stream",
          "name": "stdout",
          "text": [
            "Model: \"sequential\"\n",
            "_________________________________________________________________\n",
            "Layer (type)                 Output Shape              Param #   \n",
            "=================================================================\n",
            "embedding (Embedding)        (None, None, 32)          285472    \n",
            "_________________________________________________________________\n",
            "simple_rnn (SimpleRNN)       (None, 32)                2080      \n",
            "_________________________________________________________________\n",
            "dense (Dense)                (None, 1)                 33        \n",
            "=================================================================\n",
            "Total params: 287,585\n",
            "Trainable params: 287,585\n",
            "Non-trainable params: 0\n",
            "_________________________________________________________________\n"
          ]
        }
      ]
    },
    {
      "cell_type": "code",
      "metadata": {
        "colab": {
          "base_uri": "https://localhost:8080/"
        },
        "id": "VWu-E033N2Na",
        "outputId": "e68840f8-cc93-4470-e129-a96bc281fb44"
      },
      "source": [
        "model.compile(optimizer='rmsprop', loss='binary_crossentropy', metrics=['acc'])\n",
        "history = model.fit(X_train, y_train, epochs=4, batch_size=64, validation_split=0.2)"
      ],
      "execution_count": null,
      "outputs": [
        {
          "output_type": "stream",
          "name": "stdout",
          "text": [
            "Epoch 1/4\n",
            "52/52 [==============================] - 4s 53ms/step - loss: 0.5670 - acc: 0.7261 - val_loss: 0.4072 - val_acc: 0.8742\n",
            "Epoch 2/4\n",
            "52/52 [==============================] - 2s 45ms/step - loss: 0.3217 - acc: 0.8993 - val_loss: 0.2157 - val_acc: 0.9577\n",
            "Epoch 3/4\n",
            "52/52 [==============================] - 2s 45ms/step - loss: 0.1112 - acc: 0.9761 - val_loss: 0.2894 - val_acc: 0.8936\n",
            "Epoch 4/4\n",
            "52/52 [==============================] - 2s 46ms/step - loss: 0.0567 - acc: 0.9846 - val_loss: 0.0952 - val_acc: 0.9661\n"
          ]
        }
      ]
    },
    {
      "cell_type": "code",
      "metadata": {
        "colab": {
          "base_uri": "https://localhost:8080/"
        },
        "id": "ui7C_UH4N_K5",
        "outputId": "06f09c55-7e9d-452f-fa18-37ba8f76ed5a"
      },
      "source": [
        "print(\"\\n 테스트 정확도: %.4f\" % (model.evaluate(X_test, y_test)[1]))"
      ],
      "execution_count": null,
      "outputs": [
        {
          "output_type": "stream",
          "name": "stdout",
          "text": [
            "33/33 [==============================] - 0s 10ms/step - loss: 0.0822 - acc: 0.9729\n",
            "\n",
            " 테스트 정확도: 0.9729\n"
          ]
        }
      ]
    },
    {
      "cell_type": "code",
      "metadata": {
        "colab": {
          "base_uri": "https://localhost:8080/",
          "height": 295
        },
        "id": "Evt_7kEaOCv8",
        "outputId": "d96a4df4-91f2-4100-b4ca-d03a84047962"
      },
      "source": [
        "# 훈련 과정에서 에폭이 진행됨에 따라 변화한 훈련 데이터 및 검증 데이터의 오차 시각화\n",
        "epochs = range(1, len(history.history['acc']) + 1)\n",
        "plt.plot(epochs, history.history['loss'])\n",
        "plt.plot(epochs, history.history['val_loss'])\n",
        "plt.title('model loss')\n",
        "plt.ylabel('loss')\n",
        "plt.xlabel('epoch')\n",
        "plt.legend(['train', 'val'], loc='upper left')\n",
        "plt.show()"
      ],
      "execution_count": null,
      "outputs": [
        {
          "output_type": "display_data",
          "data": {
            "image/png": "[encoded data removed]",
            "text/plain": [
              "<Figure size 432x288 with 1 Axes>"
            ]
          },
          "metadata": {
            "needs_background": "light"
          }
        }
      ]
    },
    {
      "cell_type": "markdown",
      "metadata": {
        "id": "KCxQjI6KB2LL"
      },
      "source": [
        "# 2) Reuters News Classification"
      ]
    },
    {
      "cell_type": "markdown",
      "metadata": {
        "id": "PrDZljhAB2Jf"
      },
      "source": [
        "* 케라스에서 제공하는 뉴스 데이터\n",
        "* 총 11,258개의 뉴스 기사가 46개의 카테고리로 분류되어있는 데이터"
      ]
    },
    {
      "cell_type": "code",
      "metadata": {
        "id": "oj-TI5_-PWIa"
      },
      "source": [
        "import numpy as np\n",
        "import seaborn as sns\n",
        "import matplotlib.pyplot as plt\n",
        "from tensorflow.keras.datasets import reuters"
      ],
      "execution_count": null,
      "outputs": []
    },
    {
      "cell_type": "markdown",
      "metadata": {
        "id": "nETuOBOQPQFk"
      },
      "source": [
        "## 2.1 Data Load & preprocessing"
      ]
    },
    {
      "cell_type": "code",
      "metadata": {
        "colab": {
          "base_uri": "https://localhost:8080/"
        },
        "id": "y078h87IB1sE",
        "outputId": "5f088787-a2d8-49fb-f065-e56908a292fc"
      },
      "source": [
        "(X_train, y_train), (X_test, y_test) = reuters.load_data(num_words=None, test_split=0.2)"
      ],
      "execution_count": null,
      "outputs": [
        {
          "output_type": "stream",
          "name": "stdout",
          "text": [
            "Downloading data from https://storage.googleapis.com/tensorflow/tf-keras-datasets/reuters.npz\n",
            "2113536/2110848 [==============================] - 0s 0us/step\n",
            "2121728/2110848 [==============================] - 0s 0us/step\n"
          ]
        }
      ]
    },
    {
      "cell_type": "markdown",
      "metadata": {
        "id": "NVdBAy6lPck0"
      },
      "source": [
        "* ```num_words=``` : 데이터에서 등장 빈도 순위로 몇 번째에 해당하는 단어까지만 사용할 것인지 조절\n",
        " * ```=None``` : 모든 단어 사용"
      ]
    },
    {
      "cell_type": "code",
      "metadata": {
        "colab": {
          "base_uri": "https://localhost:8080/"
        },
        "id": "1E0ThjILPoHj",
        "outputId": "682b0a52-0b1b-4c61-a425-ac2e8544dbe8"
      },
      "source": [
        "print('훈련용 뉴스 기사 : {}'.format(len(X_train)))\n",
        "print('테스트용 뉴스 기사 : {}'.format(len(X_test)))\n",
        "num_classes = len(set(y_train))\n",
        "print('카테고리 : {}'.format(num_classes))"
      ],
      "execution_count": null,
      "outputs": [
        {
          "output_type": "stream",
          "name": "stdout",
          "text": [
            "훈련용 뉴스 기사 : 8982\n",
            "테스트용 뉴스 기사 : 2246\n",
            "카테고리 : 46\n"
          ]
        }
      ]
    },
    {
      "cell_type": "code",
      "metadata": {
        "colab": {
          "base_uri": "https://localhost:8080/"
        },
        "id": "2lkZ1dxiPs4j",
        "outputId": "18804c66-fc6e-4fe0-8a6b-19a6c762df4b"
      },
      "source": [
        "print(X_train[0])\n",
        "print(y_train[0])"
      ],
      "execution_count": null,
      "outputs": [
        {
          "output_type": "stream",
          "name": "stdout",
          "text": [
            "[1, 27595, 28842, 8, 43, 10, 447, 5, 25, 207, 270, 5, 3095, 111, 16, 369, 186, 90, 67, 7, 89, 5, 19, 102, 6, 19, 124, 15, 90, 67, 84, 22, 482, 26, 7, 48, 4, 49, 8, 864, 39, 209, 154, 6, 151, 6, 83, 11, 15, 22, 155, 11, 15, 7, 48, 9, 4579, 1005, 504, 6, 258, 6, 272, 11, 15, 22, 134, 44, 11, 15, 16, 8, 197, 1245, 90, 67, 52, 29, 209, 30, 32, 132, 6, 109, 15, 17, 12]\n",
            "3\n"
          ]
        }
      ]
    },
    {
      "cell_type": "markdown",
      "metadata": {
        "id": "wzZ2SWlCPxHA"
      },
      "source": [
        "* 이미 토큰화 및 정수 인코딩이 진행된 데이터\n",
        " * 정수 인덱스는 앞선 __1)__ 에서와 마찬가지로 빈도수가 높을 수록 낮은 인덱스 부여한 결과"
      ]
    },
    {
      "cell_type": "code",
      "metadata": {
        "colab": {
          "base_uri": "https://localhost:8080/",
          "height": 315
        },
        "id": "HUJ2iOorPukE",
        "outputId": "b6720448-0800-49b2-fcb6-4524e2ea1c04"
      },
      "source": [
        "print('뉴스 기사의 최대 길이 :{}'.format(max(len(l) for l in X_train)))\n",
        "print('뉴스 기사의 평균 길이 :{}'.format(sum(map(len, X_train))/len(X_train)))\n",
        "\n",
        "# 뉴스 기사 길이 분포 확인 (시각화)\n",
        "plt.hist([len(s) for s in X_train], bins=50)\n",
        "plt.xlabel('length of samples')\n",
        "plt.ylabel('number of samples')\n",
        "plt.show()"
      ],
      "execution_count": null,
      "outputs": [
        {
          "output_type": "stream",
          "name": "stdout",
          "text": [
            "뉴스 기사의 최대 길이 :2376\n",
            "뉴스 기사의 평균 길이 :145.5398574927633\n"
          ]
        },
        {
          "output_type": "display_data",
          "data": {
            "image/png": "[encoded data removed]",
            "text/plain": [
              "<Figure size 432x288 with 1 Axes>"
            ]
          },
          "metadata": {
            "needs_background": "light"
          }
        }
      ]
    },
    {
      "cell_type": "code",
      "metadata": {
        "colab": {
          "base_uri": "https://localhost:8080/",
          "height": 394
        },
        "id": "XBm7hKPCQEj_",
        "outputId": "ad5b0eb8-9836-4294-cedf-880d0537384e"
      },
      "source": [
        "# 레이블 분포 확인 (시각화)\n",
        "fig, axe = plt.subplots(ncols=1)\n",
        "fig.set_size_inches(12,5)\n",
        "sns.countplot(y_train)"
      ],
      "execution_count": null,
      "outputs": [
        {
          "output_type": "stream",
          "name": "stderr",
          "text": [
            "/usr/local/lib/python3.7/dist-packages/seaborn/_decorators.py:43: FutureWarning: Pass the following variable as a keyword arg: x. From version 0.12, the only valid positional argument will be `data`, and passing other arguments without an explicit keyword will result in an error or misinterpretation.\n",
            "  FutureWarning\n"
          ]
        },
        {
          "output_type": "execute_result",
          "data": {
            "text/plain": [
              "<matplotlib.axes._subplots.AxesSubplot at 0x7fdaaea5cbd0>"
            ]
          },
          "metadata": {},
          "execution_count": 6
        },
        {
          "output_type": "display_data",
          "data": {
            "image/png": "[encoded data removed]",
            "text/plain": [
              "<Figure size 864x360 with 1 Axes>"
            ]
          },
          "metadata": {
            "needs_background": "light"
          }
        }
      ]
    },
    {
      "cell_type": "code",
      "metadata": {
        "colab": {
          "base_uri": "https://localhost:8080/"
        },
        "id": "9nZGiVpGQvvA",
        "outputId": "85c76421-4fec-4b1b-ba33-5d4317333b0b"
      },
      "source": [
        "# 레이블 분포 확인 (수치)\n",
        "unique_elements, counts_elements = np.unique(y_train, return_counts=True)\n",
        "print(\"각 레이블에 대한 빈도수:\")\n",
        "print(np.asarray((unique_elements, counts_elements)))"
      ],
      "execution_count": null,
      "outputs": [
        {
          "output_type": "stream",
          "name": "stdout",
          "text": [
            "각 레이블에 대한 빈도수:\n",
            "[[   0    1    2    3    4    5    6    7    8    9   10   11   12   13\n",
            "    14   15   16   17   18   19   20   21   22   23   24   25   26   27\n",
            "    28   29   30   31   32   33   34   35   36   37   38   39   40   41\n",
            "    42   43   44   45]\n",
            " [  55  432   74 3159 1949   17   48   16  139  101  124  390   49  172\n",
            "    26   20  444   39   66  549  269  100   15   41   62   92   24   15\n",
            "    48   19   45   39   32   11   50   10   49   19   19   24   36   30\n",
            "    13   21   12   18]]\n"
          ]
        }
      ]
    },
    {
      "cell_type": "code",
      "metadata": {
        "colab": {
          "base_uri": "https://localhost:8080/"
        },
        "id": "DTI14RMLQ3D2",
        "outputId": "b0186610-0fd9-4115-c994-ca9669bc154e"
      },
      "source": [
        "# 단어-인덱스 사전\n",
        "word_to_index = reuters.get_word_index()"
      ],
      "execution_count": null,
      "outputs": [
        {
          "output_type": "stream",
          "name": "stdout",
          "text": [
            "Downloading data from https://storage.googleapis.com/tensorflow/tf-keras-datasets/reuters_word_index.json\n",
            "557056/550378 [==============================] - 0s 0us/step\n",
            "565248/550378 [==============================] - 0s 0us/step\n"
          ]
        }
      ]
    },
    {
      "cell_type": "code",
      "metadata": {
        "id": "5wGMJjZ9Q8K0"
      },
      "source": [
        "# 인덱스-단어 사전\n",
        "index_to_word = {}\n",
        "for index, token in enumerate((\"<pad>\", \"<sos>\", \"<unk>\")):\n",
        "  index_to_word[index] = token\n",
        "  \n",
        "for key, value in word_to_index.items():\n",
        "    index_to_word[value+3] = key"
      ],
      "execution_count": null,
      "outputs": []
    },
    {
      "cell_type": "markdown",
      "metadata": {
        "id": "cyf3I7CvRJNK"
      },
      "source": [
        "* index_to_word에서 0은 패딩을 의미하는 토큰인 pad, 1은 문장의 시작을 의미하는 sos, 2는 OOV를 위한 토큰인 unk라는 특별 토큰에 맵핑되어져야 함.\n",
        "* 따라서 일반 단어들은 인덱스 3부터 시작 (value+3)\n",
        "* 이는 로이터 뉴스 데이터셋에서 정한 규칙임 "
      ]
    },
    {
      "cell_type": "code",
      "metadata": {
        "colab": {
          "base_uri": "https://localhost:8080/"
        },
        "id": "Syw-KCmpRDYq",
        "outputId": "5b2d4a56-30bc-43e6-82b9-5e70547d7dce"
      },
      "source": [
        "print('빈도수 상위 1번 단어 : {}'.format(index_to_word[4]))\n",
        "print('빈도수 상위 128등 단어 : {}'.format(index_to_word[131]))"
      ],
      "execution_count": null,
      "outputs": [
        {
          "output_type": "stream",
          "name": "stdout",
          "text": [
            "빈도수 상위 1번 단어 : the\n",
            "빈도수 상위 128등 단어 : tax\n"
          ]
        }
      ]
    },
    {
      "cell_type": "code",
      "metadata": {
        "colab": {
          "base_uri": "https://localhost:8080/"
        },
        "id": "BNFGsbumRLFx",
        "outputId": "27cffe47-586a-4ee0-d3ac-17c2935035da"
      },
      "source": [
        "# 인덱스-단어 사전으로 인코딩된 데이터 디코딩\n",
        "print(' '.join([index_to_word[index] for index in X_train[0]]))"
      ],
      "execution_count": null,
      "outputs": [
        {
          "output_type": "stream",
          "name": "stdout",
          "text": [
            "<sos> mcgrath rentcorp said as a result of its december acquisition of space co it expects earnings per share in 1987 of 1 15 to 1 30 dlrs per share up from 70 cts in 1986 the company said pretax net should rise to nine to 10 mln dlrs from six mln dlrs in 1986 and rental operation revenues to 19 to 22 mln dlrs from 12 5 mln dlrs it said cash flow per share this year should be 2 50 to three dlrs reuter 3\n"
          ]
        }
      ]
    },
    {
      "cell_type": "markdown",
      "metadata": {
        "id": "sYY7iKTITMuE"
      },
      "source": [
        "## 2.2 Padding & One-hot encoding"
      ]
    },
    {
      "cell_type": "code",
      "metadata": {
        "id": "tDUtC2UkTU7L"
      },
      "source": [
        "from tensorflow.keras.preprocessing.sequence import pad_sequences\n",
        "from tensorflow.keras.utils import to_categorical"
      ],
      "execution_count": null,
      "outputs": []
    },
    {
      "cell_type": "code",
      "metadata": {
        "id": "5Wen51iaTbnI"
      },
      "source": [
        "# 등장 빈도 수 상위 1,000번째까지의 단어들만 사용\n",
        "(X_train, y_train), (X_test, y_test) = reuters.load_data(num_words=1000, test_split=0.2)"
      ],
      "execution_count": null,
      "outputs": []
    },
    {
      "cell_type": "code",
      "metadata": {
        "id": "iX6htWGHTYMA"
      },
      "source": [
        "max_len = 100\n",
        "X_train = pad_sequences(X_train, maxlen=max_len)\n",
        "X_test = pad_sequences(X_test, maxlen=max_len)"
      ],
      "execution_count": null,
      "outputs": []
    },
    {
      "cell_type": "code",
      "metadata": {
        "id": "2ZIiGdmLTyMx"
      },
      "source": [
        "y_train = to_categorical(y_train)\n",
        "y_test = to_categorical(y_test)"
      ],
      "execution_count": null,
      "outputs": []
    },
    {
      "cell_type": "markdown",
      "metadata": {
        "id": "fQNcvJbWRVTf"
      },
      "source": [
        "## 2.3 Modeling"
      ]
    },
    {
      "cell_type": "code",
      "metadata": {
        "id": "3lExxeyPRUPS"
      },
      "source": [
        "from tensorflow.keras.models import Sequential, load_model\n",
        "from tensorflow.keras.layers import Embedding, LSTM, Dense\n",
        "from tensorflow.keras.callbacks import EarlyStopping, ModelCheckpoint"
      ],
      "execution_count": null,
      "outputs": []
    },
    {
      "cell_type": "code",
      "metadata": {
        "id": "PJWnDuqTMUAJ"
      },
      "source": [
        "vocab_size = 1000\n",
        "embedding_dim = 128\n",
        "hidden_units = 128\n",
        "num_classes = 46"
      ],
      "execution_count": null,
      "outputs": []
    },
    {
      "cell_type": "code",
      "metadata": {
        "id": "Fj3gvVb2MqRl"
      },
      "source": [
        "model = Sequential()\n",
        "model.add(Embedding(vocab_size, embedding_dim))\n",
        "model.add(LSTM(hidden_units))\n",
        "model.add(Dense(num_classes, activation='softmax'))"
      ],
      "execution_count": null,
      "outputs": []
    },
    {
      "cell_type": "code",
      "metadata": {
        "colab": {
          "base_uri": "https://localhost:8080/"
        },
        "id": "CEC3ISNXMsPw",
        "outputId": "b2a8bf2b-8000-4c34-b351-cbdebc40b377"
      },
      "source": [
        "model.summary()"
      ],
      "execution_count": null,
      "outputs": [
        {
          "output_type": "stream",
          "name": "stdout",
          "text": [
            "Model: \"sequential\"\n",
            "_________________________________________________________________\n",
            "Layer (type)                 Output Shape              Param #   \n",
            "=================================================================\n",
            "embedding (Embedding)        (None, None, 128)         128000    \n",
            "_________________________________________________________________\n",
            "lstm (LSTM)                  (None, 128)               131584    \n",
            "_________________________________________________________________\n",
            "dense (Dense)                (None, 46)                5934      \n",
            "=================================================================\n",
            "Total params: 265,518\n",
            "Trainable params: 265,518\n",
            "Non-trainable params: 0\n",
            "_________________________________________________________________\n"
          ]
        }
      ]
    },
    {
      "cell_type": "code",
      "metadata": {
        "id": "0N62j28aMtY8"
      },
      "source": [
        "es = EarlyStopping(monitor='val_loss', mode='min', verbose=1, patience=4)\n",
        "mc = ModelCheckpoint('best_model.h5', monitor='val_acc', mode='max', verbose=1, save_best_only=True)"
      ],
      "execution_count": null,
      "outputs": []
    },
    {
      "cell_type": "code",
      "metadata": {
        "colab": {
          "base_uri": "https://localhost:8080/"
        },
        "id": "KQI2z4RuMvYx",
        "outputId": "883b5489-a632-4789-fa86-e18c8a6825c5"
      },
      "source": [
        "model.compile(loss='categorical_crossentropy', optimizer='adam', metrics=['acc'])\n",
        "history = model.fit(X_train, y_train, batch_size=128, epochs=30, callbacks=[es, mc], validation_data=(X_test, y_test))"
      ],
      "execution_count": null,
      "outputs": [
        {
          "output_type": "stream",
          "name": "stdout",
          "text": [
            "Epoch 1/30\n",
            "71/71 [==============================] - 23s 300ms/step - loss: 2.6099 - acc: 0.3468 - val_loss: 2.3840 - val_acc: 0.3620\n",
            "\n",
            "Epoch 00001: val_acc improved from -inf to 0.36198, saving model to best_model.h5\n",
            "Epoch 2/30\n",
            "71/71 [==============================] - 21s 296ms/step - loss: 2.0924 - acc: 0.4758 - val_loss: 1.9809 - val_acc: 0.5111\n",
            "\n",
            "Epoch 00002: val_acc improved from 0.36198 to 0.51113, saving model to best_model.h5\n",
            "Epoch 3/30\n",
            "71/71 [==============================] - 20s 287ms/step - loss: 1.9341 - acc: 0.5019 - val_loss: 1.7974 - val_acc: 0.5530\n",
            "\n",
            "Epoch 00003: val_acc improved from 0.51113 to 0.55298, saving model to best_model.h5\n",
            "Epoch 4/30\n",
            "71/71 [==============================] - 20s 288ms/step - loss: 1.7659 - acc: 0.5475 - val_loss: 1.8049 - val_acc: 0.5445\n",
            "\n",
            "Epoch 00004: val_acc did not improve from 0.55298\n",
            "Epoch 5/30\n",
            "71/71 [==============================] - 21s 291ms/step - loss: 1.6698 - acc: 0.5679 - val_loss: 1.6906 - val_acc: 0.5735\n",
            "\n",
            "Epoch 00005: val_acc improved from 0.55298 to 0.57346, saving model to best_model.h5\n",
            "Epoch 6/30\n",
            "71/71 [==============================] - 20s 286ms/step - loss: 1.6240 - acc: 0.5762 - val_loss: 1.6915 - val_acc: 0.5677\n",
            "\n",
            "Epoch 00006: val_acc did not improve from 0.57346\n",
            "Epoch 7/30\n",
            "71/71 [==============================] - 21s 290ms/step - loss: 1.5629 - acc: 0.5939 - val_loss: 1.5987 - val_acc: 0.5908\n",
            "\n",
            "Epoch 00007: val_acc improved from 0.57346 to 0.59083, saving model to best_model.h5\n",
            "Epoch 8/30\n",
            "71/71 [==============================] - 21s 301ms/step - loss: 1.4753 - acc: 0.6195 - val_loss: 1.5833 - val_acc: 0.5926\n",
            "\n",
            "Epoch 00008: val_acc improved from 0.59083 to 0.59261, saving model to best_model.h5\n",
            "Epoch 9/30\n",
            "71/71 [==============================] - 22s 307ms/step - loss: 1.3846 - acc: 0.6436 - val_loss: 1.4643 - val_acc: 0.6336\n",
            "\n",
            "Epoch 00009: val_acc improved from 0.59261 to 0.63357, saving model to best_model.h5\n",
            "Epoch 10/30\n",
            "71/71 [==============================] - 21s 290ms/step - loss: 1.3117 - acc: 0.6641 - val_loss: 1.4231 - val_acc: 0.6402\n",
            "\n",
            "Epoch 00010: val_acc improved from 0.63357 to 0.64025, saving model to best_model.h5\n",
            "Epoch 11/30\n",
            "71/71 [==============================] - 20s 289ms/step - loss: 1.2619 - acc: 0.6747 - val_loss: 1.3740 - val_acc: 0.6509\n",
            "\n",
            "Epoch 00011: val_acc improved from 0.64025 to 0.65093, saving model to best_model.h5\n",
            "Epoch 12/30\n",
            "71/71 [==============================] - 21s 294ms/step - loss: 1.1961 - acc: 0.6945 - val_loss: 1.3339 - val_acc: 0.6616\n",
            "\n",
            "Epoch 00012: val_acc improved from 0.65093 to 0.66162, saving model to best_model.h5\n",
            "Epoch 13/30\n",
            "71/71 [==============================] - 21s 294ms/step - loss: 1.1434 - acc: 0.7046 - val_loss: 1.3674 - val_acc: 0.6541\n",
            "\n",
            "Epoch 00013: val_acc did not improve from 0.66162\n",
            "Epoch 14/30\n",
            "71/71 [==============================] - 21s 301ms/step - loss: 1.1240 - acc: 0.7145 - val_loss: 1.3191 - val_acc: 0.6696\n",
            "\n",
            "Epoch 00014: val_acc improved from 0.66162 to 0.66963, saving model to best_model.h5\n",
            "Epoch 15/30\n",
            "71/71 [==============================] - 22s 316ms/step - loss: 1.0609 - acc: 0.7299 - val_loss: 1.2553 - val_acc: 0.6901\n",
            "\n",
            "Epoch 00015: val_acc improved from 0.66963 to 0.69012, saving model to best_model.h5\n",
            "Epoch 16/30\n",
            "71/71 [==============================] - 21s 298ms/step - loss: 1.0151 - acc: 0.7437 - val_loss: 1.2170 - val_acc: 0.6995\n",
            "\n",
            "Epoch 00016: val_acc improved from 0.69012 to 0.69947, saving model to best_model.h5\n",
            "Epoch 17/30\n",
            "71/71 [==============================] - 21s 293ms/step - loss: 0.9606 - acc: 0.7586 - val_loss: 1.2281 - val_acc: 0.7044\n",
            "\n",
            "Epoch 00017: val_acc improved from 0.69947 to 0.70436, saving model to best_model.h5\n",
            "Epoch 18/30\n",
            "71/71 [==============================] - 21s 291ms/step - loss: 0.9207 - acc: 0.7654 - val_loss: 1.2253 - val_acc: 0.7119\n",
            "\n",
            "Epoch 00018: val_acc improved from 0.70436 to 0.71193, saving model to best_model.h5\n",
            "Epoch 19/30\n",
            "71/71 [==============================] - 20s 287ms/step - loss: 0.8798 - acc: 0.7751 - val_loss: 1.2112 - val_acc: 0.7061\n",
            "\n",
            "Epoch 00019: val_acc did not improve from 0.71193\n",
            "Epoch 20/30\n",
            "71/71 [==============================] - 20s 288ms/step - loss: 0.8325 - acc: 0.7881 - val_loss: 1.2033 - val_acc: 0.7017\n",
            "\n",
            "Epoch 00020: val_acc did not improve from 0.71193\n",
            "Epoch 21/30\n",
            "71/71 [==============================] - 20s 288ms/step - loss: 0.8024 - acc: 0.7956 - val_loss: 1.2174 - val_acc: 0.7066\n",
            "\n",
            "Epoch 00021: val_acc did not improve from 0.71193\n",
            "Epoch 22/30\n",
            "71/71 [==============================] - 21s 290ms/step - loss: 0.7669 - acc: 0.8056 - val_loss: 1.1885 - val_acc: 0.7030\n",
            "\n",
            "Epoch 00022: val_acc did not improve from 0.71193\n",
            "Epoch 23/30\n",
            "71/71 [==============================] - 20s 288ms/step - loss: 0.7270 - acc: 0.8167 - val_loss: 1.2101 - val_acc: 0.7097\n",
            "\n",
            "Epoch 00023: val_acc did not improve from 0.71193\n",
            "Epoch 24/30\n",
            "71/71 [==============================] - 21s 289ms/step - loss: 0.7018 - acc: 0.8175 - val_loss: 1.2246 - val_acc: 0.7137\n",
            "\n",
            "Epoch 00024: val_acc improved from 0.71193 to 0.71371, saving model to best_model.h5\n",
            "Epoch 25/30\n",
            "71/71 [==============================] - 21s 294ms/step - loss: 0.6656 - acc: 0.8330 - val_loss: 1.2291 - val_acc: 0.7150\n",
            "\n",
            "Epoch 00025: val_acc improved from 0.71371 to 0.71505, saving model to best_model.h5\n",
            "Epoch 26/30\n",
            "71/71 [==============================] - 20s 288ms/step - loss: 0.6453 - acc: 0.8361 - val_loss: 1.2731 - val_acc: 0.7128\n",
            "\n",
            "Epoch 00026: val_acc did not improve from 0.71505\n",
            "Epoch 00026: early stopping\n"
          ]
        }
      ]
    },
    {
      "cell_type": "markdown",
      "metadata": {
        "id": "fC_sMYYDNGvM"
      },
      "source": [
        "26번째 에포크에서 훈련이 조기 종료되었음"
      ]
    },
    {
      "cell_type": "code",
      "metadata": {
        "colab": {
          "base_uri": "https://localhost:8080/"
        },
        "id": "GrZTrl7hMzrs",
        "outputId": "834a4fdd-caa3-4baf-8e61-0be551cd9f3e"
      },
      "source": [
        "loaded_model = load_model('best_model.h5')\n",
        "print(\"\\n 테스트 정확도: %.4f\" % (loaded_model.evaluate(X_test, y_test)[1]))"
      ],
      "execution_count": null,
      "outputs": [
        {
          "output_type": "stream",
          "name": "stdout",
          "text": [
            "71/71 [==============================] - 2s 25ms/step - loss: 1.2291 - acc: 0.7150\n",
            "\n",
            " 테스트 정확도: 0.7150\n"
          ]
        }
      ]
    },
    {
      "cell_type": "markdown",
      "metadata": {
        "id": "hBYppBZkNGhw"
      },
      "source": [
        "* 케라스의 ```model.fit()```에서 ```validation_data```는 실제 기계가 데이터를 훈련하지는 않고 에포크마다 정확도와 loss를 출력하여 과적합을 판단하기 위한 용도로만 사용되므로, validation_data에서 이미 X_test, y_test를 사용했지만 기계는 아직 이 데이터로 학습한 적이 없는 상태임\n",
        "* 즉 이 모델은 검증 데이터와 테스트 데이터가 동일하고 따라서 가장 높았던 val_acc가 ```model.evaluate()```로 얻는 테스트 데이터에 대한 정확도와 동일함\n",
        "* 데이터가 충분하다면, 검증 데이터와 테스트 데이터는 다르게 사용하는 것이 좋음\n",
        "* ```validation_data``` 대신 ```validation_split=0.2```를 사용하여 검증 데이터와 테스트 데이터에 서로 다른 데이터를 사용하면 다른 결과가 나올 것"
      ]
    },
    {
      "cell_type": "code",
      "metadata": {
        "colab": {
          "base_uri": "https://localhost:8080/",
          "height": 295
        },
        "id": "iBadkZMDM1Uv",
        "outputId": "3098bd5a-996e-4624-ed23-5ae05af7dc5c"
      },
      "source": [
        "epochs = range(1, len(history.history['acc']) + 1)\n",
        "plt.plot(epochs, history.history['loss'])\n",
        "plt.plot(epochs, history.history['val_loss'])\n",
        "plt.title('model loss')\n",
        "plt.ylabel('loss')\n",
        "plt.xlabel('epoch')\n",
        "plt.legend(['train', 'test'], loc='upper left')\n",
        "plt.show()"
      ],
      "execution_count": null,
      "outputs": [
        {
          "output_type": "display_data",
          "data": {
            "image/png": "[encoded data removed]",
            "text/plain": [
              "<Figure size 432x288 with 1 Axes>"
            ]
          },
          "metadata": {
            "needs_background": "light"
          }
        }
      ]
    },
    {
      "cell_type": "markdown",
      "metadata": {
        "id": "uEzHgVR6N2vr"
      },
      "source": [
        "* 검증 데이터의 손실이 줄어드는 경향이 있지만 뒤로 갈수록 점차 검증 데이터의 손실이 증가하려고 하는 경향이 보임\n",
        "* 이는 과적합의 신호일 수 있으므로 주의"
      ]
    },
    {
      "cell_type": "markdown",
      "metadata": {
        "id": "OVtJis5FB8PA"
      },
      "source": [
        "# 3) IMDB Movie Review Sentiment Analysis"
      ]
    },
    {
      "cell_type": "markdown",
      "metadata": {
        "id": "uZt5GAMsCAkI"
      },
      "source": [
        "영화 사이트 IMDB 리뷰 데이터\n",
        " * 리뷰에 대한 텍스트와 해당 리뷰가 긍정인 경우 1을 부정인 경우 0으로 표시한 레이블로 구성된 데이터\n",
        " * 스탠포드 대학교에서 2011년에 낸 논문에서 이 데이터를 소개하였으며, 당시 논문에서는 이 데이터를 훈련 데이터와 테스트 데이터를 50:50대 비율로 분할하여 88.89%의 정확도를 얻었다고 소개하였음 [논문 링크](http://ai.stanford.edu/~amaas/papers/wvSent_acl2011.pdf)\n",
        " * 케라스에서는 해당 IMDB 영화 리뷰 데이터를 ```imdb.load_data()``` 함수를 통해 바로 다운로드 할 수 있도록 지원하고 있음"
      ]
    },
    {
      "cell_type": "markdown",
      "metadata": {
        "id": "2R3OS5tx_Pwo"
      },
      "source": [
        "## 3.1 Data Load & preprocessing"
      ]
    },
    {
      "cell_type": "code",
      "metadata": {
        "id": "iNCvkdEKCAII"
      },
      "source": [
        "import numpy as np\n",
        "import matplotlib.pyplot as plt\n",
        "from tensorflow.keras.datasets import imdb"
      ],
      "execution_count": 1,
      "outputs": []
    },
    {
      "cell_type": "code",
      "metadata": {
        "colab": {
          "base_uri": "https://localhost:8080/"
        },
        "id": "eDj15MWk_ZVA",
        "outputId": "bf263ee7-3d13-4af9-c4e7-b04299fd5618"
      },
      "source": [
        "(X_train, y_train), (X_test, y_test) = imdb.load_data()"
      ],
      "execution_count": 2,
      "outputs": [
        {
          "output_type": "stream",
          "name": "stdout",
          "text": [
            "Downloading data from https://storage.googleapis.com/tensorflow/tf-keras-datasets/imdb.npz\n",
            "17465344/17464789 [==============================] - 0s 0us/step\n",
            "17473536/17464789 [==============================] - 0s 0us/step\n"
          ]
        }
      ]
    },
    {
      "cell_type": "markdown",
      "metadata": {
        "id": "Ld5izGgJ_aHV"
      },
      "source": [
        "* 훈련 데이터와 테스트 데이터를 50:50 비율로 구분해서 제공 (데이터의 비율을 조절하는 파라미터는 ```imdb.load_data```에서는 지원하지 않음)\n",
        "* ```num_classes= ``` 파라미터로 단어 집합 크기 사용 제한 가능"
      ]
    },
    {
      "cell_type": "code",
      "metadata": {
        "colab": {
          "base_uri": "https://localhost:8080/"
        },
        "id": "tuIZRWdo_k2M",
        "outputId": "d8fa7399-00d4-4061-8868-34e9bbd07a52"
      },
      "source": [
        "print('훈련용 리뷰 개수 : {}'.format(len(X_train)))\n",
        "print('테스트용 리뷰 개수 : {}'.format(len(X_test)))\n",
        "num_classes = len(set(y_train))\n",
        "print('카테고리 : {}'.format(num_classes))"
      ],
      "execution_count": 3,
      "outputs": [
        {
          "output_type": "stream",
          "name": "stdout",
          "text": [
            "훈련용 리뷰 개수 : 25000\n",
            "테스트용 리뷰 개수 : 25000\n",
            "카테고리 : 2\n"
          ]
        }
      ]
    },
    {
      "cell_type": "code",
      "metadata": {
        "colab": {
          "base_uri": "https://localhost:8080/"
        },
        "id": "DgN30XPA_uPB",
        "outputId": "c4a7ed70-1e3c-4d4c-e2a9-caaa5924a962"
      },
      "source": [
        "print(X_train[0])\n",
        "print(y_train[0])"
      ],
      "execution_count": 4,
      "outputs": [
        {
          "output_type": "stream",
          "name": "stdout",
          "text": [
            "[1, 14, 22, 16, 43, 530, 973, 1622, 1385, 65, 458, 4468, 66, 3941, 4, 173, 36, 256, 5, 25, 100, 43, 838, 112, 50, 670, 22665, 9, 35, 480, 284, 5, 150, 4, 172, 112, 167, 21631, 336, 385, 39, 4, 172, 4536, 1111, 17, 546, 38, 13, 447, 4, 192, 50, 16, 6, 147, 2025, 19, 14, 22, 4, 1920, 4613, 469, 4, 22, 71, 87, 12, 16, 43, 530, 38, 76, 15, 13, 1247, 4, 22, 17, 515, 17, 12, 16, 626, 18, 19193, 5, 62, 386, 12, 8, 316, 8, 106, 5, 4, 2223, 5244, 16, 480, 66, 3785, 33, 4, 130, 12, 16, 38, 619, 5, 25, 124, 51, 36, 135, 48, 25, 1415, 33, 6, 22, 12, 215, 28, 77, 52, 5, 14, 407, 16, 82, 10311, 8, 4, 107, 117, 5952, 15, 256, 4, 31050, 7, 3766, 5, 723, 36, 71, 43, 530, 476, 26, 400, 317, 46, 7, 4, 12118, 1029, 13, 104, 88, 4, 381, 15, 297, 98, 32, 2071, 56, 26, 141, 6, 194, 7486, 18, 4, 226, 22, 21, 134, 476, 26, 480, 5, 144, 30, 5535, 18, 51, 36, 28, 224, 92, 25, 104, 4, 226, 65, 16, 38, 1334, 88, 12, 16, 283, 5, 16, 4472, 113, 103, 32, 15, 16, 5345, 19, 178, 32]\n",
            "1\n"
          ]
        }
      ]
    },
    {
      "cell_type": "markdown",
      "metadata": {
        "id": "hCDWV598ATjl"
      },
      "source": [
        "* 텍스트 데이터는 토큰화와 정수 인코딩 전처리가 끝난 상태"
      ]
    },
    {
      "cell_type": "code",
      "metadata": {
        "colab": {
          "base_uri": "https://localhost:8080/",
          "height": 301
        },
        "id": "ymq1hHLQAdd9",
        "outputId": "98351c72-877e-46a2-93b8-85a00555ff41"
      },
      "source": [
        "len_result = [len(s) for s in X_train]\n",
        "\n",
        "print('리뷰의 최대 길이 : {}'.format(np.max(len_result)))\n",
        "print('리뷰의 평균 길이 : {}'.format(np.mean(len_result)))\n",
        "\n",
        "plt.subplot(1,2,1)\n",
        "plt.boxplot(len_result)\n",
        "plt.subplot(1,2,2)\n",
        "plt.hist(len_result, bins=50)\n",
        "plt.show()"
      ],
      "execution_count": 5,
      "outputs": [
        {
          "output_type": "stream",
          "name": "stdout",
          "text": [
            "리뷰의 최대 길이 : 2494\n",
            "리뷰의 평균 길이 : 238.71364\n"
          ]
        },
        {
          "output_type": "display_data",
          "data": {
            "image/png": "[encoded data removed]",
            "text/plain": [
              "<Figure size 432x288 with 2 Axes>"
            ]
          },
          "metadata": {
            "needs_background": "light"
          }
        }
      ]
    },
    {
      "cell_type": "code",
      "metadata": {
        "colab": {
          "base_uri": "https://localhost:8080/"
        },
        "id": "Dql7kMmYA1Hl",
        "outputId": "2cd9296a-10e0-4529-984d-c6160363b672"
      },
      "source": [
        "unique_elements, counts_elements = np.unique(y_train, return_counts=True)\n",
        "print(\"각 레이블에 대한 빈도수:\")\n",
        "print(np.asarray((unique_elements, counts_elements)))"
      ],
      "execution_count": 6,
      "outputs": [
        {
          "output_type": "stream",
          "name": "stdout",
          "text": [
            "각 레이블에 대한 빈도수:\n",
            "[[    0     1]\n",
            " [12500 12500]]\n"
          ]
        }
      ]
    },
    {
      "cell_type": "code",
      "metadata": {
        "colab": {
          "base_uri": "https://localhost:8080/"
        },
        "id": "k-kfG4_OA_Sg",
        "outputId": "cb0a1c6e-6344-44be-dae0-f25207439ac4"
      },
      "source": [
        "# 단어-인덱스 사전\n",
        "word_to_index = imdb.get_word_index()"
      ],
      "execution_count": 8,
      "outputs": [
        {
          "output_type": "stream",
          "name": "stdout",
          "text": [
            "Downloading data from https://storage.googleapis.com/tensorflow/tf-keras-datasets/imdb_word_index.json\n",
            "1646592/1641221 [==============================] - 0s 0us/step\n",
            "1654784/1641221 [==============================] - 0s 0us/step\n"
          ]
        }
      ]
    },
    {
      "cell_type": "code",
      "metadata": {
        "id": "iLclz6SuBKnd"
      },
      "source": [
        "# 인덱스-단어 사전\n",
        "index_to_word = {}\n",
        "for index, token in enumerate((\"<pad>\", \"<sos>\", \"<unk>\")):\n",
        "  index_to_word[index] = token\n",
        "  \n",
        "for key, value in word_to_index.items():\n",
        "    index_to_word[value+3] = key"
      ],
      "execution_count": 9,
      "outputs": []
    },
    {
      "cell_type": "markdown",
      "metadata": {
        "id": "nv10nZEhBOMN"
      },
      "source": [
        "* index_to_word에서 0은 패딩을 의미하는 토큰인 pad, 1은 문장의 시작을 의미하는 sos, 2는 OOV를 위한 토큰인 unk라는 특별 토큰에 맵핑되어져야 함.\n",
        "* 따라서 일반 단어들은 인덱스 3부터 시작 (value+3)\n",
        "* 이는 IMDB 리뷰 데이터셋에서 정한 규칙임 "
      ]
    },
    {
      "cell_type": "code",
      "metadata": {
        "colab": {
          "base_uri": "https://localhost:8080/"
        },
        "id": "o46_3sSnBZOX",
        "outputId": "c15bc2b5-5034-472d-b52d-ce91401c426d"
      },
      "source": [
        "print('빈도수 상위 1등 단어 : {}'.format(index_to_word[4]))\n",
        "print('빈도수 상위 3938등 단어 : {}'.format(index_to_word[3941]))"
      ],
      "execution_count": 10,
      "outputs": [
        {
          "output_type": "stream",
          "name": "stdout",
          "text": [
            "빈도수 상위 1등 단어 : the\n",
            "빈도수 상위 3938등 단어 : suited\n"
          ]
        }
      ]
    },
    {
      "cell_type": "code",
      "metadata": {
        "colab": {
          "base_uri": "https://localhost:8080/"
        },
        "id": "Y0dAKK1dBalG",
        "outputId": "43479abb-a6a8-4ae8-ba6f-70b9774119b1"
      },
      "source": [
        "print(' '.join([index_to_word[index] for index in X_train[0]]))"
      ],
      "execution_count": 11,
      "outputs": [
        {
          "output_type": "stream",
          "name": "stdout",
          "text": [
            "<sos> this film was just brilliant casting location scenery story direction everyone's really suited the part they played and you could just imagine being there robert redford's is an amazing actor and now the same being director norman's father came from the same scottish island as myself so i loved the fact there was a real connection with this film the witty remarks throughout the film were great it was just brilliant so much that i bought the film as soon as it was released for retail and would recommend it to everyone to watch and the fly fishing was amazing really cried at the end it was so sad and you know what they say if you cry at a film it must have been good and this definitely was also congratulations to the two little boy's that played the part's of norman and paul they were just brilliant children are often left out of the praising list i think because the stars that play them all grown up are such a big profile for the whole film but these children are amazing and should be praised for what they have done don't you think the whole story was so lovely because it was true and was someone's life after all that was shared with us all\n"
          ]
        }
      ]
    },
    {
      "cell_type": "markdown",
      "metadata": {
        "id": "mSKaAEjeAsi2"
      },
      "source": [
        "## 3.2 Padding"
      ]
    },
    {
      "cell_type": "code",
      "metadata": {
        "id": "Su10VIOmAwuK"
      },
      "source": [
        "from tensorflow.keras.preprocessing.sequence import pad_sequences"
      ],
      "execution_count": 13,
      "outputs": []
    },
    {
      "cell_type": "code",
      "metadata": {
        "id": "h9lDFxMZBhRU"
      },
      "source": [
        "# 단어 집합 생성 (크기 = vocab_size)\n",
        "vocab_size = 10000\n",
        "(X_train, y_train), (X_test, y_test) = imdb.load_data(num_words = vocab_size)"
      ],
      "execution_count": 12,
      "outputs": []
    },
    {
      "cell_type": "code",
      "metadata": {
        "id": "JiJ7ZqltBoTu"
      },
      "source": [
        "# max_len으로 패딩\n",
        "max_len = 500\n",
        "X_train = pad_sequences(X_train, maxlen=max_len)\n",
        "X_test = pad_sequences(X_test, maxlen=max_len)"
      ],
      "execution_count": 14,
      "outputs": []
    },
    {
      "cell_type": "markdown",
      "metadata": {
        "id": "ZNQXGkAIAxLs"
      },
      "source": [
        "## 3.3 Modeling"
      ]
    },
    {
      "cell_type": "code",
      "metadata": {
        "id": "Us-qyVtFAygc"
      },
      "source": [
        "from tensorflow.keras.datasets import imdb\n",
        "from tensorflow.keras.models import Sequential\n",
        "from tensorflow.keras.layers import Dense, GRU, Embedding\n",
        "from tensorflow.keras.callbacks import EarlyStopping, ModelCheckpoint\n",
        "from tensorflow.keras.models import load_model"
      ],
      "execution_count": 15,
      "outputs": []
    },
    {
      "cell_type": "code",
      "metadata": {
        "id": "uF4hr5-DCAwW"
      },
      "source": [
        "embedding_dim = 100\n",
        "hidden_units = 128\n",
        "\n",
        "model = Sequential()\n",
        "model.add(Embedding(vocab_size, embedding_dim))\n",
        "model.add(GRU(hidden_units))\n",
        "model.add(Dense(1, activation=\"sigmoid\"))"
      ],
      "execution_count": 16,
      "outputs": []
    },
    {
      "cell_type": "code",
      "metadata": {
        "colab": {
          "base_uri": "https://localhost:8080/"
        },
        "id": "redJsXKACyYP",
        "outputId": "41c599e5-4700-4afa-ed0f-aac4993b4ec3"
      },
      "source": [
        "model.summary()"
      ],
      "execution_count": 17,
      "outputs": [
        {
          "output_type": "stream",
          "name": "stdout",
          "text": [
            "Model: \"sequential\"\n",
            "_________________________________________________________________\n",
            "Layer (type)                 Output Shape              Param #   \n",
            "=================================================================\n",
            "embedding (Embedding)        (None, None, 100)         1000000   \n",
            "_________________________________________________________________\n",
            "gru (GRU)                    (None, 128)               88320     \n",
            "_________________________________________________________________\n",
            "dense (Dense)                (None, 1)                 129       \n",
            "=================================================================\n",
            "Total params: 1,088,449\n",
            "Trainable params: 1,088,449\n",
            "Non-trainable params: 0\n",
            "_________________________________________________________________\n"
          ]
        }
      ]
    },
    {
      "cell_type": "code",
      "metadata": {
        "id": "KhIGm_HUCzq0"
      },
      "source": [
        "es = EarlyStopping(monitor='val_loss', mode='min', verbose=1, patience=4)\n",
        "mc = ModelCheckpoint('GRU_model.h5', monitor='val_acc', mode='max', verbose=1, save_best_only=True)"
      ],
      "execution_count": 18,
      "outputs": []
    },
    {
      "cell_type": "code",
      "metadata": {
        "colab": {
          "base_uri": "https://localhost:8080/"
        },
        "id": "9MoyEkaADJ4_",
        "outputId": "69a25fed-2d7e-42a1-f952-d73f875cd9f0"
      },
      "source": [
        "model.compile(optimizer='rmsprop', loss='binary_crossentropy', metrics=['acc'])\n",
        "history = model.fit(X_train, y_train, epochs=15, callbacks=[es, mc], batch_size=60, validation_split=0.2)"
      ],
      "execution_count": 20,
      "outputs": [
        {
          "output_type": "stream",
          "name": "stdout",
          "text": [
            "Epoch 1/15\n",
            "334/334 [==============================] - 265s 788ms/step - loss: 0.4968 - acc: 0.7603 - val_loss: 0.4557 - val_acc: 0.7860\n",
            "\n",
            "Epoch 00001: val_acc improved from -inf to 0.78600, saving model to GRU_model.h5\n",
            "Epoch 2/15\n",
            "334/334 [==============================] - 263s 788ms/step - loss: 0.3182 - acc: 0.8748 - val_loss: 0.2935 - val_acc: 0.8810\n",
            "\n",
            "Epoch 00002: val_acc improved from 0.78600 to 0.88100, saving model to GRU_model.h5\n",
            "Epoch 3/15\n",
            "334/334 [==============================] - 264s 790ms/step - loss: 0.2548 - acc: 0.9042 - val_loss: 0.4711 - val_acc: 0.8474\n",
            "\n",
            "Epoch 00003: val_acc did not improve from 0.88100\n",
            "Epoch 4/15\n",
            "334/334 [==============================] - 264s 792ms/step - loss: 0.1940 - acc: 0.9274 - val_loss: 0.2663 - val_acc: 0.8904\n",
            "\n",
            "Epoch 00004: val_acc improved from 0.88100 to 0.89040, saving model to GRU_model.h5\n",
            "Epoch 5/15\n",
            "334/334 [==============================] - 264s 790ms/step - loss: 0.1544 - acc: 0.9442 - val_loss: 0.2552 - val_acc: 0.9020\n",
            "\n",
            "Epoch 00005: val_acc improved from 0.89040 to 0.90200, saving model to GRU_model.h5\n",
            "Epoch 6/15\n",
            "334/334 [==============================] - 265s 794ms/step - loss: 0.1239 - acc: 0.9550 - val_loss: 0.3236 - val_acc: 0.9010\n",
            "\n",
            "Epoch 00006: val_acc did not improve from 0.90200\n",
            "Epoch 7/15\n",
            "334/334 [==============================] - 266s 796ms/step - loss: 0.0946 - acc: 0.9671 - val_loss: 0.2963 - val_acc: 0.8938\n",
            "\n",
            "Epoch 00007: val_acc did not improve from 0.90200\n",
            "Epoch 8/15\n",
            "334/334 [==============================] - 267s 800ms/step - loss: 0.0743 - acc: 0.9750 - val_loss: 0.3719 - val_acc: 0.8960\n",
            "\n",
            "Epoch 00008: val_acc did not improve from 0.90200\n",
            "Epoch 9/15\n",
            "334/334 [==============================] - 267s 799ms/step - loss: 0.0559 - acc: 0.9809 - val_loss: 0.6677 - val_acc: 0.8260\n",
            "\n",
            "Epoch 00009: val_acc did not improve from 0.90200\n",
            "Epoch 00009: early stopping\n"
          ]
        }
      ]
    },
    {
      "cell_type": "code",
      "metadata": {
        "colab": {
          "base_uri": "https://localhost:8080/"
        },
        "id": "gMbq2GSLEGBh",
        "outputId": "738aeaf7-d0f9-47d3-f379-46564b45799f"
      },
      "source": [
        "loaded_model = load_model('GRU_model.h5')\n",
        "print(\"\\n 테스트 정확도: %.4f\" % (loaded_model.evaluate(X_test, y_test)[1]))"
      ],
      "execution_count": 21,
      "outputs": [
        {
          "output_type": "stream",
          "name": "stdout",
          "text": [
            "782/782 [==============================] - 81s 103ms/step - loss: 0.2722 - acc: 0.8961\n",
            "\n",
            " 테스트 정확도: 0.8961\n"
          ]
        }
      ]
    },
    {
      "cell_type": "markdown",
      "metadata": {
        "id": "efGydbWwB7S1"
      },
      "source": [
        "## 3.4 Predict"
      ]
    },
    {
      "cell_type": "markdown",
      "metadata": {
        "id": "rn5zXeGrEbR-"
      },
      "source": [
        "* 임의의 문장에 대해서 리뷰의 긍부정 예측 실험"
      ]
    },
    {
      "cell_type": "code",
      "metadata": {
        "id": "vXmRVjPpRHtB"
      },
      "source": [
        "import re"
      ],
      "execution_count": 26,
      "outputs": []
    },
    {
      "cell_type": "code",
      "metadata": {
        "id": "iEYZCfVCCBPt"
      },
      "source": [
        "def sentiment_predict(loaded_model, new_sentence, word_to_index, max_len):\n",
        "  new_sentence = re.sub('[^0-9a-zA-Z ]', '', new_sentence).lower()\n",
        "\n",
        "  # 정수 인코딩\n",
        "  encoded = []\n",
        "  for word in new_sentence.split():\n",
        "    try :\n",
        "      # 단어 집합의 크기를 10,000으로 제한.\n",
        "      if word_to_index[word] <= 10000:\n",
        "        encoded.append(word_to_index[word]+3)\n",
        "      else:\n",
        "      # 10,000 이상의 숫자는 <unk> 토큰으로 변환.\n",
        "        encoded.append(2)\n",
        "    # 단어 집합에 없는 단어는 <unk> 토큰으로 변환.\n",
        "    except KeyError:\n",
        "      encoded.append(2)\n",
        "\n",
        "  pad_sequence = pad_sequences([encoded], maxlen=max_len) # 패딩\n",
        "  score = float(loaded_model.predict(pad_sequence)) # 예측\n",
        "\n",
        "  if(score > 0.5):\n",
        "    print(\"{:.2f}% 확률로 긍정 리뷰입니다.\".format(score * 100))\n",
        "  else:\n",
        "    print(\"{:.2f}% 확률로 부정 리뷰입니다.\".format((1 - score) * 100))"
      ],
      "execution_count": 27,
      "outputs": []
    },
    {
      "cell_type": "code",
      "metadata": {
        "id": "O3aBxuy1EjBu"
      },
      "source": [
        "# 부정 리뷰 데이터 예시\n",
        "test_input = \"This movie was just way too overrated. The fighting was not professional and in slow motion. I was expecting more from a 200 million budget movie. The little sister of T.Challa was just trying too hard to be funny. The story was really dumb as well. Don't watch this movie if you are going because others say its great unless you are a Black Panther fan or Marvels fan.\""
      ],
      "execution_count": 28,
      "outputs": []
    },
    {
      "cell_type": "code",
      "metadata": {
        "colab": {
          "base_uri": "https://localhost:8080/"
        },
        "id": "NkGJSQ-0EqIP",
        "outputId": "6c27fb05-b282-4292-99cb-c86f54f311ca"
      },
      "source": [
        "sentiment_predict(loaded_model, test_input, word_to_index, max_len)"
      ],
      "execution_count": 29,
      "outputs": [
        {
          "output_type": "stream",
          "name": "stdout",
          "text": [
            "96.87% 확률로 부정 리뷰입니다.\n"
          ]
        }
      ]
    },
    {
      "cell_type": "code",
      "metadata": {
        "id": "qjm2ZgW0ErcO"
      },
      "source": [
        "# 긍정 리뷰 데이터 예시\n",
        "test_input = \" I was lucky enough to be included in the group to see the advanced screening in Melbourne on the 15th of April, 2012. And, firstly, I need to say a big thank-you to Disney and Marvel Studios. \\\n",
        "Now, the film... how can I even begin to explain how I feel about this film? It is, as the title of this review says a 'comic book triumph'. I went into the film with very, very high expectations and I was not disappointed. \\\n",
        "Seeing Joss Whedon's direction and envisioning of the film come to life on the big screen is perfect. The script is amazingly detailed and laced with sharp wit a humor. The special effects are literally mind-blowing and the action scenes are both hard-hitting and beautifully choreographed.\""
      ],
      "execution_count": 30,
      "outputs": []
    },
    {
      "cell_type": "code",
      "metadata": {
        "colab": {
          "base_uri": "https://localhost:8080/"
        },
        "id": "ZXw1DuCAEw7_",
        "outputId": "2af773c5-2aa4-41ef-f52a-4321ec903a9d"
      },
      "source": [
        "sentiment_predict(loaded_model, test_input, word_to_index, max_len)"
      ],
      "execution_count": 32,
      "outputs": [
        {
          "output_type": "stream",
          "name": "stdout",
          "text": [
            "98.51% 확률로 긍정 리뷰입니다.\n"
          ]
        }
      ]
    },
    {
      "cell_type": "markdown",
      "metadata": {
        "id": "YOviItROCK8Y"
      },
      "source": [
        "# 4) Naive Bayes Classifier"
      ]
    },
    {
      "cell_type": "markdown",
      "metadata": {
        "id": "j4PkDRpECN9g"
      },
      "source": [
        "* 텍스트 분류를 위해 전통적으로 사용되는 분류기\n",
        "* 인공 신경망 알고리즘에는 속하지 않지만, 머신 러닝의 주요 알고리즘으로 분류에 있어 준수한 성능을 보여주는 것으로 알려져 있음"
      ]
    },
    {
      "cell_type": "markdown",
      "metadata": {
        "id": "9GcoprSIHunO"
      },
      "source": [
        "## 4.1 Bayes' theorem"
      ]
    },
    {
      "cell_type": "markdown",
      "metadata": {
        "id": "qfq4U9oWHzIR"
      },
      "source": [
        "$P(A|B) = \\frac{P(B|A)P(A)}{P(B)}$\n",
        "\n",
        "* $P(A)$ : A가 일어날 확률\n",
        "* $P(B)$ : B가 일어날 확률\n",
        "* $P(A|B)$ : B가 일어나고나서 A가 일어날 확률\n",
        "* $P(B|A)$ : A가 일어나고나서 B가 일어날 확률\n"
      ]
    },
    {
      "cell_type": "markdown",
      "metadata": {
        "id": "uyZFK37AHy_7"
      },
      "source": [
        "## 4.2 Spam Detection by Bayes' theorem"
      ]
    },
    {
      "cell_type": "markdown",
      "metadata": {
        "id": "Xc0LineFK0T-"
      },
      "source": [
        "베이즈 정리를 이용하여 스팸 메일 필터를 만든다고 하면\n",
        "\n",
        "* __P(정상 메일 | 입력 텍스트) = 입력 텍스트가 있을 때 정상 메일일 확률__\n",
        "* __P(스팸 메일 | 입력 텍스트) = 입력 텍스트가 있을 때 스팸 메일일 확률__\n",
        "\n",
        "위의 확률을 베이즈 정리를 통해 다시 표현하면 \n",
        "\n",
        "* __P(정상 메일 | 입력 텍스트) = (P(입력 텍스트 | 정상 메일) × P(정상 메일)) / P(입력 텍스트)__\n",
        "* __P(스팸 메일 | 입력 텍스트) = (P(입력 텍스트 | 스팸 메일) × P(스팸 메일)) / P(입력 텍스트)__\n",
        "\n",
        "두 식의 분모가 동일하므로 간소화하여 다시 표현하면\n",
        "\n",
        "* __P(정상 메일 | 입력 텍스트) = (P(입력 텍스트 | 정상 메일) × P(정상 메일))__\n",
        "* __P(스팸 메일 | 입력 텍스트) = (P(입력 텍스트 | 스팸 메일) × P(스팸 메일))__\n",
        "\n",
        "나이브 베이즈 분류기는 입력 텍스트 내부의 단어들을 모두 독립적인 단어로 간주하기 때문에 BoW(Bags of Words)와 같이 단어의 순서를 무시하고 오직 단어의 빈도수만을 고려하므로 (텍스트에 단어가 3개라고 가정했을 때)\n",
        "\n",
        "* __P(정상 메일 | 입력 텍스트) = P($w_{1}$| 정상 메일) × P($w_{2}$| 정상 메일) × P($w_{3}$| 정상 메일) × P(정상 메일)__\n",
        "* __P(스팸 메일 | 입력 텍스트) = P($w_{1}$| 스팸 메일) × P($w_{2}$| 스팸 메일) × P($w_{3}$| 스팸 메일) × P(스팸 메일)__"
      ]
    },
    {
      "cell_type": "markdown",
      "metadata": {
        "id": "1p8KExXTNv1_"
      },
      "source": [
        "|-  |\t메일로부터 토큰화 및 정제 된 단어들|분류     |\n",
        "|---|:----------------------------------:|:-------:|\n",
        "|1\t|me free lottery\t                   |스팸 메일|\n",
        "|2\t|free get free you\t                 |스팸 메일|\n",
        "|3\t|you free scholarship\t               |정상 메일|\n",
        "|4\t|free to contact me\t                 |정상 메일|\n",
        "|5\t|you won award\t                     |정상 메일|\n",
        "|6\t|you ticket lottery\t                 |스팸 메일|"
      ]
    },
    {
      "cell_type": "markdown",
      "metadata": {
        "id": "MbjUE_nnOcLI"
      },
      "source": [
        "만약 스팸 메일 데이터가 위와 같을 때, 'you free lottery' 가 정상 메일일 확률과 스팸 메일일 확률을 각각 구하는 식을 작성해보면\n",
        "\n",
        "* __P(정상 메일 | 입력 텍스트) = P(you | 정상 메일) × P(free | 정상 메일) × P(lottery | 정상 메일) × P(정상 메일)__\n",
        "* __P(스팸 메일 | 입력 텍스트) = P(you | 스팸 메일) × P(free | 스팸 메일) × P(lottery | 스팸 메일) × P(스팸 메일)__\n",
        "\n",
        "위 데이터에서 정상메일과 스팸메일은 각각 3개로 계산 상에서 동일한 값이므로 생략할 수 있음\n",
        "\n",
        "* __P(정상 메일 | 입력 텍스트) = P(you | 정상 메일) × P(free | 정상 메일) × P(lottery | 정상 메일)__\n",
        "* __P(스팸 메일 | 입력 텍스트) = P(you | 스팸 메일) × P(free | 스팸 메일) × P(lottery | 스팸 메일)__\n",
        "\n",
        "P(단어| 정상(스팸)메일)은 정상(스팸)메일에 등장한 모든 단어의 빈도 수의 총합을 분모로 하고, 정상(스팸)메일에서 해당 단어가 등장한 총 빈도의 수를 분자로 하여 구할 수 있음\n",
        "\n",
        "* __P(정상 메일 | 입력 텍스트) = 2/10 × 2/10 × 0/10 = 0__\n",
        "* __P(스팸 메일 | 입력 텍스트) = 2/10 × 3/10 × 2/10 = 0.012__\n",
        "\n",
        "결과적으로 P(정상 메일 | 입력 텍스트) < P(스팸 메일 | 입력 텍스트)이므로 입력 텍스트 you free lottery는 스팸 메일로 분류됨"
      ]
    },
    {
      "cell_type": "markdown",
      "metadata": {
        "id": "94sOtI_URSzo"
      },
      "source": [
        "* 그런데 입력 텍스트에 대해서 단 하나의 단어라도 훈련 텍스트에 없었다고 해서 확률 전체가 0이 되는 것은 지나친 일반화임\n",
        "* 이를 방지하기 위해서 나이브 베이즈 분류기에서는 각 단어에 대한 확률의 분모, 분자에 전부 숫자를 더해서 분자가 0이 되는 것을 방지하는 라플라스 스무딩을 사용하기도 함"
      ]
    },
    {
      "cell_type": "markdown",
      "metadata": {
        "id": "vNjHHP_6H7TY"
      },
      "source": [
        "## 4.2 Classification of 20 News Group with Naive Bayes Classifier"
      ]
    },
    {
      "cell_type": "markdown",
      "metadata": {
        "id": "nGy7nHMyRsOD"
      },
      "source": [
        "* 사이킷 런에서는 Twenty Newsgroups이라고 불리는 20개의 다른 주제를 가진 18,846개의 뉴스그룹 데이터를 제공함\n",
        "* 훈련 데이터(11,314개)와 테스트 데이터(7,532개)로 분류되어있음"
      ]
    },
    {
      "cell_type": "markdown",
      "metadata": {
        "id": "EMMVugGYIApg"
      },
      "source": [
        "### 4.2.1 Data load"
      ]
    },
    {
      "cell_type": "code",
      "metadata": {
        "id": "Oih6bNN8SEMc"
      },
      "source": [
        "from sklearn.datasets import fetch_20newsgroups"
      ],
      "execution_count": 33,
      "outputs": []
    },
    {
      "cell_type": "code",
      "metadata": {
        "id": "GurmWaiuCOJw",
        "colab": {
          "base_uri": "https://localhost:8080/"
        },
        "outputId": "0e65cd37-2d4f-4c59-f247-78382ca35cb2"
      },
      "source": [
        "# 훈련 데이터 다운로드\n",
        "newsdata = fetch_20newsgroups(subset='train')\n",
        "print(newsdata.keys())"
      ],
      "execution_count": 34,
      "outputs": [
        {
          "output_type": "stream",
          "name": "stderr",
          "text": [
            "Downloading 20news dataset. This may take a few minutes.\n",
            "Downloading dataset from https://ndownloader.figshare.com/files/5975967 (14 MB)\n"
          ]
        },
        {
          "output_type": "stream",
          "name": "stdout",
          "text": [
            "dict_keys(['data', 'filenames', 'target_names', 'target', 'DESCR'])\n"
          ]
        }
      ]
    },
    {
      "cell_type": "code",
      "metadata": {
        "colab": {
          "base_uri": "https://localhost:8080/"
        },
        "id": "eOnR7_dgSH4z",
        "outputId": "b1feaa5e-d4d7-4f27-9873-f13544bb04bd"
      },
      "source": [
        "print (len(newsdata.data), len(newsdata.filenames), len(newsdata.target_names), len(newsdata.target))"
      ],
      "execution_count": 35,
      "outputs": [
        {
          "output_type": "stream",
          "name": "stdout",
          "text": [
            "11314 11314 20 11314\n"
          ]
        }
      ]
    },
    {
      "cell_type": "markdown",
      "metadata": {
        "id": "gxMStlrYSP2A"
      },
      "source": [
        "* 훈련용 샘플 : 11314개\n",
        "* 카테고리 : 20개"
      ]
    },
    {
      "cell_type": "code",
      "metadata": {
        "colab": {
          "base_uri": "https://localhost:8080/"
        },
        "id": "Zep74kn2SUVM",
        "outputId": "d7860183-2962-499e-9d1a-7aadf8a2f5da"
      },
      "source": [
        "# 카테고리 이름 확인\n",
        "print(newsdata.target_names)"
      ],
      "execution_count": 36,
      "outputs": [
        {
          "output_type": "stream",
          "name": "stdout",
          "text": [
            "['alt.atheism', 'comp.graphics', 'comp.os.ms-windows.misc', 'comp.sys.ibm.pc.hardware', 'comp.sys.mac.hardware', 'comp.windows.x', 'misc.forsale', 'rec.autos', 'rec.motorcycles', 'rec.sport.baseball', 'rec.sport.hockey', 'sci.crypt', 'sci.electronics', 'sci.med', 'sci.space', 'soc.religion.christian', 'talk.politics.guns', 'talk.politics.mideast', 'talk.politics.misc', 'talk.religion.misc']\n"
          ]
        }
      ]
    },
    {
      "cell_type": "code",
      "metadata": {
        "colab": {
          "base_uri": "https://localhost:8080/"
        },
        "id": "JgnmwRzqSWNW",
        "outputId": "fc166e4f-bc25-4f9c-a8b5-d72377407a99"
      },
      "source": [
        "# 데이터 샘플 확인\n",
        "print(newsdata.data[0])"
      ],
      "execution_count": 37,
      "outputs": [
        {
          "output_type": "stream",
          "name": "stdout",
          "text": [
            "From: lerxst@wam.umd.edu (where's my thing)\n",
            "Subject: WHAT car is this!?\n",
            "Nntp-Posting-Host: rac3.wam.umd.edu\n",
            "Organization: University of Maryland, College Park\n",
            "Lines: 15\n",
            "\n",
            " I was wondering if anyone out there could enlighten me on this car I saw\n",
            "the other day. It was a 2-door sports car, looked to be from the late 60s/\n",
            "early 70s. It was called a Bricklin. The doors were really small. In addition,\n",
            "the front bumper was separate from the rest of the body. This is \n",
            "all I know. If anyone can tellme a model name, engine specs, years\n",
            "of production, where this car is made, history, or whatever info you\n",
            "have on this funky looking car, please e-mail.\n",
            "\n",
            "Thanks,\n",
            "- IL\n",
            "   ---- brought to you by your neighborhood Lerxst ----\n",
            "\n",
            "\n",
            "\n",
            "\n",
            "\n"
          ]
        }
      ]
    },
    {
      "cell_type": "markdown",
      "metadata": {
        "id": "q0UkGFwNIGmB"
      },
      "source": [
        "### 4.2.2 Classification"
      ]
    },
    {
      "cell_type": "code",
      "metadata": {
        "id": "-nvUtEC6INWI"
      },
      "source": [
        "from sklearn.feature_extraction.text import CountVectorizer\n",
        "from sklearn.feature_extraction.text import TfidfTransformer\n",
        "from sklearn.naive_bayes import MultinomialNB # 다항분포 나이브 베이즈 모델\n",
        "from sklearn.metrics import accuracy_score # 정확도 계산"
      ],
      "execution_count": 38,
      "outputs": []
    },
    {
      "cell_type": "code",
      "metadata": {
        "colab": {
          "base_uri": "https://localhost:8080/"
        },
        "id": "2TuqEqG9StA_",
        "outputId": "337f1805-aaba-4098-e469-90f146ecff3d"
      },
      "source": [
        "# 입력한 텍스트를 자동으로 BoW로 만들어 DTM을 만들어주는 CountVectorizer를 사용\n",
        "dtmvector = CountVectorizer()\n",
        "X_train_dtm = dtmvector.fit_transform(newsdata.data)\n",
        "print(X_train_dtm.shape)"
      ],
      "execution_count": 39,
      "outputs": [
        {
          "output_type": "stream",
          "name": "stdout",
          "text": [
            "(11314, 130107)\n"
          ]
        }
      ]
    },
    {
      "cell_type": "markdown",
      "metadata": {
        "id": "QlGChJlJTcwI"
      },
      "source": [
        "* 11,314는 훈련용 샘플의 개수이고 DTM 관점에서는 문서의 수, 130,107은 전체 훈련 데이터에 등장한 단어의 수를 의미"
      ]
    },
    {
      "cell_type": "code",
      "metadata": {
        "colab": {
          "base_uri": "https://localhost:8080/"
        },
        "id": "b3MM1wXkSvFv",
        "outputId": "37911fbd-f4c3-4c60-e97a-138b986897b5"
      },
      "source": [
        "# DTM 행렬을 TF-IDF 행렬로 만들어주는 TfidfTransformer를 사용\n",
        "tfidf_transformer = TfidfTransformer()\n",
        "tfidfv = tfidf_transformer.fit_transform(X_train_dtm)\n",
        "print(tfidfv.shape)"
      ],
      "execution_count": 40,
      "outputs": [
        {
          "output_type": "stream",
          "name": "stdout",
          "text": [
            "(11314, 130107)\n"
          ]
        }
      ]
    },
    {
      "cell_type": "markdown",
      "metadata": {
        "id": "-AuztJarT3Vn"
      },
      "source": [
        "*  TF-IDF 행렬이 항상 DTM으로 수행했을 때보다 성능이 뛰어나지는 않음"
      ]
    },
    {
      "cell_type": "code",
      "metadata": {
        "colab": {
          "base_uri": "https://localhost:8080/"
        },
        "id": "ov0JBChjT7XA",
        "outputId": "edd23d5b-bbb6-4666-d1dc-d47b488779b3"
      },
      "source": [
        "# 나이브 베이즈 모델\n",
        "mod = MultinomialNB()\n",
        "mod.fit(tfidfv, newsdata.target)"
      ],
      "execution_count": 41,
      "outputs": [
        {
          "output_type": "execute_result",
          "data": {
            "text/plain": [
              "MultinomialNB(alpha=1.0, class_prior=None, fit_prior=True)"
            ]
          },
          "metadata": {},
          "execution_count": 41
        }
      ]
    },
    {
      "cell_type": "code",
      "metadata": {
        "colab": {
          "base_uri": "https://localhost:8080/"
        },
        "id": "HR3iHK5PUBEj",
        "outputId": "186b6ff8-807f-4adf-b7bc-cbd64caef326"
      },
      "source": [
        "MultinomialNB(alpha=1.0, class_prior=None, fit_prior=True)"
      ],
      "execution_count": 42,
      "outputs": [
        {
          "output_type": "execute_result",
          "data": {
            "text/plain": [
              "MultinomialNB(alpha=1.0, class_prior=None, fit_prior=True)"
            ]
          },
          "metadata": {},
          "execution_count": 42
        }
      ]
    },
    {
      "cell_type": "markdown",
      "metadata": {
        "id": "m0eoQIgHUDmP"
      },
      "source": [
        "* ```alpha=1.0``` : 라플라스 스무딩 적용\n",
        "* ```class_prior=``` : 각 class에 사전 확률 적용\n",
        " * If specified the priors are not adjusted according to the data\n",
        "* ```fit_prior=``` : Whether to learn class prior probabilities or not.\n",
        " * If false, a uniform prior will be used.\n"
      ]
    },
    {
      "cell_type": "code",
      "metadata": {
        "colab": {
          "base_uri": "https://localhost:8080/"
        },
        "id": "5OO_CBaMUJgv",
        "outputId": "ad42e659-fd1f-4bc7-8d2a-aae405e2ceba"
      },
      "source": [
        "# 테스트 데이터 다운로드\n",
        "newsdata_test = fetch_20newsgroups(subset='test', shuffle=True)\n",
        "\n",
        "X_test_dtm = dtmvector.transform(newsdata_test.data) # 테스트 데이터를 DTM으로 변환\n",
        "tfidfv_test = tfidf_transformer.transform(X_test_dtm) # DTM을 TF-IDF 행렬로 변환\n",
        "\n",
        "predicted = mod.predict(tfidfv_test)\n",
        "print(\"정확도:\", accuracy_score(newsdata_test.target, predicted)) # 예측값과 실제값 비교"
      ],
      "execution_count": 43,
      "outputs": [
        {
          "output_type": "stream",
          "name": "stdout",
          "text": [
            "정확도: 0.7738980350504514\n"
          ]
        }
      ]
    }
  ]
}