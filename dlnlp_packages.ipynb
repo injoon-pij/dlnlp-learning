{
  "nbformat": 4,
  "nbformat_minor": 0,
  "metadata": {
    "colab": {
      "name": "dlnlp_packages.ipynb",
      "provenance": [],
      "collapsed_sections": [],
      "toc_visible": true,
      "authorship_tag": "ABX9TyOT36nyNI9jUj8jWB+JDSR5",
      "include_colab_link": true
    },
    "kernelspec": {
      "name": "python3",
      "display_name": "Python 3"
    },
    "language_info": {
      "name": "python"
    }
  },
  "cells": [
    {
      "cell_type": "markdown",
      "metadata": {
        "id": "view-in-github",
        "colab_type": "text"
      },
      "source": [
        "<a href=\"https://colab.research.google.com/github/injoon-pij/dlnlp-learning/blob/main/dlnlp_packages.ipynb\" target=\"_parent\"><img src=\"https://colab.research.google.com/assets/colab-badge.svg\" alt=\"Open In Colab\"/></a>"
      ]
    },
    {
      "cell_type": "markdown",
      "metadata": {
        "id": "pphpXcyq7lKi"
      },
      "source": [
        "# 1) Pandas"
      ]
    },
    {
      "cell_type": "markdown",
      "metadata": {
        "id": "tQ4zSWFwtrAr"
      },
      "source": [
        "* 파이썬 데이터 처리를 위한 라이브러리"
      ]
    },
    {
      "cell_type": "code",
      "metadata": {
        "id": "LfsmKem37d1a"
      },
      "source": [
        "import pandas as pd"
      ],
      "execution_count": null,
      "outputs": []
    },
    {
      "cell_type": "markdown",
      "metadata": {
        "id": "UEsIMn23tvDQ"
      },
      "source": [
        "## 1.1 Series"
      ]
    },
    {
      "cell_type": "markdown",
      "metadata": {
        "id": "I-Mw9Y77uS0l"
      },
      "source": [
        "* 1차원 배열의 값(values)에 각 값에 대응되는 인덱스(index)를 부여"
      ]
    },
    {
      "cell_type": "code",
      "metadata": {
        "colab": {
          "base_uri": "https://localhost:8080/"
        },
        "id": "9H-pO-MdtsPY",
        "outputId": "57e50933-3d65-4843-f2cf-b54140e74ea6"
      },
      "source": [
        "sr = pd.Series([17000, 18000, 1000, 5000],\n",
        "       index=[\"피자\", \"치킨\", \"콜라\", \"맥주\"])\n",
        "print(sr)"
      ],
      "execution_count": null,
      "outputs": [
        {
          "output_type": "stream",
          "name": "stdout",
          "text": [
            "피자    17000\n",
            "치킨    18000\n",
            "콜라     1000\n",
            "맥주     5000\n",
            "dtype: int64\n"
          ]
        }
      ]
    },
    {
      "cell_type": "code",
      "metadata": {
        "colab": {
          "base_uri": "https://localhost:8080/"
        },
        "id": "5OD1kuAgt3dK",
        "outputId": "39889449-8788-41c9-dfc5-0c8290f6e53f"
      },
      "source": [
        "print(sr.values)"
      ],
      "execution_count": null,
      "outputs": [
        {
          "output_type": "stream",
          "name": "stdout",
          "text": [
            "[17000 18000  1000  5000]\n"
          ]
        }
      ]
    },
    {
      "cell_type": "code",
      "metadata": {
        "colab": {
          "base_uri": "https://localhost:8080/"
        },
        "id": "SdgFUYbSt5kn",
        "outputId": "1109ede5-c86b-49c8-be1e-2ef6d54268bf"
      },
      "source": [
        "print(sr.index)"
      ],
      "execution_count": null,
      "outputs": [
        {
          "output_type": "stream",
          "name": "stdout",
          "text": [
            "Index(['피자', '치킨', '콜라', '맥주'], dtype='object')\n"
          ]
        }
      ]
    },
    {
      "cell_type": "markdown",
      "metadata": {
        "id": "iXwGKvBft_g7"
      },
      "source": [
        "## 1.2 DataFrame"
      ]
    },
    {
      "cell_type": "markdown",
      "metadata": {
        "id": "n0mFCNqnuZeW"
      },
      "source": [
        "* 데이터프레임은 2차원 리스트를 매개변수로 전달함. 2차원이므로 행방향 인덱스(index)와 열방향 인덱스(column)가 존재. 시리즈(Series)가 인덱스(index)와 값(values)으로 구성된다면, 데이터프레임은 열(columns)까지 추가되어 열(columns), 인덱스(index), 값(values)으로 구성됨."
      ]
    },
    {
      "cell_type": "code",
      "metadata": {
        "colab": {
          "base_uri": "https://localhost:8080/"
        },
        "id": "QSH080a_uHsz",
        "outputId": "3f4dce20-6405-4f59-ce12-d52cb5ce362e"
      },
      "source": [
        "values = [[1, 2, 3], [4, 5, 6], [7, 8, 9]]\n",
        "index = ['one', 'two', 'three']\n",
        "columns = ['A', 'B', 'C']\n",
        "\n",
        "df = pd.DataFrame(values, index=index, columns=columns)\n",
        "print(df)"
      ],
      "execution_count": null,
      "outputs": [
        {
          "output_type": "stream",
          "name": "stdout",
          "text": [
            "       A  B  C\n",
            "one    1  2  3\n",
            "two    4  5  6\n",
            "three  7  8  9\n"
          ]
        }
      ]
    },
    {
      "cell_type": "code",
      "metadata": {
        "colab": {
          "base_uri": "https://localhost:8080/"
        },
        "id": "wU3RZtimuj7R",
        "outputId": "923a7d58-6fe3-46e5-9de1-b8cd5bf21686"
      },
      "source": [
        "print(df.index) # 인덱스 출력"
      ],
      "execution_count": null,
      "outputs": [
        {
          "output_type": "stream",
          "name": "stdout",
          "text": [
            "Index(['one', 'two', 'three'], dtype='object')\n"
          ]
        }
      ]
    },
    {
      "cell_type": "code",
      "metadata": {
        "colab": {
          "base_uri": "https://localhost:8080/"
        },
        "id": "PP7x7zTguosv",
        "outputId": "32071b95-7ac8-40ac-a17a-dab2b9f533a3"
      },
      "source": [
        "print(df.columns) # 열 출력"
      ],
      "execution_count": null,
      "outputs": [
        {
          "output_type": "stream",
          "name": "stdout",
          "text": [
            "Index(['A', 'B', 'C'], dtype='object')\n"
          ]
        }
      ]
    },
    {
      "cell_type": "code",
      "metadata": {
        "colab": {
          "base_uri": "https://localhost:8080/"
        },
        "id": "w6QGP931usNB",
        "outputId": "ae25dc84-9ac5-46a4-d7b0-12a1b0d0ad6d"
      },
      "source": [
        "print(df.values) # 값 출력"
      ],
      "execution_count": null,
      "outputs": [
        {
          "output_type": "stream",
          "name": "stdout",
          "text": [
            "[[1 2 3]\n",
            " [4 5 6]\n",
            " [7 8 9]]\n"
          ]
        }
      ]
    },
    {
      "cell_type": "markdown",
      "metadata": {
        "id": "2I8piZ3YvaSd"
      },
      "source": [
        "---"
      ]
    },
    {
      "cell_type": "markdown",
      "metadata": {
        "id": "v4aFFZSNvXUm"
      },
      "source": [
        "* 데이터프레임 생성\n",
        "\n",
        " * 데이터프레임은 리스트(List), 시리즈(Series), 딕셔너리(dict), Numpy의 ndarrays, 또 다른 데이터프레임 등으로 생성할 수 있다"
      ]
    },
    {
      "cell_type": "code",
      "metadata": {
        "colab": {
          "base_uri": "https://localhost:8080/"
        },
        "id": "XpQFlqqsvYrj",
        "outputId": "585c60e8-9563-43c9-c678-b4c8a7855d10"
      },
      "source": [
        "# 리스트로 생성하기\n",
        "data = [\n",
        "    ['1000', 'Steve', 90.72], \n",
        "    ['1001', 'James', 78.09], \n",
        "    ['1002', 'Doyeon', 98.43], \n",
        "    ['1003', 'Jane', 64.19], \n",
        "    ['1004', 'Pilwoong', 81.30],\n",
        "    ['1005', 'Tony', 99.14],\n",
        "]\n",
        "df = pd.DataFrame(data)\n",
        "print(df)"
      ],
      "execution_count": null,
      "outputs": [
        {
          "output_type": "stream",
          "name": "stdout",
          "text": [
            "      0         1      2\n",
            "0  1000     Steve  90.72\n",
            "1  1001     James  78.09\n",
            "2  1002    Doyeon  98.43\n",
            "3  1003      Jane  64.19\n",
            "4  1004  Pilwoong  81.30\n",
            "5  1005      Tony  99.14\n"
          ]
        }
      ]
    },
    {
      "cell_type": "code",
      "metadata": {
        "colab": {
          "base_uri": "https://localhost:8080/"
        },
        "id": "O7BupcKCvwyQ",
        "outputId": "5be7f56a-7b37-4522-d3de-38e1492fba73"
      },
      "source": [
        "# 생성된 데이터프레임에 열(columns)을 지정\n",
        "df = pd.DataFrame(data, columns=['학번', '이름', '점수'])\n",
        "print(df)"
      ],
      "execution_count": null,
      "outputs": [
        {
          "output_type": "stream",
          "name": "stdout",
          "text": [
            "     학번        이름     점수\n",
            "0  1000     Steve  90.72\n",
            "1  1001     James  78.09\n",
            "2  1002    Doyeon  98.43\n",
            "3  1003      Jane  64.19\n",
            "4  1004  Pilwoong  81.30\n",
            "5  1005      Tony  99.14\n"
          ]
        }
      ]
    },
    {
      "cell_type": "code",
      "metadata": {
        "colab": {
          "base_uri": "https://localhost:8080/"
        },
        "id": "gAZjtuWyv7aB",
        "outputId": "331d55e4-1296-4eab-957f-cb8c32f5e8bb"
      },
      "source": [
        "# 딕셔너리로 생성하기\n",
        "data = { '학번' : ['1000', '1001', '1002', '1003', '1004', '1005'],\n",
        "'이름' : [ 'Steve', 'James', 'Doyeon', 'Jane', 'Pilwoong', 'Tony'],\n",
        "         '점수': [90.72, 78.09, 98.43, 64.19, 81.30, 99.14]}\n",
        "\n",
        "df = pd.DataFrame(data)\n",
        "print(df)"
      ],
      "execution_count": null,
      "outputs": [
        {
          "output_type": "stream",
          "name": "stdout",
          "text": [
            "     학번        이름     점수\n",
            "0  1000     Steve  90.72\n",
            "1  1001     James  78.09\n",
            "2  1002    Doyeon  98.43\n",
            "3  1003      Jane  64.19\n",
            "4  1004  Pilwoong  81.30\n",
            "5  1005      Tony  99.14\n"
          ]
        }
      ]
    },
    {
      "cell_type": "markdown",
      "metadata": {
        "id": "adDiXfj0wArz"
      },
      "source": [
        "---"
      ]
    },
    {
      "cell_type": "markdown",
      "metadata": {
        "id": "QG5M9755wBj7"
      },
      "source": [
        "* 데이터프레임 조회\n",
        "\n",
        " * df.head(n) - 앞 부분을 n개만 보기\n",
        " * df.tail(n) - 뒷 부분을 n개만 보기\n",
        " * df['열이름'] - 해당되는 열을 확인"
      ]
    },
    {
      "cell_type": "code",
      "metadata": {
        "colab": {
          "base_uri": "https://localhost:8080/"
        },
        "id": "trcFygQ3wEbn",
        "outputId": "e3371cfd-d195-4e83-c0da-2cc1b9e5c229"
      },
      "source": [
        "print(df.head(3)) # 앞 부분을 3개만 보기"
      ],
      "execution_count": null,
      "outputs": [
        {
          "output_type": "stream",
          "name": "stdout",
          "text": [
            "     학번      이름     점수\n",
            "0  1000   Steve  90.72\n",
            "1  1001   James  78.09\n",
            "2  1002  Doyeon  98.43\n"
          ]
        }
      ]
    },
    {
      "cell_type": "code",
      "metadata": {
        "colab": {
          "base_uri": "https://localhost:8080/"
        },
        "id": "-6Nc7vlVwQz3",
        "outputId": "33e04323-2949-411a-fe32-fe7ba813344f"
      },
      "source": [
        "print(df.tail(3)) # 뒷 부분을 3개만 보기"
      ],
      "execution_count": null,
      "outputs": [
        {
          "output_type": "stream",
          "name": "stdout",
          "text": [
            "     학번        이름     점수\n",
            "3  1003      Jane  64.19\n",
            "4  1004  Pilwoong  81.30\n",
            "5  1005      Tony  99.14\n"
          ]
        }
      ]
    },
    {
      "cell_type": "code",
      "metadata": {
        "colab": {
          "base_uri": "https://localhost:8080/"
        },
        "id": "71PPI40uwbJq",
        "outputId": "cf9881df-dcfa-4fd6-eb43-3d5fe30cc4a4"
      },
      "source": [
        "print(df['학번']) # '학번'에 해당되는 열을 보기"
      ],
      "execution_count": null,
      "outputs": [
        {
          "output_type": "stream",
          "name": "stdout",
          "text": [
            "0    1000\n",
            "1    1001\n",
            "2    1002\n",
            "3    1003\n",
            "4    1004\n",
            "5    1005\n",
            "Name: 학번, dtype: object\n"
          ]
        }
      ]
    },
    {
      "cell_type": "markdown",
      "metadata": {
        "id": "N04dzC_-whdZ"
      },
      "source": [
        "## 1.3 Read data"
      ]
    },
    {
      "cell_type": "markdown",
      "metadata": {
        "id": "JWqU3dTTxnJ4"
      },
      "source": [
        "* CSV, 텍스트, Excel, SQL, HTML, JSON 등 다양한 데이터 파일을 읽고 데이터 프레임을 생성\n",
        "\n",
        " * 예를 들어 csv 파일을 읽을 때는 pandas.read_csv()"
      ]
    },
    {
      "cell_type": "code",
      "metadata": {
        "colab": {
          "base_uri": "https://localhost:8080/"
        },
        "id": "CJAEAd91xZBy",
        "outputId": "65b1930f-973d-44a9-96db-f2145a8518c8"
      },
      "source": [
        "df=pd.read_csv('./example.csv') # example.csv 파일 읽기\n",
        "print(df)"
      ],
      "execution_count": null,
      "outputs": [
        {
          "output_type": "stream",
          "name": "stdout",
          "text": [
            "   student id      name  score\n",
            "0        1000     Steve  90.72\n",
            "1        1001     James  78.09\n",
            "2        1002    Doyeon  98.43\n",
            "3        1003      Jane  64.19\n",
            "4        1004  Pilwoong  81.30\n",
            "5        1005      Tony  99.14\n"
          ]
        }
      ]
    },
    {
      "cell_type": "code",
      "metadata": {
        "colab": {
          "base_uri": "https://localhost:8080/"
        },
        "id": "C8a568l-xhQ3",
        "outputId": "406a01ce-506f-4699-f0be-a49851f6235e"
      },
      "source": [
        "# 인덱스가 자동으로 부여되었음\n",
        "print(df.index)"
      ],
      "execution_count": null,
      "outputs": [
        {
          "output_type": "stream",
          "name": "stdout",
          "text": [
            "RangeIndex(start=0, stop=6, step=1)\n"
          ]
        }
      ]
    },
    {
      "cell_type": "markdown",
      "metadata": {
        "id": "sb5CoXS27pHR"
      },
      "source": [
        "# 2) Numpy"
      ]
    },
    {
      "cell_type": "markdown",
      "metadata": {
        "id": "QhIfn_7bx3wh"
      },
      "source": [
        "* 수치 데이터를 다루는 파이썬 패키지\n",
        "* Numpy의 다차원 행렬 자료구조인 ndarray를 통해 벡터 및 행렬을 사용하는 선형 대수 계산에서 주로 사용됨. Numpy는 편의성뿐만 아니라, 속도 면에서도 순수 파이썬에 비해 압도적으로 빠르다는 장점이 있음.\n",
        "* Numpy의 주요 모듈\n",
        "1. np.array() # 리스트, 튜플, 배열로 부터 ndarray를 생성\n",
        "2. np.asarray() # 기존의 array로 부터 ndarray를 생성\n",
        "3. np.arange() # range와 비슷\n",
        "4. np.linspace(start, end, num) # [start, end] 균일한 간격으로 num개 생성\n",
        "5. np.logspace(start, end, num) # [start, end] log scale 간격으로 num개 생성"
      ]
    },
    {
      "cell_type": "code",
      "metadata": {
        "id": "-bEE6Jdc7qiV"
      },
      "source": [
        "import numpy as np"
      ],
      "execution_count": null,
      "outputs": []
    },
    {
      "cell_type": "markdown",
      "metadata": {
        "id": "YJRy7Q8Y1Xl2"
      },
      "source": [
        "## 2.1 np.array()"
      ]
    },
    {
      "cell_type": "markdown",
      "metadata": {
        "id": "PqqFPag21pj4"
      },
      "source": [
        "* np.array()는 리스트, 튜플, 배열로 부터 ndarray를 생성"
      ]
    },
    {
      "cell_type": "code",
      "metadata": {
        "colab": {
          "base_uri": "https://localhost:8080/"
        },
        "id": "_ZJN45QO1E7S",
        "outputId": "faeffe8f-b314-4197-da85-2bfd9b465511"
      },
      "source": [
        "# 리스트를 가지고 1차원 배열 생성\n",
        "a = np.array([1, 2, 3, 4, 5])\n",
        "print(type(a))\n",
        "print(a)"
      ],
      "execution_count": null,
      "outputs": [
        {
          "output_type": "stream",
          "name": "stdout",
          "text": [
            "<class 'numpy.ndarray'>\n",
            "[1 2 3 4 5]\n"
          ]
        }
      ]
    },
    {
      "cell_type": "code",
      "metadata": {
        "colab": {
          "base_uri": "https://localhost:8080/"
        },
        "id": "VlbKgHni1wXn",
        "outputId": "1cd5b669-09be-4dc2-c93d-a35cef4e498a"
      },
      "source": [
        "b = np.array([[10, 20, 30], [ 60, 70, 80]]) \n",
        "print(b)\n",
        "print(a.ndim) # 차원\n",
        "print(a.shape) # 크기"
      ],
      "execution_count": null,
      "outputs": [
        {
          "output_type": "stream",
          "name": "stdout",
          "text": [
            "[[10 20 30]\n",
            " [60 70 80]]\n",
            "1\n",
            "(5,)\n"
          ]
        }
      ]
    },
    {
      "cell_type": "markdown",
      "metadata": {
        "id": "GFA58eP72E7Q"
      },
      "source": [
        "* 위에서는 리스트를 가지고 ndarray를 생성했지만, 그 외에도 여러 방법이 존재함."
      ]
    },
    {
      "cell_type": "code",
      "metadata": {
        "colab": {
          "base_uri": "https://localhost:8080/"
        },
        "id": "ddzc7oIt2i5E",
        "outputId": "6b6dc15c-af11-433a-ee06-6b52264f7932"
      },
      "source": [
        "# 모든값이 0 인 배열 생성\n",
        "a = np.zeros((2,3))\n",
        "print(a)"
      ],
      "execution_count": null,
      "outputs": [
        {
          "output_type": "stream",
          "name": "stdout",
          "text": [
            "[[0. 0. 0.]\n",
            " [0. 0. 0.]]\n"
          ]
        }
      ]
    },
    {
      "cell_type": "code",
      "metadata": {
        "colab": {
          "base_uri": "https://localhost:8080/"
        },
        "id": "YK87GRXZ2on-",
        "outputId": "63e1ff47-6991-4075-8185-1859467c5e7d"
      },
      "source": [
        "# 모든값이 1 인 배열 생성\n",
        "a = np.ones((2,3))\n",
        "print(a)"
      ],
      "execution_count": null,
      "outputs": [
        {
          "output_type": "stream",
          "name": "stdout",
          "text": [
            "[[1. 1. 1.]\n",
            " [1. 1. 1.]]\n"
          ]
        }
      ]
    },
    {
      "cell_type": "code",
      "metadata": {
        "colab": {
          "base_uri": "https://localhost:8080/"
        },
        "id": "IemDKxgN2vWR",
        "outputId": "bbdabe5c-3b8e-4b97-a0a5-ae6cde3acb38"
      },
      "source": [
        "# 모든 값이 특정 상수인 배열 생성\n",
        "a = np.full((2,2), 7)\n",
        "print(a)"
      ],
      "execution_count": null,
      "outputs": [
        {
          "output_type": "stream",
          "name": "stdout",
          "text": [
            "[[7 7]\n",
            " [7 7]]\n"
          ]
        }
      ]
    },
    {
      "cell_type": "code",
      "metadata": {
        "colab": {
          "base_uri": "https://localhost:8080/"
        },
        "id": "TcTfPjIo204G",
        "outputId": "d6e52c8c-dbf1-45b2-c0ee-17d46f9eeb7e"
      },
      "source": [
        "# 대각행렬 생성\n",
        "a = np.eye(3)\n",
        "print(a)"
      ],
      "execution_count": null,
      "outputs": [
        {
          "output_type": "stream",
          "name": "stdout",
          "text": [
            "[[1. 0. 0.]\n",
            " [0. 1. 0.]\n",
            " [0. 0. 1.]]\n"
          ]
        }
      ]
    },
    {
      "cell_type": "code",
      "metadata": {
        "colab": {
          "base_uri": "https://localhost:8080/"
        },
        "id": "LSjhK7uh3AQ5",
        "outputId": "9f434c18-2b9a-4972-9d69-84b9229da2dd"
      },
      "source": [
        "# 임의의 값으로 채워진 배열 생성\n",
        "a = np.random.random((2,2))\n",
        "print(a)"
      ],
      "execution_count": null,
      "outputs": [
        {
          "output_type": "stream",
          "name": "stdout",
          "text": [
            "[[0.25388082 0.25824826]\n",
            " [0.56239764 0.14398001]]\n"
          ]
        }
      ]
    },
    {
      "cell_type": "markdown",
      "metadata": {
        "id": "A4rV5Zhi3D34"
      },
      "source": [
        "## 2.2 np.arrange()"
      ]
    },
    {
      "cell_type": "markdown",
      "metadata": {
        "id": "T0-WZPmz3MBu"
      },
      "source": [
        "* np.arange()는 지정해준 범위에 대해서 배열을 생성\n",
        "\n",
        " * numpy.arange(start, stop, step, dtype)\n",
        "   * a = np.arange(n) : 0, ..., n-1까지 범위의 지정\n",
        "   * a = np.arange(i, j, k) : i부터 j-1까지 k씩 증가하는 배열"
      ]
    },
    {
      "cell_type": "code",
      "metadata": {
        "colab": {
          "base_uri": "https://localhost:8080/"
        },
        "id": "o-cyPRZ93GSe",
        "outputId": "5d1506e3-2364-4c94-908c-6d50520cc072"
      },
      "source": [
        "a = np.arange(10)\n",
        "print(a)"
      ],
      "execution_count": null,
      "outputs": [
        {
          "output_type": "stream",
          "name": "stdout",
          "text": [
            "[0 1 2 3 4 5 6 7 8 9]\n"
          ]
        }
      ]
    },
    {
      "cell_type": "code",
      "metadata": {
        "colab": {
          "base_uri": "https://localhost:8080/"
        },
        "id": "TzgczPmS3bup",
        "outputId": "f22fdc09-ff89-40fb-e434-534423fda2fb"
      },
      "source": [
        "a = np.arange(1, 10, 2)\n",
        "print(a)"
      ],
      "execution_count": null,
      "outputs": [
        {
          "output_type": "stream",
          "name": "stdout",
          "text": [
            "[1 3 5 7 9]\n"
          ]
        }
      ]
    },
    {
      "cell_type": "markdown",
      "metadata": {
        "id": "1Lvog1oo3fRn"
      },
      "source": [
        "## 2.3 reshape()"
      ]
    },
    {
      "cell_type": "code",
      "metadata": {
        "colab": {
          "base_uri": "https://localhost:8080/"
        },
        "id": "d8mV8gtn3hn4",
        "outputId": "47d85e15-12d5-440c-e44a-df0f0cbd4823"
      },
      "source": [
        "a = np.array(np.arange(30)).reshape((5,6))\n",
        "print(a)"
      ],
      "execution_count": null,
      "outputs": [
        {
          "output_type": "stream",
          "name": "stdout",
          "text": [
            "[[ 0  1  2  3  4  5]\n",
            " [ 6  7  8  9 10 11]\n",
            " [12 13 14 15 16 17]\n",
            " [18 19 20 21 22 23]\n",
            " [24 25 26 27 28 29]]\n"
          ]
        }
      ]
    },
    {
      "cell_type": "markdown",
      "metadata": {
        "id": "RAI5kWkVUqUm"
      },
      "source": [
        "## 2.4 Slicing / Indexing"
      ]
    },
    {
      "cell_type": "code",
      "metadata": {
        "colab": {
          "base_uri": "https://localhost:8080/"
        },
        "id": "hkGnC-cjUxIH",
        "outputId": "173ac15e-fd0a-4e25-fc47-1d34fe2feac8"
      },
      "source": [
        "# slicing\n",
        "a = np.array([[1, 2, 3], \n",
        "              [4, 5, 6]])\n",
        "b = a[0:2, 0:2]\n",
        "print(b)"
      ],
      "execution_count": null,
      "outputs": [
        {
          "output_type": "stream",
          "name": "stdout",
          "text": [
            "[[1 2]\n",
            " [4 5]]\n"
          ]
        }
      ]
    },
    {
      "cell_type": "code",
      "metadata": {
        "colab": {
          "base_uri": "https://localhost:8080/"
        },
        "id": "duxYfXvOV5mG",
        "outputId": "0cb02a78-f057-4c7b-e8d2-443f33add374"
      },
      "source": [
        "b = a[0, :]\n",
        "print(b)"
      ],
      "execution_count": null,
      "outputs": [
        {
          "output_type": "stream",
          "name": "stdout",
          "text": [
            "[1 2 3]\n"
          ]
        }
      ]
    },
    {
      "cell_type": "code",
      "metadata": {
        "colab": {
          "base_uri": "https://localhost:8080/"
        },
        "id": "9UGPe8DQV8Nt",
        "outputId": "6dd4944d-9c89-4f74-fe6c-31166f51b239"
      },
      "source": [
        "b = a[:, 1]\n",
        "print(b)"
      ],
      "execution_count": null,
      "outputs": [
        {
          "output_type": "stream",
          "name": "stdout",
          "text": [
            "[2 5]\n"
          ]
        }
      ]
    },
    {
      "cell_type": "code",
      "metadata": {
        "colab": {
          "base_uri": "https://localhost:8080/"
        },
        "id": "kg0odUsiXA0Q",
        "outputId": "b315f6dc-3bb2-4ebc-a26d-7d99008ba036"
      },
      "source": [
        "# Integer Indexing\n",
        "a = np.array([[1,2], \n",
        "              [4,5], \n",
        "              [7,8]])\n",
        "b = a[[2, 1],[0, 0]]\n",
        "print(b)"
      ],
      "execution_count": null,
      "outputs": [
        {
          "output_type": "stream",
          "name": "stdout",
          "text": [
            "[7 4]\n"
          ]
        }
      ]
    },
    {
      "cell_type": "markdown",
      "metadata": {
        "id": "pWUqUxe8YFZ3"
      },
      "source": [
        "## 2.5 Numpy Operation"
      ]
    },
    {
      "cell_type": "code",
      "metadata": {
        "colab": {
          "base_uri": "https://localhost:8080/"
        },
        "id": "jCMjB8b3YIeC",
        "outputId": "6d678c08-4063-465f-eb5f-6fa064df3d95"
      },
      "source": [
        "x = np.array([1,2,3])\n",
        "y = np.array([4,5,6])\n",
        "\n",
        "# b = np.add(x, y)\n",
        "b = x + y\n",
        "print(b)"
      ],
      "execution_count": null,
      "outputs": [
        {
          "output_type": "stream",
          "name": "stdout",
          "text": [
            "[5 7 9]\n"
          ]
        }
      ]
    },
    {
      "cell_type": "code",
      "metadata": {
        "colab": {
          "base_uri": "https://localhost:8080/"
        },
        "id": "giTJdYy9ZxZj",
        "outputId": "0e5ff307-4ead-4218-f955-d284bd74a962"
      },
      "source": [
        "# b = np.subtract(x, y)\n",
        "b = x - y\n",
        "print(b)"
      ],
      "execution_count": null,
      "outputs": [
        {
          "output_type": "stream",
          "name": "stdout",
          "text": [
            "[-3 -3 -3]\n"
          ]
        }
      ]
    },
    {
      "cell_type": "code",
      "metadata": {
        "colab": {
          "base_uri": "https://localhost:8080/"
        },
        "id": "g8c2YeDMZ-ZL",
        "outputId": "a114d6fb-60cc-4d9f-dd11-859581cfaad1"
      },
      "source": [
        "# b = np.multiply(b, x)\n",
        "b = b * x\n",
        "print(b)"
      ],
      "execution_count": null,
      "outputs": [
        {
          "output_type": "stream",
          "name": "stdout",
          "text": [
            "[-3 -6 -9]\n"
          ]
        }
      ]
    },
    {
      "cell_type": "code",
      "metadata": {
        "colab": {
          "base_uri": "https://localhost:8080/"
        },
        "id": "cl4tdAQjaCSD",
        "outputId": "f1a4b324-921c-443e-e1a5-8541aa418ce7"
      },
      "source": [
        "# b = np.divide(b, x)\n",
        "b = b / x \n",
        "print(b)"
      ],
      "execution_count": null,
      "outputs": [
        {
          "output_type": "stream",
          "name": "stdout",
          "text": [
            "[-3. -3. -3.]\n"
          ]
        }
      ]
    },
    {
      "cell_type": "code",
      "metadata": {
        "colab": {
          "base_uri": "https://localhost:8080/"
        },
        "id": "OXZxDmtVaKp-",
        "outputId": "e4b564aa-5ac0-4112-f26e-9cc080b618b7"
      },
      "source": [
        "# 행렬곱 (np.dot())\n",
        "a = np.array([[1,2],[3,4]])\n",
        "b = np.array([[5,6],[7,8]])\n",
        "\n",
        "c = np.dot(a, b)\n",
        "print(c)"
      ],
      "execution_count": null,
      "outputs": [
        {
          "output_type": "stream",
          "name": "stdout",
          "text": [
            "[[19 22]\n",
            " [43 50]]\n"
          ]
        }
      ]
    },
    {
      "cell_type": "markdown",
      "metadata": {
        "id": "89vYbpHA7rFx"
      },
      "source": [
        "# 3) Matplotlib"
      ]
    },
    {
      "cell_type": "markdown",
      "metadata": {
        "id": "esxkcsAZaXwk"
      },
      "source": [
        "* 데이터를 차트나 플롯으로 시각화하는 패키지\n",
        "* jupyter notebook으로 matplotlib을 실습하기 위해서는 jupyter notebook에 그림을 표시하도록 지정하는 ```%matplotlib inline``` 을 먼저 입력해야 함"
      ]
    },
    {
      "cell_type": "code",
      "metadata": {
        "id": "aBB2gOm57tVB"
      },
      "source": [
        "%matplotlib inline\n",
        "import matplotlib.pyplot as plt"
      ],
      "execution_count": null,
      "outputs": []
    },
    {
      "cell_type": "markdown",
      "metadata": {
        "id": "S-zQ59rebOMt"
      },
      "source": [
        "## 3.1 plot()"
      ]
    },
    {
      "cell_type": "markdown",
      "metadata": {
        "id": "8rKpHQnRa-_S"
      },
      "source": [
        "* 라인 플롯을 그리는 기능을 수행함\n",
        "\n",
        "* jupyter notebook에서는 show()를 사용하지 않더라도 그래프가 자동으로 렌더링되어 시각화가 됨."
      ]
    },
    {
      "cell_type": "code",
      "metadata": {
        "colab": {
          "base_uri": "https://localhost:8080/",
          "height": 281
        },
        "id": "0aAOUxdtavxL",
        "outputId": "816957a8-8118-4edd-8c49-d70999667da9"
      },
      "source": [
        "plt.title('test') # 그래프 제목 지정\n",
        "plt.plot([1,2,3,4],[2,4,8,6]) # X축 데이터, Y축 데이터 입력\n",
        "plt.show() # 시각화"
      ],
      "execution_count": null,
      "outputs": [
        {
          "output_type": "display_data",
          "data": {
            "image/png": "[encoded data removed]",
            "text/plain": [
              "<Figure size 432x288 with 1 Axes>"
            ]
          },
          "metadata": {
            "needs_background": "light"
          }
        }
      ]
    },
    {
      "cell_type": "code",
      "metadata": {
        "colab": {
          "base_uri": "https://localhost:8080/",
          "height": 295
        },
        "id": "yMZwHDHCb5bA",
        "outputId": "c20c03ba-787d-43c3-b3bc-99ac072162f0"
      },
      "source": [
        "plt.title('test')\n",
        "plt.plot([1,2,3,4],[2,4,8,6])\n",
        "plt.xlabel('hours') # X축 레이블 이름 지정\n",
        "plt.ylabel('score') # Y축 레이블 이름 지정\n",
        "plt.show()"
      ],
      "execution_count": null,
      "outputs": [
        {
          "output_type": "display_data",
          "data": {
            "image/png": "[encoded data removed]",
            "text/plain": [
              "<Figure size 432x288 with 1 Axes>"
            ]
          },
          "metadata": {
            "needs_background": "light"
          }
        }
      ]
    },
    {
      "cell_type": "markdown",
      "metadata": {
        "id": "UQqx_1U9cK8Y"
      },
      "source": [
        "하나의 plot()뿐만 아니라 여러개의 plot()을 사용하여 하나의 그래프에 나타낼 수 있음. 여러개의 라인 플롯을 동시에 사용할 경우에는 각 선이 어떤 데이터를 나타내는지를 보여주기 위해 범례(legend)를 사용할 수 있음."
      ]
    },
    {
      "cell_type": "code",
      "metadata": {
        "colab": {
          "base_uri": "https://localhost:8080/",
          "height": 295
        },
        "id": "lTFGQ11VcLXa",
        "outputId": "648e1318-e5f1-42a2-b8c3-40f450101310"
      },
      "source": [
        "plt.title('students')\n",
        "plt.plot([1,2,3,4],[2,4,8,6])\n",
        "plt.plot([1.5,2.5,3.5,4.5],[3,5,8,10]) # 새 라인 추가\n",
        "plt.xlabel('hours')\n",
        "plt.ylabel('score')\n",
        "plt.legend(['A student', 'B student']) # 범례 삽입\n",
        "plt.show()"
      ],
      "execution_count": null,
      "outputs": [
        {
          "output_type": "display_data",
          "data": {
            "image/png": "[encoded data removed]",
            "text/plain": [
              "<Figure size 432x288 with 1 Axes>"
            ]
          },
          "metadata": {
            "needs_background": "light"
          }
        }
      ]
    },
    {
      "cell_type": "markdown",
      "metadata": {
        "id": "gADHw8VlnX5Q"
      },
      "source": [
        "#4) Pandas Profiling"
      ]
    },
    {
      "cell_type": "markdown",
      "metadata": {
        "id": "1bGaWqauce6G"
      },
      "source": [
        "좋은 머신 러닝 결과를 얻기 위해서는 데이터의 성격을 파악하는 과정이 선행되어야 한다. 이 과정에서 데이터 내 값의 분포, 변수 간의 관계, Null 값과 같은 결측값(missing values) 존재 유무 등을 파악하게 되는데 이와 같이 데이터를 파악하는 과정을 __EDA(Exploratory Data Analysis, 탐색적 데이터 분석)__이라고 한다. \n",
        "\n",
        "__pandas-profiling__ : 방대한 양의 데이터를 가진 데이터프레임을 탐색하는 것을 도와주는 패키지"
      ]
    },
    {
      "cell_type": "code",
      "metadata": {
        "id": "g5uwazEPnaOa"
      },
      "source": [
        "import pandas as pd\n",
        "import pandas_profiling\n",
        "data = pd.read_csv('./spam.csv',encoding='latin1')"
      ],
      "execution_count": null,
      "outputs": []
    },
    {
      "cell_type": "code",
      "metadata": {
        "id": "l6QMVFfeelwG"
      },
      "source": [
        "# 리포트 생성\n",
        "pr = data.profile_report()\n",
        "pr.to_file('./pr_report.html')"
      ],
      "execution_count": null,
      "outputs": []
    },
    {
      "cell_type": "code",
      "metadata": {
        "id": "1tpnt_h5exiX"
      },
      "source": [
        "pr"
      ],
      "execution_count": null,
      "outputs": []
    },
    {
      "cell_type": "markdown",
      "metadata": {
        "id": "985WiaXKe-hY"
      },
      "source": [
        "## 4.1 Overview"
      ]
    },
    {
      "cell_type": "markdown",
      "metadata": {
        "id": "6exHo2LsfDSN"
      },
      "source": [
        "* Overview는 데이터의 전체적인 개요를 보여줌. 데이터의 크기, 변수의 수, 결측값(missing value) 비율, 데이터의 종류는 어떤 것이 있는지를 볼 수 있음."
      ]
    },
    {
      "cell_type": "markdown",
      "metadata": {
        "id": "t6d6OR47fKOl"
      },
      "source": [
        "![image.png](data:image/png;base64,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)"
      ]
    },
    {
      "cell_type": "markdown",
      "metadata": {
        "id": "y7akchD3fNuE"
      },
      "source": [
        "* Dataset info\n",
        " * 해당 데이터는 총 5,572개의 샘플을 가지고 있으며, 5개의 변수를 가지고 있음.\n",
        " * 총 5,572 × 5개의 셀이 존재하지만 그 중 16,648개(59.8%)가 결측값(missing values)\n",
        "\n",
        "* Warnings\n",
        " * 결측값들은 Unnamed라는 3개의 column에 존재. 3개의 column 모두는 99% 이상이 결측값을 갖고 있어 데이터에서 별다른 의미를 갖지 못함. \n",
        " * 메일의 본문이 담긴 v2 column은 총 5,169개의 중복되지 않은 값(distinct value)을 갖고있음. 즉, 403개의 셀은 중복된 데이터를 가짐"
      ]
    },
    {
      "cell_type": "markdown",
      "metadata": {
        "id": "AA_bWei8ipmC"
      },
      "source": [
        "## 4.2 Variables"
      ]
    },
    {
      "cell_type": "markdown",
      "metadata": {
        "id": "uDcbcyUrisO_"
      },
      "source": [
        "* Variables는 데이터에 존재하는 모든 특성 변수들에 대한 결측값, 중복을 제외한 유일한 값(unique values)의 개수 등의 통계치를 보여줌. 또한 상위 5개의 값에 대해서는 우측에 바 그래프로 시각화한 결과를 제공합니다."
      ]
    },
    {
      "cell_type": "markdown",
      "metadata": {
        "id": "W-fDdN9QitDB"
      },
      "source": [
        "![image.png](data:image/png;base64,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)"
      ]
    },
    {
      "cell_type": "markdown",
      "metadata": {
        "id": "Vr7G7tY3j0ei"
      },
      "source": [
        "![image.png](data:image/png;base64,iVBORw0KGgoAAAANSUhEUgAAAz0AAADcCAYAAABamM/PAAAgAElEQVR4Ae2d3a9tV3mf+Z98WamRql7FN1UlcnncIqW9IUbqDRFWZZG0WFyUnnCBglM7iU6J1UonIBJiUju4IsRJih0UOYijhhjiII6JGjvmy8TYrOpZ8Nu8+2XOudfee+615lzrGdI6c3y+4x3PmGft97fH3Gu9a2OSgAQkIAEJSEACEpCABCRwxATedcRrc2kSkIAEJCABCUhAAhKQgAQ2Z6Lnb//21Y0vGXgPeA94D3gPeA94D3gPeA94D3gPHNM9gOY7J3oUgRKQgAQkIAEJSEACEpCABI6FAOKNpOg5lh11HRKQgAQkIAEJSEACEpDAOQKKnnM4LEhAAhKQgAQkIAEJSEACx0ZA0XNsO+p6JCABCUhAAhKQgAQkIIFzBBQ953BYkIAEJCABCUhAAhKQgASOjYCi59h21PVIQAISkIAEJLD5xmvf37zvt1/Y/LNH/3DzwAee9iUD74EV3AP8f+X/Lf9/506KnrmJak8CEpCABCQggYMT+MXH/8wgdwVBroJUQT50D/D/d+6k6Jmb6Inb+8xnPrN597vf/TOvL33pS2dk0qfWnTVekHn88cc373nPezZf+9rXLuhp82UJvP7665v3ve99Z3v3oQ99aPPmm29e1oz9JSABCWwJ8P7xyCOPbD71qU/tncjb7/xo888/+L8UPYoe74GV3gM/98FnZn/fUPTMjvS0DQ4JmtRxJaW8i+ghEEfoJPieU/Tgxy4+7HtH79y5s3dRB19ETvYoZXibJCABCVyFwCFFD/4O/fbYOk8VvAfWcw9c5X1naoyiZ4qObZcmMCRoEkBzioCI2TXl5OEmThyG/NzVr5vsN6eou66fMLoJ9tf1y/ESkMA6CCh61hNcKgTcqyXeA3O/0yl65iZ64vbGxAT1eSyt90k5j8VRjlBKXcZWUcAjbtTfvn17G5zTN/2yDd02Jzu8Ypfr2GkG9enX7Y61daGWdUTwxZ+7d+9ufcV+hEXaMiflQybmj2+H9MO5JSCBdRKI6HniiSc2Dz300OaBBx7YXvPLr7RTX9tSX8fxmNyXv/zlzYMPPrjtS5l+U2mJQZw+7SYu/uP//MvNd3/w9uaTX/y77Yldyuz3W2//aPMbn/vqtp72pFpPO+Wkv/nWdzz5W+Fjbtm/ua6KnrlIamdLIIF7f2ys1td8hAt1pCpquoDo7RkbQZFyREydp4/tbdvJyz/VD36wEvxnntrGkGqr+9zHpu8uPhZ39p7NOvDXJAEJSOAqBCJeEDy8p6T80Y9+dGuOv/VJPm3UJZ9xjCUfofPyyy9vxc8LL7ww6ZYCYzeBsUROiBRSRA/lCJc//+r/23zrjR9snvzfX928/r23zgQQ9QglBBLj6PPv/9ufK3ZWKHZyT07+B79Co6LnCtAcMk4gQf1lRU898Yj1BN71tKEKji5yan/yVajEZq5jftJe7fDDt6a0RbTU/tSlPT4zvvrR582pU8RFXV+dd5/5+Jw17HNu55KABI6HQMRL/SADRE6ETl0p750Imyp6Mq7bSV9Fz3pFTYLaoSuC5e/+4ftb0RLRg6Cpoif5Op7THUQQoqf2r33Mr+ueqe8Rc+QVPXNQ1MYZgR7Up4H6PCLW+xDo55EurjlR6QICW1UUTIme+/fvb+2MBe7dh/jJtdu9qK362eeNgMia+rxLEz3xd4xbZWFeAhKQwBSBLlboW0UPoiWPtvHY2q1btxQ9K/6t/ByCAsHCCc1/+cxXzokebCNkSFyH5orQ4XQHG0n1sbehcdYtVwhlD+e6KnrmIqmdLYEe1FOZQHos8A+6iAeEz9CpCf12FT3YqicsmSPXIT/TFj+GAv+04UdSrUs+Yy9a+5JET3yta8savUpAAhK4LIEp0dPbarnmmbOXeZ/lVMiTnuUGq1cVEpzgcLoT4VLzETtc+6Nr9Ot18YG2PPaWOq/ruHcu+55zUX9Fz0WEbL8UgSEx0QP72qe35ZSFPvygQzxEQODIrqKHsXUexlLOaVPm5TqU6jyZN6Ktt9V54nP6Zj0p177YjR/Uk6qP24o9/sO6Kus9Tu1UEpDAERLoYoUl5qQnbXnULac+Pt62jmD0JkRD/bCC+t/hhZf/4dzf7vAYGyImH2aQE54xn3r/sX7WL+/eq/fBHPlViR7+ePHhhx++1McezwFJG7sTSFBfH1cjX8VF+qQugX/GEHwnpW9sVMERQZH+/ZQFG3V8bFCfvtSNBfrYjU8RS/Frqq2uJ58st6voyZqYN+vKnDd5rTyyZq7x+ybn1rYEJHCcBCJs8rc5rDKih3yEDo+4pZ5rH9fLnvQsLzidWzBMnfTUkxsET06A4gNj+ZugKorGToEyxusy76m53xlXI3ryJpdPc5kbhPYkIAEJSEACEjgeAgayywxkd9mXKnroX0+B8jc6iJr6sdTcuXmMrbal/y7z2mdZ98zc70arED31t0GKnrlvAe1JQAISkIAEjo+AAeyyAlj3w/247D0w97vSQUUPx9j53P26sBxzUxfBw/E4L0VPJWVeAhKQgAQkIIEhApcNsOxvUO49sKx7YOj/9XXqDip6EDR8TCV/q5OUx9ho60nR04lYloAEJCABCUhgiIAB7LICWPfD/bjsPTD0//o6dQcVPRE49Y8cETtjpzmKnutstWMlIAEJSEACp0PgoY89P/h9LpcNvOxvsO49sP974Bcf/7PZ36wOKnpYTX3ELZ/QQt1QUvQMUbFOAhKQgAQkIIFO4BuvfX/zvt9+YfPPHv1Dxc+Jf+mpomX/ouWqzPn/+h/uvLjh/+/c6eCipz7ixmNuPO429GgbC1f0zL392pOABCQgAQkcJ4F73/z25t/9xp8vQvDgB/6YJCCBwxE4uOipj7hdJGouaj8cRmcOgXwvTr6Dh3r2mO97Gfs+nIzNle+n6d+Lk7abvMZP1sCpI/7276pJPX2SWOsh/M38h7rW7yqq+z3mD336PRAb/fuAqK+Mx2xaLwEJSGCMwFIET37jjT8mCUjgcAQOLnpYOo+z8aWjvMYebaOfoudwN8quM69Z9OB7xAsBOoH4q6++ug3UE4CnHoGUFLFEoH4qqXKo+bH10wcBWUUPdSnDN/z4gla+1BWBaZKABCRwVQIRG0u6XnUtjpOABK5PYBGih8fZ+EZmXmOPtrFURc/1N/ymLcwhem7axyH7OcGpQXgXPekTAVTtELD304ravtY860Kc9ER9REq4DPVjHP0QkwiZ8KWe/rFRRQ91Y7a6H5YlIAEJjBFYktiJL91XftGb+CdXYp2a6JNfCO/Sv441LwEJ/JTAIkQPvynnE9vGPrUt7ip6QmK5111ET/rcvXt3Gwz3E4AEyfzGn5T+9Ltz5865R+XSliCZK/2oJyUgp45XguxtY/mHuQjMMw47XfSkrp7yxET3I/VrvcIJXuFa1xGmYdXLtS/52KB/Fz0p08bLU55Oz7IEJHBVAhEaS7pOrYW/a37sscfOnXLnl8IRPXX8UP/abl4CEjhPYBGi57xLltZMgMC1B8t5/KsGuFWA9DFV9ESMRKykb7eVwJortumXYDwnMLFFW08ZFzsZi63MhQ9DY7GV8WPtfb6llqfETnwOm7CifopNxsEmLFOX+bJHlKvd9PMqAQksm0A9gciXjvNeQf6JJ57Y/lKTk4y0sZq054Qjv/hMfR/35S9/efthR93OGJkliZ34MuZr1lyfduFnZ/h10TPUf8y29RKQwI8JKHq8E2YlQGC7q+hJcNsFA4Fv/ram2xsTUEO2InKwR+KHBEF3D7xp6/N0KNgiMOfaA3X69rn6+KWXwwYOF6X0DXP6w+SisbQPsc98MOQROPaYflVwpo9XCUhgeQQI1KuYIUDnyYwE5vkS8pQTwNMn+bTVcRFBvCeQzxwXfdJrCEVoLOka3/oVhmGRNsrUV05pG+qfNq8SkMAwAUXPMBdrr0hgSDxcRqgwbRU9NU/bZWxFiBA811dOFeoSh/yu7fjBC5uMv3fv3jYwp46UuVKuY9eUx/8uWrv/ET0ROb3c+6d8kehhboQUr3Dkmnlix6sEJLAsAgTgnL5wrSlCpgbz9ImYqX0jbKroIU+KnZTTt89X7ZFfktiJL93HlCNwUmZt4TYkenr/jPMqAQmME1D0jLOx5QoECFh70HwZocKUBLo3cdIztZwp0ROhw5X1RTThZ4LzYxE9YcS6+j6mLXsUMRLRA5upNCV64JdPbKNfuNb8lG3bJCCBwxIgSM9jahFAXazgIac0fFIrPxfqGE6Dbt26de6EKCKn2zk20cN6OMXimoSoqTzJRwQN9c84rxKQwDgBRc84G1uuQIA3Y0RBfYwpQihBMtcaUPd2At6Ini4mMjb2h8Zim34JxiNSuq26vNjh2hP+JAjHxtBJT8Znjd3GWsuse4gJdeFa81PrhE32rfer82AvvLkeG9O+dssSODYCiBVOc+7fv78N5hOss06ETm0bEjZd5PQyP2ewga2plNOVJV2H/GUdlVHv0096Lurfx1uWgAR+TEDR450wO4EIH8RHXjVwJb+r6ME5guDY6Z/eFmFDO0KJT4Qjn/lqO/VjQXcEUcYFSkQO1yQCcWwl6Ke+ryl9j/kaDrBgj5JgEdGSOq7UD/GHbU556Ff3bKh/tWleAhI4PAGC8vy9Dd4QlOfkgmseZ4t4IcCv+YzhNANbaRsSRPQ9NtHDOrPWod2krYqii/oP2bBOAhLYbBQ93gWrIhBBNXcwnED7qnYJ8qsIWhVUnZWABCRwTQIE5Xkcq39wAR/DTB3tXRxlDOPzOjXRc030DpeABHYkoOjZEZTdlkHgpkQPq+Mk4irCJT4NnW4sg5peSEACEtg/gS5e9u3Bkh5riy/7ZuB8EpDATwksQvS89NJLm/e///1nr2efffanHk7k6PeJT3xiosd8Tbx5f+xjH9vg61US4xiPHdPVCURgXPVEZmrm2Eb8XCbxaFf+Buky4+wrAQlI4JgJKHqe/plPkDvm/XZtElg6gYOLHsTAo48+unnllVe2rCIudhE++xQ9191IRc91CTpeAhKQgATWREDRo+hZ0/2qr8dP4KCiZ0zgIIA+8pGPbN54443tDiBuchIUgYSISF1OexhHO/U8Q5zxGIkN2p988slzJ0SMj62IrfiGH7S9+OKL5056sM0cfa7qF22USYqeLQb/kYAEJCABCeyFQB4pW9J1Lwt3EglIYJDAQUUPIoXHlHLKM+QhYqEKGARKRE496YkIicigTx4nq/OkX7UR+xFN2IjoSb+Ua1vmih91HtZCfXygb/JD67ROAhKQgAQkIIH5CPzi43/2M4+XHVIA4Y9JAhI4HIGDi556orMLhggM+tY8oiLihTYESGzXfn0coob2JMq8InLSljLzVNsZN3StQqfmh/paJwEJSEACEpDAfATuffPbm6UIH/zAH5MEJHA4AgcXPRed9ERs5PEzrjl9qWIGUVH7kM+jcBEywZxxsR1hQ3tvwy4pfSnzqgIrdrkyV/UjpzuMSb72P7b82He31O/aoU8+NOC6H0jAhw7074mZiyl7jn/4m3z/fp7U1w8/yNpq3Vw+3bSd8GSdU/5njZ0H/sVG/3AH6v2Eu5veQe1LQAISkIAEJDBE4KCiJ0Kiig6c5BE0BAJX2qpYiCihX81PiYrar49DpNCeFIEU37BLquWxk54uhqpPNZ+5jvFaRU8Nmms9+QTNSxY9EWpcefFx1q+++upWCGVtqWc9NbHGq3z8dbWx73z9ItaaH/KD9fEi1Tzj8qWEsMn+wod85zRk2zoJSEACEpCABCQwN4GDih4WgxjIiQzliAvEBwlBEtEz9Pc46Zc27GVcTmPq39qkX8Zhv/bDF2zEj9ir5dhIW3zkww5iK/3jO32T3zp4pP8QAPPbf14JeGFBHhHAb/8TLC8dAX5GuCByuujJuiKA6noI+GHAdS2JdWTP8Jn1D60tgjVrq0KH/O3bt7f/f6rowc6QrbWw0U8JSEACEpCABNZN4OCiB3wIgvpIWAQJbREYtCMovvCFL5yJh4xLf8QNoqU+2pbtQZjExt27d88ekaOd8ZmffqSIlgibXq5zdaGT+fE1f1d0SqIHYUPgm8ebCIRrHcF0AucE2SlHMEVssBdTbQTSERfph03mj60E59hKf9oixOLDduN/8k9sRaBho4ue1NG3p6w543v7Esv4Wv3t5fjM2mDBlVTL5OtJDzbgA+MhTrHpVQISkIAEJCABCdwkgUWInptcYLcd8RJx09stX48AQS4CB2EZMYI4oO65557bXhMIEzhHcFAXoUPgTH/qSFNtETHMEaHCWGyknDm63YxNe115+tKHlFOdiCXK+JX2OpZ8n7u3L7Hc18PasgfVX9hE2GStlKknhWv2gfIYp2rXvAQkIAEJSEACErgpAichenIilNOcnAzdFNRTtkuQTLCbUxDKvBA0ET+UuyigbuhkBpZTbQmwq+iJiIlQiZiqfbHbfaj7hj38GQvWCfCxyzX+ZR7s9Lmr7aXmWUddL3nqerpI9NT+MGY/uA5xqn3NS0ACEpCABCQggZsicBKi56bgafdnCRDYInru3bt39vgYZeoJlpPvgiNtET5VcEy1VSHTbXbhEd+wR+r962ouEj3YypoQO1kvdaQ+d7W91HzWFP96OfXwi+CjrpfTjyv7w4s++VufMTFVx5mXgAQkIAEJSEACcxJQ9MxJU1tbIYCwIciNIImAoW5M9FR0GRc7U23pu8+TnhrkM29OeKpIWKPo6WKE9VDXE2KxPs4Gj/q4W/rTL6c8cMoJXM2nr1cJSEACEpCABCRwkwQUPTdJ9wRtEyhHrBDcInhSHhM9CY4jHsCGHcr3798/OzGiX22jfBnRU+fHTsYmGN8a/8k/6TsU9FdxQz/87Cc9+Eb9kO06z5LyWQvXmh/ysTKo+doXduGHPU96Kh3zEpCABCQgAQnsk4CiZ5+0T2AuAuCInB74E/jSRp/elpORPN4WGyCbaotwQWCN2axiKv2Z586dO6PCJLbwtaYhMUAf7NV56lrr+KXnK58IFnzupzPh09ed9dGeU57UDXFKm1cJSEACEpCABCRwkwQUPTdJV9uLJpDAvQubOE19FTKp3+WaUy6uJglIQAISkIAEJCCBwxJQ9ByWv7PvkUCESB45y2lMPdGo7tC/njjVtovy1xFMF9m2XQISkIAEJCABCUjgcgQUPZfjZe+VE8gjVnmMbuyUh2XmsbqpPkM4coI0JqaGxlgnAQlIQAISkIAEJHBzBBQ9N8dWyxKQgAQkIAEJSEACEpDAAggoehawCbogAQlIQAISkIAEJCABCdwcAUXPzbHVsgQkIAEJSEACEpCABCSwAAKKngVsgi5IQAISkIAEJCABCUhAAjdHQNFzc2xP0nL9oID6cc355DQ+QIA++WP/fJLaVWHle2XqXFe11cdd5oMM8OOqH2/d5z1kOTzZJz+I4ZA74dwSkIAEJCABCcxJQNEzJ01tbQVNPhmtBs1VDK1F9ESo7SKoLvr46zXcGvWLV2t+Db7rowQkIAEJSEACEpgioOiZomPbpQlUcZNTnJyYcBLC997QZw0JP3c9vckas+Y1rK/7iEit/rP+Klx7f8sSkIAEJCABCUhgLQQUPWvZqZX4SaCMsLl9+/bZF3vmFCR19OmPt6WcU6IqNqbaCMoZw2lM+hG4M1ds1ZOa9KeNfsxTA/1gji18JaU8ZTtrZ71rTPif9eJ/L69xTfosAQlIQAISkIAEIKDo8T6YlUAC/7t3756JEUQHQui55547O+mpIoJTEsZF6EQkJQCfaouIqaKHubDR5+h2M3ZI9KQvfUixNWabPrFXRdascG/YGJyz3qwne3DDU2teAhKQgAQkIAEJ3CgBRc+N4j094wTJCAMCf0QMZV7kI34oR0REcFA3dDIDwam2KjS6zTxyFjFV+2K396+7ha/4ExHQ+3bbjO1jqr015OGc9eIveepMEpCABCQgAQlIYO0EFD1r38GF+U+QjOi5d+/e2eNjlKnP6Qn5LiLSFuFTBcdUWxUy3WYXJvENe6Tev6LsAqb37bYZ28dUe2vIw4dXUi+n3qsEJCABCUhAAhJYGwFFz9p2bOH+VmERQRIBE/FCny4i6rIyLo+STbWlL4Kj2+zCpPbFZu9f5+kCpvftthnbx1R7a8jDp4se6kwSkIAEJCABCUhg7QQUPWvfwYX5X0VPREDEy5joQVDwmFseQ2NJ2KF8//790TbGVSFzkTCp8zNHxuYRu4oyfRP0X2S72mPda0ysGeZca36Na9FnCUhAAhKQgAQkUAkoeioN89cmUEVPFwoREvTpbTk5yeNtEUo4NNUW4YLQGLNZxVT6M8+dO3e2Qf6Q6IktfCWlnL7xqdqua782yAMZqHwi+A7kitNKQAISkIAEJCCB2QgoemZDqaG1EYiQibDp/lNfRU1vr+WIoIii2mZeAhKQgAQkIAEJSOCwBBQ9h+Xv7HskkMftIkxy8jR2okH/euI05epFtqbG2iYBCUhAAhKQgAQkcLMEFD03y1frCyPA6U0eoeM6dsqD2zm9meqT5SGcdj0VyhivEpCABCQgAQlIQAL7IaDo2Q9nZ5GABCQgAQlIQAISkIAEDkRA0XMg8E4rAQlIQAISkIAEJCABCeyHgKJnP5ydRQISkIAEJCABCUhAAhI4EAFFz4HAO60EJCABCUhAAhKQgAQksB8Cip79cHYWCUhAAhKQgAQkIIETJvDLT31p88AHnh580TZn+s4Pfrh5z6//6ebxP/rra5l99q9e3Tz44ec233rjB9eyk8EvvfKPm5//8HMbrjWf9pu8Knpukq62JSABCUhAAhKQgAQk0AggcuYWOnWKfYsexBUii3mnUhU6NT81Zq42Rc9cJLUjAQlIQAISkIAEJCCBHQicquipaBQ9lYZ5CUhAAhKQgAQkIAEJHBmBIdFDXR5/q6dAObWh7ec++Mzml37ri2enKmNt999489zjbTyexmNqsc9ja2Op+1Efb+NEJzZysoOtXoegwdfUZz1V6NR8XQdj0n/Mx6vUe9JzFWqOkYAEJCABCUhAAhKQwBUJENTXwL4+HhaBkr/HGWqL4Bhrq6IngiL2qtjo7te/4cm4iJ7axri6hupHxkVY1fnG8owPjz6++3jVsqLnquQcJwEJSEACEpCABCQggSsQqIIhQX5ECeYiIqp4yTSXbUNo/MKv/fG5DyNg/jpfbFe/qKtCp4+pduMTa+kJG5z60H9K9KRPHz9XWdEzF0ntSEACEpCABCQgAQlIYAcCVVzkZCcnIwyPiHj577+7fSztsm1VLDE2j5nVKz7UNCS+Imzwg9OlOp58hEr8jejBdvryaW1Dn9hWBVDWnDGxW/27bl7Rc12CjpeABCQgAQlIQAISkMAlCFTRMyQ2IiKqeIn5y7ZFuOzysdPVL+ZDMOXxNtqYeyjFJ9bSxUwtj+W7TebKI3y97aplRc9VyTlOAhKQgAQkIAEJSEACVyDQxUUVDTn5icAYaosgGGurYqmLqm6/uo/Iqacs+BnRUwUQY5g7bdUPhA026E/CRmyOiZ4hHtTNmRQ9c9LUlgQkIAEJSEACEpCABC4g0IN8ulOXx7tqwB/RQhsi41d/96WzU5Cxtip6sB2hM2S/u4qAST8+Ka7+PVBti5BhfIRORFBdy+/8yde3fiOCxkRPXUfWucvJVPd9qqzomaJjmwQkIAEJSEACEpCABBZEAOFRRVF1baqt9jvFvKLnFHfdNUtAAhKQgAQkIAEJrIIAAgcxQ8qJTcpTbatY3B6dVPTsEbZTSUACEpCABCQgAQlI4DIE8uhYHjmrpzxTbZeZ4xT6KnpOYZddowQkIAEJSEACEpCABE6YgKLnhDffpUtAAhKQgAQkIAEJSOAUCCh6TmGXXaMEJCABCUhAAhKQgAROmICi54Q336VLQAISkIAEJCABCUjgFAgoek5hl12jBCQgAQlIQAISkIAETpjAoOih0pcMvAe8B7wHvAe8B7wHvAe8B7wHvAeO5R5A870rwo9FmSQgAQlIQAISkIAEJCABCRwLgWgcRc+x7KjrkIAEJCABCUhAAhKQgATOEVD0nMNhQQISkIAEJCABCUhAAhI4NgKKnmPbUdcjAQlIQAISkIAEJCABCZwjoOg5h8PCdQj86Ec/2viSwVz3wHXuRcdKQAISkIAEJCCBSkDRU2mYvzKBHuhe2ZADT5qA99FJb7+Ll8CsBB74wNOz2tOYBCSwbgKKnnXv3yK8T6D6zjvvLMIfnVg/Ae6l3FfrX40rkIAEDkFA0XMI6s4pgeUSUPQsd29W4xnBaYLU//u7dzf/41/+i5953f/i/zlbT/rUurPGCzIv3P6vm0/+63+1ef2rX72gp82XJfDDN9/cfP4Dv3xu7+DdE3XsYU3sZfb9D/7tQ5s3X3vtrJn+aRuyd9axZOo9VarNSmBRBF544YXNAw88cPZ65JFHNm+++eZBfHz99dc3Dz300AafXn755c2tW7e2V8rU0/7Rj350+5rDwTpHzVfbsIDJpz71qVq9t7yiZ2+onUgCqyCg6FnFNi3bSQLUt99+e/ub+SFBk7oEyinvInoIngmUCchJ5OcSPfixiw/7pv+Xj3/8IKIO1s8+/EuTc0fAZC9hgwBlT8KSNsQTe0a+iiDG17FjbOs9NdbHegkckgBi4sEHH9wKi/hBcH8o4dNFz8MPP7wVOmsQPdX3sJzjOiR6IsQiVuGTxP4N1afdqwQksG4Cip51798ivE+AijMEtPxWPwEwdTlBqMHvLo4ThDMmAfQuY3btM+TnrmNvst+cou6yfiJeED31lCY2she086rChTx+95R9r32Z40//8386E7F9TC1HSNc68xJYCoEhgUPwjtjg5GPfqQoH8pzqEOAres7vBPsGG1Jlw55VoXgo8XreW0sSkMCcBBQ9c9I8UVuInh/+8Ifb1Y+JCepzQtP7pJxHoCgnYE5dxlZRkBMGgug8lpV+2YpuGzHGK9Z/JVIAACAASURBVHa5DgXsjKc+/brdsbaIgwi1rCOCL/58+b/f2fLAfvqmLXNS3meCS3zp87Kuf/ybvznbl/iW9aVcxw21TQmrOpY89xT3lkkCSyRAwNxPerqfESL99CABNoE1bc8///z2hIhgnPKv/MqvnAXg2MzpRD2VGJur96mB/dTjbfjEepi/rqvW0xbBQH0eoav56lf8RmiQhmylD7Z5xf966lIFCPM/9thjWx9rfZ03+aGTnrRxZa7YqCL2kOK1+mdeAhKYl4CiZ16eJ2ltV9FDME9gneCefIRLguYqarqAAG5tz9gIipTpQ6rz9LG9bTug/FPnSfCeeWpbn6f73Mdm3l18LO7sJRvfIrqy3jp51kNfUspf++xnt6dyjK3jWGcvdwFZ7de8oqfSML9EAhEpBOv5u5n4mWA+AT8BdsREgv+0pW8C8JQjAOifU4jY79cIrIxJO+X4NiZ6+tiMuX///lYUxGYVN2P5zMs162CdyQ/ZGpufelL1m3zWU+cayo+JnvjSRRa2Sd2fIdvWSUAC6yOg6Fnfni3O4zlED8FyP2XoAoKFV8HRRU7t/+brr2/t1YC7gkuAj/DqqdohqK8pbREttNW65LOWiIL40edlftYeEVHXV+fdR5654zfz9TJ1WU/8TTnr6+PSHiHFCdcf/Jtbk383lLUqekLC69IJJEgmiI5wqaIA/xNoIwCm2rJW+iUIr/m092t8iKhIewQM7VU8pJ1r7VPre55+Vbhd9qSn2qu2uu/4yZqT4BXRN7aG9K3XMdGTPnXeyrjWp69XCUhg/QQUPevfw4OvYFfRk9/w98Cf4DpBMdcE0F1AsNAqCqZEz3e++c2tnRrEV1Ddh9rW7V7UVv3s8yboz5r6vEsSPXWd5OHQBUrW00VPymPjYpv1hkXqxq6KnjEy1i+VQIJlAuguJC4renqgj72plLl7v+rHmGDA34i1PgdjEHO8EDlDQqeLuNioa6ZuzFb1PWMyZ64RW2NryJz1epHoyVysvzLAn0P9bVb137wEJDAvAUXPvDxP0tpFoieBcoLdHvgHWsQDwgdxk3IVLruKHk96QvXqV0RP/2CD7GUVOexJLQ+Nixf0q/uZ+qGromeIinVLIJBguQuM1BNAdyGwa1vWl/7PPPPMVpAQiE+lKhxqv11ET+1Tx/Y11PJYvo7PGoZ41PHdd4QNY4bSdUUPdmO7+kA+p0nwGBOBQz5ZJwEJrIOAomcd+7RoLy8SPf00o4qe3pZTFvokwK5B8q6ih7F1HgBSzmlT5uU6lOo8tFOOaOttdZ74nL5ZT8q1L3bjB/Wk6uO2Yk//xO/4kTJrrSn16Ucba8j6KDMm4+iXfFiMMa/zkFf0dCKWl0SAwDmnD/GLYDl1NeCnvbbVYJu23jf2mIOTjl0C8C4cYqMKmjHB0MfGv89//vPb9WCDxPisL3241nzm5VrXRR/GDtnq81efsQOH/B3P2BrqvMkPnfTEp5wgxZ/MQ33WGDteJSCB4yCweNHT36B4Q6pvUsexDetexZDoqY+rka+BLoFwraOt9k+QDJX0TX/aIlwSRKf/0MlQHR8b2E1f6qqoqjuB3fiVOdM+1VbXk0+WiyiIP+GRvtSTsibmzboy501fI2iy5iEu6RN/41PW0Xmmf2z2cRk/dFX0DFGxbkkE+FmU4JlrAvP4mGA+ffKzq4uE/JzLCUTGRyikHntjj11lrswRG5Tj15RgyFzdV8akjlMnbGGzrqHmMy/Xvq4xW/RNW9bKNfNWETK1hjo3+SHR0/tYloAETofAokVP3jDrb7l4s+WNsL+xn86WLW+lVfQszzs9WisBRc9ad06/5yIwJHIQHogM08UEFD0XM7KHBE6JwKJFz9hvj/hNTxVCp7RhS1yromeJu7J+nxQ9699DV3A9Avxyr/6s4xeBTz311PYE5XqWT2O0ouc09tlVSmBXAgcVPWPi5aLja4696w+CXRdrv5shgOh5++23N++8887NTKDVkyPAvcQ9xb1lksApEuDnYH2s6xQZXHfNip7rEnS8BI6LwEFFD7/F6m/qY88lB3seeeMHgmkZBCJ63nrrrWU4pBerJ8Apj6Jn9dvoAiRwUAKKnoPid3IJLI7AQUVPBE7+cBE6CKH80eUQLdr9m54hMoerQ/Twm/l/+qd/2n7i1uE8ceZjIIDgQUBzT3nScww76hokcBgCip7DcHdWCSyVwEFFD1DqI24XneLwNz6cDHnKs6zbicA0pz0In+9///ub733ve75kcOl7gHuHeyinPIqeZf1f1xsJrImAomdNu6WvErh5AgcXPfURt4ga6npKm4Knk1lGOcInf4tB0Mpv7H3JYNd7gHuGV054FDzL+L+tFxKQgAQkIIFjIHBw0VMfceMxt6FH2xQ867jVCFJ///d/f/Pud7978xd/8Rfb0x/qXnvttc373ve+zYc+9KHtKVAE0tj18ccf37znPe/ZfizrWJ+bqI+frIETB/xlLfhOG3Omnj7xgbUewt/MP+cV9qyZF/nYDpu0Te1l71vvhdwfnRf1dT7mNUlAAhKQgAQkIIG5CBxc9LAQTm/4wjVe/SRHwTPXVu/Hzmc+85ltwPylL33pbEKEbUQPjzBelCJ6vva1r13UddZ2fCcYZ178x+dXX311K35oI6WeNSVlffi95sQaWXPWxnqoY88QOWGQ8tB605a+8ApTuPKpi9inHpv0p0w+8x6SIf7gY/07w0P6MzT3rj7yXtrfT4fs1bqL/qay9r1Kflffr2L7KmP4+XLr1q0Lv/fmprlcxfepMex7vtgz1/qhQVe5N6bms00CEpDAGggsQvTwAyVvzPXRNoIgTn4u+4N7DeCP1UeCXU4DCGqT2MfLiJ6M2+eVYIzAO4E46+iiJ30S0Ff/EABVMNS2NeSH1oZIuX379uB3gsAgrOr6stfZ/1qu9qrowdYQ02p3X/l9B+VXCT539XFX27XfTQf3u/q+r/2eQ/TsamNfa2KeuqeZtz5JMdSefqdwzX2YeCPlxCHwMUlAAsdHYBGiJ+KmP9rGm3TehPq19z2+rVnnigheLxI96XP37t3tKQD9awCNgMjpABTSn3537tw5J6DSliCbK/2oJ/HDDNvU8Ro6naAfATlzZhx2uuhJHfdrT92P3r70cjhl/fhbT2a6//Sre5b2bqcyq/aoZy9giZ0hprG5z2uCn32d9Nxk8Lmr7drv1ETPrvfWFJe1iJ78nGUtdc93ZXAs/cKBmCKih//vMCGlfV/vAcfC1XVIYA0EFiF61gBKH3cjMBT880OknvSkTwRIygTCpCp6IkZ63wTcfSw2InoSgOcEJrYY01PGxYeMxVbmwoehsdjK+LH2Pt8Sy6wvrPCv7kP1N/s5tVbGVnYZzxjqI2opT9nJuH1dLxI9CYjyS5gETRmX+vxSJvWPPfbY9pMnaU9b/aVOAq6sM+OeeOKJbX/G5QuZ05agbMynGtgSmPN4U8Zknu5DgnvmzVrqmNihrT4uFXtc49+U77UtPGIDvzN3uMTmEMepcWnLlfXlUWr8//znP3/u8TbaMze88Y26MS6V/RCPjMNW7F7EE5v4CGtSF1WUaaffWKp7nz7xFZ9qe91TfKR9KFGfNfS11vso9yk2mCccGdvHDc1zk3XcR/jEz4Ls7dB89Kn7NNTHOglIYH0EFD3r27NFe5ygNuIBZ/lhOyR60qcLhhpsd3uXsRWRgz0SP/AQMBExFWSfp7aRxxZr4JqAvgqEPlcfv4Zy+CBKeHESlzXH//QZYkif7E+ETOUWG7nSFztch5im3z6vrI8gbSjg6W01GKU/gRKp9ks+gX3K6cs1+brO9EuQmDJ9k2fOmmd89Sm2a12dI/n0o5zANuunHB/Ypxoo0pZ1xRbX+JRxKVffM662MZZ5EzRnvrrOXcbFZtZQfcv6uJIqm8yXNsZHBGRcbFLO+qqNOhf5qXFD82V9sMpcXN/73veeK9M+leqeph92qv26H1kzaxkSVPhahRj9s0/kY5e56tzkwyltGRe/DnHt7KsPfa21zbwEJLBuAoqede/f4rwfEg/8ELmq6KkCiMVexlaESIL4XKtYCcAhv9PGFT94JYi/d+/eNmCnjpS5Uq5j15pHjFZWBJNjojFr7GOoD7v0yRXmvGCXvx2ifEiGUwHzVHCbNXFNQEWQOWSvB4WUe8q42pbg8v79+2fCbMonxvJH+hf9oX71J3OwBlK1XwNd2uIj9TWl/iLfMybzZ1yCfdrJEyTjD9fa1sdVP7qvmYv6GqD39dW27CNjpsZVG5kn16lxva3OxzrDj1OxZ555ZsM1jBg7lRibU5lcu/igT+xdJETiW3yqc1NX9wUeEU601THZT+Y9ZMp6Osfw6PWH9NW5JSCB+QgoeuZjqaXymFdOcYDCD5irip4uRi5j6zJCpM9TNzNCh2sN6mswf5m5qu0l52GSEx2CAfIXCZLKJ2urnFLHPuaUhzGZp+bTd5/XBD01iMv8PUhNPVfaanCJ0MDGkL0aCNZ8tTc0LsFkFT1TPmGbQBdfauBZ5yFffej2akDPerLGeu2sdvU9fmT+oUAU2xeJnoyrPpGvAiZzXbS+GvzHLmOmxlVGmSfXqXFZG7xIdb7sNe8r+NSv9J1KYTrWp7Znv8KvMqjj41/6YaOPTVsEVp0HW33N1f4+81kL+5NEXT3NSr1XCUjgeAgoeo5nLxexEn5wVIGDUwSynLIQRJO6wOjtBMn5m48uJjK2BsnVNmNT5gcy/XJa0W1VYPGBa081aMcG9vpJT8Znjd3GGsr4zlpJYRUe1If51Fqy/+HQ7WQs7bXPmk96Evgl+K/lms/aayBY82nnmnG0JyWArqJnKuCO7aEALza5ph/5zMEYUrVP21hAvO38k3929T1jMn/GhSPtCZLxh7lrWx9XA9jY7teL1leFUuU2Na4ymms+WPD3SznhwS4nPU899dSkgM38YZNyv461Z82Vcx9LmTUjbOCCrbH+fZ7sJ+s7ZMo6c8/k/uJqkoAEjpeAoud49/ZgK+MHB8Igj5NFhMQhgl3qElB3wUCAHdHDmLQzpn96Gz88CcZpYwx/h1Lnq+3UjwXuCc4TiMfXiByuSfiHrYgp6vua0ndN184qLIb2s66f/alcw5I+vLLPYYE9+tcAY4hp+u/zCoMeXGf+3ob/BMnPP//8dgwBHolAit94E+D1MbTXQLDmMw/XjEsQnjL9kx+yH58SjFafYqvO0/1hXO1XA/pqm3E18K0241/spNx9z5jKoAbFmW9ond3vOi5tQwLtMuvDJvvImKlxlVHWlOvUuKyPPiTmCzPKcOl/y0M5/TPH0LUynWrvPmSv+hx9jYzLqUhfY11H96Pv05Bv+6jr68bPnFLliq8mCUjguAgoeo5rP49+NfywQmzUIHuORfPDHptXtUvQXkXQHD5pY/8EEvSNBTwJlnpgROCXugR6XIfspZ3VZVwP0DOuflpZ+qQtPo75VOfJGOp6qj4g4Grg3YPdCJ2sNT5Um5lrF98ZV/1MOfbjb2zW+abG1TVU33qA3tcXFsyfT5ijbmpcfGMM/WqaGke/yjOPhGU8Y6vNbgsW4ZMxuXY2qc+1tlcfmG/MZvyhD6+6F+RTX9dR52Fu+uU+5r6NcKIt9zHzkMI15W2l/0hAAhK4BgFFzzXgOXT/BPjBeBOih5VwsnEV4RKfED4mCcxBIAFfDSznsLsPG2v2vfLpQXltMy8BCUhAAusjsAjR89JLL23e//73n72effbZnUjS7xOf+MROfa/biR/kH/vYxzb4epXEOMZjx3R1AhEYVz2RmZo5tvNY11Tf2sbjW/VxvNpmXgJXIbBm4bBW3znxyKeOsWcIzrETo6vsqWMkIAEJSOCwBA4uehADjz766OaVV17Zkoi42EX47FP0XHebFD3XJeh4CZwOgbUKB3Zozb7zONbQY1qnc+e5UglIQALHS+CgomdM4CCAPvKRj2zeeOONLXnETU6CIpAQEanLaQ/jaKee58kzHiOxQfuTTz557oSI8bEVsRXf8IO2F1988dxJD7aZo89V/aKNMknRs8XgPxKQgAQkIAEJSEACEtg7gYOKHkQKjynllGdo9YiFKmAQKBE59aQnIiQigz55nKzOk37VRuxHNGEjoif9Uq5tmSt+1HlYC/Xxgb7JD63TOglIQAISkIAEJCABCUjgZggcXPTUE51dlhiBQd+aR1REvNCGAInt2q+PQ9TQnkSZV0RO2lJmnmo744auVejU/FBf6yQgAQlIQAISkIAEJCCBmyFwcNFz0UlPxEYeP+Oa05cqZhAVtQ/5PAoXIROEGRfbETa09zbsktKXMq8qsGKXK3NVP3K6w5jka/9jy+f7Vvr3s9Tv2qFPPjTguh9IcJPfj8Oe4x/+Jl+/n4a9S3398IOsrdatZZ/Dk3VO+Z81dh6sMzb6hztQ7yfcreVO0E8JSEACEpDAcRE4qOiJkKiiA7w8goZA4EpbFQsRJfSr+SlRUfv1cYgU2pMikOIbdkm1PHbS08VQ9anmM9cxXqvoqUFzrSefoHnJoidCjSsvPs761Vdf3QqhrC31rKcm1niVj7+uNvadr1/EWvNDfrA+XqSaZxzfwwEP2GR/KZPvnIZsWycBCUhAAhKQgATmJnBQ0cNiEAM5kaEccYH4ICFIInqG/h4n/dKGvYzLaUz9W5v0yzjs1374go34EXu1HBtpi4982EFspX98p2/yWweP9B8CYH77zysBLyzIIwL47X+C5aUjwM8IF0ROFz1ZVwRQXQ8BPwy4riWxjuwZPrP+obUhXGCRtVWhQ/727dvb/z9V9GBnyNZa2OinBCRweQK8R/JLkLFPxOtfDnv5GRwhAQlIYHcCBxc9uIogqI+ERZDQFoFBO4LiC1/4wpl4yLj0R9wgWuqjbUGBMImNu3fvnj0iRzvjMz/9SBEtETa9XOfqQifz42v+ruiURA/ChsA3jzcRCNc6gukEzgmyU45githgL6baCKQjLtIPm8wfWwnOsZX+tEWIxYftxv/kn9iKQMNGFz2po29PWXPG9/YllvG1+tvL8Zm1wYIrqZbJ15MebMAHxkOcYtOrBCRwXAT4/873HNUv2EXkPPjgg2d1hxI9EWMvvPDCGXTyEWfV57MOZiQggdUTWITo2SfFiJeIm33OfQpzEeQicBCWESOIA+qee+657TWBMIFzBAd1EToEzvSnjjTVFhHDHPyQxQZjsZFy5uh2MzbtdX/Slz4k7hv6RSxRxq+017Hk+9y9fYnlvh7Wlj2o/sImwiZrpUw9KVyzD5THOFW75iUggeMhwHce8eoJcZEvfT2E6IkYQ+BE9FDHF9PiD6/6JbXdf8sSkMB6CZyE6MmJUE5zcjK03m1brucEyQS7OQWhzAsxEvFDuYsC6oZOZljpVFsC7Cp6ImIiVCKmal/sdh8qVezhz1iwToCPXa7xL/Ngp89dbS81zzrqeslT19NFoqf2hzH7wXWIU+1rXgISOA4C/H9H2ERU1FXVti56EEkRRHXMXHnel5mD97DqXxVi9OGXOEO+z+WHdiQggcMQOAnRcxi0pzkrgS2i5969e9tgFyFAmXp+0CTPDz7aIlDSFuFTBcdUWxUy3WYXHvENe6Tev+7YRaIHW1kT68h6qSP1uavtpeazpvjXy6mHH2sOx15OP67sDy/65G99xsRUHWdeAhJYL4EuZupKIip4hKz2GzsZqmPnylfhhU0EDkIH36p/c82nHQlIYBkEFD3L2Iej8YJAGWFDkBtBEgFD3ZjoqQAyLnam2tJ3nyc9NchnXgQAP0SrSFij6OlihPVQ1xNrrY+zwYMy9TVRzikPnCJwa772Ny8BCRwHgSpm+oqqqEi/W7duDT4K18fOVea9qZ/0KHrmoqsdCSyXgKJnuXuzSs+q6CG4RfBEvIyJngTHEQ8sHDuU79+/f3ZilKA6bZQvI3rq/MyRsQnGK/D0HQr6mZ8XiX742U968I36Idt1niXlsxauNT/kY2VQ87Uv7MIPe570VDrmJXC8BHj/q6KirrS2IXr4YANEDy/K+0jVB+bz8bZ9UHcOCRyegKLn8HtwVB4QAEfk9MCfwHfspCcnI3m8LTaAM9UW4YLA6vNlXBVT6c88d+7cGRUmsRVxk00aEgP0wV6dp641Y9dwrXwiWPC7n86ET1931kh7TnlSN8QpbV4lIIHjIjD2uFoVGDnp4crjbjltuWkSvD9VUUbZDzK4aeral8DhCSh6Dr8HenAgAgncu7CJO9RXIZP6Xa455eJqkoAEJHBqBCIs6sc/52QndVX01MfebppVfKsfVkA+H1ld62/aF+1LQAL7I6Do2R9rZzowgQiRPHKW05h6olFdpH89captF+WvI5gusm27BCQggTUQiJCJmOBRNoROUhU91CE20gdhxGkRqZ7EUK5t2w7+IwEJSGAHAoqeHSDZ5XgI5BGrPEY3dsrDivN43FSfITI5QRoTU0NjrJOABCQgAQlIQAISuDkCip6bY6tlCUhAAhKQgAQkIAEJSGABBBQ9C9gEXZCABCQgAQlIQAISkIAEbo6Aoufm2GpZAhKQgAQkIAEJSEACElgAAUXPAjZBFyQgAQlIQAISkIAEJCCBmyOg6Lk5tidpuX5QQP245nxyGh8gQJ/8sX8+Se2qsPK9MnWuq9rq4y7zQQb4cdWPt+7zHrIcnuyTH8RwyJ1wbglIQAISkIAE5iSg6JmTpra2giafjFaD5iqG1iJ6ItR2EVQXffz1Gm6N+sWrNb8G3/VRAhKQQCfw7W9/e/P0009vnnjiic3HP/5xXzLwHljBPcD/V/7f8v937qTomZvoidur4ianODkx4SSE772hzxoSfu56epM1Zs1rWF/3EZFa/Wf9Vbj2/pYlIAEJLJnApz/9aYPcFQS5ClIF+dA9wP/fuZOiZ26iJ26PQBlhc/v27bMv9swpSOro0x9vSzmnRFVsTLURlDOG05j0I3BnrtiqJzXpTxv9mKcG+tm+2MJXUspTtrN21rvGhP9ZL/738hrXpM8SuAwBvvQyX6TJlfJY4os0H3rooe17w1iffdXv2xd+yfPYY49tv2iU/COPPHKOW75UtK6fus4Tv8O7sxxrww5tF6Uf/ehHmyeffFLRo+jxHljpPfCbv/mbF/03v3S7oufSyBwwRSCB/927d8/ECKIDIfTcc8+dnfRUEcEPTcZF6EQkJQCfaouIqaKHubDR5+h2M3ZI9KQvfUixNWabPrFXRdYUq6W1wTnrzXqyB0vzVX8kMDcBgmmCd96PSAnmax19eJH2LTS2k478s29fEC8RMLw3Pvzww1sBNOLellkXkS+//PLmwQcfPBMw2AvrqTbmox/Xi9LQb4+t81TBe2A998BF/8cv267ouSwx+08SIEhGGBD4I2Io8yIf8UM5IiKCg7qhkxkmm2qrQqPbJGjBfsRU7Yvd3r8uDF/xJyKg9+22GdvHVHtryMM568Vf8tSZJHDsBMZEA//vOYHIyYKi58fvm1V0IFAQPbDqKfxo5xWhRD/yEZB93FRbxlZbfXzKBrfrCW7dK/dq6B7I/+W5roqeuUhqZ0uAIBnRc+/evTPBQZn6nJ6Q7yIibRE+VXBMtVUh0212YRLfsEfq/esWdgHT+3bbjO1jqr015OHDK6mXU+9VAsdGoIqZvra0EWTnUSzqIpT4o9vU10A8pxW0caJBmcS4iIBan7b6mBfvMwiM2GVs5uJa6zMu/mYd9MkJCnWUY6PWV39pj9CLnVypZ44kytVO6rnyvsn7bV9HL9cxU23pNzVn+nAdCqKsW3Zw/eKLL27eeeeds2187bXXtvs4Vv+Vr3zlrC/j6Mce/97v/d7mu9/97rbtrbfe2nzuc5/zfljhY25nmztTRtEzE0jN/JhAFRYRJBEwES/06SKi8su4PEo21Za+CI5ukx+envRUetN5WHbRQ51JAsdM4KIgu4qGKigIvLvwiIjhvaieENE3oiTjuPbUxyFEbt26tRVMtCGWqniqNpOvPmK/+l/9oC19wyA+MQdzMWdPjMFmUhVR8Igfaeca+xmX8jPPPLPtX8dNtcVmZ5H6flXgLFvgDO0PIgaxgmip7UP1CBnulwidb3zjG5sIHPIRTFwpV3vm13Fv9P/T1y0req5L0PHnCFTRk5OPiJcx0cMPsCpOMIgdHku7f//+aBvjLiN66vzMkbF5xK4uJH0T9DMX/qQvb7Td59hj3WtMrJk1cq35Na5FnyWwK4EE2QnI+zjqc5IRkUCfLiCqQKEtY+ibOajv4/p8fQ7KQwm/IjCqzTqecd3/us6IG95n8bf6PDRnXUfama+O62X6ZVzmTjn+0yfjeK/F3lAb40j0oZ11TyUD23UEtnWfqljZpb72Qfxwj/AzGOEUoTMkmOo488u9T6b+f1+lTdFzFWqOGSVQRU8XChES9OltvFEhIvJ4W4QSE021VaExZjN/04Ot9GeeO3funBMydVGxha+klKdET117tbWmfOVD3iSBUyDQhUJdc22r+So06F9FD8E9pxf9RX0fV+eKnZyyMF8Ce94HEQOx+d73vvdMGFSb1UfsMSfjeA+r42Mnp1PdPn2pqyl94lNtS75ySF3GddGTMv0yjgCVuYfa6EOKvSk/6Gcwu9xgdmhv6iNp7F8eVxur7zYimNKfe4k+XHMC1MdYXvY9sv0PP+M/ip4ZYWpqXQQiZCJsuvfUV8HU22uZH8IIooii2mZeAhJYNoEqGqqnvEfUE4UqKPqYBO1caRsSDdju4+p85BPQ8+gXNvBhaFy1U/PVR8ZF9GCXtiomtoYH/sm6e9/4xnxjifVHtKVPxlV73Zc6bqoNm/Fvyg/6GdAuO6C9aH/GxMpQPXV5LE7Rs+59r/dF3kPmuip65iKpncUTyON2ESY5eRo70aB/PXGaWuBFtqbG2iYBCRyeAIF2FSoJ1GsdfXiRqtCgXEVPD8pp40SFMX3c0MoRB5zEVJHAuH4qk0fAqk3GpL6vofZjKOFUuwAACERJREFU3vT9+te/fk7cZRz9e6qCJP3iZ8phlLGpTz/quy9TbGsbY+Fb/74p8/RrDZ7Mry8Q5nE1TmjyNzvZw16fE560R/T4eNv69jx7mGv/P33dsqLnugQdvyoCnN7kETquY6c8LIof1AikqT5ZPMJp11OhjPEqAQksiwBBeR776qIDTwnUqUcIPf/882figrYqelJGpMReAv4e7A8R6LboE+GAPexyEpQPOag2I7jS76mnnjon5uoaI6KG/O3CJX4yV22rfoUNdTWlTxikLTyHxl3UVsVo7PVrAiev6wh+EStvvPHGmchBtHB6w/+1oXr60yfipu4zdX6QwTr2ve5bz/f/09ctK3quS9DxEpCABCQggRMhgKhCcHA9VEJ0dQE15EsPoCwvPwjmFCcfWZ2/6WHfhuprXfY/f7uT0x7q89ib+7/8/e97lH2d66romYukdiQgAQlIQAInQADBsYvouAkUlxFdPYCyvL6g1z077T2b+z1E0TM3Ue1JQAISkIAEjpgAj6s99thj20f69r1MTnl49G2XZMB82gGz+7/+/d/l//ll+ih6LkPLvhKQgAQkIAEJrIKAQe/6g1738LT3cO43GkXP3ES1JwEJSEACEpDAwQl88pOf9GOrP37aQbOiab37/+lPf3r29xBFz+xINSgBCUhAAhKQwKEJfPvb3948/fTTmyeeeELxo/jxHljJPcD/189+9rMb/v/OnRQ9cxPVngQkIAEJSEACEpCABCSwKAKKnkVth85IQAISkIAEJCABCUhAAnMTUPTMTVR7EpCABCQgAQlIQAISkMCiCCh6FrUdOiMBCUhAAhKQgAQkIAEJzE1A0TM3Ue1JQAISkIAEJCABCUhAAosioOhZ1HbojAQkIAEJSEACEpCABCQwNwFFz9xEtScBCUhAAhKQgAQkIAEJLIqAomdR26EzEpCABCQgAQlIQAISkMDcBBQ9cxPVngQkIAEJSEACEpCABCSwKAKKnkVth85IQAISkIAEJCABCUhAAnMTUPTMTVR7EpCABCQgAQlIQAISkMCiCCh6FrUdOiMBCUhAAhKQgAQkIAEJzE1A0TM3Ue1JQAISkIAEJCABCUhAAosioOhZ1HbojAQkIAEJSEACEpCABCQwNwFFz9xEtScBCUhAAhKQgAQkIAEJLIqAomdR26EzEpCABCQgAQlIQAISkMDcBBQ9cxPVngQkIAEJSEACEpCABCSwKAKKnkVth85IQAISkIAEJCABCUhAAnMTUPTMTVR7EpCABCQgAQlIQAISkMCiCCh6FrUdOiMBCUhAAhKQgAQkIAEJzE1A0TM3Ue1JQAISkIAEJCABCUhAAosioOhZ1HbojAQkIAEJSEACEpCABCQwNwFFz9xEtScBCUhAAhKQgAQkIAEJLIqAomdR26EzEpCABCQgAQlIQAISkMDcBBQ9cxPVngQkIAEJSEACEpCABCSwKAKKnkVth85IQAISkIAEJCABCUhAAnMTUPTMTVR7EpCABCQgAQlIQAISkMCiCCh6FrUdOiMBCUhAAhKQgAQkcIwEfvmpL20e+MDTgy/a5kzf+cEPN+/59T/dPP5Hf30ts8/+1aubBz/83OZbb/zgWnYy+KVX/nHz8x9+bsO15tN+k1dFz03S1bYEJCABCUhAAhKQgAQaAUTO3EKnTrFv0YO4QmQx71SqQqfmp8bM1abomYukdiQgAQlIQAISkIAEJLADgVMVPRWNoqfSMC8BCUhAAhKQgAQkIIEjIzAkeqjL42/1FCinNrT93Aef2fzSb33x7FRlrO3+G2+ee7yNx9N4TC32eWxtLHU/6uNtnOjERk52sNXrEDT4mvqspwqdmq/rYEz6j/l4lXpPeq5CzTESkIAEJCABCUhAAhK4IgGC+hrY18fDIlDy9zhDbREcY21V9ERQxF4VG939+jc8GRfRU9sYV9dQ/ci4CKs631ie8eHRx3cfr1pW9FyVnOMkIAEJSEACEpCABCRwBQJVMCTIjyjBXEREFS+Z5rJtCI1f+LU/PvdhBMxf54vt6hd1Vej0MdVufGItPWGDUx/6T4me9Onj5yoreuYiqR0JSEACEpCABCQgAQnsQKCKi5zs5GSE4RERL//9d7ePpV22rYolxuYxs3rFh5qGxFeEDX5wulTHk49Qib8RPdhOXz6tbegT26oAypozJnarf9fNK3quS9DxEpCABCQgAQlIQAISuASBKnqGxEZERBUvMX/ZtgiXXT52uvrFfAimPN5GG3MPpfjEWrqYqeWxfLfJXHmEr7ddtazouSo5x0lAAhKQgAQkIAEJSOAKBLq4qKIhJz8RGENtEQRjbVUsdVHV7Vf3ETn1lAU/I3qqAGIMc6et+oGwwQb9SdiIzTHRM8SDujmTomdOmtqSgAQkIAEJSEACEpDABQR6kE936vJ4Vw34I1poQ2T86u++dHYKMtZWRQ+2I3SG7HdXETDpxyfF1b8Hqm0RMoyP0IkIqmv5nT/5+tZvRNCY6KnryDp3OZnqvk+VFT1TdGyTgAQkIAEJSEACEpDAAQkgIBAbpIiXlKfaDujyIqdW9CxyW3RKAhKQgAQkIAEJSEACPz1FyelLPQXKCctQm+zOE1D0nOdhSQISkIAEJCABCUhAAhI4MgKKniPbUJcjAQlIQAISkIAEJCABCZwnoOg5z8OSBCQgAQlIQAISkIAEJHBkBBQ9R7ahLkcCEpCABCQgAQlIQAISOE9gUPRQ6UsG3gPeA94D3gPeA94D3gPeA94D3gPHcg8gg951XgtZkoAEJCABCUhAAhKQgAQkcFwEFD3HtZ+uRgISkIAEJCABCUhAAhJoBP4/KTcamCbG7t4AAAAASUVORK5CYII=)"
      ]
    },
    {
      "cell_type": "markdown",
      "metadata": {
        "id": "N2hgcm3fjSG4"
      },
      "source": [
        "* Unnamed\n",
        " * 3개의 열 모두 99% 이상의 값이 결측값입니다. 예를 들어 Unnamed_2 의 총 5,572개의 값 중에서 5,522개가 결측값, 50개가 결측값이 아닌 값. 그리고 그 중 중복을 제거한 유일한 값의 개수는 44개.\n",
        "\n",
        "* v1\n",
        " * 유일한 값의 개수(distinct count)가 2개.\n",
        " * 5,572개의 값 중에서 4,825개가 ham이고 747개가 spam. 즉 데이터에 정상 메일 샘플이 훨씬 많음.\n",
        "\n",
        "* v2\n",
        " * 유일한 값의 개수(distinct count)가 5,169개.\n",
        " * 중복이 가장 많은 메일은 \"Sorry, I'll call later\"라는 내용의 메일로 총 30개\n",
        "\n",
        "* v1과 v2 모두 결측값(missing values)은 존재하지 않음. 이는 결과적으로 데이터 전처리를 수행할 때, Unnamed라는 3개의 열을 제거하고 나서는 별도의 결측값 전처리는 필요가 없음을 의미."
      ]
    },
    {
      "cell_type": "markdown",
      "metadata": {
        "id": "-TcCchqkmLIT"
      },
      "source": [
        "## 4.3 Toggle details"
      ]
    },
    {
      "cell_type": "markdown",
      "metadata": {
        "id": "N9qFP8X2m58v"
      },
      "source": [
        "* v1"
      ]
    },
    {
      "cell_type": "markdown",
      "metadata": {
        "id": "HQ2DptZamNJz"
      },
      "source": [
        "![image.png](data:image/png;base64,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)"
      ]
    },
    {
      "cell_type": "markdown",
      "metadata": {
        "id": "Q2VUvG7lmgDs"
      },
      "source": [
        "![image.png](data:image/png;base64,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)"
      ]
    },
    {
      "cell_type": "markdown",
      "metadata": {
        "id": "yCg6Qp7rm4V8"
      },
      "source": [
        "* common values에서는 앞서 바 그래프로 확인했던 각 값의 분포를 좀 더 상세하게 보여줌. \n",
        " * ham이 총 4,825개로 이는 전체 값 중 86.6%에 해당되며, spam은 747개로 전체 값 중에서는 13.4%에 해당됩니다.\n",
        "\n",
        "* composition에서는 전체 값의 최대 길이, 최소 길이, 평균 길이와 값의 구성에 대해서 볼 수 있음. \n",
        " * length 값은 단어 단위로 측정한 길이가 아니라 문자열의 길이므로 spam의 길이인 4가 최대 길이(max length)가 되고, ham의 길이인 3이 최소 길이(min length)가 됨.\n",
        " * 모든 값들이 숫자, 공백, 특수 문자 등 없이 알파벳만으로 구성되므로 Contains chars에서만 True가 됨."
      ]
    },
    {
      "cell_type": "markdown",
      "metadata": {
        "id": "wGTsmDGOn6KA"
      },
      "source": [
        "---\n",
        "\n",
        "* v2"
      ]
    },
    {
      "cell_type": "markdown",
      "metadata": {
        "id": "YcQHM6DanKAS"
      },
      "source": [
        "![image.png](data:image/png;base64,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)"
      ]
    },
    {
      "cell_type": "markdown",
      "metadata": {
        "id": "HEIUX6DAoJrc"
      },
      "source": [
        "![image.png](data:image/png;base64,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)"
      ]
    },
    {
      "cell_type": "markdown",
      "metadata": {
        "id": "Du6Q1Pc2nKV-"
      },
      "source": [
        "* common values\n",
        " * 중복이 존재하는 상위 10개 메일의 내용을 확인할 수 있음\n",
        "\n",
        "* composition\n",
        " * length 값의 최대 길이는 910, 최소 길이는 2, 평균 길이는 80.11880833. \n",
        " * 메일 본문에서는 글자, 숫자, 공백, 특수문자 등이 모두 포함되어져 있으므로 모든 Contains가 True."
      ]
    },
    {
      "cell_type": "markdown",
      "metadata": {
        "id": "Abx0gaTKoZnh"
      },
      "source": [
        "pandas-profiling은 위에서 열거한 기능들 외에도 수치형 데이터를 위한 상관계수(correlations), 결측값에 대한 히트맵(headmap), 수지도(dendrogram) 등의 기능을 지원함."
      ]
    }
  ]
}