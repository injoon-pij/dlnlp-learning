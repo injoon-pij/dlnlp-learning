{
  "nbformat": 4,
  "nbformat_minor": 0,
  "metadata": {
    "colab": {
      "name": "dlnlp_cnn(2).ipynb",
      "provenance": [],
      "collapsed_sections": [],
      "authorship_tag": "ABX9TyNPLC0oh2pfHMAWcifZLfBx",
      "include_colab_link": true
    },
    "kernelspec": {
      "name": "python3",
      "display_name": "Python 3"
    },
    "language_info": {
      "name": "python"
    }
  },
  "cells": [
    {
      "cell_type": "markdown",
      "metadata": {
        "id": "view-in-github",
        "colab_type": "text"
      },
      "source": [
        "<a href=\"https://colab.research.google.com/github/injoon-pij/dlnlp-learning/blob/main/dlnlp_cnn(2).ipynb\" target=\"_parent\"><img src=\"https://colab.research.google.com/assets/colab-badge.svg\" alt=\"Open In Colab\"/></a>"
      ]
    },
    {
      "cell_type": "markdown",
      "metadata": {
        "id": "KJ2AIJ83d0LK"
      },
      "source": [
        "# 1) Intent Classification using Pre-trained Word Embedding"
      ]
    },
    {
      "cell_type": "markdown",
      "metadata": {
        "id": "oIrXG6o4Jbj2"
      },
      "source": [
        "* 의도 분류(Intent Classification)는 개체명 인식(Named Entity Recognition)과 더불어 챗봇(Chatbot)의 중요 모듈로서 사용되기도 함"
      ]
    },
    {
      "cell_type": "markdown",
      "metadata": {
        "id": "tlxhRkKsJfLu"
      },
      "source": [
        "## 1.1 Data load"
      ]
    },
    {
      "cell_type": "markdown",
      "metadata": {
        "id": "hWCnSbeeJn2f"
      },
      "source": [
        "[훈련 데이터 다운로드 링크](https://drive.google.com/file/d/1cnQJPx5JuphsWO3qVAo5tMUPswjDn2Fz/view?usp=sharing)\n",
        "\n",
        "[테스트 데이터 다운로드 링크](https://drive.google.com/file/d/1euW8e7oJELyLo-3dNuGBhVxwtvoV3vgK/view?usp=sharing)"
      ]
    },
    {
      "cell_type": "code",
      "metadata": {
        "id": "NQfZZbBjdxLE"
      },
      "source": [
        "import pandas as pd\n",
        "import numpy as np\n",
        "import matplotlib.pyplot as plt"
      ],
      "execution_count": 1,
      "outputs": []
    },
    {
      "cell_type": "code",
      "metadata": {
        "id": "Up4POCriKNBO"
      },
      "source": [
        "train_data = pd.read_csv('intent_train_data.csv')\n",
        "test_data = pd.read_csv('intent_test_data.csv')"
      ],
      "execution_count": 2,
      "outputs": []
    },
    {
      "cell_type": "code",
      "metadata": {
        "id": "_oC5duSdKO41"
      },
      "source": [
        "intent_train = train_data['intent'].tolist()\n",
        "label_train = train_data['label'].tolist()\n",
        "intent_test = test_data['intent'].tolist()\n",
        "label_test = test_data['label'].tolist()"
      ],
      "execution_count": 3,
      "outputs": []
    },
    {
      "cell_type": "code",
      "metadata": {
        "colab": {
          "base_uri": "https://localhost:8080/"
        },
        "id": "Mmoco-MRKR-l",
        "outputId": "2f18fcca-e27a-40da-ae34-5518f3b65b9c"
      },
      "source": [
        "print('훈련용 문장의 수 :', len(intent_train))\n",
        "print('훈련용 레이블의 수 :', len(label_train))\n",
        "print('테스트용 문장의 수 :', len(intent_test))\n",
        "print('테스트용 레이블의 수 :', len(label_test))"
      ],
      "execution_count": 4,
      "outputs": [
        {
          "output_type": "stream",
          "name": "stdout",
          "text": [
            "훈련용 문장의 수 : 11784\n",
            "훈련용 레이블의 수 : 11784\n",
            "테스트용 문장의 수 : 600\n",
            "테스트용 레이블의 수 : 600\n"
          ]
        }
      ]
    },
    {
      "cell_type": "code",
      "metadata": {
        "colab": {
          "base_uri": "https://localhost:8080/"
        },
        "id": "9V1QVNWTKdc2",
        "outputId": "6ca1407c-a6b7-4a8d-d08a-309e2df5b7c4"
      },
      "source": [
        "# 샘플 확인\n",
        "print(intent_train[:2])\n",
        "print(label_train[:2])"
      ],
      "execution_count": 6,
      "outputs": [
        {
          "output_type": "stream",
          "name": "stdout",
          "text": [
            "['add another song to the cita rom ntica playlist', 'add clem burke in my playlist pre party r b jams']\n",
            "['AddToPlaylist', 'AddToPlaylist']\n"
          ]
        }
      ]
    },
    {
      "cell_type": "code",
      "metadata": {
        "colab": {
          "base_uri": "https://localhost:8080/"
        },
        "id": "A8tdbNrpKgVu",
        "outputId": "eb73342d-fab4-4815-f304-83de14814f97"
      },
      "source": [
        "print(intent_train[2000:2002])\n",
        "print(label_train[2000:2002])"
      ],
      "execution_count": 7,
      "outputs": [
        {
          "output_type": "stream",
          "name": "stdout",
          "text": [
            "['please book reservations for 3 people at a restaurant in alderwood manor', 'book a table in mt for 3 for now at a pub that serves south indian']\n",
            "['BookRestaurant', 'BookRestaurant']\n"
          ]
        }
      ]
    },
    {
      "cell_type": "code",
      "metadata": {
        "colab": {
          "base_uri": "https://localhost:8080/"
        },
        "id": "roLBrXOJKlUN",
        "outputId": "09877157-e216-49a7-cf6d-9dd9d99ec2e3"
      },
      "source": [
        "print(intent_train[4000:4002])\n",
        "print(label_train[4000:4002])"
      ],
      "execution_count": 8,
      "outputs": [
        {
          "output_type": "stream",
          "name": "stdout",
          "text": [
            "['what will the weather be like on feb 8 , 2034 in cedar mountain wilderness', \"tell me the forecast in the same area here on robert e lee 's birthday\"]\n",
            "['GetWeather', 'GetWeather']\n"
          ]
        }
      ]
    },
    {
      "cell_type": "code",
      "metadata": {
        "colab": {
          "base_uri": "https://localhost:8080/"
        },
        "id": "x6PJCaoQKm2J",
        "outputId": "c2d9877a-81f7-4d34-9da3-1ac9fd7cee83"
      },
      "source": [
        "print(intent_train[6000:6002])\n",
        "print(label_train[6000:6002])"
      ],
      "execution_count": 9,
      "outputs": [
        {
          "output_type": "stream",
          "name": "stdout",
          "text": [
            "['rate the current album one points', 'i give a zero rating for this essay']\n",
            "['RateBook', 'RateBook']\n"
          ]
        }
      ]
    },
    {
      "cell_type": "code",
      "metadata": {
        "colab": {
          "base_uri": "https://localhost:8080/"
        },
        "id": "3Cr3ezVAKqlt",
        "outputId": "367cc377-f7e3-413e-d188-7ae4a6a9b69a"
      },
      "source": [
        "print(intent_train[8000:8002])\n",
        "print(label_train[8000:8002])"
      ],
      "execution_count": 10,
      "outputs": [
        {
          "output_type": "stream",
          "name": "stdout",
          "text": [
            "[\"i'm trying to find the show chant ii\", 'find spirit of the bush']\n",
            "['SearchCreativeWork', 'SearchCreativeWork']\n"
          ]
        }
      ]
    },
    {
      "cell_type": "code",
      "metadata": {
        "colab": {
          "base_uri": "https://localhost:8080/"
        },
        "id": "0DsLrDPEKrIt",
        "outputId": "6d6887e6-bd6e-4c52-f8a2-a68321b7c37f"
      },
      "source": [
        "print(intent_train[10000:10002])\n",
        "print(label_train[10000:10002])"
      ],
      "execution_count": 11,
      "outputs": [
        {
          "output_type": "stream",
          "name": "stdout",
          "text": [
            "['when is blood and ice cream trilogie playing at the nearest movie theatre \\\\?', 'show movie schedules']\n",
            "['SearchScreeningEvent', 'SearchScreeningEvent']\n"
          ]
        }
      ]
    },
    {
      "cell_type": "code",
      "metadata": {
        "colab": {
          "base_uri": "https://localhost:8080/",
          "height": 386
        },
        "id": "Yd5bfZlTK1KG",
        "outputId": "139b8d92-9c39-4e52-842e-fe7292823adf"
      },
      "source": [
        "# 레이블 분포 확인 (시각화)\n",
        "train_data['label'].value_counts().plot(kind = 'bar')"
      ],
      "execution_count": 12,
      "outputs": [
        {
          "output_type": "execute_result",
          "data": {
            "text/plain": [
              "<matplotlib.axes._subplots.AxesSubplot at 0x7f1670e33d50>"
            ]
          },
          "metadata": {},
          "execution_count": 12
        },
        {
          "output_type": "display_data",
          "data": {
            "image/png": "[encoded data removed]",
            "text/plain": [
              "<Figure size 432x288 with 1 Axes>"
            ]
          },
          "metadata": {
            "needs_background": "light"
          }
        }
      ]
    },
    {
      "cell_type": "markdown",
      "metadata": {
        "id": "FwH_7jzjK5wl"
      },
      "source": [
        "## 1.2 Data preprocessing"
      ]
    },
    {
      "cell_type": "code",
      "metadata": {
        "id": "fxbKJrmgLLJe"
      },
      "source": [
        "from sklearn import preprocessing\n",
        "from tensorflow.keras.preprocessing.text import Tokenizer\n",
        "from tensorflow.keras.preprocessing.sequence import pad_sequences\n",
        "from tensorflow.keras.utils import to_categorical"
      ],
      "execution_count": 13,
      "outputs": []
    },
    {
      "cell_type": "code",
      "metadata": {
        "colab": {
          "base_uri": "https://localhost:8080/"
        },
        "id": "207lm6COK994",
        "outputId": "4468afff-7d26-4c70-88bf-c9f14088866c"
      },
      "source": [
        "# 레이블에 정수 인코딩 수행\n",
        "idx_encode = preprocessing.LabelEncoder()\n",
        "idx_encode.fit(label_train)\n",
        "\n",
        "label_train = idx_encode.transform(label_train) # 정수 인코딩\n",
        "label_test = idx_encode.transform(label_test) # 정수 인코딩\n",
        "\n",
        "label_idx = dict(zip(list(idx_encode.classes_), idx_encode.transform(list(idx_encode.classes_))))\n",
        "print(label_idx)"
      ],
      "execution_count": 14,
      "outputs": [
        {
          "output_type": "stream",
          "name": "stdout",
          "text": [
            "{'AddToPlaylist': 0, 'BookRestaurant': 1, 'GetWeather': 2, 'RateBook': 3, 'SearchCreativeWork': 4, 'SearchScreeningEvent': 5}\n"
          ]
        }
      ]
    },
    {
      "cell_type": "code",
      "metadata": {
        "id": "xIBKRfd0MAF2"
      },
      "source": [
        "# 텍스트에 정수 인코딩 수행\n",
        "tokenizer = Tokenizer()\n",
        "tokenizer.fit_on_texts(intent_train)\n",
        "sequences = tokenizer.texts_to_sequences(intent_train)"
      ],
      "execution_count": 17,
      "outputs": []
    },
    {
      "cell_type": "code",
      "metadata": {
        "colab": {
          "base_uri": "https://localhost:8080/"
        },
        "id": "LvmONxWwMDeV",
        "outputId": "65651c14-1930-47a9-b9b4-8e4383fb5b49"
      },
      "source": [
        "# vocab size\n",
        "word_index = tokenizer.word_index\n",
        "vocab_size = len(word_index) + 1 # 패딩 토큰(0) 고려\n",
        "print('단어 집합(Vocabulary)의 크기 :',vocab_size)"
      ],
      "execution_count": 18,
      "outputs": [
        {
          "output_type": "stream",
          "name": "stdout",
          "text": [
            "단어 집합(Vocabulary)의 크기 : 9870\n"
          ]
        }
      ]
    },
    {
      "cell_type": "code",
      "metadata": {
        "colab": {
          "base_uri": "https://localhost:8080/",
          "height": 315
        },
        "id": "uQ-rUpiMMY6m",
        "outputId": "fcb9d150-5529-4cc4-ec96-7473e93958f4"
      },
      "source": [
        "print('문장의 최대 길이 :',max(len(l) for l in sequences))\n",
        "print('문장의 평균 길이 :',sum(map(len, sequences))/len(sequences))\n",
        "plt.hist([len(s) for s in sequences], bins=50)\n",
        "plt.xlabel('length of samples')\n",
        "plt.ylabel('number of samples')\n",
        "plt.show()"
      ],
      "execution_count": 19,
      "outputs": [
        {
          "output_type": "stream",
          "name": "stdout",
          "text": [
            "문장의 최대 길이 : 35\n",
            "문장의 평균 길이 : 9.364392396469789\n"
          ]
        },
        {
          "output_type": "display_data",
          "data": {
            "image/png": "[encoded data removed]",
            "text/plain": [
              "<Figure size 432x288 with 1 Axes>"
            ]
          },
          "metadata": {
            "needs_background": "light"
          }
        }
      ]
    },
    {
      "cell_type": "code",
      "metadata": {
        "colab": {
          "base_uri": "https://localhost:8080/"
        },
        "id": "_74ptFcBMa56",
        "outputId": "39602947-5faf-41c8-d2cd-e3c19ea1190d"
      },
      "source": [
        "# max_len으로 패딩\n",
        "max_len = 35\n",
        "intent_train = pad_sequences(sequences, maxlen = max_len)\n",
        "\n",
        "# 레이블(0~5)에 원핫 인코딩 수행\n",
        "label_train = to_categorical(np.asarray(label_train))\n",
        "\n",
        "print('전체 데이터의 크기(shape):', intent_train.shape)\n",
        "print('레이블 데이터의 크기(shape):', label_train.shape)"
      ],
      "execution_count": 20,
      "outputs": [
        {
          "output_type": "stream",
          "name": "stdout",
          "text": [
            "전체 데이터의 크기(shape): (11784, 35)\n",
            "레이블 데이터의 크기(shape): (11784, 6)\n"
          ]
        }
      ]
    },
    {
      "cell_type": "code",
      "metadata": {
        "colab": {
          "base_uri": "https://localhost:8080/"
        },
        "id": "ebS6hHgPM2Vf",
        "outputId": "d7f01364-5960-40ea-830d-c7dd25397c64"
      },
      "source": [
        "# 전처리 결과 확인\n",
        "print(intent_train[0])\n",
        "print(label_train[0])"
      ],
      "execution_count": 21,
      "outputs": [
        {
          "output_type": "stream",
          "name": "stdout",
          "text": [
            "[   0    0    0    0    0    0    0    0    0    0    0    0    0    0\n",
            "    0    0    0    0    0    0    0    0    0    0    0    0   11  191\n",
            "   61    4    1 4013 1141 1572   15]\n",
            "[1. 0. 0. 0. 0. 0.]\n"
          ]
        }
      ]
    },
    {
      "cell_type": "code",
      "metadata": {
        "id": "0JiR_bZCM5Ml"
      },
      "source": [
        "# random index sequence\n",
        "indices = np.arange(intent_train.shape[0])\n",
        "np.random.shuffle(indices)\n",
        "\n",
        "# shuffle train data by random index\n",
        "intent_train = intent_train[indices]\n",
        "label_train = label_train[indices]"
      ],
      "execution_count": 22,
      "outputs": []
    },
    {
      "cell_type": "markdown",
      "metadata": {
        "id": "ogymID_CNE02"
      },
      "source": [
        "* 훈련 데이터가 일정한 순서로 배치되어져 있으므로 현재 훈련 데이터에서 앞의 10%나 중간 10%나 뒤의 10%를 검증 데이터로 분리했다가는 운이 나쁘면 특정 레이블의 데이터들만을 분리할 수도 있음"
      ]
    },
    {
      "cell_type": "code",
      "metadata": {
        "colab": {
          "base_uri": "https://localhost:8080/"
        },
        "id": "w65KQ9K-Nx8r",
        "outputId": "695519d1-361b-4168-99dd-6ad9ca6854e6"
      },
      "source": [
        "# Data Split (train-val)\n",
        "n_of_val = int(0.1 * intent_train.shape[0])\n",
        "\n",
        "X_train = intent_train[:-n_of_val]\n",
        "y_train = label_train[:-n_of_val]\n",
        "X_val = intent_train[-n_of_val:]\n",
        "y_val = label_train[-n_of_val:]\n",
        "X_test = intent_test\n",
        "y_test = label_test\n",
        "\n",
        "print('훈련 데이터의 크기(shape):', X_train.shape)\n",
        "print('검증 데이터의 크기(shape):', X_val.shape)\n",
        "print('훈련 데이터 레이블의 개수(shape):', y_train.shape)\n",
        "print('검증 데이터 레이블의 개수(shape):', y_val.shape)\n",
        "print('테스트 데이터의 개수 :', len(X_test))\n",
        "print('테스트 데이터 레이블의 개수 :', len(y_test))"
      ],
      "execution_count": 23,
      "outputs": [
        {
          "output_type": "stream",
          "name": "stdout",
          "text": [
            "훈련 데이터의 크기(shape): (10606, 35)\n",
            "검증 데이터의 크기(shape): (1178, 35)\n",
            "훈련 데이터 레이블의 개수(shape): (10606, 6)\n",
            "검증 데이터 레이블의 개수(shape): (1178, 6)\n",
            "테스트 데이터의 개수 : 600\n",
            "테스트 데이터 레이블의 개수 : 600\n"
          ]
        }
      ]
    },
    {
      "cell_type": "markdown",
      "metadata": {
        "id": "SFbpQ-_uN6AC"
      },
      "source": [
        "## 1.3 Pretrained Word Embedding"
      ]
    },
    {
      "cell_type": "code",
      "metadata": {
        "id": "7kG06mqtOTFB"
      },
      "source": [
        "# Pretrained GloVe\n",
        "!wget http://nlp.stanford.edu/data/glove.6B.zip\n",
        "!unzip glove*.zip"
      ],
      "execution_count": null,
      "outputs": []
    },
    {
      "cell_type": "code",
      "metadata": {
        "colab": {
          "base_uri": "https://localhost:8080/"
        },
        "id": "KLEB56oIObCW",
        "outputId": "71977443-2dce-46db-ea6d-78597501ae33"
      },
      "source": [
        "import os\n",
        "\n",
        "embedding_dict = dict()\n",
        "f = open(os.path.join('glove.6B.100d.txt'), encoding='utf-8')\n",
        "for line in f:\n",
        "    word_vector = line.split()\n",
        "    word = word_vector[0]\n",
        "    word_vector_arr = np.asarray(word_vector[1:], dtype='float32') # 100개의 값을 가지는 array로 변환\n",
        "    embedding_dict[word] = word_vector_arr\n",
        "f.close()\n",
        "\n",
        "print('%s개의 Embedding vector가 있습니다.' % len(embedding_dict))"
      ],
      "execution_count": 26,
      "outputs": [
        {
          "output_type": "stream",
          "name": "stdout",
          "text": [
            "400000개의 Embedding vector가 있습니다.\n"
          ]
        }
      ]
    },
    {
      "cell_type": "code",
      "metadata": {
        "id": "SDEBmd_8Oq0o"
      },
      "source": [
        "# 사전훈련 임베딩 벡터값으로 임베딩 테이블 생성\n",
        "embedding_dim = 100\n",
        "embedding_matrix = np.zeros((vocab_size, embedding_dim))\n",
        "\n",
        "for word, i in word_index.items():\n",
        "    embedding_vector = embedding_dict.get(word)\n",
        "    if embedding_vector is not None:\n",
        "        embedding_matrix[i] = embedding_vector"
      ],
      "execution_count": 27,
      "outputs": []
    },
    {
      "cell_type": "markdown",
      "metadata": {
        "id": "Sk-2fJnSO3m4"
      },
      "source": [
        "## 1.4 Modeling"
      ]
    },
    {
      "cell_type": "code",
      "metadata": {
        "id": "vMNXM_pfO6UT"
      },
      "source": [
        "from tensorflow.keras.models import Model\n",
        "from tensorflow.keras.layers import Input, Embedding, Dropout, Conv1D, Concatenate, GlobalMaxPooling1D, Dense"
      ],
      "execution_count": 42,
      "outputs": []
    },
    {
      "cell_type": "code",
      "metadata": {
        "id": "pXC1j_ZAP94d"
      },
      "source": [
        "kernel_size = [3,4,5]\n",
        "num_filters = 512\n",
        "dropout_ratio = 0.5\n",
        "\n",
        "model_input = Input(shape=(max_len,))\n",
        "output = Embedding(vocab_size, embedding_dim, weights=[embedding_matrix], input_length=max_len, trainable = False)(model_input)\n",
        "\n",
        "conv_blocks = []\n",
        "\n",
        "for size in kernel_size:\n",
        "  conv = Conv1D(filters= num_filters, kernel_size=size, strides=1, padding='valid', activation='relu')(output)\n",
        "  conv = GlobalMaxPooling1D()(conv)\n",
        "  conv_blocks.append(conv)\n",
        "\n",
        "output = Concatenate()(conv_blocks) if len(conv_blocks) > 1 else conv_blocks[0]\n",
        "output = Dropout(dropout_ratio)(output)\n",
        "model_output = Dense(len(label_idx), activation='softmax')(output)"
      ],
      "execution_count": 43,
      "outputs": []
    },
    {
      "cell_type": "code",
      "metadata": {
        "id": "GSWgszm9SiXo"
      },
      "source": [
        "model = Model(inputs=model_input, outputs=model_output)"
      ],
      "execution_count": 44,
      "outputs": []
    },
    {
      "cell_type": "code",
      "metadata": {
        "colab": {
          "base_uri": "https://localhost:8080/"
        },
        "id": "wWKkhcbyTd6O",
        "outputId": "284f29c5-9925-44c6-bb81-11b384d8ff2e"
      },
      "source": [
        "model.summary()"
      ],
      "execution_count": 45,
      "outputs": [
        {
          "output_type": "stream",
          "name": "stdout",
          "text": [
            "Model: \"model_3\"\n",
            "__________________________________________________________________________________________________\n",
            "Layer (type)                    Output Shape         Param #     Connected to                     \n",
            "==================================================================================================\n",
            "input_3 (InputLayer)            [(None, 35)]         0                                            \n",
            "__________________________________________________________________________________________________\n",
            "embedding_2 (Embedding)         (None, 35, 100)      987000      input_3[0][0]                    \n",
            "__________________________________________________________________________________________________\n",
            "conv1d_4 (Conv1D)               (None, 33, 512)      154112      embedding_2[0][0]                \n",
            "__________________________________________________________________________________________________\n",
            "conv1d_5 (Conv1D)               (None, 32, 512)      205312      embedding_2[0][0]                \n",
            "__________________________________________________________________________________________________\n",
            "conv1d_6 (Conv1D)               (None, 31, 512)      256512      embedding_2[0][0]                \n",
            "__________________________________________________________________________________________________\n",
            "global_max_pooling1d_4 (GlobalM (None, 512)          0           conv1d_4[0][0]                   \n",
            "__________________________________________________________________________________________________\n",
            "global_max_pooling1d_5 (GlobalM (None, 512)          0           conv1d_5[0][0]                   \n",
            "__________________________________________________________________________________________________\n",
            "global_max_pooling1d_6 (GlobalM (None, 512)          0           conv1d_6[0][0]                   \n",
            "__________________________________________________________________________________________________\n",
            "concatenate_1 (Concatenate)     (None, 1536)         0           global_max_pooling1d_4[0][0]     \n",
            "                                                                 global_max_pooling1d_5[0][0]     \n",
            "                                                                 global_max_pooling1d_6[0][0]     \n",
            "__________________________________________________________________________________________________\n",
            "dropout_1 (Dropout)             (None, 1536)         0           concatenate_1[0][0]              \n",
            "__________________________________________________________________________________________________\n",
            "dense_1 (Dense)                 (None, 6)            9222        dropout_1[0][0]                  \n",
            "==================================================================================================\n",
            "Total params: 1,612,158\n",
            "Trainable params: 625,158\n",
            "Non-trainable params: 987,000\n",
            "__________________________________________________________________________________________________\n"
          ]
        }
      ]
    },
    {
      "cell_type": "code",
      "metadata": {
        "colab": {
          "base_uri": "https://localhost:8080/"
        },
        "id": "fZOs1YT9TyOA",
        "outputId": "d1dc0ae3-b2e9-4e7b-df65-5b5d269f5f3b"
      },
      "source": [
        "model.compile(loss=\"categorical_crossentropy\", optimizer=\"adam\", metrics=[\"acc\"])\n",
        "history = model.fit(X_train, y_train, batch_size = 64, epochs=10, validation_split = 0.2, verbose=1)"
      ],
      "execution_count": 46,
      "outputs": [
        {
          "output_type": "stream",
          "name": "stdout",
          "text": [
            "Epoch 1/10\n",
            "133/133 [==============================] - 13s 94ms/step - loss: 0.2162 - acc: 0.9288 - val_loss: 0.0659 - val_acc: 0.9826\n",
            "Epoch 2/10\n",
            "133/133 [==============================] - 12s 93ms/step - loss: 0.0499 - acc: 0.9854 - val_loss: 0.0583 - val_acc: 0.9821\n",
            "Epoch 3/10\n",
            "133/133 [==============================] - 12s 93ms/step - loss: 0.0275 - acc: 0.9933 - val_loss: 0.0500 - val_acc: 0.9844\n",
            "Epoch 4/10\n",
            "133/133 [==============================] - 12s 92ms/step - loss: 0.0172 - acc: 0.9960 - val_loss: 0.0462 - val_acc: 0.9873\n",
            "Epoch 5/10\n",
            "133/133 [==============================] - 12s 92ms/step - loss: 0.0127 - acc: 0.9972 - val_loss: 0.0464 - val_acc: 0.9896\n",
            "Epoch 6/10\n",
            "133/133 [==============================] - 12s 93ms/step - loss: 0.0097 - acc: 0.9979 - val_loss: 0.0474 - val_acc: 0.9877\n",
            "Epoch 7/10\n",
            "133/133 [==============================] - 12s 93ms/step - loss: 0.0055 - acc: 0.9991 - val_loss: 0.0476 - val_acc: 0.9868\n",
            "Epoch 8/10\n",
            "133/133 [==============================] - 12s 92ms/step - loss: 0.0069 - acc: 0.9979 - val_loss: 0.0459 - val_acc: 0.9877\n",
            "Epoch 9/10\n",
            "133/133 [==============================] - 12s 92ms/step - loss: 0.0057 - acc: 0.9987 - val_loss: 0.0528 - val_acc: 0.9821\n",
            "Epoch 10/10\n",
            "133/133 [==============================] - 12s 93ms/step - loss: 0.0039 - acc: 0.9995 - val_loss: 0.0529 - val_acc: 0.9877\n"
          ]
        }
      ]
    },
    {
      "cell_type": "code",
      "metadata": {
        "colab": {
          "base_uri": "https://localhost:8080/",
          "height": 573
        },
        "id": "qsoP59dEUqd4",
        "outputId": "a1ded236-6397-4b72-91da-eb73ce37fefa"
      },
      "source": [
        "# 결과 그래프 시각화\n",
        "\n",
        "# accuracy\n",
        "epochs = range(1, len(history.history['acc']) + 1)\n",
        "plt.plot(epochs, history.history['acc'])\n",
        "plt.plot(epochs, history.history['val_acc'])\n",
        "plt.title('model accuracy')\n",
        "plt.ylabel('accuracy')\n",
        "plt.xlabel('epochs')\n",
        "plt.legend(['train', 'test'], loc='lower right')\n",
        "plt.show()\n",
        "\n",
        "# loss\n",
        "epochs = range(1, len(history.history['loss']) + 1)\n",
        "plt.plot(epochs, history.history['loss'])\n",
        "plt.plot(epochs, history.history['val_loss'])\n",
        "plt.title('model loss')\n",
        "plt.ylabel('loss')\n",
        "plt.xlabel('epochs')\n",
        "plt.legend(['train', 'test'], loc='upper right')\n",
        "plt.show()"
      ],
      "execution_count": 47,
      "outputs": [
        {
          "output_type": "display_data",
          "data": {
            "image/png": "[encoded data removed]",
            "text/plain": [
              "<Figure size 432x288 with 1 Axes>"
            ]
          },
          "metadata": {
            "needs_background": "light"
          }
        },
        {
          "output_type": "display_data",
          "data": {
            "image/png": "[encoded data removed]",
            "text/plain": [
              "<Figure size 432x288 with 1 Axes>"
            ]
          },
          "metadata": {
            "needs_background": "light"
          }
        }
      ]
    },
    {
      "cell_type": "markdown",
      "metadata": {
        "id": "FekU-8NLO8v5"
      },
      "source": [
        "## 1.5 Predict"
      ]
    },
    {
      "cell_type": "code",
      "metadata": {
        "id": "vsfAHDeTO-w9"
      },
      "source": [
        "# 테스트 텍스트 데이터 정수 인코딩 및 패딩\n",
        "X_test = tokenizer.texts_to_sequences(X_test)\n",
        "X_test = pad_sequences(X_test, maxlen=max_len)\n",
        "\n",
        "# predict\n",
        "y_predicted = model.predict(X_test)\n",
        "y_predicted = y_predicted.argmax(axis=-1) # 정수 인덱스들의 시퀀스로 변환"
      ],
      "execution_count": 48,
      "outputs": []
    },
    {
      "cell_type": "code",
      "metadata": {
        "id": "MEmY8a-PWFk_"
      },
      "source": [
        "# 정수 시퀀스를 레이블에 해당하는 텍스트 시퀀스로 변환\n",
        "y_predicted = idx_encode.inverse_transform(y_predicted)\n",
        "y_test = idx_encode.inverse_transform(y_test)"
      ],
      "execution_count": 52,
      "outputs": []
    },
    {
      "cell_type": "markdown",
      "metadata": {
        "id": "BHkfX-5gWrNG"
      },
      "source": [
        "* ```python\n",
        "  idx_encode.inverse_transform([0])\n",
        "\n",
        "  >>> array(['AddToPlaylist'], dtype='<U20')\n",
        "  ```"
      ]
    },
    {
      "cell_type": "code",
      "metadata": {
        "colab": {
          "base_uri": "https://localhost:8080/"
        },
        "id": "KcXr9_KqWGeV",
        "outputId": "4a5cdacb-768f-4a87-ea03-5f8550330834"
      },
      "source": [
        "from sklearn.metrics import classification_report\n",
        "\n",
        "print('accuracy: ', sum(y_predicted == y_test) / len(y_test))\n",
        "print(\"Precision, Recall and F1-Score:\\n\\n\", classification_report(y_test, y_predicted))"
      ],
      "execution_count": 53,
      "outputs": [
        {
          "output_type": "stream",
          "name": "stdout",
          "text": [
            "accuracy:  0.9833333333333333\n",
            "Precision, Recall and F1-Score:\n",
            "\n",
            "                       precision    recall  f1-score   support\n",
            "\n",
            "       AddToPlaylist       1.00      1.00      1.00       100\n",
            "      BookRestaurant       0.99      1.00      1.00       100\n",
            "          GetWeather       0.99      0.99      0.99       100\n",
            "            RateBook       1.00      1.00      1.00       100\n",
            "  SearchCreativeWork       0.93      1.00      0.96       100\n",
            "SearchScreeningEvent       1.00      0.91      0.95       100\n",
            "\n",
            "            accuracy                           0.98       600\n",
            "           macro avg       0.98      0.98      0.98       600\n",
            "        weighted avg       0.98      0.98      0.98       600\n",
            "\n"
          ]
        }
      ]
    },
    {
      "cell_type": "markdown",
      "metadata": {
        "id": "faWg7x7Md8N8"
      },
      "source": [
        "# 2) Character Embedding"
      ]
    },
    {
      "cell_type": "markdown",
      "metadata": {
        "id": "vX7EaMpyYCI6"
      },
      "source": [
        "## 2.1 Char Embedding (1D CNN)"
      ]
    },
    {
      "cell_type": "markdown",
      "metadata": {
        "id": "nFa4m_hjYFjJ"
      },
      "source": [
        "* 1D CNN은 전체 시퀀스 입력 내부의 더 작은 시퀀스로부터 정보를 얻어내는 동작을 하는 알고리즘\n",
        "* FastText가 글자의 N-gram의 조합을 이용하여 OOV 문제를 해결하였듯이, 1D CNN을 글자 임베딩에 사용할 경우에는 글자의 N-gram으로부터 정보를 얻어냄"
      ]
    },
    {
      "cell_type": "markdown",
      "metadata": {
        "id": "afM3IB6sZ1JI"
      },
      "source": [
        "__[단어 'have'에 대해서 1D CNN을 통해서 단어 표현 벡터를 얻는 과정]__"
      ]
    },
    {
      "cell_type": "markdown",
      "metadata": {
        "id": "0q41io-tYHjg"
      },
      "source": [
        "![image.png](data:image/png;base64,iVBORw0KGgoAAAANSUhEUgAAAu8AAAILCAYAAABYVnLFAAAgAElEQVR4Aey9b6we1X3vGylu2MUOdsB/YYe4Fk3cU9t1YtM4XLjaJRyx25IDjpyahPZgXfKHGlc4gGKCo7NF6Lk+yEexpdTCkW+uTw7SsVMuQScO9vFpFQtZqiUnYFFigZtIu2otGSkvjMoLv+DFuvoO+e299vLM88zMs2aemXk+S5o9/9b6rd/6rrVmPs/aa2Y+4AgogAIogAIogAIogAIogAKtUOADrfASJ1EABVAABVAABVAABVAABRzwTiNAARRAARRAARRAARRAgZYoALy3pKJwEwVQAAVQAAVQAAVQAAWAd9oACqAACqAACqAACqAACrREAeC9JRWFmyiAAiiAAiiAAiiAAigAvNMGUAAFUAAFUAAFUAAFUKAlCgDvLako3EQBFEABFEABFEABFEAB4J02gAIogAIogAIogAIogAItUQB4b0lF4SYKoAAKoAAKoAAKoAAKAO+0ARRAARRAARRAARRAARRoiQLAe0sqCjdRAAVQAAVQAAVQAAVQAHinDaAACqAACqAACqAACqBASxRoJLxv3brVaSEMT4FXX33VfeADH3BaVx0srzz5HDp0iLaRRyjioAAKoAAKtEoB2KdV1TVUZ2uHd4Ha9u3b3bJlyxI4FCBq/6233poRggY8I0XmhnRLWwS3MYIBddPh/eLFi0lbilXuGNphAwWapICuE/SPJtXI6Pli95O1a9f2Lbyu6WqzoziAF7LPK6+8UtsgWt+KIUKjFKgV3nfv3p2A1vHjx506qMI777zjtL93794ZYcIGPHOioRsqy5133lnLKLVJUPUN2S62bYF3v/2YRqy7pYCuE1k39LQfsuqTahd2rSmqhtLpmiXgMPuyqRtqm0Lsa4V00eALPwja1AqG66vdT9QW+91T1OcUL6uvD7ck1eYeso/Be9uuOdWqhHUpUBu86yaqm6BgvV8IG3C/+MM+bxemfhelmH7GviGHvtVZJssr9CFtX8Awihf1NC1G5ZhgUf+d63VDT+sPalcGAgL/IkHxzab/X0HdROVLm4KVo4zP6m9heQ3e+cFcRtHRTGPXeF27w/bkKyI+UHvVj+RRvM63jX38umO7XgVqgXdd7NUh1YHzhLY1YLsw5S1fHg36xRnkhtzPts7XWSbLK49fwHselboTR4Cotq6RXv34z7qh9+oPBuJ5+6eNdvnQ3mZFe2nTr1xtuxb3Kw/nh6OAXeOtL4oJ0oKu7/Zfnay+npauK8fob12pyerLUQu86wasX9J5gzVg3TyVzm7eaSM96uwWR/H0qz4c3bebl4GAXRQUz/+3uC4aaXnIb+Vj/z5XvKNHjybFkS3Z9xfFtSAQ8P1Tfnn9MxtpaytT2jk7ZnHsgqh9+av8rezmd6ibXWy19tNLg7R/4amuZMPsKZ80+PH1kI7Sw2DJ/La1r7ny1b4Wqz+LZ+W0fZ3XIt9Ne7shWBxbmw46LzuKr3RKr7wIw1VAbUp9UvVk9ZrmUdgGwjhKK1t5grW1PHHbEKefNr3K0EvzXuk4hwK+AnY/sf/aZF1b7Tqt+4Lanh/sHmPXavVT/z9quk7onK4VFrRdpD9bX9E9Sem0bz6ZTVvLtsph8RRX15i0+57KrTKZ71qnsUDY30w3rS2Yj2IQy1vrPPdl+Vd0MNXyZd0sBWqBdzXILChOk0Px1RjVuO0XuhqqNVpLowatzmNxtBZ8hZ1e6WTPgNvSa1+d3zq77KV1VNk0qFNa5SPfLKR1MJ2zUQbLV+nkm2z5Ics/P064HWoRnte+4qg8fv6mj/zwj5veZsfKpPiKZxppW3b9C4UuVv7FSHHtQmp1I7uhHoone8pbNv1gFzr5oWCaK25a/fo3A51XPLtQKb35rbUF5a/yaTE/VRbtK71v09KwHp4Cqtew7s2bfv3B2p7Fz1rbD0lr71nx/OPWNtUHrM/1ujGrTauNWVy/nanNqu2FQf6E1ybZUXzZ0ZLVZnXOzyPct7x8fa3/m21bW9w0G0X98fu+fPevKZYP624oYO1Ja7VFteUwqI/quNq63xYtnu4pfhuxa7psKiid2pF/b1Ya9bW8Qe1a8WXD7gmyL798hlFeiqfFYF3HVDbZMJ+Ur39/NJtaq+9aec2/sNyyE9rTvvV15alF/uq4+RLmqzgK0k8+hzYtf9btUWAuMVXktxqkf/Pol43iq3Fag7P4auw61yvYzdePo4baL53FVwf14/oXFIsTrtM6mHxXxwzLrePyx78IFfHP8laatMW/aOi8fyFTWtPHvxDpuF0Izb6VKfRf52VT9WNBevma2XFdJPx80vRQXMWRrxZ0AdK+XxY7J5thXorr+6nzedqPyhxePJWP1ZFv0/JnPTwFstqZPArbQOiltWf/5hbG0b7qXG0sbyh6Y1a71HXMbuLW77RWsP4Z+mk/PuyaaPtKZ8dUxjz9I0urNH3TjsnP0EZRf6SDtJbvWtLgI28dEK/5Clj/01r1reuu2owf/PtFVrvz42tbafzrtJ+P3UfCvhTa8PfVrpV3GKx9+/027d6hdOrf/jUki1ukg/qBf48My+2Xx3ySj7IZhvD+mpWvXWNkm9BeBWaJqcIyqEH6HaxfVmEDtviyocbuBzVAHVcadRg1bC1+0H5W/uqU6jxKL9uKq20L2g4B2M7ZOq2D2THr7BZX6/CC08s/P52/nSdNWhzzS2s/2HE7ZvthPJ23cxZX+YQXYp0zXf00aXqE9tLq2fKyurZ9rcNyqs78OrS4od1edatzWW3G7LGuV4GsepUXYRsIPbM2ltae/bhp7cs/H25n3SCzbsy6xuicH0Ib4Q1dcRXHvw6FN2qzZ8ASDg74bTlLqzR9044pr9BGUX9UnjBk2Qjjsd8+BcL+p7bsA66dt/tDWrtTv9GPVaXVebWXsB1KGbvvhPdZnVM/UBp/ydM3lFZp7Pqh/P3+6NeIwbEdU7q0+6POm68WNyy36WL5Kp7s+T77aX2feuXrl8XSs26XAnMptyLfw5tTv2zCBmzxrePZvhq+OrDWaty6cVljtzhaZzV2dW7dKHVBUDpdOJSH8reg7bSOYue1tjy1tmDHlHfa4tvM8s9spa3zpEmLY375vsq+Hbe8bD+MlxY3rXx2zLQ0e2bfX4fnwjrw46adC8uZt/30qtte53x/2K5Pgax6lQdhGwi9sjZmcBCet/209mXn0tbKt+yN2ewpT12HLGhf1zUL8ln5WF/sV5YQWkJtwn3LJ03ftGOK79sY1B8/fx8+7Djr9itgbcTacNimwx+nYbtTfPUJHVd/kx3BvPbVX/yg44rr9yH/fK9tv12H8XTO/E/L1+JbWW3fT2fHbB1eb8Jymy3LV+myfAzT9sq31znzjXWzFagF3tXZ1Fj63ThNqrAR2nE1dNlRUAfVtj/CpOPW2C2N1ooXdnD7dSw7fkjrTPpx0CtYnn4Hs2O90tm5NP/sXNY6T5q0OOaX76vysOOWn+2H8XTe6tPiKp+0eHZea7MX6q1zVhcWX3Xgj8rYca3DkQodC8uZp/0oneJl1W0IQL4PbA9Hgax6lTdhGwg91A90H5DD87aveLKVN/Rq+2nXEpUhDIrn52lgY9e20HfrS6Ed21cesmkh1Cbct3hp+qYdU3zfxqD+9MrfzrFutwLWRrS2oB9qWqy9+3wQtjtdp9PuCWFbl227fwje1XeKBL9d++nMR/Nf+WbdO8L7mWxaX/Ztaju8n4XlTtMty8cwbVa+xk5WltAn9tuhQP671IDlUcfTkgZvoemwEdp5/yaX1qgVTxcDNVo/pDV235YfVzd45W9B8XQR6OV3mi/WQbJG5cy+1mn++efTtvOkSYuT5qvs23HLy/bT/Jc+/r+9Va/9Rszs4pdmT7bkqwX7ceBfzHVOmob1o+NhOfO0H6WTz2lAZ1MPVPeE5iiQVa/yMGwDodeq5zz12audhjYt37I3ZrOXdi1SWa1PqX/5EGJ9M+uapPh+WUNtwn3zI03ftGNWbstjUH965W/nWLdbAWsjWluwY2rnamd+CNtduK+41letHeqYXbu11n1E9+7wPuLnE26rb1i/888pD38k3/bT+mBYnjTfzXZ4XQrjmka+bnn7r2ynlcUGKHyb5g/r9igwS0wV+6xGrpuKFv9mp+PqZH4jCxuwuaYOo4ZrQZ1J6awDqVHKvh9HcdMau3VyuynKhmwpvfK34PutNAq6GPj+2kXEbFla6+A+sMqGD76Km+af2cha50mTFiftYqA87LjlZ/u6AJj/ppF0Ny38tCqv1YU00b5/gdAog9L69nQshHfZtLZi6WVP9aK4fv0obljOvO1HNuWPbGrbyqL0yl/+E5qjQFa9ysOwDfheW7+2tumfS9u2duq38bR4OtbLp343ZrOpdib//aA+Yv1Ma993betYWvtUO5Yt6zeyGWqjtu1fvxTHbKo8fsgqn2/T0pb1x/LLysvOs26vAnY/8dulSqM6D9urHffbou6tavOW3u4Hfh9TO9S++q+Fom1Kvljfkj0F5a3jdt/SMZ2ze5RdJ3RMfUDp7ZjialvH1OfsPqO17juyYfkobuhvmm5+31MaC2Fa+w+AfLI8VBb5kaa52WHdDgXm3jEq9lkNSI1HDVaNR4s6m9+o5ULYCM0tNUKlsaBOYbbUOdRprcFaHK2VJu3Gos6o/M0P+aZ4yt8P8ls+Kg+L6/8AUVyltfN+XjpueSitbIdps/zzfQi3lSZt8X1Ps5t2MZBtO2752L58NbiWPW37FyY/vtWF4mnb18Hi6ZjpobX0sbwsjtah5rKneGn1E5Yzb/tRPipLWD67MaT57/vIdr0KZNWrvAjbgNqP2q7SqO1ov0iw/q5rhJ/WbJqtQW7MZkPtTP6HQdcT+S9fwiC/lEb9x/xT/1BZw/ihNpafXYcMJNQflZ8fZEvHLQ87F9ocxB+z2at+LQ7rdipg13it/aD9sM3pfFpbsB/Vant2P1A8u06ntVW17bCt+vmH2xY3zMv6ih9ffUJ52n1fa+0rzzCE9xn1Kfkd9quw3Gm6mY9hHmFanZff0kpp5J/KpTy1H9ZFaI/9Zitw9R2j2f7iHQrUooAudAIjQnMUSLs5mXe6GfmL6k8/ygSVZYPS+j/szGZ40yt7Yza/DKZt39a60apMsp8W/Buz4ukmnVZenTPAMTvaV3l0TiAhW2n62g9ZxdNiIc3mIP7Iblr+lh9rFKhDgbR2XUe+deah64nKmXVdqdMX8iqvwOzVuLwNUqJApxSw0Q4ubp2qVgqDAiiAAj0VGAV4tx/uPYXgZOMVAN4bX0U4WJUCgnT9m9OHdI1cakRSo54EFEABFECB0VGgS/Cu/xwL1G0aj6bLaF9l1H/JCO1WAHhvd/3h/YAK6GKmaQO6oGnJmnowYDYkRwEUQAEUaLgCXYL3cE6+yqZpgOG0v4ZXCe5lKAC8ZwjDYRRAARRAARRAARRAARRomgLAe9NqBH9QAAVQAAVQAAVQAAVQIEMB4D1DGA6jAAqgAAqgAAqgAAqgQNMUAN6bViP4gwIogAIogAIogAIogAIZCgDvGcJwGAVQAAVQAAVQAAVQAAWapgDw3rQawR8UQAEUQAEUQAEUQAEUyFAAeM8Qps2HT5065bQQUAAFUAAFUAAFUAAFuqUA8N6t+kxKMzU15bQQUAAFUAAFUAAFUAAFuqUA8N6t+kxKA7x3sFIpEgqkKMCP9BRROIQCAypAvxpQQJJXrgDwXrnE9WcAvNevOTmiwDAU0FcTCSiAAnEVoF/F1RNr8RXgyh9f06FbBN6HXgU4gAK1KABk1CIzmYyYAvSrEavwFhYXeG9hpfVzWfD+5JNP9ovGeRRAgZYrAGS0vAJxv5EK0K8aWS045SkAvHtidGVzx44dbtu2bV0pDuVAARTIUADIyBCGwygwgAL0qwHEI2ktCgDvtchcbyYCd+C9Xs3JDQWGoQCQMQzVybPrCtCvul7D7S8f8N7+OryqBAL3e+6556rjHEABFOiOAleuXHGCjOnp6e4UipKgwJAVoF8NuQLIPpcCwHsumdoVaWJiwm3cuLFdTuMtCqBAIQUE7cB7IcmIjAJ9FaBf9ZWICA1QAHhvQCXEdmH16tVufHw8tlnsoQAKNEgBIKNBlYErnVGAftWZqux0QYD3DlbvokWLkhE5/fuPgAIo0E0F3njjjaSfnzp1qpsFpFQoMAQF6FdDEJ0sCysAvBeWrNkJzp075zTyvn79esdNvdl1hXcoMIgCJ06cSOD9yJEjg5ghLQqggKcA/coTg83GKgC8N7Zqyjm2d+9e9/DDD7udO3fyrvdyEpIKBVqhwOHDhxN4V58noAAKxFGAfhVHR6xUq0An4P2ZZ55JbmJ6eGvUF02ZefPNN5M3UCxevHjk9bD28K1vfavanoR1FKhZAbXplStXuieeeKLmnMkOBbqrAP2qu3XbpZK1Ht7fffddt2DBAnf58uUu1QtliaiA2oh+1Fy6dCmiVUyhwHAVmJycTP7DtmnTpuE6Qu4o0CEF6FcdqswOF6X18K75aXo1IgEFeilw3333OeYG91KIc21SQA+j6wep3ozB4EWbag5fm6wA/arJtYNvvgKth3dNmXnyySf9MrGNAlcpoHnBO3bsuOp4FQf0X6B9+/a5qakpFjSopA3oQ2z6Qaqg7fvvv7+SfGjD9GG1AV3PYvx3u+nXxjb1qz179kSpkyrugdisXoHWw7s626FDh6pXihxarcDzzz/vtmzZUksZ1CaVF+AD+FTVBjRo8etf/zppz1rrRl5VXtilHevHof1YHOQi2vRro/pRW/pVrDoZpD5JOzwFWg/v99xzjzt27NjwFCTnViig12bWMb3KnsGwG0ArxMFJFEABFOihQIzrWgwbPVwcuVPoOXJVPqfArYf3jRs3up/97GdzCsUOCoQK/PKXv0zezBEej71/5swZpzZJQAEUQIEuKaAHOQcZKOPaGL81DFon8T3CYl0KtB7e9ao0PbRFQIFeCqiNqK1UHTSFS+/YJ6AACqBAlxTQs2WDfFOAa2P81jBoncT3CIt1KQC816U0+QxVAU1j0Xvvqw56R/AgN7iq/cM+CqAACpRRQPA9yEP/XBvLqN47zaB10ts6Z5usQOvhfWxszOn1TgQU6KeAPthUddADWXo4loACKIACXVJAr2XWM2ZlA9fGssplpxu0TrItc6bpClRPMxUroDchEFAgjwJ1tBU9FKuHYwkogAIo0CUFzp0759avX1+6SFwbS0uXmXDQOsk0zInGK9B6eG+8wjg4UgrwDMZIVTeFRYGRUWDQ54a4NsZvKoPWSXyPsFiXAsB7XUqTz0gowA1qJKqZQqLAyCkwKChybYzfZAatk/geYbEuBYD3upQmn5FQgBvUSFQzhUSBkVNA7xXXM2ZlA9fGssplp9PzfoPUSbZlzjRdAeC96TWEf61SoI6HYlslCM6iAAp0RoFBrm+DpO2MgBUUBF0rELUFJoH3FlQSLrZHgToeim2PGniKAijQJQUGub4NkrZLGsYuC7rGVrQd9oD3dtQTXqIACqAACqAACqAACqCAA95pBCiAAiiAAiiAAiiAAijQEgWA95ZUFG6iAAqgAAqgAAqgAAqgAPBOG0ABFEABFEABFBhpBfTgJw9/jnQTaFXhgfdWVRfOogAKoAAKoAAKxFYAeI+tKPaqVAB4r1JdbKMACqAACgxNgddff9099thj7vDhw1GXp556yv393//90MpFxvEVAN7ja4rF6hQA3qvTFssogAIogAJDVOAHP/iBW7Jkmfv8Fx6Iunxs5SongCd0RwHgvTt1OQolAd5HoZYpIwqgAAqMoAKnTp1yn/7MHe6f/vXdqIt+DGg0n9BsBfbt25fMYzcwj7l+6KGHml14vOu0AsB7p6uXwqEACqDA6CoAvI9u3avkRerfwD7PDz1+vI12u2pC6YH3JtQCPqAACqAACkRXoAi85YE2iwO8Ra+qSgxS/5XIitEGKAC8N6AScAEFUAAFUCC+AsBbfE3bZJH6b1Nt4WsRBYD3ImoRFwVQAAVQoDUKAG+tqapKHC1S/0ybqaQKMFqRAsB7RcJiFgVQAAVQYLgKFIE3mxKTZ820meHWa97ci9Q/8J5XVeI1QQHgvQm1gA8ogAIogALRFSgCb3mg3eIA79GrqhKDReofeK+kCjBakQLAe0XCYhYFUAAFUGC4ChSBNwPzPGvgvfp6vXTpktMySChS/8D7IEqTtm4FgPe6FSc/FEABFECBWhQoAm95oN3iAO/VV5/qbmxszO3cubM0xBepf+C9+jolh3gKAO/xtMQSCqAACqBAgxQoAm8G5nnWwHv1lay6M6AuC/FF6t/yov6rr1tyGFwB4H1wDbGAAiiAAijQQAWKwFseaLM4ZeB9ampqBkYNFFl/oJAmgvgTJ07kbmlNqv/cThMRBXIoALznEIkoKIACKIAC7VMAeGtfnZnHqjv/x819993nzp07Z6dzran/XDIRqYUKAO8trDRcRgEUQAEU6K8A8NZfo6bGMHgvA+1WpiL1bz8U7L8rvdZl/vNiPrFGgRgKAO8xVMQGCqAACqBA4xQoAm+9YC08B7xVX9XT09OFR9pDr4rUP/Aeqsd+kxUA3ptcO/iGAiiAAihQWoEi8BYCeq994L10ldSasEj9A++1Vg2ZDagA8D6ggCRHARRAARRopgJF4K0XrIfngPdm1nfoVZH6B95D9dhvsgLAe5NrB99QAAVQAAVKK1AE3kJA77UPvJeukloTFql/4L3WqiGzARUA3gcUkOQogAIogALNVKAIvPWC9fAc8N7M+g69KlL/wHuoHvtNVgB4b3Lt4BsKoAAKoEBpBY4cOeJuGr/Z/dXXvxl1+b3fX+eefvrp0n6RsB4FisB7+AOt1z4/3uqpP3LJVgB4z9aGMyiAAiiAAi1WAHhvceVFcB14jyAiJhqpAPDeyGrBKRRAARRAgUEVAN4GVbDd6Q8cOOCuuWYs+e+L/gPTa7FpM73i2Llr5893jzzySLvFwftWKwC8t7r6cB4FUAAFUCBLAeA9S5nROH758mV39uxZp3fG91sM3vvF0/nXXnvNvf3226MhIqVspALAeyOrBadQAAVQAAUGVQB4H1TB0Ulv8D46JaakbVYAeG9z7eE7CqAACqBApgJdgvfTp0/3HT3OM2rsxzl//ry7cOFCpn6jdAJ4H6Xabn9Zgff21yElQAEUQAEUSFGgS/AuuFy24qNRl+sWXe/WrFmTotzoHQLeR6/O21xi4L3NtYfvKIACKIACmQp0Dd5/cuaSi7ns/NZ+t23btkz9RukE8D5Ktd3+sgLv7a9DSoACKIACKJCiAPDeG/aB95RGwyEUaIECwHsLKgkXUQAFUAAFiisAvAPvxVsNKVCg+QoA782vIzxEARRAARQooQDwDrznbTZMm8mrFPGaoADw3oRawAcUQAEUQIHoCgDvow3vhw4dcvPnz3crV67suxi854m7cOFC9/jjj0dvrxhEgbwKAO95lSIeCqAACqBAqxQA3kcb3k+ePOk+sWaD+/6PzvZdDN7zxP0/7rzHHTx4sFV9AWe7pQDw3q36pDQogAIogAK/UQB4H214V/2v/dRtud7QY/Ce520+d/3pVnf48GH6GQoMTQHgfWjSkzEKoAAKoECVCgDvwDvwXmUPw/awFADeh6U8+aIACqAAClSqAPAOvAPvlXYxjA9JAeB9SMKTLQqgAAqgQLUKAO/th/c333zTXblypVRDKTJtJs90GYvDtJlS1UGiiAoA7xHFxBQKoAAKoEBzFADe2w/vU1NTbvny5W7fvn2FIR54b05fxJO4CgDvcfXEGgqgAAqgQEMUAN67Ae/2MGlRiC8C75aHja73WjPy3pAOPsJuAO8jXPkUHQVQAAW6rADwHh/eNRJuoDustd7FPj093bfpAu99JSJCSxUA3ltacbiNAiiAAijQWwF9pOe66xa6T3/mjqjLkiXL3GOPPdY788hnBcq9RoPLnNv5rf1u27ZtkT2Na87/sTA2NuZ27tzpLl26lCsT4D2XTERqoQLAewsrDZdRAAVQAAX6K3Ds2DH3e7+/zj3/t8ejLndM/Hu3f//+/g5EjDHK8F4U2k124N2UYN01BYD3rtUo5UEBFEABFEgUYNpM/GkzdTetM2fO5B5pD30D3kNF2O+KAsB7V2qScqAACqAACsxRAHhvP7zPqdCCO8B7QcGI3hoFgPfWVBWOogAKoAAKFFEAeAfe836kqcgzA7xtpkgvJG4VCgDvVaiKTRRAARRAgaEr0DV433PgRRdz2fIXO9zmzZuHXk9VOVBk5B14r6oWsFuFAsB7FapiEwVQAAVQYOgKdA3eNYoccxn/2C1uw4YNQ6+nqhwoAu/22ss8EM/Ie1U1ht28CgDveZUiHgqgAAqgQKsU6Bq85wHLInHa8KrIQRoc8D6IeqRtsgLAe5NrB99QAAVQAAVKKwC8M+c975x3Rt5LdzMSDkEB4H0IopMlCqAACqBA9QoA78A78F59PyOH+hUA3uvXnBxRAAVQAAVqUAB4B96B9xo6GlnUrgDwXrvkZIgCKIACKFCHAsD7aMP7gQMH3Ic+dI1btuKjfRebNpMn7m//9nz3yCOP1NGEyQMFUhUA3lNl4SAKoAAKoEDbFQDeRxveL1++7M6ePeump6ejLq+99pp7++2329498L/FCgDvLa48XEcBFEABFMhWAHgfbXjPbhmcQYF2KwC8t7v+8B4FUAAFUCBDAeAdeM9oGlcdtmkzV53gAAo0UAHgvYGVgksogAIogAKDKwC8A+95WxHwnlcp4jVBAeC9CbWADyiAAiiAAtEVAN6B97yNCnjPqxTxmqAA8N6EWsAHFEABFECB6AoA78B73kYFvOdVinhNUAB4b0It4AMKoAAKoEB0BYB34D1vowLe8ypFvCYoALw3oRbwAQVQAAVQILoCwDvwnrdRAe95lSJeExQA3ptQC/iAAiiAAigQXQF9pOeaa8bcTeM3R12unV//R3oEl5dtdP0AACAASURBVD850xvGi57f+a39btu2bdF1xyAKoEC1CgDv1eqLdRRAARRAgSEpcPLkSbf+U7e6U2fOR10m//Q+d/DgwVpLBbzXKjeZoUCjFQDeG109OIcCKIACKFBWAabN9B6pZ+R9tmWNwrSZV1991amcWhPSFZA+hw4dSj9Zw9GtW7c6Lf0C8N5PIc6jAAqgAAq0UgHgHXjP23DbDu/vvPNOAp133nlnAugqz9q1a+eAKPDevzUA7/01IgYKoAAKoAAKVKYA8A68521cbYb3t956yy1btsxt3759zqi6ju/du3fmWBvhXaPgKlddAXivS2nyQQEUQAEUQIEUBboG71966HEXc9n0f046jdQS3Mxoddu0uHjxYgLuR48e7et6G+E97zSSvoXPGQF4zykU0VAABVAABVCgCgWA996wD7zPtrq2jrzv3r071xxplRR4n63vrC3gPUsZjqMACqAACqBADQp0Dd6LvgqyX3weWJ1thG2Ed81zl9+vvPLKbEF6bPnwruk0mmqj9Prvi6bY+EH7mq5icTR//vjx436UZD690iuuzmtbeSjIJ42a61hWHopn+Vg8pdF/E8xXO25rc0Bl1w8X379QB025Ubo0/8xOuFb88IFV2fWfJVC+yl9BtpUm1EbnZEf++XGlqZVFZVV6P+T9TwMPrPqqsY0CKIACKNAZBYB35rx3pjGnFMQA1+AwJcqcQxZfgGiwKVAWmPqQqUSCex+GNS1H0GlwrjgGxwJS2fGDjhmY+qDt+yr7Bst2XMf8KUBpMKu48lmL5avyyJbvcy//fF/9bfPHjpld80n5ySflbUHbKm8Y9INGOipIC2ls4K8y2A8oK4PipZU3tKt94D1NFY6hQIUKzJs3b+aXty4ULKOpwaJFiypsZZiWAsA78N7lnmAwnreMFt9A1NLZ6LEP5nbOXwtS/VFpg+N+6WRDsKp7nR83fBuOn5dtp8Gs8g1/bCi+YNiH6iL+WX4+vMtn5eOXWfGsLPZDwQBfxy2YpgbmaeVQXPlrgK/9rHhm19bAuynBGgVqUmDlypXJB2P+6V/fdbGW5//2uPv0Z+6IZs/8kk3Ztv0Ya30wR1+8jGHLt/FXX/+m0+Ifi7EtX+VzDFtmQ5pOTEzU1OJGNxvgHXjP2/ptECVv/CbEMxjP64vF9wHa0qr8NhqvYwJRQb7NqRfE+mCrOAbHZsNfC1p1XiPSAlLT1/I2Xwxu/bT+dhrM6pj8CoON5NvxNP98X0KflM4vYy8f/R8yBvn+jyLTzXyRXV9fOy5wl08W0spr5/w18O6rwTYK1KAA8A68A+81dDRG3h1z3vO3MwO5/CmGH9NGdw2I+3lkMJoW34dWAbVgXSAp4FR8Aar2/VHoNDiWDwbRAlhtW37Kw7a11n6/kAazOmb1lbY2m1n+2fm0texZGc3HtDz8eLKjsvqj/tLPh/UsGzqu8lhIK6+d89f9lfNjs40CKDCwAsA78A68D9yNchlg5J2R91wN5TcjrgKptgVNPUkbhU4rh8GoAbQfx4fRcPqJxRNYGtjqWBYch1NBLL3ysLzNF3+qicXz12kwG/rhx/e3s/zz44Tbvg7mYxgnbd/i6oePfrAI3v3gl90/Hm6nlTeMo/32tdS0UnAMBVqkAPAOvAPv9XRY4B14z9vSBFda2hZslNsf5c0qgwGm1mHwoTUNIAWlfhylz4LjMJ7iyj8dt7xtqon/YyD0SftpvujHhX609AtZ/vVK5/suH7WfR1vZlE+aOqOpQmG59IMmz4+stPKm+du+lppWCo6hQIsUAN6Bd+C9ng4LvAPveVuaIE1LG4OBsYDRn0OuaTUCRgPmvPAuANXIsaWTTUFl+IBpFhwLXgWr5ovsKL30NZvS2fxWfjYCrx8j4dxx5Wvnlc7AX/lYHjome37aLP961bF89MFb2+EUGOmqvMOgvK2c5pfFMe1lz8qiONr3NQHeTTHWKNAwBYB34B14r6dTAu/Ae96W1mZ4VxkFgAJ1gaaVRSDojxobQPqwaPqE0KrRbbMlEFca2QvBVunCIDgV3JofBtnaD/MWrMu+xVUZDG5lV4BrQOznpeN+HgL8MK189dOEfqbtK75fRsURlMu++Sh/5HcY5LfipIG94qrsflm1HeYl21r6hatV75eC8yiAAgMpALwD78B7/i507ty5/JGDmMA78B40CXZRoBMKAO+dqEYK0SYFgHfgHXjP32P1Ss3169e7l156KX+i38QE3oH3wo2GBCjQAgWA9xZUEi52SwHgHXgH3vP3acG7/bu6KMQD78B73pZmbSxvfOKhwDAVAN6HqT55j6QCwDvw3g/ep6amZoDVoIL17Jd4Jycn3ZUrV/peP06ePOnWf+rW5CNb+tBWrGXyT+9zBw8e7Jt/zAiq/37vbS96fue39rtt27bFdLO1tqx/tbYAOD5SCgDvI1XdFLYJCgDvwHs/eG9CO22KD/7I+/Lly92+fftygbv8P3DggLvmmrHki776Um6s5dr5890jjzxSq0TAe7VyA+/V6ov1uAoA73H1xBoK9FUAeAfegfe+3WQmguC9KLRbYqbNMG3G2kK/NfDeTyHON0kB4L1JtYEvI6EA8A68A+/5u/qJEydyj7SHVoF34D1sE1n7wHuWMhxvogLAexNrBZ86rQDwDrwD7/V0ceAdeM/b0oD3vEoRrwkKAO9NqAV8GCkFgHfgHXivp8sD78B7PS2NXEZFAX1YKc9HlKrWA3ivWmHso0CgAPAOvAPvQaeoaLdr8L72U7e5mMv4x25xGzZsqEh9zKLA8BTQF1gF2uEXXfN6pC+o6quqYZBNLcMOwPuwa4D8R04B4B14B97r6fZdg/c9B150MZctf7HDbd68uZ7KaHguTJtpeAUVdE/QrjotC++HDh1K0hfMtrbowHttUpMRCryvAPAOvAPv9VwNugbvRd/j3i8+73mfbYfA+6wWXdgC3rtQi5QBBRqkAPAOvAPv9XRI4J0573lbWlvhXfOvtRw/ftwtW7ZszmjxW2+95bZv3z7zwTfF0zE/qNwaZbZpItqXHR3zg8Gw4smOpbM4iq9pJlnp33nnHbd79+4ZH2VDU1v8INuakiIbWhRf6fxg+R49enQmP+WrtBbMP7Njaey8fPXzkUZ+Pn4627YRfNnW4geVwy+b9Evz3dLKluWfprVvO2ubkfcsZTiOAhUpMG/evJmLk10YWM9+PXNUtFi0aFFFLQyzpgDwDrxbW+i3tutOv3hNOy8gFLyGsChI9yFScLp3797kmA/NKrdAUuntuOBSaRXfgsG74hrI2jkDVzuutXzy0yudD8mCbQG4Bf34kC92TL6obErnB8WRbQG4yqRF+eu4/8PE/DWfzIb2ldbKqrXyCIFccWQzDAbgdtzX2bepskpD/0eB1ZXOWVyV1y+32e23vtqzfik4jwIoMJACjLwz8q6R9/Xr1zvBpRbdKI4dOzazb8cHWZ88efKq0bOBGm4LE0u/T3/mDvdP//pu1OXzX3jAHT58uFZFdIPvNw2m6HmmzcxWofRNg7XZGM3cEhCGkChPQ8g07wWqPlSrzIobBoNpg0yDYV2r/GDHQ0gWnMu2wau2/dFx34biqAyhbR0P02lf8BuGMH2WX2E67Zuv/rm88C5f0vST7+EPGMXTMdPE8suyYefT1sB7miocQ4EKFQDegXfB+/wPL5x5c4i2V/3u78/sx3ijyCfWbHDz58+vsCU33zTwzsh73lYqKNTStpAF6SqLADwMAncfNhUvhGZLo3MG5VkwrLQC0jAYeFt6/WhQvDSfzLb9UPBtKZ3vX5a/KpNG4C2YTcvfjmutY7KpNLIvm1r8oPPhMZ0P9VactDIpbqh1mNbyy9LQzqet53qbFoNjKIACURUA3oF3wbsA3UZKta23iNh+jPX3f3TWqa2NcgDegfeut/8sIDQgTVsrjQWd9+HYjmutcwa/WTBskJuWj59eMG/TW2yU3EagzXaWDd8/xfH3zd9QB7Np/ls8AbXy11rnNO3F4locra1c/jFth/n4ZQzjyoavdZjW4mflZefT1sB7miocQ4EKFQDegXfgvcIO5pkG3oF3rzl0cjMLCHtBpS9EFgxrFNy3YYAbwnAIqL7ttG0Bu9IIoG2k3GynxQ+PZfkb6mA2fX/tvwHh9B2L6+eVBdRhPvIntGd2ioy8y06RUCx2EcvERQEUSFUAeAfegffUrhH9IPAOvOdtVIKnogCV13aV8UKYtLw0HcTg2I6lrVXmtHgG2JbGANeHYZ2z+eJpU14sbdrah2OD6qzpJ356+au0YQh1SPM37Zjs2H8EfJu+f/7xMJ9w34+raUK+r1lxs/LybYXbwHuoCPsoULECwDvwDrxX3Ml+Yx54B97ztrSuwbuBqsDQpqcIsLXvA7jKHU5jsTeg+DBt9vy0pq2gVD8W/HOCeo08WxAgG+DLHz2k6T94Kr/kh5+nprT4cWQrL7zbfw7s7TXmh434myY6b/PeLY7W8kN5+W+w0fEQwHu9bUZ2LZ+0tJYf8G5KsEaBBisAvAPvwHs9HRR4B97ztrSuwbvKLZg2MFX5tC1Q9IPBsM0Ft3jhVJBe8C5A9dMLkAXdPvgKkjUSLftaK74PtvLJj6N4AuXQD/PXL4O2Q6g2e/LFTyOfTBOdkx/234PQpo3IK739MEnLRzZVXsXTYiPuYfnS0ipP4D1Unn0UaKACwDvwDrzX0zGBd+A9b0sz8MobvyvxVO4Q6LtSti6Xg2kzXa5dytZIBYB34B14r6drAu/Ae96WBrznVYp4TVAAeG9CLeDDSCkAvAPvwHs9XR54B97ztjTgPa9SxGuCAsB7E2oBH0ZKAeAdeAfe6+nywDvwXk9La28uTJtpZ90B7+2sN7xusQLAO/AOvNfTgU+ePOnWf+pWd+rM+ajL5J/c5w4ePFhPIX6TiyArxse7fBs7v7Xfbdu2rdZykBkKoMDgCgDvg2uIBRQopADwDrwD74W6TOnIehBv/vz5yZdm1e9iLQsXLnSPP/54ab/KJATey6iWP82oTpvJrxAxm6QA8N6k2sCXkVAAeAfegfeR6OpRCwm8R5XzKmPA+1WScKDBCgDvDa4cXOumAsA78A68d7NvV1kq4L1Kdd//+I80JqBAGxSgpbahlvCxUwoA78A78N6pLl1LYQSWy1Z8NOpy3aLr3Zo1a2rxv+mZMPLe9BrCP18B4N1Xg20UqEEB4B14B95r6Ggdy0Jw+f0fnY26/F87/pO7//77O6ZUueIA7+V0I9VwFADeh6M7uY6wAsA78A68j/AFoGTRBZf+m2JibPO2mdnKAN5ntWCr+QoA782vIzzsmALAO/AOvHesU9dQHOC9BpHJolYFbr311uQ/P3pdaaxl8+bN7u677661HMPIDHgfhurkOdIKjI2NueXLb3Q3jd8cbVm8ZJm75pqxaPbMN9mUbduPsV6+4ib3wXnzotqUX9ddtzBZYvjo25Cv8tk/Nuj24iVL3aKPLJ4ZSV37qdvcngMvzuzHGFXVFAv9UCR0QwHgvRv1SClmFViyZInb9a3/7P7Ldw5GW766/etu3bp1s5l0dAt472jFUqzmKjA+Pu6O/Oh/R/1ozL4Dhyv5GI0+cCPbMT9yo7Lrx0tMm7L14EPbkyW2Xfkav77+m7tl9bqZ+cufWLPBfePbz83sx5jb/OzB/+nU1gjdUAB4r7YemTZTrb5p1qv6L/TExERadp06Brx3qjopTBsUqOqC9enP3OH+6V/fjbrIpqZ4xLQruNbIdUybsvVXX/9mssS2K1/lc0y70vRDH7pm5s0h2v7IDUtn9mO8VWTx0hVO/+UhNEeBc+fOlXYGeC8tXa6EwHsumaJGqupeCLxHrSaMoQAKSIGqLljAe7vgXVNlbHoM02ZG49ogqFi/fr176aWXChcYeC8sWaEEwHshuaJErupeCLxHqR6MoAAK+ApUdcEC3oF3+zGgNXPe/V7XjG1BhUFiUYgH3qutQ6uXanPBuq9AVfdC4N1XmW0UQIEoClR1wQLegfeY8D41NTUDmgY2rD8QXZPJyUl35cqVvtcW4L2vRANFsLY9kBESF1Kgqnsh8F6oGoiMAiiQR4GqLljAO/AeE97ztGXiFFPAH3lfvny527dvXy5wVy7AezGti8YG3osqNnj8qu6FwPvgdYMFFECBQIGqLljAO/AOvAedrWG7goqi0G5FAN5NCdZdUaCqeyHw3pUWQjlQoEEKVHXBAt6Bd+C9QR09xZUTJ07kHmkPkwPvoSLst12Bqu6FwHvbWwb+o0ADFajqggW8A+/AewM7fCSXgPdIQmaYYdpMhjAVHq7qXgi8V1hpmEaBUVWgqgsW8A68A+/dvaoA79XWLfBerb5p1qu6FwLvaWpzDAVQYCAFqrpgAe/AO/A+UNdsdGLgvdrqAd6r1TfNelX3QuA9TW2OoQAKDKRAVRcs4B14B94H6pqNTgy8V1s9wHu1+qZZr+peCLynqc0xFECBgRSo6oIFvAPvwPtAXbPRiYH3aqsHeK9W3zTrVd0Lgfc0tTmGAigwkAJVXbCAd+AdeB+oazY6MfBebfUA79Xqm2a9qnsh8J6mNsdQAAUGUqCqCxbwDrwD7wN1zUYnBt4bXT04V0KBqu6FwHuJyiAJCqBAbwWqumAB78A78D637509e9b96le/ctPT09GWt956y73++utzM6phD3ivQWSyqFWBqu6FwHut1UhmKDAaClR1wQLegXfgfe41ZGxszI3ftNStvPnGaMvyZTe4pUuXzs2ohj3gvVqRmTZTrb5p1qu6FwLvaWpzDAVQYCAFqrpgAe/AO/A+t2uqr03/4sfO/dvPoy2nXv6eGwYcAO9z6zb2HvAeW9H+9qq6Fw6jf/YvbdwYH4hrDmsogAL9FKjqggW8A+/A+9ze1zV4X7bioy7mct2i692aNWvmijaie8B7/RV//fXXuwcf2u7+6uvvX7tjrD//hQfc6tWr6y9MzTl2Gt4PHTrk5s+f73QBj7ksXLjQLVmyJKpN+Tdv3rzoNuWn/I1ZftmSritWrIhqd3x83Onf3LF9Vfkff/zxmrtWdnYq4/LlN7qbxm+Otixessxdc81YNHvmm2zKtu3HWC9fcZP74Lx5UW3Kr+uuW5gsMXz0bchX+ewfG3R78ZKlbtFHFjuD7bWfus3tOfDizL4dH2T9/R+dTfpSdkvs/hldS7oy8n769Olo8/btGYDz58+7CxcudL8h5Cgh8J5DpMhRBO/3bv2K+9JDj0dbPvsnfwa8R66n0ua2bt3qdu/eXTj9yZMn3aZNm6Jf8LZs2eL27t0b3a4uHnZRjbWWn/I3lj2zI12PHDkS1a5uTgJ4yyPWWuU/ePBg4fZTVQKV8ciP/rc7deZ8tGXfgcNu/adujWbPfJNN2bb9GGuVXT9eYtjybWgER4t/LMa2fI1fX//N3bJ6nRNga/nEmg3uG99+bmbfjg+yfvbg/0z6U1XtuA12uwTvbdC7zT4C7/XXnvqnrnGDDFKEaTUIwrSZ+usyNcey8H7q1KlKKnHbtm3u8OHDqb4OclAXj9hBfsrf2EGdQ/rGDIJ1debYoar6Kuunyiio/Kd/fTfa8vzfHndMm2nXtJkPfeiamSkQ2v7IDUtn9mNMjVi8dEXyn6yy7bQL6YD3LtRiPWUA3uvR2c8FePfVKLYdnxaL5Z8rNvCeS6bUSMC7S368VPFjK1XwHAeB9/PJFJSYP15ky+ZLxrarKTJV/NjSVBkbNWLaTI6OUyIK8F5CNJKgQE0KAO/lhQbeS2hX1UguI++MvJcFT0begXf7IWBr/TtaN8dRDsD7KNc+ZW+6AsB7+RoC3ktoB7y7ZDoS02ZKNB7nEqCqYiSXaTPtmjbDyHu5/lMkFfBeRK3Rjsu0mfrrH3gvr3kpeNc0luPHj8/kevHiRaeGr7XOWSdYu3btTBzb0DE7b2nsnNZmy+LojTFp02bS0vp2tM2cd5fMzWfOezXPKITtLe++LljA+83R5vvbfyuYNnNpZhqORt8ZeX//h3JX3jaT9/pCvFkF9BKEe++9101NTfVdjDnyxBWTHD16dDYjtkopALyXki1JVAjeDczDN78YcAvMX3311RlvFN8HeKVTXAva988rrTqQ/8NA8K5jWXn2gnjgHXhXW6vqPyXWjouugXfmvGuaEyPvRXtO8fjqa8B7cd26kkJvRFt58wo39c2v9l1m4D1H3PVrP+6efvrprsg0tHIA7+WlzwXvNlruQ7WfpcF7eN6O+0DvpzNYt2NpI+w6l3Xc0lmnC/MB3oF3tRHgvfxbbTQVR6Bpo9sx1vqvgx4CjWHLt8HIOyPvdk+wNfBuSozmOmGAOzbk+rqucUSer/Fue+BzlbxxbtRqCXgvX+M94V2j3WrQIRSH2Rmk+6PqFkfg70O9jaRbR9Ha0oVxzUY/ePfjyZ4F4B14V1sA3oF3H/KLbvO2Gbuitm8NvLevzmJ6DLzHVDO+LeC9vKazpNvDhoG2D+F+9LzwLjv+9BcbeR8U3rP+MwC8A+9qp8A78F4U2P34wLt/tW/XNvDervqK7S3wHlvRuPaA9/J65oJ3M2+QrNFzPxi8hyP0dlxrgb/S+0HH/JF3jbCHthVf6Xzo1zGzrfRhvpYH8A68qy0A78C7D+NFt4F3u6K2bw28t6/OYnpcBN7zTJexOEybiVNLwHt5HQvBu2UjyPZH4X2Qtjha+9AdjrLrvI3oK72CwbwP4zZ1J4R3H/qTxCl/gHfgXc0CeAfeiwK7Hx94T7m4tuQQ8N6Sikpx89KlS07LIAF4H0S96tMC7+U1LgXvYXYG77Y2KA+BO5zvngb0BvBmQ/t557yHfgHvwLvaBPAOvPswXnQbeA+vrO3ZB97bU1ehp7p/j42NuZ07d5aG+CLwbsxho+u91oy8h7VVbh94L6ebUkWH9/KuxE8JvAPvalXAO/BeFNj9+MB7/GtzXRaB97qUjp+P7t8G1GUhHniPXy8xLQLv5dUE3ktoVxUM6kIVOxw+fDiB19h2JyYmko9gxbQ7PT1dyefcq6qvsmXXBYuPNPGqSN7zXrYH5U/XJHjXx38MRll/oJQWgvgTJ07kbgDAe26phhIReC8vexRatOkyNne9vDtxUzLyzsi7WhTwzsi7P5JedJuR97jX5TqtLVmyxO3960fd4eemoi27vv6gW7duXZ3FGMm8/JF3/di577773Llz5wppAbwXkqv2yMB7ecmB9xLaVQWDjLwz8l4ULC2+PqSkDyrZfqw1H2l6N/mgVBX/KWHkvcTFt2CShQsXui33fdZpjnKsZfKu29yqVasKekL0ogoYvJeBdssLeDclmrkG3svXSxR4L599tSmTjjsxET0T4N05ps2Ub1a6YFUBg8D7N52+shrrh4vZYeS9fFsfdkr1telf/DjXFzZ7PaDonzv18veS69+wy9b1/DWNsuhIe6gJ8B4q0qx94L18fQDvJbQD3oH3Es1mJgnwfj4ZzTY4jrUWuAPvl9xPzry/fP9HZyt5hmSmIbdgA3hvQSVV6GIRePd/oPXb5m0zcSrt+uuvd/du/Yr70kOPR1s++yd/5lavXh3HwQZb6TS8HzhwIHnVlC7gMZcFCxa4xYsXR7Up/zRtJqafsiU/5W9su3pwaPny5VHtjo+Pu3nz5kW1qXKr/I888khjuuH8+fPd+k/dmkxz0Wh5jOX3fn+du+66hVFs+f7Ipmz7xwbdVtmvuWYsqk35pBFyLYP6F6aXr1XU1+KlK2ZAW1No9hx4cWbfAHyQNfDukmsJI++NufTV7gjwXrvkhTIUvD+6/Ytu6ptfjbY8+MA9wHuhWmhg5JMnT7pNmzY5/fst5rJlyxa3d+/eqDbln+A9pp+yJT/lb2y70vXIkSNR7Z4+fdoJ4GP7qvIfPHiwMS1U3ztQ29SNJdZy7Nix5OvEZm/9+vXuKzu/nQChoLDs8lff/K/uP/3X/56k/8a3n3MfuWFpaVvmwzP7j7q/fGLPjB2NlGix82XX8k+LpVd/su1B1vJVPsvGlr/Y4TZs+qOB7UrTXc8cnIF14L2a7qkf78B7Ndq2wWoReNf1Qku/UXedZ+Q9Tu3TP8vr2IqRdz7SVL6CeVVk8942U74286dctGhRqVex2Q2MdblX2TVNN/0na5QDcDDKte+SwZGJOzbkAnLru8B7fW2G/llea+C9hHbMeWfOe4lmU2sSPVCskeJBpl2EaTUNY9mKj0a1qTxsvmOY36D7uhkPaiNMv/Nb+91df7o1ul1G3qvpHsBBNbq2xSoj782uKfpn+foB3ktoB7wD7yWaTa1JgPdLyX8eQvgedB94r7UZD5wZcDCwhK02ALw3u/ron+XrB3gvoR3wDryXaDa1JgHegXceWOWB1VovOg3MDHhvYKV4LgHvnhgFN4H3goIpOvAOvJdoNrUmAd6Bd+AdeK/1otPAzF588UW3+uMrc31d1+a85/ka7+2fWe+effbZBpa4XS4B7+XrqxS86wHS48ePz+R68eLF5F/UWuucdYK1a9fOxLENHbPzWiuNH8yWxdGbOdIeWE1L69vRdvKrm480JT82Qm0G3RccSt+YQW+ZUWeOHar6sRXbz5j2gHfgHXgH3mNeU9po6+WXX3YbNmxI7oG6D8RabrvtNqdXURMGUwB4L69fIXg3MN+9e/ecHA24BeavvvrqzDnF9wFe6XxY175/XmkF5f4PA8G7jmXl2QvigXfneNtMdf8pmWnoDdwA3oF34B14b+ClCZdQYEYB4H1GisIbueDdRst9qPZzMngPz9txH+j9dAbrdixthF3nso5bOgG8ljAf4B14Vxth5H32q5uDPLApGORtM7xtxq67bVh3CQ70HYzY38A4f/68u3DhQhuqsnIfjSMqz4gMZhToUv+cKVRNGz3hXaPdaVAc+maQ7o+qWxyBvw/1NpJuHUVrSxfGNRv94N2PJ3sWgHfgXW0BeAfeB/nR4qflbTN2dW3HuktwoHvbyps+HHVZKL/8GQAAIABJREFU/JExt2bNmnZUZsVeGpNUnA3mPQW61D+9YtWyOUu6PbKzRu1DuB89L7zLjj/9xUbeB4X3rP8MAO/Au9op8A68+wA+yDbw7l/5m7/dJTjQ/dNd+GrU5fCeieT62PyarN5D45zqcyIHU6BL/dPKVNc6F7ybMwbJGj33g8F7OG3Fjmst8Fd6P+iYOozBu0bYQ9uKr3Q+9OuY2Vb6MF/LA3gH3tUWgHfgfRBg99MC73Z1bce6S3AAvFfb5oD3avVNs96l/plWviqPFYJ3c0SQ7Y/C+yBtcbT2oTscZdd56ywG7wbzPozb1J0Q3pXW0vl5+tvAO/Cu9gC8A+8+gA+yDbz7V9jmb3cJDoD3atub8Ui1uWDdV6BL/dMvVx3bpeA9dMzg3dbWCULgDue7pwG9AbzZ0H7eOe+hX8A78K42AbwD74MAu58WeA+vss3e7xIcAO/VtjVjjmpzwbqvQJf6p1+uOrajw3sdTufNA3gH3tVWgHfg3QfwQbaB97xX32bE6xIcAO/NaFN4EU+BLvXPeKrkswS859NpTqyqYDC5OM/JafAd3vMOvA8Cq35aXhV5yQHvg1+T6rSwcOFCt+W+z7ptD3wu2jJ5121u1apVdRYjyQt4r11yMqxYAeC9vMDAewntgHfn+MJqiYZTYxI+0sRHmvhIk3NLlixxe//6UZfnk/d54+z6+oNu3bp1Nfbm97MC3quVXPpWMYBWrdfttg68l68/4L2EdsA78F6i2dSaBHgH3oH3bn1hFXiv9hIKvFerb5p14D1NlXzHosB7vqzqj8Wcd+a8q9VV9WOr/hadP0fgHXgH3oH3fu+F5z3vs9dU4H1Wi7q2uvSfsbo0s3w6De96u82iRYuSKR6CmVjL8uXL3erVq6PZM7908bDtWGv5KX9j2TM70nX9+vVR7W7atMmNjY1FtSl/Vf7HHnvM2vxIrFXuPQdedP6c9UG3mfPOnPe2dZ4ujewx8l689e3bt2/mldQG57HWDz30UHGHSDFHgeSZlMnfcds+//Foy+Qd40N5JmVOwWrY6TS8Hzt2LAFMjcDHXCYnJ92uXbui2pR/uqjE9FO25Kf8jW1X4K4LY0y7R44cSUA7pk3ZUvn3799fQ3dqThbAOyPvjLwz8j7qI++6/k/84Y25vkprUN9PM50XbOplEITBFEh+XP/0i7nqJ0+9KM6p5+9JBgAH86z5qTsN70nHnZiIXgtVTcPQxSN24G0zozltZunSpe4jNyx1y1Z8NNqyeOkK98EPzotmz3ybv+A6p8X2Y63Vn2LZMjvXLbre/fZvz49u90MfuqaS+tJ/skY5MPL+1Z5g1PVpM8B7s3s/8F6+fuLTYnlfrkqpDzTpK61lA/DOnHe1nap+bJVtl3Wke/31191bb73lpqenoy2/+tWv3JkzZ6LZM9/kqxbbj7U+ffp0dJvnz593r732WnS7Z8+eraS+ZHeUA/AOvOcdec87ssvIe7wrCvBeXkvgvYR2VcEgI+/TTp05dqiqvmL7iT0UQIG4CgDvwDvwHrdPxbQGvJdXE3gvoV1VMAi8A+8lmiNJUAAFMhQA3oH3vPCu+29yD77QWzNG3jM6W4nDwHsJ0X6TBHgvoR3wznveSzQbkqAACtSsAPDeG0SZ8z6rD/Bec+d0v3mgnAdWSwkPvJeQDXgH3ks0G5KgAArUrADwPgunaXO62wDvb775prty5UqplsMDq6Vkqy0RI+/lpW4FvF+8eHHOu1r1IGuewAOrPLCqdlLVj608bZA4KIACw1MAeG8/vE9NTSWvENariYtCPPA+vL6XJ2fgPY9K6XFaAe/+G2f04SX9e0tA3y8A78C72gjw3q+ncB4FuqlA1+Bd77COuez66h+4zZs3N7ryBe82pUUf3CsC8cB7o6s2eUHFNNNmSlVS4+E9eYAkKJqO5Rl9B96BdzUd4D3oQOyiwIgo0DV418OXMZfVqxa5DRs2FGoNPkwbVNe9Tup1erqv38B7X4mGGoGR9/LyNx7e/VF3K6aOAe+mRu81H2kC3nu3EM6iQHcV6Bq8p81bH+RYG+a8+z8W9NGxnTt3ukuXLuVqtEXgvYiOfGE1l/x9IwHvfSXKjAC8Z0qTfaKqkdy0/zJke5HvDPAOvOdrKcRCge4pALx3Y857UWi3lgy8mxLNXAPv5esFeC+hHfDO22ZKNBuSoAAK1KwA8N5+eNdXnfOOtIfNqwi829SfPCPwjLyHSpfbB97L6aZUwHsJ7YB34L1EsyEJCqBAzQoA7+2H90GaDPA+iHrVpwXey2sMvJfQDngH3ks0G5KgAArUrADwDrzzhdWaO12B7ID3AmIFURsN74GvhXeTX90TE4XT9UsAvAPv/doI51EABYavwPz5892mW9e6iTs2RFvWr/u4Gx8fr71wyTNRF3rDeJ4pH36cNjywOojQjLwPol71aYH38hoD7yW0A96B9xLNhiQogAI1K7BixQp35P/9v92pl78Xbdn3Xx53GzdurLkkLnnXuQ/eMbaB99kfQ8x5r71J8573ASQH3kuIB7wD7yWaDUlQAAVqVoBpM7Nwmgb7wPusPsB7zZ3TOeB9AMmB9xLiAe/Ae4lmQxIUQIGaFQDeZ+EUeO+tRZo+Wcd420ycjrxkyRK39xubnH5Exlp2fWW9W7duXRwHG2yl0/B+6NAht2jRIjcxMRF10SeaV69eHdWmfNQv/9i+yk/5G9uudF2/fn1Uu5s2bXJ6n29sX1X+xx57rMHdENdQAAWqUAB47w2sXR95P3DggBu75oNu5U0fjrosuPa33COPPFJFkx0pmwsXLnR/cu+k+8KXPh9tmfjsHW7VqlWd17HT8H7s2LEEMPXQSsxlcnLS7dq1K6pN+Sd4j+mnbMlP+RvbrsB93759Ue0eOXIk+aER21eVf//+/Z3vzBQQBVBgrgLA+2jD++XLl93Zs2fd9PR038WmzeSJ+9prr7m33357bmNjr7AC6p//8I8/df/yzoVoyw9/8nwyAFjYmZYl6DS8CwI1ihs7MG2GaTOx2xT2UAAF4isAvI82vBdpUQbvRdIQdzAFgPfy+gHvJbQD3oH3Es2GJCiAAjUrALwD73mbHPCeV6l48YD38loC7yW0A96B9xLNhiQogAI1KwC8A+95mxzwnlepePGA9/JaAu8ltAPegfcSzYYkKIACNSsAvAPveZsc8J5XqXjxgPfyWgLvJbQD3oH3Es2GJCiAAjUrALwD73mbHPCeV6l48YD38lq2At6tU9k6b3F5YNW5w4cPO/3YiB30ILD0jRn0lL86c+xQ1Y+t2H5iDwVQIK4CwDvwHrdFYS2mAsB7eTUbD+9bt26dUzrth8fmRPB2gHfgXc0BePc6BZsoMEIKAO/A+wg199YVFXgvX2WNh/ewaMePH3dr164ND6fuA+/AuxoG8J7aPTiIAp1XoGvwPrVjg4u53PvZle7OO+/sfDvIU8Ci/9nPY5M4vRUA3nvr0+tsK+B99+7dyQeMrHNpnScA78C72kmT4P306dN9PxaS5yMhfpzz5887fTTEPxZj+8yZM+5Xv/pVVLtvvfVW7o+mFCmDyi8diqTJE7eq+rpw4UKeSxhxBlQAeO8N+8D7bAMzvpg9wlbVCgDv5RXOR8Hl7Q+U8uLFiwm0Hzp0aMaORt6B9xk5+m4w571Z8K62u/LmG6Mui29Y5BbMvzaqTfk4b94H3fhNS6PaXb7sBjc29qGoNuWryi8dYmtbVX2tWbOmb98lwuAKdA3e3YXe02CKnj+8Z6KSZ6IGr7n6LQDv9WsOvJfXvNHwLmgP57frGPCev8KB9+bBu/u3n7uYy+Hnpty2Bz4X1ab8EwhP/+LHUe2eevl7buKODVFtyleVXzrE1FW2kmtNFfVVwUPk+a8KoxMTeO8N+8D7bF8A3me1qGsLeC+vdKPhPRxlt5F44D1/hQPvwHtZoAXegff8V5pmxgTegfe8LRN4z6tUvHjAe3ktGw3vKpY/310PqoZA36vozHlnzrvaR5PmvFc2ksvIOyPvvS6GI3oOeAfe8zZ94D2vUvHiAe/ltWw8vJcvmkveQ673kccOVcFg3v8oFCkPI+/AOyPv5acpVfZji2kzRS5jpeMC78B76cZDwsoVAN7LSwy8l9AOeOcLqyWaTZKkMhhk5J2R97KNssPp5s2blzy3YKOqsdaLFi2qXbXk2sEDq7XrTobVKQC8l9cWeC+hHfAOvJdoNkkS4J0HVpMHjBl5L9uFCqVj5J2R97wNxn7Y5Y1PvMEVAN7Lawi8l9AOeAfeSzSbJAnwDrwD72V7T/F0wDvwnrfVAO95lYoXD3gvryXwXkI74B14L9FskiTAO/AOvJftPcXTAe/Ae95WA7znVSpevBUrVri/+f4+98OfPB9tmdrzlNu4cWM8JxtqqdPw/oMf/MAtX748eduIgDvWcsstt7jbb789mj3zSxcP2461lp/yN5Y9syNdJycno9rdsmWLW7BgQVSb8lflf+qppxrRBYF34B14r68rAu/Ae97WBrznVSpevPnz57vfXfsx9+823hJt+dgnbnLj4+PxnGyopU7D+4svvuhWr17t9MaVmIuA+KGHHopqU/7p4hHTT9mSn/I3tl3pumvXrqh29+7d6xYvXhzVpsqt8j/77LON6ILAO/AOvGd3xXPnzmWfLHEGeAfe8zYb4D2vUvHiqX/+zYlvuR++/p1oy9T3t7sq3jIYr9RxLHUa3nnPO+95VzfR6LsgvgkBeAfegffsnqibuW68unbHCMA78J63HQHveZWKFw94L68l8F5Cu6pgMAG7Ev70SiJolb+xQ8wbrPk2PT3t1Jljh6rqq4yfwDvwDrxn9xz1f4OoGNcY4B14z25tnBm2AsB7+RoA3ktoVxUMAu/Ae5kPKiUwyHveW/+e96mpqRlwNYBl/QH35S9/2b333nslrtQuGQyY/sWPXZl+lZXm1MvfG8q/5ZP7A+95L9UOSNRMBYD38vUCvJfQDnjnbTMlmk2SJLkB/1v5L36mAQXw/nO37YHPtR7ey7apLqXzR971oLn+c1gW3KULI++MvOftH/ZDOW984g2uAPBeXkPgvYR2wDvwXqLZJEmAd6bNMG0mu/foZh4D2i0H4B14t7bQbw2891Mo/nngvbymjYd3dajjx49fVcKs435EHljlgVW1h6p+bPltLe828A68A+/ZveXYsWMDjbSHloF34D1sE1n7wHuWMtUdB97La9t4eD906JDbunXrnBIK5teuXTvnWNoO8A68q10A7+Wm6ay8+UZXyXzhOzZEnYOsqURMm0m7AnIMeAfe8/YC4D2vUvHiAe/ltWw8vF+8eDF5iEtrC4J5QX2/ALwD72ojwDvwnvasQJ5jlf2npII3QPW7Ho7i+a7B+8Qf3uhiLqtXLXIbNmwYxaZxVZmB96skqfwA8F5e4sbDu4rmw7rBfJ4iA+/Au9oJ8A685wH1tDjAe54rbXPjdA3eTz1/j4u57PrqH7jNmzc3twJr9Ax4r1Hs32QFvJfXvBXw7k+T0Yj77t27c5UYeAfe1VCaBu92k2D9gZF9NaIeyiRUr0DX4N3xqsjqGw051KYA8F5e6lbAu4on0Hn11VeTue5a5wnAO/CudtI0eE8b4R3kGK+KZM57nuvhKMYB3pnzPortvi1lBt7L11Rr4F2j7Zo+Ez682qvowDvwrvYBvDNtpuyPIw0alE2blU4/tm6//fbkHeZ6j7mWRx55xB08eHDOMTtXdr1//373zDPP9LpEdv4c8A68523k9p/QvPGJN7gCwHt5DVsD7xptV+dKe21kVvGBd+BdbQN4B96zQLrf8arg/ZaPXee2ff7jM8uCa3/LbZlcNbPvnyu7PXnHR92qVauyLo8jcRx4B97zNnTgPa9S8eIB7+W1bA28lyki8A68q90A78B7P0jPOl8VvAvI/fnLK2/6sJv+6RfnHPPPl9nWg40TExNlLp2dSTM+Pu5On/x/klee6rWnMZYjh/+zu+2222rXKGmLzHmvTHfgvTJpMw0D75nS9D0BvPeV6OoIVcFgcnG+OruBjuhf7vI3dhAU6MdRzDA9PZ18zjymTdmqqr7K+FkZDD7wuejTO3jP+8+T//ZlgX3Z48kzCsB7me5TOM3Y2Jgbv3GZU1uOtSxfeoNbunRpYV8GTQC8D6pg7/TAe299qjgLvJdXFXgvoV1VMAi8A+9lgJAHVlv4wCrwXuLKWzwJ02aYNpO31QDveZWKFw94L68l8F5CO+DdJf+OZ+S9eONJfqD9W7lpLFlgD7wD72nTapg245L/5FXyleAhTEdKrh1Mmyl+0c2ZAnjPKVTEaMB7eTGB9xLaAe/Ae4lmkyQB3r/nJu7YEH2Kz7YHPuf0IybrB07Z45XVFyPvZbtQoXSMvDPyXqjBELlWBVasWOEeffYv3NT3t0dbHvzGvW7jxo21lmMYmXUa3n/wgx+45cuXJ3OeBdyxFn1gRa96i2XP7AgUbDvWWn7K31j2zI50nZycjGp3y5YtbsGCBVFtyl+V/6mnnhpG/7oqz8pgkDnvwHswKsvIOyPvaf+R8Y8d3jORXG+vulBxAAVqUODmm29OHv7WM3SxFoH7Jz/5yRq8H24WnYb3F1980a1evTrqu5P1AKiA+KGHHopuV2BX9p3OWenkZ/hO6ay4RY5L1127dkX1d+/evW7x4sVRbapMKv+zzz473J72m9yBd0beeWC1vq7IyDsj73lbm67NyfU5bwLiocAQFeg0vPOqSF4Vqb6l0XdBfBMC8A68A+/19UTgHXjP29qA97xKEa8JCgDvJWqhKhis4le/oFX+xg68KrKcosA78A68l+s7ZVIB78B73nYDvOdVinhNUAB4L1ELwDsPrJZoNkkS4B14B97L9p7i6YB34D1vqwHe8ypFvCYoALyXqAXgHXgv0WySJMA78A68l+09xdMB78B73lYDvOdVinhNUAB4L1ELwDvwXqLZJEmAd+AdeC/be4qnA96B97ytBnjPqxTxmqAA8F6iFoB34L1Es0mSAO/AO/BetvcUTwe8A+/FWw0pUKD5CgDvJeoIeAfeSzSbJAnwDrwD72V7T/F0wDvwXrzVkAIFmq9AK+D91VdfTd6/av/W2r17dy5leVUkr4pUQ6nqx1auRhhEAt6Bd+A96BQV7nYN3lfe9GEXc1n8kTG3Zs2aCmugPaaNL9rjMZ6OsgKNh3cD94sXL87U09q1a10egAfegXc1GuD95879W/Fl5c03uulf/LhU2qz8Tr0MvAPvM5fyyje6Bu/TP/2ii7ns/can3f333195PbQhA+C9DbWEj6ZA4+FdoH78+HHzN1kL6HW8XwDegXe1kabBu90kWL//RcNR1OGWj13n/M/UazRVUOYfG3T71PP3JJ8c73ed7PL5rsH7oG0iTH94z0Ql3wFpY5uy61Abfe+Cz5cuXXJ79uxxTzzxRBeKU3kZGg/v1qHS1v3UAd6Bd7WRpsF71qh02ePJSO4Dn4s6Qi5fGHn/+fufSy/xX4tedcnIe78rd7zzwDtz3vO2JmOMvPGJF0eBEydOuC1btrh58+Yl19vnnnsujuGOW2kFvGukvUwA3oF3tRvgvfiUGeD9fc10Q+8F4mXOCd5v37DcadTTFs091hQG24+x3vWV9W7dunVlLp2dSQO8A+95GzPwnlepOPGmp6ed+qfpbutf/vKXcTLouJXGw7umxxw6dKhUNQDvwLsaDvAOvJeBbKWpCt41bWbb5z8+syy49rfclslVM/v+ubLbk3eMu1WrVpW6dnYlEfAOvOdtywaPeeMTb3AFXnjhhTnwrv5KyKdA4+Fd893VqfzRd23nAXrgHXhXNwDegfemwbuA3J9/zJz3fDesorGWLFni9v71o07/7Yi17Pr6g0P5j0byQ/JCbxj321Sebf2HR9dHAgoMQ4GdO3fOgfeHH354GG60Ms/Gw7tUNYC3X8Zbt27NJTbwDryroQDvwDvwnuuS2blIt956a/I2FV0DYi2bN292d999d+1aAe+1S06GFSqwb9++BNw1133v3r1u+fLl7siRIxXm2C3TrYD3spID78C72g7wDrwD72WvoqRrigLAe7U1YYOD1eaCdSngT5exWRR628zly5cRKKcCwHtOofxoVcFgcnH2M4qwffjw4Ur+LToxMeH04yhmsAdYYtqUrarqq4yfSR1X8fYS3jaTTIsoC+lZ6SqrL6bNlOk+I50maYtMm6msDUjfROPKcsCwKfDmm2+6W265xT3zzDN2iHVBBYD3goIpelUwWMWFA3ivrr5KNJ33bw7Ae/Q3uGx74HPAewB2vOe9TA9tbhrgvdq6Ad6r1VfWT58+7QTuCoyyD6Z3p+Fd86f09PLU1FTUZf369e7ee++NalM+6uIR21f5KX9j25WuDz74YFS7jz76qFu0aFFUmyq3yv/0008P1lMipU5uwMA78M7Ie6QeNTpmgPdq6xp4r1ZfQbvmtese/8Ybb1Sb2QhYB95LgD3wPpX8KALei18hgPfvuYk7NgDvwHvxzjPiKYD3ahsA8F6dvprPrmky0lhTbt97773qMhsRy52Gdx5Y5YFV9eOqpjmVuUYA78A7X1gt03NIA7xX2waA92r0fffdd93GjRsTcNfAp/YJgyvQCnjXqyF3795duLTAO/CuRgO887aZrAdS+x2v7McWI++Fr+ejngB4H/UW0M7yT05OJuCukXeNwBPiKAC8l9CxKhhMLs4l/OmVhAdWgfd+gJp1fuXNN7rpX/w46hSXUy8z8s7Ie68rVjfOnTt3LnpBgPfokmKwBgXEIOPj4zMPqtaQ5UhkAbyXqGbg3SXz1nhVZPHGU9lILq+K5G0zvG2meIesKIXm9WqKwEsvvRQtB+A9mpSphqRvonHqWQ4WVeC73/3uzBSZK1euFE1O/D4KAO99BEo7DbwD72ntIs8x4J2Rd0be8/SUdscRvBsMxoL45NoR/EBzA+4f3jORTCtst9pxvLf6imNttK3Y11PVDwjVKAC8l9AVeAfeSzSbJAnwDrw3Dd7tNbUGL6zfH4GNrYPm/g4yAplcOwaE9RD2gffZK7nV9+wRtsoooFd0S8t58+YlX1ItY4M0/RUoBe96gPT48eMz1i9evJhUltY6Z51g7dq1M3FsQ8fsvNZK4wezZXH06dy0B1bT0vp2tM0DqzywqnZQ1Y+tsL3l2Ve7zZpjXvZ4AoNMm2HaTAB2fKQpT4+sJo4/8q53W2skchBwl5e6dkz/9ItRl73f+LS7//77qxGhZVaNOVrmdqPc/bu/+7sE2qWl2jyhOgUKwbuBefjmFwNugfmrr746463i+wCvdD6sa98/r7SqdP+HgeBdx7Ly1Dnf5kzmwHsiBQ+sAu9lfxTwwOrPk2tPWf2y0jVt5N2/ZrIdRwHBeyxoN490r1t504ejLos/MubWrFljWYz0WvpqIZRTQA9pL1iwINHwySefLGeEVLkVyNVSbbTch2o/B4P38Lwd94HeT2ewbsfSRth1Luu4pbNOF+bDyDsj72ojjLzzqsgskO53PLmZV/FFXF4VaZfvTq5PnDgx8Eh7KEzSFoP/roTTYIruM21mVmXjiNkjbBVRQB9e+vM//3OeoSgi2gBxe8K7RrvVoEMoDvMzSE8bARf4+1BvI+nWUbS2dGFcy6cfvPvxZM8C8A68qy00Dd41oh1zWXzDIrdg/rVRbcq/efM+6MZvWhrV7vJlN7ixsQ9FtSlfVX7pEFNX2dL1JLZN+bnmd693PmhpRFVTIvxjg24zbcbuBN1YJ/c24L0bldmhUujd7Xv27JkpEV9PnZGi0o1Z0u2RjS4aWnwI96PnhXfZ8Ke/2Mj7oPCe9Z8B4B14VzttEryfPn3aTU9PR13Onz/vXnvttTk29V7d0//jPww0P/bMD+9zv/q7+2dsHNl3p9v0B8tm9svMv33rf/2ZO/v/bZ5jY8vk77i939g051hR26+99Hl3/uUvzNhQ2ceXz5/ZL2rP4ocaPvof1zotdr7MWn5eOLl1DqgD7/4dhe00BYD3NFU4NkwF9LVUvU1JbdMH+GH6NCp554J3E8MgWaPnfjB4D0fo7bjWAn+l94OOqdIN3jXCHtpWfKXzoV/HzLbSh/laHsA78K620CR4t7ZZ9XrFihVOsK3R11jLvqc+49avviGaPfNr8o5xt+sr66PaPfKdz7rli6+NalP+Prj548livsday1f5HMue7Ki+9FlyQjcUAN6rrUfpm2hcbTadsa4R9rvuuivRjK+n1l+theDd3BNk+6PwPkhbHK196A5H2XXeOovBu8G8D+M2dSeEd6W1dH6e/jbwDryrPYwivM+fPz8ZJZ/4wxtdrGX9793gFl13TTR75tfyJde61asWRbW7af1SN3bNB6PalL/2wKD5HmstX+VzLHuyox9a+g8MoRsKJGDJtJnKKtN4pLIMOmZY89ulmR7MfvPNNztWuuYXpxS8h8UyeLe1dYIQuMP57mlAbwBvNrSfd8576BfwDryrTYwivK9cuTKZ2jHovGk/vUZzBYX+sRjb2z7/cacH52LYMhuaziLQtv1Y66kdG5yWWPbMDtNmwqs3+6ECuidae4m15oHVWZWNOWaPsJWlgKbISC+9XebMmTNZ0TheoQLR4b1CXwubBt6BdzUa4P2rUW76wPtXE3AH3gtfikkQQQHgPYKIPUwA7z3ECU7pIdVNmzY5vVWJMBwFgPcSulcFg8nFuYQ/vZLwnnfgPdYoHfAOvPe61nCuWgWA9+r1reIeXK3X9Vp/4YUXnF66UCa89dZbbvv27cl0aq1feeWVMmZI8xsFgPcSTQF4d04fIdF/NmIGvYVF0z1ih6rqK7afMe0xbYZpM8mPrYmJmM2qdbaeeeYZt3//fqdBjFjLwYMH3eOPP167FsB7tZJLX+A9W2P7eurY2Jj75S9/mR0x5YxNkdZUak2f1lRoaR1OrU5JyqEMBYD3DGF6Ha4KBqu4cDDyzsg7I+9xpg0uH+fWAAAgAElEQVRJR+a897oyNu/cqlWr3MRdd7gvfOnz0ZY/vXfSLVy4sPbCJvcHHlitXXcydO5nP/vZQF9P1ctL/DcJvvPOO27ZsmXuzjvvdNomFFcgCrwXz7aeFEeOHElGcqemplzMRe81vffee6PalH+6OMf0U7bkp/yNbVcjuw8++GBUu48++qhbtGhRVJsqt8r/9NNP19PoGpILI++MvDPy/v5/CH/4k+fdv7xzIdryD//400r+Q9jv0gG891OI81UooDfJ6I0yan8auCwa7EUm/tsBNfIOuBdVcm584L0E2APvU8nNC3if25matAe8A+/AO/De779uvG1m9qotOE1+IM0eGvktvct9zZo1iS733HOPK/P11BDeNVVGo+4+zB89etRpTjwhvwKdhnfeNsPbZtQVqprmlL+b1R8TeAfegXfgHXjPf+0F3tO1EkdNTk46fU21VxCM+1NgfDi3aTN79+5NwD0EdZ33vx3UKx/Ova9AK+Bdv9T0b5aiAXgH3tVmgPc4c74TGOQ977znveiFeIjx9WA902ay+z8j77ONE3if1UIj7E888YTTKyHzBnGaTYURiGt03WBeI+umbwjuOufHzZvfqMcD3ku0gKpgsIp/2fHAKvDeb/Qt73ngnQdWS1wuh5oEeM8Gd/V74H22eRpczh4Z3S37eurGjRtziyAo1wi6FmkZjqQL7nVca8XVyLx9uJPXRuaWeSYi8D4jRf4N4J1XReZvLcOJybQZps0wbYZpM/1+mAPvs9dn4P19LXbu3JlAtr6eqrfMFAn2SkiNpIcj7LJjo+ymteKFkF8kv1GOC7yXqH3gHXgv0WxqTQK8A+/AO/AOvOe/7BpQ5k/RvZiaky4d5s2bV+pjTBp1t+kzWWCuqTSCfC02raZ7SlZfIuC9hMbAO/BeotnUmgR4B96Bd+AdeK/1stvqzPSMoIG7vqRaJvgPqdo0GUbWyyjZP00peFel+C/cVzaqdP2SsgrL+hVrX9ay80oTBjuntexpCR9Y1S+8tLS+LR5Y5YFVtYeqfmz5ba1p28A78A68A+/Ae9OuzM32R99Fee655wo7mTWCbjxovKh4Yjkf8gtnRoJEgULwbhURgrQsCbQF1P6vLItvWqsCfeC2hxXsvCpUdqyidVz2dCwrT53zbZotrYF34F3tAHjv/dBavxu8nU9gkLfN8LYZ/yLb8O2uPbC68qYPu5jL4o+MJe/xbng11uKeWELLqAXNa9c89zLvcDcYl26aJuOzm+loDKc30YgRtSYMrkCulipwVuWkVYy5kHVex32gt/haG6zbr7C0EXbFyzputtQg0vIB3oF3tRHgHXi3HyCDrqd2bADe7cLbgnWX4P306dNueno66nL+/Hl34cKFFtRk9S6KIbSMUvC/nrpv375CRRe4C8TFhxpAtcFarcOg89u3b0/iZI3Sh2nY761Az5ZqI+NZ8O2bVqNPGwFXxfrQb7/CrKP46cK4Zr8fvPvxZM9+DADvwLvaBvAOvA8K7ZYeeLerbTvWXYL3dijeXi+NSdpbgmKe6x3uq1evTn6w6CNMRUfexXX2XnflLCi3gVT/eDGviJ1XgZ7wbkasQnwIt3O29iHcjmntA7nsaN+Cjbwb9PtxLY7W/eBd6ZR/6B/wDryr/QDvwLvB96Br4N2/Mjd/G3hvfh01xcNRgnd9LVXvcFeZte739dS0OhLP+QO7elONWEyviNQUGgA+TbV4x3LBu2VnkJz2bxE1Ar8iLY2OC861aNsPdszgXXbTbCtfLWGQvax8FRd4B97VDkYR3lesWOGOfOezTvPUYy37nvqMW7/6hmj2zK/JO8bdrq+sj2pXZV+++NqoNuXvg5s/nizme6y1fK2ivop8ZCW8vnZhH3jvQi3WUwbjiXpyG24uO3bsSNjplltuKfQVVd9r8Z7NchDDCdht32ZY6Fja+959O2yXU2AuTee0IcAOR7mt4VvlyZQP3eEou87biL7Bu8G8/yNA+ch2CO9Ka+my3AbegXe1jVGE95tvvtnddtttTvASaxEIjo+PR7Nnfq1atcqtW7cuql2VfenSpVFtyl/9m1mL+R5rLV+rqK9PfvKTWZfHkTiu+vnhT553//LOhWjLP/zjT53e5kRovgKax21sEnv90EMPNV+ADA810r5lyxanOe8xgvjMZ0IBu/Ef8B5D4attlIL3q83MvirSgDwNuO3XmHUig3Ufwu2YxVGD0I+FEN7TfAiPAe/Au9rEKMJ72BfYR4FRVAB4H8Vany2zGOAzt/9htB9u9iPwC1/6vDt8+PBsRi3ZeuKJJ1zZd7j3KqJ4zee4V155pRSz9cqDc3MViA7vc80Pdw94B97VAoH34fZDckeBYSkAvA9L+WbkC7zP1sMzzzyT/BdiwYIFhafKCMY1BUaQnjbrQcdsjrtmWWj76NGjs5mzFV0B4L2EpFXBoDpG7KDRAfkbO+imqAtjzKDXoFXx7+iq6itm2bGFAigQXwHgPb6mbbJYBN7tv/02ut5r3baRd5t+PG/evMIj75r2Im30QKrsCMy1709vFtybflqnPbvYpnbTBl+j0aIqzP+3SRMKz8g7I+9qh8B7E3ojPqBA/Qro+YQvfGmz+/qTO6ItD/3lf3TXX399/YUhx8IKAO/OvfTSS07QLkb77ne/W1jDtGccdUz2BPQWNOIuuPeh3s6xjq8A8F5C06pgUJ0hdmDkHXiP3aawhwJtUQB4b0tNVePnqMP7lStX3PLlyxPQfvLJJwuLrAFZPW/ov4jEjNgzjIyymyL1ruPTYr3+98ztxRdfTN4MIYCNudx+++1OT5rHtClbgvfYNuWn/I1tVzfFXbt2RbWrX/GLFy+OalPlVvmfffbZnm2FkyiAAt1TgGkz7axTfUBIy6Bh1OFd+p07d87t3LmzsJQG55omkzWrwuII8PlyamGJB0rQaXh/+eWX3YYNG5JpExotj7XolW5//Md/HM2e+aV3rtp2rLX8lL+x7Jkd6bp58+aodu+//363Zs2aqDblr8p/4MCBgToKiVEABdqnAPDevjqTx4LusbGxBDoHgfhRhXdpprb/xhtvDNQAbK58r7f92WshgfeBpC6cuNPwXlgNEqAACqAACnRGAeC9nVUp6NZ/orUMAvGjCO/+11MnJycHbgA2uq7pMQD6wHJGMwC8R5MSQyiAAiiAAk1SoCnwPjU1NQOjBqWs34fzvDoI4k+cOFGoeRWB915vlwnPNfVtM++995676667kramqa1F/2shONebY7T4oG6virTXQRaqBCJXogDwXomsGEUBFEABFBi2Ak2B92Hr0Lb8/ZF3wf19992XzN0uWo5Rg3dNPZVeekhVr14uEgzQ/R9TmjZjQdNj9K53AXzaA6wWj3U9CgDv9ehMLiiAAiiAAjUrALzXLHik7Azey0K7uVEE3g1aw1H2tP0mjrybZvoIU9G57oJxgbl9WEmj7vY6yBDgBe+K64/Mm96s61MAeK9Pa3JCARRAARSoUQHgvUaxI2alUWO9JWXQMErwLq30HvfTp08Xlk2ALii3IDDXvpYQ0rWvUXrCcBUA3oerP7mjAAqgAApUpADwXpGwLTE7CvAu8NZ/KPSgatmgt8n4I+wadV+7du0ccGeqTFl1q0kHvFejK1ZRAAVQAAWGrADwPuQKGHL2XYd3/+upR44cKa22P/IucNe0GM1xt2Dz3W2f9fAVAN6HXwd4gAIogAIoUIECwHsForbIZJfhXdNjNL9dc/XzfoRp+/btM6PpegWkFgXBuezofAjuOi+g1zlCcxQA3ptTF3iCAiiAAigQUQHgPaKYLTTVVXh/8803k6+RC7j1hpk8wR5K1Tx2PZiqtP6XU/WFcx0TqPvB3vPuj8T759kejgLA+3B0J1cUQAEUQIGKFQDeKxa44eaLwHvaW2Wyjg37bTMPP/xwAtp6p7ve7Z43COAF74J0f467pTeA13x3bVtcG6G3eKyHrwDwPvw6wAMUQAEUQIEKFADeKxC1RSa7Bu8G6lrrw19FH1K1ueuaGqPFH3m3atUxTZHRQ6xap8WxuKyHpwDwPjztyRkFUAAFUKBCBboC75rfrNcnxlxef/1198///M8Vqj9800XgXaPRWrJG2/3jwxh5F6jffvvtbt++faWFFbxrRF2vexSYq7yMqpeWc6gJgfehyk/mKIACKIACVSnQFXgXZC258fqoy/wP/7a7++67q5K+EXYPHDjgrhm7xo3ffFPfxeA9T9z58691jzzySG1l1Ej7li1bEtjW11MvX74cJW/Nbw8BXlNreC1kFHkrNQK8VyovxlEABVAABYalQJfg/Yevf8fFXLY8fHcy9WJYdVNHvoLcs2fP5vqPhcF7nv9uvPbaa+7tt9+uowhJHjt27Eggu8zXUzXKrgdUNeKeNgVGc99VdoG8zmuee/jQam0FJaPcCgDvuaUiIgqgAAqgQJsUAN6zgX8U4L1IWzV4L5Kmjrh79uxJ4HrevHmFv54qcBeM6wFULQbpod+aOqM58Dqv+EpHaLYCwHuz6wfvUAAFUAAFSioAvAPveZtOE+Fd/znQNBmB+wsvvJC3KDPx9NCpFoNxG2XXfHc7ZpG1nzYyb+dZN0sB4L1Z9YE3KIACKIACkRQYHx93v792tfvM7X8YbfnUxj9w8+fPj+RhPjMCy5hTZmSLkfe52jcN3q9cuZI4qGk8hw8fnutsjj378JIP6fYGGY2yM8KeQ8QGRwHeG1w5uIYCKIACKFBegY0bN7qpPU+5H/7k+WjL33x/n1uxYkV5p0qkBN5LiNbiJHq7kEbctS4bXnnllWTU3dJr3rumzgjmDewF8NomtE8B4L19dYbHKIACKIACORRg2gzTZnI0k0ZF0ddTBe76wbZt27aBfLNRd63D97prFN7mwg+UCYmHogDwPhTZyRQFUAAFUKBqBYB34D1vG2vCtJlLly65W265JQH3ycnJQl9PVTk1p12QHo6ma9Rdo+x+0Lx3jc6Hcf04bDdXAeC9uXWDZyiAAiiAAgMoALwD73mbz7DhXR9h0jQv+aGPMRX9eqqBe9pHl3TOpsxIDxuJ533ueVtH8+IB782rEzxCARRAARSIoADwDrznbUbDhvcTJ04kb5VZvXq1+/Wvf53X7SSeIFz+Z70txs5r9N1Anne5F5K4cZGB98ZVCQ6hAAqgAArEUAB4H214f/nll92GDRuSueOaP95rMXjvFcfO3XbbbU5fb40R9PVUG2U/duyY09SZokFAHk6LCW1oioy9610fbCK0WwHgvd31h/cogAIogAIZCgDvow3vL774ortx5VL3l9/+Yt/F4D1P3NWf/B337LPPZrS6Yoe//OUvu02bNpWCdstJ8K4HULOCPbiadZ7j7VMAeG9fneExCqAACqBADgWA99GG91OnTrl/t/GWXO/IN3jP8z79iXtvLfXu9bDJTk1NJdNd9BGmM2fOhKdz7+uBVD2omgXpGnVntD23nK2ICLy3oppwEgVQAAVQoKgCwDvwnhfe80C7xYkB7xot1w+Gsl9P9fuCPYCaNY9db5bJOufbYbs9CgDv7akrPEUBFEABFCigAPDebnjXO8/tS6MFqn0mapGRdwPzPOtB4V1z2wXtgvd9+/bN+Jt3Q6931MOp/tti9JYZ2ROo23FBvaC916h83jyJ1ywFgPdm1QfeoAAKoAAKRFIAeG83vGtaiT5YJMAtA/FF4L3OaTMPP/xwAtpPPvlk4Zau6S/mq9Yawbeg6TECdf+8HlLlXe6mUHfWwHt36pKSoAAKoAAKeAoA7+2HdwPRMhDfNHi/fPnyTOt86aWXZrbzbhica62RdwN5f0qMRts1Ci+o1zprHnzePInXTAWA92bWC16hAAqgAAoMqADwHhfe7QFLA+phrFeuXOmmp6dztYwmwbteATk+Pu7KjLZbYTUlJvwIk/Y12q5XRQLqplT318B79+uYEqIACqDASCoAvMeF97obkf9jYWxszO3cubPQKxWbAu96j7s+vqQfO/p6atEpQIJyjaT789n9utC0GADeV6T728B79+uYEqIACqDASCrQJXjP8/7xInE2/tEa97Wvfa3R7ULwXgbarVBNgHeBuoBd4C6Atw8ymY951pomo/QCdG2nBQG85rcrjj2wmhaPY91QAHjvRj1SChRAARRAgUCBLsG73nASc1n5iRt7ftgnkHIou3r3eZkvjpqzw4Z3fT11y5YtCXhryswgZdEcd4G5AD1reoyN0Fv5WXdXAeC9u3VLyVAABVBgpBXoErzneYVhkThbHr7baWS7y6EIvBfRLu+rIgXrGm1fvHix02svBw3+9BjeIDOomu1OD7y3u/7wHgVQAAVQIEMB4L3dc94zqjX34WHCu42y6w0zP/vZz3L77EfUaHsI6ZoSo4dTNQofnvPTst1tBYD3btcvpUMBFECBkVUAeAfe835h1d6ck2cEvt/I+/PPP5/M1X/hhRdK9b2jR48mcG4+aaqMQN6CpscYwGfNgbe4rLupAPDezXqlVCiAAigw8gosWrQomW9sEBRrra9j1hnkdx6oLBKHaTNzf9hY28ijYS94P3HixEBfT9VbZTSqrldACtgF5wJ1+ee/JlIAz9dT6+yFzcoLeG9WfeANCqAACqBAJAUYeZ8LqD6YAu9ztYkB73rAdsGCBQlol3meQFNi5EfadBiBeto53iwT6WLRMjPAe8sqDHdRAAVQAAXyKQC8zwVU4D1bj0HhXQ+k6iuwsqP30ZcJGnXfunVrZlKd07veCSgAvNMGUAAFUAAFOqkA8J4Nq4y8z9VmUHg/ffp0MuquV0PqFZFlguC8F7zb11TL2CZNtxQA3rtVn5QGBVAABVDgNwoA73MBlZH3bD3Kwrs+umRvlnnjjTdKg7uarM13z3qPu+a/6+FVAgoA77QBFEABFECBTioAvGfDKiPv2dr4P3LStu2BVft6qt7lXuY97pqvrmkwNsdd+3pYVfPb04LiZp1Li8+x7ioAvHe3bikZCqAACoy0AsB7NqCOArwfOXLELbnxeqeyxlz0dVo9kGpfT9Vcdxt9z9vhDNQ1TcZ/DaSmxui/AAJ1exiVN8vkVXV04gHvo1PXlBQFUAAFRkoB4H204V3z0O+9994EtAXbvRabNtMrjp0TcN99990JZOvtMmVG3WUj6+FTTY/RCLz5pLWmy9gI/Uh1YgqbqgDwnioLB1EABVAABdquAPA+2vBepP0aKOdJ88wzzyRgrff96wdC0SAIV342sp6WXqPtGoXXPHg+xJSm0GgfA95Hu/4pPQqgAAp0VgHgHXjP27iLwPuTTz6ZwHfZL6hqmozyI6BAWQVoPWWVIx0KoAAKoECjFQDegfe8DTQPvPtvkzl37lxe01fFM3jvNfLOg6lXycYBTwHg3RODTRRAARRAge4oALwD73lbcz94j/Eed98XzWHvN+fdj882CvgKAO++GmyjAAqgAAp0RgHgHXjP25h7wXuMr6eGfmgeu/LUCLv/XnfNh9fDqkePHg2TsI8CMwoA7zNSsIECKIACKNAlBYB34H3Q9qxXQOpVkALtQb6emuaHfTFVsK63z2gxoE+LzzEUMAWAd1OCNQqgAAqgQKcUAN6B90EatMBdH2ASUN9+++1OH2WKHTTvfe/evQm4axoNb5aJrXA37QHv3axXSoUCKIACI69Al+BdX/WMuehDQxrpJbyvgABdix/efffdBNoF8JcvX/ZPsY0CQ1VgbksdqitkjgIogAIogALxFOgSvP/lt7/oYi4b/2iN+9rXvhZP7JZb8uH9vffem3l/uwC+6NdTWy4F7rdAAeC9BZWEiyiAAiiAAsUV6BK8//D17CkwZc5tefju5IujxVXtZgof3nfs2JGMwn/3u9/tZmEpVesVAN5bX4UUAAVQAAVQIE0B4D0b+IH3uS3G4N2+nrpgwYKZ0fe5MdlDgeErALwPvw7wAAVQAAVQoAIFbrvtNvc33/+O+4d//Gm05cX/9T/c+Ph4Bd5mmxRYlhld75UGeJ+rt8G71vPmzXMvvfTS3AjsoUCDFADeG1QZuIICKIACKBBPgaVLl7olSxe78ZtvirYsv3G5Gxsbi+dkDkvAew6RBoziw/uhQ4cGtEZyFKhWAeC9Wn2xjgIogAIoMCQFmDbDtJm8Tc8+xKRpMwQUaLoCwHvTawj/UAAFUAAFSikAvAPvRRoOb5UpohZxh6kA8D5M9ckbBVAABVCgMgWAd+C9ssaFYRQYogLA+xDFJ2sUQAEUQIHqFADegffqWheWUWB4CgDvw9OenFEABVAABSpUAHgH3itsXphGgaEpALwPTXoyHnUFHn/8cff/t3c2v1FdVwDfeEMtsIU8YD6kTAgKxi3UijESCiluqWTEAhcEhdAPJqUVxK3k1lWhalKN1FRCXQSQiiKkEUJWNrBALCaIetPZZcMCuawQC6T+A2TH8lZn0pfEZD7fnPPuu+/+Fk/OzLx37rm/c+/Lz5frNyMjI65cLqsew8PDbsuWLaoxJZ7E1c5V+l8qldTjyqPetHOVPK3qxdMtbO4GyDvybjOyiAoBvwSQd7/8aT1iAjdv3nRH54+oPX86eZb1W/u+727cuqYaV+JJ3KQNrZ/S/w8+uqQeVx77ppVjEkfytKrXyspKxDPBruvIO/JuN7qIDAF/BJB3f+xpOXICt2/fdqfOnnD//eKp6nHg4H5397NPVWNKPImrnav0/+NPrqjHFXnXzlXytKpXo9GIfDbYdB95R95tRhZRIeCXAPLulz+tR0wAeX/alGHkfb9D3m1uBMg78m4zsogKAb8EkHe//Gk9YgLIO/Iu/zog/6KBvNvcCJB35N1mZBEVAn4JIO9++dN6xASQd+Qdebe9ASDvyLvtCCM6BPwQQN79cKdVCDjkHXlH3m1vBMg78m47wogOAT8EkHc/3GkVAsj7F8g78m57I0DekXfbEUZ0CPghgLz74U6rEEDekffmE3HY8253M0DekXe70UVkCPgjgLz7Y0/LkRNg2wwr76y8r70JPH/+3L148WLtmwO8KpK8T+7b6TSP0taNbn5+fgC6XAoBCPgigLz7Ik+70RNA3pF35H3tbUDmxOjoqKtWqyoSXyR5r95acJrHoWMzbnFxcW0BeAUBCARBAHkPokwkWUQCyDvyjryvndkyJ+QLtuTQkPgiyfvd1fZbYNJ8dvLiXPOXpLUV4BUEIBACAeQ9hCqRYyEJIO/Iezt5l5XnRGJj/zk2NuYePXqU6h6AvLcXfuQ91ZDiIgjkggDynosykESMBJB35L2dvMc4H6TP31x5HxoacpVKxT179iw1jr1797qF3//Gybf4ah0ffHTJlUql1DmluVB+gUuzut7pGuQ9TSW4BgL5IIC856MOZBEhAeQdeUfe1058mRMa0p5E3bFjh5s9/I47dfaE2nF0/ogbGRlJmsjkJ/KeCWYagUAwBJD3YEpFokUjgLwj78j72ln95MmTgVba10Zzjm0zbJt5dUzwGgJFIIC8F6GK9CFIAsg78o68205d5B15tx1hRIeAHwLIux/utAoBvqSJL2niS5qM7wPIO/JuPMQIDwEvBJB3L9hpFAJf/nGe7MWV1VfNQ76x8+5nn6rGlHgSVzNPiSX9lz8k1I4re4S1Y0qeVvVqNBpMCQMCyDvybjCsCAkB7wSQd+8lIIFYCbBtBnmXXzDklyLk3eYugLwj7zYji6gQ8EsAeffLn9YjJrC0tORKm8ea8iYCp3VsGNngJvfsVosneUk8iauVYxKntLnk3nhzh3pcWXlP2tD6KXlKvlrxkjjCtVarRTwT7LqOvCPvdqOLyBDwRwB598eeliMncP36dTf743eaW1xkW4rW8d09E6565S9q8SQviSdxtXJM4shj/OQ53MlrrZ/NR+spMpW8JE/JVyvHJI78YlSv1yOfDTbdR96Rd5uRRVQI+CWAvPvlT+sRE2DbDNtm2DZjewNA3pF32xFGdAj4IYC8++FOqxDgaTP8wWrzj2pl+wx73m1uCMg78m4zsogKAb8EkHe//Gk9YgKsvLPyzsq77Q0AeUfebUcY0SHghwDy7oc7rUKAlXdW3ll5N74PIO/Iu/EQIzwEvBBA3r1gp1EI8Jx3WXXmOe88KtLyXoC8I++W44vYEPBFAHn3RZ52oyfAthnknW0ztrcB5B15tx1hRIeAHwLIux/utAoBts2w8s62GeP7APKOvBsPMcJDwAsB5N0LdhqFANtm2DbzFHk3vhEUSd7luwu0j0OHDhlXgPAQgIAFAeTdgioxIdADAbbNsG2GbTM9TJQBTimSvN9dbb+KnuazkxfnXLVaHYAul0IAAr4IIO++yNNu9ASQd+Q9kffx8XFXLpc7HkNDQx0/73Z9q89LpZKbmZkp7FxE3tsLP/Je2GFPxyIggLxHUGS6mE8CyDvynsj74j9+4W48/LDjIVsmup3T7+c/Xzrmzpw5k88JopAV8o68KwwjQkAgdwSQ99yVhIRiIYC8I++JvFdvLbhuWx9E3rud0+/n7//tXVepVAo75SYmJtyps8fdH/78O7Xj/Pu/dBs3bsyUmUXtWXnPtIQ0BgFVAsi7Kk6CQaB3Asg78o689z5f0pyJvLPynmbccA0E8k4Aec97hcivsASQd+Qdebed3mybQd5tRxjRIeCHAPLuhzutQoDnvPOc968eFcm2GZsbAvKOvNuMLKJCwC8B5N0vf1qPmAAr76y8s/JuewNA3pF32xFGdAj4IYC8++FOqxBg5Z2Vd1beje8DyDvybjzECA8BLwSQdy/YaRQCfMOqrDqfOnvCffzJlabEymutQ57OoRUriSN5Sr7Ja62fBw7ud2ybsbkjIO/Iu83IIioE/BJA3v3yp/WICSwtLbnS5pITedM8NoxscJN7dqvGlHgSVzNPiSX9f+PNHepxRd61c5U8rep1ofrTro+BtHhcYNEfFYm8I+8R/y+GrheYAPJe4OLStXwTWF1ddcvLy67RaKgetVrN1Sqj66cAAAhTSURBVOv1rjFFBmXFt5fj8j9/7UQwu507/95hN/X2RNfzkji//ftZ98erla7nv7Zrmzt3ab7reUncc3/6SddzJZ7ETa7p9lPylHy7nSf9Fw7dzks+F643/vVX5N1guiLvyLvBsCIkBLwTQN69l4AEIOCHgNVK7uz8TFcR7ffLhCb37WzKcL/XdTpf5FnidjonzWfSf1nRTnNtp2us6lXkL2lC3pF3P3dXWoWALQHk3ZYv0SGQWwJWMoi8I+95GfTIO/Kel7FIHhDQJIC8a9IkFgQCIoC8s/LOnvf+/0j68//825XL5UxnusVcPXlxzlWr1Uz7QWMQgIAOAeRdhyNRIBAcAQshEBlk5Z2V97xMBlbeWXnPy1gkDwhoEkDeNWkSCwIBEUDeWXln5Z2V94BuWaQKAQj8nwDyzlCAQKQEkHfkHXlH3iO9/dFtCARNAHkPunwkD4H0BJB35B15D0febzz80GkeR3/2A3f58uX0NxCuhAAEvBFA3r2hp2EI+CWAvCPvyHs48l7autFpHt9Zv87Nzc35vQnROgQgkIoA8p4KGxdBIHwCyDvyjryHI++dvgMgzWc8bSb8ezg9iJcA8h5v7el55ARE3uVLijSPra9vcqNj61VjSn7D69e58q5tqnElnsTV7L/Ekv4LB+24JvUqb3LT09OFnQk8bYanzRR2cNOxqAkg71GXn87HTEBkUL5lVPOYf++wm3p7QjWm5Pfarm3u3KV51bgST+Jq9l9iSf+Fg3Zck3r96kfu+PHjhZ0GyDvyXtjBTceiJoC8R11+Oh8zAZHBNP/c3uka2YbBc955znte5tX27dvd5J7d7sDB/WrHWzNTbnh4ONMuWsxVts1kWkIag4AqAeRdFSfBIBAOAQshQN6vNn95EQ6dfslJ85lVvSqVSjiDts9M79y54+r1ums0GmrHysqKq9VqfWYy2OkWtUfeB6sJV0PAJwHk3Sd92oaARwIWQoC8I+8eh3Rhm7aYq8h7YYcLHYuAAPIeQZHpIgRaEbAQAuQdeW811nhvMAIWcxV5H6wmXA0BnwSQd5/0aRsCHglYCAHyjrx7HNKFbdpiriLvhR0udCwCAsh7BEWmixBoRcBCCJB35L3VWOO9wQhYzFXkfbCacDUEfBJA3n3Sp20IeCRgIQTIO/LucUgXtmmLuYq8F3a40LEICCDvERSZLkKgFQELIUDekfdWY433vibw+PHjr1/0+F8WcxV57xE+p0EghwSQ9xwWhZQgkAUBCyFA3pH3LMZuyG3IF0dNTU25+/fv99wNi7mKvPeMnxMhkDsCyHvuSkJCEMiGgIUQIO/IezajN9xWRN5l7snRq8RbzFXkPdwxROYQQN4ZAxCIlICFECDvxZL3arX6lWgmwsnPL8Vbk8ORI0fcy5cv296JLOYq8t4WNx9AIPcEkPfcl4gEIWBDwEIIkPdiybvNyIs76jdX3sfHx921a9c6irvQspiryHvc45Deh00AeQ+7fmQPgdQELIQAeUfeUw/ISC4Uee9V2hMkFnMVeU/o8hMC4RFA3sOrGRlDQIWAhRAg78i7yuAscJCHDx92XWl/tfsWcxV5f5UyryEQDgHkPZxakSkEVAlYCAHyjryrDlKCNQlYzFXkncEFgXAJIO/h1o7MITAQAQshQN6R94EGJRe3JCBzVeaW5rHvh99zFy5caNkeb0IAAvkmgLznuz5kBwEzAsj7gpvct9PdXb2qeszOzzQlSzuuVb0qlYrZGCOwDgGpvYwrzaO8a6s7ffq0ToJEgQAEMiWAvGeKm8YgkB8CVjIogqEtriLZ1VsLqnElHvL+rkPe8zMn22ViMVfZNtOONu9DIP8EkPf814gMIWBCQIRA5FXz2Pr6Jjc6tl41puQ3vH6dK+/aphpX4klczf5LLOm/cNCOa1Wv6elpk/FFUD0CyLseSyJBoAgEkPciVJE+QCAFAXm+dKPRUD3u3bvnlpeXVWNKjrVazdXrddW4Ek/iajOQ/gsH7bhW9Xrw4EGK0cMlWRJA3rOkTVsQyD8B5D3/NSJDCEAAAhCImADyHnHx6ToEWhBA3ltA4S0IQAACEIBAXggg73mpBHlAIB8EkPd81IEsIAABCEAAAi0JIO8tsfAmBKIlgLxHW3o6DgEIQAACIRBA3kOoEjlCIDsCyHt2rGkJAhCAAAQg0DcB5L1vZFwAgUITQN4LXV46BwEIQAACoRNA3kOvIPlDQJcA8q7Lk2gQgAAEIAABVQLIuypOgkEgeALIe/AlpAMQgAAEIFBkAsh7katL3yDQPwHkvX9mXAEBCEAAAhDIjADynhlqGoJAEASQ9yDKRJIQgAAEIBArAeQ91srTbwi0JoC8t+bCuxCAAAQgAIFcEEDec1EGkoBAbggg77kpBYlAAAIQgAAEvk0Aef82E96BQMwEkPeYq0/fIQABCEAg9wSQ99yXiAQhkCkB5D1T3DQGAQhAAAIQ6I8A8t4fL86GQNEJIO9FrzD9gwAEIACBoAkg70GXj+QhoE4AeVdHSkAIQAACEICAHgHkXY8lkSBQBALIexGqSB8gAAEIQKCwBJD3wpaWjkEgFQHkPRU2LoIABCAAAQhkQwB5z4YzrUAgFALIeyiVIk8IQAACEIiSAPIeZdnpNATaEkDe26LhAwhAAAIQgIB/Asi7/xqQAQTyRAB5z1M1yAUCEIAABCDwCgGR9+qtBdXj0LEZt7i4+EpLvIQABEIggLyHUCVyhAAEIACBaAmMjo662dlZ1WNiYsKdP38+WqZ0HAIhE0DeQ64euUMAAhCAAAQgAAEIREUAeY+q3HQWAhCAAAQgAAEIQCBkAsh7yNUjdwhAAAIQgAAEIACBqAj8D6h3kAREViY5AAAAAElFTkSuQmCC)"
      ]
    },
    {
      "cell_type": "markdown",
      "metadata": {
        "id": "sm0ExWGbYH_T"
      },
      "source": [
        "* 단어 'have'를 'h', 'a', 'v', 'e'와 같이 글자 단위로 분리\n",
        "* 임베딩 층을 이용해 글자를 임베딩(워드 임베딩 후 문장의 길이를 맞추기 위해 패딩을 하는 것과 마찬가지로 패딩을 할 수도 있음)\n",
        "* 1D CNN층을 적용하여 얻은 벡터가 6개므로 맥스 풀링을 한 후에는 6개의 스칼라 값을 얻는데, 이렇게 얻은 스칼라값들은 전부 연결(concatenate)하여 하나의 벡터로 만들어줌\n",
        "* 최종적으로 이렇게 얻은 벡터를 단어 'have'의 벡터로 사용함"
      ]
    },
    {
      "cell_type": "markdown",
      "metadata": {
        "id": "YGAfDJ3UavBw"
      },
      "source": [
        "이렇게 단어 벡터를 얻을 경우, 어떤 단어이든 기본적으로 글자 레벨로 쪼개므로 OOV 문제 또한 해결할 수 있음\n",
        "* 특정 영단어가 훈련 데이터에 없었으나 테스트 데이터에 존재하는 단어일 때, Word2Vec이나 GloVe의 경우에는 OOV 문제가 발생하게 됨\n",
        "* 반면 1D CNN을 이용하는 경우에는 단어가 글자 단위로로 전부 분리되어 각 글자로 임베딩이 되고나서 1D CNN을 거친 후에 특정 단어의 벡터를 얻게 되므로 OOV 문제가 발생하지 않음"
      ]
    },
    {
      "cell_type": "markdown",
      "metadata": {
        "id": "-jqoZUgfYL5B"
      },
      "source": [
        "## 2.2 Char Embedding (BiLSTM)"
      ]
    },
    {
      "cell_type": "markdown",
      "metadata": {
        "id": "AvXzs2SbbOL3"
      },
      "source": [
        "__[단어 'have'에 대해서 BiLSTM을 통해서 단어 표현 벡터를 얻는 과정]__"
      ]
    },
    {
      "cell_type": "markdown",
      "metadata": {
        "id": "HrmkSOC0YRdO"
      },
      "source": [
        "![image.png](data:image/png;base64,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)"
      ]
    },
    {
      "cell_type": "markdown",
      "metadata": {
        "id": "iFDFaT59YQdi"
      },
      "source": [
        "* 단어 'have'를 'h', 'a', 'v', 'e'와 같이 글자 단위로 분리\n",
        "* 임베딩 층을 이용해 글자를 임베딩\n",
        "* 정방향 LSTM은 단어 정방향으로 순차적으로 글자 임베딩 벡터를 읽고 역방향 LSTM은 단어의 역방향으로 순차적으로 글자 임베딩 벡터를 읽음\n",
        "* 그리고 정방향 LSTM의 마지막 시점의 은닉 상태와 역방향 LSTM의 첫번째 시점의 은닉 상태를 연결(concatenate)함\n",
        "* 최종적으로 이렇게 얻은 벡터를 단어 'have'의 벡터로 사용함"
      ]
    },
    {
      "cell_type": "markdown",
      "metadata": {
        "id": "Lfskfs2-cGQG"
      },
      "source": [
        "글자 임베딩을 워드 임베딩의 대체로서 쓸 수도 있겠지만, 이렇게 얻은 글자 임베딩을 워드 임베딩과 연결하여 신경망의 입력으로 사용하므로서 워드 임베딩과 함께 사용하기도 함"
      ]
    }
  ]
}