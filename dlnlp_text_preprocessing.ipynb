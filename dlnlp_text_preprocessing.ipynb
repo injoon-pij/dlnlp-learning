{
  "nbformat": 4,
  "nbformat_minor": 0,
  "metadata": {
    "colab": {
      "name": "dlnlp_text_preprocessing.ipynb",
      "provenance": [],
      "collapsed_sections": [],
      "toc_visible": true,
      "authorship_tag": "ABX9TyMbV2H2Ao3nFGlBtqKv8lwQ",
      "include_colab_link": true
    },
    "kernelspec": {
      "name": "python3",
      "display_name": "Python 3"
    },
    "language_info": {
      "name": "python"
    }
  },
  "cells": [
    {
      "cell_type": "markdown",
      "metadata": {
        "id": "view-in-github",
        "colab_type": "text"
      },
      "source": [
        "<a href=\"https://colab.research.google.com/github/injoon-pij/dlnlp-learning/blob/main/dlnlp_text_preprocessing.ipynb\" target=\"_parent\"><img src=\"https://colab.research.google.com/assets/colab-badge.svg\" alt=\"Open In Colab\"/></a>"
      ]
    },
    {
      "cell_type": "markdown",
      "metadata": {
        "id": "K9QWAZeKqKAi"
      },
      "source": [
        "# 1) Tokenization"
      ]
    },
    {
      "cell_type": "markdown",
      "metadata": {
        "id": "6Qng4EBsrS2V"
      },
      "source": [
        "* 주어진 코퍼스(corpus)를 토큰(token) 단위로 나누는 작업. 토큰의 단위가 상황에 따라 다르지만, 보통 의미있는 단위로 토큰을 정의합니다."
      ]
    },
    {
      "cell_type": "markdown",
      "metadata": {
        "id": "Dqd4sgMPrn2I"
      },
      "source": [
        "---\n",
        "\n",
        "## 1.1 Word Tokenization"
      ]
    },
    {
      "cell_type": "markdown",
      "metadata": {
        "id": "aQX7PaVprqtY"
      },
      "source": [
        "* 토큰의 단위을 단어(word)로 하는 토큰화\n",
        "\n",
        "* (예) \"Time is an illusion. Lunchtime double so!\"\n",
        " * \"Time\", \"is\", \"an\", \"illustion\", \"Lunchtime\", \"double\", \"so\"\n",
        "\n",
        "* 토큰화 작업은 위와 같이 단순히 구두점이나 특수문자를 전부 제거하는 정제(cleaning) 작업만으로 해결되지 않음.\n",
        " * 문장의 경계를 파악하는데 도움이 되므로 단어를 뽑아낼 때 마침표(.)를 제외하지 않는 경우\n",
        " * 단어 자체에서 구두점을 갖고 있는 경우 (m.p.h, Ph.D)\n",
        " * 특수문자가 토큰의 의미를 구성하는 데에 필요한 경우 ($45.55(가격), 01/02/06(날짜))\n",
        " * 숫자 사이에 콤마(,)가 들어가는 경우 (123,456,789)\n",
        " * 줄임말이 포함된 경우 (we're, I'm). 이 때 단어가 줄임말로 쓰일 때 생기는 형태인 re 와 m 등을 \"접어\"라고 함\n",
        " * 단어 내에 띄어쓰기가 포함된 경우 (New York, rock 'n' roll)\n",
        "\n",
        "\n",
        "* 위처럼 토큰화를 하다보면 토큰화의 기준을 생각해봐야 하는 경우가 발생함. 예를 들어 영어에서는 (')가 들어가있는 단어를 어떻게 토큰으로 분류해야하는가라는 문제가 있음.\n",
        " * 이 경우 토큰화 목적에 따라 각각 다른 토큰화 도구를 사용"
      ]
    },
    {
      "cell_type": "code",
      "metadata": {
        "colab": {
          "base_uri": "https://localhost:8080/"
        },
        "id": "p0CAwjpLvWdo",
        "outputId": "dd063ee7-581b-43c1-e661-1c83b6cac6d7"
      },
      "source": [
        "import nltk\n",
        "nltk.download('punkt')"
      ],
      "execution_count": null,
      "outputs": [
        {
          "output_type": "stream",
          "name": "stdout",
          "text": [
            "[nltk_data] Downloading package punkt to /root/nltk_data...\n",
            "[nltk_data]   Unzipping tokenizers/punkt.zip.\n"
          ]
        },
        {
          "output_type": "execute_result",
          "data": {
            "text/plain": [
              "True"
            ]
          },
          "metadata": {},
          "execution_count": 3
        }
      ]
    },
    {
      "cell_type": "code",
      "metadata": {
        "id": "9fA2WHMFjdIW",
        "colab": {
          "base_uri": "https://localhost:8080/"
        },
        "outputId": "ac135e7a-9658-43c6-f3f7-51c500a3d527"
      },
      "source": [
        "# word_tokenize\n",
        "from nltk.tokenize import word_tokenize  \n",
        "print(word_tokenize(\"Don't be fooled by the dark sounding name, Mr. Jone's Orphanage is as cheery as cheery goes for a pastry shop.\"))  "
      ],
      "execution_count": null,
      "outputs": [
        {
          "output_type": "stream",
          "name": "stdout",
          "text": [
            "['Do', \"n't\", 'be', 'fooled', 'by', 'the', 'dark', 'sounding', 'name', ',', 'Mr.', 'Jone', \"'s\", 'Orphanage', 'is', 'as', 'cheery', 'as', 'cheery', 'goes', 'for', 'a', 'pastry', 'shop', '.']\n"
          ]
        }
      ]
    },
    {
      "cell_type": "code",
      "metadata": {
        "colab": {
          "base_uri": "https://localhost:8080/"
        },
        "id": "FN-N96-zvr8S",
        "outputId": "b8ebaf4e-09ca-4748-f337-0804fdadd9be"
      },
      "source": [
        "# WordPunctTokenizer\n",
        "from nltk.tokenize import WordPunctTokenizer  \n",
        "print(WordPunctTokenizer().tokenize(\"Don't be fooled by the dark sounding name, Mr. Jone's Orphanage is as cheery as cheery goes for a pastry shop.\"))"
      ],
      "execution_count": null,
      "outputs": [
        {
          "output_type": "stream",
          "name": "stdout",
          "text": [
            "['Don', \"'\", 't', 'be', 'fooled', 'by', 'the', 'dark', 'sounding', 'name', ',', 'Mr', '.', 'Jone', \"'\", 's', 'Orphanage', 'is', 'as', 'cheery', 'as', 'cheery', 'goes', 'for', 'a', 'pastry', 'shop', '.']\n"
          ]
        }
      ]
    },
    {
      "cell_type": "code",
      "metadata": {
        "colab": {
          "base_uri": "https://localhost:8080/"
        },
        "id": "K7C3VD-mwVF-",
        "outputId": "51559a70-8fc6-40c7-a515-56a625d9a41d"
      },
      "source": [
        "# text_to_word_sequence\n",
        "from tensorflow.keras.preprocessing.text import text_to_word_sequence\n",
        "print(text_to_word_sequence(\"Don't be fooled by the dark sounding name, Mr. Jone's Orphanage is as cheery as cheery goes for a pastry shop.\"))"
      ],
      "execution_count": null,
      "outputs": [
        {
          "output_type": "stream",
          "name": "stdout",
          "text": [
            "[\"don't\", 'be', 'fooled', 'by', 'the', 'dark', 'sounding', 'name', 'mr', \"jone's\", 'orphanage', 'is', 'as', 'cheery', 'as', 'cheery', 'goes', 'for', 'a', 'pastry', 'shop']\n"
          ]
        }
      ]
    },
    {
      "cell_type": "markdown",
      "metadata": {
        "id": "snxEPLejxC2s"
      },
      "source": [
        "* __word_tokenize (nltk)__\n",
        " * Don't를 Do와 n't로 분리하였으며, Jone's는 Jone과 's로 분리함\n",
        "\n",
        "* __WordPunctTokenizer (nltk)__\n",
        " * Don't를 Don과 '와 t로 분리하였으며, Jone's도 Jone과 '와 s로 분리함\n",
        " * 구두점을 별도로 분리함\n",
        "\n",
        "* __text_to_word_sequence (keras)__\n",
        " * 기본적으로 모든 알파벳을 소문자로 바꾸면서 마침표나 컴마, 느낌표 등의 구두점을 제거함\n",
        " * don't나 jone's와 같은 경우에는 분리하지 않고 보존함\n"
      ]
    },
    {
      "cell_type": "markdown",
      "metadata": {
        "id": "ruOnqGCr5Pu_"
      },
      "source": [
        "[참고]\n",
        "\n",
        "* Penn Treebank Tokenization\n",
        " * 표준으로 쓰이고 있는 토큰화 방법 중 하나\n",
        " * 토큰화 규칙\n",
        "   1. 하이푼으로 구성된 단어는 하나로 유지\n",
        "   2. doesn't와 같이 (')로 접어가 함께하는 단어는 분리"
      ]
    },
    {
      "cell_type": "code",
      "metadata": {
        "colab": {
          "base_uri": "https://localhost:8080/"
        },
        "id": "cNHVPttq5_Vd",
        "outputId": "7a0de2ee-080b-4f2c-e226-546dc849acf8"
      },
      "source": [
        "from nltk.tokenize import TreebankWordTokenizer\n",
        "tokenizer = TreebankWordTokenizer()\n",
        "text = \"Starting a home-based restaurant may be an ideal. it doesn't have a food chain or restaurant of their own.\"\n",
        "print(tokenizer.tokenize(text))"
      ],
      "execution_count": null,
      "outputs": [
        {
          "output_type": "stream",
          "name": "stdout",
          "text": [
            "['Starting', 'a', 'home-based', 'restaurant', 'may', 'be', 'an', 'ideal.', 'it', 'does', \"n't\", 'have', 'a', 'food', 'chain', 'or', 'restaurant', 'of', 'their', 'own', '.']\n"
          ]
        }
      ]
    },
    {
      "cell_type": "markdown",
      "metadata": {
        "id": "fiiuuXO26Ma7"
      },
      "source": [
        " * 결과를 보면, 규칙에 따라서 \"home-based\"는 하나의 토큰으로, \"dosen't\"는 \"does\"와 \"n't\"로 분리되었음"
      ]
    },
    {
      "cell_type": "markdown",
      "metadata": {
        "id": "Cvn6ryWK6eVY"
      },
      "source": [
        "---\n",
        "\n",
        "## 1.2 Sentence Tokenization"
      ]
    },
    {
      "cell_type": "markdown",
      "metadata": {
        "id": "KvHBF5il6hKr"
      },
      "source": [
        "* 토큰의 단위를 문장(sentence)으로 하는 토큰화\n",
        " * 문장 분류(sentence segmentation)라고도 부름\n",
        "\n",
        "* !나 ?는 문장의 구분을 위한 꽤 명확한 구분자(boundary) 역할을 하지만 마침표는 꼭 그렇진 않음.\n",
        " * 예) Since I'm actively looking for __Ph.D.__ students, I get the same question a dozen times every year."
      ]
    },
    {
      "cell_type": "markdown",
      "metadata": {
        "id": "VP8Z1e1a_k4B"
      },
      "source": [
        "[영어 문장 토큰화 수행]"
      ]
    },
    {
      "cell_type": "code",
      "metadata": {
        "colab": {
          "base_uri": "https://localhost:8080/"
        },
        "id": "FQFFXV8V7__E",
        "outputId": "a2c59741-ea28-43cc-80e6-0c3581e0ecd9"
      },
      "source": [
        "from nltk.tokenize import sent_tokenize\n",
        "text = \"His barber kept his word. But keeping such a huge secret to himself was driving him crazy. Finally, the barber went up a mountain and almost to the edge of a cliff. He dug a hole in the midst of some reeds. He looked about, to make sure no one was near.\"\n",
        "print(sent_tokenize(text))"
      ],
      "execution_count": null,
      "outputs": [
        {
          "output_type": "stream",
          "name": "stdout",
          "text": [
            "['His barber kept his word.', 'But keeping such a huge secret to himself was driving him crazy.', 'Finally, the barber went up a mountain and almost to the edge of a cliff.', 'He dug a hole in the midst of some reeds.', 'He looked about, to make sure no one was near.']\n"
          ]
        }
      ]
    },
    {
      "cell_type": "code",
      "metadata": {
        "colab": {
          "base_uri": "https://localhost:8080/"
        },
        "id": "zPg-0zRg8E5W",
        "outputId": "7efb6d62-49ae-469c-c4cb-3727fbdee71c"
      },
      "source": [
        "text = \"I am actively looking for Ph.D. students. and you are a Ph.D student.\"\n",
        "print(sent_tokenize(text))"
      ],
      "execution_count": null,
      "outputs": [
        {
          "output_type": "stream",
          "name": "stdout",
          "text": [
            "['I am actively looking for Ph.D. students.', 'and you are a Ph.D student.']\n"
          ]
        }
      ]
    },
    {
      "cell_type": "markdown",
      "metadata": {
        "id": "FNz6Z59L_vZ7"
      },
      "source": [
        "[한국어 문장 토큰화 수행]"
      ]
    },
    {
      "cell_type": "code",
      "metadata": {
        "id": "ZfRf95DV8Ksc"
      },
      "source": [
        "pip install kss"
      ],
      "execution_count": null,
      "outputs": []
    },
    {
      "cell_type": "code",
      "metadata": {
        "id": "BNEHCNL48bRO"
      },
      "source": [
        "import kss"
      ],
      "execution_count": null,
      "outputs": []
    },
    {
      "cell_type": "code",
      "metadata": {
        "colab": {
          "base_uri": "https://localhost:8080/"
        },
        "id": "ep8HLQ6M8MWv",
        "outputId": "def5c9b9-05fa-44e4-e96f-f6c6e82e0c3b"
      },
      "source": [
        "text = '딥 러닝 자연어 처리가 재미있기는 합니다. 그런데 문제는 영어보다 한국어로 할 때 너무 어려워요. 농담아니에요. 이제 해보면 알걸요?'\n",
        "print(kss.split_sentences(text))"
      ],
      "execution_count": null,
      "outputs": [
        {
          "output_type": "stream",
          "name": "stdout",
          "text": [
            "['딥 러닝 자연어 처리가 재미있기는 합니다.', '그런데 문제는 영어보다 한국어로 할 때 너무 어려워요. 농담아니에요.', '이제 해보면 알걸요?']\n"
          ]
        }
      ]
    },
    {
      "cell_type": "markdown",
      "metadata": {
        "id": "6KQx_qZ98Spi"
      },
      "source": [
        "[참고]\n",
        "\n",
        "문장 토큰화에서 예외를 발생시키는 마침표 처리를 위해서 입력에 따라 두 클래스로 분류하는 __이진 분류기(binary classifier)__를 사용하기도 함\n",
        "\n",
        "1. 마침표(.)가 단어의 일부분일 경우. 즉, 마침표가 약어(abbreivation)로 쓰이는 경우\n",
        "2. 마침표(.)가 정말로 문장의 구분자(boundary)일 경우\n",
        "\n",
        "이진 분류기는 임의로 정한 여러가지 규칙을 코딩한 함수일 수도 있으며, 머신 러닝을 통해 구현될 수도 있음\n",
        "\n",
        "* 마침표가 어떤 클래스에 속하는지 결정하기 위해서는 어떤 마침표가 주로 약어(abbreviation)으로 쓰이는 지 알아야함.\n",
        " * [영어 약어 사전](https://public.oed.com/how-to-use-the-oed/abbreviations/)\n",
        " * [문장 토큰화 규칙을 짤 때, 발생할 수 있는 여러가지 예외사항을 다룬 참고 자료](https://www.grammarly.com/blog/engineering/how-to-split-sentences/)"
      ]
    },
    {
      "cell_type": "markdown",
      "metadata": {
        "id": "p-WOtn_8EUnX"
      },
      "source": [
        "## 1.3 Tokenization (Korean)"
      ]
    },
    {
      "cell_type": "markdown",
      "metadata": {
        "id": "ZPCjSGhYFfou"
      },
      "source": [
        "[한국어 토큰화의 어려움]\n",
        "\n",
        "1. 한국어가 교착어이기 때문에\n",
        "\n",
        " * 교착어란 조사, 어미 등을 붙여서 말을 만드는 언어를 말함\n",
        " * 예를 들어, '그가','그에게','그를' 등 같은 단어임에도 서로 다른 조사가 붙어서 다른 단어로 인식됨\n",
        " * 즉 띄어쓰기 단위로 토큰화를 해도 일정 수준 잘 작동하는 영어와 달리, 한국어는 어절이 독립된 단어로 구성되어 있는 것이 아니라 조사 등의 무언가가 붙어있는 경우가 매우 많기 때문에 띄어쓰기만으로는 토큰화가 부족하고 형태소 토큰화가 필요\n",
        "\n",
        "2. 대부분의 코퍼스에서 한국어는 띄어쓰기가 영어보다 잘 지켜지지 않기 때문에\n",
        "\n",
        " * 한국어는 영어권 언어와 비교하여 띄어쓰기가 어렵고, 또 잘 지켜지지 않는 경향이 있음 \n",
        " * 이에 관한 가장 기본적인 견해는 한국어는 띄어쓰기가 잘 지켜지지 않아도 글을 쉽게 이해할 수 있기 때문임\n",
        "    * 예) 이렇게띄어쓰기를전혀하지않고글을썼다고하더라도글을이해할수있다."
      ]
    },
    {
      "cell_type": "markdown",
      "metadata": {
        "id": "WK7YIDRVEn3F"
      },
      "source": [
        "## 1.4 Part-of-speech(Pos) tagging"
      ]
    },
    {
      "cell_type": "markdown",
      "metadata": {
        "id": "somdzQbS5yT-"
      },
      "source": [
        "* 품사 태깅(part-of-speech tagging) : 단어 토큰화 과정에서 각 단어가 어떤 품사로 쓰였는지를 구분해놓는 과정\n",
        " * 표기는 같지만 품사에 따라서 단어의 의미가 달라지기도 하므로, 이를 위해서는 단어가 어떤 품사인지 아는 것이 중요하기도 함. "
      ]
    },
    {
      "cell_type": "markdown",
      "metadata": {
        "id": "NrEIehwT-Cld"
      },
      "source": [
        "* 영어"
      ]
    },
    {
      "cell_type": "code",
      "metadata": {
        "id": "TcmI8XJwEtr_",
        "colab": {
          "base_uri": "https://localhost:8080/"
        },
        "outputId": "1d603487-f2fd-4522-a444-768f0e3953f9"
      },
      "source": [
        "# NLTK Penn Treebank POS Tags\n",
        "\n",
        "from nltk.tokenize import word_tokenize\n",
        "text = \"I am actively looking for Ph.D. students. and you are a Ph.D. student.\"\n",
        "print(word_tokenize(text))"
      ],
      "execution_count": null,
      "outputs": [
        {
          "output_type": "stream",
          "name": "stdout",
          "text": [
            "['I', 'am', 'actively', 'looking', 'for', 'Ph.D.', 'students', '.', 'and', 'you', 'are', 'a', 'Ph.D.', 'student', '.']\n"
          ]
        }
      ]
    },
    {
      "cell_type": "code",
      "metadata": {
        "colab": {
          "base_uri": "https://localhost:8080/"
        },
        "id": "9vj-RT129G8d",
        "outputId": "12a77442-f274-4a2f-b7ea-e7bc302e6626"
      },
      "source": [
        "nltk.download('averaged_perceptron_tagger')"
      ],
      "execution_count": null,
      "outputs": [
        {
          "output_type": "stream",
          "name": "stdout",
          "text": [
            "[nltk_data] Downloading package averaged_perceptron_tagger to\n",
            "[nltk_data]     /root/nltk_data...\n",
            "[nltk_data]   Unzipping taggers/averaged_perceptron_tagger.zip.\n"
          ]
        },
        {
          "output_type": "execute_result",
          "data": {
            "text/plain": [
              "True"
            ]
          },
          "metadata": {},
          "execution_count": 5
        }
      ]
    },
    {
      "cell_type": "code",
      "metadata": {
        "colab": {
          "base_uri": "https://localhost:8080/"
        },
        "id": "15ONBqZY9AoL",
        "outputId": "61a49623-6725-48ca-aff0-131318c1ba4f"
      },
      "source": [
        "from nltk.tag import pos_tag\n",
        "x = word_tokenize(text)\n",
        "pos_tag(x)"
      ],
      "execution_count": null,
      "outputs": [
        {
          "output_type": "execute_result",
          "data": {
            "text/plain": [
              "[('I', 'PRP'),\n",
              " ('am', 'VBP'),\n",
              " ('actively', 'RB'),\n",
              " ('looking', 'VBG'),\n",
              " ('for', 'IN'),\n",
              " ('Ph.D.', 'NNP'),\n",
              " ('students', 'NNS'),\n",
              " ('.', '.'),\n",
              " ('and', 'CC'),\n",
              " ('you', 'PRP'),\n",
              " ('are', 'VBP'),\n",
              " ('a', 'DT'),\n",
              " ('Ph.D.', 'NNP'),\n",
              " ('student', 'NN'),\n",
              " ('.', '.')]"
            ]
          },
          "metadata": {},
          "execution_count": 6
        }
      ]
    },
    {
      "cell_type": "markdown",
      "metadata": {
        "id": "mJhTm1J8-ElB"
      },
      "source": [
        "* 한국어"
      ]
    },
    {
      "cell_type": "markdown",
      "metadata": {
        "id": "ql6Wgr8Z-63i"
      },
      "source": [
        "KoNLPy (파이썬 패키지)\n",
        " * 형태소 분석기 종류 : Okt(Open Korea Text), 메캅(Mecab), 코모란(Komoran), 한나눔(Hannanum), 꼬꼬마(Kkma)\n",
        " * 형태소 분석기는 성능과 결과가 다르게 나오기 때문에, 사용하고자 하는 필요 용도에 따라 선택할 필요. 예를 들어서 속도를 중시한다면 메캅을 사용하는 것이 유리."
      ]
    },
    {
      "cell_type": "code",
      "metadata": {
        "id": "52pLTOxM-UGb"
      },
      "source": [
        "pip install konlpy"
      ],
      "execution_count": null,
      "outputs": []
    },
    {
      "cell_type": "code",
      "metadata": {
        "id": "PSRTidIU-Fot"
      },
      "source": [
        "# KONLPY Okt\n",
        "\n",
        "from konlpy.tag import Okt  \n",
        "okt = Okt()  "
      ],
      "execution_count": null,
      "outputs": []
    },
    {
      "cell_type": "code",
      "metadata": {
        "colab": {
          "base_uri": "https://localhost:8080/"
        },
        "id": "mS21_z3s-tfb",
        "outputId": "08c0c5ba-d26f-4867-c274-6ec240488fcb"
      },
      "source": [
        "# 형태소 추출\n",
        "print(okt.morphs(\"열심히 코딩한 당신, 연휴에는 여행을 가봐요\"))"
      ],
      "execution_count": null,
      "outputs": [
        {
          "output_type": "stream",
          "name": "stdout",
          "text": [
            "['열심히', '코딩', '한', '당신', ',', '연휴', '에는', '여행', '을', '가봐요']\n"
          ]
        }
      ]
    },
    {
      "cell_type": "code",
      "metadata": {
        "colab": {
          "base_uri": "https://localhost:8080/"
        },
        "id": "BMFk22L--f2h",
        "outputId": "51472ac6-dcba-4e4f-ae92-3d6e5f85786b"
      },
      "source": [
        "# 품사 태깅\n",
        "print(okt.pos(\"열심히 코딩한 당신, 연휴에는 여행을 가봐요\")) "
      ],
      "execution_count": null,
      "outputs": [
        {
          "output_type": "stream",
          "name": "stdout",
          "text": [
            "[('열심히', 'Adverb'), ('코딩', 'Noun'), ('한', 'Josa'), ('당신', 'Noun'), (',', 'Punctuation'), ('연휴', 'Noun'), ('에는', 'Josa'), ('여행', 'Noun'), ('을', 'Josa'), ('가봐요', 'Verb')]\n"
          ]
        }
      ]
    },
    {
      "cell_type": "code",
      "metadata": {
        "colab": {
          "base_uri": "https://localhost:8080/"
        },
        "id": "FvoZf8K7-pYs",
        "outputId": "b133523e-1fc5-43ee-962d-d7c1bd9baf9a"
      },
      "source": [
        "# 명사 추출\n",
        "print(okt.nouns(\"열심히 코딩한 당신, 연휴에는 여행을 가봐요\"))  "
      ],
      "execution_count": null,
      "outputs": [
        {
          "output_type": "stream",
          "name": "stdout",
          "text": [
            "['코딩', '당신', '연휴', '여행']\n"
          ]
        }
      ]
    },
    {
      "cell_type": "code",
      "metadata": {
        "id": "Wf3S4QNX-zuh"
      },
      "source": [
        "# KONLPY Kkma\n",
        "\n",
        "from konlpy.tag import Kkma  \n",
        "kkma = Kkma()  "
      ],
      "execution_count": null,
      "outputs": []
    },
    {
      "cell_type": "code",
      "metadata": {
        "colab": {
          "base_uri": "https://localhost:8080/"
        },
        "id": "XhNvMtL4AGQN",
        "outputId": "7967ae9a-f117-4418-c37b-3ac1304c5dbd"
      },
      "source": [
        "print(kkma.morphs(\"열심히 코딩한 당신, 연휴에는 여행을 가봐요\"))"
      ],
      "execution_count": null,
      "outputs": [
        {
          "output_type": "stream",
          "name": "stdout",
          "text": [
            "['열심히', '코딩', '하', 'ㄴ', '당신', ',', '연휴', '에', '는', '여행', '을', '가보', '아요']\n"
          ]
        }
      ]
    },
    {
      "cell_type": "code",
      "metadata": {
        "colab": {
          "base_uri": "https://localhost:8080/"
        },
        "id": "QsTZb0L4AQAt",
        "outputId": "33733022-4540-483b-a089-0cbf410d687c"
      },
      "source": [
        "print(kkma.pos(\"열심히 코딩한 당신, 연휴에는 여행을 가봐요\"))  "
      ],
      "execution_count": null,
      "outputs": [
        {
          "output_type": "stream",
          "name": "stdout",
          "text": [
            "[('열심히', 'MAG'), ('코딩', 'NNG'), ('하', 'XSV'), ('ㄴ', 'ETD'), ('당신', 'NP'), (',', 'SP'), ('연휴', 'NNG'), ('에', 'JKM'), ('는', 'JX'), ('여행', 'NNG'), ('을', 'JKO'), ('가보', 'VV'), ('아요', 'EFN')]\n"
          ]
        }
      ]
    },
    {
      "cell_type": "code",
      "metadata": {
        "colab": {
          "base_uri": "https://localhost:8080/"
        },
        "id": "FnR75WurATgd",
        "outputId": "3357a6b4-69d6-4e7e-aa8c-f8ee9a22eb59"
      },
      "source": [
        "print(kkma.nouns(\"열심히 코딩한 당신, 연휴에는 여행을 가봐요\"))  "
      ],
      "execution_count": null,
      "outputs": [
        {
          "output_type": "stream",
          "name": "stdout",
          "text": [
            "['코딩', '당신', '연휴', '여행']\n"
          ]
        }
      ]
    },
    {
      "cell_type": "markdown",
      "metadata": {
        "id": "119yJQK3BL3g"
      },
      "source": [
        "# 2) Cleaning & Normalization"
      ]
    },
    {
      "cell_type": "markdown",
      "metadata": {
        "id": "wVh4_K_DsseF"
      },
      "source": [
        "## 2.1 Cleaning"
      ]
    },
    {
      "cell_type": "markdown",
      "metadata": {
        "id": "htKgkrloswjL"
      },
      "source": [
        "정제(cleaning) : 갖고 있는 코퍼스로부터 노이즈 데이터를 제거"
      ]
    },
    {
      "cell_type": "markdown",
      "metadata": {
        "id": "FYaFsh7hBWdV"
      },
      "source": [
        " * 토큰화 작업에 방해가 되는 부분들을 배제하고 작업을 수행하기 위해서 작업에 앞서 수행하기도 하지만, 이후에도 여전히 남아있는 노이즈들을 제거하기위해 이후에도 지속적으로 이루어지기도 함\n",
        "\n",
        " * 불필요한 단어의 제거\n",
        "\n",
        "   정제 작업에서 제거해야하는 노이즈 데이터는 자연어가 아니면서 아무 의미도 갖지 않는 글자들(특수 문자 등)을 의미하기도 하지만, 분석하고자 하는 목적에 맞지 않는 불필요 단어들을 노이즈 데이터라고 하기도 함.\n",
        "\n",
        "   * 등장 빈도가 적은 단어\n",
        "\n",
        "       때론 텍스트 데이터에 너무 적게 등장해 자연어 처리에 도움되지 않는 단어들이 존재함. 예를 들어 10000개의 메일 데이터에서 총 5번 밖에 등장하지 않은 단어가 있다면 이 단어는 문제 해결에 거의 도움이 되지 않을 것임.\n",
        "\n",
        "   * 길이가 짧은 단어\n",
        "\n",
        "      영어권 언어에서는 길이가 짧은 단어들은 대부분 불용어에 해당하므로 이들을 삭제하는 것만으로도 효과적인 정제를 수행할 수 있기도 함. 예를 들어 길이가 2 이하인 단어를 제거하는 것만으로도 자연어 처리에서 큰 의미를 가지지 않는 관사 'a', 주어 'I' , 그리고 'it, at, to, on, in, by' 과 같은 대부분의 불용어들이 제거됨. \n",
        "      \n",
        "      하지만 한국어에서는 이런 방법이 크게 유효하지 않은데, 이는 영어의 단어 길이 평균이 한국어의 단어 길이 평균보다 길기 때문임. 이는 영어 단어와 한국어 단어에서 각 한 글자가 가진 의미의 크기가 다르기 때문이라고 볼 수 있음. 예를 들어 '학교'라는 한국어 단어의 경우, 배울 학(學)과 학교 교(校)로 글자 하나하나가 이미 함축적인 의미를 갖고있어 두 글자만으로 학교라는 단어를 표현함. 하지만 영어의 경우에는 학교라는 글자를 표현하기 위해서는 s, c, h, o, o, l이라는 총 6개의 글자가 필요함."
      ]
    },
    {
      "cell_type": "markdown",
      "metadata": {
        "id": "dzP8wpUItAAk"
      },
      "source": [
        "## 2.2 Normalization"
      ]
    },
    {
      "cell_type": "markdown",
      "metadata": {
        "id": "yokLHZ9RtCsE"
      },
      "source": [
        "정규화(normalization) : 표현 방법이 다른 단어들을 통합시켜서 같은 단어로 만들어줌"
      ]
    },
    {
      "cell_type": "markdown",
      "metadata": {
        "id": "PF_4VyswqFTE"
      },
      "source": [
        " * 규칙에 기반한 표기가 다른 단어들의 통합\n",
        "  \n",
        "   필요에 따라 직접 코딩을 통해 정의할 수 있는 정규화 규칙을 통해 같은 의미를 지녔지만 표기가 다른 단어들을 하나의 단어로 정규화하는 방법을 사용할 수 있음. 예를 들어 USA와 US는 같은 의미를 가지므로, 하나의 단어로 정규화할 수 있고, uh-huh와 uhhuh는 형태는 다르지만 여전히 같은 의미를 가졌다고 볼 수 있음.\n",
        "\n",
        " * 대, 소문자 통합\n",
        "\n",
        "   영어권 언어에서 대문자는 문장의 맨 앞 등과 같은 특정 상황에서만 쓰이고, 대부분의 글은 소문자로 작성되기 때문에 대, 소문자 통합 작업은 대부분 대문자를 소문자로 변환하는 소문자 변환작업으로 이루어지게 됨. 물론 대문자와 소문자가 구분되어야 하는 경우도 있기 때문에 무작정 통합해서는 안 됨.  가령 미국을 뜻하는 단어 US와 우리를 뜻하는 us는 구분되어야 하고, 회사 이름(General Motors)나, 사람 이름(Bush) 등은 대문자로 유지되는 것이 나음."
      ]
    },
    {
      "cell_type": "markdown",
      "metadata": {
        "id": "B8nFs4Wwru_c"
      },
      "source": [
        "# 3) Lemmatization & Stemming"
      ]
    },
    {
      "cell_type": "markdown",
      "metadata": {
        "id": "jKCS6mkrsWsA"
      },
      "source": [
        "정규화(normalization) 기법 중 코퍼스의 단어의 개수를 줄일 수 있는 기법인 표제어 추출(lemmatization)과 어간 추출(stemming)의 개념에 대해서 알아보고 이 둘의 결과가 어떻게 다른지 이해"
      ]
    },
    {
      "cell_type": "markdown",
      "metadata": {
        "id": "ts5tdtUDtVnl"
      },
      "source": [
        "## 3.1 Lemmatization"
      ]
    },
    {
      "cell_type": "markdown",
      "metadata": {
        "id": "prOjDMtktYY6"
      },
      "source": [
        "* 표제어 추출은 단어들이 각기 다른 형태를 가지더라도, 공유하는 하나의 뿌리 단어를 찾아가는 과정을 말함. 예를 들어서 am, are, is는 서로 다른 스펠링이지만 그 뿌리 단어는 be라고 볼 수 있으므로 이 단어들의 표제어는 be라고 함"
      ]
    },
    {
      "cell_type": "code",
      "metadata": {
        "colab": {
          "base_uri": "https://localhost:8080/"
        },
        "id": "3q2z4nMyBPPj",
        "outputId": "136fc268-a698-4b2b-c8dc-2f3fa0410e23"
      },
      "source": [
        "# NLTK WordNetLemmatizer\n",
        "\n",
        "nltk.download('wordnet')\n",
        "from nltk.stem import WordNetLemmatizer\n",
        "n = WordNetLemmatizer()"
      ],
      "execution_count": null,
      "outputs": [
        {
          "output_type": "stream",
          "name": "stdout",
          "text": [
            "[nltk_data] Downloading package wordnet to /root/nltk_data...\n",
            "[nltk_data]   Unzipping corpora/wordnet.zip.\n"
          ]
        }
      ]
    },
    {
      "cell_type": "code",
      "metadata": {
        "colab": {
          "base_uri": "https://localhost:8080/"
        },
        "id": "9-RZq_sJwYvg",
        "outputId": "355979cb-3499-4cc2-aa3f-ca3cb2fdc861"
      },
      "source": [
        "words=['policy', 'doing', 'organization', 'have', 'going', 'love', 'lives', 'fly', 'dies', 'watched', 'has', 'starting', 'is']\n",
        "print([n.lemmatize(w) for w in words])"
      ],
      "execution_count": null,
      "outputs": [
        {
          "output_type": "stream",
          "name": "stdout",
          "text": [
            "['policy', 'doing', 'organization', 'have', 'going', 'love', 'life', 'fly', 'dy', 'watched', 'ha', 'starting', 'is']\n"
          ]
        }
      ]
    },
    {
      "cell_type": "markdown",
      "metadata": {
        "id": "OpuDVWK8wzo7"
      },
      "source": [
        "* 표제어 추출기에 본래 단어의 품사 정보를 제공함으로써 더욱 정확한 Lemma 결과를 얻을 수 있음."
      ]
    },
    {
      "cell_type": "code",
      "metadata": {
        "colab": {
          "base_uri": "https://localhost:8080/",
          "height": 35
        },
        "id": "pZTkgAMt0cnP",
        "outputId": "72594344-bccc-4199-db98-2b934ada7843"
      },
      "source": [
        "n.lemmatize('dies', 'v')"
      ],
      "execution_count": null,
      "outputs": [
        {
          "output_type": "execute_result",
          "data": {
            "application/vnd.google.colaboratory.intrinsic+json": {
              "type": "string"
            },
            "text/plain": [
              "'die'"
            ]
          },
          "metadata": {},
          "execution_count": 8
        }
      ]
    },
    {
      "cell_type": "code",
      "metadata": {
        "colab": {
          "base_uri": "https://localhost:8080/",
          "height": 35
        },
        "id": "bdSja76d0ez8",
        "outputId": "de992dd1-bb8c-4254-8bcb-3943dc503c7e"
      },
      "source": [
        "n.lemmatize('watched', 'v')"
      ],
      "execution_count": null,
      "outputs": [
        {
          "output_type": "execute_result",
          "data": {
            "application/vnd.google.colaboratory.intrinsic+json": {
              "type": "string"
            },
            "text/plain": [
              "'watch'"
            ]
          },
          "metadata": {},
          "execution_count": 9
        }
      ]
    },
    {
      "cell_type": "code",
      "metadata": {
        "colab": {
          "base_uri": "https://localhost:8080/",
          "height": 35
        },
        "id": "j3c4EF4P0g26",
        "outputId": "02f77337-c24d-4639-8ce7-df49dc6734f4"
      },
      "source": [
        "n.lemmatize('has', 'v')"
      ],
      "execution_count": null,
      "outputs": [
        {
          "output_type": "execute_result",
          "data": {
            "application/vnd.google.colaboratory.intrinsic+json": {
              "type": "string"
            },
            "text/plain": [
              "'have'"
            ]
          },
          "metadata": {},
          "execution_count": 10
        }
      ]
    },
    {
      "cell_type": "code",
      "metadata": {
        "colab": {
          "base_uri": "https://localhost:8080/",
          "height": 35
        },
        "id": "qcTGGIbv0ibZ",
        "outputId": "5b928aec-76cf-40ed-bc8a-7d05860e1c5b"
      },
      "source": [
        "n.lemmatize('starting', 'v')"
      ],
      "execution_count": null,
      "outputs": [
        {
          "output_type": "execute_result",
          "data": {
            "application/vnd.google.colaboratory.intrinsic+json": {
              "type": "string"
            },
            "text/plain": [
              "'start'"
            ]
          },
          "metadata": {},
          "execution_count": 12
        }
      ]
    },
    {
      "cell_type": "code",
      "metadata": {
        "colab": {
          "base_uri": "https://localhost:8080/",
          "height": 35
        },
        "id": "KsmN3I7H0nlG",
        "outputId": "83b1f9bc-9f99-40b2-a991-8c85af2cb435"
      },
      "source": [
        "n.lemmatize('is', 'v')"
      ],
      "execution_count": null,
      "outputs": [
        {
          "output_type": "execute_result",
          "data": {
            "application/vnd.google.colaboratory.intrinsic+json": {
              "type": "string"
            },
            "text/plain": [
              "'be'"
            ]
          },
          "metadata": {},
          "execution_count": 13
        }
      ]
    },
    {
      "cell_type": "markdown",
      "metadata": {
        "id": "wim8qbPQtZHR"
      },
      "source": [
        "## 3.2 Stemming"
      ]
    },
    {
      "cell_type": "markdown",
      "metadata": {
        "id": "b8F5e9H-tawc"
      },
      "source": [
        "* 어간 추출은 어간(Stem)을 추출하는 작업을 말함. \n",
        "\n",
        "* 어간 추출은 형태학적 분석을 단순화한 버전, 즉 정해진 단순 규칙에 기반한 단어의 어미를 자르는 대략적인 작업이라고 볼 수 있음. \n",
        " * 이 작업은 섬세한 작업이 아니기 때문에 어간 추출 후에 나오는 출력 단어는 사전에 존재하지 않는 단어일 수도 있음."
      ]
    },
    {
      "cell_type": "code",
      "metadata": {
        "id": "METnTmHDtbHD"
      },
      "source": [
        "# NLTK PorterStemmer\n",
        "\n",
        "from nltk.stem import PorterStemmer\n",
        "from nltk.tokenize import word_tokenize\n",
        "s = PorterStemmer()"
      ],
      "execution_count": null,
      "outputs": []
    },
    {
      "cell_type": "markdown",
      "metadata": {
        "id": "CzBkE4Qb38yK"
      },
      "source": [
        "* 포터 알고리즘의 어간 추출 규칙 예시\n",
        "\n",
        " * ALIZE → AL\n",
        " * ANCE → 제거\n",
        " * ICAL → IC"
      ]
    },
    {
      "cell_type": "code",
      "metadata": {
        "colab": {
          "base_uri": "https://localhost:8080/"
        },
        "id": "qUjK7-MZ4P4O",
        "outputId": "14a122e5-31f1-4a8b-d451-2abb3c400c99"
      },
      "source": [
        "words=['formalize', 'allowance', 'electricical']\n",
        "print([s.stem(w) for w in words])"
      ],
      "execution_count": null,
      "outputs": [
        {
          "output_type": "stream",
          "name": "stdout",
          "text": [
            "['formal', 'allow', 'electric']\n"
          ]
        }
      ]
    },
    {
      "cell_type": "code",
      "metadata": {
        "id": "8rRNpJw65rhA"
      },
      "source": [
        "# NLTK Lancaster Stemmer\n",
        "## Porter Stemmer와 비교\n",
        "\n",
        "from nltk.stem import PorterStemmer, LancasterStemmer\n",
        "s = PorterStemmer()\n",
        "l = LancasterStemmer()\n",
        "\n",
        "words=['policy', 'doing', 'organization', 'have', 'going', 'love', 'lives', 'fly', 'dies', 'watched', 'has', 'starting']"
      ],
      "execution_count": null,
      "outputs": []
    },
    {
      "cell_type": "code",
      "metadata": {
        "colab": {
          "base_uri": "https://localhost:8080/"
        },
        "id": "dcB_gAZy6C-l",
        "outputId": "7f8fcf0f-0644-4414-f06c-4768d4f22fc9"
      },
      "source": [
        "# Porter\n",
        "print([s.stem(w) for w in words])"
      ],
      "execution_count": null,
      "outputs": [
        {
          "output_type": "stream",
          "name": "stdout",
          "text": [
            "['polici', 'do', 'organ', 'have', 'go', 'love', 'live', 'fli', 'die', 'watch', 'ha', 'start']\n"
          ]
        }
      ]
    },
    {
      "cell_type": "code",
      "metadata": {
        "colab": {
          "base_uri": "https://localhost:8080/"
        },
        "id": "AczBAQAx6RDU",
        "outputId": "f77bfa6e-d56a-4f0e-f767-4da229f329c9"
      },
      "source": [
        "# Lancaster\n",
        "print([l.stem(w) for w in words])"
      ],
      "execution_count": null,
      "outputs": [
        {
          "output_type": "stream",
          "name": "stdout",
          "text": [
            "['policy', 'doing', 'org', 'hav', 'going', 'lov', 'liv', 'fly', 'die', 'watch', 'has', 'start']\n"
          ]
        }
      ]
    },
    {
      "cell_type": "markdown",
      "metadata": {
        "id": "Hhln01sb6qjd"
      },
      "source": [
        "---\n",
        "\n",
        "__Lemmatization vs. Stemming__\n",
        "\n",
        "* 표제어 추출은 문맥을 고려하며, 해당 단어의 품사 정보를 보존한다.\n",
        "\n",
        "* 어간 추출을 수행한 결과는 품사 정보가 보존되지 않는다. 더 정확히는, 어간 추출을 한 결과는 사전에 존재하지 않는 단어일 경우가 많다.\n",
        "\n",
        "* Lemmatization\n",
        " * am → be\n",
        " * the going → the going\n",
        " * having → have\n",
        "\n",
        "* Stemming\n",
        " * am → am\n",
        " * the going → the go\n",
        " * having → hav"
      ]
    },
    {
      "cell_type": "markdown",
      "metadata": {
        "id": "-JeDcesqBiay"
      },
      "source": [
        "# 4) Stopword"
      ]
    },
    {
      "cell_type": "markdown",
      "metadata": {
        "id": "r1AbMlNxBlTt"
      },
      "source": [
        "* 불용어란 자주 등장하지만 분석을 하는 것에 있어서는 큰 도움이 되지 않는 단어들을 말함. \n",
        " * 예를 들어, I, my, me, over, 조사, 접미사 같은 단어들은 문장에서는 자주 등장하지만 실제 의미 분석을 하는데는 거의 기여하는 바가 없음.\n",
        "\n",
        "* 불용어는 패키지 내에 정의되어있는 것을 사용해도 되고 개발자가 직접 정의할 수도 있음.\n"
      ]
    },
    {
      "cell_type": "markdown",
      "metadata": {
        "id": "nUUN7ui0C27g"
      },
      "source": [
        "* 영어"
      ]
    },
    {
      "cell_type": "code",
      "metadata": {
        "colab": {
          "base_uri": "https://localhost:8080/"
        },
        "id": "XH5QeydNC2YS",
        "outputId": "ce0c8c67-ba8d-41c9-e968-f366ed264f74"
      },
      "source": [
        "nltk.download('stopwords')\n",
        "from nltk.corpus import stopwords "
      ],
      "execution_count": null,
      "outputs": [
        {
          "output_type": "stream",
          "name": "stdout",
          "text": [
            "[nltk_data] Downloading package stopwords to /root/nltk_data...\n",
            "[nltk_data]   Unzipping corpora/stopwords.zip.\n"
          ]
        }
      ]
    },
    {
      "cell_type": "code",
      "metadata": {
        "colab": {
          "base_uri": "https://localhost:8080/"
        },
        "id": "ilWqPqZADBVb",
        "outputId": "76309181-21d9-4996-ec5c-bcc8473641d6"
      },
      "source": [
        "# 불용어 확인\n",
        "stopwords.words('english')[:10]"
      ],
      "execution_count": null,
      "outputs": [
        {
          "output_type": "execute_result",
          "data": {
            "text/plain": [
              "['i', 'me', 'my', 'myself', 'we', 'our', 'ours', 'ourselves', 'you', \"you're\"]"
            ]
          },
          "metadata": {},
          "execution_count": 23
        }
      ]
    },
    {
      "cell_type": "code",
      "metadata": {
        "colab": {
          "base_uri": "https://localhost:8080/"
        },
        "id": "Pdfk5FNgDKLt",
        "outputId": "00dfe3cf-1a3a-46f1-aa53-183d6228ffe9"
      },
      "source": [
        "# 불용어 제거\n",
        "from nltk.corpus import stopwords \n",
        "from nltk.tokenize import word_tokenize \n",
        "\n",
        "example = \"Family is not an important thing. It's everything.\"\n",
        "stop_words = set(stopwords.words('english')) \n",
        "\n",
        "word_tokens = word_tokenize(example)\n",
        "\n",
        "result=[word for word in word_tokens if not word in stop_words]\n",
        "\n",
        "print(word_tokens) \n",
        "print(result) "
      ],
      "execution_count": null,
      "outputs": [
        {
          "output_type": "stream",
          "name": "stdout",
          "text": [
            "['Family', 'is', 'not', 'an', 'important', 'thing', '.', 'It', \"'s\", 'everything', '.']\n",
            "['Family', 'important', 'thing', '.', 'It', \"'s\", 'everything', '.']\n"
          ]
        }
      ]
    },
    {
      "cell_type": "markdown",
      "metadata": {
        "id": "MCLVOzSmDWEA"
      },
      "source": [
        "* 한국어\n",
        " * [한국어 불용어 리스트](https://www.ranks.nl/stopwords/korean)\n",
        " * [한국어 불용어 리스트2](https://bab2min.tistory.com/544)\n",
        " * 절대적인 리스트는 아님. 목적에 맞게 선택 필요"
      ]
    },
    {
      "cell_type": "code",
      "metadata": {
        "colab": {
          "base_uri": "https://localhost:8080/"
        },
        "id": "OQ3hhF8hDVdy",
        "outputId": "f355e519-44a8-46b6-8914-46b29abec569"
      },
      "source": [
        "# 불용어 제거\n",
        "from nltk.corpus import stopwords \n",
        "from nltk.tokenize import word_tokenize \n",
        "\n",
        "example = \"고기를 아무렇게나 구우려고 하면 안 돼. 고기라고 다 같은 게 아니거든. 예컨대 삼겹살을 구울 때는 중요한 게 있지.\"\n",
        "stop_words = ['아무거나', '아무렇게나', '어찌하든지', '같다', '비슷하다', '예컨대', '이럴정도로', '하면', '아니거든']\n",
        "\n",
        "word_tokens = word_tokenize(example)\n",
        "\n",
        "result=[word for word in word_tokens if not word in stop_words]\n",
        "\n",
        "print(word_tokens) \n",
        "print(result)"
      ],
      "execution_count": null,
      "outputs": [
        {
          "output_type": "stream",
          "name": "stdout",
          "text": [
            "['고기를', '아무렇게나', '구우려고', '하면', '안', '돼', '.', '고기라고', '다', '같은', '게', '아니거든', '.', '예컨대', '삼겹살을', '구울', '때는', '중요한', '게', '있지', '.']\n",
            "['고기를', '구우려고', '안', '돼', '.', '고기라고', '다', '같은', '게', '.', '삼겹살을', '구울', '때는', '중요한', '게', '있지', '.']\n"
          ]
        }
      ]
    },
    {
      "cell_type": "markdown",
      "metadata": {
        "id": "XNcdJo-eHgmc"
      },
      "source": [
        "# 5) Integer Encoding"
      ]
    },
    {
      "cell_type": "markdown",
      "metadata": {
        "id": "bjo-4gEfJ73Q"
      },
      "source": [
        "* 각 단어에 단어와 맵핑되는 고유한 정수, 다른 표현으로는 인덱스를 부여하는 과정\n",
        " * 원-핫 인코딩, 워드 임베딩 등의 과정을 위해 필요함\n",
        "\n",
        "* 단어에 정수를 부여하는 방법 중 하나로 단어를 빈도수 순으로 정렬한 단어 집합(vocabulary)을 만들고, 빈도수가 높은 순서대로 차례로 낮은 숫자부터 정수를 부여하는 방법이 있다."
      ]
    },
    {
      "cell_type": "markdown",
      "metadata": {
        "id": "qYJfL3yUKRGh"
      },
      "source": [
        "## 5.1 Dictionary"
      ]
    },
    {
      "cell_type": "code",
      "metadata": {
        "id": "8tT_7eXrHl2V"
      },
      "source": [
        "from nltk.tokenize import sent_tokenize\n",
        "from nltk.tokenize import word_tokenize\n",
        "from nltk.corpus import stopwords\n",
        "\n",
        "text = '''A barber is a person. a barber is good person. a barber is huge person.\n",
        "          he Knew A Secret! The Secret He Kept is huge secret. Huge secret. \n",
        "          His barber kept his word. a barber kept his word. His barber kept his secret.\n",
        "          But keeping and keeping such a huge secret to himself was driving the barber crazy. \n",
        "          the barber went up a huge mountain.'''"
      ],
      "execution_count": null,
      "outputs": []
    },
    {
      "cell_type": "code",
      "metadata": {
        "colab": {
          "base_uri": "https://localhost:8080/"
        },
        "id": "quoxRndpMzvT",
        "outputId": "3e4ca3b2-f28a-44c9-ff3c-cd6397c580e9"
      },
      "source": [
        "# sentence tokenization\n",
        "text = sent_tokenize(text)\n",
        "\n",
        "# cleaning & word tokenization\n",
        "vocab = {}\n",
        "sentences = []\n",
        "stop_words = set(stopwords.words('english'))\n",
        "\n",
        "for i in text:\n",
        "    sentence = word_tokenize(i) # 단어 토큰화를 수행합니다.\n",
        "    result = []\n",
        "\n",
        "    for word in sentence: \n",
        "        word = word.lower()           # 소문자로 변환\n",
        "        if word not in stop_words:    # 불용어 제거\n",
        "            if len(word) > 2:         # 단어 길이 제한\n",
        "                result.append(word)\n",
        "                if word not in vocab: # 빈도수 포함된 단어 집합 생성\n",
        "                    vocab[word] = 0 \n",
        "                vocab[word] += 1\n",
        "    sentences.append(result) \n",
        "    \n",
        "print(sentences)"
      ],
      "execution_count": null,
      "outputs": [
        {
          "output_type": "stream",
          "name": "stdout",
          "text": [
            "[['barber', 'person'], ['barber', 'good', 'person'], ['barber', 'huge', 'person'], ['knew', 'secret'], ['secret', 'kept', 'huge', 'secret'], ['huge', 'secret'], ['barber', 'kept', 'word'], ['barber', 'kept', 'word'], ['barber', 'kept', 'secret'], ['keeping', 'keeping', 'huge', 'secret', 'driving', 'barber', 'crazy'], ['barber', 'went', 'huge', 'mountain']]\n"
          ]
        }
      ]
    },
    {
      "cell_type": "code",
      "metadata": {
        "colab": {
          "base_uri": "https://localhost:8080/"
        },
        "id": "rlxvIGO3OTgJ",
        "outputId": "456df35d-276c-4990-f315-623177f68ba3"
      },
      "source": [
        "print(vocab) # 키(key) : 단어 / 값(value) : 빈도수"
      ],
      "execution_count": null,
      "outputs": [
        {
          "output_type": "stream",
          "name": "stdout",
          "text": [
            "{'barber': 8, 'person': 3, 'good': 1, 'huge': 5, 'knew': 1, 'secret': 6, 'kept': 4, 'word': 2, 'keeping': 2, 'driving': 1, 'crazy': 1, 'went': 1, 'mountain': 1}\n"
          ]
        }
      ]
    },
    {
      "cell_type": "code",
      "metadata": {
        "colab": {
          "base_uri": "https://localhost:8080/"
        },
        "id": "HU2JfXBWOoWf",
        "outputId": "35d8dad2-4175-4460-f000-39fcb18eb4ad"
      },
      "source": [
        "# 빈도수 높은 순서대로 정렬\n",
        "vocab_sorted = sorted(vocab.items(), key = lambda x:x[1], reverse = True)\n",
        "print(vocab_sorted)\n",
        "\n",
        "# 높은 빈도수를 가진 단어일수록 낮은 정수 인덱스를 부여\n",
        "word_to_index = {}\n",
        "i = 0\n",
        "for (word, frequency) in vocab_sorted :\n",
        "    if frequency > 1 : # Cleaning : 빈도수 제한\n",
        "        i = i + 1\n",
        "        word_to_index[word] = i\n",
        "\n",
        "print(word_to_index)"
      ],
      "execution_count": null,
      "outputs": [
        {
          "output_type": "stream",
          "name": "stdout",
          "text": [
            "[('barber', 8), ('secret', 6), ('huge', 5), ('kept', 4), ('person', 3), ('word', 2), ('keeping', 2), ('good', 1), ('knew', 1), ('driving', 1), ('crazy', 1), ('went', 1), ('mountain', 1)]\n",
            "{'barber': 1, 'secret': 2, 'huge': 3, 'kept': 4, 'person': 5, 'word': 6, 'keeping': 7}\n"
          ]
        }
      ]
    },
    {
      "cell_type": "markdown",
      "metadata": {
        "id": "g8hbfn2_S-SL"
      },
      "source": [
        "* sorted(..., key = ..., reverse = ...)\n",
        " * key : 정렬의 기준이 되는 값\n",
        " * reverse : True 시 내림차순, False 시 오름차순"
      ]
    },
    {
      "cell_type": "markdown",
      "metadata": {
        "id": "9aFKe-E1T8WV"
      },
      "source": [
        "자연어처리에서는 vocab의 단어를 전부 사용하는 것이 아니라 빈도수가 높은 n개의 단어만을 사용하고자 vocab_size를 정하고, 그 외 빈도수가 낮은 단어들은 OOV(Out of Vocabulary)로 취급하는 경우가 많음"
      ]
    },
    {
      "cell_type": "code",
      "metadata": {
        "colab": {
          "base_uri": "https://localhost:8080/"
        },
        "id": "MvI7MnzCT3x4",
        "outputId": "b5fbd7a6-46cc-4142-daa7-3ecf64951b05"
      },
      "source": [
        "# 단어 집합 크기 지정\n",
        "vocab_size = 5\n",
        "\n",
        "# vocab_size에 포함되지 않는 단어들\n",
        "words_frequency = [w for w, c in word_to_index.items() if c >= vocab_size + 1]\n",
        "\n",
        "# 해당 단어들에 대한 인덱스 정보를 삭제\n",
        "for w in words_frequency:\n",
        "    del word_to_index[w]\n",
        "\n",
        "print(word_to_index)\n",
        "\n",
        "# 단어 집합에 없는 단어들을 위한 'OOV' 인덱스 지정\n",
        "word_to_index['OOV'] = len(word_to_index) + 1\n",
        "\n",
        "print(word_to_index)"
      ],
      "execution_count": null,
      "outputs": [
        {
          "output_type": "stream",
          "name": "stdout",
          "text": [
            "{'barber': 1, 'secret': 2, 'huge': 3, 'kept': 4, 'person': 5}\n",
            "{'barber': 1, 'secret': 2, 'huge': 3, 'kept': 4, 'person': 5, 'OOV': 6}\n"
          ]
        }
      ]
    },
    {
      "cell_type": "markdown",
      "metadata": {
        "id": "mHK9UAU05cTz"
      },
      "source": [
        "정의한 word_to_index를 사용하여 sentences의 모든 단어들을 정수로 각각 인코딩함. 단어 집합에 없는 단어들은 'OOV' 인덱스로 인코딩함."
      ]
    },
    {
      "cell_type": "code",
      "metadata": {
        "colab": {
          "base_uri": "https://localhost:8080/"
        },
        "id": "m7T6ytDz5sHN",
        "outputId": "b4626a85-6bf7-4550-933b-47431028d952"
      },
      "source": [
        "# Integer Encoding\n",
        "\n",
        "encoded = []\n",
        "for s in sentences:\n",
        "    temp = []\n",
        "    for w in s:\n",
        "        try:\n",
        "            temp.append(word_to_index[w])\n",
        "        except KeyError:\n",
        "            temp.append(word_to_index['OOV'])\n",
        "    encoded.append(temp)\n",
        "print(encoded)"
      ],
      "execution_count": null,
      "outputs": [
        {
          "output_type": "stream",
          "name": "stdout",
          "text": [
            "[[1, 5], [1, 6, 5], [1, 3, 5], [6, 2], [2, 4, 3, 2], [3, 2], [1, 4, 6], [1, 4, 6], [1, 4, 2], [6, 6, 3, 2, 6, 1, 6], [1, 6, 3, 6]]\n"
          ]
        }
      ]
    },
    {
      "cell_type": "markdown",
      "metadata": {
        "id": "CL0uHHqU7Ies"
      },
      "source": [
        "## 5.2 Counter()"
      ]
    },
    {
      "cell_type": "code",
      "metadata": {
        "id": "II4JaGvG7LWT"
      },
      "source": [
        "from collections import Counter"
      ],
      "execution_count": null,
      "outputs": []
    },
    {
      "cell_type": "code",
      "metadata": {
        "colab": {
          "base_uri": "https://localhost:8080/"
        },
        "id": "CFkW-9pn7TqK",
        "outputId": "191ff4a3-42b0-4bd9-c632-ce686eefad5f"
      },
      "source": [
        "print(sentences)"
      ],
      "execution_count": null,
      "outputs": [
        {
          "output_type": "stream",
          "name": "stdout",
          "text": [
            "[['barber', 'person'], ['barber', 'good', 'person'], ['barber', 'huge', 'person'], ['knew', 'secret'], ['secret', 'kept', 'huge', 'secret'], ['huge', 'secret'], ['barber', 'kept', 'word'], ['barber', 'kept', 'word'], ['barber', 'kept', 'secret'], ['keeping', 'keeping', 'huge', 'secret', 'driving', 'barber', 'crazy'], ['barber', 'went', 'huge', 'mountain']]\n"
          ]
        }
      ]
    },
    {
      "cell_type": "code",
      "metadata": {
        "colab": {
          "base_uri": "https://localhost:8080/"
        },
        "id": "Y1M2x7_F9B4z",
        "outputId": "2dd8eeb6-1a5f-45f6-d191-24e4b729728b"
      },
      "source": [
        "# 단어 리스트 생성\n",
        "words = sum(sentences, []) # words = np.hstack(sentences)\n",
        "print(words)"
      ],
      "execution_count": null,
      "outputs": [
        {
          "output_type": "stream",
          "name": "stdout",
          "text": [
            "['barber', 'person', 'barber', 'good', 'person', 'barber', 'huge', 'person', 'knew', 'secret', 'secret', 'kept', 'huge', 'secret', 'huge', 'secret', 'barber', 'kept', 'word', 'barber', 'kept', 'word', 'barber', 'kept', 'secret', 'keeping', 'keeping', 'huge', 'secret', 'driving', 'barber', 'crazy', 'barber', 'went', 'huge', 'mountain']\n"
          ]
        }
      ]
    },
    {
      "cell_type": "markdown",
      "metadata": {
        "id": "RQ0g9sBs-LVj"
      },
      "source": [
        "* sum : 두번째 인자를 기준으로 첫번째 인자의 iterable한 object들을 순서대로 더함\n",
        " * 위 상황을 예로 들면,\n",
        " 1. [  ] + ['barber', 'person']\n",
        " 2. \\+ ['barber', 'good', 'person']\n",
        " 3. \\+ ['barber', 'huge', 'person']\n",
        "\n",
        "   ..."
      ]
    },
    {
      "cell_type": "markdown",
      "metadata": {
        "id": "P1qXBKDOAZJr"
      },
      "source": [
        "Counter()를 사용하여 단어집합(vocab) 생성"
      ]
    },
    {
      "cell_type": "code",
      "metadata": {
        "colab": {
          "base_uri": "https://localhost:8080/"
        },
        "id": "0SuFbXph_jFb",
        "outputId": "6f2ca4aa-6bd8-438f-b92a-0ab5141c3558"
      },
      "source": [
        "# Counter : 단어 중복 제거 및 빈도수 기록\n",
        "vocab = Counter(words) \n",
        "print(vocab)"
      ],
      "execution_count": null,
      "outputs": [
        {
          "output_type": "stream",
          "name": "stdout",
          "text": [
            "Counter({'barber': 8, 'secret': 6, 'huge': 5, 'kept': 4, 'person': 3, 'word': 2, 'keeping': 2, 'good': 1, 'knew': 1, 'driving': 1, 'crazy': 1, 'went': 1, 'mountain': 1})\n"
          ]
        }
      ]
    },
    {
      "cell_type": "code",
      "metadata": {
        "colab": {
          "base_uri": "https://localhost:8080/"
        },
        "id": "V0z35UliAgfa",
        "outputId": "b4024d95-0c92-4ca3-da4d-0b1c9e11e470"
      },
      "source": [
        "# 단어 집합 크기 설정\n",
        "vocab_size = 5\n",
        "\n",
        "# 등장 빈도수가 높은 상위 5개의 단어만 저장\n",
        "vocab = vocab.most_common(vocab_size)\n",
        "print(vocab)"
      ],
      "execution_count": null,
      "outputs": [
        {
          "output_type": "stream",
          "name": "stdout",
          "text": [
            "[('barber', 8), ('secret', 6), ('huge', 5), ('kept', 4), ('person', 3)]\n"
          ]
        }
      ]
    },
    {
      "cell_type": "code",
      "metadata": {
        "colab": {
          "base_uri": "https://localhost:8080/"
        },
        "id": "6bPbvBsjAtZT",
        "outputId": "286a64e3-1fdc-402c-b48d-6a303c32bcd4"
      },
      "source": [
        "# 높은 빈도수를 가진 단어일수록 낮은 정수 인덱스 부여\n",
        "word_to_index = {}\n",
        "i = 0\n",
        "\n",
        "for (word, frequency) in vocab :\n",
        "    i = i + 1\n",
        "    word_to_index[word] = i\n",
        "\n",
        "print(word_to_index)"
      ],
      "execution_count": null,
      "outputs": [
        {
          "output_type": "stream",
          "name": "stdout",
          "text": [
            "{'barber': 1, 'secret': 2, 'huge': 3, 'kept': 4, 'person': 5}\n"
          ]
        }
      ]
    },
    {
      "cell_type": "markdown",
      "metadata": {
        "id": "qprsjLHLA8we"
      },
      "source": [
        "## 5.3 nltk.FreqDist()"
      ]
    },
    {
      "cell_type": "markdown",
      "metadata": {
        "id": "ZDpio_3-CXej"
      },
      "source": [
        "* Counter()와 같은 기능"
      ]
    },
    {
      "cell_type": "code",
      "metadata": {
        "id": "co2FqUtZA8ie"
      },
      "source": [
        "from nltk import FreqDist\n",
        "import numpy as np"
      ],
      "execution_count": null,
      "outputs": []
    },
    {
      "cell_type": "code",
      "metadata": {
        "colab": {
          "base_uri": "https://localhost:8080/"
        },
        "id": "AI0bIXfeBKjy",
        "outputId": "9231af47-13db-4eb3-b978-8c096e29f638"
      },
      "source": [
        "# 단어 집합 생성\n",
        "vocab = FreqDist(np.hstack(sentences))\n",
        "vocab"
      ],
      "execution_count": null,
      "outputs": [
        {
          "output_type": "execute_result",
          "data": {
            "text/plain": [
              "FreqDist({'barber': 8,\n",
              "          'crazy': 1,\n",
              "          'driving': 1,\n",
              "          'good': 1,\n",
              "          'huge': 5,\n",
              "          'keeping': 2,\n",
              "          'kept': 4,\n",
              "          'knew': 1,\n",
              "          'mountain': 1,\n",
              "          'person': 3,\n",
              "          'secret': 6,\n",
              "          'went': 1,\n",
              "          'word': 2})"
            ]
          },
          "metadata": {},
          "execution_count": 32
        }
      ]
    },
    {
      "cell_type": "code",
      "metadata": {
        "colab": {
          "base_uri": "https://localhost:8080/"
        },
        "id": "peHGH_ziCdP-",
        "outputId": "7a5c4057-1270-4418-9e54-b7a229766ac5"
      },
      "source": [
        "# 단어 집합 크기 설정\n",
        "vocab_size = 5\n",
        "vocab = vocab.most_common(vocab_size)\n",
        "vocab"
      ],
      "execution_count": null,
      "outputs": [
        {
          "output_type": "execute_result",
          "data": {
            "text/plain": [
              "[('barber', 8), ('secret', 6), ('huge', 5), ('kept', 4), ('person', 3)]"
            ]
          },
          "metadata": {},
          "execution_count": 33
        }
      ]
    },
    {
      "cell_type": "code",
      "metadata": {
        "colab": {
          "base_uri": "https://localhost:8080/"
        },
        "id": "ikdGB-qaCwLG",
        "outputId": "f4c39fc5-6e4c-4f63-f2b8-9150b586e015"
      },
      "source": [
        "# 높은 빈도수를 가진 단어일수록 낮은 정수 인덱스 부여\n",
        "word_to_index = {word[0] : index + 1 for index, word in enumerate(vocab)}\n",
        "print(word_to_index)"
      ],
      "execution_count": null,
      "outputs": [
        {
          "output_type": "stream",
          "name": "stdout",
          "text": [
            "{'barber': 1, 'secret': 2, 'huge': 3, 'kept': 4, 'person': 5}\n"
          ]
        }
      ]
    },
    {
      "cell_type": "markdown",
      "metadata": {
        "id": "PYGStyvdC7Qu"
      },
      "source": [
        "## 5.4 keras.preprocessing"
      ]
    },
    {
      "cell_type": "markdown",
      "metadata": {
        "id": "MCcFHd2kD3Ou"
      },
      "source": [
        "정수 인코딩을 위해 케라스의 전처리 도구 사용"
      ]
    },
    {
      "cell_type": "code",
      "metadata": {
        "id": "UmRJd_8vC-PN"
      },
      "source": [
        "from tensorflow.keras.preprocessing.text import Tokenizer"
      ],
      "execution_count": null,
      "outputs": []
    },
    {
      "cell_type": "markdown",
      "metadata": {
        "id": "ePXkvYBQEEs7"
      },
      "source": [
        "fit_on_texts()에 코퍼스를 입력으로 주면 코퍼스 내부의 각 단어들의 빈도수를 기준으로 단어 집합을 생성함"
      ]
    },
    {
      "cell_type": "code",
      "metadata": {
        "colab": {
          "base_uri": "https://localhost:8080/"
        },
        "id": "Yt-60ChND2Oq",
        "outputId": "54ab846f-2086-4d19-eb86-8fa4ad9c096b"
      },
      "source": [
        "tokenizer = Tokenizer()\n",
        "tokenizer.fit_on_texts(sentences)\n",
        "\n",
        "print(tokenizer.word_index) # 각 단어에 부여된 인덱스 확인\n",
        "print(tokenizer.word_counts) # 각 단어의 빈도수 확인"
      ],
      "execution_count": null,
      "outputs": [
        {
          "output_type": "stream",
          "name": "stdout",
          "text": [
            "{'barber': 1, 'secret': 2, 'huge': 3, 'kept': 4, 'person': 5, 'word': 6, 'keeping': 7, 'good': 8, 'knew': 9, 'driving': 10, 'crazy': 11, 'went': 12, 'mountain': 13}\n",
            "OrderedDict([('barber', 8), ('person', 3), ('good', 1), ('huge', 5), ('knew', 1), ('secret', 6), ('kept', 4), ('word', 2), ('keeping', 2), ('driving', 1), ('crazy', 1), ('went', 1), ('mountain', 1)])\n"
          ]
        }
      ]
    },
    {
      "cell_type": "code",
      "metadata": {
        "colab": {
          "base_uri": "https://localhost:8080/"
        },
        "id": "cTTLtojKEj-L",
        "outputId": "c3b7717b-6b2d-4f7e-be42-b46c12deded4"
      },
      "source": [
        "# word_index를 사용하여 sentences의 단어들 정수 인코딩\n",
        "print(tokenizer.texts_to_sequences(sentences))"
      ],
      "execution_count": null,
      "outputs": [
        {
          "output_type": "stream",
          "name": "stdout",
          "text": [
            "[[1, 5], [1, 8, 5], [1, 3, 5], [9, 2], [2, 4, 3, 2], [3, 2], [1, 4, 6], [1, 4, 6], [1, 4, 2], [7, 7, 3, 2, 10, 1, 11], [1, 12, 3, 13]]\n"
          ]
        }
      ]
    },
    {
      "cell_type": "markdown",
      "metadata": {
        "id": "JQfoJIeYF7Kt"
      },
      "source": [
        "빈도수가 높은 상위 n개의 단어만 사용하여 단어 집합을 생성한 뒤 정수 인코딩 진행"
      ]
    },
    {
      "cell_type": "code",
      "metadata": {
        "id": "lT8OSCjPPYHa"
      },
      "source": [
        "vocab_size = 5\n",
        "\n",
        "tokenizer = Tokenizer(num_words = vocab_size + 1) # 상위 5개 단어만 사용\n",
        "tokenizer.fit_on_texts(sentences)"
      ],
      "execution_count": null,
      "outputs": []
    },
    {
      "cell_type": "markdown",
      "metadata": {
        "id": "dMfMlOy5QEor"
      },
      "source": [
        "* num_words 인자가 vocab_size 이 아닌 vocab_size + 1 인 이유는, num_words는 숫자를 0부터 카운트하기 때문.\n",
        "\n",
        "* word_index에 실질적으로 숫자 0에 해당하는 단어가 존재하지 않음에도 tokenizer가 숫자 0까지 단어 집합의 크기로 산정하는 이유는 패딩(padding) 토큰에 해당하는 인덱스를 0으로 두기 때문."
      ]
    },
    {
      "cell_type": "code",
      "metadata": {
        "colab": {
          "base_uri": "https://localhost:8080/"
        },
        "id": "mS1NKYjwRSTQ",
        "outputId": "d1f10657-7c46-4491-d5c7-15aa00e21359"
      },
      "source": [
        "# num_words 적용은 text_to_sequences를 사용할 때만 적용\n",
        "\n",
        "print(tokenizer.word_index)\n",
        "print(tokenizer.word_counts)\n",
        "print(tokenizer.texts_to_sequences(sentences))"
      ],
      "execution_count": null,
      "outputs": [
        {
          "output_type": "stream",
          "name": "stdout",
          "text": [
            "{'barber': 1, 'secret': 2, 'huge': 3, 'kept': 4, 'person': 5, 'word': 6, 'keeping': 7, 'good': 8, 'knew': 9, 'driving': 10, 'crazy': 11, 'went': 12, 'mountain': 13}\n",
            "OrderedDict([('barber', 8), ('person', 3), ('good', 1), ('huge', 5), ('knew', 1), ('secret', 6), ('kept', 4), ('word', 2), ('keeping', 2), ('driving', 1), ('crazy', 1), ('went', 1), ('mountain', 1)])\n",
            "[[1, 5], [1, 5], [1, 3, 5], [2], [2, 4, 3, 2], [3, 2], [1, 4], [1, 4], [1, 4, 2], [3, 2, 1], [1, 3]]\n"
          ]
        }
      ]
    },
    {
      "cell_type": "markdown",
      "metadata": {
        "id": "6gEf0RG0SJMS"
      },
      "source": [
        "위의 경우, 단어집합에 없는 단어인 OOV에 대해서 아예 인코딩을 진행하지 않고 출력 결과에서 해당 단어를 제거해 버렸음.\n",
        "\n",
        "이 단어들을 OOV로 간주하여 보존하고 싶다면 Tokenizer의 인자 oov_token을 사용하면 됨."
      ]
    },
    {
      "cell_type": "code",
      "metadata": {
        "id": "R3u9pqa7TWY7"
      },
      "source": [
        "vocab_size = 5\n",
        "\n",
        "tokenizer = Tokenizer(num_words = vocab_size + 2, oov_token = 'OOV') # 빈도수 상위 5개 단어만 사용\n",
        "tokenizer.fit_on_texts(sentences)"
      ],
      "execution_count": null,
      "outputs": []
    },
    {
      "cell_type": "markdown",
      "metadata": {
        "id": "VftA3d0LTj8P"
      },
      "source": [
        "* 패딩 토큰과 OOV 토큰을 고려하여 num_words 인자는 vocab_size + 2"
      ]
    },
    {
      "cell_type": "code",
      "metadata": {
        "colab": {
          "base_uri": "https://localhost:8080/"
        },
        "id": "_qP4goEKTuYj",
        "outputId": "020e4f80-af8a-4906-abc7-bb46b13c2493"
      },
      "source": [
        "# word_index에 'OOV' 토큰이 정수 1로 맵핑되어 저장되어 있음 \n",
        "\n",
        "print(tokenizer.word_index)\n",
        "print(tokenizer.word_counts)\n",
        "print(tokenizer.texts_to_sequences(sentences))"
      ],
      "execution_count": null,
      "outputs": [
        {
          "output_type": "stream",
          "name": "stdout",
          "text": [
            "{'OOV': 1, 'barber': 2, 'secret': 3, 'huge': 4, 'kept': 5, 'person': 6, 'word': 7, 'keeping': 8, 'good': 9, 'knew': 10, 'driving': 11, 'crazy': 12, 'went': 13, 'mountain': 14}\n",
            "OrderedDict([('barber', 8), ('person', 3), ('good', 1), ('huge', 5), ('knew', 1), ('secret', 6), ('kept', 4), ('word', 2), ('keeping', 2), ('driving', 1), ('crazy', 1), ('went', 1), ('mountain', 1)])\n",
            "[[2, 6], [2, 1, 6], [2, 4, 6], [1, 3], [3, 5, 4, 3], [4, 3], [2, 5, 1], [2, 5, 1], [2, 5, 3], [1, 1, 4, 3, 1, 2, 1], [2, 1, 4, 1]]\n"
          ]
        }
      ]
    },
    {
      "cell_type": "markdown",
      "metadata": {
        "id": "cXQzLMElHnSC"
      },
      "source": [
        "# 6) Padding"
      ]
    },
    {
      "cell_type": "markdown",
      "metadata": {
        "id": "gpktnQwwKHcL"
      },
      "source": [
        "* 자연어처리의 병렬 연산을 위해서 길이가 다른 여러 문장의 길이를 임의로 동일하게 맞춰주는 작업\n",
        "* 케라스 전처리를 통해 얻은 단어집합에서 패딩 토큰의 인덱스의 기본값은 0"
      ]
    },
    {
      "cell_type": "code",
      "metadata": {
        "id": "-YuIuk-UHop6"
      },
      "source": [
        "# keras\n",
        "from tensorflow.keras.preprocessing.text import Tokenizer\n",
        "from tensorflow.keras.preprocessing.sequence import pad_sequences"
      ],
      "execution_count": null,
      "outputs": []
    },
    {
      "cell_type": "code",
      "metadata": {
        "id": "uJ0JFpv1Kvd3"
      },
      "source": [
        "sentences = [['barber', 'person'], ['barber', 'good', 'person'], ['barber', 'huge', 'person'], ['knew', 'secret'], \n",
        "             ['secret', 'kept', 'huge', 'secret'], ['huge', 'secret'], ['barber', 'kept', 'word'], \n",
        "             ['barber', 'kept', 'word'], ['barber', 'kept', 'secret'], \n",
        "             ['keeping', 'keeping', 'huge', 'secret', 'driving', 'barber', 'crazy'], ['barber', 'went', 'huge', 'mountain']]"
      ],
      "execution_count": null,
      "outputs": []
    },
    {
      "cell_type": "code",
      "metadata": {
        "colab": {
          "base_uri": "https://localhost:8080/"
        },
        "id": "GHinEkeDK0q-",
        "outputId": "b4678789-fc17-44f2-b541-1feb6b6dcc19"
      },
      "source": [
        "# Integer Encoding\n",
        "tokenizer = Tokenizer()\n",
        "tokenizer.fit_on_texts(sentences) # 빈도수를 기준으로 단어 집합 생성\n",
        "encoded = tokenizer.texts_to_sequences(sentences) # 정수 인코딩\n",
        "print(encoded)"
      ],
      "execution_count": null,
      "outputs": [
        {
          "output_type": "stream",
          "name": "stdout",
          "text": [
            "[[1, 5], [1, 8, 5], [1, 3, 5], [9, 2], [2, 4, 3, 2], [3, 2], [1, 4, 6], [1, 4, 6], [1, 4, 2], [7, 7, 3, 2, 10, 1, 11], [1, 12, 3, 13]]\n"
          ]
        }
      ]
    },
    {
      "cell_type": "code",
      "metadata": {
        "colab": {
          "base_uri": "https://localhost:8080/"
        },
        "id": "dTtwI6wDLOTE",
        "outputId": "73fd5cf0-31fc-4657-83e8-67c7180298f8"
      },
      "source": [
        "# padding\n",
        "padded = pad_sequences(encoded)\n",
        "print(padded)"
      ],
      "execution_count": null,
      "outputs": [
        {
          "output_type": "stream",
          "name": "stdout",
          "text": [
            "[[ 0  0  0  0  0  1  5]\n",
            " [ 0  0  0  0  1  8  5]\n",
            " [ 0  0  0  0  1  3  5]\n",
            " [ 0  0  0  0  0  9  2]\n",
            " [ 0  0  0  2  4  3  2]\n",
            " [ 0  0  0  0  0  3  2]\n",
            " [ 0  0  0  0  1  4  6]\n",
            " [ 0  0  0  0  1  4  6]\n",
            " [ 0  0  0  0  1  4  2]\n",
            " [ 7  7  3  2 10  1 11]\n",
            " [ 0  0  0  1 12  3 13]]\n"
          ]
        }
      ]
    },
    {
      "cell_type": "markdown",
      "metadata": {
        "id": "1zFdxAT5MQGF"
      },
      "source": [
        "문장의 앞이 아닌 뒷부분을 패딩으로 채우고 싶다면 padding 인자를 post로 지정하면 됨"
      ]
    },
    {
      "cell_type": "code",
      "metadata": {
        "colab": {
          "base_uri": "https://localhost:8080/"
        },
        "id": "NALze0WXL4p3",
        "outputId": "7ea09ad3-3078-49a8-9410-93451ea62dc7"
      },
      "source": [
        "# padding : 문장 후반부에 패딩\n",
        "padded = pad_sequences(encoded, padding = 'post')\n",
        "print(padded)"
      ],
      "execution_count": null,
      "outputs": [
        {
          "output_type": "stream",
          "name": "stdout",
          "text": [
            "[[ 1  5  0  0  0  0  0]\n",
            " [ 1  8  5  0  0  0  0]\n",
            " [ 1  3  5  0  0  0  0]\n",
            " [ 9  2  0  0  0  0  0]\n",
            " [ 2  4  3  2  0  0  0]\n",
            " [ 3  2  0  0  0  0  0]\n",
            " [ 1  4  6  0  0  0  0]\n",
            " [ 1  4  6  0  0  0  0]\n",
            " [ 1  4  2  0  0  0  0]\n",
            " [ 7  7  3  2 10  1 11]\n",
            " [ 1 12  3 13  0  0  0]]\n"
          ]
        }
      ]
    },
    {
      "cell_type": "markdown",
      "metadata": {
        "id": "ZXqEqhM0MdhA"
      },
      "source": [
        "동일하게 맞추는 문장의 길이를 가장 긴 문장의 길이가 아닌 특정 길이로 max_len 인자를 통해 지정할 수 있음\n",
        " * 단, 문장 길이가 지정된 길이보다 긴 경우 해당 문장은 지정 길이 이상의 토큰에 대해서는 데이터가 손실됨 "
      ]
    },
    {
      "cell_type": "code",
      "metadata": {
        "colab": {
          "base_uri": "https://localhost:8080/"
        },
        "id": "eGucQTNjMMOB",
        "outputId": "7c5ce88e-a3fe-459a-a41c-7408c89f8c5c"
      },
      "source": [
        "padded = pad_sequences(encoded, padding = 'post', maxlen = 5)\n",
        "print(padded)"
      ],
      "execution_count": null,
      "outputs": [
        {
          "output_type": "stream",
          "name": "stdout",
          "text": [
            "[[ 1  5  0  0  0]\n",
            " [ 1  8  5  0  0]\n",
            " [ 1  3  5  0  0]\n",
            " [ 9  2  0  0  0]\n",
            " [ 2  4  3  2  0]\n",
            " [ 3  2  0  0  0]\n",
            " [ 1  4  6  0  0]\n",
            " [ 1  4  6  0  0]\n",
            " [ 1  4  2  0  0]\n",
            " [ 3  2 10  1 11]\n",
            " [ 1 12  3 13  0]]\n"
          ]
        }
      ]
    },
    {
      "cell_type": "markdown",
      "metadata": {
        "id": "qoe-JRd5NKAk"
      },
      "source": [
        "value 인자를 지정하면 0이 아닌 다른 숫자로 패딩을 할 수도 있음 "
      ]
    },
    {
      "cell_type": "code",
      "metadata": {
        "colab": {
          "base_uri": "https://localhost:8080/"
        },
        "id": "-7y2-80TNJ0l",
        "outputId": "9f9ecb6a-35cc-46bd-e664-41852d9110f0"
      },
      "source": [
        "last_value = len(tokenizer.word_index) + 1 # 단어 집합의 크기보다 1 큰 숫자를 사용\n",
        "\n",
        "padded = pad_sequences(encoded, padding = 'post', value = last_value)\n",
        "print(padded)"
      ],
      "execution_count": null,
      "outputs": [
        {
          "output_type": "stream",
          "name": "stdout",
          "text": [
            "[[ 1  5 14 14 14 14 14]\n",
            " [ 1  8  5 14 14 14 14]\n",
            " [ 1  3  5 14 14 14 14]\n",
            " [ 9  2 14 14 14 14 14]\n",
            " [ 2  4  3  2 14 14 14]\n",
            " [ 3  2 14 14 14 14 14]\n",
            " [ 1  4  6 14 14 14 14]\n",
            " [ 1  4  6 14 14 14 14]\n",
            " [ 1  4  2 14 14 14 14]\n",
            " [ 7  7  3  2 10  1 11]\n",
            " [ 1 12  3 13 14 14 14]]\n"
          ]
        }
      ]
    },
    {
      "cell_type": "markdown",
      "metadata": {
        "id": "WZNQieRLHpSE"
      },
      "source": [
        "# 7) One-hot encoding"
      ]
    },
    {
      "cell_type": "markdown",
      "metadata": {
        "id": "CWs25SZ2O1mx"
      },
      "source": [
        "단어 집합의 크기를 벡터의 차원으로 하고, 표현하고 싶은 단어의 인덱스에 1의 값을 부여하고, 다른 인덱스에는 0을 부여하는 단어 벡터 표현 방식"
      ]
    },
    {
      "cell_type": "code",
      "metadata": {
        "id": "IdjdHaKQHrGM"
      },
      "source": [
        "# keras\n",
        "from tensorflow.keras.preprocessing.text import Tokenizer\n",
        "from tensorflow.keras.utils import to_categorical\n",
        "\n",
        "text = \"나랑 점심 먹으러 갈래 점심 메뉴는 햄버거 갈래 갈래 햄버거 최고야\"\n",
        "\n",
        "t = Tokenizer()\n",
        "t.fit_on_texts([text]) # 빈도수를 기준으로 단어 집합 생성"
      ],
      "execution_count": null,
      "outputs": []
    },
    {
      "cell_type": "code",
      "metadata": {
        "colab": {
          "base_uri": "https://localhost:8080/"
        },
        "id": "u1VdG7vzPumR",
        "outputId": "f0fd3a7f-c6cd-478a-e49a-1dbf8bf7343f"
      },
      "source": [
        "# 단어 집합에 속한 단어들로만 구성된 텍스트\n",
        "sub_text = \"점심 먹으러 갈래 메뉴는 햄버거 최고야\"\n",
        "\n",
        "encoded = t.texts_to_sequences([sub_text])[0] # 정수 인코딩\n",
        "print(encoded)"
      ],
      "execution_count": null,
      "outputs": [
        {
          "output_type": "stream",
          "name": "stdout",
          "text": [
            "[2, 5, 1, 6, 3, 7]\n"
          ]
        }
      ]
    },
    {
      "cell_type": "code",
      "metadata": {
        "colab": {
          "base_uri": "https://localhost:8080/"
        },
        "id": "6rjwCv2qPxLT",
        "outputId": "c9e1a66c-91df-45d5-f952-28452642b4b3"
      },
      "source": [
        "# one-hot encoding\n",
        "one_hot = to_categorical(encoded)\n",
        "print(one_hot)"
      ],
      "execution_count": null,
      "outputs": [
        {
          "output_type": "stream",
          "name": "stdout",
          "text": [
            "[[0. 0. 1. 0. 0. 0. 0. 0.]\n",
            " [0. 0. 0. 0. 0. 1. 0. 0.]\n",
            " [0. 1. 0. 0. 0. 0. 0. 0.]\n",
            " [0. 0. 0. 0. 0. 0. 1. 0.]\n",
            " [0. 0. 0. 1. 0. 0. 0. 0.]\n",
            " [0. 0. 0. 0. 0. 0. 0. 1.]]\n"
          ]
        }
      ]
    },
    {
      "cell_type": "markdown",
      "metadata": {
        "id": "eklvk6mjHwD9"
      },
      "source": [
        "# 8) Spliting Data"
      ]
    },
    {
      "cell_type": "markdown",
      "metadata": {
        "id": "BJOhGj9IQxNL"
      },
      "source": [
        "머신러닝을 위한, 그중에서도 지도 학습을 위한 데이터 분리 학습"
      ]
    },
    {
      "cell_type": "markdown",
      "metadata": {
        "id": "easeaBAIQ86O"
      },
      "source": [
        "## 8.1 Spliting X - Y"
      ]
    },
    {
      "cell_type": "markdown",
      "metadata": {
        "id": "xJEDFRuKROy3"
      },
      "source": [
        "문제에 해당하는 X 데이터(주로 텍스트)와 정답 레이블에 해당하는 Y 데이터 분리"
      ]
    },
    {
      "cell_type": "markdown",
      "metadata": {
        "id": "yTNOccfMTk1b"
      },
      "source": [
        "* zip()"
      ]
    },
    {
      "cell_type": "code",
      "metadata": {
        "id": "uYMq7QKiHycW",
        "colab": {
          "base_uri": "https://localhost:8080/"
        },
        "outputId": "27f439a3-c3db-4b57-e9cf-c9d13cfb23d6"
      },
      "source": [
        "# zip()\n",
        "X,y = zip(['a', 1], ['b', 2], ['c', 3])\n",
        "print(X)\n",
        "print(y)"
      ],
      "execution_count": null,
      "outputs": [
        {
          "output_type": "stream",
          "name": "stdout",
          "text": [
            "('a', 'b', 'c')\n",
            "(1, 2, 3)\n"
          ]
        }
      ]
    },
    {
      "cell_type": "code",
      "metadata": {
        "colab": {
          "base_uri": "https://localhost:8080/"
        },
        "id": "YQq6vVfGSejR",
        "outputId": "879ae70f-218e-4d19-fbaf-72d68aeafbb8"
      },
      "source": [
        "# 데이터가 2D 텐서 형태인 경우\n",
        "sequences=[['a', 1], ['b', 2], ['c', 3]]\n",
        "X,y = zip(*sequences) # * -> 리스트의 원소를 개별 입력인자로 zip() 함수에 넘겨주는 역할\n",
        "print(X)\n",
        "print(y)"
      ],
      "execution_count": null,
      "outputs": [
        {
          "output_type": "stream",
          "name": "stdout",
          "text": [
            "('a', 'b', 'c')\n",
            "(1, 2, 3)\n"
          ]
        }
      ]
    },
    {
      "cell_type": "markdown",
      "metadata": {
        "id": "0UrkOQ4oTR7X"
      },
      "source": [
        "```python\n",
        "X,y = zip(sequences)\n",
        "\n",
        ">>> \n",
        "ValueError: too many values to unpack (expected 2)\n",
        "```"
      ]
    },
    {
      "cell_type": "markdown",
      "metadata": {
        "id": "-Mncc9zFTmrY"
      },
      "source": [
        "* DataFrame"
      ]
    },
    {
      "cell_type": "code",
      "metadata": {
        "colab": {
          "base_uri": "https://localhost:8080/",
          "height": 173
        },
        "id": "i_vGNSj1ThyM",
        "outputId": "ea44e25f-d8d1-4c39-daf8-f658ba8a1dec"
      },
      "source": [
        "# DataFrame\n",
        "import pandas as pd\n",
        "\n",
        "values = [['당신에게 드리는 마지막 혜택!', 1],\n",
        "          ['내일 뵐 수 있을지 확인 부탁드...', 0],\n",
        "          ['도연씨. 잘 지내시죠? 오랜만입...', 0],\n",
        "          ['(광고) AI로 주가를 예측할 수 있다!', 1]]\n",
        "\n",
        "columns = ['메일 본문', '스팸 메일 유무']\n",
        "\n",
        "df = pd.DataFrame(values, columns=columns)\n",
        "df"
      ],
      "execution_count": null,
      "outputs": [
        {
          "output_type": "execute_result",
          "data": {
            "text/html": [
              "<div>\n",
              "<style scoped>\n",
              "    .dataframe tbody tr th:only-of-type {\n",
              "        vertical-align: middle;\n",
              "    }\n",
              "\n",
              "    .dataframe tbody tr th {\n",
              "        vertical-align: top;\n",
              "    }\n",
              "\n",
              "    .dataframe thead th {\n",
              "        text-align: right;\n",
              "    }\n",
              "</style>\n",
              "<table border=\"1\" class=\"dataframe\">\n",
              "  <thead>\n",
              "    <tr style=\"text-align: right;\">\n",
              "      <th></th>\n",
              "      <th>메일 본문</th>\n",
              "      <th>스팸 메일 유무</th>\n",
              "    </tr>\n",
              "  </thead>\n",
              "  <tbody>\n",
              "    <tr>\n",
              "      <th>0</th>\n",
              "      <td>당신에게 드리는 마지막 혜택!</td>\n",
              "      <td>1</td>\n",
              "    </tr>\n",
              "    <tr>\n",
              "      <th>1</th>\n",
              "      <td>내일 뵐 수 있을지 확인 부탁드...</td>\n",
              "      <td>0</td>\n",
              "    </tr>\n",
              "    <tr>\n",
              "      <th>2</th>\n",
              "      <td>도연씨. 잘 지내시죠? 오랜만입...</td>\n",
              "      <td>0</td>\n",
              "    </tr>\n",
              "    <tr>\n",
              "      <th>3</th>\n",
              "      <td>(광고) AI로 주가를 예측할 수 있다!</td>\n",
              "      <td>1</td>\n",
              "    </tr>\n",
              "  </tbody>\n",
              "</table>\n",
              "</div>"
            ],
            "text/plain": [
              "                    메일 본문  스팸 메일 유무\n",
              "0        당신에게 드리는 마지막 혜택!         1\n",
              "1    내일 뵐 수 있을지 확인 부탁드...         0\n",
              "2    도연씨. 잘 지내시죠? 오랜만입...         0\n",
              "3  (광고) AI로 주가를 예측할 수 있다!         1"
            ]
          },
          "metadata": {},
          "execution_count": 18
        }
      ]
    },
    {
      "cell_type": "code",
      "metadata": {
        "id": "ZPSu-7fHT3U6"
      },
      "source": [
        "X = df['메일 본문']\n",
        "y = df['스팸 메일 유무']"
      ],
      "execution_count": null,
      "outputs": []
    },
    {
      "cell_type": "code",
      "metadata": {
        "colab": {
          "base_uri": "https://localhost:8080/"
        },
        "id": "SXBi_2aeT6xE",
        "outputId": "cca4a1a3-d11d-4098-cb68-a6c6482c8b7d"
      },
      "source": [
        "print(X)"
      ],
      "execution_count": null,
      "outputs": [
        {
          "output_type": "stream",
          "name": "stdout",
          "text": [
            "0          당신에게 드리는 마지막 혜택!\n",
            "1      내일 뵐 수 있을지 확인 부탁드...\n",
            "2      도연씨. 잘 지내시죠? 오랜만입...\n",
            "3    (광고) AI로 주가를 예측할 수 있다!\n",
            "Name: 메일 본문, dtype: object\n"
          ]
        }
      ]
    },
    {
      "cell_type": "code",
      "metadata": {
        "colab": {
          "base_uri": "https://localhost:8080/"
        },
        "id": "vWHEvqWdT70y",
        "outputId": "226cc991-690d-48cf-e2d1-1746aa085033"
      },
      "source": [
        "print(y)"
      ],
      "execution_count": null,
      "outputs": [
        {
          "output_type": "stream",
          "name": "stdout",
          "text": [
            "0    1\n",
            "1    0\n",
            "2    0\n",
            "3    1\n",
            "Name: 스팸 메일 유무, dtype: int64\n"
          ]
        }
      ]
    },
    {
      "cell_type": "markdown",
      "metadata": {
        "id": "msF9vPwPUAEa"
      },
      "source": [
        "* Numpy"
      ]
    },
    {
      "cell_type": "code",
      "metadata": {
        "colab": {
          "base_uri": "https://localhost:8080/"
        },
        "id": "Got6ApfcUBMp",
        "outputId": "5153649b-3266-4857-d0c8-fe1bed1fb150"
      },
      "source": [
        "import numpy as np\n",
        "\n",
        "ar = np.arange(0,16).reshape((4,4))\n",
        "print(ar)"
      ],
      "execution_count": null,
      "outputs": [
        {
          "output_type": "stream",
          "name": "stdout",
          "text": [
            "[[ 0  1  2  3]\n",
            " [ 4  5  6  7]\n",
            " [ 8  9 10 11]\n",
            " [12 13 14 15]]\n"
          ]
        }
      ]
    },
    {
      "cell_type": "code",
      "metadata": {
        "colab": {
          "base_uri": "https://localhost:8080/"
        },
        "id": "Eu2Apuf1UFQI",
        "outputId": "efc8f499-a2de-4e4a-f63e-87c1ea22e17d"
      },
      "source": [
        "X = ar[:, :3]\n",
        "print(X)"
      ],
      "execution_count": null,
      "outputs": [
        {
          "output_type": "stream",
          "name": "stdout",
          "text": [
            "[[ 0  1  2]\n",
            " [ 4  5  6]\n",
            " [ 8  9 10]\n",
            " [12 13 14]]\n"
          ]
        }
      ]
    },
    {
      "cell_type": "code",
      "metadata": {
        "colab": {
          "base_uri": "https://localhost:8080/"
        },
        "id": "40BH9hQmUR4D",
        "outputId": "0f5eb851-2c61-4f69-8ab4-91cdd9b03929"
      },
      "source": [
        "y = ar[:,3]\n",
        "print(y)"
      ],
      "execution_count": null,
      "outputs": [
        {
          "output_type": "stream",
          "name": "stdout",
          "text": [
            "[ 3  7 11 15]\n"
          ]
        }
      ]
    },
    {
      "cell_type": "markdown",
      "metadata": {
        "id": "RFtpWVd8RDWP"
      },
      "source": [
        "## 8.2 Spliting train - test"
      ]
    },
    {
      "cell_type": "markdown",
      "metadata": {
        "id": "zqtTg39lUXvG"
      },
      "source": [
        "모델 훈련에 사용할 train data와 모델 평가에 사용할 test data 분리"
      ]
    },
    {
      "cell_type": "markdown",
      "metadata": {
        "id": "7d_CGwGgU_Ux"
      },
      "source": [
        "* sklearn"
      ]
    },
    {
      "cell_type": "code",
      "metadata": {
        "colab": {
          "base_uri": "https://localhost:8080/"
        },
        "id": "0rTkUISsRJvE",
        "outputId": "68d2ef0c-98d9-40fc-dfca-b4ccf6ba4420"
      },
      "source": [
        "import numpy as np\n",
        "from sklearn.model_selection import train_test_split\n",
        "X, y = np.arange(10).reshape((5, 2)), range(5)\n",
        "\n",
        "print(X)\n",
        "print(list(y))"
      ],
      "execution_count": null,
      "outputs": [
        {
          "output_type": "stream",
          "name": "stdout",
          "text": [
            "[[0 1]\n",
            " [2 3]\n",
            " [4 5]\n",
            " [6 7]\n",
            " [8 9]]\n",
            "[0, 1, 2, 3, 4]\n"
          ]
        }
      ]
    },
    {
      "cell_type": "code",
      "metadata": {
        "id": "KZOAZFMvVYYj"
      },
      "source": [
        "# 3분의 1만 test 데이터로 지정\n",
        "# random_state 지정으로 데이터 순서가 섞인 채로 훈련 데이터와 테스트 데이터 분리됨\n",
        "X_train, X_test, y_train, y_test = train_test_split(X, y, test_size = 0.33, random_state = 1234)"
      ],
      "execution_count": null,
      "outputs": []
    },
    {
      "cell_type": "markdown",
      "metadata": {
        "id": "Vcb4lUC1Vd7n"
      },
      "source": [
        "* X : 독립 변수 데이터. (배열이나 데이터프레임)\n",
        "* y : 종속 변수 데이터. 레이블 데이터\n",
        "* test_size : 테스트용 데이터 개수. 1보다 작은 실수인 경우, 비율을 나타냄\n",
        "* train_size : 학습용 데이터 개수. 1보다 작은 실수인 경우, 비율을 나타냄\n",
        " * test_size와 train_size 중 하나만 기재해도 가능\n",
        "* random_state : 난수 시드"
      ]
    },
    {
      "cell_type": "code",
      "metadata": {
        "colab": {
          "base_uri": "https://localhost:8080/"
        },
        "id": "t_7Hh3s-V1ac",
        "outputId": "18a2db98-8e88-4f9d-ccb5-ed3dafdb7a87"
      },
      "source": [
        "print(X_train)\n",
        "print(X_test)"
      ],
      "execution_count": null,
      "outputs": [
        {
          "output_type": "stream",
          "name": "stdout",
          "text": [
            "[[2 3]\n",
            " [4 5]\n",
            " [6 7]]\n",
            "[[8 9]\n",
            " [0 1]]\n"
          ]
        }
      ]
    },
    {
      "cell_type": "code",
      "metadata": {
        "colab": {
          "base_uri": "https://localhost:8080/"
        },
        "id": "3mVaXkh5V3Nb",
        "outputId": "634e79bc-554f-441e-9d77-d7941a97732e"
      },
      "source": [
        "print(y_train)\n",
        "print(y_test)"
      ],
      "execution_count": null,
      "outputs": [
        {
          "output_type": "stream",
          "name": "stdout",
          "text": [
            "[1, 2, 3]\n",
            "[4, 0]\n"
          ]
        }
      ]
    },
    {
      "cell_type": "markdown",
      "metadata": {
        "id": "gEJXFZq4WbF9"
      },
      "source": [
        "* 직접 분리"
      ]
    },
    {
      "cell_type": "markdown",
      "metadata": {
        "id": "AZFPrg8bWdO8"
      },
      "source": [
        "```python\n",
        "n_of_train = int(len(X) * 0.8) # 훈련 데이터 개수\n",
        "n_of_test = int(len(X) - n_of_train) # 학습 데이터 개수\n",
        "\n",
        "X_train = X[:n_of_train] # 전체 데이터 중에서 80%만큼 앞의 데이터 저장\n",
        "y_train = y[:n_of_train] # 전체 데이터 중에서 80%만큼 앞의 데이터 저장\n",
        "X_test = X[n_of_train:] # 전체 데이터 중에서 20%만큼 뒤의 데이터 저장\n",
        "y_test = y[n_of_train:]  #전체 데이터 중에서 20%만큼 뒤의 데이터 저장\n",
        "```"
      ]
    },
    {
      "cell_type": "markdown",
      "metadata": {
        "id": "nU24_OGEHzB2"
      },
      "source": [
        "# 9) Text Preprocessing Tools for Korean Text"
      ]
    },
    {
      "cell_type": "markdown",
      "metadata": {
        "id": "QCabRVYRXn6S"
      },
      "source": [
        "앞서 나온 형태소와 문장 토크나이징 도구들인 KoNLPy와 KSS(Korean Sentence Splitter)와 함께 유용하게 사용할 수 있는 한국어 전처리 패키지"
      ]
    },
    {
      "cell_type": "markdown",
      "metadata": {
        "id": "nK5vwLWTX1fC"
      },
      "source": [
        "## 9.1 PyKoSpacing "
      ]
    },
    {
      "cell_type": "markdown",
      "metadata": {
        "id": "qtg-cbWOX9zK"
      },
      "source": [
        "* 한국어 띄어쓰기 패키지로 띄어쓰기가 되어있지 않은 문장을 띄어쓰기를 한 문장으로 변환해주는 패키지 (개발자 : 전희원님)"
      ]
    },
    {
      "cell_type": "code",
      "metadata": {
        "id": "LLFbJKRvH5kz"
      },
      "source": [
        "!pip install git+https://github.com/haven-jeon/PyKoSpacing.git"
      ],
      "execution_count": null,
      "outputs": []
    },
    {
      "cell_type": "code",
      "metadata": {
        "colab": {
          "base_uri": "https://localhost:8080/"
        },
        "id": "bCif5HNNYWfc",
        "outputId": "259d6d56-a909-4e35-b7c9-8ffd429002ff"
      },
      "source": [
        "sent = '김철수는 극중 두 인격의 사나이 이광수 역을 맡았다. 철수는 한국 유일의 태권도 전승자를 가리는 결전의 날을 앞두고 10년간 함께 훈련한 사형인 유연재(김광수 분)를 찾으러 속세로 내려온 인물이다.'\n",
        "\n",
        "new_sent = sent.replace(\" \", '') # 문장 내 띄어쓰기 제거\n",
        "print(new_sent)"
      ],
      "execution_count": null,
      "outputs": [
        {
          "output_type": "stream",
          "name": "stdout",
          "text": [
            "김철수는극중두인격의사나이이광수역을맡았다.철수는한국유일의태권도전승자를가리는결전의날을앞두고10년간함께훈련한사형인유연재(김광수분)를찾으러속세로내려온인물이다.\n"
          ]
        }
      ]
    },
    {
      "cell_type": "code",
      "metadata": {
        "colab": {
          "base_uri": "https://localhost:8080/"
        },
        "id": "6fdjE0IuYgtu",
        "outputId": "706141e0-0757-464c-d9e2-f9d9d229fbc3"
      },
      "source": [
        "from pykospacing import Spacing\n",
        "\n",
        "spacing = Spacing()\n",
        "kospacing_sent = spacing(new_sent) \n",
        "\n",
        "print(sent)\n",
        "print(kospacing_sent) # 원문장과 동일"
      ],
      "execution_count": null,
      "outputs": [
        {
          "output_type": "stream",
          "name": "stdout",
          "text": [
            "WARNING:tensorflow:AutoGraph could not transform <function Model.make_predict_function.<locals>.predict_function at 0x7fd4590545f0> and will run it as-is.\n",
            "Please report this to the TensorFlow team. When filing the bug, set the verbosity to 10 (on Linux, `export AUTOGRAPH_VERBOSITY=10`) and attach the full output.\n",
            "Cause: closure mismatch, requested ('self', 'step_function'), but source function had ()\n",
            "To silence this warning, decorate the function with @tf.autograph.experimental.do_not_convert\n",
            "WARNING: AutoGraph could not transform <function Model.make_predict_function.<locals>.predict_function at 0x7fd4590545f0> and will run it as-is.\n",
            "Please report this to the TensorFlow team. When filing the bug, set the verbosity to 10 (on Linux, `export AUTOGRAPH_VERBOSITY=10`) and attach the full output.\n",
            "Cause: closure mismatch, requested ('self', 'step_function'), but source function had ()\n",
            "To silence this warning, decorate the function with @tf.autograph.experimental.do_not_convert\n",
            "김철수는 극중 두 인격의 사나이 이광수 역을 맡았다. 철수는 한국 유일의 태권도 전승자를 가리는 결전의 날을 앞두고 10년간 함께 훈련한 사형인 유연재(김광수 분)를 찾으러 속세로 내려온 인물이다.\n",
            "김철수는 극중 두 인격의 사나이 이광수 역을 맡았다. 철수는 한국 유일의 태권도 전승자를 가리는 결전의 날을 앞두고 10년간 함께 훈련한 사형인 유연재(김광수 분)를 찾으러 속세로 내려온 인물이다.\n"
          ]
        }
      ]
    },
    {
      "cell_type": "markdown",
      "metadata": {
        "id": "umdumsY8Ysjq"
      },
      "source": [
        "## 9.2 Py-Hanspell"
      ]
    },
    {
      "cell_type": "markdown",
      "metadata": {
        "id": "4sAoEDLhYvzA"
      },
      "source": [
        "* 네이버 한글 맞춤법 검사기를 바탕으로 만들어진 패키지 (띄어쓰기도 보정)"
      ]
    },
    {
      "cell_type": "code",
      "metadata": {
        "id": "Q4xZGPYLYtny"
      },
      "source": [
        "!pip install git+https://github.com/ssut/py-hanspell.git"
      ],
      "execution_count": null,
      "outputs": []
    },
    {
      "cell_type": "code",
      "metadata": {
        "colab": {
          "base_uri": "https://localhost:8080/"
        },
        "id": "-SG4ALpnY4mu",
        "outputId": "c41dc469-6785-4b25-cf51-ffea6282f917"
      },
      "source": [
        "from hanspell import spell_checker\n",
        "\n",
        "sent = \"맞춤법 틀리면 외 않되? 쓰고싶은대로쓰면돼지 \"\n",
        "\n",
        "spelled_sent = spell_checker.check(sent)\n",
        "hanspell_sent = spelled_sent.checked\n",
        "\n",
        "print(sent)\n",
        "print(hanspell_sent)"
      ],
      "execution_count": null,
      "outputs": [
        {
          "output_type": "stream",
          "name": "stdout",
          "text": [
            "맞춤법 틀리면 외 않되? 쓰고싶은대로쓰면돼지 \n",
            "맞춤법 틀리면 왜 안돼? 쓰고 싶은 대로 쓰면 되지\n"
          ]
        }
      ]
    },
    {
      "cell_type": "code",
      "metadata": {
        "colab": {
          "base_uri": "https://localhost:8080/"
        },
        "id": "faVQubYqZAa2",
        "outputId": "9b8610ed-1c34-4cc4-9610-849e0eeccbf6"
      },
      "source": [
        "spelled_sent = spell_checker.check(new_sent) # 9.1에서 사용한 new_sent\n",
        "hanspell_sent = spelled_sent.checked\n",
        "\n",
        "print(hanspell_sent)\n",
        "print(kospacing_sent) # 앞서 사용한 kospacing 패키지에서 얻은 결과"
      ],
      "execution_count": null,
      "outputs": [
        {
          "output_type": "stream",
          "name": "stdout",
          "text": [
            "김철수는 극 중 두 인격의 사나이 이광수 역을 맡았다. 철수는 한국 유일의 태권도 전승자를 가리는 결전의 날을 앞두고 10년간 함께 훈련한 사형인 유연제(김광수 분)를 찾으러 속세로 내려온 인물이다.\n",
            "김철수는 극중 두 인격의 사나이 이광수 역을 맡았다. 철수는 한국 유일의 태권도 전승자를 가리는 결전의 날을 앞두고 10년간 함께 훈련한 사형인 유연재(김광수 분)를 찾으러 속세로 내려온 인물이다.\n"
          ]
        }
      ]
    },
    {
      "cell_type": "markdown",
      "metadata": {
        "id": "dbMFKnNQZe8x"
      },
      "source": [
        "## 9.3 SOYNLP"
      ]
    },
    {
      "cell_type": "markdown",
      "metadata": {
        "id": "cearWkByZmtv"
      },
      "source": [
        "* 품사 태깅, 단어 토큰화 등을 지원하는 단어 토크나이저 \n",
        "* 비지도 학습으로 단어 토큰화를 한다는 특징을 갖고 있으며, 데이터에 자주 등장하는 단어들을 단어로 분석함\n",
        "* 단어 토크나이저는 내부적으로 단어 점수 표로 동작하는데, 이 점수는 응집 확률(cohesion probability)과 브랜칭 엔트로피(branching entropy)를 활용함"
      ]
    },
    {
      "cell_type": "code",
      "metadata": {
        "id": "n984ywzhZgr0"
      },
      "source": [
        "!pip install soynlp"
      ],
      "execution_count": null,
      "outputs": []
    },
    {
      "cell_type": "code",
      "metadata": {
        "id": "GkvgHM9wNOcU"
      },
      "source": [
        "pip install konlpy"
      ],
      "execution_count": null,
      "outputs": []
    },
    {
      "cell_type": "markdown",
      "metadata": {
        "id": "GHZMOePpNI95"
      },
      "source": [
        "기존의 형태소 분석기는 신조어나 형태소 분석기에 등록되지 않은 단어 같은 경우에는 제대로 구분하지 못하는 단점이 있음"
      ]
    },
    {
      "cell_type": "code",
      "metadata": {
        "colab": {
          "base_uri": "https://localhost:8080/"
        },
        "id": "djkrt0YFFRXu",
        "outputId": "f72430e9-e47c-4915-a1bf-ffca753a85cc"
      },
      "source": [
        "from konlpy.tag import Okt\n",
        "tokenizer = Okt()\n",
        "\n",
        "print(tokenizer.morphs('에이비식스 이대휘 1월 최애돌 기부 요정'))"
      ],
      "execution_count": null,
      "outputs": [
        {
          "output_type": "stream",
          "name": "stdout",
          "text": [
            "['에이', '비식스', '이대', '휘', '1월', '최애', '돌', '기부', '요정']\n"
          ]
        }
      ]
    },
    {
      "cell_type": "markdown",
      "metadata": {
        "id": "QFtNGbvRNhKZ"
      },
      "source": [
        "* '에이비식스'는 아이돌의 이름이고, '이대휘'는 에이비식스의 멤버이며, '최애돌'은 최고로 애정하는 캐릭터라는 뜻이지만 위의 형태소 분석 결과에서는 전부 분리되어있음\n",
        "\n",
        "* soynlp는 위와 같은 상황에서 __'에이비식스'라는 문자열이 자주 연결되어 등장한다면 한 단어라고 판단__하고, 뿐만 아니라 __'에이비식스'라는 단어 앞뒤에 '최고', '가수', '실력'과 같은 독립된 다른 단어들이 계속해서 등장한다면 에이비식스를 한 단어로 파악__하는 아이디어를 가진 토크나이저임\n",
        "\n",
        " * 즉 텍스트 데이터에서 __특정 문자 시퀀스가 함께 등장하는 빈도가 높고__, __앞뒤로 조사 또는 완전히 다른 단어가 등장하는 것을 고려해서 해당 문자 시퀀스를 형태소라고 판단__하는 단어 토크나이저"
      ]
    },
    {
      "cell_type": "markdown",
      "metadata": {
        "id": "IixDKjopOky9"
      },
      "source": [
        "### 9.3.1 Train tokenizer"
      ]
    },
    {
      "cell_type": "code",
      "metadata": {
        "id": "Va97efXzOoOS"
      },
      "source": [
        "import urllib.request\n",
        "from soynlp import DoublespaceLineCorpus\n",
        "from soynlp.word import WordExtractor"
      ],
      "execution_count": 3,
      "outputs": []
    },
    {
      "cell_type": "code",
      "metadata": {
        "id": "TGMoqtxBOo8g",
        "colab": {
          "base_uri": "https://localhost:8080/"
        },
        "outputId": "46729f4c-be6c-4d40-b537-170690c7112c"
      },
      "source": [
        "# Download data\n",
        "urllib.request.urlretrieve(\"https://raw.githubusercontent.com/lovit/soynlp/master/tutorials/2016-10-20.txt\", filename=\"2016-10-20.txt\")"
      ],
      "execution_count": 4,
      "outputs": [
        {
          "output_type": "execute_result",
          "data": {
            "text/plain": [
              "('2016-10-20.txt', <http.client.HTTPMessage at 0x7f293918d450>)"
            ]
          },
          "metadata": {},
          "execution_count": 4
        }
      ]
    },
    {
      "cell_type": "code",
      "metadata": {
        "colab": {
          "base_uri": "https://localhost:8080/"
        },
        "id": "cXrexM-BCAC2",
        "outputId": "b20bd32a-9830-461f-828d-24cbdb334e0b"
      },
      "source": [
        "# 훈련 데이터를 다수의 문서로 분리\n",
        "corpus = DoublespaceLineCorpus(\"2016-10-20.txt\")\n",
        "len(corpus)"
      ],
      "execution_count": 5,
      "outputs": [
        {
          "output_type": "execute_result",
          "data": {
            "text/plain": [
              "30091"
            ]
          },
          "metadata": {},
          "execution_count": 5
        }
      ]
    },
    {
      "cell_type": "code",
      "metadata": {
        "colab": {
          "base_uri": "https://localhost:8080/"
        },
        "id": "eoxM-gqCCIBU",
        "outputId": "c0bdd6f2-fa41-45d8-dcec-fcf241113b10"
      },
      "source": [
        "i = 0\n",
        "for document in corpus:\n",
        "  if len(document) > 0:\n",
        "    print(document)\n",
        "    i = i+1\n",
        "  if i == 3:\n",
        "    break"
      ],
      "execution_count": 10,
      "outputs": [
        {
          "output_type": "stream",
          "name": "stdout",
          "text": [
            "19  1990  52 1 22\n",
            "오패산터널 총격전 용의자 검거 서울 연합뉴스 경찰 관계자들이 19일 오후 서울 강북구 오패산 터널 인근에서 사제 총기를 발사해 경찰을 살해한 용의자 성모씨를 검거하고 있다 성씨는 검거 당시 서바이벌 게임에서 쓰는 방탄조끼에 헬멧까지 착용한 상태였다 독자제공 영상 캡처 연합뉴스  서울 연합뉴스 김은경 기자 사제 총기로 경찰을 살해한 범인 성모 46 씨는 주도면밀했다  경찰에 따르면 성씨는 19일 오후 강북경찰서 인근 부동산 업소 밖에서 부동산업자 이모 67 씨가 나오기를 기다렸다 이씨와는 평소에도 말다툼을 자주 한 것으로 알려졌다  이씨가 나와 걷기 시작하자 성씨는 따라가면서 미리 준비해온 사제 총기를 이씨에게 발사했다 총알이 빗나가면서 이씨는 도망갔다 그 빗나간 총알은 지나가던 행인 71 씨의 배를 스쳤다  성씨는 강북서 인근 치킨집까지 이씨 뒤를 쫓으며 실랑이하다 쓰러뜨린 후 총기와 함께 가져온 망치로 이씨 머리를 때렸다  이 과정에서 오후 6시 20분께 강북구 번동 길 위에서 사람들이 싸우고 있다 총소리가 났다 는 등의 신고가 여러건 들어왔다  5분 후에 성씨의 전자발찌가 훼손됐다는 신고가 보호관찰소 시스템을 통해 들어왔다 성범죄자로 전자발찌를 차고 있던 성씨는 부엌칼로 직접 자신의 발찌를 끊었다  용의자 소지 사제총기 2정 서울 연합뉴스 임헌정 기자 서울 시내에서 폭행 용의자가 현장 조사를 벌이던 경찰관에게 사제총기를 발사해 경찰관이 숨졌다 19일 오후 6시28분 강북구 번동에서 둔기로 맞았다 는 폭행 피해 신고가 접수돼 현장에서 조사하던 강북경찰서 번동파출소 소속 김모 54 경위가 폭행 용의자 성모 45 씨가 쏜 사제총기에 맞고 쓰러진 뒤 병원에 옮겨졌으나 숨졌다 사진은 용의자가 소지한 사제총기  신고를 받고 번동파출소에서 김창호 54 경위 등 경찰들이 오후 6시 29분께 현장으로 출동했다 성씨는 그사이 부동산 앞에 놓아뒀던 가방을 챙겨 오패산 쪽으로 도망간 후였다  김 경위는 오패산 터널 입구 오른쪽의 급경사에서 성씨에게 접근하다가 오후 6시 33분께 풀숲에 숨은 성씨가 허공에 난사한 10여발의 총알 중 일부를 왼쪽 어깨 뒷부분에 맞고 쓰러졌다  김 경위는 구급차가 도착했을 때 이미 의식이 없었고 심폐소생술을 하며 병원으로 옮겨졌으나 총알이 폐를 훼손해 오후 7시 40분께 사망했다  김 경위는 외근용 조끼를 입고 있었으나 총알을 막기에는 역부족이었다  머리에 부상을 입은 이씨도 함께 병원으로 이송됐으나 생명에는 지장이 없는 것으로 알려졌다  성씨는 오패산 터널 밑쪽 숲에서 오후 6시 45분께 잡혔다  총격현장 수색하는 경찰들 서울 연합뉴스 이효석 기자 19일 오후 서울 강북구 오패산 터널 인근에서 경찰들이 폭행 용의자가 사제총기를 발사해 경찰관이 사망한 사건을 조사 하고 있다  총 때문에 쫓던 경관들과 민간인들이 몸을 숨겼는데 인근 신발가게 직원 이모씨가 다가가 성씨를 덮쳤고 이어 현장에 있던 다른 상인들과 경찰이 가세해 체포했다  성씨는 경찰에 붙잡힌 직후 나 자살하려고 한 거다 맞아 죽어도 괜찮다 고 말한 것으로 전해졌다  성씨 자신도 경찰이 발사한 공포탄 1발 실탄 3발 중 실탄 1발을 배에 맞았으나 방탄조끼를 입은 상태여서 부상하지는 않았다  경찰은 인근을 수색해 성씨가 만든 사제총 16정과 칼 7개를 압수했다 실제 폭발할지는 알 수 없는 요구르트병에 무언가를 채워두고 심지를 꽂은 사제 폭탄도 발견됐다  일부는 숲에서 발견됐고 일부는 성씨가 소지한 가방 안에 있었다\n",
            "테헤란 연합뉴스 강훈상 특파원 이용 승객수 기준 세계 최대 공항인 아랍에미리트 두바이국제공항은 19일 현지시간 이 공항을 이륙하는 모든 항공기의 탑승객은 삼성전자의 갤럭시노트7을 휴대하면 안 된다고 밝혔다  두바이국제공항은 여러 항공 관련 기구의 권고에 따라 안전성에 우려가 있는 스마트폰 갤럭시노트7을 휴대하고 비행기를 타면 안 된다 며 탑승 전 검색 중 발견되면 압수할 계획 이라고 발표했다  공항 측은 갤럭시노트7의 배터리가 폭발 우려가 제기된 만큼 이 제품을 갖고 공항 안으로 들어오지 말라고 이용객에 당부했다  이런 조치는 두바이국제공항 뿐 아니라 신공항인 두바이월드센터에도 적용된다  배터리 폭발문제로 회수된 갤럭시노트7 연합뉴스자료사진\n"
          ]
        }
      ]
    },
    {
      "cell_type": "markdown",
      "metadata": {
        "id": "QqJs6buYCxjG"
      },
      "source": [
        "soynlp는 학습 기반의 단어 토크나이저이므로 기존의 KoNLPy에서 제공하는 형태소 분석기들과는 달리 코퍼스로부터 학습 과정을 거쳐야 함. \n",
        " * 이는 전체 코퍼스로부터 __응집 확률(cohesion probability)__과 __브랜칭 엔트로피(branching entropy)__ 단어 점수표를 만드는 과정"
      ]
    },
    {
      "cell_type": "code",
      "metadata": {
        "colab": {
          "base_uri": "https://localhost:8080/"
        },
        "id": "txpk5016DHFE",
        "outputId": "1a9f1b18-4282-4cf1-844b-7f44be02b34a"
      },
      "source": [
        "# 전체 코퍼스에 대해 단어 점수표 계산\n",
        "word_extractor = WordExtractor()\n",
        "word_extractor.train(corpus)\n",
        "word_score_table = word_extractor.extract()"
      ],
      "execution_count": 11,
      "outputs": [
        {
          "output_type": "stream",
          "name": "stdout",
          "text": [
            "training was done. used memory 1.206 Gb\n",
            "all cohesion probabilities was computed. # words = 223348\n",
            "all branching entropies was computed # words = 361598\n",
            "all accessor variety was computed # words = 361598\n"
          ]
        }
      ]
    },
    {
      "cell_type": "markdown",
      "metadata": {
        "id": "3gY9mB9wDhdW"
      },
      "source": [
        "#### Cohesion probability"
      ]
    },
    {
      "cell_type": "markdown",
      "metadata": {
        "id": "K-XK9wu1EB3A"
      },
      "source": [
        "내부 문자열(substring)이 얼마나 응집하여 자주 등장하는지를 판단하는 척도\n",
        "\n",
        "* 문자열을 문자 단위로 분리하여 내부 문자열을 만드는 과정에서 왼쪽부터 순서대로 문자를 추가하면서 각 문자열이 주어졌을 때 그 다음 문자가 나올 확률을 계산하여 누적곱을 한 값\n",
        "\n",
        "* 값이 높을수록 전체 코퍼스에서 해당 문자열 시퀀스는 하나의 단어로 등장할 가능성이 높음"
      ]
    },
    {
      "cell_type": "markdown",
      "metadata": {
        "id": "G4T0PhgmERmO"
      },
      "source": [
        "![image.png](data:image/png;base64,iVBORw0KGgoAAAANSUhEUgAAAR8AAABLCAYAAABJP4MYAAARTUlEQVR4Ae1dIbeyQBDdf0E0Go1EIpFIJBKJ/AQi0Ug0Go1GItFoNBKJ9zuzy+Kqq4KKwvfmnfPO8+GyO3tnuezOzswK8A8jwAgwAj9AQPygTW6SEWAEGAEw+fAgYAQYgZ8gwOTzE9i5UUaAEWDy4THACDACP0GAyecnsHOjjAAjwOTDY4ARYAR+ggCTz09g50YZAUaAyYfHACPACPwEASafn8DOjTICU0egwWlfoCjr0QRl8hkNWq6YEZgpAnWJIk8RrgSCzWm0TjD5jAYtV8wIzBmBEzYBk8+cNciyMwIzRYDJZ6aKY7EZgbkjwOQzdw2y/IzATBFg8pmp4lhsRmDOCByxaw3OqzBFvjuO0hk2OI8CK1fKCDACzxBg8nmG0H/0fVPmCOItxts8/Y/AmkVXTtjGAfKymYW010Iy+Vwj8r/+f9wgXITYjDOD/l9Rm36/SK9OMEu9MvlMf3i9L2FTInMdhMw872M5wRpO2xDOKsWQCZAQAp/4fQcOJp930JvFvQ3KzIUINvj4pKepURUxkt14LvizgPjnQqqdqVVa4nsLsBrVdo13bNFMPj8fOOMK0FQZXOEirz7bTl0WyNcJAiEQbtmK9Fl0X6jtWMAXK2RDpj8vNCNvOe6Q5zF8IZCVr1YCzuH8OnRzuPOIwhdwkh0u5ibHLWLfg7sMEScx0jyBv4wwnENKZEw+ExkIDfaJA+GtcegpUb2L4a1WcIMIcZ4jcT2se7+klO6ZfHqC/deK0eBy6G14NaDKbImsWMMTC8RyyfQqibx631/TxJf6W+VwhUC0vXjV3Gm8wT7NkGcruSQ/4TgwlovJ5w6wfBlQsx7hFze2nqaucdrGEE6KPRkJThsEwkEq/xmCHZPPELTGL9vq3LvVub1t7cV8BOodYuGoZVRzwK4oUFh+90dtVWLysWPKV4Eqx0q+Be32mDIV7RuPxh0RUYzdqUaDGof9Hvt7v9XJMGoy+UxtqNXbCEIsb2a7VjmbPRIinApo9ol8GeXrCEWvdRuTjxVTvkhTagdC3LPjHFF4AgtphSZbgYATb7FNew7aDmAmnw6KqXyQMxgBkeyNl8Qd4Q5ruO3stylTLFYu/KiHE6rM96MMzn6cv5xwjHe77uhl1pflG01A3BtIDU2xF0jbnZFq7cFxfUTJrrf3s9ztanc8HD9Bnu9ulnezxnC2wtfYRuTDE2OnV0gT7QuTz0QV845YzT6FIwSC4uOePe+Ixfd+CYFj4UkHwmSwDe9LArbNMPl8F++vtFZltORafdy35yvCcyPvI9Da+8Q7++DvS/G0BiafpxDNrYCy58xh2j03ZGcjr152u/19fn7RNyafX6A+Zpva4Bg82m6tsPY8uIvr+J4FXM+D9+B36Vzd4yzhefELDopjgvDX61Y+O3LDoY/Lz4/gYvL5EfCjNVtl0t4j0n2PJmoc1oERYJjisbe88gvRAYmrdH/pOd2jRS7yHQSkK8Wb4Q9jS8rkMzbCX66fIpyJHLx1L2eN1sFQz2aGkU/6mKm+3HNuzkRAG53HPPrGbO+Vz0w+d1Cryxxh1sNXwrifvIbjH6etUMbmvi722rt5muTzig4MdXzl46Ho65T3jjiUNCwelLNHOo5S2owJG50/Tz7VGp67UFP5MdI4vKPDnvc2ZQbXzVEN9pM4YhM6CH5GQDV2sSKS3rMSGVoxLvlUax+et1TLQWHYlWicOEuE+f7Gv+h1HfRU8oeKlZlAb6zfaXNo0rAyU89gtJ3s0vjz5CMBLpES645BPqctooWAE/bwxHxF2U2FzL0NxuxdVb1FJH6VWU7bZAL0dvH5AvlI7I4UP2YZE4e1TM1AY6ULBHlXB72V9X7Br5EPABk60feZOhbwbHi/3+WP1TAa+VCqhTHJZxFtR/GoPW0C2IIx+yPehjb0cW/vX2nPkircQQwhvy+Rj4wdEgKrm8RChswt+7yvg55wfaDYN8kHzR6pI9DLebDT6zM73gdAeLGK+ZHPix3td5uKCn572VTSjtMv3NtvH+Sn/e4GKS29ng1UPbMauLQDxbmu5DLgZhOua1/j9SEdPO34Zwp8lXwAlORAGu+ex211uD7T6WdweKWWu+TTHLbIIg9+lCKPA7hRhn3nrd/gsM0Q+RGSNIbvhcj33aSZIJJJpoSfochjxGmKyFtgGa4v7SjHnWwjSiiZlY9kqxtoUK0j1XaeIHCXWDoE4gm7xMWCZlUXD8oDeU47JJ0Nao3dJkWcZEiCBRZ+cpkG8rRFaPEMJvtD6HtwFgHW1QHbJEQYJ4i8JcJ1dTsQWl+br9v6tHPZBTZPhkU3SK8xtd33Kvnc9ztRUdgCbtamAL2jAy3Nab9GHARqTPk+sv1vHVns5HPCfh0jCGKkaQTfz/ApMZUhOXviEkFo6ReRJnWN4HT+2slHGrcE/Ha7Vg8QIS1rDSrKCWwaZE9bxI55qLzu+AqpRv1AyauoTEswbRtd/JFMA7mUwY4qNilF56ki7ShnBlc+DPr/PvLowW/EO8ngSgHVp1Yh0kgXYGPyKCrkfoaqae1YwkVWqgF/pCUaLXEuylNdFTKJhybTLym8IxKNTY92u3tGJB/t+HiVZa9px8AiMvJLW3VA/WhzUbvtg0wkRQ6PfW0gPaB4pcgN+chk/USmygdKJnc3x/0rjZj3SD+uPjZF/Qz2KWs28L3PFvLR6RhMoU+o9iUO9MxJkrj2I1FpGc6zkbbj5mDTg7wlsC7lQ/fiqpCviAz2Kr8MKWxdoZY7Tifsi31n4yGFd231kke/sc23QCujMXiVj8zVg3so1JZ7Gy+zMtICKl8KEyetuLa9R1MfmZYgR573+9302XrTGE9t5lOmcsnluAGiKFK/YYAoWWNTmvmBAKsOyNgqszKKNvMiuQjskAQR8vZFgD7J7OkF6OjsjVpXz/82NEOnWbul6CX50G4jxdXF0Dn1T7sEQZTjLGaFIk667y1Vot4lWAgXVletVsePhpaqc5bko97a3cN9hY52YutmMO33ihCWbTDj7YOtsuXpmUZLNMJDlOmHL0VI5ENkQG8Pj5RIJCPgLMPzIJPr3jP59JNHk49JLLcySkPnnQdXEU2b6U32ua1TLgevQEL73Vf2YI22J0o+2t7TJ72nXQdthr47drT+yewb1OptZoBGHw8oosKS+5iODc6RxR6Ekz0nn/ZFaLfJ1CiLHOuEZsvhk3CUe3Ke/bKeD60/Rz764bx9sC/JRwNjksHVeECNY7lFQTYlGYPkddvH5sznMfloed4lH+0/Y8yc2qWEY93VYvI5a1Njb5shnkvpT1bykXYg9WK6WeHqG1sbx/kkjRq7ZAGxSGSq2OM2gu+usLhOpi/vL5HdIRf6Wsp053tz5nMei/elhFxWGuRT75AsBBZyHNHSMoTnOvc91NsXzH9KPnrZ5XcPu9RPc0JFKTRbdl9ebJnqZVcElbv6Gfnoh1mX1yOoxoHWdqQg06Lf2mf0bMskH70MfCyPfgBMsrPIKJcHBsFosbQh11iiKcOfI7c9pWfzxdEPKrL8YYjDX1l2aXvPKrfOHDTE3V+bDjT53DxxDY5HvW5X+jyTD9AcS+zLI5rTBqG3RkE7btZI78+Sz62YR5zFJOc/g3zQ4FjuUVJu5DLDMi5QxJRZ8urEEQ2Q9N/x7EsyXUb+1S/4fqR/ceuX/rHYfMiuQ0ewCiyNwEEyrvrSc601/K2MaSg9nI55IqblwdZLAq2Ztg0vP+8WHTchAlroyreDQUzy4T87/l2QjzZEPpSnJ/lIu84V6ZIitL3HIFwlA63taUlwrWBlnO6zzPionvVDemfpaG1L6+VmB9FWWuOolsNalbaS3TXpdqBsed21Rx+sOmhtKReOpSfsUg+e3iW7mfmYjTSom4NMHetaDSmfIR+ZhN25OsfstEPqeefztK5nPhdi1qhpJiScs23L/J4+S3I2no3r77v/DfJ5MBHriv/gg518aG+h3Wp3/UhuF8YXLvA1DpsEgae22ulvtj0oN24Kr+hc6R0svQTrdXIOuZDu9a3x7rRHHlEKh1Bu2Xdt0ID1I8S+j4i26X0fyYbqV6kgdFqHhZtgJ4F9IA8ZJj29PS+woLOJ1rcyynpaJ674Kv9kvYvgOJfnnDfVGsHCgx8GyJQQZ/XJt5OFxM4lRvqkB5xl9navxbHIR44DI22HTL3x2NAqRbyjA9RkqPXhhSnyNEYQJyj2prFa9d2c+Vx0WfbTxbpqpGtEfTCT5K8ROTEKM2m+3F1RNfRddlHpuirkmWhhmiONA8RJgf3JiNN5RD5UAY19mcxfyXnRB7nf4/VzgtWz9SEvouvGRv7/LvmM3O5Eq2+XnL1e6fe7IAer5cia+3d86htNPtczsQf1j0U+D5p8/NWrOrglH7nsak/bkMtkN8e2CCyzig/NfB53TH17Qz5q2VW1BEXGeSfeYJN6lkyUauapViBPGuv0apoantzz5a+ZfK4BlwevDZg5XN8vz8tyEF/YgG4KjXRBZzGcM/moZa57Z2fLBpw9mb0yODtLNduSx0avPPixLSznHvmo3a40JO9sF1Ga49rlwTQ422Q7X1O7XXnsQwgHfpIjp4POpcHZwbI1hJPRWibzzy3nrpO91emZuE2Tj+nuchZmEp+YfG7UoGxatzFINwWtF+gNuwgNpzlrqbEunm0yz/1AWhn0IB3L5vNSV9/TwfAm75HP85r6k8/zuh6XILvXAqF20n1cGNBJ5YxNkme3fPt7Jh8r4pQaw+2OlrEWsV0kI7qXdQ5ltiJjX1OGcIGbGKp7DU+SfEjYF3Vwr59PrjeNYZd5Utb8+lvkQ5sxZFzXe3umDNbPrWPnhQe/teDvLjL53MX+gaPXvXuauvXIvldg/Osq5MMIY3nW5GTJhwR/QQfP+vvp7xs65XX8Hzriekg7yl/KCCcaX8TBLTD5DIZs2jfo1BW9M9jpPDvtsquLp7N28xwjR57nvWdX1rr44pgI6IyW1zu3Y7Y5tG4mn6GITb28JpM+GeyaA7ax24WxEKH4eXln9kaZA2K4bciLDH0J1qis4QpTB+l/l++EbUi+WAOSyv0AEiafH4A+bpNkPKWB9yjtgvKXenREjhefM0XSccoPy/LROeOqdHDtbXymNe5wcGWj3cDkMxq0v6pYh64M2G7/lajc7jgIDJn9jiNBr1qZfHrBNK9C2tg45fX+vBCdl7Ta7qdjIacqPZPPVDXzjlw6tUMvT+02+tsacPlAiD75cx7czl+Nh4BMtSp+Ed4zrE9MPsPwmknpNv/N0gj+fST5QBeB/vlzHjXK342DQJsr6yfhPcN6xOQzDK/ZlD4W5Ma/hJF48VZ2StoWenCdPikarm+/jaW6LsH//wCBNgNDr/ivH4hnNsnkY6LxP32Wea915kh7x8psibgoEOsUDvUBezOy++ZzdT5b62EKC3t7fHV8BNSSK3qSKXF8Ofq0wOTTB6VZlqH4KAqIVJn8bF0gr1nKFywohUNvv31dE898NBKT+dumI1mllqDUyQh5FoTJ54zF//epDZ3wHhxfSm9Kypp3GhzbxOQztQGjdjnn42LB5DO1EfRhearchVimKK2BQWScdBBvNki9HFWfZVdXD5PPh1X1XnVkv1sJuEa2zfcqHP9uJp/xMf5tC+05UvZ80uSG74CyVeZ2drLKbs+fYy3KF7+EgNxgcH+bUWFoV5l8hiI2w/J04qo75Pz2GfbxT4ssD1A8H2Y5FyyYfOaiqTflpHwwzoQTS73ZvT98O+U9GpBkbEJIMflMSBnjiqKyA3bHU4/bGNf+JQQofxOdcz94s/JL8j1qhsnnETr/3XeUnGtYUqr/DoL/rENDk4xNqftMPlPSBsvCCPwhBJh8/pCyuauMwJQQYPKZkjZYFkbgDyHA5POHlM1dZQSmhACTz5S0wbIwAn8IASafP6Rs7iojMCUE/gHIg1r7z1Ic1gAAAABJRU5ErkJggg==)"
      ]
    },
    {
      "cell_type": "markdown",
      "metadata": {
        "id": "LM5_UriXEnO4"
      },
      "source": [
        "(ex) '반포한강공원에' 라는 문자시퀀스에 대한 각 내부 문자열의 응집확률"
      ]
    },
    {
      "cell_type": "markdown",
      "metadata": {
        "id": "x40wWd6OEldt"
      },
      "source": [
        "![image.png](data:image/png;base64,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)"
      ]
    },
    {
      "cell_type": "code",
      "metadata": {
        "colab": {
          "base_uri": "https://localhost:8080/"
        },
        "id": "QALhcQLdD_bO",
        "outputId": "c2a75868-5e96-4668-950a-0fff35aa927d"
      },
      "source": [
        "# 응집확률계산\n",
        "word_score_table[\"반포한\"].cohesion_forward"
      ],
      "execution_count": 12,
      "outputs": [
        {
          "output_type": "execute_result",
          "data": {
            "text/plain": [
              "0.08838002913645132"
            ]
          },
          "metadata": {},
          "execution_count": 12
        }
      ]
    },
    {
      "cell_type": "code",
      "metadata": {
        "colab": {
          "base_uri": "https://localhost:8080/"
        },
        "id": "kmD6JmHVFDf8",
        "outputId": "97752968-d43a-42a4-ce4f-de765957274f"
      },
      "source": [
        "word_score_table[\"반포한강\"].cohesion_forward"
      ],
      "execution_count": 13,
      "outputs": [
        {
          "output_type": "execute_result",
          "data": {
            "text/plain": [
              "0.19841268168224552"
            ]
          },
          "metadata": {},
          "execution_count": 13
        }
      ]
    },
    {
      "cell_type": "code",
      "metadata": {
        "colab": {
          "base_uri": "https://localhost:8080/"
        },
        "id": "ub9Ifxq6FEuH",
        "outputId": "9d3fc823-c391-43a6-b230-4b31aa39f02c"
      },
      "source": [
        "word_score_table[\"반포한강공\"].cohesion_forward"
      ],
      "execution_count": 14,
      "outputs": [
        {
          "output_type": "execute_result",
          "data": {
            "text/plain": [
              "0.2972877884078849"
            ]
          },
          "metadata": {},
          "execution_count": 14
        }
      ]
    },
    {
      "cell_type": "code",
      "metadata": {
        "colab": {
          "base_uri": "https://localhost:8080/"
        },
        "id": "r0nw9P2EFE58",
        "outputId": "5ef1aa24-57af-43c0-845d-66a3e6ba9370"
      },
      "source": [
        "word_score_table[\"반포한강공원\"].cohesion_forward"
      ],
      "execution_count": 15,
      "outputs": [
        {
          "output_type": "execute_result",
          "data": {
            "text/plain": [
              "0.37891487632839754"
            ]
          },
          "metadata": {},
          "execution_count": 15
        }
      ]
    },
    {
      "cell_type": "code",
      "metadata": {
        "colab": {
          "base_uri": "https://localhost:8080/"
        },
        "id": "exUuZ5yCFJpn",
        "outputId": "f51e2421-d08f-445a-985c-faf3dd03f504"
      },
      "source": [
        "word_score_table[\"반포한강공원에\"].cohesion_forward"
      ],
      "execution_count": 16,
      "outputs": [
        {
          "output_type": "execute_result",
          "data": {
            "text/plain": [
              "0.33492963377557666"
            ]
          },
          "metadata": {},
          "execution_count": 16
        }
      ]
    },
    {
      "cell_type": "markdown",
      "metadata": {
        "id": "7XJhNUG5FT6H"
      },
      "source": [
        "* 응집확률은 '반포한강공원'일 때가 가장 높음. 즉 응집도를 통해 판단했을 때, 하나의 단어로 판단하기에 가장 적합한 문자열은 '반포한강공원'이라고 볼 수 있음."
      ]
    },
    {
      "cell_type": "markdown",
      "metadata": {
        "id": "7LkAQpStFmMF"
      },
      "source": [
        "#### Branching entropy"
      ]
    },
    {
      "cell_type": "markdown",
      "metadata": {
        "id": "6b_9CIQtGb7P"
      },
      "source": [
        "확률 분포의 엔트로피값을 사용하고, 주어진 문자열에서 얼마나 다음 문자가 등장할 수 있는지를 판단하는 척도\n",
        " \n",
        "* 하나의 완성된 단어에 가까워질수록 문맥으로 인해 점점 정확히 예측할 수 있게 되면서 브랜칭 엔트로피의 값은 점점 줄어듬"
      ]
    },
    {
      "cell_type": "code",
      "metadata": {
        "colab": {
          "base_uri": "https://localhost:8080/"
        },
        "id": "5R83sM3lForb",
        "outputId": "d29cff3c-f359-46c3-93f6-781aa654918e"
      },
      "source": [
        "# 브랜칭 엔트로피 계산\n",
        "word_score_table[\"디스\"].right_branching_entropy"
      ],
      "execution_count": 17,
      "outputs": [
        {
          "output_type": "execute_result",
          "data": {
            "text/plain": [
              "1.6371694761537934"
            ]
          },
          "metadata": {},
          "execution_count": 17
        }
      ]
    },
    {
      "cell_type": "code",
      "metadata": {
        "colab": {
          "base_uri": "https://localhost:8080/"
        },
        "id": "QbtvtkoDG5Nd",
        "outputId": "74a0e441-f805-4482-9730-8302f1cb8786"
      },
      "source": [
        "word_score_table[\"디스플\"].right_branching_entropy"
      ],
      "execution_count": 18,
      "outputs": [
        {
          "output_type": "execute_result",
          "data": {
            "text/plain": [
              "-0.0"
            ]
          },
          "metadata": {},
          "execution_count": 18
        }
      ]
    },
    {
      "cell_type": "code",
      "metadata": {
        "colab": {
          "base_uri": "https://localhost:8080/"
        },
        "id": "MSoP9fOFG87N",
        "outputId": "b6e8c744-c5fb-4512-c691-e2562fdf35ac"
      },
      "source": [
        "word_score_table[\"디스플레\"].right_branching_entropy"
      ],
      "execution_count": 19,
      "outputs": [
        {
          "output_type": "execute_result",
          "data": {
            "text/plain": [
              "-0.0"
            ]
          },
          "metadata": {},
          "execution_count": 19
        }
      ]
    },
    {
      "cell_type": "markdown",
      "metadata": {
        "id": "OjWHLWUgG-Dg"
      },
      "source": [
        "* '디스' 다음에는 다양한 문자가 올 수 있어 1.63이라는 값을 가지는 반면, '디스플'라는 문자열 다음에는 '레'가, '디스플레'라는 문자열 다음에는 '이'가 오는 것이 명백하기 때문에 0이란 값을 가짐"
      ]
    },
    {
      "cell_type": "code",
      "metadata": {
        "colab": {
          "base_uri": "https://localhost:8080/"
        },
        "id": "AyyNq3ISG76V",
        "outputId": "a3eee06c-4474-45c9-930e-b04308a8e3fa"
      },
      "source": [
        "word_score_table[\"디스플레이\"].right_branching_entropy"
      ],
      "execution_count": 20,
      "outputs": [
        {
          "output_type": "execute_result",
          "data": {
            "text/plain": [
              "3.1400392861792916"
            ]
          },
          "metadata": {},
          "execution_count": 20
        }
      ]
    },
    {
      "cell_type": "markdown",
      "metadata": {
        "id": "7Ic1p20FHqHX"
      },
      "source": [
        "* 문자 시퀀스 '디스플레이'라는 문자 시퀀스 다음에는 조사나 다른 단어와 같은 다양한 경우가 있을 수 있기 때문에 브랜칭 엔트로피 값이 증가함\n",
        "\n",
        "* 이는 하나의 단어가 끝나면 그 경계 부분부터 다시 브랜칭 엔트로피 값이 증가하게 됨을 의미 \n",
        " * 이러한 값의 변화로 단어를 판단하는 것이 가능"
      ]
    },
    {
      "cell_type": "markdown",
      "metadata": {
        "id": "uSjxXqy-ICdu"
      },
      "source": [
        "### 9.3.2 L tokenizer"
      ]
    },
    {
      "cell_type": "markdown",
      "metadata": {
        "id": "nVclYEyBIm_V"
      },
      "source": [
        "띄어쓰기로 단위로 나눈 한국어 어절 토큰을 L 토큰 + R 토큰으로 나눔\n",
        "\n",
        "* 한국어의 띄어쓰기 단위로 나눈 어절 토큰은 주로 L 토큰 + R 토큰의 형식을 가질 때가 많음. \n",
        " * '공원에' -> '공원 + 에'  \n",
        " * '공부하는' -> '공부 + 하는'\n",
        " \n",
        "* 응집확률점수가 가장 높은 L 토큰을 찾아내는 것이 토큰 분리 기준"
      ]
    },
    {
      "cell_type": "code",
      "metadata": {
        "colab": {
          "base_uri": "https://localhost:8080/"
        },
        "id": "yvTH4Yp0IFgr",
        "outputId": "a25dc17d-7af8-43ea-fb2f-885a60553eac"
      },
      "source": [
        "from soynlp.tokenizer import LTokenizer\n",
        "\n",
        "scores = {word:score.cohesion_forward for word, score in word_score_table.items()}\n",
        "l_tokenizer = LTokenizer(scores=scores)\n",
        "l_tokenizer.tokenize(\"국제사회와 우리의 노력들로 범죄를 척결하자\", flatten=False)"
      ],
      "execution_count": 21,
      "outputs": [
        {
          "output_type": "execute_result",
          "data": {
            "text/plain": [
              "[('국제사회', '와'), ('우리', '의'), ('노력', '들로'), ('범죄', '를'), ('척결', '하자')]"
            ]
          },
          "metadata": {},
          "execution_count": 21
        }
      ]
    },
    {
      "cell_type": "markdown",
      "metadata": {
        "id": "ZBPundfcIG7j"
      },
      "source": [
        "### 9.3.3 MaxScoreTokenizer"
      ]
    },
    {
      "cell_type": "markdown",
      "metadata": {
        "id": "YwiqTsMvLW68"
      },
      "source": [
        "띄어쓰기가 되지 않는 문장에서 응집확률 점수가 높은 글자 시퀀스를 순차적으로 찾아내는 토크나이저"
      ]
    },
    {
      "cell_type": "code",
      "metadata": {
        "colab": {
          "base_uri": "https://localhost:8080/"
        },
        "id": "UvHQwlU6ILIz",
        "outputId": "e31d4188-111c-4ed1-fdb9-5a3cc99f964a"
      },
      "source": [
        "from soynlp.tokenizer import MaxScoreTokenizer\n",
        "\n",
        "maxscore_tokenizer = MaxScoreTokenizer(scores=scores)\n",
        "maxscore_tokenizer.tokenize(\"국제사회와우리의노력들로범죄를척결하자\")"
      ],
      "execution_count": 25,
      "outputs": [
        {
          "output_type": "execute_result",
          "data": {
            "text/plain": [
              "['국제사회', '와', '우리', '의', '노력', '들로', '범죄', '를', '척결', '하자']"
            ]
          },
          "metadata": {},
          "execution_count": 25
        }
      ]
    },
    {
      "cell_type": "markdown",
      "metadata": {
        "id": "EdN1XptXIN8A"
      },
      "source": [
        "### 9.3.4 Normalizer"
      ]
    },
    {
      "cell_type": "markdown",
      "metadata": {
        "id": "gXRn1qZWLo6K"
      },
      "source": [
        "SNS나 채팅 데이터와 같은 한국어 데이터에는 ㅋㅋ, ㅎㅎ 등 불필요하게 연속되는 경우가 많은데 ㅋㅋ, ㅋㅋㅋ, ㅋㅋㅋㅋ와 같은 경우를 모두 서로 다른 단어로 처리하는 것은 불필요하므로 하나로 정규화시킴"
      ]
    },
    {
      "cell_type": "code",
      "metadata": {
        "id": "guHjtnpJIZjY"
      },
      "source": [
        "from soynlp.normalizer import *"
      ],
      "execution_count": 26,
      "outputs": []
    },
    {
      "cell_type": "code",
      "metadata": {
        "colab": {
          "base_uri": "https://localhost:8080/"
        },
        "id": "6bgzSYRwL54q",
        "outputId": "e461e572-fea4-49c1-bc93-fe58a6eab2b4"
      },
      "source": [
        "# 이모티콘 정규화\n",
        "print(emoticon_normalize('앜ㅋㅋㅋㅋ이영화존잼쓰ㅠㅠㅠㅠㅠ', num_repeats=2))\n",
        "print(emoticon_normalize('앜ㅋㅋㅋㅋㅋㅋㅋㅋㅋ이영화존잼쓰ㅠㅠㅠㅠ', num_repeats=2))\n",
        "print(emoticon_normalize('앜ㅋㅋㅋㅋㅋㅋㅋㅋㅋㅋㅋㅋ이영화존잼쓰ㅠㅠㅠㅠㅠㅠ', num_repeats=2))\n",
        "print(emoticon_normalize('앜ㅋㅋㅋㅋㅋㅋㅋㅋㅋㅋㅋㅋㅋㅋㅋㅋㅋ이영화존잼쓰ㅠㅠㅠㅠㅠㅠㅠㅠ', num_repeats=2))"
      ],
      "execution_count": 27,
      "outputs": [
        {
          "output_type": "stream",
          "name": "stdout",
          "text": [
            "아ㅋㅋ영화존잼쓰ㅠㅠ\n",
            "아ㅋㅋ영화존잼쓰ㅠㅠ\n",
            "아ㅋㅋ영화존잼쓰ㅠㅠ\n",
            "아ㅋㅋ영화존잼쓰ㅠㅠ\n"
          ]
        }
      ]
    },
    {
      "cell_type": "code",
      "metadata": {
        "colab": {
          "base_uri": "https://localhost:8080/"
        },
        "id": "9nNiJqXnL9Os",
        "outputId": "c83cf569-1ca0-420b-b36a-28abc97ea5f2"
      },
      "source": [
        "# 의미없는 반복 정규화\n",
        "print(repeat_normalize('와하하하하하하하하하핫', num_repeats=2))\n",
        "print(repeat_normalize('와하하하하하하핫', num_repeats=2))\n",
        "print(repeat_normalize('와하하하하핫', num_repeats=2))"
      ],
      "execution_count": 28,
      "outputs": [
        {
          "output_type": "stream",
          "name": "stdout",
          "text": [
            "와하하핫\n",
            "와하하핫\n",
            "와하하핫\n"
          ]
        }
      ]
    },
    {
      "cell_type": "markdown",
      "metadata": {
        "id": "SnjF00jMaYOK"
      },
      "source": [
        "## 9.4 Customized KoNLPy"
      ]
    },
    {
      "cell_type": "markdown",
      "metadata": {
        "id": "snIzzQ4rahP0"
      },
      "source": [
        "* 형태소 분석기에 사용자 사전을 추가해주는 패키지"
      ]
    },
    {
      "cell_type": "code",
      "metadata": {
        "id": "Oje8DgbEaZfu"
      },
      "source": [
        "pip install customized_konlpy"
      ],
      "execution_count": null,
      "outputs": []
    },
    {
      "cell_type": "code",
      "metadata": {
        "id": "Hj8p_rktaqLU"
      },
      "source": [
        "from ckonlpy.tag import Twitter\n",
        "twitter = Twitter()"
      ],
      "execution_count": null,
      "outputs": []
    },
    {
      "cell_type": "code",
      "metadata": {
        "colab": {
          "base_uri": "https://localhost:8080/"
        },
        "id": "WaWCwo-xdBUR",
        "outputId": "32f5188c-ebc6-47f1-e031-8b1639d8351a"
      },
      "source": [
        "twitter.morphs('은경이는 사무실로 갔습니다.')"
      ],
      "execution_count": null,
      "outputs": [
        {
          "output_type": "execute_result",
          "data": {
            "text/plain": [
              "['은', '경이', '는', '사무실', '로', '갔습니다', '.']"
            ]
          },
          "metadata": {},
          "execution_count": 54
        }
      ]
    },
    {
      "cell_type": "markdown",
      "metadata": {
        "id": "MLkzvHfCdLvW"
      },
      "source": [
        "* '은경이'는 사람이름이므로 분리하면 안되고, 최소한 '은경' 또는 '은경이'라는 단어 토큰을 얻어야 함"
      ]
    },
    {
      "cell_type": "code",
      "metadata": {
        "id": "jcCOnZtmcvYa"
      },
      "source": [
        "twitter.add_dictionary('은경이', 'Noun')"
      ],
      "execution_count": null,
      "outputs": []
    },
    {
      "cell_type": "markdown",
      "metadata": {
        "id": "lGmvUssLc1NB"
      },
      "source": [
        "* 형태소 분석기 Twitter에 add_dictionary('단어', '품사')와 같은 형식으로 사용자 사전 추가"
      ]
    },
    {
      "cell_type": "code",
      "metadata": {
        "colab": {
          "base_uri": "https://localhost:8080/"
        },
        "id": "ktVPysIEcxpE",
        "outputId": "01e29af6-9ae4-490d-9f42-ede057e68a97"
      },
      "source": [
        "twitter.morphs('은경이는 사무실로 갔습니다.')"
      ],
      "execution_count": null,
      "outputs": [
        {
          "output_type": "execute_result",
          "data": {
            "text/plain": [
              "['은경이', '는', '사무실', '로', '갔습니다', '.']"
            ]
          },
          "metadata": {},
          "execution_count": 52
        }
      ]
    }
  ]
}