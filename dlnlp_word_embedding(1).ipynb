{
  "nbformat": 4,
  "nbformat_minor": 0,
  "metadata": {
    "colab": {
      "name": "dlnlp_word_embedding(1).ipynb",
      "provenance": [],
      "collapsed_sections": [],
      "authorship_tag": "ABX9TyPE1Yo8q9asZOg/42xUpAOO",
      "include_colab_link": true
    },
    "kernelspec": {
      "name": "python3",
      "display_name": "Python 3"
    },
    "language_info": {
      "name": "python"
    }
  },
  "cells": [
    {
      "cell_type": "markdown",
      "metadata": {
        "id": "view-in-github",
        "colab_type": "text"
      },
      "source": [
        "<a href=\"https://colab.research.google.com/github/injoon-pij/dlnlp-learning/blob/main/dlnlp_word_embedding(1).ipynb\" target=\"_parent\"><img src=\"https://colab.research.google.com/assets/colab-badge.svg\" alt=\"Open In Colab\"/></a>"
      ]
    },
    {
      "cell_type": "markdown",
      "metadata": {
        "id": "G2Ful6Fuir2g"
      },
      "source": [
        "# 1) Word2Vec"
      ]
    },
    {
      "cell_type": "markdown",
      "metadata": {
        "id": "aos6pvNAjQHw"
      },
      "source": [
        "https://github.com/injoon-pij/pytorch-learning/blob/master/pytorch_word_embedding.ipynb\n",
        "\n",
        "위 링크의 __2) Word2Vec__ 참고"
      ]
    },
    {
      "cell_type": "markdown",
      "metadata": {
        "id": "o5rK_hSFjbG-"
      },
      "source": [
        "## 1.1 NNLM vs. Word2Vec"
      ]
    },
    {
      "cell_type": "markdown",
      "metadata": {
        "id": "jYkARpGZjhj-"
      },
      "source": [
        "![image.png](data:image/png;base64,iVBORw0KGgoAAAANSUhEUgAAAeUAAADSCAYAAAB0ONjDAAAgAElEQVR4Ae2dX8h96VXf5yIXvciFF17MhRcDv0AlFFFwIBcBCxV/Uiy0kAtBwTCo8ScpozA4SCRTKtL+YmSglorGWkLE34DIwKRUQpum4SdOIBiDQYbY/IgloaEJmEgICbblyOe8833f9T7vPs/e5+xnP2fts78P7Hfv/fxZaz3ftdbzffefc85TOxcjYASMQCIEXnrppUTW2BQj0BeBp/qqszYjYASMgBEwAkbgEAIm5UPIuD41Ak898+5dxi01aDZukwhkzBNschlGYLOk/ODBg91TTz21e/LkyTAyrk2NQMakzmhTaiceMM63rw8Ac2J1xrjMaNOJ8DYf1pyUHz16tCc7CI/t/v37k40WUU4eUOk4JkvtJuUKiImbMib1IZsePny4I97KQj2by20EWDdc2iFwKC7baTheUs2mredL0+gHTBLq8ePH1166d+/ejm1KEVFO6TvWZ0yW2k3KY0jmbK8l9bksrtk0RDRT8+Jc8zmX3iGszmXLJeitxeW55jdm01AMbCVfmpEy5AaQ5X/+EDT1XEGXfXQOQYok6Ss5IvnYxjElyo3n+i9LciSrDD7JFClLHv3l/His8dTp6p9+nLNp3rpTEPca6307BMaSup2m6ZJqNhFvxIQK8aZYVp33VwiQTy7tEKjFZTstx0kas2nL+dIs+kVCLDZlIckAWSQsAtO5Fif2MSEjKSNTOtiLRLXQ6VyyS1mlTWrHBjYRbbRJ+qmjSAd7+ou8ZRf1OhZhy75Sv8/nITCW1POknza6ZpNiRpKJP+pc7iLgZ8p3MZlTU4vLOXLnjB2zacv50oyUSwKLDoOgIDERnohT5yxQFBGlxg7JFMHjNI5FejqX7FKWZGqvdhGu6tkfspcxtMlu6YrnImX6uiyHwFhSL6f5sOQxmxQ7xAvHLkagBwJjcdnDhlLHFJu2mi/NSFlkNPTfv4g0khdO0rkITEQpB/YkZWyMm66c4xUxQYJN+gcg9tccazhoXt7PR2BKUs/XcpyEMZuIHW36Z/I4De5tBI5HYCwuj5c4f8QUm5Qr7LeUL81IWQQLgLGIwAC17KPzqaQc+0e56NO59JcEH23iWO3IjMe0Qb4iZZGs9rTLjqFAUT/scVkOgSlJvZz2YcljNhE3xBaby2EEfPv6MDantIzF5Sky546ZYtNW86UZKeMkkVskpEhw9OGKsiQ8xlEgVNpxRjwX0aod+SLGcmzZV7L2AsMf2Uq7jmkWuctG6rCJeUgXdeXiShuyTMoB5AUPpyT1guoHRU+xibiKcTQoaOOV5JtLOwSmxGU7bdMkTbVpi/nSPPpFnCQWW7kAibRoA/DYR0RLHXIkCwKkji1enaqdesmijlLKKkMFuxhHv9gXOeU/Euob/9lAnmyKdml+Zd9Sv8/nITA1qedpOW50RpuOm0GO3uSTSzsEMsZlRpvaIT5PUuroF+lCmucs2AFRu+RBIGNSZ7Qpj8emW2JSno7VlJ4Z4zKjTVOw7NHHpDwB5XglPKG7u3RAgKTOuHWY+sWr8DPlti7OmCcm5cM+NikfxmZ/dQwhl7fgK0PctCIEPvrxz+7ecu+53Yde+eSKrLapRqA/As6VfpinJuV+MFjT1hD43Oe/vHvr29+zv9qGmD/x+htbg8DzNQKTEHCuTIKpWSeTcjMoLWgtCHzlq9/YPfPOF27d/n762ed3X/zS19YyhYu207ev87jXudLfFybl/phb45kR4FbcSy+/ut94tqXjR6996syWWT0I+EWvPHHgXOnvC5Nyf8ytMRECfuEkkTPeNMWknM8nWORc6eMXk3IfnK0lKQJeaPI5xqSczydY5Fzp4xeTch+crSUpAl5o8jnGz5Tz+QSLnCt9/GJS7oOztSRFwAtNUsfYrHQIOFf6uMSk3Adna0mKgBeapI6xWekQcK70cYlJuQ/O1pIUAS80+Rzj29f5fIJFzpU+fjEp98HZWpIi4IUmn2P8olc+n2CRc6WPX0zKfXC2lqQIeKHJ5xiTcj6fYJFzpY9fTMp9cLaWpAh4ocnnGJNyPp9gkXOlj19Myn1wtpakCHihyecYP1PO5xMscq708YtJuQ/O1pIUAS80SR1js9Ih4Fzp4xKTch+crSUpAl5okjrGZqVDwLnSxyUm5T44W0tSBLzQ5HOMb1/n8wkWOVf6+MWk3Adna0mKgBeafI7xi175fIJFzpU+fjEp98HZWpIi4IUmn2NMyvl8gkXOlT5+MSn3wdlakiLghSafY0zK+XyCRc6VPn4xKffB2VqSIuCFJp9j/Ew5n0+wyLnSxy8m5T44W0tSBLzQJHWMzUqHgHOlj0tMyn1wtpakCHihSeoYm5UOAedKH5eYlPvgbC1JEfBCk88xvn2dzydY5Fzp4xeTch+crSUpAl5o8jnGL3rl8wkWOVf6+MWk3Adna0mKgBeafI4xKefzCRY5V/r4xaTcB2drSYqAF5p8jjEp5/MJFjlX+vjFpNwHZ2tJioAXmnyO8TPlfD7BIudKH7+YlPvgbC1JEfBCk9QxNisdAs6VPi4xKffB2VqSIuCFJqljbFY6BJwrfVxiUu6Ds7UkRcALTT7H+PZ1Pp9gkXOlj19Myn1wtpakCHihyecYv+iVzydY5Fzp4xeTch+crSUpAl5o8jnGpJzPJ1jkXOnjF5NyH5ytJSkCXmjyOcaknM8nWORc6eMXk3IfnK0lKQJeaPI5xs+U8/kEi5wrffxiUu6Ds7UkRcALTVLH2Kx0CDhX+rjEpNwHZ2tpiACLQ9at4TQtygikQsCk3Mcd3Uj58ePHO54VPXz4cHBm9+7d292/f3+wjTGMffLkyWD7KZXoY3NZHwJZF4esdq3Nw759ndNjju8+fmlGypBmSaoiUwjZpNzHoVvQknVxGLPr0aNHuwcPHmzBRbPm6Be9ZsG32OCx+F5M8cYEdyPlMVx9pTyGkNuFQNbFYcwuk7I8WN+blOv4nKt1LL7PZdel6e1GyuWVMreiST42rqhLUuaqmzbqdcWt29csbhrLXkUy2KtdY9RHe/qwqXAFozHok73xykZ1tEf7GUcbBbuRK5sl3/t2CGRdHMbsMilPi4GY09NGuFcPBMbiu4cNW9Bxw2gzZ0siHXP7GuJSfxFYeQ7xRfLjWMTIAkeJcjjGjjgukmqcIn3ZKOiXPNmCHhGsxqmNc/RItgideo2hnc2lPQJZF4cxu0TKilPHx3Bs+JnyMC7nrh2L73Pbdyn6m7GGSGhoD8GJTCE2HYsIAZOFSqQcj2kTGUK2kQBpi+fluPI8Oo02trJE27CP+VBHoT/6yvp4zhzimFK+z+cjkHVxGLNLcUIcU4glYtvFCKwBgbH4XsMc1mBjU1IWqWriIlNITWRHnRYnkR39I4FCaixYKpLDYibSK8mftihDMoeIt2yTPVEmdRTZgnyOsVn2xP4cMwb7DuncC/Sf2QhkXRzG7CI+YlwTS/F8NjAWYAQWRGAsvhdUvSnRZyVlER+IR0KF4CLBiwQhRhaxQ6QXZUhmra/aoj798yDbpA8bZBNtjMGespiUS0Tan2ddHMbsGiJlxVR7lNYr0bevc/puLL5zWr0+q85CysAUiVAkpwUKIoykx7HO1Zc9RUTN8RxS1hWLdEu+SBrZqtNVs8agW7ablPduWfRP1sVhzC7iJ8YMsaW4WRSwlQkn113yITAW3/ksXqdFzaKfRCoXGF3hsviI3Kij6JxxEN4QodImuex1ZSq5Givoh2RQN1Skk7YoryRl2umLrlii/dE2k3JEaZnjrIvDmF0m5WnxUObatFHutTQCY/G9tP6tyL/NNFuZ9ZHzhGjjFc6Rw929MQJZF4cxu0zK0wLBpDwNp969xuK7tz2Xqs+kPOJZXRHrKn2ku5s7IJB1cchqVweXNFXhZ8pN4WwmzPHdDMqqIJPyAXj03Jj/2vUs+UBXV3dGgMUh69YZCqszAt0QMCn3gdqk3Adna0mIwEc//tndW+49t/vQK59MaJ1NMgK5EDAp9/GHSbkPztaSDIHPff7Lu7e+/T37K26I+ROvv5HMwu2a49vXOX1vUu7jF5NyH5ytJRECX/nqN3bPvPOFW7fAn372+d0Xv/S1RFZu1xS/6JXT9yblPn4xKffB2VoSIcBt65defnW/sdDo+NFrn0pk5XZNMSnn9L1JuY9fTMp9cLaWpAh4ocnnGJNyPp9gkXOlj19Myn1wtpakCHihyecYP1PO5xMscq708YtJuQ/O1pIUAS80SR1js9Ih4Fzp4xKTch+crSUpAl5okjrGZqVDwLnSxyUm5T44W0tSBLzQ5HOMb1/n8wkWOVf6+MWk3Adna0mKgBeafI7xi175fIJFzpU+fjEp98HZWpIi4IUmn2NMyvl8gkXOlT5+MSn3wdlakiLghSafY0zK+XyCRc6VPn4xKffB2VqSIuCFJp9j/Ew5n0+wyLnSxy8m5T44W0tSBLzQJHWMzUqHgHOlj0tMyn1wtpakCHihSeoYm5UOAedKH5eYlPvgbC1JEfBCk88xvn2dzydY5Fzp4xeTch+crSUpAl5o8jnGL3rl8wkWOVf6+MWk3Adna0mKgBeafI4xKefzCRY5V/r4xaTcB2drSYqAF5p8jjEp5/MJFjlX+vjFpNwHZ2tJioAXmnyO8TPlfD7BIudKH7+YlPvgbC1JEfBCk9QxNisdAs6VPi4xKffB2VqSIuCFJqljbFY6BJwrfVxiUu6Ds7UkRcALTT7H+PZ1Pp9gkXOlj19Myn1wtpakCHihyecYv+iVzydY5Fzp4xeTch+crSUpAl5o8jnGpJzPJ1jkXOnjF5NyH5ytJSkCXmjyOcaknM8nWORc6eMXk3IfnK0lKQJeaPI5xs+U8/kEi5wrffxiUu6Ds7UkRcALTVLH2Kx0CDhX+rjEpNwHZ2tJioAXmqSOsVnpEHCu9HGJSbkPztaSFAEvNPkc49vX+XyCRc6VPn4xKffB2VqSIuCFJp9j/KJXPp9gkXOlj19Myn1wtpakCHihyecYk3I+n2CRc6WPX0zKfXC2lqQIeKHJ5xiTcj6fYJFzpY9fTMp9cLaWpAh4ocnnGD9TzucTLHKu9PGLSbkPztaSFAEvNEkdY7PSIeBc6eMSk3IfnK0lIEByexvGIMDkQyPgPKmsFZcaHouQ8uPHj3c8F3r48GET3B48eLCX9+TJkybyJAQb79+/r1PvOyHg/7iHgTYuV7j49vVNfDgmbrCIR5eMyzUpQ3iQVNzu3bsXcZh8PJeURcJSqHOTshBZ9/6SE2qOZ4zLFXqsQS5vYvHMuw3FAAKXnCvX0S9ShgAp5fkALotViYQXU/CmYF8pL43wsPxLTqjhGU+rNS5XOJmUb+LFMXGDRTy6ZFwOkjIAcKWs27skCmTJueq4PU29Nq6QKbpSfvTo0TWO6sM+1kcZHIuQ1T/W6UpZ8mMfKaKulKG2ck9fzYU2jiUTG9k4xwYV1bEv7ZB9wg07Tr3bIH2XuL/khJrjr6m4KCZjrM7RG8cSw8RszCHaqUNfj3hGj8sVAlNjYmt4TcGF9TzyCzHdspALUT58EPNGfHCszuvoRwDJIMPLcyUkeyYrcsIQioxjnMiKPhSMF/nFfjqOMuivie0Hh3Nkyy7GUkpd2McW29R3Xxn+aC5UoVN2SD+6ou3qR11pB/OjnsKeDfmq2zf4zx6BKQm1Raim4kJcKaaJ2VqMle2K6UP4Kq6Vu8oF5YZy/9D4FvV+pnyD4tSYuBmxjaMpuBCr4h1QIW+I70OFPFKc04ex8bwcR3/ygyI+VF6yV1s5buz8DiljuLYoVHUSiMFxMVAyYwwToT+GxmPGxnPGR9AkWwtBeY4O5CM7ghvl0FbaHc8lkz19h/QLYGwt9TGGurI+nmNPaWPUu/XjKQm1RYym4kJsxRLzMNbrmDimDzkz1rfsw9iYI+QGse7SB4GpMdHHmjxapuBC3BK/KvBAPFd93JMfivkpfSMPxbykPuZN1DF2fJ3dCEFojcBiG8ZHpRpPwjIZZJHAIjjO4yYSizJlLHX0VdE5OnSsNvbRFsZFmZxHO+O42CZ7qNPGPIbmFe1QX+0ZE+2J+nx8hcCUhNoiVlNxIdZiId6IyVpRXNb60IYc5KkwLuYP+RzzS/28XwaBqTGxjPa8UqfgQtwSvyrELfE7Voj/OO5Q/zLvYl6WeXRIxlD9dXYjBKGHEq5sY8IxeTW+JGUmx9ihSTI+JrwMxIY4QZ2jQ+TJsUqUU9rJ+ZAOxqpNtmvu+kdCNjOejXb1kR2yIe6jPbHex1cITEmoLWI1FZeYG+BEvMV8KLEjjtWnHFv2RQ59VRgb86cHKfv2tdD3t2jdIHH7aEquELdawxnN2j1GysS+Yn5K35h3MbfKPLptff3sZFIuiUskhTFMCgM1KY5jYusYkGgTcCXhacLqxzkbY9BHGdIlObSXuiMcaitlYl+0S3OVw6Je2UGd5kU/HUd9Pr5CYEpCbRGrqbgQm7EQb8qVWM8x+UG7Cv3iueq1L9sZH2OZXIj5pXEt9+X8Wspem6ypMbG2ec21dwouxK24BX3ErThpSD95EfuX48sxZd7FuC3zqBxbO7/OboQg9FDCDbWJiGljQwaFiXEuACRb/eLE0af6of7oUJ9SfjkO3dTFOXAeF5UIRmyTDo1nH+3kvFzMsJd6bZJNv0M61WfL+ykJtUV8puJCvMVSLg6x7dhjcizGOTkQY5mYj/l1rPwp/cv5TRlzqX2mxsSlzv/QvKbgUpIqcSuOOST3mPoy72Lclnl0jNzb2X3MyErfkpQrXVfThAPiVfFqDE9o6JSESmj24iYZlyuI4+K2OOjJFTgmhh10ybgsQsq6gtaV7TCs66nVFfF6LM5t6SUn1BzkjcsVen6mfBNFjokbLOLRJePSnJT5L5et5W2C6Iyex7riZz7xVnZPGy5RFwnlbRiDS/S353Q6As6T4TwxKZ8eUx5pBLoh8H//3//fvevBv79F+N/7T375Wv/X/uabu5/8hd/et//hf/n0db0O/tGPvG/3th/6pd0nXn9DVbsPvfLJW/Le+vb37B5/+q+u231gBNaIgHMlr9eaXynnnaot2wIC5WLzwz/xgR11v/X7/333Xd/389cE+2PPvXwLjtc/84XrNv4L/+kXf2/39b/91u6P/8dfXNebkG9BttiJb18vBu0twc6VW3CkOTEpp3GFDWmBAFfD73zXr+2veCHXd7/wu7svfeVvdr/ywT/afc87fvGaYN9y77l9vXTSL94qRMaj1z61+9znv7yvh5Ah9aErbMnwvg0CftGrDY5jUpwrYwidp92kfB7crXUBBL7y1W/suF390suv7r79nb/bkzPHKtRBru99/0d2Tz/7/O7f/If/vG/iivgf/MOf2fdnPFfVKrTpCpnb1iZmIbPc3qS8HLaS7FwREvn2JuV8PrFFJyCgRebl//ix69Hf/NZ3dp/+iy9en7/6sT/bcTubwq07roIpjOVqmsIz5H/+s/9uf6w/8RmyiVmoLLc3KS+HLZKdK8viO1e6SXkugh5/dgTe+ML/3t+ujoQ8ZBQvgf2nP7z5LtyhPtzS46oZQj9UTMyHkGlT72fKbXAckuJcGUIlV51JOZc/bM2RCLDI8Kx47FkvJMut5xrZSjXPkz/y6p/qdHBvYh6ExZWJEXCuJHZOMM2kHMDw4boQ4PbzFEJmVpBseVv60Gy54uaqeqxwa3yq/jFZbjcCSyLgXFkS3bayTcpt8bS0TghwpcrLWjwnnlJ4ljx2NS05PF/m5S5eDBsrU68+xuS4/QYB376+waLFkXOlBYr9ZJiU+2FtTY0Q0CLDfkrhOTG3rqeQrORxC3sq4ZuYhVqbvV/0aoMjUpwr7bDsJcmk3Atp62mCwEc//tn9FfJUQkYpH3Him7yOKdzCPmaMifkYdOt9Tcp1fKa2OlemIpWrn0k5lz9sTQUBbj/zDFcfZap0vdXEVS/fzHVM+eKXvjb5FrbkipjHXhJTf++HETApD+NyTK1z5Ri0cvU1Kefyh605gIAWGYjvmMLz4e/+gffuP5d8zDj6fv8/ff+Oq41jCvbxrHvs41nHyNxaXz9Tnudx58o8/M492qR8bg9Y/ygCENwz73xhdywhI/jXf+ePdz/3vg+P6hjq8Ku/+dr+O7CH2mp1JuYaOm5bEgHnypLo9pFtUu6Ds7WciACLDF99ybcQnVK42j3m+XPU8T//+v+cfJVtYo5I+rgHAs6VHigvr8OkvDzG1nAiAnxv9RxChlR5Bj2nQOr/9U/+8iQRJuaTYNv59vXxuDlXjscs6wiTclbPbNyuX/jXf7D/gQg+znRqYaF64ddeOXX4ftypt7Cl1MQsJKbv/aLXdKzo6Vw5Dq/svU3K2T20Qfu0yEz5SswaPG/7oV/a/flf/q9al9E2SJUXxeYUZGALtxddxhEwKY9jpB7OFSFxOXuT8uX4cvUz4Zebfvxf/tb+l5zmEjJkDBG2KMg59bm09A/9Mo/avL+NgEn5Nh5DZ86VIVQuo86kfBl+XP0sWGT4vmk2jucWriDibynPkfcrH/yj/S3COTIYa2KehqCfKddxcq7U8Vl7q0l57R68APu5KubHIloRMpDwghcverUoXHXPfWFMdpiYhYT3pyDgXDkFtXWNMSmvy18XZy2LDN+4xWeJW1whAxC3mnlrumVpcQtb9piYhYT3xyDgXDkGrfX2NSmv13ert1yLDLeaW5affvH39l8a0lImt7Dnvskd7RExt5571LHWY9++vus558ovN3mEdBfZfDUm5Xw+2YRFkBJXsy2JDuC42uZtab5es2V5/TNfaPbimOwyMQuJ23u/6HUbD+fKzfsYW/gn1qR8O/591gEBkdESHxHihye4Hb5E4bny3I9YlXYJiy0sNuXcD52blG+QUXw4V7ZDzCblm/j3UQcE+PUlvqVriUUG8/m5xQ+98slFZgJxchu7ddHCa2K+QtakfIWDc+Vupm0hV0zKd/3umoUQ4Es0uNpcijS//Z2/233X9/38bs63gNWmzgtkrT77XOrZwmJTzvnQuZ8p7/Y/vuJcGY6QS88Vk/Kw313bGAERMj8rt1RB9o/+1G8sJX4vl4Xy2N9znmoQiw3P2X3FPBWxy+znXBn36yXnikl53P/uMRMBrjAhsyUJGRP5rPNHXv3TmdbWh0OYfB/2UmWpt2yXstdy2yLgXJmO56Xmikl5egy45wkIsMg8/ezzs7+mckw1Ccqta/ZLFn4xqvVnoEt7L3WxKed56Hyrt6+dK4ci4nD9JeaKSfmwv90yE4FPvP5GF0LGTJ5T841gSxd95KrVt4UdsvcSF5tDcy3rt/iil3OljILp55eWKybl6b53zyMQ4FY1t6z5779H+eGf+MDu1Y/9WQ9VO76cZMlb2JrEpS02mtfYfmuk7FwZi4jx9kvKFZPyuL/d40gEtMjwwkqPwtvW3Lrm7esehVvYP/jP/lUPVfvb8Xzuml/PavU1pF0Mn6FkS6TsXJkRKMVQEfPac8WkXDjWp/MQ4DYyV8i9CBlr+cwzV6+9im5ht/7WsEP2a7Fp+YMdh3RlqN/KM2XnSvtou4RcMSm3j4vNSoQc+WKQXmQloLmS5Oq1Z+GfgKW+AGVoHpew2AzNa6t1zpXlPL/2XDEpLxcbm5KsRYbPD/Ys/APAd133vrXL8+ulvs7zEH5rX2wOzWtr9c6V5T2+5lwxKS8fHxevgc/u8jGh3oQMsLxwdY4v2+D59Vvf/p7udwXWvNhMTYRLvn3tXJkaBfP7rTVXTMrzfb9pCSwyXDGSAOco/DPQ6w3vcn58z/Zvfvi/ldWLn691sZkKzKW+6OVcca5MyQGT8hSU3OcOAtwu/rn3ffishMzXXfJS2bkKt7D5KNY5Cvjz4tclvvx1aaTsXNntP67oXJm2UpiUp+HkXgGBSAjnukLGHH6xaYlfbQpTrR4u/QMYVeVv/nb0JRLzJZGyc+Uqip0rY9l8025SvsHCRxMQiIsMx+cs/GJT6983PnY+fCZyqV+9mmJLJn9MsXdKn0t5ppzJN86V3f5l0DX8E2tSnrJKuM8eAa6K//GP/9sUX2Tx+me+sP/41bldww9gnOu2nOaeafGXTVvfO1fuRoBz5S4mQzUm5SFUXHcHAb1cdI43ne8Ys9vt37ju8VWXQ7pjHbjwFvbX//Zbsbr7sYiZn67EJpfzIeBcGcbeuTKMS1lrUi4R8fkdBPioE29YZyFkDOQFr6V/FOIOEAcqevxk5AHVt6pFzOd8G/6WQSeerPn2tXOl7nTnSh0fWk3K4xhtugeLDN/SleGqVI7g27ve8S9+Vadn33NbjsUmQ7kEYl7ri17OlfEMcK6MY2RSHsdosz20yPT8OskpYPf+issxm7gt1+O3nMfsUPvaiXmNpOxcUfTV986VOj60mpTHMdpkD35Qgjc2sxEyhMPXavb+fu2xIPix517ecRWQpayZmNdGys6V46LeuVLHy6Rcx2eTrSwyPLPlZ+WylXN+YUcNCz4WxcctMpW1EvOanik7V46PeOdKHTOTch2fzbXyud+shIwz+GrLc34u+FBA9P5N50N2lPUQ83vf/5GzfvNaadOlnDtXTvOkc6WOm0m5js+mWvkO6aeffX730Y9/NuW89TyKpM5Y+LwyV/IZy7m/dzkjJnNscq7MQW+3/2y/c2UYQ5PyMC6bq9Uic64fd5gCeKY3N4fs5QqeK/msZS3EnP32tXNlfoQ7Vw5jaFI+jM1mWviPlSvkzISMM7J8xvFQYGS9LRftXQMxZ37Ry7kSo+n0Y+fKYexMyoex2UQLL3PxDJkXVjIXJTG3sDMXvoY06+1/4SZi5mM8GUtWUnautI0W58owniblYVw2UfvotU+tgpBxRvbbXQoYPkLG56izF4iZL4XJSMwZSdm50j6inSvDmJqUh3G5+FoSgs8hZ79CliMyv0QlG9nz+Wk+R81bz9lLVmLO9kzZubJMJDtXhnE1KQ/jctG1LDJZr5KGgCd5eQvCRycAAAyJSURBVObNb7KuofDd03wV6BpKVmLOgp1zZVlPOFfu4mtSvovJRde89PKrqyJknMHCuIZbwgqctdlrYpbnbu+dK7fxWOLMuXIXVZPyXUwutoZFhv9Mz/0zg8cCzI9PrOXKk7npttyx8zxnfxFzhrsRGW5fO1f6RKNz5S7OmyPlR48e7XiRhP0aylPPvHuXdavhl9Vm7DpUbHPbWDuE81j9qS96rdF/YLFGu23zcrnSlZTv3bu3Y1uyPHz4cE+6T548GVSzRlIenMiZK0nKWhlrr41dsq1mV61tSZvGZNfsqrWNyV2yfY5dc0h5yTmdKnsMi7H2U/XOHVezq9Y2V++c8TW7am1zdM4dW9plUp6L6MLjS4ctrG6y+DG7xtonK2rcsWZXra2xGUeJq9lVaztKSePOc+wyKTd2xoniaj6stZ2orsmwml21tibKTxRS2nU2UtYV64MHD/ZXtiQix5THjx/v62KbrrC5AqYvV8QUndNXV8m0R3n7jm/+kV7dvtZ4jaHb/fv39+Pj1bbqaI92UU+RzZIv+/aNM/6UDpshqunQMbvG2psac4Swml21tiNUNO9as6vW1tyQIwTOsevUZ8pzdB4xtaO7jtk11n60wkYDanbV2hqpP0lMza5a20nKGg0q7UpBysxNRAcRiuBKIqaPSFSkp3PaKCLmSKgRO5GmSFk66AMxQ7LSrz5qQ3aUL93UaQzykENdi1I6rIXMFjLG7Bprb2HDKTJqdtXaTtHVakzNrlpbK/2nyDmHXefQOQWbMbvG2qfoWKJPza5a2xK2TJVZs6vWNlX+Ev1Ku85OypAZRWTJuQgukiJkCeFFImSczk8l5QiydFCHLl0FyzZ0xfrYTzZrTJQ757h02BxZLceO2TXW3tKWY2TV7Kq1HaOjdd+aXbW21nYcI+8cdp1D5xRMxuwaa5+iY4k+NbtqbUvYMlVmza5a21T5S/Qr7UpHyhCgCK4HKevKVrevOafEK2IIX2SrfnHPmCGbWziwdFgLmS1kjNk11t7ChlNk1OyqtZ2iq9WYml21tlb6T5Ezxy7fvj4F8fZjaj6stbW3ZLrEml21tuka2vcs7VoNKUN8bLoy1u1hnZ9ypSzihVAp8UpZcnWVrD7YIF3RPSbliMbVxzxu1+Q4KxMgWlVri/16H9fsqrX1tjPqm2MX//CeUuboPEXf1DFjdo21T9XTul/NrlpbazuOkVezq9Z2jI7WfUu7Tov+E60SsTK8JDudsxfB6epU5yJiklZtGiei1LlItDRV7exFyhCwSBgbVUTSsQ496Kc/BTlsspHjlqV0WEvZc2SN2TXWPkf3nLE1u2ptc3TOHVuzq9Y2V++c8XPsMinPQb7d2JoPa23tLDheUs2uWtvxmtqNKO1KTcqQIQnKJtIFCohP9RBn2a62OEYQaqzIU33RJRIu++qfAdVLZ9RrUhY6V/sy0G63nu+sZlet7XwW1+86rNHmMSzJq1PKWrFYo922+ZQIHR5TYnla9A/Lbla7FMEda6Ds0FXxseNb9C8d1kJmCxljdo21t7DhFBk1u2ptp+hqNaZmV62tlf5T5Myxy8+UT0G8/ZiaD2tt7S2ZLrFmV61tuob2PUu7TMoVjLkiHrrargxp3lQ6rLmCEwWO2TXWfqLa2cNqdtXaZiueIaBmV61thsrZQ89h1zl0TgFqzK6x9ik6luhTs6vWtoQtU2XW7Kq1TZW/RL/SLpPyAMp6bhyfJQ9061KFw7JuNQCy2lwmQJyDbW4baxHbHsdr9B+4rNFu27xcrqQk5R4JbB1GwAjkRODU29c5Z2OrjMBxCJiUj8PLvY2AEVgYgVNf9FrYLIs3Al0QMCl3gdlKjIARmIqASXkqUu53iQiYlC/Rq56TEVgxAiblFTvPps9GwKQ8G0ILMAJGoCUCfqbcEk3LWhsCJuW1ecz2GgEjYASMwMUiYFK+WNd6YkbACBgBI7A2BEzKa/OY7TUCF46Ab19fuIM9vSoCJuUqPG40AkagNwJ+0as34taXCQGTciZv2BYjYAT2PzBjGIzAVhEwKW/V8563EUiKgK+UkzrGZnVBwKTcBWYrMQJGYCoCfqY8FSn3u0QETMqX6NWVzokfAtHvXA9NQb+Ffe5f7ipt46c9M/x4SWmXz43AIQQcs4eQOX+9Sfn8PliVBfoFLW4xsvHzlq3KGClnva05tsCB0ZDtELl+q1u46lyYMpbf9aY8fPhwv6lNe/oc+qdA/8ior/d5EcC/5T+cQ3X0oX5OKWNW8Rdzeki3dMbYVd3UPToU5+w516Z56bfsVT+0ziiv1Cf+Q499yhvZNVTH2BdffPEO7hpzjr1J+Ryor1gnyRuDv+VUxmSTQBlLucCVNrJ4sGnBUXtc2Jg7fdjHQp0WF8aXMuhLH2QN+YV6tjWVrd6+HoojfMsWS4ybWH/McdTFcYwr9CmWhnKOeCxtmqqbceijoKOUr/gvdUSbGAsG0eayrswVzTeOiTrQqzzbG3fGPzlXuTMCYtV1BAheJWzZk0QhydiUePRR8lGvpNNY9VfbkGxkxX7qQ4KpPhIP7eihTskc9XIckzOOlTz2Kkpw6iQn6pYu9S/32EDCMz7igl6dIwO7qYuLg8YiU3YMyaeNvrFEHGJ99uOIfXZbW9sXYwLZ+JRNccI+xitxA15s0f/R96qfGrOMpS9FcRnnGeuwRfplI32RoXrJIq4Zq0L7oUJf2U0fZEgO+ygnypDMcrzmdEhmaVuU2fv4MCq9LbG+VSAQEzIaTL2ShgDXwkGiKlHoT1KQIOWx+qktytZxlEO/MsF0Tht94yIhe5CFrepLHx3HRI/zYV5Rd5yf5EX5sld75DMGu6IOxshG6mmnn+xhvMZyjB3CWLJjH+QxXkVjo+1qy7xfm70tsVQcIBNf4m/igo0SY4i2GE8c65x+MQeQFWOUfvE8zoE26SvjkX7yD/0Uj1E+x+ojm9nTlzbVydZ9RfGn1BtzRXFdDNmfxrZoA7pirtM59tX5kMzedSbl3oivXB/BTbBrU1KWCU7AkwS0K8GZOsmmBCnHUB/7llDFJCsTir6ShwxkxSJ7ZBPnFPpqDrF/lEF77FPaiUzpjjJ0HG2Nx4xhLCXKjMexf2lHKZ92zTsuahE3jcm8X5u9LbGMfsOXnBMjitcYGzF+ZIPiMMYvbXEc54dilnHSFWUqTqNc6VI/xtGv1FW2c46cmFPqoz3z1hrDHpkq0qPzuKcfYynRDtmKTnRTyjiryd0P6PTHpNwJ6EtREwNdcyIRYwLpmOSgv861J/hpYx/LkOzYzniVQwsStsSFQ/2VjLShm3PZx55SzgN7KPRlU5H9Omeckl51cR/7x75xDuXcNdc4trRDOmIfxqEjypMs9c++3+ozZflF/ooxpeMYM+qncexVV+ZAjBH6xTjUePoo5lXHPsad5DAeXeWmvFZORTmMZRyltC/241hyVE9/xlNkg9riPrZJB7I0Lx2X8iVX9kWZvY9vVrnemq1vlQjExT5OQItGrOOYhCY5yjKUFIdka6wWHM5j8qldNigZVc9eyRiTE9uU6FpkNCbKiIsS7aVuxkq3xsd92V/zjAus6jROOuNY1amP9rEPctgiVvFYY7zPiwD+JP7Yqyg+Yl2MH/VTHMb4pS3GCOdlzJbtkhf7lmOkK/blGFvJt7KgAxkU9rW4HFof1J88QEdZSpmyl/7goYLdZR1t0T71PcfepHwO1FesU4tDOQUCOga+kobkisnLufpRr2PqSTqdl/I5V1JyTFKhUyUmKjKkX+3s0RfHcK5+SmD1j23IZlNBPu0qyIznqteeduYXC3OhHr2UIVyRGceWdkhe7CMco70RN43xPi8Ciq/ow6E6Ykbxy2w41pgyBzResyZmFLPETJSjPnFPfzbJp41z5KpIRqlLfRgb84D+sqGUQT/kqyAjnjMu2kK/ofWDMfRVntFvqE710nfOvUn5nOivUDeJpCQrzScptMXkI3lUHxOLRFE9iVOTjS76xkJ/jY9ysY+2stAnJjLncS5RHv0kg+M4Drll33JxibrRE/GgDb3YrsUCedEW+jCGPhqLDZqv9vQr5XMuubTTd01l67evlRfyO74bqqMeXysWFK/UD+XAoZhVLEoO+zKe1SfGFXrimGhvjFXlDu06Ziwl9kOWcoC+UXZpD2Pj3Okb9V9Jv5JfjkVnWce8In4af479urL1HAhZpxEwAl0RYIF1uUwESjLMMksIeYjUz2Gfo/8cqFunETACBxEwKR+EZvUNEF82YubKOctVMg42Ka8+zD0BI2AEjIARuBQE/h6tBS6Fo3vcOQAAAABJRU5ErkJggg==)"
      ]
    },
    {
      "cell_type": "markdown",
      "metadata": {
        "id": "KuPID3s6jj4n"
      },
      "source": [
        "* Feed Forward NNLM\n",
        " * 언어 모델이므로 다음 단어를 예측\n",
        " * 예측 단어의 이전 단어들만을 참고\n",
        " * 투사층과 출력층 사이에 활성화 함수가 있는 은닉층이 존재하는 구조\n",
        " * 연산량 : $(n × m) + (n × m × h) + (h × V)$\n",
        "\n",
        "* Word2Vec(CBOW)\n",
        " * 워드 임베딩 자체가 목적이므로 다음 단어가 아닌 중심 단어를 예측\n",
        " * 예측 단어의 전후 단어들을 모두 참고\n",
        " * 투사층 다음에 바로 출력층으로 연결되는 구조\n",
        " * 연산량 : $(n × m) + (m × log(V))$\n",
        "    * 피드포워드 NNLM 보다 훨씬 빠름"
      ]
    },
    {
      "cell_type": "markdown",
      "metadata": {
        "id": "SFp_SCd4kFeH"
      },
      "source": [
        "# 2) Training Word2Vec model"
      ]
    },
    {
      "cell_type": "markdown",
      "metadata": {
        "id": "bmkQRdMakHeO"
      },
      "source": [
        "## 2.1 Engilsh model"
      ]
    },
    {
      "cell_type": "markdown",
      "metadata": {
        "id": "lm9vYFfhkJg_"
      },
      "source": [
        "https://github.com/injoon-pij/pytorch-learning/blob/master/pytorch_word_embedding.ipynb\n",
        "\n",
        "위 링크의 __3.1 English model__ 참고"
      ]
    },
    {
      "cell_type": "markdown",
      "metadata": {
        "id": "TB1QjflJkPV2"
      },
      "source": [
        "## 2.2 Korean model(NSMC)"
      ]
    },
    {
      "cell_type": "markdown",
      "metadata": {
        "id": "x8KvjK2Rofxz"
      },
      "source": [
        "### 2.2.1 Data Load & preprocessing"
      ]
    },
    {
      "cell_type": "code",
      "metadata": {
        "id": "VlNWD-xKkvnO"
      },
      "source": [
        "!pip install konlpy"
      ],
      "execution_count": null,
      "outputs": []
    },
    {
      "cell_type": "code",
      "metadata": {
        "id": "Q4l1-caEicpJ"
      },
      "source": [
        "import pandas as pd\n",
        "import matplotlib.pyplot as plt\n",
        "import urllib.request\n",
        "from gensim.models.word2vec import Word2Vec\n",
        "from konlpy.tag import Okt"
      ],
      "execution_count": 3,
      "outputs": []
    },
    {
      "cell_type": "code",
      "metadata": {
        "colab": {
          "base_uri": "https://localhost:8080/"
        },
        "id": "ShZiMDn1kqrQ",
        "outputId": "abc21576-c3ae-4f45-f9ca-9ee79251a9cd"
      },
      "source": [
        "urllib.request.urlretrieve(\"https://raw.githubusercontent.com/e9t/nsmc/master/ratings.txt\", filename=\"ratings.txt\")"
      ],
      "execution_count": 8,
      "outputs": [
        {
          "output_type": "execute_result",
          "data": {
            "text/plain": [
              "('ratings.txt', <http.client.HTTPMessage at 0x7f3c9e73d090>)"
            ]
          },
          "metadata": {},
          "execution_count": 8
        }
      ]
    },
    {
      "cell_type": "code",
      "metadata": {
        "colab": {
          "base_uri": "https://localhost:8080/",
          "height": 222
        },
        "id": "HyB0zHQQkrom",
        "outputId": "3628254e-9cce-44c3-c4e9-abca02c34912"
      },
      "source": [
        "train_data = pd.read_table('ratings.txt')\n",
        "print(len(train_data)) # 리뷰 개수 출력\n",
        "train_data[:5]"
      ],
      "execution_count": 9,
      "outputs": [
        {
          "output_type": "stream",
          "name": "stdout",
          "text": [
            "200000\n"
          ]
        },
        {
          "output_type": "execute_result",
          "data": {
            "text/html": [
              "<div>\n",
              "<style scoped>\n",
              "    .dataframe tbody tr th:only-of-type {\n",
              "        vertical-align: middle;\n",
              "    }\n",
              "\n",
              "    .dataframe tbody tr th {\n",
              "        vertical-align: top;\n",
              "    }\n",
              "\n",
              "    .dataframe thead th {\n",
              "        text-align: right;\n",
              "    }\n",
              "</style>\n",
              "<table border=\"1\" class=\"dataframe\">\n",
              "  <thead>\n",
              "    <tr style=\"text-align: right;\">\n",
              "      <th></th>\n",
              "      <th>id</th>\n",
              "      <th>document</th>\n",
              "      <th>label</th>\n",
              "    </tr>\n",
              "  </thead>\n",
              "  <tbody>\n",
              "    <tr>\n",
              "      <th>0</th>\n",
              "      <td>8112052</td>\n",
              "      <td>어릴때보고 지금다시봐도 재밌어요ㅋㅋ</td>\n",
              "      <td>1</td>\n",
              "    </tr>\n",
              "    <tr>\n",
              "      <th>1</th>\n",
              "      <td>8132799</td>\n",
              "      <td>디자인을 배우는 학생으로, 외국디자이너와 그들이 일군 전통을 통해 발전해가는 문화산...</td>\n",
              "      <td>1</td>\n",
              "    </tr>\n",
              "    <tr>\n",
              "      <th>2</th>\n",
              "      <td>4655635</td>\n",
              "      <td>폴리스스토리 시리즈는 1부터 뉴까지 버릴께 하나도 없음.. 최고.</td>\n",
              "      <td>1</td>\n",
              "    </tr>\n",
              "    <tr>\n",
              "      <th>3</th>\n",
              "      <td>9251303</td>\n",
              "      <td>와.. 연기가 진짜 개쩔구나.. 지루할거라고 생각했는데 몰입해서 봤다.. 그래 이런...</td>\n",
              "      <td>1</td>\n",
              "    </tr>\n",
              "    <tr>\n",
              "      <th>4</th>\n",
              "      <td>10067386</td>\n",
              "      <td>안개 자욱한 밤하늘에 떠 있는 초승달 같은 영화.</td>\n",
              "      <td>1</td>\n",
              "    </tr>\n",
              "  </tbody>\n",
              "</table>\n",
              "</div>"
            ],
            "text/plain": [
              "         id                                           document  label\n",
              "0   8112052                                어릴때보고 지금다시봐도 재밌어요ㅋㅋ      1\n",
              "1   8132799  디자인을 배우는 학생으로, 외국디자이너와 그들이 일군 전통을 통해 발전해가는 문화산...      1\n",
              "2   4655635               폴리스스토리 시리즈는 1부터 뉴까지 버릴께 하나도 없음.. 최고.      1\n",
              "3   9251303  와.. 연기가 진짜 개쩔구나.. 지루할거라고 생각했는데 몰입해서 봤다.. 그래 이런...      1\n",
              "4  10067386                        안개 자욱한 밤하늘에 떠 있는 초승달 같은 영화.      1"
            ]
          },
          "metadata": {},
          "execution_count": 9
        }
      ]
    },
    {
      "cell_type": "code",
      "metadata": {
        "colab": {
          "base_uri": "https://localhost:8080/"
        },
        "id": "_NH60Zxkkson",
        "outputId": "a2d22496-92f7-4919-ff17-cf74c40c6705"
      },
      "source": [
        "# NULL 값 유무 확인\n",
        "print(train_data.isnull().values.any()) # True\n",
        "\n",
        "train_data = train_data.dropna(how = 'any') # Null 값이 존재하는 행 제거\n",
        "\n",
        "# Null 값 유무 재확인\n",
        "print(train_data.isnull().values.any())\n",
        "\n",
        "print(len(train_data)) # 리뷰 개수 출력"
      ],
      "execution_count": 10,
      "outputs": [
        {
          "output_type": "stream",
          "name": "stdout",
          "text": [
            "True\n",
            "False\n",
            "199992\n"
          ]
        }
      ]
    },
    {
      "cell_type": "markdown",
      "metadata": {
        "id": "8ER1BImTleEv"
      },
      "source": [
        "[데이터 정제]\n",
        "* 한글 외 문자 제거\n",
        "* 형태소 토큰화\n",
        "* 불용어 제거"
      ]
    },
    {
      "cell_type": "code",
      "metadata": {
        "id": "jyHMvTQ9l4VI"
      },
      "source": [
        "# 불용어 정의\n",
        "stopwords = ['의','가','이','은','들','는','좀','잘','걍','과','도','를','으로','자','에','와','한','하다']\n",
        "# 형태소 분석기 Okt\n",
        "okt = Okt()"
      ],
      "execution_count": 11,
      "outputs": []
    },
    {
      "cell_type": "code",
      "metadata": {
        "id": "iXiSSxF-lqHp"
      },
      "source": [
        "# 한글 외 문자 제거\n",
        "train_data['document'] = train_data['document'].str.replace(\"[^ㄱ-ㅎㅏ-ㅣ가-힣 ]\",\"\")\n",
        "\n",
        "# 형태소 분석기 Okt로 토큰화\n",
        "tokenized_data = []\n",
        "for sentence in train_data['document']:\n",
        "    temp_X = okt.morphs(sentence, stem=True) # 토큰화\n",
        "    temp_X = [word for word in temp_X if not word in stopwords] # 불용어 제거\n",
        "    tokenized_data.append(temp_X)"
      ],
      "execution_count": 12,
      "outputs": []
    },
    {
      "cell_type": "code",
      "metadata": {
        "colab": {
          "base_uri": "https://localhost:8080/",
          "height": 315
        },
        "id": "Fc3A_X3nmIDV",
        "outputId": "f5ffa23f-2c1b-4aba-f6d3-972afcc5770a"
      },
      "source": [
        "print('리뷰의 최대 길이 :',max(len(l) for l in tokenized_data))\n",
        "print('리뷰의 평균 길이 :',sum(map(len, tokenized_data))/len(tokenized_data))\n",
        "plt.hist([len(s) for s in tokenized_data], bins = 50)\n",
        "plt.xlabel('length of samples')\n",
        "plt.ylabel('number of samples')\n",
        "plt.show()"
      ],
      "execution_count": 13,
      "outputs": [
        {
          "output_type": "stream",
          "name": "stdout",
          "text": [
            "리뷰의 최대 길이 : 72\n",
            "리뷰의 평균 길이 : 10.716703668146726\n"
          ]
        },
        {
          "output_type": "display_data",
          "data": {
            "image/png": "[encoded data removed]",
            "text/plain": [
              "<Figure size 432x288 with 1 Axes>"
            ]
          },
          "metadata": {
            "needs_background": "light"
          }
        }
      ]
    },
    {
      "cell_type": "code",
      "metadata": {
        "colab": {
          "base_uri": "https://localhost:8080/"
        },
        "id": "BzHVvYr4oxPF",
        "outputId": "9d793d4c-0471-4bf4-c767-94b600cd6700"
      },
      "source": [
        "tokenized_data[0]"
      ],
      "execution_count": 14,
      "outputs": [
        {
          "output_type": "execute_result",
          "data": {
            "text/plain": [
              "['어리다', '때', '보고', '지금', '다시', '보다', '재밌다', 'ㅋㅋ']"
            ]
          },
          "metadata": {},
          "execution_count": 14
        }
      ]
    },
    {
      "cell_type": "markdown",
      "metadata": {
        "id": "9desKHmHo29O"
      },
      "source": [
        "### 2.2.2 Train Word2Vec model"
      ]
    },
    {
      "cell_type": "code",
      "metadata": {
        "id": "1LDO_Y16o6e-"
      },
      "source": [
        "from gensim.models import Word2Vec\n",
        "model = Word2Vec(sentences = tokenized_data, size = 100, window = 5, min_count = 5, workers = 4, sg = 0)"
      ],
      "execution_count": 15,
      "outputs": []
    },
    {
      "cell_type": "code",
      "metadata": {
        "colab": {
          "base_uri": "https://localhost:8080/"
        },
        "id": "PkO4Fk6AmOX0",
        "outputId": "8b35704a-7c6f-40c9-98ad-a2a72f0c47cc"
      },
      "source": [
        "model.wv.vectors.shape"
      ],
      "execution_count": 16,
      "outputs": [
        {
          "output_type": "execute_result",
          "data": {
            "text/plain": [
              "(16477, 100)"
            ]
          },
          "metadata": {},
          "execution_count": 16
        }
      ]
    },
    {
      "cell_type": "code",
      "metadata": {
        "colab": {
          "base_uri": "https://localhost:8080/"
        },
        "id": "zX5hccXXmg00",
        "outputId": "08fa3152-b1ca-42bc-eaba-9c50b20c4684"
      },
      "source": [
        "print(model.wv.most_similar(\"최민식\"))"
      ],
      "execution_count": 17,
      "outputs": [
        {
          "output_type": "stream",
          "name": "stdout",
          "text": [
            "[('한석규', 0.8789173364639282), ('안성기', 0.8632208704948425), ('크리스찬', 0.8424921631813049), ('이정재', 0.8404560089111328), ('김명민', 0.8368001580238342), ('브란도', 0.8302786946296692), ('베일', 0.8296118974685669), ('황정민', 0.825263261795044), ('송강호', 0.8240981101989746), ('김희선', 0.8226162195205688)]\n"
          ]
        }
      ]
    },
    {
      "cell_type": "code",
      "metadata": {
        "colab": {
          "base_uri": "https://localhost:8080/"
        },
        "id": "qa0iz1x3miHc",
        "outputId": "ad479957-b103-4047-8a6f-2c6cc1fad579"
      },
      "source": [
        "print(model.wv.most_similar(\"히어로\"))"
      ],
      "execution_count": 18,
      "outputs": [
        {
          "output_type": "stream",
          "name": "stdout",
          "text": [
            "[('호러', 0.8678215742111206), ('무협', 0.8654085397720337), ('슬래셔', 0.8486829996109009), ('느와르', 0.8484187722206116), ('물', 0.8401306867599487), ('정통', 0.837444543838501), ('멜로', 0.8200139999389648), ('물의', 0.8178898692131042), ('무비', 0.8128746747970581), ('블랙', 0.8032995462417603)]\n"
          ]
        }
      ]
    },
    {
      "cell_type": "markdown",
      "metadata": {
        "id": "klvJal78kY_h"
      },
      "source": [
        "## 2.3 Korean model(Wikipedia)"
      ]
    },
    {
      "cell_type": "markdown",
      "metadata": {
        "id": "7GrtlZ6nkjLO"
      },
      "source": [
        "https://github.com/injoon-pij/pytorch-learning/blob/master/pytorch_word_embedding.ipynb\n",
        "\n",
        "위 링크의 __3.2 Korean model__ 참고"
      ]
    },
    {
      "cell_type": "markdown",
      "metadata": {
        "id": "3H2NKkBwnA3-"
      },
      "source": [
        "# 3) Embedding Visualization"
      ]
    },
    {
      "cell_type": "markdown",
      "metadata": {
        "id": "aNotZdlTnHpa"
      },
      "source": [
        "https://github.com/injoon-pij/pytorch-learning/blob/master/pytorch_word_embedding.ipynb\n",
        "\n",
        "위 링크의 __4) Embedding Visualization__ 참고"
      ]
    },
    {
      "cell_type": "markdown",
      "metadata": {
        "id": "Bkaw2Do2lBBm"
      },
      "source": [
        "# 4) Negative Sampling"
      ]
    },
    {
      "cell_type": "markdown",
      "metadata": {
        "id": "GiffjaT2pZan"
      },
      "source": [
        "* Word2Vec이 학습 과정에서 전체 단어 집합이 아니라 일부 단어 집합에만 집중할 수 있도록 하는 방법\n",
        " * 가령, 현재 집중하고 있는 주변 단어가 '고양이', '귀여운'일 때, 단어 집합에서 무작위로 선택한 __주변 단어가 아닌 단어들을__ 일부 가져와 하나의 중심 단어에 대해서 전체 단어 집합보다 훨씬 작은 단어 집합을 만들어놓고 마지막 단계를 이진 분류 문제로 변환함\n",
        " * 주변 단어들을 긍정(positive), 랜덤으로 샘플링 된 단어들을 부정(negative)으로 레이블링하여 이진 분류 문제를 위한 데이터셋을 구성함\n",
        " * 기존의 단어 집합의 크기만큼의 선택지를 두고 다중 클래스 분류 문제를 풀던 Word2Vec보다 훨씬 연산량에서 효율적임"
      ]
    },
    {
      "cell_type": "markdown",
      "metadata": {
        "id": "4uFqAXHKlIZw"
      },
      "source": [
        "## 4.1 Skip-Gram with Negative Sampling, SGNS"
      ]
    },
    {
      "cell_type": "markdown",
      "metadata": {
        "id": "ROMJTp9168cc"
      },
      "source": [
        "__[기존 Skip-Gram]__\n",
        "* 중심단어로부터 주변 단어 예측"
      ]
    },
    {
      "cell_type": "markdown",
      "metadata": {
        "id": "M_4uzfxS7I66"
      },
      "source": [
        "![image.png](data:image/png;base64,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)"
      ]
    },
    {
      "cell_type": "markdown",
      "metadata": {
        "id": "BKTnYkGr7Ksv"
      },
      "source": [
        "![image.png](data:image/png;base64,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)"
      ]
    },
    {
      "cell_type": "markdown",
      "metadata": {
        "id": "f1LnNEZ37TN4"
      },
      "source": [
        "__[네거티브 샘플링을 사용하는 Skip-gram]__\n",
        "* 중심 단어와 주변 단어가 모두 입력이 되고, 이 두 단어가 실제로 윈도우 크기 내에 존재하는 이웃 관계인지 그 확률을 예측"
      ]
    },
    {
      "cell_type": "markdown",
      "metadata": {
        "id": "71DwQLEs7Ygh"
      },
      "source": [
        "![image.png](data:image/png;base64,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)"
      ]
    },
    {
      "cell_type": "markdown",
      "metadata": {
        "id": "-iuJl1P77hcL"
      },
      "source": [
        "__[기존의 Skip-gram 데이터셋을 SGNS의 데이터셋으로 바꾸는 과정]__"
      ]
    },
    {
      "cell_type": "markdown",
      "metadata": {
        "id": "h-K0Sew070pH"
      },
      "source": [
        "![image.png](data:image/png;base64,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)"
      ]
    },
    {
      "cell_type": "markdown",
      "metadata": {
        "id": "sWIf2EkR72ne"
      },
      "source": [
        "![image.png](data:image/png;base64,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)"
      ]
    },
    {
      "cell_type": "markdown",
      "metadata": {
        "id": "vI9Uq0iU8PJI"
      },
      "source": [
        "![image.png](data:image/png;base64,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)"
      ]
    },
    {
      "cell_type": "markdown",
      "metadata": {
        "id": "B7O5QCp58UIc"
      },
      "source": [
        "두 테이블 중 하나는 입력 1인 중심 단어의 테이블 룩업을 위한 임베딩 테이블, 하나는 입력 2인 주변 단어의 테이블 룩업을 위한 임베딩 테이블\n",
        " * 두 임베딩 테이블은 훈련 데이터의 단어 집합의 크기를 가지므로 크기가 같음"
      ]
    },
    {
      "cell_type": "markdown",
      "metadata": {
        "id": "jycNGtZ08DpF"
      },
      "source": [
        "![image.png](data:image/png;base64,iVBORw0KGgoAAAANSUhEUgAAAT0AAADACAYAAAB24LTuAAAY5UlEQVR4Ae2d3W9dVXrGfdtWDcyUJMyQ8JGExhPGIWTy4YSPRDRk4CIlQKamgsiAKNNBQ4NSmJnGFTRCqAmNmEi5QUQlBKQkUhUJyZIlI5VIqLdGygVSNaqiXPiOP4CbilU9h3mS16vHx8f2Wjs+J78tbe+1917rXe9a6z2Pf2vvY6+BxEYP0AP0wE3UAwM3UVtpKj1AD9ADCdEjCOgBeuCm6gFE76YabhpLD9ADiB4xQA/QAzdVDyB6N9Vw01h6gB7oWdGbmJhIAwMDaWxsrOgoyubQ0NCsNqempmbUW8uP3AHXOzIykt/iPKWkftHYqZ9KbadPn27Z1BjPtrne6enpVhbFjvzw+WzlFnvd9ZZs72J96pXyjYmeB0kBEfeFdlQtsZFviN5CR6W7chKEGANOL+YXmOOrpAgget2NZ6/lalz0SgXlUhG9pgZc/SZx0Ie71zeLXqdfLvNt41IRvfn6vdD8Ndq7UF96rRyil43YfEkvK17tFNHr3LU1RGAhpNfZy3J3a7S3nHdL29KSEL34gfYzEVONA89TID8riaTnezrmUyTncx7Zi1ten/JFAjGVuLyDzfXYvs/tr85dRkfli1u8Zx9ivTGv0rGPfC/3zW2zPZXx5ryuw/bsh/1XfrfRbdN5yS33Jbft+vM+7MbndmWifdt2u+WLN7fX95w3jl1u33lsx33vc9uK5TwGs9VrGx5P54tH1xvH2LHnOuWD26T8cbM/bpvPXdZ23ecq7zy+F+31Urpx0XOn6qhO1OaO1bV2waI8+eD5PJbxoDhYHAT5uQc6Dxznj0Fpfz2oLmPf7YfPu7HhoHZb7Xes1/X56D5y8KpszG+/lC/3STbsl+7l933ufrIt++k67ctij/Ld/RqP/jC5/rxP41jbt7xM9NW23c8uk5+rPXn/6prLq3+0uQ/dTy7Tzi/X0a2Ndn67nlbl2Q/3kduvvM7v/nV85O2WKfnl+7ktn8uO22gbKuc6M5d65rRx0WvXYe7YOPDueOfPB9IfVH8w1OO5HQ+URyPet71Yp/LFYHAdDqZYh+t1Hp8rr2zEMm5LDCLnl0374iC0v/EYfY/XnbYfrjdvu85tP/qj8nn9vh99dD0ljnl9uU3X77Fv13b5pn5Wu7XlZXQt5rGN2KZ432nXqfIeS9eR92msV23S5jw+l4/aveV+dKrXY+my8diuve3uy488Nnyuo8dC9ry53TraX7XBbXK+Xj1eH43KLeg0SO7Y2PF5fg+OP7geuBgYzmM7Drj8qPuuM34I1AXK6zo8+KrLW17OftiOy0S/YlucP963367XdcWj63XbdC9vl85t136oPpd1O/zBzMu7/uhv9KFUeq725vXb/9h2i4Xb5DKy7S32gfs9b7POdW+u8rKpvO4j15GXc9/aD9fn/Hlb8vLKZ789li4bjy4ne9pma1/0w76rrNP2x37Go+r3fZXpl63nRc9iowHxAPmaB7DdYDlvHMz8w9gu+BxcriM/b1cmBmieP/rtQOzG32hT+W03flDUftm0QNiurumePxC+7mNu29dLHfN+zu3m9bcbK7dJ7daWl9E151F594/Hba46Y3nX0S6e8r7Mz/MyeVs6+R3HspO/7frTdj3GMS7lk23n/uT1zHU/z98L5z0vehpAbx5oDZQ2B70H2NccCHmAOr+ua2sXTC7jD0/+YYrB1TLS5gPpD4L9sN+u1+XiMQ8++2EbPo9ttS8xyGXT190GX3O/2R+fRz9KpNv1a7Sb15+3XXk9VhYkl3Gb2tWR97vsqJy2fBxdXmVcR16nyyhPPg4+d52tSsIv5rxen8d641i6vI9ur/om7x+fR79Uzr7oGDfHjsp5sz+25XPf7+XjzNZXbIkHKXa8B6Vdxzq/B8LBYGGIARdtOkDdFAeq8+T3fV1H53UdsmHfnM95dNRmP3xuQYkBO1tbcpudAst+OI/PcxuxXveZ8vhD6H6xny4fy+X+ukypY/TL9evotuX1u62+Lz88Dh5Pl4n2lM63TvfzPsnrkK1Yj+LE5+5fC4jPXZ/9aNeWbup1eR9dr+xps6+qT/dyP2Iex6pt6ej89tf+t/M3luvF9P+Pil5sRY/77MBqF4yLbZqCuIbdxfpF+dl7wAJmQZs95/zuWFwtaPMr3T+5Eb0bMJb6rRo3/5YtHYz+8JS2G30nvbgekLDFX0r+BShaK7kpBvgF+H2PInolI6tLWxY5TyV0LLl56iO7CF7Jni1vyyIXYyGK4GJrjPZL2l2sXzeyfNlP241sCXXTA/QAPdBFDyB6XXQSWegBeqB/egDR65+xpCX0AD3QRQ8gel10ElnoAXqgf3oA0eufsaQl9AA90EUPIHpddBJZ6AF6oH96ANHrn7GkJfQAPdBFDyB6XXQSWegBeqB/egDR65+xpCX0AD3QRQ80LnpXr15N58+fT5cuXSq66+8KS9uUn+Pj40XtTk5OprNnzxa1qXbXaP/FixfT5cuXuwgjstADvdMDjYuehGTXtuH09muvF93vvmNVUXvyT36OPnWgqN1Doy+lTT/ZUNSmfK3R/if37E1Hjx6tGs2ffPJJWrduXdq9e3fRfcWKFUXtyT/5uXnz5qJ2d+zYkVavXl3Upnyt0f777rtvxt8JVw2MisYbFz1RiT6k3/3hatF99/bhovbkn/z84tMLRe1eufRf6YWnDxS1KV9rtP+jYyfSmTNnKoZfahHvoTfH0pVvvi26Dz/4SFF78k9+nvtssqjdL7/673Tg2YNFbcrXGu1/79SH1eOharD90Tii10F8ET1EL4oxoofoLUiUIT1ILwaO4gHSg/RiTNROQ3qQ3qxTbaa3M6fckB6ktyBBhvQgvRg4kB7P9GI8NJGG9CA9SK/LlyiQHqS3IFGG9CC9GDiQHqQX46GJNKQH6UF6kF5XX5nhKysLlGRID9KLoQPpQXoxHppIQ3qQHqQH6UF6NdUW0oP0YnxBepBejIcm0pAepAfpQXqQXk21hfQgvRhfkB6kF+OhiTSkB+lBepAepFdTbSE9SC/GF6QH6cV4aCIN6UF6kB6kB+nVVFtID9KL8QXpQXoxHppIQ3qQHqQH6UF6NdUW0oP0YnxBepBejIcm0pAepAfpQXqQXk21hfQgvRhfkB6kF+OhiXTjpKelCrVylxayKbnfumxZUXvyTX5q5bKSfg5veiDdvnx5UZvyr0b7B9esTYcPH64ah1odb/vOh1v/Ml7/r67Uvmr1XcVs2Sf5+cyzzxe1++Ivf502/HRjUZvyt0b7H3tiX/XV8aoG2x+NNy56kB6kFwNba+uu2vRo2vHiu0X3ZbffU9Se/JOfGx5/uajdzb94Iy1ft7moTflao/3rHnomHT9+PA5fT6YRPZ7p3fBnekP7Xk3Pnf666L5y/dai9uSf/NzzxsdF7e4/9nlas3N/UZvytUb7Jaa1lwRtQkURPUQP0etScBE9RG9Bosz0lultDBzFA6QH6cWYqJ2G9CA9SA/S62p6XWJ6OzIykiYmJmrrWkf7iB6ih+ghekVEb3p6Og0MDLTdh4aGWkKE6HUQnO/meU9f25hvmbnyv/3a6+mLTy8UtXvlEtPb+GuY6W1/vsiYmppKFro43ojePIWtk0gheuVF/6NjJ6q/rUP0EL0oik2kmd52EF5ID9GLX6Xh7W33b2/nIj1RoKfC+TO+sbGxa/dEhqU3RA/Rm3X6DunN/O4goldG9CR2ev6nTYKnc28SPO3e8nNfX8zxem2LsTKPsnxlhWd6MVyY3t5801v9KWrcRH0SQb8Iifd0rd2zwZhnvmlED9KD9Hh7W+TtbRSfuaa3Ma9ETfktep72xmPMv9g0oofoIXqI3pISvcWK2lzlET1ED9FD9JaE6Ems9OIiPtPTtfx8LlGb6z6ih+gheojekhE9CVZ8sxtfcswlZt3eR/QQPUQP0Ssuet0K0I3Ih+gheogeoofo1VRfvrLCV1ZifPGVlf78ykoc46WWhvQgPUgP0oP0aiozpAfpxfiC9CC9GA9NpCE9SA/Sg/QgvZpqq9Wvdm0bTvpj/pK7Vi4raU+25OfoUweK2j00+lJrhbXSvtZo/5N79lZf/QrSg/Rq6k07242T3vj4eEtI9H/qSu5aqrGkPdkaffpAev/IW0Xtnvv9qfT4w7uK2pSvNdr/m1d+lU6ePNkubopd099harnC4QcfKbovu+XWovbkn/zUco0lfX1gy7a0fMXKojblX432r713ffUlQYsFVgdDjYsez/R4phfjUfGgdVqvfPNt0V0f/NI25ee5zyaL2v3yKxb7jvHQRBrR45neDX+mh+gdLCqkEvsaov/eqQ+r/1NZRK+DIOX/RZn/nNy7/zkZ0UP0mhA71wHpdRBWvWzQ87JcYBdzzhoZDr3vj0xvmd7OjIj6Z4geojerqDf1n5MhPUivvtRdrwHRQ/QQvS5fovAig2d616VzHine3vL2NoYL01umtzEemkhDepAepAfpdfX2mLe3C5RkSA/Si6ED6UF6MR6aSEN6kB6kB+lBejXVFtKD9GJ8QXqQXoyHJtKQHqQH6UF6kF5NtYX0IL0YX5AepBfjoYk0pAfpQXqQHqRXU20hPUgvxhekB+nFeGgiDelBepAepAfp1VRbSA/Si/EF6UF6MR6aSEN6kB6kB+lBejXVFtKD9GJ8QXqQXoyHJtKQHqQH6UF6kF5NtZ2cnExaEUz/TLPkPrzpgaL25Jv81EI+Jf388vx/pAOPP1HUpvyr0f73fnskffDBBzXDIUF6kF7VAGtjvHHS0+pXd/3wtrRr3WDR/dY/+dOi9uTf3T+8Ld1/x51F7W6/a226/c9vKWpTvtZo//oVP6q++tXZs2dbK4wdePZgKrlrhbGS9mRLK6E98ujeonaf+Oun0t33rC1qU77WaP+W7TvTkSNH2shIb11qXPT0m/2tn+9P//v+x0V3ffBL25Sf//nq74ra/Z9/PpFGtz5U1KbaXaP9//63L1dfCEbkP7jnYNp/7POi+21rNha1J//W/9XB9ODfnShqd+9vP013/mxvUZvytUb7N//ijerk34R8InodxBfRqy96+iU4tO/V9Nzpr4vuK9dvLWpP/snPPW98XNSuBGrNzv1FbcrXGu3f8eK71X8JInodBCmnuhqkg+ghelGMET1Eb0GizPSW6W0MHEivP0lvaGgoDQwMpImJiTjcSyLN9LYDTUJ6kB6kd/2xQ7fT27GxsaR9qW6LFj29jZ1PAyE9SC9+GCC9/iO9kZGRrglvenq6RYQxJmqnET1Ib9Y3yU28vUX0ED1Ng5vcZtQmYpMD2iO9aV7u6zpKnbVJ0eN1Ud9cG6QH6cUYQfT6S/SiHijtzc/4dM3akuuK8jSxXfNKAqbdmxyyuNlJ3VM65mN6O7/vG/I9PUfY90dEr79ET6MqfYgvMKQR1hJPZ6emploB4POZUVH3rCV686lYzkZFRvQQvcWEKKLX/6KXx0cUxfloT25noect0ZOQRXrLjUnYIrYievMTuvidQkhvZnQhejeH6EX9UNokeENFLwpZDEtNZ+P0FtJbuOBJ/BC9GF2p9Q8H+IuM/vqLjHYkJ3Hz1u6+7zVxvPZMT6IXxc3z8OigHFK+KJBS7E6UmDdCv9n1/bdIPyXS/EVG+b895u3t9e+o8WdoX6duv6cXNSOHJOlFJD3pg86jKOaaUfr8mujJsMTMGCrR02b89HU5HUVPeXzPZVoFZ/mB6PH2NoYG09v+n94KpqwRSkdRVCz4fq4rMU5KpmeIXknDs9lC9BC9GBuIXv+JXhzfpZhG9Phy8qyPGpjeMr2Nf4bX7fR2KQpd9AnRQ/QQvS7/rRX/ZYX/shLFs+s001umtzFYmN4yvY3x0EQa0oP0ID1Ir6t/Ysr0doGSDOlBejF0ID1IL8ZDE2lID9KD9CA9SK+m2mr1q/t/fGdrcRwtkFNqv33ZLcVs2SethPbzwaGidp+5f2tad9vKojblb432P3jPvdVXvxofH2+tEaG1J0ruP1g9WNSefFuz88n0s5HfFbX70Cv/ln5030NFbcrXGu3f8PjL6eTJkzXloRHbjZMe696y7m2M7PPnz6ftOx9Oh94cK7qvWn1XUXvyT34+8+zzRe2++Mtft5aW7IX2P/bEvnT06NE4fD2Zblz09Azn7ddeT9/94WrRfff24aL25J/8/OLTC0XtamHuF54+UNSmfK3R/o+Onai++pXiQR/4K998W3QffvCRovbkn/w899lkUbtffsVi300rJ6LXQXwRPUQvijGi92H1X4JNCCCih+jNSp2Q3kz6RPQQvQWJMtNbprcxcJjeMr2N8dBEGtKD9CC9Lp8nQnqQ3oJEGdKD9GLgQHqQXoyHJtKQHqQH6UF6Xb2Rfu8UpLcgUYb0IL0YOJAepBfjoYk0pAfpQXqQHqRXU20hPUgvxhekB+nFeGgiDelBepAepAfp1VRbSA/Si/EF6UF6MR6aSEN6kB6kB+lBejXVFtKD9GJ8QXqQXoyHJtKQHqQH6UF6kF5NtYX0IL0YX5AepBfjoYk0pAfpQXqQHqRXU20hPUgvxhekB+nFeGgiDelBepAepAfp1VRbSA/Si/EF6UF6MR6aSDdOelr9avSpA621J7T+RKl90082FLNln0afPpDeP/JWUbvnfn8qPf7wrqI25W+N9v/mlV9VX/0K0UP0mhC6WEfjoqfVr3ZtG24tuqM1KErtd9+xqpgt+yQ/JdA+L3E8NPpSS6BK2Io2arT/yT17q69+dfr06aSVy7SQT8l92S23FrUn3+Tnhp9uLGr3gS3b0vIVK4valK812r/23vXp8OHDUT96Mt246DG9ZXobPymKh6F9r3a12PRzXS7KrXwr128tblN+ak3Z+fgxV979xz5vrfs7V7753q/R/h0vvsvCQDF4u00jeohejBVED9GL8dBEGtLj7e0Nf3sL6e0vSo+iwqVMegMDA0mPNW7Uhugheohel9NmprdMbxck1Exvmd7GwGF6y/Q2xkMTaUgP0oP0IL2upte8yFigJEN6kF4MHUivv0hvamoqDQ0NJR317M779PT0tWEfGRlJExMTrXPfj0c979MerzltI2NjY9fuq775bJAepAfpQXrFSM9iJ2HzJoGTaHmLoudrOiqfxKzdJmGzcKoOi6by6t58Xoxc96RdTRWuQXqQXgwrSK//SC8KnMc6Cl1M+74J0efx2C5/vC/Bm00sYz6nET1ID9KD9IqSXrvpZhSumL4mRAMD10jO13ScTdBkw1NeHRG9DkL23Tzu6c+89Het8ykzV94rlyC9GNSQXv+RXjvR0zXRnLZc9PJzx8ds9CdbcXo7mzDaTn6E9DqIIKJ3ovqfHSF6/Sd6Iq/4jE3pKIRR5DoJluz4OV4Urnhd9yG9DiI2F4Xl9xE9RC/+zStfTp77y8mmM4mZxEh7FDyJl0VPeZ0nHlVWeeI1p1XeL0Z0TbY7CWcUS6chvQ4iiegheoje19ee93XzPT2LngVmKR4RPURv1meWHx1D9BA9RG/Rws1XVniREYOIZ3r990wvn87G8V4KaUgP0oP0+MrKtSlsJNs83c30dimI2lw+IHqIHqKH6CF6cynlYu4zvWV6G+OH6W1/TW/j2C7VNKQH6UF6kB6kV1OhIT1IL8YXpAfpxXhoIt046emLhFq5a/f24aL7rcuWFbUn/+SnllYs6evwpgfS7cuXF7Up/2q0f3DN2uqrX2l1vBV/ubW1OJC+/Ftq/7O/+HExW/ZJfq7Zub+o3cE9B9MPVg8WtSl/a7R/1aZHq6+O15eiB+lBejGwL168mB57Yl9679SHRXctV1japvz8+3/4x6J2/+lf/jVt2b6zqE21u0b7/+b5F9Lx48fj8PVkunHSQ/QQvfhJUTwcenMsXfnm26K71n4tbVN+nvtssqjdL79ise8YD02kET1eZNzwFxmI3sGiQiqxryH6IsgzZ840oUtV60D0ED1Er0vKhPQQvQWpMdNbprcxcJjeMr2N8dBEGtKD9CA9SK+r6TXT2wVKMqQH6cXQgfQgvRgPTaQhPUgP0oP0IL2aagvpQXoxviA9SC/GQxNpSA/Sg/QgPUivptpCepBejC9ID9KL8dBEGtKD9CA9SA/Sq6m2kB6kF+ML0oP0Yjw0kYb0ID1ID9KD9GqqLaQH6cX4gvQgvRgPTaQhPUgP0oP0IL2aagvpQXoxviA9SC/GQxNpSA/Sg/QgPUivptpCepBejC9ID9KL8dBEGtKD9CA9SA/Sq6m2kB6kF+ML0oP0Yjw0kW6c9LT61a5tw+nt114vumvlstI25efoUweK2j00+lJrhbXSvtZo/5N79lZf/QrRQ/SaELpYR+Oid/Xq1SThU7CX3LW0ZEl7siU/x8fHi9qdnJxMZ8+eLWpTvtZov1Yqu3z5coyX4ukLFy6kwcHBtHv37qL7qlWritqTf/Jzy5YtRe3u3LkzrVmzpqhN+Vqj/Rs3bkzvvPNO8Rho2mDjotd0A6mPHqAH6IHYA4he7A3S9AA90Pc9gOj1/RDTQHqAHog9gOjF3iBND9ADfd8D/wfWudYBrxpv7gAAAABJRU5ErkJggg==)"
      ]
    },
    {
      "cell_type": "markdown",
      "metadata": {
        "id": "ZWIJD5CL8-Al"
      },
      "source": [
        "![image.png](data:image/png;base64,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)"
      ]
    },
    {
      "cell_type": "markdown",
      "metadata": {
        "id": "h7sCAS-r9BJz"
      },
      "source": [
        "* 중심 단어와 주변 단어의 내적값을 이 모델의 예측값으로 하고, 레이블과의 오차로부터 역전파하여 중심 단어와 주변 단어의 임베딩 벡터값을 업데이트\n",
        "* 이후에는 선택적으로 두 개의 임베딩 테이블 중 좌측의 테이블을 최종 임베딩 테이블로 사용"
      ]
    },
    {
      "cell_type": "markdown",
      "metadata": {
        "id": "oCkslznlparC"
      },
      "source": [
        "## 4.2 Modeling"
      ]
    },
    {
      "cell_type": "markdown",
      "metadata": {
        "id": "BldWFR6TqGe4"
      },
      "source": [
        "### 4.2.1 Data preprocessing"
      ]
    },
    {
      "cell_type": "code",
      "metadata": {
        "id": "tSJsxluElIwG",
        "colab": {
          "base_uri": "https://localhost:8080/"
        },
        "outputId": "0ab927dd-a386-492b-fec3-5602c294842a"
      },
      "source": [
        "import pandas as pd\n",
        "import numpy as np\n",
        "import nltk\n",
        "nltk.download('stopwords')\n",
        "from nltk.corpus import stopwords\n",
        "from sklearn.datasets import fetch_20newsgroups\n",
        "from tensorflow.keras.preprocessing.text import Tokenizer"
      ],
      "execution_count": 28,
      "outputs": [
        {
          "output_type": "stream",
          "name": "stdout",
          "text": [
            "[nltk_data] Downloading package stopwords to /root/nltk_data...\n",
            "[nltk_data]   Unzipping corpora/stopwords.zip.\n"
          ]
        }
      ]
    },
    {
      "cell_type": "code",
      "metadata": {
        "colab": {
          "base_uri": "https://localhost:8080/"
        },
        "id": "WdWlsXJx9nC6",
        "outputId": "878fd20e-8b8b-4046-bfd8-f80292f4eebe"
      },
      "source": [
        "dataset = fetch_20newsgroups(shuffle=True, random_state=1, remove=('headers', 'footers', 'quotes'))\n",
        "documents = dataset.data\n",
        "print('총 샘플 수 :',len(documents))"
      ],
      "execution_count": 33,
      "outputs": [
        {
          "output_type": "stream",
          "name": "stdout",
          "text": [
            "총 샘플 수 : 11314\n"
          ]
        }
      ]
    },
    {
      "cell_type": "code",
      "metadata": {
        "id": "JCQbLkz29qJ_"
      },
      "source": [
        "news_df = pd.DataFrame({'document':documents})\n",
        "\n",
        "# 특수 문자 제거\n",
        "news_df['clean_doc'] = news_df['document'].str.replace(\"[^a-zA-Z]\", \" \")\n",
        "# 길이가 짧은 단어 제거\n",
        "news_df['clean_doc'] = news_df['clean_doc'].apply(lambda x: ' '.join([w for w in x.split() if len(w)>3]))\n",
        "# 소문자 변환\n",
        "news_df['clean_doc'] = news_df['clean_doc'].apply(lambda x: x.lower())"
      ],
      "execution_count": 34,
      "outputs": []
    },
    {
      "cell_type": "code",
      "metadata": {
        "colab": {
          "base_uri": "https://localhost:8080/"
        },
        "id": "EQ0WODl1972d",
        "outputId": "8765bf5b-2a70-406d-e202-6ac0c4ed918d"
      },
      "source": [
        "# 데이터프레임에 Null 값이 있는지 확인\n",
        "print(news_df.isnull().values.any()) # False\n",
        "\n",
        "# 데이터프레임에 NaN 값(빈 값)이 있는지 확인 위해 빈값을 Null 값으로 변환\n",
        "news_df.replace(\"\", float(\"NaN\"), inplace=True)\n",
        "print(news_df.isnull().values.any()) # True\n",
        "\n",
        "# Null 값을 제거\n",
        "news_df.dropna(inplace=True)\n",
        "\n",
        "print('총 샘플 수 :',len(news_df))"
      ],
      "execution_count": 35,
      "outputs": [
        {
          "output_type": "stream",
          "name": "stdout",
          "text": [
            "False\n",
            "True\n",
            "총 샘플 수 : 10995\n"
          ]
        }
      ]
    },
    {
      "cell_type": "code",
      "metadata": {
        "id": "zMwo72Fs-hOF"
      },
      "source": [
        "# 불용어 제거\n",
        "stop_words = stopwords.words('english')\n",
        "tokenized_doc = news_df['clean_doc'].apply(lambda x: x.split())\n",
        "tokenized_doc = tokenized_doc.apply(lambda x: [item for item in x if item not in stop_words])\n",
        "tokenized_doc = tokenized_doc.to_list()"
      ],
      "execution_count": 36,
      "outputs": []
    },
    {
      "cell_type": "code",
      "metadata": {
        "colab": {
          "base_uri": "https://localhost:8080/"
        },
        "id": "YCzQgqfr_Qk0",
        "outputId": "703bee48-7e01-4537-9383-f1fac538f485"
      },
      "source": [
        "# 단어가 1개 이하인 문장 샘플 제거\n",
        "tokenized_doc = [sentence for index, sentence in enumerate(tokenized_doc) if len(sentence) > 1]\n",
        "\n",
        "print('총 샘플 수 :',len(tokenized_doc))"
      ],
      "execution_count": 37,
      "outputs": [
        {
          "output_type": "stream",
          "name": "stdout",
          "text": [
            "총 샘플 수 : 10940\n"
          ]
        }
      ]
    },
    {
      "cell_type": "code",
      "metadata": {
        "colab": {
          "base_uri": "https://localhost:8080/"
        },
        "id": "l-Fycesw_W-X",
        "outputId": "747ee1f0-7aa9-451f-b8ae-0b0119510626"
      },
      "source": [
        "tokenizer = Tokenizer()\n",
        "tokenizer.fit_on_texts(tokenized_doc)\n",
        "\n",
        "word2idx = tokenizer.word_index\n",
        "idx2word = {v:k for k, v in word2idx.items()}\n",
        "encoded = tokenizer.texts_to_sequences(tokenized_doc)\n",
        "\n",
        "print(encoded[:2])"
      ],
      "execution_count": 38,
      "outputs": [
        {
          "output_type": "stream",
          "name": "stdout",
          "text": [
            "[[9, 59, 603, 207, 3278, 1495, 474, 702, 9470, 13686, 5533, 15227, 702, 442, 702, 70, 1148, 1095, 1036, 20294, 984, 705, 4294, 702, 217, 207, 1979, 15228, 13686, 4865, 4520, 87, 1530, 6, 52, 149, 581, 661, 4406, 4988, 4866, 1920, 755, 10668, 1102, 7837, 442, 957, 10669, 634, 51, 228, 2669, 4989, 178, 66, 222, 4521, 6066, 68, 4295], [1026, 532, 2, 60, 98, 582, 107, 800, 23, 79, 4522, 333, 7838, 864, 421, 3825, 458, 6488, 458, 2700, 4730, 333, 23, 9, 4731, 7262, 186, 310, 146, 170, 642, 1260, 107, 33568, 13, 985, 33569, 33570, 9471, 11491]]\n"
          ]
        }
      ]
    },
    {
      "cell_type": "code",
      "metadata": {
        "colab": {
          "base_uri": "https://localhost:8080/"
        },
        "id": "W0edzlbR_aHU",
        "outputId": "6d379233-e856-4b17-fa8a-e757350f51a0"
      },
      "source": [
        "# tokenizer가 생성한 단어 집합은 인덱스가 1부터 시작하므로\n",
        "vocab_size = len(word2idx) + 1 \n",
        "print('단어 집합의 크기 :', vocab_size)"
      ],
      "execution_count": 32,
      "outputs": [
        {
          "output_type": "stream",
          "name": "stdout",
          "text": [
            "단어 집합의 크기 : 64277\n"
          ]
        }
      ]
    },
    {
      "cell_type": "markdown",
      "metadata": {
        "id": "not-VsiEqL5U"
      },
      "source": [
        "### 4.2.2 Dataset for Negative Sampling "
      ]
    },
    {
      "cell_type": "code",
      "metadata": {
        "id": "NobxURWcAgMB"
      },
      "source": [
        "from tensorflow.keras.preprocessing.sequence import skipgrams"
      ],
      "execution_count": 39,
      "outputs": []
    },
    {
      "cell_type": "code",
      "metadata": {
        "id": "YZRho2DjqiS4"
      },
      "source": [
        "# 네거티브 샘플링 (상위 10개 샘플)\n",
        "skip_grams = [skipgrams(sample, vocabulary_size=vocab_size, window_size=10) for sample in encoded[:10]]"
      ],
      "execution_count": 40,
      "outputs": []
    },
    {
      "cell_type": "markdown",
      "metadata": {
        "id": "3PqIUsV5DQKV"
      },
      "source": [
        "윈도우 크기 내에서 중심 단어, 주변 단어의 관계를 가지는 경우에는 1의 레이블을 갖도록 하고, 그렇지 않은 경우는 0의 레이블을 가지도록 하여 데이터셋을 구성"
      ]
    },
    {
      "cell_type": "code",
      "metadata": {
        "colab": {
          "base_uri": "https://localhost:8080/"
        },
        "id": "AoYXjOC8ArB0",
        "outputId": "b86165fc-0716-406a-8673-1df1b2dc6a9d"
      },
      "source": [
        "# 첫번째 뉴스 샘플인 skip_grams[0] 내 skipgrams로 형성된 데이터셋 확인\n",
        "sample_1 = skip_grams[0]\n",
        "pairs, labels = sample_1[0], sample_1[1]\n",
        "\n",
        "for i in range(5):\n",
        "    print(\"({:s} ({:d}), {:s} ({:d})) -> {:d}\".format(\n",
        "          idx2word[pairs[i][0]], pairs[i][0], \n",
        "          idx2word[pairs[i][1]], pairs[i][1], \n",
        "          labels[i]))"
      ],
      "execution_count": 42,
      "outputs": [
        {
          "output_type": "stream",
          "name": "stdout",
          "text": [
            "(subsidizing (15228), whole (217)) -> 1\n",
            "(incidences (20294), israels (13686)) -> 1\n",
            "(away (178), guilt (4989)) -> 1\n",
            "(media (702), israeli (442)) -> 1\n",
            "(report (581), europeans (4520)) -> 1\n"
          ]
        }
      ]
    },
    {
      "cell_type": "code",
      "metadata": {
        "colab": {
          "base_uri": "https://localhost:8080/"
        },
        "id": "lQir2OPbDfX6",
        "outputId": "b79b570c-f393-4292-ec89-ce0a4de88fd2"
      },
      "source": [
        "# 첫번째 뉴스그룹 샘플에 대해서 생긴 pairs와 labels의 개수\n",
        "print(len(pairs))\n",
        "print(len(labels))"
      ],
      "execution_count": 50,
      "outputs": [
        {
          "output_type": "stream",
          "name": "stdout",
          "text": [
            "2220\n",
            "2220\n"
          ]
        }
      ]
    },
    {
      "cell_type": "code",
      "metadata": {
        "id": "4IbfikJxD2P1"
      },
      "source": [
        "# 네거티브 샘플링 (전체 샘플)\n",
        "skip_grams = [skipgrams(sample, vocabulary_size=vocab_size, window_size=10) for sample in encoded]"
      ],
      "execution_count": 51,
      "outputs": []
    },
    {
      "cell_type": "markdown",
      "metadata": {
        "id": "Dafa1-v9qi4j"
      },
      "source": [
        "### 4.2.3 Modeling SGNS by Keras"
      ]
    },
    {
      "cell_type": "code",
      "metadata": {
        "id": "SNzQotx9qpaf"
      },
      "source": [
        "from tensorflow.keras.models import Model\n",
        "from tensorflow.keras.layers import Embedding, Reshape, Activation, Input\n",
        "from tensorflow.keras.layers import Dot\n",
        "from tensorflow.keras.utils import plot_model\n",
        "from IPython.display import SVG"
      ],
      "execution_count": 52,
      "outputs": []
    },
    {
      "cell_type": "code",
      "metadata": {
        "id": "ou3BTw7qEUaj"
      },
      "source": [
        "# 임베딩 벡터 차원\n",
        "embed_size = 100"
      ],
      "execution_count": 53,
      "outputs": []
    },
    {
      "cell_type": "code",
      "metadata": {
        "id": "NmNszbkGEWmG"
      },
      "source": [
        "# 다중입력모델 (Functional API 사용)\n",
        "\n",
        "# 중심 단어를 위한 임베딩 테이블\n",
        "w_inputs = Input(shape=(1, ), dtype='int32')\n",
        "word_embedding = Embedding(vocab_size, embed_size)(w_inputs)\n",
        "\n",
        "# 주변 단어를 위한 임베딩 테이블\n",
        "c_inputs = Input(shape=(1, ), dtype='int32')\n",
        "context_embedding  = Embedding(vocab_size, embed_size)(c_inputs)\n",
        "\n",
        "# 임베딩 테이블을 통해 얻은 두 단어벡터 내적\n",
        "dot_product = Dot(axes=2)([word_embedding, context_embedding])\n",
        "dot_product = Reshape((1,), input_shape=(1, 1))(dot_product)\n",
        "output = Activation('sigmoid')(dot_product)"
      ],
      "execution_count": 54,
      "outputs": []
    },
    {
      "cell_type": "markdown",
      "metadata": {
        "id": "cTvgvU1fEtDu"
      },
      "source": [
        "* 각 임베딩 테이블은 중심 단어와 주변 단어 각각을 위한 임베딩 테이블\n",
        "* 각 단어는 임베딩 테이블을 거친 뒤 내적을 수행\n",
        "* 내적의 결과는 1 또는 0을 예측하기 위해서 시그모이드 함수를 활성화 함수로 거쳐 최종 예측값을 계산"
      ]
    },
    {
      "cell_type": "code",
      "metadata": {
        "colab": {
          "base_uri": "https://localhost:8080/"
        },
        "id": "tbcEPiopEd0g",
        "outputId": "7eaf1a10-583f-4a47-f204-e2aa2ccfd3a1"
      },
      "source": [
        "model = Model(inputs=[w_inputs, c_inputs], outputs=output)\n",
        "model.summary()"
      ],
      "execution_count": 55,
      "outputs": [
        {
          "output_type": "stream",
          "name": "stdout",
          "text": [
            "Model: \"model\"\n",
            "__________________________________________________________________________________________________\n",
            "Layer (type)                    Output Shape         Param #     Connected to                     \n",
            "==================================================================================================\n",
            "input_1 (InputLayer)            [(None, 1)]          0                                            \n",
            "__________________________________________________________________________________________________\n",
            "input_2 (InputLayer)            [(None, 1)]          0                                            \n",
            "__________________________________________________________________________________________________\n",
            "embedding (Embedding)           (None, 1, 100)       6427700     input_1[0][0]                    \n",
            "__________________________________________________________________________________________________\n",
            "embedding_1 (Embedding)         (None, 1, 100)       6427700     input_2[0][0]                    \n",
            "__________________________________________________________________________________________________\n",
            "dot (Dot)                       (None, 1, 1)         0           embedding[0][0]                  \n",
            "                                                                 embedding_1[0][0]                \n",
            "__________________________________________________________________________________________________\n",
            "reshape (Reshape)               (None, 1)            0           dot[0][0]                        \n",
            "__________________________________________________________________________________________________\n",
            "activation (Activation)         (None, 1)            0           reshape[0][0]                    \n",
            "==================================================================================================\n",
            "Total params: 12,855,400\n",
            "Trainable params: 12,855,400\n",
            "Non-trainable params: 0\n",
            "__________________________________________________________________________________________________\n"
          ]
        }
      ]
    },
    {
      "cell_type": "code",
      "metadata": {
        "colab": {
          "base_uri": "https://localhost:8080/",
          "height": 501
        },
        "id": "86ZfSanVFHpo",
        "outputId": "46828f72-0a56-491f-8ea0-db272ce4f7cf"
      },
      "source": [
        "model.compile(loss='binary_crossentropy', optimizer='adam')\n",
        "plot_model(model, to_file='model3.png', show_shapes=True, show_layer_names=True, rankdir='TB')"
      ],
      "execution_count": 56,
      "outputs": [
        {
          "output_type": "execute_result",
          "data": {
            "image/png": "[encoded data removed]",
            "text/plain": [
              "<IPython.core.display.Image object>"
            ]
          },
          "metadata": {},
          "execution_count": 56
        }
      ]
    },
    {
      "cell_type": "code",
      "metadata": {
        "colab": {
          "base_uri": "https://localhost:8080/"
        },
        "id": "8GhavKRzEf7m",
        "outputId": "28ee86d2-8e82-4750-d3bf-cb959f0ce89e"
      },
      "source": [
        "for epoch in range(1, 6):\n",
        "    loss = 0\n",
        "    for _, elem in enumerate(skip_grams):\n",
        "        first_elem = np.array(list(zip(*elem[0]))[0], dtype='int32')\n",
        "        second_elem = np.array(list(zip(*elem[0]))[1], dtype='int32')\n",
        "        labels = np.array(elem[1], dtype='int32')\n",
        "        X = [first_elem, second_elem]\n",
        "        Y = labels\n",
        "        loss += model.train_on_batch(X,Y)  \n",
        "    print('Epoch :',epoch, 'Loss :',loss)"
      ],
      "execution_count": 57,
      "outputs": [
        {
          "output_type": "stream",
          "name": "stdout",
          "text": [
            "Epoch : 1 Loss : 4629.55679878965\n",
            "Epoch : 2 Loss : 3683.304484920576\n",
            "Epoch : 3 Loss : 3534.595868850127\n",
            "Epoch : 4 Loss : 3327.5409430637956\n",
            "Epoch : 5 Loss : 3100.774100350216\n"
          ]
        }
      ]
    },
    {
      "cell_type": "markdown",
      "metadata": {
        "id": "WMM3Y35aPhKa"
      },
      "source": [
        "* ```zip(*arg)```\n",
        " * 함수의 인수에 *를 붙여서 입력하면 2차원 리스트에서 row가 아닌 col끼리 서로 엮어줌 (axis = 1)\n",
        "* ```model.train_on_batch```\n",
        " * 하나의 데이터 배치에 대해서 경사 업데이트를 1회 실시합니다."
      ]
    },
    {
      "cell_type": "markdown",
      "metadata": {
        "id": "qTXFuUQWqwEf"
      },
      "source": [
        "### 4.2.4 Result"
      ]
    },
    {
      "cell_type": "code",
      "metadata": {
        "id": "6Go6zO4dEhMO"
      },
      "source": [
        "import gensim"
      ],
      "execution_count": 58,
      "outputs": []
    },
    {
      "cell_type": "code",
      "metadata": {
        "id": "hVFy8pcFqzJ3"
      },
      "source": [
        "# 임베딩 벡터 테이블 저장\n",
        "f = open('vectors.txt' ,'w')\n",
        "\n",
        "f.write('{} {}\\n'.format(vocab_size-1, embed_size))\n",
        "vectors = model.get_weights()[0]\n",
        "for word, i in tokenizer.word_index.items():\n",
        "    f.write('{} {}\\n'.format(word, ' '.join(map(str, list(vectors[i, :])))))\n",
        "\n",
        "f.close()"
      ],
      "execution_count": 59,
      "outputs": []
    },
    {
      "cell_type": "code",
      "metadata": {
        "id": "ocVh2qReEi5u"
      },
      "source": [
        "w2v = gensim.models.KeyedVectors.load_word2vec_format('./vectors.txt', binary=False)"
      ],
      "execution_count": 60,
      "outputs": []
    },
    {
      "cell_type": "code",
      "metadata": {
        "colab": {
          "base_uri": "https://localhost:8080/"
        },
        "id": "rGl8qA6NEjyS",
        "outputId": "1e817d8e-8e20-4c67-d8e6-8d514089f1bf"
      },
      "source": [
        "w2v.most_similar(positive=['soldiers'])"
      ],
      "execution_count": 61,
      "outputs": [
        {
          "output_type": "execute_result",
          "data": {
            "text/plain": [
              "[('bemoaning', 0.7770929336547852),\n",
              " ('shelling', 0.7749819755554199),\n",
              " ('withdrew', 0.7732988595962524),\n",
              " ('villages', 0.7697315812110901),\n",
              " ('towns', 0.7683924436569214),\n",
              " ('retaliation', 0.7675638198852539),\n",
              " ('massacred', 0.7609399557113647),\n",
              " ('disarmed', 0.7508403062820435),\n",
              " ('wounded', 0.7503498196601868),\n",
              " ('fleeing', 0.7500933408737183)]"
            ]
          },
          "metadata": {},
          "execution_count": 61
        }
      ]
    },
    {
      "cell_type": "code",
      "metadata": {
        "colab": {
          "base_uri": "https://localhost:8080/"
        },
        "id": "RNFYp44wEklQ",
        "outputId": "323e09e8-122f-42e6-9d21-2eded6c11287"
      },
      "source": [
        "w2v.most_similar(positive=['doctor'])"
      ],
      "execution_count": 62,
      "outputs": [
        {
          "output_type": "execute_result",
          "data": {
            "text/plain": [
              "[('stopping', 0.5949554443359375),\n",
              " ('patient', 0.56290602684021),\n",
              " ('allergic', 0.5521577596664429),\n",
              " ('headaches', 0.5512917637825012),\n",
              " ('heart', 0.5493628978729248),\n",
              " ('liking', 0.5368105173110962),\n",
              " ('pain', 0.52799391746521),\n",
              " ('quack', 0.5137800574302673),\n",
              " ('meal', 0.5044955015182495),\n",
              " ('bruise', 0.49811968207359314)]"
            ]
          },
          "metadata": {},
          "execution_count": 62
        }
      ]
    },
    {
      "cell_type": "code",
      "metadata": {
        "colab": {
          "base_uri": "https://localhost:8080/"
        },
        "id": "MbOajSNEEldt",
        "outputId": "b825c3da-8b10-41ef-c305-dfd687c0a1cf"
      },
      "source": [
        "w2v.most_similar(positive=['police'])"
      ],
      "execution_count": 63,
      "outputs": [
        {
          "output_type": "execute_result",
          "data": {
            "text/plain": [
              "[('officers', 0.6116905808448792),\n",
              " ('houses', 0.5614897012710571),\n",
              " ('accused', 0.5601733326911926),\n",
              " ('armed', 0.5528470277786255),\n",
              " ('suspend', 0.5510799288749695),\n",
              " ('ammunition', 0.5506342649459839),\n",
              " ('concealed', 0.5420693755149841),\n",
              " ('defend', 0.5318718552589417),\n",
              " ('prisoners', 0.5305759906768799),\n",
              " ('weapons', 0.5279604196548462)]"
            ]
          },
          "metadata": {},
          "execution_count": 63
        }
      ]
    },
    {
      "cell_type": "code",
      "metadata": {
        "colab": {
          "base_uri": "https://localhost:8080/"
        },
        "id": "kqn6Du-IEmUt",
        "outputId": "ad11e1c1-5121-48d0-9dfe-1480fd0eb583"
      },
      "source": [
        "w2v.most_similar(positive=['knife'])"
      ],
      "execution_count": 64,
      "outputs": [
        {
          "output_type": "execute_result",
          "data": {
            "text/plain": [
              "[('saddam', 0.7506735324859619),\n",
              " ('involvement', 0.744055986404419),\n",
              " ('began', 0.7370647192001343),\n",
              " ('deeds', 0.7239992618560791),\n",
              " ('innocent', 0.7218998670578003),\n",
              " ('miniscule', 0.718147873878479),\n",
              " ('minority', 0.6984174847602844),\n",
              " ('liar', 0.6969383955001831),\n",
              " ('peaceful', 0.690329372882843),\n",
              " ('slaughtering', 0.6902257800102234)]"
            ]
          },
          "metadata": {},
          "execution_count": 64
        }
      ]
    },
    {
      "cell_type": "code",
      "metadata": {
        "colab": {
          "base_uri": "https://localhost:8080/"
        },
        "id": "ShWl2HnmEnOZ",
        "outputId": "8bdac547-f6cd-49ac-932c-7bf7828d5f13"
      },
      "source": [
        "w2v.most_similar(positive=['engine'])"
      ],
      "execution_count": 65,
      "outputs": [
        {
          "output_type": "execute_result",
          "data": {
            "text/plain": [
              "[('brake', 0.6130862236022949),\n",
              " ('valve', 0.5836495161056519),\n",
              " ('rebuilt', 0.5791158676147461),\n",
              " ('speeds', 0.5678214430809021),\n",
              " ('clutch', 0.5651389360427856),\n",
              " ('horn', 0.5632684230804443),\n",
              " ('brakes', 0.5436698198318481),\n",
              " ('trunk', 0.5344934463500977),\n",
              " ('front', 0.5215569734573364),\n",
              " ('rear', 0.5177029371261597)]"
            ]
          },
          "metadata": {},
          "execution_count": 65
        }
      ]
    },
    {
      "cell_type": "markdown",
      "metadata": {
        "id": "gqJZyK2alJFm"
      },
      "source": [
        "# 5) GloVe"
      ]
    },
    {
      "cell_type": "markdown",
      "metadata": {
        "id": "jMpj_QQ2mH_m"
      },
      "source": [
        "https://github.com/injoon-pij/pytorch-learning/blob/master/pytorch_word_embedding.ipynb\n",
        "\n",
        "위 링크의 __5) GloVe__ 참고"
      ]
    },
    {
      "cell_type": "markdown",
      "metadata": {
        "id": "IZgB9VMioBsH"
      },
      "source": [
        "# 6) FastText"
      ]
    },
    {
      "cell_type": "markdown",
      "metadata": {
        "id": "y3f9lRBnq-yh"
      },
      "source": [
        "페이스북에서 개발한 단어를 벡터로 만드는 방법\n",
        "\n",
        "* Word2Vec는 단어를 쪼개질 수 없는 단위로 생각한다면, FastText는 하나의 단어 안에도 여러 단어들이 존재하는 것으로 간주함(내부 단어(subword)를 고려) 즉, 각 단어를 __글자 단위 n-gram의 구성으로 취급__\n",
        " * (ex) apple\n",
        "   * (n=3) <ap, app, ppl, ple, le> , \\<apple>\n",
        "   * n-gram 외에도 기존 단어에 <, 와 >를 붙인 특별토큰도 벡터화함\n",
        " * 실제 사용할 때는 n의 최소값과 최대값으로 범위를 설정할 수 있음(기본값 : 3, 6)\n",
        "   * (n=3~6) <ap, app, ppl, ppl, le>, <app, appl, pple, ple>, <appl, pple>, ..., \\<apple>\n",
        " * 내부 단어들(n-gram)에 대해서 Word2Vec을 수행하고, 그 벡터값들을 총 합친 것이 기존 단어의 벡터값이 됨\n",
        "   * apple = <ap + app + ppl + ppl + le> + <app + appl + pple + ple> + <appl + pple> + , ..., + \\<apple>\n",
        "\n",
        "* 내부 단어를 통해 모르는 단어(Out Of Vocabulary, OOV)에 대해서도 다른 단어와의 유사도를 계산할 수 있음\n",
        " * FastText에서 birthplace란 단어를 학습하지 않았어도 다른 단어에서 birth와 place라는 내부 단어가 있었다면, FastText는 birthplace의 벡터를 얻을 수 있음\n",
        " * OOV에 제대로 대처할 수 없는 Word2Vec, GloVe와 다른 점\n",
        "\n",
        "* 단어의 등장 빈도 수가 적은 희귀 단어라도, 그 단어의 n-gram이 다른 단어의 n-gram과 겹치는 경우라면, 비교적 높은 정확도의 임베딩 벡터값을 가짐\n",
        " * 이러한 원리로 노이즈가 많은 코퍼스에서 강점을 가짐\n",
        " * 많은 실제 비정형 데이터에는 오타가 섞여있는데, 등장 빈도가 적어 희귀 단어에 속하는 오타 섞인 단어를 Word2Vec에 비해 비교적 정확하게 임베딩함\n",
        "   * Word2Vec의 경우 등장 빈도 수가 적은 단어에 대해서는 참고할 수 있는 경우의 수가 적다보니 임베딩의 정확도가 높지 않다는 단점이 있음\n",
        " * 예를 들어 단어 apple과 오타로 p를 한 번 더 입력한 appple의 경우에는 많은 개수의 동일한 n-gram을 가질 것이므로 임베딩된 벡터값이 비슷할 것임"
      ]
    },
    {
      "cell_type": "markdown",
      "metadata": {
        "id": "gC2m6pbmrHcg"
      },
      "source": [
        "## 6.1 Word2Vec vs. FastText"
      ]
    },
    {
      "cell_type": "markdown",
      "metadata": {
        "id": "mgpUgvw1ryT5"
      },
      "source": [
        "2.1 에서 사용한 Word2Vec 모델 사용\n",
        "\n",
        "\"electrofishing\" : OOV"
      ]
    },
    {
      "cell_type": "code",
      "metadata": {
        "id": "SyphRCpnoHU2",
        "colab": {
          "base_uri": "https://localhost:8080/",
          "height": 322
        },
        "outputId": "315e4c95-70b8-4f01-eecd-0ea5447ac7aa"
      },
      "source": [
        "model.wv.most_similar(\"electrofishing\")"
      ],
      "execution_count": 20,
      "outputs": [
        {
          "output_type": "error",
          "ename": "KeyError",
          "evalue": "ignored",
          "traceback": [
            "\u001b[0;31m---------------------------------------------------------------------------\u001b[0m",
            "\u001b[0;31mKeyError\u001b[0m                                  Traceback (most recent call last)",
            "\u001b[0;32m<ipython-input-20-f9544fe3d5e9>\u001b[0m in \u001b[0;36m<module>\u001b[0;34m()\u001b[0m\n\u001b[0;32m----> 1\u001b[0;31m \u001b[0mmodel\u001b[0m\u001b[0;34m.\u001b[0m\u001b[0mwv\u001b[0m\u001b[0;34m.\u001b[0m\u001b[0mmost_similar\u001b[0m\u001b[0;34m(\u001b[0m\u001b[0;34m\"electrofishing\"\u001b[0m\u001b[0;34m)\u001b[0m\u001b[0;34m\u001b[0m\u001b[0;34m\u001b[0m\u001b[0m\n\u001b[0m",
            "\u001b[0;32m/usr/local/lib/python3.7/dist-packages/gensim/models/keyedvectors.py\u001b[0m in \u001b[0;36mmost_similar\u001b[0;34m(self, positive, negative, topn, restrict_vocab, indexer)\u001b[0m\n\u001b[1;32m    529\u001b[0m                 \u001b[0mmean\u001b[0m\u001b[0;34m.\u001b[0m\u001b[0mappend\u001b[0m\u001b[0;34m(\u001b[0m\u001b[0mweight\u001b[0m \u001b[0;34m*\u001b[0m \u001b[0mword\u001b[0m\u001b[0;34m)\u001b[0m\u001b[0;34m\u001b[0m\u001b[0;34m\u001b[0m\u001b[0m\n\u001b[1;32m    530\u001b[0m             \u001b[0;32melse\u001b[0m\u001b[0;34m:\u001b[0m\u001b[0;34m\u001b[0m\u001b[0;34m\u001b[0m\u001b[0m\n\u001b[0;32m--> 531\u001b[0;31m                 \u001b[0mmean\u001b[0m\u001b[0;34m.\u001b[0m\u001b[0mappend\u001b[0m\u001b[0;34m(\u001b[0m\u001b[0mweight\u001b[0m \u001b[0;34m*\u001b[0m \u001b[0mself\u001b[0m\u001b[0;34m.\u001b[0m\u001b[0mword_vec\u001b[0m\u001b[0;34m(\u001b[0m\u001b[0mword\u001b[0m\u001b[0;34m,\u001b[0m \u001b[0muse_norm\u001b[0m\u001b[0;34m=\u001b[0m\u001b[0;32mTrue\u001b[0m\u001b[0;34m)\u001b[0m\u001b[0;34m)\u001b[0m\u001b[0;34m\u001b[0m\u001b[0;34m\u001b[0m\u001b[0m\n\u001b[0m\u001b[1;32m    532\u001b[0m                 \u001b[0;32mif\u001b[0m \u001b[0mword\u001b[0m \u001b[0;32min\u001b[0m \u001b[0mself\u001b[0m\u001b[0;34m.\u001b[0m\u001b[0mvocab\u001b[0m\u001b[0;34m:\u001b[0m\u001b[0;34m\u001b[0m\u001b[0;34m\u001b[0m\u001b[0m\n\u001b[1;32m    533\u001b[0m                     \u001b[0mall_words\u001b[0m\u001b[0;34m.\u001b[0m\u001b[0madd\u001b[0m\u001b[0;34m(\u001b[0m\u001b[0mself\u001b[0m\u001b[0;34m.\u001b[0m\u001b[0mvocab\u001b[0m\u001b[0;34m[\u001b[0m\u001b[0mword\u001b[0m\u001b[0;34m]\u001b[0m\u001b[0;34m.\u001b[0m\u001b[0mindex\u001b[0m\u001b[0;34m)\u001b[0m\u001b[0;34m\u001b[0m\u001b[0;34m\u001b[0m\u001b[0m\n",
            "\u001b[0;32m/usr/local/lib/python3.7/dist-packages/gensim/models/keyedvectors.py\u001b[0m in \u001b[0;36mword_vec\u001b[0;34m(self, word, use_norm)\u001b[0m\n\u001b[1;32m    450\u001b[0m             \u001b[0;32mreturn\u001b[0m \u001b[0mresult\u001b[0m\u001b[0;34m\u001b[0m\u001b[0;34m\u001b[0m\u001b[0m\n\u001b[1;32m    451\u001b[0m         \u001b[0;32melse\u001b[0m\u001b[0;34m:\u001b[0m\u001b[0;34m\u001b[0m\u001b[0;34m\u001b[0m\u001b[0m\n\u001b[0;32m--> 452\u001b[0;31m             \u001b[0;32mraise\u001b[0m \u001b[0mKeyError\u001b[0m\u001b[0;34m(\u001b[0m\u001b[0;34m\"word '%s' not in vocabulary\"\u001b[0m \u001b[0;34m%\u001b[0m \u001b[0mword\u001b[0m\u001b[0;34m)\u001b[0m\u001b[0;34m\u001b[0m\u001b[0;34m\u001b[0m\u001b[0m\n\u001b[0m\u001b[1;32m    453\u001b[0m \u001b[0;34m\u001b[0m\u001b[0m\n\u001b[1;32m    454\u001b[0m     \u001b[0;32mdef\u001b[0m \u001b[0mget_vector\u001b[0m\u001b[0;34m(\u001b[0m\u001b[0mself\u001b[0m\u001b[0;34m,\u001b[0m \u001b[0mword\u001b[0m\u001b[0;34m)\u001b[0m\u001b[0;34m:\u001b[0m\u001b[0;34m\u001b[0m\u001b[0;34m\u001b[0m\u001b[0m\n",
            "\u001b[0;31mKeyError\u001b[0m: \"word 'electrofishing' not in vocabulary\""
          ]
        }
      ]
    },
    {
      "cell_type": "code",
      "metadata": {
        "id": "8f0Bg098rtFj"
      },
      "source": [
        "from gensim.models import FastText\n",
        "model = FastText(result, size=100, window=5, min_count=5, workers=4, sg=1)"
      ],
      "execution_count": 21,
      "outputs": []
    },
    {
      "cell_type": "code",
      "metadata": {
        "colab": {
          "base_uri": "https://localhost:8080/"
        },
        "id": "DJ0bPEkOrupT",
        "outputId": "9c3f9f79-0edd-45a2-ad3a-e8ffe9964bcf"
      },
      "source": [
        "model.wv.most_similar(\"electrofishing\")"
      ],
      "execution_count": 22,
      "outputs": [
        {
          "output_type": "execute_result",
          "data": {
            "text/plain": [
              "[('electrolux', 0.8201629519462585),\n",
              " ('electrolyte', 0.8098382353782654),\n",
              " ('electro', 0.8047101497650146),\n",
              " ('electric', 0.7940026521682739),\n",
              " ('electrochemical', 0.7829729318618774),\n",
              " ('electrogram', 0.774043619632721),\n",
              " ('electroshock', 0.7740335464477539),\n",
              " ('electroencephalogram', 0.7669188380241394),\n",
              " ('airbus', 0.7570081353187561),\n",
              " ('electron', 0.7567839622497559)]"
            ]
          },
          "metadata": {},
          "execution_count": 22
        }
      ]
    },
    {
      "cell_type": "markdown",
      "metadata": {
        "id": "HhWRo0_fr8xV"
      },
      "source": [
        "Word2Vec는 학습하지 않은 단어에 대해서 유사한 단어를 찾아내지 못 했지만, FastText는 유사한 단어를 계산해서 출력함"
      ]
    },
    {
      "cell_type": "markdown",
      "metadata": {
        "id": "xWikkpLSrQI_"
      },
      "source": [
        "## 6.2 FastText in Korean"
      ]
    },
    {
      "cell_type": "markdown",
      "metadata": {
        "id": "d_kOpQ8TrcCO"
      },
      "source": [
        "1. 음절단위 임베딩\n",
        " * ex) 자연어처리 -> <자연, 자연어, 연어처, 어처리, 처리> (n=3)\n",
        "\n",
        "2. 자모 단위 임베딩\n",
        " * 오타나 노이즈 측면에서 더 강한 임베딩을 기대해볼 수 있음\n",
        " * ex) 자연어처리 -> < ㅈ ㅏ, ㅈ ㅏ _, ㅏ _ ㅇ, ... (n=3)"
      ]
    }
  ]
}